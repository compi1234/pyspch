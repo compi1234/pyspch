{
 "cells": [
  {
   "cell_type": "markdown",
   "metadata": {
    "slideshow": {
     "slide_type": "slide"
    }
   },
   "source": [
    "## Data & Speech Science Python Environments\n",
    "\n",
    "We have tried to consolidate a prototype working environment, \n",
    "that can run on conda installations on PC and MAC and on Google Colab and that hopefully for a few years to go.   \n",
    "Focus is on audio, machine learning and Jupyter notebooks\n",
    "\n",
    "\n",
    "#### Target Applications/Notebooks/Courses\n",
    "\n",
    "- [spchlab - speech recognition laboratory H02A6, 2023](https://github.com/compi1234/spchlab/tree/2021)\n",
    "- [Machine Learning 3rd Edition, Sebastion Rascka, 2019 ](https://github.com/rasbt/python-machine-learning-book-3rd-edition)\n",
    "- [IPython Cookbook, Second Edition,Cyrille Rossant, 2018](https://github.com/ipython-books/cookbook-2nd-code)\n",
    "- [Fundamentals of Music Processing,Meinard Muller, 2015](https://www.audiolabs-erlangen.de/resources/MIR/FMP/C0/C0.html)"
   ]
  },
  {
   "cell_type": "markdown",
   "metadata": {
    "tags": []
   },
   "source": [
    "## Environment Recommendations \n",
    "\n",
    "### Reference .yml files\n",
    "Look in the main directory for py37.yml, py39.yml, ... \n",
    "file names are self explanatory\n",
    "\n",
    "### Will your current environment on your PC work ?\n",
    "\n",
    "Your environment is likely to work if you have\n",
    "- Python >= 3.7\n",
    "- up to date installations of:\n",
    "    - numpy, scipy, pandas, matplotlib, seaborn, scikit-learn\n",
    "    - soundfile, sounddevice, librosa\n",
    "- for some packages a downgrade may be needed to following recommended versions\n",
    "     - librosa == 0.8.1 (0.9 may work)\n",
    "\n",
    "\n",
    "### A working env for Python 3.7 dd. 15/03/2021\n",
    "\n",
    "The recommended setup includes:   \n",
    "\n",
    "- Python  >= 3.7.*\n",
    "- NumPy   >= 1.19.*\n",
    "- SciPy   >= 1.4.*\n",
    "- scikit-learn >= 0.23.0\n",
    "- matplotlib   >= 3.2.2\n",
    "- pandas       >= 1.0.0\n",
    "\n",
    "Packages with known version restrictions in certain or all environments\n",
    "\n",
    "- librosa   == 0.8.1               \n",
    "- soundfile >= 0.9\n",
    "- IPython   >= 7.21.0 \n",
    "- pydub                needs to be pip installed on conda / Colab\n",
    "- ffmpeg               needs to be pip installed on Windows+conda / Colab\n",
    "\n",
    "\n",
    "### Torch and Torchaudio\n",
    "\n",
    "Some modules in pyspch require torch and torchaudio.\n",
    "Torchaudio has rapidly evolved in the past years in parallel with the pyspch pkg which make it the least stable pkg interference.\n",
    "Moreover there are known incompatibilities with (non CUDA) MAC and our recomendations are thus valid for  Colab / LINUX / Windows+CUDA\n",
    "\n",
    "Try the latest stable versions\n"
   ]
  },
  {
   "cell_type": "code",
   "execution_count": null,
   "metadata": {},
   "outputs": [],
   "source": []
  },
  {
   "cell_type": "markdown",
   "metadata": {},
   "source": [
    "#### Utility code for finding versions of core packages in your current environment and system"
   ]
  },
  {
   "cell_type": "code",
   "execution_count": 5,
   "metadata": {},
   "outputs": [],
   "source": [
    "# some code copied/inspired/modified from Raschka -- watermark \n",
    "import os, sys, platform, datetime, subprocess\n",
    "import importlib\n",
    "try:\n",
    "    import importlib.metadata as importlib_metadata\n",
    "except ImportError:\n",
    "    # Running on pre-3.8 Python; use importlib-metadata package\n",
    "    import importlib_metadata\n",
    "    \n",
    "def get_version(of_what='platform'):\n",
    "    if of_what == 'platform':\n",
    "        print('Date'.ljust(17)+\":\",datetime.datetime.now())\n",
    "        my_sys = platform.uname()\n",
    "        print('System'.ljust(17)+\":\",my_sys[0]+' '+my_sys[2]+' build='+my_sys[3])\n",
    "        print('Node'.ljust(17)+\":\",my_sys[1])\n",
    "        print('Python'.ljust(17)+\":\",platform.python_version())\n",
    "        #print('Environment'.ljust(17)+\":\",os.environ)\n",
    "        try: print('Conda Env'.ljust(17)+\":\",os.environ['CONDA_DEFAULT_ENV'])\n",
    "        except: pass\n",
    "        try: print('CUDA'.ljust(17)+\":\",os.environ['CUDA_VERSION'])\n",
    "        except: pass\n",
    "        return\n",
    "    elif of_what == 'jupyter':\n",
    "        !jupyter --version\n",
    "        return\n",
    "    elif of_what == 'nodejs':\n",
    "        try: \n",
    "            returned_value = subprocess.check_output(\"node --version\").decode(\"utf-8\")\n",
    "        except:\n",
    "            returned_value = \"Not Installed\"\n",
    "        print(\"nodejs           : \"+returned_value)\n",
    "    else:\n",
    "        for package in of_what.split(\",\"):\n",
    "            print( package.ljust(17) +\": \" + _get_package_version(package) )\n",
    "        return\n",
    "\n",
    "def _get_package_version(pkg_name):\n",
    "    \"\"\"Return the version of a given package\"\"\"\n",
    "    try:\n",
    "        imported = importlib.import_module(pkg_name)\n",
    "    except :  # most problem will be 'ImportError', but TensorFlow on Colab throws something different:\n",
    "        version = \"not installed\"\n",
    "    else:\n",
    "        try:\n",
    "            version = importlib_metadata.version(pkg_name)\n",
    "        except importlib_metadata.PackageNotFoundError:\n",
    "            try:\n",
    "                version = imported.__version__\n",
    "            except AttributeError:\n",
    "                try:\n",
    "                    version = imported.version\n",
    "                except AttributeError:\n",
    "                    try:\n",
    "                        version = imported.version_info\n",
    "                    except AttributeError:\n",
    "                        version = \"unknown\"\n",
    "    return version"
   ]
  },
  {
   "cell_type": "code",
   "execution_count": 6,
   "metadata": {},
   "outputs": [
    {
     "name": "stdout",
     "output_type": "stream",
     "text": [
      "-----   Platform   --------\n",
      "Date             : 2023-01-26 12:14:42.316426\n",
      "System           : Darwin 21.5.0 build=Darwin Kernel Version 21.5.0: Tue Apr 26 21:08:22 PDT 2022; root:xnu-8020.121.3~4/RELEASE_X86_64\n",
      "Node             : MacBook-Pro-D2020.local\n",
      "Python           : 3.7.13\n",
      "Conda Env        : py37_x\n",
      " \n",
      "-----   Jupyter  --------\n",
      "Selected Jupyter core packages...\n",
      "IPython          : 7.33.0\n",
      "ipykernel        : 6.16.2\n",
      "ipywidgets       : 8.0.4\n",
      "jupyter_client   : 7.4.8\n",
      "jupyter_core     : 4.11.1\n",
      "jupyter_server   : 1.23.4\n",
      "jupyterlab       : 3.4.8\n",
      "nbclient         : 0.7.0\n",
      "nbconvert        : 7.2.7\n",
      "nbformat         : 5.7.1\n",
      "notebook         : 6.5.2\n",
      "qtconsole        : not installed\n",
      "traitlets        : 5.8.1\n",
      "nodejs           : Not Installed\n",
      " \n",
      "-----   Core Packages  -------\n",
      "urllib.request   : 3.7\n",
      "pip              : 21.1.3\n",
      "numpy            : 1.21.6\n",
      "scipy            : 1.7.3\n",
      "pandas           : 1.3.5\n",
      "sklearn          : 1.0.2\n",
      "matplotlib       : 3.2.2\n",
      " \n",
      " ------ Audio Packages  -----\n",
      "sounddevice      : 0.4.5\n",
      "soundfile        : 0.11.0\n",
      "librosa          : 0.8.1\n",
      "pydub            : 0.25.1\n",
      "ffmpeg           : not installed\n",
      "torchaudio       : not installed\n",
      " \n",
      " ------ Other Utilities -----\n",
      "torch            : not installed\n",
      "tensorflow       : not installed\n",
      "seaborn          : 0.11.2\n",
      "plotly           : not installed\n",
      "graphviz         : not installed\n"
     ]
    }
   ],
   "source": [
    "print(\"-----   Platform   --------\") \n",
    "get_version()    \n",
    "print(\" \")\n",
    "print( '-----   Jupyter  --------')\n",
    "try: get_version('jupyter')\n",
    "except: get_version(\"IPython,ipykernel,ipywidgets\")\n",
    "get_version(\"nodejs\")\n",
    "print(\" \")\n",
    "print( '-----   Core Packages  -------')\n",
    "get_version(\"urllib.request,pip,numpy,scipy,pandas,sklearn,matplotlib\")\n",
    "print(' ')\n",
    "print(' ------ Audio Packages  -----')\n",
    "get_version(\"sounddevice,soundfile,librosa,pydub,ffmpeg,torchaudio\")\n",
    "print(' ')\n",
    "print(' ------ Other Utilities -----')\n",
    "get_version(\"torch,tensorflow,seaborn,plotly,graphviz\")"
   ]
  },
  {
   "cell_type": "markdown",
   "metadata": {},
   "source": [
    "## Working with environments\n",
    "\n",
    "- see [conda webpages](https://docs.conda.io/projects/conda/en/latest/user-guide/tasks/manage-environments.html#updating-an-environment) for how to deal with environments\n",
    "\n",
    "- some examples\n",
    "> conda create --name py37 python=3.7 numpy scipy matplotlib jupyter   \n",
    "> conda env create -f py37.yml   \n",
    "> conda env update --file py37.yml   \n",
    "> conda env list   \n",
    "> conda activate py37  \n",
    "> conda env remove --name py37   "
   ]
  },
  {
   "cell_type": "code",
   "execution_count": null,
   "metadata": {},
   "outputs": [],
   "source": []
  }
 ],
 "metadata": {
  "kernelspec": {
   "display_name": "Python 3 (ipykernel)",
   "language": "python",
   "name": "python3"
  },
  "language_info": {
   "codemirror_mode": {
    "name": "ipython",
    "version": 3
   },
   "file_extension": ".py",
   "mimetype": "text/x-python",
   "name": "python",
   "nbconvert_exporter": "python",
   "pygments_lexer": "ipython3",
   "version": "3.7.13"
  },
  "widgets": {
   "application/vnd.jupyter.widget-state+json": {
    "state": {},
    "version_major": 2,
    "version_minor": 0
   }
  }
 },
 "nbformat": 4,
 "nbformat_minor": 4
}
