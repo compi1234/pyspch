{
 "cells": [
  {
   "cell_type": "code",
   "execution_count": 1,
   "metadata": {},
   "outputs": [
    {
     "name": "stderr",
     "output_type": "stream",
     "text": [
      "D:\\ProgramFiles\\miniconda3\\envs\\pyspch_edit\\lib\\site-packages\\pydub\\utils.py:170: RuntimeWarning: Couldn't find ffmpeg or avconv - defaulting to ffmpeg, but may not work\n",
      "  warn(\"Couldn't find ffmpeg or avconv - defaulting to ffmpeg, but may not work\", RuntimeWarning)\n"
     ]
    }
   ],
   "source": [
    "import pyspch\n",
    "import pyspch.nn"
   ]
  },
  {
   "cell_type": "markdown",
   "metadata": {},
   "source": [
    "## Dummy setup"
   ]
  },
  {
   "cell_type": "code",
   "execution_count": 2,
   "metadata": {},
   "outputs": [],
   "source": [
    "import random\n",
    "import torch\n",
    "import numpy as np"
   ]
  },
  {
   "cell_type": "code",
   "execution_count": 63,
   "metadata": {},
   "outputs": [],
   "source": [
    "## Dataset\n",
    "\n",
    "# params\n",
    "# params\n",
    "n = 10\n",
    "indim, timedim = 50, 1000\n",
    "outdim = 2\n",
    "label_set = [0, 1]\n",
    "\n",
    "# inputs & labels\n",
    "corpus_list = [str(i) for i in range(n)]\n",
    "input_list = [np.random.randn(indim, timedim) for _ in range(n)]\n",
    "mean_input_list = [np.mean(input, axis=0) for input in input_list]\n",
    "label_list = mean_input_list\n",
    "for label, input in zip(label_list, mean_input_list):\n",
    "    label[input > 0] = label_set[1]\n",
    "    label[input < 0] = label_set[0]\n",
    "    \n",
    "# dataset\n",
    "spchds = pyspch.nn.SpchDataset(corpus_list, input_list, label_list)\n",
    "\n",
    "# sampler\n",
    "lengths = [item.shape[-1] for item in input_list]\n",
    "spchds.set_sampler(lengths, {'N': 5, 'stride': 1, 'mode': 'flatten1d'})\n",
    "\n",
    "# target encoding \n",
    "# lab2idx = {k: i for i, k in enumerate(label_set)}\n",
    "# spchds.encode_target(lab2idx)\n",
    "\n",
    "# format\n",
    "spchds.to_tensor()\n",
    "\n",
    "# to device\n",
    "device = torch.device(\"cuda:0\" if torch.cuda.is_available() else \"cpu\") \n",
    "spchds.to_device(device)"
   ]
  },
  {
   "cell_type": "code",
   "execution_count": 65,
   "metadata": {},
   "outputs": [
    {
     "name": "stdout",
     "output_type": "stream",
     "text": [
      "torch.Size([550])\n",
      "torch.Size([])\n",
      "torch.float32\n",
      "torch.int64\n"
     ]
    }
   ],
   "source": [
    "# example\n",
    "x, y = spchds.__getitem__(5)\n",
    "print(x.shape)\n",
    "print(y.shape)\n",
    "print(x.dtype)\n",
    "print(y.dtype)"
   ]
  },
  {
   "cell_type": "code",
   "execution_count": 66,
   "metadata": {},
   "outputs": [],
   "source": [
    "## Model + training setup\n",
    "\n",
    "# model\n",
    "in_dim = x.shape[0]\n",
    "out_dim = 2\n",
    "hidden_dims = [10, 10]\n",
    "model = pyspch.nn.FFDNN(in_dim, out_dim, hidden_dims)\n",
    "model.to(device)\n",
    "\n",
    "# criterion & optimizer\n",
    "lr = 0.0001\n",
    "weight_decay = 0\n",
    "criterion = torch.nn.CrossEntropyLoss() # applies softmax()\n",
    "optimizer = torch.optim.Adam(model.parameters(), lr=lr, weight_decay=weight_decay)\n",
    "\n",
    "# dataloader\n",
    "batch_size = 64\n",
    "shuffle = True\n",
    "train_dl = torch.utils.data.DataLoader(spchds, batch_size=batch_size, shuffle=shuffle)"
   ]
  },
  {
   "cell_type": "code",
   "execution_count": 67,
   "metadata": {},
   "outputs": [
    {
     "name": "stdout",
     "output_type": "stream",
     "text": [
      "Epoch 0 -- av. train loss per mini-batch 0.70\n",
      "Epoch 5 -- av. train loss per mini-batch 0.65\n",
      "Epoch 10 -- av. train loss per mini-batch 0.55\n",
      "Epoch 15 -- av. train loss per mini-batch 0.41\n",
      "Epoch 20 -- av. train loss per mini-batch 0.29\n",
      "Epoch 25 -- av. train loss per mini-batch 0.20\n",
      "Epoch 30 -- av. train loss per mini-batch 0.15\n",
      "Epoch 35 -- av. train loss per mini-batch 0.12\n",
      "Epoch 40 -- av. train loss per mini-batch 0.09\n",
      "Epoch 45 -- av. train loss per mini-batch 0.08\n"
     ]
    }
   ],
   "source": [
    "## Training\n",
    "\n",
    "# train model\n",
    "n_epochs = 50\n",
    "valid_dl = None\n",
    "patience = 5\n",
    "every = 5 \n",
    "current_epoch = 0\n",
    "tr_loss, val_loss, epoch = pyspch.nn.train(model, train_dl, criterion, optimizer, \n",
    "    clip_args=None, scheduler=None,\n",
    "    current_epoch=current_epoch, n_epochs=n_epochs, \n",
    "    valid_dl=valid_dl, patience=patience, every=every)"
   ]
  }
 ],
 "metadata": {
  "interpreter": {
   "hash": "b489421a811f1a4b6a0e5b207439d4f3161b795084ca1121df5f0f12d80926d7"
  },
  "kernelspec": {
   "display_name": "Python 3.7.12 ('pyspch_edit')",
   "language": "python",
   "name": "python3"
  },
  "language_info": {
   "codemirror_mode": {
    "name": "ipython",
    "version": 3
   },
   "file_extension": ".py",
   "mimetype": "text/x-python",
   "name": "python",
   "nbconvert_exporter": "python",
   "pygments_lexer": "ipython3",
   "version": "3.7.12"
  },
  "orig_nbformat": 4
 },
 "nbformat": 4,
 "nbformat_minor": 2
}
