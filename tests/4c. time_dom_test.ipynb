{
 "cells": [
  {
   "cell_type": "markdown",
   "metadata": {},
   "source": [
    "## Test Notebook for time domain feature extraction\n",
    " \n",
    "Created: 08/04/2022  with v0.6   \n",
    "\n",
    "23/01/2023: verfied v0.7   \n",
    "31/10/2023: v0.8.0 on win11  \n",
    "Last verification: v0.8.2, python3.10 on win11"
   ]
  },
  {
   "cell_type": "code",
   "execution_count": null,
   "metadata": {},
   "outputs": [],
   "source": [
    "#!pip install git+https://github.com/compi1234/pyspch.git\n",
    "try:\n",
    "    import pyspch\n",
    "except ModuleNotFoundError:\n",
    "    try:\n",
    "        print(\n",
    "        \"\"\"\n",
    "        To enable this notebook on platforms as Google Colab, \n",
    "        install the pyspch package and dependencies by running following code:\n",
    "\n",
    "        !pip install git+https://github.com/compi1234/pyspch.git\n",
    "        \"\"\"\n",
    "        )\n",
    "    except ModuleNotFoundError:\n",
    "        raise"
   ]
  },
  {
   "cell_type": "code",
   "execution_count": null,
   "metadata": {},
   "outputs": [],
   "source": [
    "%matplotlib inline\n",
    "import os,sys, math\n",
    "import numpy as np\n",
    "import librosa\n",
    "\n",
    "import pyspch.sp as Sps\n",
    "import pyspch.core as Spch\n",
    "import pyspch.display as Spd\n",
    "\n",
    "import matplotlib.pyplot as plt\n",
    "import matplotlib as mpl\n",
    "\n",
    "mpl.rcParams['figure.figsize'] = [12.0, 8.0]\n",
    "mpl.rcParams['font.size'] = 12\n",
    "mpl.rcParams['legend.fontsize'] = 'large'\n",
    "mpl.rcParams['figure.titlesize'] = 'large'"
   ]
  },
  {
   "cell_type": "markdown",
   "metadata": {},
   "source": [
    "### Load a Data File and segmentation if available"
   ]
  },
  {
   "cell_type": "code",
   "execution_count": null,
   "metadata": {},
   "outputs": [],
   "source": [
    "root = 'https://homes.esat.kuleuven.be/~spchlab/data/'\n",
    "#name = 'misc/bad_bead_booed'\n",
    "name ='misc/b_8k'\n",
    "name = 'misc/friendly'\n",
    "#name = 'timit/si1027'\n",
    "\n",
    "wavdata, sr = Spch.load_data(name+\".wav\",root=root)\n",
    "seg = Spch.load_data(name+\".phn\",root=root)\n",
    "# for timit files use these parameters\n",
    "# seg = Spch.load_data(name+\".phn\",dt=.1/sr,root=root,xlat='timit61_41')\n",
    "\n",
    "# Frame parameters and Spectral Processing\n",
    "shift=0.01\n",
    "length=0.030\n",
    "\n",
    "spg = Sps.spectrogram(wavdata,sample_rate=sr,f_shift=shift,n_mels=None,mode='dB')"
   ]
  },
  {
   "cell_type": "code",
   "execution_count": null,
   "metadata": {},
   "outputs": [],
   "source": [
    "rms,pitch,zcr = Sps.time_dom3(y=wavdata,sr=sr)"
   ]
  },
  {
   "cell_type": "code",
   "execution_count": null,
   "metadata": {},
   "outputs": [],
   "source": [
    "rms.shape, spg.shape, wavdata.shape"
   ]
  },
  {
   "cell_type": "code",
   "execution_count": null,
   "metadata": {},
   "outputs": [],
   "source": [
    "fig = Spd.PlotSpgFtrs(wavdata=wavdata,spgdata=spg,line_ftrs=[rms,pitch,zcr],dy=1,sample_rate=sr,\n",
    "                     row_heights=[1,1,1,1,1])\n",
    "fig.axes[2].set_ylabel(\"RMS\")\n",
    "fig.axes[3].set_ylabel(\"Pitch (Hz)\")\n",
    "fig.axes[4].set_ylabel(\"ZCR (/sec)\")\n",
    "fig.add_line_plot(4*rms,dx=0.01,iax=0)\n",
    "display(fig)"
   ]
  },
  {
   "cell_type": "code",
   "execution_count": null,
   "metadata": {},
   "outputs": [],
   "source": [
    "fig.axes[1].get_xlim(), fig.axes[2].get_xlim(), fig.axes[0].get_xlim()"
   ]
  },
  {
   "cell_type": "code",
   "execution_count": null,
   "metadata": {},
   "outputs": [],
   "source": []
  },
  {
   "cell_type": "code",
   "execution_count": null,
   "metadata": {},
   "outputs": [],
   "source": [
    "rms10,_,_ = Sps.time_dom3(y=wavdata,sr=sr,length=0.01)\n",
    "rms100,_,_ = Sps.time_dom3(y=wavdata,sr=sr,length=0.1)"
   ]
  },
  {
   "cell_type": "code",
   "execution_count": null,
   "metadata": {},
   "outputs": [],
   "source": [
    "fig = Spd.PlotSpgFtrs(wavdata=wavdata,spgdata=spg,  line_ftrs=[rms10,rms,rms100],dy=1,sample_rate=sr,\n",
    "                     row_heights=[1,1,1,1,1])\n",
    "fig.add_seg_plot(seg,iax=3)\n",
    "fig"
   ]
  },
  {
   "cell_type": "markdown",
   "metadata": {},
   "source": [
    "## librosa rms computations\n",
    "- using waveform or spectrum,  spectrum has preemphasis and windowing applied\n",
    "- the center = True (default) makes that it has a frame_shift//2 offset (ahead) vs. pyspch"
   ]
  },
  {
   "cell_type": "code",
   "execution_count": null,
   "metadata": {},
   "outputs": [],
   "source": [
    "rms,pitch,zcr = Sps.time_dom3(y=wavdata,sr=sr,preemp=.95)\n",
    "rmsy = librosa.feature.rms(y=wavdata,frame_length=240,hop_length=80)\n",
    "rmsS = librosa.feature.rms(S=Sps.set_mode(spg,'dB','magnitude'),frame_length=256)\n",
    "fig = Spd.PlotSpgFtrs(wavdata=wavdata,spgdata=spg,  line_ftrs=[rms,rmsy,rmsS],shift=shift,dy=1,sample_rate=sr,\n",
    "                     row_heights=[1,2,1,1,1])\n",
    "fig"
   ]
  },
  {
   "cell_type": "code",
   "execution_count": null,
   "metadata": {},
   "outputs": [],
   "source": [
    "en = Sps.energy(y=wavdata,sr=sr,preemp=.95,mode='dB')\n",
    "fig = Spd.PlotSpgFtrs(wavdata=wavdata,spgdata=spg,  line_ftrs=[rms,en,rmsS],shift=shift,dy=1,sample_rate=sr,\n",
    "                     row_heights=[1,2,1,1,1])\n",
    "fig"
   ]
  },
  {
   "cell_type": "markdown",
   "metadata": {},
   "source": [
    "### Time Domain Features with a short frame shift (5msec) and frame lengths in range of 5-100 msec"
   ]
  },
  {
   "cell_type": "code",
   "execution_count": null,
   "metadata": {},
   "outputs": [],
   "source": [
    "shift = 0.005\n",
    "length = 0.03\n",
    "spg = Sps.spectrogram(wavdata,sample_rate=sr,f_shift=shift,n_mels=None,mode='dB')\n",
    "rms,_,_ = Sps.time_dom3(y=wavdata,sr=sr,shift=shift,length=0.03)\n",
    "rms1,_,_ = Sps.time_dom3(y=wavdata,sr=sr,shift=shift,length=0.005)\n",
    "rms2,_,_ = Sps.time_dom3(y=wavdata,sr=sr,shift=shift,length=0.1)\n",
    "fig = Spd.PlotSpgFtrs(wavdata=wavdata,spgdata=spg,  line_ftrs=[rms1,rms,rms2],shift=shift,dy=1,sample_rate=sr,\n",
    "                     row_heights=[1,1,1,1,1])\n",
    "fig.add_seg_plot(seg,iax=1)\n",
    "fig"
   ]
  },
  {
   "cell_type": "code",
   "execution_count": null,
   "metadata": {},
   "outputs": [],
   "source": []
  }
 ],
 "metadata": {
  "kernelspec": {
   "display_name": "Python 3 (ipykernel)",
   "language": "python",
   "name": "python3"
  },
  "language_info": {
   "codemirror_mode": {
    "name": "ipython",
    "version": 3
   },
   "file_extension": ".py",
   "mimetype": "text/x-python",
   "name": "python",
   "nbconvert_exporter": "python",
   "pygments_lexer": "ipython3",
   "version": "3.10.13"
  },
  "widgets": {
   "application/vnd.jupyter.widget-state+json": {
    "state": {},
    "version_major": 2,
    "version_minor": 0
   }
  }
 },
 "nbformat": 4,
 "nbformat_minor": 4
}
