{
 "cells": [
  {
   "cell_type": "markdown",
   "metadata": {
    "id": "l6uLS2mjFAGy"
   },
   "source": [
    "# Spectrogram Test Notebook\n",
    "\n",
    "This notebook demonstrates the varies functionalities available within the **pyspch.spectrogram** module\n",
    "\n",
    "- plotting of waveforms , spectrograms and segmentations\n",
    "- computation of basic and mel spectrograms (wrappers around libosa)\n",
    "\n",
    "**Dates:**  \n",
    "07/05/2021 , 12/05/2021   \n",
    "v0.6: 24/03/2022, 19/04/2022    \n",
    "v0.7: 26/01/2023   \n",
    "v0.8.0 on win11: 31/10/2023\n",
    "Last verification: v0.8.2, python3.10 on win11"
   ]
  },
  {
   "cell_type": "markdown",
   "metadata": {
    "id": "Nky_0yB5kLx_"
   },
   "source": [
    "## First do all the imports\n"
   ]
  },
  {
   "cell_type": "code",
   "execution_count": null,
   "metadata": {},
   "outputs": [],
   "source": [
    "#!pip install git+https://github.com/compi1234/pyspch.git\n",
    "try:\n",
    "    import pyspch\n",
    "except ModuleNotFoundError:\n",
    "    try:\n",
    "        print(\n",
    "        \"\"\"\n",
    "        To enable this notebook on platforms as Google Colab, \n",
    "        install the pyspch package and dependencies by running following code:\n",
    "\n",
    "        !pip install git+https://github.com/compi1234/pyspch.git\n",
    "        \"\"\"\n",
    "        )\n",
    "    except ModuleNotFoundError:\n",
    "        raise"
   ]
  },
  {
   "cell_type": "code",
   "execution_count": null,
   "metadata": {
    "executionInfo": {
     "elapsed": 1408,
     "status": "ok",
     "timestamp": 1605602917487,
     "user": {
      "displayName": "Dirk Van Compernolle",
      "photoUrl": "",
      "userId": "01011017094742215648"
     },
     "user_tz": -60
    },
    "id": "-g495yAlFAG1"
   },
   "outputs": [],
   "source": [
    "%matplotlib inline\n",
    "import os,sys,io \n",
    "import scipy.signal\n",
    "\n",
    "from urllib.request import urlopen\n",
    "from IPython.display import display, Audio, HTML, clear_output\n",
    "from ipywidgets import interact\n",
    "\n",
    "import math,time\n",
    "import numpy as np\n",
    "import pandas as pd\n",
    "import matplotlib as mpl\n",
    "import matplotlib.pyplot as plt\n",
    "import matplotlib.gridspec as gridspec \n",
    "\n",
    "import librosa as librosa\n",
    "    \n",
    "import pyspch.sp as Sps\n",
    "import pyspch.core as Spch\n",
    "import pyspch.display as Spd"
   ]
  },
  {
   "cell_type": "markdown",
   "metadata": {},
   "source": [
    "## 1. Read in audio data and compute spectrograms"
   ]
  },
  {
   "cell_type": "code",
   "execution_count": null,
   "metadata": {},
   "outputs": [],
   "source": [
    "# read a datafile\n",
    "dir='https://homes.esat.kuleuven.be/~spchlab/data/'\n",
    "#file = \"timit/audio/train/dr1/fcjf0/si1027\" \n",
    "file = \"timit/audio/train/dr2/marc0/sa1\"\n",
    "#file = \"misc/friendly\"\n",
    "wavfile = dir+file+\".wav\" \n",
    "wavdata, sr = Spch.audio.load(wavfile)\n",
    "# assuming TIMIT segmentations given in samples and other segmentations in time(sec's)\n",
    "dt = 1/sr if file.split('/')[0]=='timit' else 1.    # 1/sr for TIMIT files, 1. otherwise\n",
    "\n",
    "# compute a standard spectrogram and a 80 and 24 channel mel filterbank\n",
    "spg1 = Sps.spectrogram(wavdata,sample_rate=sr,n_mels=None)\n",
    "spg80 = Sps.spectrogram(wavdata,sample_rate=sr,n_mels=80)\n",
    "spg24 = Sps.spectrogram(wavdata,sample_rate=sr,n_mels=24)\n",
    "\n",
    "# get segmentations\n",
    "segwrd = Spch.timit.read_seg_file(dir+file+ \".wrd\",dt=dt,fmt='float32')\n",
    "segphn = Spch.timit.read_seg_file(dir+file+ \".phn\",dt=dt,fmt='float32',xlat='timit61_41')"
   ]
  },
  {
   "cell_type": "code",
   "execution_count": null,
   "metadata": {},
   "outputs": [],
   "source": [
    "segwrd"
   ]
  },
  {
   "cell_type": "markdown",
   "metadata": {},
   "source": [
    "#### (a) Basic Plot\n",
    "x-axis is displayed on index basis"
   ]
  },
  {
   "cell_type": "code",
   "execution_count": null,
   "metadata": {},
   "outputs": [],
   "source": [
    "Spd.PlotSpg(spg1)"
   ]
  },
  {
   "cell_type": "markdown",
   "metadata": {},
   "source": [
    "#### to align time waveform and spectrogram, the plotting routine must know a frame shift in samples (or time)"
   ]
  },
  {
   "cell_type": "code",
   "execution_count": null,
   "metadata": {},
   "outputs": [],
   "source": [
    "fig=Spd.PlotSpg(spgdata=spg1,wavdata=wavdata,shift=80,title=\"Waveform+Spectrogram\")\n",
    "display(fig)"
   ]
  },
  {
   "cell_type": "markdown",
   "metadata": {},
   "source": [
    "#### (b) Basic Plot with Physical Units\n",
    "- adding sample_rate to the arguments, everything will be displayed using time-units on the x-axis\n",
    "- ylabel is the label for the frequency axis\n",
    "- The y-axis is inferred from sampling frequency and number of parameters in spg; it could be overridden with a 'dy' parameter"
   ]
  },
  {
   "cell_type": "code",
   "execution_count": null,
   "metadata": {},
   "outputs": [],
   "source": [
    "fig=Spd.PlotSpg(spg1,wavdata=wavdata,sample_rate=sr,title=\"Waveform+Spectrogram\",ylabel='Frequency (Hz)')\n",
    "fig"
   ]
  },
  {
   "cell_type": "markdown",
   "metadata": {},
   "source": [
    "#### (c) A plot with multiple spectrograms\n",
    "when adding sample_rate to the arguments, everything will be displayed using time-units on the x-axis"
   ]
  },
  {
   "cell_type": "code",
   "execution_count": null,
   "metadata": {},
   "outputs": [],
   "source": [
    "Spd.PlotSpgFtrs(wavdata=wavdata,spgdata=spg1,img_ftrs=[spg80,spg24],sample_rate=sr,figsize=(14,10))"
   ]
  },
  {
   "cell_type": "markdown",
   "metadata": {},
   "source": [
    "Label details of the img_ftrs or other axis related specification can be added via regular matplotlib calls on the axis"
   ]
  },
  {
   "cell_type": "code",
   "execution_count": null,
   "metadata": {},
   "outputs": [],
   "source": [
    "fig = Spd.PlotSpgFtrs(wavdata=wavdata,spgdata=spg1,img_ftrs=[spg80,spg24],sample_rate=sr,figsize=(14,10))\n",
    "fig.axes[2].set_ylabel(\"Mel 80\")\n",
    "fig.axes[3].set_ylabel(\"Mel 24\")\n",
    "display(fig)"
   ]
  },
  {
   "cell_type": "code",
   "execution_count": null,
   "metadata": {},
   "outputs": [],
   "source": []
  },
  {
   "cell_type": "markdown",
   "metadata": {},
   "source": [
    "## 2. Spectrogram Plots overlayed with Segmenations"
   ]
  },
  {
   "cell_type": "markdown",
   "metadata": {},
   "source": [
    "#### Spectrograms with added segmentations\n",
    "- a word segmenation is added to the waveform plot\n",
    "- a phone segmenation is added to the spectrogram plot"
   ]
  },
  {
   "cell_type": "code",
   "execution_count": null,
   "metadata": {},
   "outputs": [],
   "source": [
    "segphn"
   ]
  },
  {
   "cell_type": "code",
   "execution_count": null,
   "metadata": {},
   "outputs": [],
   "source": [
    "fig = Spd.PlotSpg(spg1,wavdata=wavdata,segwav=segphn,segspg=segphn,sample_rate=sr)\n",
    "display(fig)\n",
    "display(Audio(data=wavdata,rate=sr))"
   ]
  },
  {
   "cell_type": "markdown",
   "metadata": {},
   "source": [
    "#### Zooming in with frame selection\n",
    "- via the parameter frames[] given first and last frame"
   ]
  },
  {
   "cell_type": "markdown",
   "metadata": {},
   "source": [
    "## Making your own plots with the low level API\n",
    "- first create the axis, only specifying the respective height ratios\n",
    "- then add lines, images or segmentations to the individual axis\n",
    "- remark: \n",
    "    + when placing segmentations in an empty box, then the time limits must be passed via xlim\n",
    "    + when overlaying segmentations in an existing box, the time axis is inherited, though you may need to specify dx= sampling period"
   ]
  },
  {
   "cell_type": "code",
   "execution_count": null,
   "metadata": {},
   "outputs": [],
   "source": [
    "plt.close('all')\n",
    "def MyPlot(wavdata,sr,spg1,spg2,seg1,seg2,title=None):   \n",
    "    fig = Spd.SpchFig(figsize=(12,8),row_heights=[1.,2.,2.,1.],dpi=100)\n",
    "    fig.add_line_plot(wavdata,iax=0,dx=1./sr)\n",
    "    fig.add_img_plot(spg1,iax=1,xticks=False)\n",
    "    fig.add_img_plot(spg2,iax=2)\n",
    "    fig.add_seg_plot(seg1,iax=3,xrange=fig.axes[0].get_xlim(),ypos=0.8,\n",
    "                     txtargs={'color':'blue','fontsize':14},lineargs={'color':'blue'}) \n",
    "    fig.add_seg_plot(seg2,iax=3,ypos=0.2,lineargs={'linestyles':'dotted'})\n",
    "    fig.suptitle(title,fontsize=16);\n",
    "    return fig\n",
    "fig = MyPlot(wavdata,sr,spg1,spg80,segwrd,segphn)\n",
    "ax=fig.axes\n",
    "ax[1].set_ylabel('Frequency index')\n",
    "ax[2].set_ylabel('Mel Band [80]')\n",
    "fig.align_ylabels(ax[:])\n",
    "display(fig)\n",
    "display(Audio(data=wavdata,rate=sr))"
   ]
  },
  {
   "cell_type": "markdown",
   "metadata": {},
   "source": [
    "## Spectrogram and waveform plot with optional segmentations"
   ]
  },
  {
   "cell_type": "code",
   "execution_count": null,
   "metadata": {},
   "outputs": [],
   "source": [
    "#fig,_ = plot_spg(spg,segspg=segphn39)\n",
    "fig = Spd.PlotSpg(spg1,wavdata=wavdata,segwav=segwrd,segspg=segphn,frames=[70,100],sample_rate=sr,dpi=200)\n",
    "display(fig)\n",
    "display(Audio(data=wavdata,rate=sr))"
   ]
  },
  {
   "cell_type": "code",
   "execution_count": null,
   "metadata": {},
   "outputs": [],
   "source": [
    "waveform = np.vstack((wavdata,wavdata))\n",
    "fig=Spd.PlotWaveform(waveform[:,0:10000],sr,title=\"Multichannel Waveform Plot\",figsize=(12,4));\n",
    "display(fig)"
   ]
  },
  {
   "cell_type": "markdown",
   "metadata": {},
   "source": [
    "## INTERACTIVE FIGURES"
   ]
  },
  {
   "cell_type": "markdown",
   "metadata": {},
   "source": [
    "#### (a) Reusing the axis for multiple plots in animated/interactive setting"
   ]
  },
  {
   "cell_type": "code",
   "execution_count": null,
   "metadata": {},
   "outputs": [],
   "source": [
    "fig = Spd.PlotSpg(spg1,wavdata=wavdata,sample_rate=sr,title=\"Waveform+Spectrogram\")\n",
    "\n",
    "display(fig)\n",
    "time.sleep(1)\n",
    "Spd.PlotSpg(spg80,fig=fig,wavdata=wavdata,sample_rate=sr,title=\"Waveform+Spectrogram\")\n",
    "clear_output(wait=True)\n",
    "display(fig);\n",
    "time.sleep(1)\n",
    "Spd.PlotSpg(spg24,fig=fig,wavdata=wavdata,sample_rate=sr,title=\"Waveform+Spectrogram\")\n",
    "clear_output(wait=True)\n",
    "display(fig);"
   ]
  },
  {
   "cell_type": "markdown",
   "metadata": {},
   "source": [
    "## Data with higher sampling rates"
   ]
  },
  {
   "cell_type": "code",
   "execution_count": null,
   "metadata": {},
   "outputs": [],
   "source": [
    "wavfile = \"https://homes.esat.kuleuven.be/~compi/demos/AuditoryDemonstrations/\"+\"TrackNo01.wav\"\n",
    "wavdata, sr = Spch.audio.load(wavfile,sample_rate=16000)\n",
    "wavdata.shape, sr\n",
    "# \n",
    "spg1 = Sps.spectrogram(wavdata,sample_rate=sr,n_mels=None)\n",
    "Spd.PlotSpg(spg1,wavdata=wavdata,sample_rate=sr)"
   ]
  },
  {
   "cell_type": "code",
   "execution_count": null,
   "metadata": {},
   "outputs": [],
   "source": [
    "sample_rate=44100\n",
    "wavdata, sr = Spch.audio.load(wavfile,sample_rate=sample_rate)\n",
    "wav1 = wavdata[0:(sample_rate*2)]\n",
    "spg1 = Sps.spectrogram(wav1,sample_rate=sr,n_mels=None)\n",
    "#Spd.PlotWaveform(wav1)\n",
    "Spd.PlotSpg(spg1,wavdata=wav1,sample_rate=sr)"
   ]
  },
  {
   "cell_type": "code",
   "execution_count": null,
   "metadata": {},
   "outputs": [],
   "source": [
    "spg1 = Sps.spectrogram(wav1,sample_rate=sr,n_mels=200)\n",
    "Spd.PlotWaveform(wav1)\n",
    "Spd.PlotSpg(spg1,sample_rate=sr,dy=30/200)"
   ]
  },
  {
   "cell_type": "code",
   "execution_count": null,
   "metadata": {},
   "outputs": [],
   "source": []
  }
 ],
 "metadata": {
  "kernelspec": {
   "display_name": "Python 3 (ipykernel)",
   "language": "python",
   "name": "python3"
  },
  "language_info": {
   "codemirror_mode": {
    "name": "ipython",
    "version": 3
   },
   "file_extension": ".py",
   "mimetype": "text/x-python",
   "name": "python",
   "nbconvert_exporter": "python",
   "pygments_lexer": "ipython3",
   "version": "3.10.13"
  },
  "widgets": {
   "application/vnd.jupyter.widget-state+json": {
    "state": {},
    "version_major": 2,
    "version_minor": 0
   }
  }
 },
 "nbformat": 4,
 "nbformat_minor": 4
}
