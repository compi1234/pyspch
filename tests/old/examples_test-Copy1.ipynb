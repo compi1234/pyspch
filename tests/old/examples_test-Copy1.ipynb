{
 "cells": [
  {
   "cell_type": "markdown",
   "metadata": {
    "id": "l6uLS2mjFAGy"
   },
   "source": [
    "# Test Notebook for various data files\n",
    "\n",
    "This notebook contains tests for:   \n",
    "    - pyspch.timit.read_seg_file()   \n",
    "    - pyspch.core.read_txt()  ... or read_data_file()   \n",
    "\n",
    "*read_seg_file()* is a segmentation reading routine included with a lot of other TIMIT related definitions   \n",
    "\n",
    "*read_txt()* is suitable for importing corpus style files\n",
    "\n",
    "TIMIT alphabets:   TIMIT48, TIMIT41\n",
    "TIMIT mappings:    timit61_48, timit48_41, timit61_41\n",
    "\n",
    "01/04/2022: verified with v0.6.3"
   ]
  },
  {
   "cell_type": "code",
   "execution_count": null,
   "metadata": {},
   "outputs": [],
   "source": [
    "# optional install of the pyspch package\n",
    "#!pip install git+https://github.com/compi1234/pyspch.git"
   ]
  },
  {
   "cell_type": "code",
   "execution_count": 1,
   "metadata": {
    "executionInfo": {
     "elapsed": 1408,
     "status": "ok",
     "timestamp": 1605602917487,
     "user": {
      "displayName": "Dirk Van Compernolle",
      "photoUrl": "",
      "userId": "01011017094742215648"
     },
     "user_tz": -60
    },
    "id": "-g495yAlFAG1"
   },
   "outputs": [],
   "source": [
    "%matplotlib inline\n",
    "import os,sys,io, pkg_resources\n",
    "import scipy.signal\n",
    "\n",
    "from urllib.request import urlopen\n",
    "from IPython.display import display, Audio, HTML, clear_output\n",
    "from ipywidgets import interact\n",
    "import urllib.request\n",
    "import scipy.io as sio\n",
    "\n",
    "import math,time\n",
    "import numpy as np\n",
    "import pandas as pd\n",
    "import matplotlib as mpl\n",
    "import matplotlib.pyplot as plt\n",
    "import matplotlib.gridspec as gridspec \n",
    "\n",
    "import librosa as librosa\n",
    "    \n",
    "import pyspch.sp as Sps\n",
    "import pyspch.display as Spd\n",
    "import pyspch.core as Spch"
   ]
  },
  {
   "cell_type": "code",
   "execution_count": null,
   "metadata": {},
   "outputs": [],
   "source": [
    "def load_data(name,dir='pkg_resources',**kwargs):\n",
    "    '''\n",
    "    A generic  data loading function.\n",
    "    Data can be loaded from the example data included in the package as well from directories on disk or URL based resources.\n",
    "\n",
    "    The precise data loading and processing depends the filename extension; extra **kwargs can be passed \n",
    "    to the underlying functions being called.   Data stored in filenames with deviating naming conventions should\n",
    "    be processed with a lower level routine.\n",
    "    \n",
    "    Recognized and treated extensions:\n",
    "        Waveform data:                       .wav       \n",
    "        (TIMIT like) Segmentation Data :     .gra, .phn, .syl, .wrd, .seg  \n",
    "        Database (comma separated) :         .csv\n",
    "        MATLAB data :                        .mat\n",
    "        \n",
    "    Other data is assumed to be 'line data'\n",
    "        will be read into list of lines\n",
    "        or into a DataFrame iff the 'sep' keyword is present\n",
    "    \n",
    "    '''\n",
    "    if dir == \"pkg_resources\":\n",
    "        filename = pkg_resources.resource_filename('pyspch','data/' + name)\n",
    "    else:\n",
    "        filename = dir + name\n",
    "    \n",
    "    _, ext = os.path.splitext(filename)\n",
    "    \n",
    "    if ext == '.wav':        \n",
    "        wavdata,sample_rate= Spch.audio.load(filename,**kwargs)\n",
    "        return wavdata, sample_rate\n",
    "    elif ext in ['.gra','.phn','.syl','.wrd','.seg']:\n",
    "        data = Spch.timit.read_seg_file(filename,**kwargs)\n",
    "        return data\n",
    "    elif ext in ['.csv']: \n",
    "        data = pd.read_csv(filename,**kwargs)\n",
    "        return data\n",
    "    elif ext == '.mat':\n",
    "        raw_data = Spch.read_fobj(filename)\n",
    "        data = sio.loadmat(raw_data,squeeze_me=True)\n",
    "        # remove keys of the ext __xxxxx__\n",
    "        remove_keys = [ k for k in data.keys() if (k[0]=='_' and k[-1]=='_')]\n",
    "        for k in remove_keys:    del data[k]\n",
    "        return data\n",
    "    elif ext in ['.lst','.txt']: \n",
    "        if 'sep' in kwargs.keys():\n",
    "            print('read dataframe')\n",
    "            data = Spch.read_dataframe(filename,**kwargs)\n",
    "        else:\n",
    "            print('read txt')\n",
    "            data = Spch.read_txt(filename,**kwargs)\n",
    "        return data\n",
    "    elif ext == '':\n",
    "        data = []\n",
    "        return data"
   ]
  },
  {
   "cell_type": "code",
   "execution_count": null,
   "metadata": {},
   "outputs": [],
   "source": []
  },
  {
   "cell_type": "code",
   "execution_count": null,
   "metadata": {},
   "outputs": [],
   "source": [
    "wavdata, sample_rate = Spch.load_data('friendly.wav')\n",
    "#wavdata, sample_rate = load_data('si1027.wav',dir = 'https://homes.esat.kuleuven.be/~spchlab/data/timit/')\n",
    "plt.plot(wavdata)\n",
    "# if you prefer the plot above the audio widget, then flush the plot by adding the line below\n",
    "# plt.show()\n",
    "display(Audio(data=wavdata,rate=sample_rate,autoplay=False))"
   ]
  },
  {
   "cell_type": "code",
   "execution_count": null,
   "metadata": {},
   "outputs": [],
   "source": [
    "help(Spch.read_fobj)"
   ]
  },
  {
   "cell_type": "code",
   "execution_count": null,
   "metadata": {},
   "outputs": [],
   "source": []
  },
  {
   "cell_type": "code",
   "execution_count": null,
   "metadata": {},
   "outputs": [],
   "source": [
    "seg = Spch.load_data('friendly.gra')\n",
    "#seg=load_data('si1027.phn',dir = 'https://homes.esat.kuleuven.be/~spchlab/data/timit/',xlat='timit61_41')\n",
    "seg"
   ]
  },
  {
   "cell_type": "code",
   "execution_count": null,
   "metadata": {},
   "outputs": [],
   "source": [
    "name=\"phones-61-48-39-41.txt\"\n",
    "dir='https://homes.esat.kuleuven.be/~spchlab/data/timit/'\n",
    "Spch.load_data(name,dir=dir,sep='\\t')"
   ]
  },
  {
   "cell_type": "code",
   "execution_count": null,
   "metadata": {},
   "outputs": [],
   "source": [
    "hildata = Spch.load_data('hildata.csv')  \n",
    "hildata"
   ]
  },
  {
   "cell_type": "code",
   "execution_count": null,
   "metadata": {},
   "outputs": [],
   "source": [
    "corpus = Spch.load_data('mini_corpus.lst')\n",
    "corpus"
   ]
  },
  {
   "cell_type": "code",
   "execution_count": null,
   "metadata": {},
   "outputs": [],
   "source": [
    "tinytimit = 'https://homes.esat.kuleuven.be/~spchlab/datasets/tinytimit/'\n",
    "#data_mf = load_data('male-female',ext='mat',dir=tinytimit)\n",
    "data = Spch.load_data('a-i-uw-800.mat',dir=tinytimit)\n",
    "data['ALLtrain']"
   ]
  },
  {
   "cell_type": "code",
   "execution_count": null,
   "metadata": {},
   "outputs": [],
   "source": [
    "df = pd.DataFrame(data['ALLtrain'].T)\n",
    "df"
   ]
  },
  {
   "cell_type": "code",
   "execution_count": null,
   "metadata": {},
   "outputs": [],
   "source": []
  },
  {
   "cell_type": "markdown",
   "metadata": {},
   "source": [
    "## File Objects\n",
    "\n",
    "pyspch provides generic (read) access to files (locally, mounted, via URL) via\n",
    "- open_fobj(): opens any file like objects\n",
    "- read_fobj(): reads data from any file like object in a FILE IO object in raw format\n",
    "- read_data_file(): reads text data from any file like object (default=list of lines)\n",
    "- read_tsv_file(): reads a TAB separated data file\n",
    "- load(): loads audio from any file like object"
   ]
  },
  {
   "cell_type": "code",
   "execution_count": null,
   "metadata": {},
   "outputs": [],
   "source": []
  },
  {
   "cell_type": "code",
   "execution_count": null,
   "metadata": {},
   "outputs": [],
   "source": []
  },
  {
   "cell_type": "code",
   "execution_count": null,
   "metadata": {},
   "outputs": [],
   "source": []
  },
  {
   "cell_type": "markdown",
   "metadata": {},
   "source": [
    "### Example 1: read local file into list of lines using native Python"
   ]
  },
  {
   "cell_type": "code",
   "execution_count": null,
   "metadata": {},
   "outputs": [],
   "source": [
    "fname = 'mini_corpus.lst'\n",
    "dir = '../pyspch/data/'\n",
    "f = open(dir+fname)\n",
    "f.read().splitlines()"
   ]
  },
  {
   "cell_type": "markdown",
   "metadata": {},
   "source": [
    "### Example 2: read_data_file() to read local or remote files\n",
    "\n",
    "- Reads local or remote files into list of lines\n",
    "- optionally splits each line on whitespace in a max of maxcols+1"
   ]
  },
  {
   "cell_type": "code",
   "execution_count": null,
   "metadata": {},
   "outputs": [],
   "source": [
    "fname = 'mini_corpus.lst'\n",
    "dir = '../pyspch/data/'\n",
    "dir ='HTTPS://homes.esat.kuleuven.be/~spchlab/data/misc/'\n",
    "#dir = 'V:public_html/data/misc/'\n",
    "# read_fobj() would just read the raw data, unencoded\n",
    "# data = Spch.read_fobj(dir+fname)\n",
    "#\n",
    "data_split = Spch.read_data_file(dir+fname,maxcols=3)\n",
    "data = Spch.read_data_file(dir+fname)\n",
    "data, data_split"
   ]
  },
  {
   "cell_type": "markdown",
   "metadata": {},
   "source": [
    "### Example 3: read_dataframe() to read column oriented files\n",
    "\n",
    "- Reads local or remote files into a DataFrame\n",
    "- is a wrapper around pd.read_csv() with useful presets and options\n",
    "    + assumes no header\n",
    "    + tab delimited by default, but can handle any sep\n",
    "    + strip=True strips white space at edges from a string datafield \n",
    "    + does a reasonable automatic data type casting\n",
    "    + ..."
   ]
  },
  {
   "cell_type": "code",
   "execution_count": null,
   "metadata": {},
   "outputs": [],
   "source": [
    "fname = 'mini_corpus.txt'\n",
    "dir = '../pyspch/data/'\n",
    "dir ='HTTPS://homes.esat.kuleuven.be/~spchlab/data/misc/'\n",
    "corpus = Spch.read_dataframe(dir+fname,names=['file','t0','t1','text'],strip=True)\n",
    "corpus.dtypes, corpus"
   ]
  },
  {
   "cell_type": "code",
   "execution_count": null,
   "metadata": {},
   "outputs": [],
   "source": [
    "# read a segmentation datafile\n",
    "dir='https://homes.esat.kuleuven.be/~spchlab/data/'\n",
    "file = \"timit/si1027\"\n",
    "# get segmentations\n",
    "segwrd = Spch.read_dataframe(dir+file+ \".wrd\",names=['t0','t1','seg'],sep='\\s+')\n",
    "print(segwrd.dtypes)\n",
    "segwrd"
   ]
  },
  {
   "cell_type": "markdown",
   "metadata": {},
   "source": [
    "### Reading TIMIT transcriptions files"
   ]
  },
  {
   "cell_type": "code",
   "execution_count": null,
   "metadata": {},
   "outputs": [],
   "source": [
    "fn1 = 'timit/sa1.txt'\n",
    "#fn1=\"timit/phones-61-48-39-41.txt\"\n",
    "fname='https://homes.esat.kuleuven.be/~spchlab/data/'\n",
    "transcript = Spch.read_data_file(fname+fn1)[0].strip().split(None,2)\n",
    "print('Samples: ',int(transcript[0]),int(transcript[1]))\n",
    "print('Transcript: ',transcript[2].strip('.,!?:;'))"
   ]
  },
  {
   "cell_type": "markdown",
   "metadata": {},
   "source": [
    "### Reading Mapping files and converting to dictionary"
   ]
  },
  {
   "cell_type": "code",
   "execution_count": null,
   "metadata": {},
   "outputs": [],
   "source": [
    "fn1=\"timit/phones-61-48-39-41.txt\"\n",
    "fname='https://homes.esat.kuleuven.be/~spchlab/data/'\n",
    "transcript = Spch.read_data_file(fname+fn1)\n",
    "cols = Spch.read_data_file(fname+fn1, maxcols = 4)\n",
    "dict(zip(cols[0],cols[3]))"
   ]
  },
  {
   "cell_type": "markdown",
   "metadata": {},
   "source": [
    "## (TIMIT) Segmentation Files\n",
    "\n",
    "Segmentation Files are assumed to be in the format\n",
    "\n",
    "t0  t1   seg    \n",
    "....\n",
    "\n",
    "\n",
    "#### time units\n",
    "t0, t1 are begin and end-times of segment 'seg'\n",
    "the units of time, can be specified in the read_seg_file() module with 'dt', by default segmentation times are given in seconds;\n",
    "in timit it is often in samples (with SR=16000), thus use dt=1/16000\n",
    "\n",
    "#### phonetic symbols\n",
    "Phonetic transcriptions come in a variety of phonetic symbol sets.\n",
    "These utilities include default definitions (and orderings) of **TIMIT48** and **TIMIT41**.   TIMIT48 is the default used in experiments with TIMIT.   TIMIT41 is our own more compact version inspired by the alphabet in the CMU dictionaries, with 1 additional closure ('cl') symbol.\n",
    "\n",
    "A number of mappings between the different alphabets are foreseen.  To apply them use the field 'xlat' at time of reading and specify the desired translation:  timit61_48, timit61_41, ..\n",
    "These are simple dictionary based mappings.   "
   ]
  },
  {
   "cell_type": "code",
   "execution_count": null,
   "metadata": {},
   "outputs": [],
   "source": [
    "# read a datafile\n",
    "dir='https://homes.esat.kuleuven.be/~spchlab/data/'\n",
    "file = \"timit/si1027\" #@param {type:\"string\"}\n",
    "wavfile = dir+file+\".wav\" \n",
    "wavdata, sr = Spch.audio.load(wavfile)\n",
    "spg1 = Sps.spectrogram(wavdata,sample_rate=sr,n_mels=None)\n",
    "\n",
    "# get segmentations\n",
    "segwrd = Spch.timit.read_seg_file(dir+file+ \".wrd\",dt=1/sr,fmt='float32')\n",
    "segphn61 = Spch.timit.read_seg_file(dir+file+ \".phn\",dt=1/sr,fmt='float32')\n",
    "segphn = Spch.timit.read_seg_file(dir+file+ \".phn\",dt=1/sr,fmt='float32',xlat='timit61_41')"
   ]
  },
  {
   "cell_type": "code",
   "execution_count": null,
   "metadata": {},
   "outputs": [],
   "source": [
    "fig = Spd.PlotSpg(spg1,wavdata=wavdata,segwav=segwrd,segspg=segphn,sample_rate=sr)\n",
    "display(fig)\n",
    "display(Audio(data=wavdata,rate=sr))"
   ]
  },
  {
   "cell_type": "code",
   "execution_count": null,
   "metadata": {},
   "outputs": [],
   "source": []
  },
  {
   "cell_type": "code",
   "execution_count": null,
   "metadata": {},
   "outputs": [],
   "source": []
  }
 ],
 "metadata": {
  "kernelspec": {
   "display_name": "Python 3",
   "language": "python",
   "name": "python3"
  },
  "language_info": {
   "codemirror_mode": {
    "name": "ipython",
    "version": 3
   },
   "file_extension": ".py",
   "mimetype": "text/x-python",
   "name": "python",
   "nbconvert_exporter": "python",
   "pygments_lexer": "ipython3",
   "version": "3.7.8"
  },
  "widgets": {
   "application/vnd.jupyter.widget-state+json": {
    "state": {},
    "version_major": 2,
    "version_minor": 0
   }
  }
 },
 "nbformat": 4,
 "nbformat_minor": 4
}
