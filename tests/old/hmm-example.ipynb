{
 "cells": [
  {
   "cell_type": "markdown",
   "metadata": {},
   "source": [
    "## HMM EXAMPLES "
   ]
  },
  {
   "cell_type": "code",
   "execution_count": null,
   "metadata": {},
   "outputs": [],
   "source": [
    "# do all the imports\n",
    "%matplotlib inline\n",
    "import sys, os,time\n",
    "import numpy as np\n",
    "import pandas as pd\n",
    "from IPython.display import display, HTML, clear_output\n",
    "import ipywidgets as widgets\n",
    "import matplotlib.pyplot as plt\n",
    "import matplotlib as mpl\n",
    "import seaborn as sns\n",
    "\n",
    "#homedir = os.path.expanduser('~')\n",
    "#sys.path.append(os.path.join(homedir,'Nextcloud','github','scikit-speech'))\n",
    "from pyspch import libhmm \n",
    "from pyspch import libhmm_plot as hmmplot\n",
    "from pyspch import utils as spchu\n",
    "\n",
    "# print all variable statements\n",
    "from IPython.core.interactiveshell import InteractiveShell\n",
    "InteractiveShell.ast_node_interactivity = \"all\"\n",
    "# graphical and print preferences\n",
    "cmap_1 = sns.light_palette(\"caramel\",50,input=\"xkcd\")[0:20]\n",
    "cmap_2 = sns.light_palette(\"caramel\",50,input=\"xkcd\",reverse=True)\n",
    "cmap = cmap_2\n",
    "pd.options.display.float_format = '{:,.3f}'.format\n",
    "\n",
    "mpl.rcParams['figure.figsize'] = [12.0, 6.0]\n",
    "#mpl.rcParams['ps.papersize'] = 'A4'\n",
    "mpl.rcParams['xtick.labelsize'] = 14\n",
    "mpl.rcParams['ytick.labelsize'] = 14\n",
    "mpl.rcParams['axes.titlepad'] = 15\n",
    "mpl.rcParams['axes.titlesize'] = 'large'\n",
    "mpl.rcParams['axes.linewidth'] = 2\n",
    "mpl.rc('lines', linewidth=3, color='k')"
   ]
  },
  {
   "cell_type": "markdown",
   "metadata": {},
   "source": [
    "A standard piano keyboard with 88 keys looks like this:\n",
    "\n",
    "<img src=\"hmm_diagram_1.png\">\n",
    "\n",
    "The note marked in red is \"C4\", i.e. the C key in the 4th octave. "
   ]
  },
  {
   "cell_type": "code",
   "execution_count": null,
   "metadata": {},
   "outputs": [],
   "source": [
    "help(hmmplot)"
   ]
  },
  {
   "cell_type": "code",
   "execution_count": null,
   "metadata": {},
   "outputs": [],
   "source": [
    "%%HTML\n",
    "<style type=\"text/css\">\n",
    "table.dataframe td, table.dataframe th {\n",
    "    border: 2px  black solid !important;\n",
    "    column-width: 60px;\n",
    "    color: black !important;\n",
    "}"
   ]
  },
  {
   "cell_type": "markdown",
   "metadata": {},
   "source": [
    "## Example (1) - Course Notes\n",
    "\n",
    "The HMM is shown in the drawing below\n",
    "\n",
    "<img src=\"hmm_diagram_1.png\">\n",
    "\n"
   ]
  },
  {
   "cell_type": "code",
   "execution_count": null,
   "metadata": {},
   "outputs": [],
   "source": [
    "# basic initialization creates a model without state transitions\n",
    "hmm1 = libhmm.DHMM(n_states=3,n_symbols=2,labels=['A','B'],prob_style=\"lin\")\n",
    "# initialize as a simple left-to-right model\n",
    "hmm1.init_topology(type=\"lr\",selfprob=0.5)\n",
    "# or you can with the initialization give transition and emission prob matrices\n",
    "hmm1 = libhmm.DHMM(n_states=3,n_symbols=2,labels=['A','B'],prob_style=\"lin\")\n",
    "imat = np.array([1.0, 0.0, 0.])\n",
    "emat = np.array([[.7,.3],[.1, .9],[.6,.4]])\n",
    "tmat = np.array([[.6,.4,0.],[0.,.5,.5],[0.,0.,1.]]) \n",
    "hmm1 = libhmm.DHMM(n_states=3,labels=['A','B'],prob_style=\"lin\",\n",
    "                  transmat=tmat,initmat=imat,emissionmat=emat)\n",
    "hmm1.print_model()\n",
    "#"
   ]
  },
  {
   "cell_type": "code",
   "execution_count": null,
   "metadata": {},
   "outputs": [],
   "source": [
    "# set an observation sequence\n",
    "Xl=['A','B','B','A','B']\n",
    "X = [hmm1.labels.index(x) for x in Xl]\n",
    "print(\"OBSERVATIONS\\n\")\n",
    "pd.DataFrame([Xl,X],index=['LABEL','LBL_INDEX'])"
   ]
  },
  {
   "cell_type": "markdown",
   "metadata": {},
   "source": [
    "## Trellis Computations:\n",
    "### 1. Forward Pass Probabilities  (Viterbi, Forward Algorithm)\n",
    "\n",
    "The **TRELLIS** is a matrix structure of shape (n_states,n_samples) containing in *cell (i,t)* the probability of being in *state S_i*\n",
    "\n",
    "(note: strictly speaking in a discrete density model we have observation *probabilities* and in a continuous density model we work with *observation likelihoods*; when talking about the general case we may use the terms probabilities/likelihoods in a loose way)\n",
    "\n",
    "With *forward pass* we indicate that the Trellis is composed in left-to-right fashion, i.e. a trellis cell contains the probability after having observerd *all observations up to X_t*.  When working with an existing HMM we typically only need a forward pass.\n",
    "( A *backward pass* (working from last frame till current) is only needed in the forward-backward training algorithm for HMMs. )\n",
    "\n",
    "It is standard and efficient to fill a Trellis  in a left-to-right *time synchronous* way, i.e. all cells (\\*,t) are computed as soon as observation X(t) becomes available and for first order Markov models only knowledge of the current observation and the previous column of the trellis is required.\n",
    "\n",
    "Hence the trellis computations are simple recursions (coming in 2 flavors):\n",
    "- Viterbi Probability (computes the probability along the most likely path, it is typically used for decoding/recognition and alignment)\n",
    "$ P(i,t) = \\max_j P(j,t-1) * P(j,i) * P(X(t)|i) $\n",
    "- Forward Probability (computes the \"true\" probability, is mainly used in training HMMs with the Forward-Backward algorithm)  \n",
    "$ P(i,t) = \\sum_j P(j,t-1) * P(j,i) * P(X(t)|i) $\n",
    "\n",
    "Note:\n",
    "- In both cases the sum- or max-operators need to be applied over all possible states that have a transition leading into *State S_i*\n",
    "- The *state likelihoods* P(X(t)|i) are the likelihood of observing X(t) in State i (also called emmission likelihood)\n",
    "- We further need some initialization probabilities, that tell us the probability of starting in a State with the first observation, so that we can start the recursion\n",
    "\n",
    "The left-to-right recursive implementation is illustrated below for the basic example using **Viterbi**:\n",
    "- the trellis is the main matrix structure\n",
    "- the annotations above the matrix contain both the label of the observation and the state likelihoods"
   ]
  },
  {
   "cell_type": "code",
   "execution_count": null,
   "metadata": {},
   "outputs": [],
   "source": [
    "for i in range(len(X)):\n",
    "    clear_output(wait=True);\n",
    "    hmmplot.plot_trellis(hmm1,X[0:i+1],plot_frameprobs=True,fmt=\".4f\") \n",
    "    plt.close()\n",
    "    time.sleep(1)"
   ]
  },
  {
   "cell_type": "markdown",
   "metadata": {},
   "source": [
    "### All the computation in details\n",
    "Set Debug True or False for greater levels of detaul"
   ]
  },
  {
   "cell_type": "code",
   "execution_count": null,
   "metadata": {},
   "outputs": [],
   "source": [
    "Debug= True\n",
    "# initialization routine\n",
    "def init_trellis(hmm,X):\n",
    "    buf = np.zeros(len(hmm.states))\n",
    "    state_likelihoods = hmm.compute_frameprobs(X)\n",
    "    buf = hmm.initmat * state_likelihoods\n",
    "    return(buf)\n",
    "# single recursion step\n",
    "def viterbi_step(hmm,X,buffer):\n",
    "    newbuf = np.zeros(buffer.shape)\n",
    "    state_likelihoods = hmm.compute_frameprobs(X)\n",
    "    print('\\nX[t]=',hmm.labels[x],\"\\nState Likelihoods[.,:]:\",state_likelihoods)\n",
    "\n",
    "    for to_state in range(hmm.n_states):\n",
    "        if(Debug):\n",
    "            print(\"To: %s\" %  hmm.states[to_state])\n",
    "        for from_state in range(hmm.n_states):\n",
    "            new = hmm.transmat[from_state,to_state] * buffer[from_state]\n",
    "            if(Debug):\n",
    "                print(\"  -- P(%s,t-1) x P(%s|%s): %.3f x %.3f = %.3f\" % \n",
    "                      (hmm.states[from_state], hmm.states[to_state],hmm.states[from_state],buffer[from_state],hmm.transmat[from_state,to_state], new) )\n",
    "            if( new > newbuf[to_state] ):\n",
    "                best_tp = new\n",
    "                best_state = from_state\n",
    "        newbuf[to_state] = best_tp * state_likelihoods[to_state]\n",
    "        if(Debug):\n",
    "            print(\"  --> Best Transition is from state %s:  %.3f\" % \n",
    "                  (hmm.states[best_state], best_tp) )\n",
    "            #print(\"  --> Observation Probability in state %s for observation %s : %.3f \" % \n",
    "            #          (hmm.states[best_state], X, state_likelihoods[to_state]))\n",
    "            print(\"  >>> P(%s,t)= %.3f x %.3f = %.3f \" % \n",
    "                     (hmm.states[to_state], best_tp, state_likelihoods[to_state], newbuf[to_state]))\n",
    "    return(state_likelihoods,newbuf)  \n",
    "                \n",
    "# apply the baseline Viterbi algorithm to our model hmm1 and observation sequence X\n",
    "buf=init_trellis(hmm1,X[0])\n",
    "trellis = [buf]\n",
    "print('INITIALIZATION: X[t]=',hmm1.labels[X[0]],'\\n',\"Trellis[0,:]:\",buf,'\\n')\n",
    "print('RECURSION:')\n",
    "for x in X[1:]:\n",
    "    likelihoods, newbuf = viterbi_step(hmm1,x,buf)\n",
    "    print('Trellis new buffer [t,:]:',newbuf)\n",
    "    buf = newbuf.copy()\n",
    "    trellis = np.r_[trellis,[buf]]\n",
    "    \n",
    "print(\"\\nFULL TRELLIS\")\n",
    "print(trellis.T)"
   ]
  },
  {
   "cell_type": "markdown",
   "metadata": {},
   "source": [
    "## 2. COMPLETION and BACKTRACKING\n",
    "\n",
    "+ a. COMPLETION   \n",
    "The probability of the full observation being generated by the underlying HMM is found in final column of the Trellis.\n",
    "We just need to look for the highest scoring cell amongst all states that are admissible ending states.\n",
    "E.g. in a left-to-right model as the one under consideration we implicitly assume that the we need to end in the final state.\n",
    "\n",
    "+ b. BACKPOINTERS and BACKTRACKING  \n",
    "Often we are not only interested in the probability that our observation has for the model, but we may also want to know which states have been traversed (e.g. when we do speech recognition and states are phonemes or words).  In such situation we need to find the state alignment that underlies the best path.  This will only be possible when applying the **Viterbi** algorithm and when maintaining  **backpointers of the full trellis**.  During the forward path computations we add a backpointers in each cell: i.e. we mark the state from which we entered the current state to give us the max probability.   \n",
    "\n",
    "Finally, when we have completed the Trellis, we can do backtracking from the final state following the backpointers all the way to the initial frame.\n"
   ]
  },
  {
   "cell_type": "code",
   "execution_count": null,
   "metadata": {},
   "outputs": [],
   "source": [
    "frameprobs, trellis, backptrs, alignment = hmm1.viterbi_trellis(X)\n",
    "for i in range(len(X)):\n",
    "    clear_output(wait=True);\n",
    "    align = False if (i < len(X)-1) else True\n",
    "    hmmplot.plot_trellis(hmm1,X[0:i+1],plot_backptrs=True,plot_frameprobs=True,plot_alignment=align,\n",
    "                         plot_norm=True,cmap=cmap_2,vmin=0,vmax=.5)\n",
    "    plt.close()\n",
    "    time.sleep(2)"
   ]
  },
  {
   "cell_type": "code",
   "execution_count": null,
   "metadata": {},
   "outputs": [],
   "source": [
    "# plotting it all once more\n",
    "empty_line = pd.DataFrame([\"\"]*len(Xl),columns=[\"\"]).T\n",
    "\n",
    "pd.concat([\n",
    "    pd.DataFrame(Xl,columns=[\"\"]).T,\n",
    "    empty_line,\n",
    "    pd.DataFrame(frameprobs.T,index=hmm1.states),\n",
    "    empty_line,\n",
    "    pd.DataFrame(trellis.T,index=hmm1.states),\n",
    "    empty_line,\n",
    "    pd.DataFrame(backptrs.T,index=hmm1.states),\n",
    "    empty_line,\n",
    "    pd.DataFrame([hmm1.states[i] for i in alignment],columns=[\"\"]).T ]\n",
    "    ,keys=[\"OBSERVATIONS\",\".\",\"LIKELILHOODS\",\"..\",\"TRELLIS\",\"...\",\"BACKPOINTERS\",\"....\",\"ALIGNMENT\"] )"
   ]
  },
  {
   "cell_type": "code",
   "execution_count": null,
   "metadata": {},
   "outputs": [],
   "source": [
    "# 16 JUNE 2021, PM\n",
    "# An HMM with single state phonemes (TH,IH,S) that can recognize THIS vs. IS\n",
    "#   - enforced begin silence\n",
    "#   - optional silence at the end\n",
    "#\n",
    "# S0 = Silence;  S1 = \"TH\"; S2 = \"IH\"; S3=\"S\" \n",
    "# Word 1 = This ( SIL S1 S3 S1 S3 [sil])\n",
    "# Word 2 = is ( SIL S2 S3 S2 S3 [sil])\n",
    "# \n",
    "hmm = libhmm.DHMM(n_states=4,n_symbols=4,prob_style=\"prob\",states= ['SIL','TH','IH ','S'],labels=['A','B','C','D'])\n",
    "hmm.init_topology(type='lr',selfprob=0.5)\n",
    "hmm.transmat = np.array([ [0.6, .2, .2, 0.0], [0., .5, .5, .0 ], [ 0., 0.0, .5, .5 ], [0.15, .0, .0, .85] ])\n",
    "\n",
    "target_emissionprob = np.array([ [0.70, 0.15, 0.1, 0.05 ], [0.2, 0.45, 0.30, 0.05], \n",
    "                                [0.2, 0.2 ,.5, .1], [0.1, .15, .15, .60] ])\n",
    "hmm.emissionmat = spchu.normalize(target_emissionprob,axis=1)\n",
    "hmm.end_states= [0,3]\n",
    "#hmm.set_probstyle(\"log10\")\n",
    "pd.options.display.float_format = '{:,.2f}'.format\n",
    "hmm.print_model()\n",
    "\n",
    "# set an observation sequence\n",
    "Xl=['A','B','C','B','D','A']\n",
    "X = [hmm.labels.index(x) for x in Xl]\n",
    "print(\"OBSERVATION SEQUENCE\\n\")\n",
    "print(Xl)\n",
    "#print(pd.DataFrame([Xl],index=[\"\"]).to_string(index=False))\n",
    "#\n",
    "# plotting a partial trellis\n",
    "print(\"\\nPARTIAL TRELLIS\\n\")\n",
    "pd.options.display.float_format = '{:,.4f}'.format\n",
    "frameprobs, trellis, backptrs, alignment = hmm.viterbi_trellis(X)\n",
    "empty_line = pd.DataFrame([\"\"]*len(Xl),columns=[\"\"]).T\n",
    "trellis[3:6,:] = np.nan\n",
    "df=pd.DataFrame(trellis,index=Xl,columns=hmm.states).T.fillna(\"\")\n",
    "display(df)"
   ]
  },
  {
   "cell_type": "code",
   "execution_count": null,
   "metadata": {},
   "outputs": [],
   "source": [
    "# Solution\n",
    "fig = hmmplot.plot_trellis(hmm,X,cmap=cmap_caramel,vmin=0,vmax=1,fmt=\".2e\",\n",
    "        plot_norm=True,\n",
    "        plot_frameprobs=True,plot_backptrs=True,\n",
    "        plot_alignment=True,figsize=(16,6))\n",
    "#plt.close()"
   ]
  },
  {
   "cell_type": "code",
   "execution_count": null,
   "metadata": {},
   "outputs": [],
   "source": [
    "# 17 August 2020\n",
    "#\n",
    "# State 0 = Silence;  S1 = \"P\";  S2=\"M\" ; S3 = \"AH\";\n",
    "# Word 1 = pa ( SIL S1 S3  [SIL] )\n",
    "# Word 2 = pap ( SIL S1 S3 S1 [SIL] )\n",
    "# Word 3 = ma ( SIL S2 S3  [SIL] )\n",
    "# Word 4 = mam ( SIL S2 S3 S2 [SIL])\n",
    "# -- papa, mama, \n",
    "#\n",
    "hmm = libhmm.DHMM(n_states=4,n_symbols=5,prob_style=\"prob\",states= ['SIL','P ','M ','AH'],labels=['L1','L2','L3','L4','L5'])\n",
    "hmm.transmat = np.array([ [0.7, .15, .15, 0.0], \n",
    "                          [ 0.05, .4, 0.0, 0.6 ], \n",
    "                          [ 0.05, 0.0, 0.5, 0.5 ], \n",
    "                          [ 0.2, .1, 0.1, 0.7] ])\n",
    "\n",
    "target_emissionprob = np.array([ [0.65, 0.07, 0.1, 0.1, 0.02 ], \n",
    "                                [0.1, 0.6, 0.1, 0.2, 0.1], \n",
    "                                [0.1, 0.2 ,.48,.12, 0.1], \n",
    "                                [0.05, .05, .05, .40, .45] ])\n",
    "hmm.emissionmat = spchu.normalize(target_emissionprob,axis=1)\n",
    "\n",
    "\n",
    "hmm.set_probstyle(\"log\")\n",
    "hmm.print_model()\n",
    "hmm.end_states=[0]\n",
    "\n",
    "X = [ 0, 1, 1, 4, 3, 1,   0 ]\n",
    "Xl = [hmm.labels[i] for i in X]\n",
    "print(\"OBSERVATION SEQUENCE\\n\")\n",
    "print(Xl)\n",
    "\n",
    "#\n",
    "# plotting a partial trellis\n",
    "print(\"\\nPARTIAL TRELLIS\\n\")\n",
    "pd.options.display.float_format = '{:,.4f}'.format\n",
    "frameprobs, trellis, backptrs, alignment = hmm.viterbi_trellis(X)\n",
    "empty_line = pd.DataFrame([\"\"]*len(Xl),columns=[\"\"]).T\n",
    "trellis[4:8,:] = np.nan\n",
    "df=pd.DataFrame(trellis,index=Xl,columns=hmm.states).T.fillna(\"\")\n",
    "display(df)\n",
    "\n",
    "fig = hmmplot.plot_trellis(hmm,X,cmap=cmap_caramel,vmin=-4,vmax=0,fmt=\".2f\",\n",
    "        plot_norm=True,\n",
    "        plot_frameprobs=True,plot_backptrs=True,\n",
    "        plot_alignment=True,figsize=(16,6))\n",
    "plt.close()\n",
    "display(fig)\n"
   ]
  },
  {
   "cell_type": "code",
   "execution_count": null,
   "metadata": {},
   "outputs": [],
   "source": []
  },
  {
   "cell_type": "code",
   "execution_count": null,
   "metadata": {},
   "outputs": [],
   "source": []
  }
 ],
 "metadata": {
  "kernelspec": {
   "display_name": "Python 3",
   "language": "python",
   "name": "python3"
  },
  "language_info": {
   "codemirror_mode": {
    "name": "ipython",
    "version": 3
   },
   "file_extension": ".py",
   "mimetype": "text/x-python",
   "name": "python",
   "nbconvert_exporter": "python",
   "pygments_lexer": "ipython3",
   "version": "3.7.8"
  },
  "widgets": {
   "application/vnd.jupyter.widget-state+json": {
    "state": {},
    "version_major": 2,
    "version_minor": 0
   }
  }
 },
 "nbformat": 4,
 "nbformat_minor": 4
}
