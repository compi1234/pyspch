{
 "cells": [
  {
   "cell_type": "markdown",
   "id": "60c8e242-6b74-4664-afb3-e10b7cac64d1",
   "metadata": {},
   "source": [
    "![Broadcasting Visual](hmm_diagram.png)"
   ]
  },
  {
   "cell_type": "code",
   "execution_count": null,
   "id": "e729d8a2-4891-4fbb-9f1f-3183d77c15b2",
   "metadata": {},
   "outputs": [],
   "source": []
  }
 ],
 "metadata": {
  "kernelspec": {
   "display_name": "Python 3 (ipykernel)",
   "language": "python",
   "name": "python3"
  },
  "language_info": {
   "codemirror_mode": {
    "name": "ipython",
    "version": 3
   },
   "file_extension": ".py",
   "mimetype": "text/x-python",
   "name": "python",
   "nbconvert_exporter": "python",
   "pygments_lexer": "ipython3",
   "version": "3.7.12"
  },
  "widgets": {
   "application/vnd.jupyter.widget-state+json": {
    "state": {},
    "version_major": 2,
    "version_minor": 0
   }
  }
 },
 "nbformat": 4,
 "nbformat_minor": 5
}
