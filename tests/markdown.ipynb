{
 "cells": [
  {
   "cell_type": "markdown",
   "id": "37b5481a-8e87-4c1c-a024-59635a5d65fc",
   "metadata": {},
   "source": [
    "![Broadcasting Visual](hmm_diagram.png \"My HMM Diagram\")"
   ]
  },
  {
   "cell_type": "code",
   "execution_count": null,
   "id": "e729d8a2-4891-4fbb-9f1f-3183d77c15b2",
   "metadata": {},
   "outputs": [],
   "source": []
  }
 ],
 "metadata": {
  "kernelspec": {
   "display_name": "Python 3 (ipykernel)",
   "language": "python",
   "name": "python3"
  },
  "language_info": {
   "codemirror_mode": {
    "name": "ipython",
    "version": 3
   },
   "file_extension": ".py",
   "mimetype": "text/x-python",
   "name": "python",
   "nbconvert_exporter": "python",
   "pygments_lexer": "ipython3",
   "version": "3.10.13"
  },
  "widgets": {
   "application/vnd.jupyter.widget-state+json": {
    "state": {},
    "version_major": 2,
    "version_minor": 0
   }
  }
 },
 "nbformat": 4,
 "nbformat_minor": 5
}
