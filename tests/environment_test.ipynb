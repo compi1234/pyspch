{
 "cells": [
  {
   "cell_type": "markdown",
   "metadata": {
    "slideshow": {
     "slide_type": "slide"
    }
   },
   "source": [
    "## Data & Speech Science Python Environments\n",
    "\n",
    "Creating a long term stable working environment is still quite illusive, given the fast pace of updates in Python, the scientific packages and definitely also the interactive environment AND this package.\n",
    "We try to consolidate one prototype working environment, that hopefully can be run for a couple years more."
   ]
  },
  {
   "cell_type": "markdown",
   "metadata": {},
   "source": [
    "#### Utility code for finding versions of principal packages in the current environment and system"
   ]
  },
  {
   "cell_type": "code",
   "execution_count": 1,
   "metadata": {},
   "outputs": [],
   "source": [
    "# some code copied/inspired/modified from Raschka -- watermark \n",
    "import os, sys, platform, datetime, subprocess\n",
    "import importlib\n",
    "try:\n",
    "    import importlib.metadata as importlib_metadata\n",
    "except ImportError:\n",
    "    # Running on pre-3.8 Python; use importlib-metadata package\n",
    "    import importlib_metadata\n",
    "    \n",
    "def get_version(of_what='platform'):\n",
    "    if of_what == 'platform':\n",
    "        print('Date'.ljust(17)+\":\",datetime.datetime.now())\n",
    "        my_sys = platform.uname()\n",
    "        print('System'.ljust(17)+\":\",my_sys[0]+' '+my_sys[2]+' build='+my_sys[3])\n",
    "        print('Node'.ljust(17)+\":\",my_sys[1])\n",
    "        print('Python'.ljust(17)+\":\",platform.python_version())\n",
    "        #print('Environment'.ljust(17)+\":\",os.environ)\n",
    "        try: print('Conda Env'.ljust(17)+\":\",os.environ['CONDA_DEFAULT_ENV'])\n",
    "        except: pass\n",
    "        try: print('CUDA'.ljust(17)+\":\",os.environ['CUDA_VERSION'])\n",
    "        except: pass\n",
    "        return\n",
    "    elif of_what == 'jupyter':\n",
    "        !jupyter --version\n",
    "        return\n",
    "    elif of_what == 'nodejs':\n",
    "        try: \n",
    "            returned_value = subprocess.check_output(\"node --version\").decode(\"utf-8\")\n",
    "        except:\n",
    "            returned_value = \"Not Installed\"\n",
    "        print(\"nodejs           : \"+returned_value)\n",
    "    else:\n",
    "        for package in of_what.split(\",\"):\n",
    "            print( package.ljust(17) +\": \" + _get_package_version(package) )\n",
    "        return\n",
    "\n",
    "def _get_package_version(pkg_name):\n",
    "    \"\"\"Return the version of a given package\"\"\"\n",
    "    try:\n",
    "        imported = importlib.import_module(pkg_name)\n",
    "    except :  # most problem will be 'ImportError', but TensorFlow on Colab throws something different:\n",
    "        version = \"not installed\"\n",
    "    else:\n",
    "        try:\n",
    "            version = importlib_metadata.version(pkg_name)\n",
    "        except importlib_metadata.PackageNotFoundError:\n",
    "            try:\n",
    "                version = imported.__version__\n",
    "            except AttributeError:\n",
    "                try:\n",
    "                    version = imported.version\n",
    "                except AttributeError:\n",
    "                    try:\n",
    "                        version = imported.version_info\n",
    "                    except AttributeError:\n",
    "                        version = \"unknown\"\n",
    "    return version"
   ]
  },
  {
   "cell_type": "markdown",
   "metadata": {},
   "source": [
    "# Python Environments for speech science & machine learning\n",
    "\n",
    "\n",
    "### Note on using notebooks in Jupyterlab\n",
    "\n",
    "You need to install the jupyterlab extension @jupyter-widgets/jupyterlab-manager  and then rebuild jupyter lab\n",
    "\n",
    "### Reference environment for Python 3.9 dd. 22/09/2022\n",
    " \n",
    "\n",
    "- Python  >= 3.9.*           \n",
    "- NumPy   >= 1.21.*\n",
    "- SciPy   >= 1.7.*\n",
    "- scikit-learn >= 1.0.*\n",
    "- matplotlib   >= 3.2.*\n",
    "- pandas       >= 1.3.*\n",
    "- seaborn      >= 0.11.*\n",
    "\n",
    "Packages that previously had restrictions in certain or all environments\n",
    "\n",
    "- librosa   >= 0.8.*               \n",
    "- soundfile >= 0.10.*\n",
    "- IPython   >= 7.21.0 \n",
    "- numba     >= 0.56.*       for compatibility with librosa\n",
    "- pydub                     needs to be installed on conda / Colab\n",
    "- ffmpeg                    needs to be installed on Windows+conda / Colab\n",
    "- torch >= 1.12\n",
    "- torchaudio >= 0.12.*           \n",
    "     (needs soundfile for Windows, or sox_io for other platforms)\n",
    "\n",
    "\n",
    "Applications/Notebooks/Courses that should work with these settings\n",
    "\n",
    "- [spchlab - speech recognition laboratory H02A6, 2021](https://github.com/compi1234/spchlab/tree/2021)\n",
    "- [Machine Learning 3rd Edition, Sebastion Rascka, 2019 ](https://github.com/rasbt/python-machine-learning-book-3rd-edition)\n",
    "- [IPython Cookbook, Second Edition,Cyrille Rossant, 2018](https://github.com/ipython-books/cookbook-2nd-code)\n",
    "- [Fundamentals of Music Processing,Meinard Muller, 2015](https://www.audiolabs-erlangen.de/resources/MIR/FMP/C0/C0.html)\n",
    "\n",
    "Usage in Google Colab:\n",
    "\n",
    "Colab runs behind on some core packages, but compatibility is tested and should be assured\n",
    "- Python 3.7.14\n",
    "- IPython 7.9.0\n",
    "- ipywidgets 7.7.1\n",
    "\n",
    "\n",
    "\n",
    "### Reference environment for Python 3.7 dd. 15/03/2021\n",
    "\n",
    "The recommended setup includes:   \n",
    "\n",
    "- Python  >= 3.7.*\n",
    "- NumPy   >= 1.19.*\n",
    "- SciPy   >= 1.4.*\n",
    "- scikit-learn >= 0.23.0\n",
    "- matplotlib   >= 3.1.0\n",
    "- pandas       >= 1.0.0\n",
    "\n",
    "Packages with known version restrictions in certain or all environments\n",
    "\n",
    "- librosa   == 0.8.0               \n",
    "- soundfile >= 0.9\n",
    "- IPython   >= 7.21.0 \n",
    "- numba     == 0.48.0       for compatibility with librosa\n",
    "- pydub                     needs to be installed on conda / Colab\n",
    "- ffmpeg                    needs to be installed on Windows+conda / Colab\n",
    "- torchaudio >= 0.8         I/O has promise of longer term stability   \n",
    "     (needs soundfile for Windows, or sox_io for other platforms)\n",
    "\n",
    "\n",
    "Applications/Notebooks/Courses that should work with these settings\n",
    "\n",
    "- [spchlab - speech recognition laboratory H02A6, 2021](https://github.com/compi1234/spchlab/tree/2021)\n",
    "- [Machine Learning 3rd Edition, Sebastion Rascka, 2019 ](https://github.com/rasbt/python-machine-learning-book-3rd-edition)\n",
    "- [IPython Cookbook, Second Edition,Cyrille Rossant, 2018](https://github.com/ipython-books/cookbook-2nd-code)\n",
    "- [Fundamentals of Music Processing,Meinard Muller, 2015](https://www.audiolabs-erlangen.de/resources/MIR/FMP/C0/C0.html)\n",
    "\n",
    "Usage in Google Colab\n",
    "- A few of these packages are not in the standard Colab environment and need to be installed, such as\n",
    "> !pip install pydub   \n",
    "- At the time (3/2021) Google was still running IPython 5.5 with outdated audio functionality\n"
   ]
  },
  {
   "cell_type": "code",
   "execution_count": 2,
   "metadata": {},
   "outputs": [
    {
     "name": "stdout",
     "output_type": "stream",
     "text": [
      "-----   Platform   --------\n",
      "Date             : 2022-09-27 15:46:58.694174\n",
      "System           : Windows 10 build=10.0.19041\n",
      "Node             : laptop-dvc\n",
      "Python           : 3.7.13\n",
      "Conda Env        : py37_torch\n",
      " \n",
      "-----   Jupyter  --------\n",
      "Selected Jupyter core packages...\n",
      "IPython          : 7.33.0\n",
      "ipykernel        : 6.16.0\n",
      "ipywidgets       : 8.0.2\n",
      "jupyter_client   : 7.3.5\n",
      "jupyter_core     : 4.11.1\n",
      "jupyter_server   : 1.18.1\n",
      "jupyterlab       : 3.4.7\n",
      "nbclient         : 0.6.8\n",
      "nbconvert        : 7.0.0\n",
      "nbformat         : 5.6.1\n",
      "notebook         : 6.4.12\n",
      "qtconsole        : not installed\n",
      "traitlets        : 5.4.0\n",
      "nodejs           : v18.9.0\n",
      "\n",
      " \n",
      "-----   Core Packages  -------\n",
      "urllib.request   : 3.7\n",
      "pip              : 21.1.3\n",
      "numpy            : 1.21.6\n",
      "scipy            : 1.7.3\n",
      "pandas           : 1.3.5\n",
      "sklearn          : 1.0.2\n",
      "matplotlib       : 3.2.2\n",
      " \n",
      " ------ Audio Packages  -----\n",
      "sounddevice      : 0.4.5\n",
      "soundfile        : 0.10.3.post1\n",
      "librosa          : 0.8.1\n",
      "pydub            : 0.25.1\n",
      "ffmpeg           : not installed\n",
      "torchaudio       : not installed\n",
      " \n",
      " ------ Other Utilities -----\n",
      "torch            : not installed\n",
      "tensorflow       : not installed\n",
      "seaborn          : 0.11.2\n",
      "plotly           : not installed\n",
      "graphviz         : not installed\n"
     ]
    }
   ],
   "source": [
    "print(\"-----   Platform   --------\") \n",
    "get_version()    \n",
    "print(\" \")\n",
    "print( '-----   Jupyter  --------')\n",
    "try: get_version('jupyter')\n",
    "except: get_version(\"IPython,ipykernel,ipywidgets\")\n",
    "get_version(\"nodejs\")\n",
    "print(\" \")\n",
    "print( '-----   Core Packages  -------')\n",
    "get_version(\"urllib.request,pip,numpy,scipy,pandas,sklearn,matplotlib\")\n",
    "print(' ')\n",
    "print(' ------ Audio Packages  -----')\n",
    "get_version(\"sounddevice,soundfile,librosa,pydub,ffmpeg,torchaudio\")\n",
    "print(' ')\n",
    "print(' ------ Other Utilities -----')\n",
    "get_version(\"torch,tensorflow,seaborn,plotly,graphviz\")"
   ]
  },
  {
   "cell_type": "code",
   "execution_count": null,
   "metadata": {},
   "outputs": [],
   "source": [
    "\n"
   ]
  },
  {
   "cell_type": "markdown",
   "metadata": {},
   "source": [
    "#### Example Environments"
   ]
  },
  {
   "cell_type": "markdown",
   "metadata": {},
   "source": [
    "##### 1. FMP111\n",
    "\n",
    "Environment delivered with Fundamentals of Music Processing V1.1.1 (https://www.audiolabs-erlangen.de/resources/MIR/FMP/C0/C0.html)\n",
    "(Meinard Muller, Erlangen)\n",
    "\n",
    "##### 2. py37\n",
    "\n",
    "Python 3.7 environment ented on FMP with addition of\n",
    "  - jupyterlab\n",
    "  - seaborn\n",
    "  - plotly\n",
    "    \n",
    "goal is to have a baseline environment that is compatible with both spchlab and FMP"
   ]
  },
  {
   "cell_type": "code",
   "execution_count": 5,
   "metadata": {},
   "outputs": [
    {
     "data": {
      "text/html": [
       "<style>\n",
       "table {float:left}\n",
       "</style>\n"
      ],
      "text/plain": [
       "<IPython.core.display.HTML object>"
      ]
     },
     "metadata": {},
     "output_type": "display_data"
    }
   ],
   "source": [
    "%%html\n",
    "<style>\n",
    "table {float:left}\n",
    "</style>"
   ]
  },
  {
   "cell_type": "markdown",
   "metadata": {},
   "source": [
    "##### Working with environments\n",
    "\n",
    "- see [conda webpages](https://docs.conda.io/projects/conda/en/latest/user-guide/tasks/manage-environments.html#updating-an-environment) for how to deal with environments\n",
    "\n",
    "- some examples\n",
    "> conda create --name py37 python=3.7 numpy scipy matplotlib jupyter   \n",
    "> conda env create -f py37.yml   \n",
    "> conda env update --file py37.yml   \n",
    "> conda env list   \n",
    "> conda activate py37  \n",
    "> conda env remove --name py37   "
   ]
  },
  {
   "cell_type": "markdown",
   "metadata": {},
   "source": [
    "### Available Versions 13/02/2021\n",
    "\n",
    "Package | conda | colab |\n",
    "--------|-------| -------|\n",
    "jupyter | 2.2.26 | |\n",
    "IPython | 7.21.*  | 5.5.0 |"
   ]
  },
  {
   "cell_type": "markdown",
   "metadata": {},
   "source": [
    "##### Known Critical Dependencies\n",
    "- librosa==0.8.0   requires  numba==0.48      higher versions of numba break librosa\n",
    "- Google Colab     has IPython=5.5.0"
   ]
  },
  {
   "cell_type": "markdown",
   "metadata": {},
   "source": [
    "### Jupyter extensions\n"
   ]
  },
  {
   "cell_type": "markdown",
   "metadata": {},
   "source": [
    "To run many of the demos, you need to install ipywidgets\n",
    "and running ipywidgets from Jupyter Notebook or Jupyter lab requires extensions to be installed\n",
    "- Jupyter Notebook   \n",
    "    + install package widgetsnbextension\n",
    "- Jupyter Lab\n",
    "    + Go to the extensions\n",
    "    + Make sure that extensions are enabled\n",
    "    + find @jupyter-widgets/jupyterlab-manager.  Install this.\n",
    "    + Normally the installation will ask to rebuild jupyter lab - do so."
   ]
  },
  {
   "cell_type": "code",
   "execution_count": null,
   "metadata": {},
   "outputs": [],
   "source": []
  }
 ],
 "metadata": {
  "kernelspec": {
   "display_name": "Python 3 (ipykernel)",
   "language": "python",
   "name": "python3"
  },
  "language_info": {
   "codemirror_mode": {
    "name": "ipython",
    "version": 3
   },
   "file_extension": ".py",
   "mimetype": "text/x-python",
   "name": "python",
   "nbconvert_exporter": "python",
   "pygments_lexer": "ipython3",
   "version": "3.7.13"
  },
  "widgets": {
   "application/vnd.jupyter.widget-state+json": {
    "state": {},
    "version_major": 2,
    "version_minor": 0
   }
  }
 },
 "nbformat": 4,
 "nbformat_minor": 4
}
