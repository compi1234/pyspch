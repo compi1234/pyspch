{
 "cells": [
  {
   "cell_type": "code",
   "execution_count": 5,
   "id": "lasting-texas",
   "metadata": {},
   "outputs": [],
   "source": [
    "try:\n",
    "  import google.colab\n",
    "  IN_COLAB = True \n",
    "except:\n",
    "  IN_COLAB = False"
   ]
  },
  {
   "cell_type": "code",
   "execution_count": 6,
   "id": "further-harvey",
   "metadata": {},
   "outputs": [],
   "source": [
    "def check_colab():\n",
    "    global IN_COLAB\n",
    "    try: IN_COLAB\n",
    "    except NameError: IN_COLAB = False\n",
    "    return(IN_COLAB)"
   ]
  },
  {
   "cell_type": "code",
   "execution_count": 7,
   "id": "optional-product",
   "metadata": {},
   "outputs": [],
   "source": [
    "# IN_COLAB = True"
   ]
  },
  {
   "cell_type": "code",
   "execution_count": 15,
   "id": "civic-samba",
   "metadata": {},
   "outputs": [
    {
     "data": {
      "text/plain": [
       "False"
      ]
     },
     "execution_count": 15,
     "metadata": {},
     "output_type": "execute_result"
    }
   ],
   "source": [
    "check_colab()"
   ]
  },
  {
   "cell_type": "code",
   "execution_count": 13,
   "id": "personal-gospel",
   "metadata": {},
   "outputs": [],
   "source": [
    "## Another more direct way is to check the IPython version"
   ]
  },
  {
   "cell_type": "code",
   "execution_count": 11,
   "id": "herbal-harvard",
   "metadata": {},
   "outputs": [],
   "source": [
    "IN_COLAB = 'google.colab' in str(get_ipython())"
   ]
  },
  {
   "cell_type": "code",
   "execution_count": 12,
   "id": "heard-locking",
   "metadata": {},
   "outputs": [
    {
     "data": {
      "text/plain": [
       "False"
      ]
     },
     "execution_count": 12,
     "metadata": {},
     "output_type": "execute_result"
    }
   ],
   "source": [
    "IN_COLAB"
   ]
  },
  {
   "cell_type": "code",
   "execution_count": 14,
   "id": "existing-winter",
   "metadata": {},
   "outputs": [],
   "source": [
    "def check_colab():\n",
    "    return('google.colab' in str(get_ipython()))"
   ]
  },
  {
   "cell_type": "code",
   "execution_count": null,
   "id": "thirty-window",
   "metadata": {},
   "outputs": [],
   "source": []
  }
 ],
 "metadata": {
  "kernelspec": {
   "display_name": "Python 3",
   "language": "python",
   "name": "python3"
  },
  "language_info": {
   "codemirror_mode": {
    "name": "ipython",
    "version": 3
   },
   "file_extension": ".py",
   "mimetype": "text/x-python",
   "name": "python",
   "nbconvert_exporter": "python",
   "pygments_lexer": "ipython3",
   "version": "3.8.3"
  },
  "widgets": {
   "application/vnd.jupyter.widget-state+json": {
    "state": {},
    "version_major": 2,
    "version_minor": 0
   }
  }
 },
 "nbformat": 4,
 "nbformat_minor": 5
}
