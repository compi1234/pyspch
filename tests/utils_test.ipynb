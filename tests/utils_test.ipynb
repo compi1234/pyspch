{
 "cells": [
  {
   "cell_type": "markdown",
   "metadata": {
    "id": "l6uLS2mjFAGy"
   },
   "source": [
    "# Test Notebook for functions in utilities\n",
    "\n",
    "09/03/2022: tested with v0.6"
   ]
  },
  {
   "cell_type": "code",
   "execution_count": 1,
   "metadata": {},
   "outputs": [],
   "source": [
    "# optional install of the pyspch package\n",
    "#!pip install git+https://github.com/compi1234/pyspch.git"
   ]
  },
  {
   "cell_type": "code",
   "execution_count": 2,
   "metadata": {
    "executionInfo": {
     "elapsed": 1408,
     "status": "ok",
     "timestamp": 1605602917487,
     "user": {
      "displayName": "Dirk Van Compernolle",
      "photoUrl": "",
      "userId": "01011017094742215648"
     },
     "user_tz": -60
    },
    "id": "-g495yAlFAG1"
   },
   "outputs": [],
   "source": [
    "%matplotlib inline\n",
    "import os,sys,io \n",
    "import scipy.signal\n",
    "\n",
    "from urllib.request import urlopen\n",
    "from IPython.display import display, Audio, HTML, clear_output\n",
    "from ipywidgets import interact\n",
    "\n",
    "import math,time\n",
    "import numpy as np\n",
    "import pandas as pd\n",
    "import matplotlib as mpl\n",
    "import matplotlib.pyplot as plt\n",
    "import matplotlib.gridspec as gridspec \n",
    "\n",
    "    \n",
    "import pyspch.sp as Sps\n",
    "import pyspch.display as Spd\n",
    "import pyspch.core as Spch"
   ]
  },
  {
   "cell_type": "markdown",
   "metadata": {},
   "source": [
    "### CONFUSION MATRIX\n",
    "\n",
    "The confusion matrix can be a numpy array or a pandas DataFrame"
   ]
  },
  {
   "cell_type": "code",
   "execution_count": 3,
   "metadata": {},
   "outputs": [
    {
     "name": "stdout",
     "output_type": "stream",
     "text": [
      "[[0.1 0.8 0.1]\n",
      " [0.2 0.3 0.5]\n",
      " [0.9 0.1 0. ]]\n"
     ]
    },
    {
     "data": {
      "image/png": "[encoded data removed]",
      "text/plain": [
       "<Figure size 216x216 with 1 Axes>"
      ]
     },
     "metadata": {},
     "output_type": "display_data"
    },
    {
     "data": {
      "image/png": "[encoded data removed]",
      "text/plain": [
       "<Figure size 288x288 with 1 Axes>"
      ]
     },
     "metadata": {
      "needs_background": "light"
     },
     "output_type": "display_data"
    }
   ],
   "source": [
    "cm = np.array([[.1,.8,.1],[.2,.3,.5],[.9,.1,.0]])\n",
    "labels=['xx','ih','ah']\n",
    "print(cm)\n",
    "Spch.plot_confusion_matrix(cm,fmt='.2f',figsize=(3,3));\n",
    "#\n",
    "Spch.plot_confusion_matrix(cm,fmt='.1e',labels=labels,title='CMAT\\n');\n"
   ]
  },
  {
   "cell_type": "code",
   "execution_count": 4,
   "metadata": {},
   "outputs": [
    {
     "name": "stdout",
     "output_type": "stream",
     "text": [
      "Help on function plot_confusion_matrix in module pyspch.core.utils:\n",
      "\n",
      "plot_confusion_matrix(cm, labels=[], title='Confusion Matrix\\n', figsize=(4, 4), **kwargs)\n",
      "    Plot a Confusion Matrix\n",
      "    \n",
      "    Arguments\n",
      "        cm        confusion matrix, np.array or DataFrame\n",
      "        labels    Default = []\n",
      "        title     Default = 'Confusion Matrix'\n",
      "        figsize   Default = (4,4)\n",
      "        **kwargs  extra arguments to pass to sns.heatmap()\n",
      "\n"
     ]
    }
   ],
   "source": [
    "help(Spch.plot_confusion_matrix)"
   ]
  },
  {
   "cell_type": "markdown",
   "metadata": {},
   "source": [
    "### Segmentations <--> Alignments (label sequences)"
   ]
  },
  {
   "cell_type": "code",
   "execution_count": 5,
   "metadata": {},
   "outputs": [
    {
     "data": {
      "text/html": [
       "<div>\n",
       "<style scoped>\n",
       "    .dataframe tbody tr th:only-of-type {\n",
       "        vertical-align: middle;\n",
       "    }\n",
       "\n",
       "    .dataframe tbody tr th {\n",
       "        vertical-align: top;\n",
       "    }\n",
       "\n",
       "    .dataframe thead th {\n",
       "        text-align: right;\n",
       "    }\n",
       "</style>\n",
       "<table border=\"1\" class=\"dataframe\">\n",
       "  <thead>\n",
       "    <tr style=\"text-align: right;\">\n",
       "      <th></th>\n",
       "      <th>t0</th>\n",
       "      <th>t1</th>\n",
       "      <th>seg</th>\n",
       "    </tr>\n",
       "  </thead>\n",
       "  <tbody>\n",
       "    <tr>\n",
       "      <th>0</th>\n",
       "      <td>0.0210</td>\n",
       "      <td>0.0455</td>\n",
       "      <td>x1</td>\n",
       "    </tr>\n",
       "    <tr>\n",
       "      <th>1</th>\n",
       "      <td>0.0745</td>\n",
       "      <td>0.0780</td>\n",
       "      <td>xx2</td>\n",
       "    </tr>\n",
       "    <tr>\n",
       "      <th>2</th>\n",
       "      <td>0.1000</td>\n",
       "      <td>0.1260</td>\n",
       "      <td>xxx3</td>\n",
       "    </tr>\n",
       "  </tbody>\n",
       "</table>\n",
       "</div>"
      ],
      "text/plain": [
       "       t0      t1   seg\n",
       "0  0.0210  0.0455    x1\n",
       "1  0.0745  0.0780   xx2\n",
       "2  0.1000  0.1260  xxx3"
      ]
     },
     "execution_count": 5,
     "metadata": {},
     "output_type": "execute_result"
    }
   ],
   "source": [
    "seg1 = pd.DataFrame({'t0':[.021,.0745,.10],'t1':[.0455,.078,.126],'seg':['x1','xx2','xxx3']})\n",
    "seg1"
   ]
  },
  {
   "cell_type": "code",
   "execution_count": 6,
   "metadata": {},
   "outputs": [
    {
     "data": {
      "text/plain": [
       "[None,\n",
       " None,\n",
       " 'x1',\n",
       " 'x1',\n",
       " 'x1',\n",
       " None,\n",
       " None,\n",
       " 'xx2',\n",
       " None,\n",
       " None,\n",
       " 'xxx3',\n",
       " 'xxx3',\n",
       " 'xxx3',\n",
       " None,\n",
       " None]"
      ]
     },
     "execution_count": 6,
     "metadata": {},
     "output_type": "execute_result"
    }
   ],
   "source": [
    "lbls1 = Spch.seg2lbls(seg1,n_frames=15)\n",
    "lbls1"
   ]
  },
  {
   "cell_type": "code",
   "execution_count": 7,
   "metadata": {},
   "outputs": [
    {
     "data": {
      "text/plain": [
       "(['x1',\n",
       "  'x1',\n",
       "  'x1',\n",
       "  'x1',\n",
       "  'x1',\n",
       "  'x1',\n",
       "  'x1',\n",
       "  'xx2',\n",
       "  'x1',\n",
       "  'x1',\n",
       "  'xxx3',\n",
       "  'xxx3',\n",
       "  'xxx3',\n",
       "  'x1',\n",
       "  'x1'],\n",
       "      t0    t1   seg\n",
       " 0  0.00  0.07    x1\n",
       " 1  0.07  0.08   xx2\n",
       " 2  0.08  0.10    x1\n",
       " 3  0.10  0.13  xxx3\n",
       " 4  0.13  0.15    x1)"
      ]
     },
     "execution_count": 7,
     "metadata": {},
     "output_type": "execute_result"
    }
   ],
   "source": [
    "lbls2 = Spch.seg2lbls(seg1,n_frames=15,pad_lbl='x1')\n",
    "lbls2, Spch.lbls2seg(lbls2)"
   ]
  },
  {
   "cell_type": "code",
   "execution_count": 8,
   "metadata": {},
   "outputs": [
    {
     "data": {
      "text/plain": [
       "(     t0    t1   seg\n",
       " 0  0.00  0.02  None\n",
       " 1  0.02  0.05    x1\n",
       " 2  0.05  0.07  None\n",
       " 3  0.07  0.08   xx2\n",
       " 4  0.08  0.10  None\n",
       " 5  0.10  0.13  xxx3\n",
       " 6  0.13  0.15  None,\n",
       "      t0    t1   seg\n",
       " 0  0.00  0.02  None\n",
       " 1  0.02  0.05    x1\n",
       " 2  0.05  0.07  None\n",
       " 3  0.07  0.08   xx2\n",
       " 4  0.08  0.10  None\n",
       " 5  0.10  0.13  xxx3\n",
       " 6  0.13  0.15  None)"
      ]
     },
     "execution_count": 8,
     "metadata": {},
     "output_type": "execute_result"
    }
   ],
   "source": [
    "# verify that the routines are invertible, after quantization to frame boundaries\n",
    "seg1=Spch.lbls2seg(lbls1)\n",
    "seg1_x = Spch.lbls2seg(Spch.seg2lbls(seg1))\n",
    "seg1, seg1_x"
   ]
  },
  {
   "cell_type": "code",
   "execution_count": null,
   "metadata": {},
   "outputs": [],
   "source": []
  },
  {
   "cell_type": "code",
   "execution_count": null,
   "metadata": {},
   "outputs": [],
   "source": []
  }
 ],
 "metadata": {
  "kernelspec": {
   "display_name": "Python 3",
   "language": "python",
   "name": "python3"
  },
  "language_info": {
   "codemirror_mode": {
    "name": "ipython",
    "version": 3
   },
   "file_extension": ".py",
   "mimetype": "text/x-python",
   "name": "python",
   "nbconvert_exporter": "python",
   "pygments_lexer": "ipython3",
   "version": "3.7.8"
  },
  "widgets": {
   "application/vnd.jupyter.widget-state+json": {
    "state": {},
    "version_major": 2,
    "version_minor": 0
   }
  }
 },
 "nbformat": 4,
 "nbformat_minor": 4
}
