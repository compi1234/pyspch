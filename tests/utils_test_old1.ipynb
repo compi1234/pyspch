{
 "cells": [
  {
   "cell_type": "markdown",
   "metadata": {
    "id": "l6uLS2mjFAGy"
   },
   "source": [
    "# Test Notebook for functions in utilities\n",
    "\n",
    "09/03/2022: tested with v0.6"
   ]
  },
  {
   "cell_type": "code",
   "execution_count": 1,
   "metadata": {
    "executionInfo": {
     "elapsed": 1408,
     "status": "ok",
     "timestamp": 1605602917487,
     "user": {
      "displayName": "Dirk Van Compernolle",
      "photoUrl": "",
      "userId": "01011017094742215648"
     },
     "user_tz": -60
    },
    "id": "-g495yAlFAG1"
   },
   "outputs": [],
   "source": [
    "%matplotlib inline\n",
    "import os,sys,io \n",
    "import scipy.signal\n",
    "\n",
    "from urllib.request import urlopen\n",
    "from IPython.display import display, Audio, HTML, clear_output\n",
    "from ipywidgets import interact\n",
    "\n",
    "import math,time\n",
    "import numpy as np\n",
    "import pandas as pd\n",
    "import matplotlib as mpl\n",
    "import matplotlib.pyplot as plt\n",
    "import matplotlib.gridspec as gridspec \n",
    "\n",
    "    \n",
    "import pyspch.sp as Sps\n",
    "import pyspch.display as Spd\n",
    "import pyspch.core as Spch"
   ]
  },
  {
   "cell_type": "markdown",
   "metadata": {},
   "source": [
    "### CONFUSION MATRIX\n",
    "\n",
    "The confusion matrix can be a numpy array or a pandas DataFrame"
   ]
  },
  {
   "cell_type": "code",
   "execution_count": 2,
   "metadata": {},
   "outputs": [
    {
     "name": "stdout",
     "output_type": "stream",
     "text": [
      "[[0.1 0.8 0.1]\n",
      " [0.2 0.3 0.5]\n",
      " [0.9 0.1 0. ]]\n"
     ]
    },
    {
     "data": {
      "image/png": "[encoded data removed]",
      "text/plain": [
       "<Figure size 288x288 with 1 Axes>"
      ]
     },
     "metadata": {},
     "output_type": "display_data"
    },
    {
     "data": {
      "image/png": "[encoded data removed]",
      "text/plain": [
       "<Figure size 288x288 with 1 Axes>"
      ]
     },
     "metadata": {
      "needs_background": "light"
     },
     "output_type": "display_data"
    }
   ],
   "source": [
    "cm = np.array([[.1,.8,.1],[.2,.3,.5],[.9,.1,.0]])\n",
    "labels=['xx','ih','ah']\n",
    "print(cm)\n",
    "Spch.plot_confusion_matrix(cm,fmt='.2f');\n",
    "#\n",
    "Spch.plot_confusion_matrix(cm,fmt='.1e',labels=labels,title='CMAT\\n');\n"
   ]
  },
  {
   "cell_type": "code",
   "execution_count": null,
   "metadata": {},
   "outputs": [],
   "source": []
  },
  {
   "cell_type": "code",
   "execution_count": null,
   "metadata": {},
   "outputs": [],
   "source": [
    "# \n",
    "HAT1D = [\n",
    "    [0.,1.,2.,1.,0.,0.1,-0.1,0.,.05],\n",
    "    [0.,0.,0.,1.,2.,1.,0.,0.],\n",
    "    [0.,1.5,2.5,1.,0.,0.15,-0.2,0.,.5],\n",
    "    [0.5,0.2,0.1,.8,1.2,1.,-0.3,0.4]\n",
    "]\n",
    "\n",
    "\n",
    "def flatten(t):\n",
    "    return [item for sublist in t for item in sublist]\n",
    "\n",
    "def load_toy_data(data='seq1d',select=0):\n",
    "    '''\n",
    "    a number of toy data sets, intended for debugging\n",
    "    \n",
    "    Arguments:\n",
    "    \n",
    "    data (str):   the type of data to generate, options are\n",
    "                      'seq1d', 'seq1d_d', 'seq2d', 'seq2d_d'\n",
    "    select (int or slice):   a number for selecting a variant\n",
    "    '''\n",
    "    \n",
    "    data = data.lower()\n",
    "    \n",
    "    if data == 'hat1d': dataset = HAT1D\n",
    "    \n",
    "    Y = []\n",
    "    for x in dataset:\n",
    "        Y.append(np.array(x))\n",
    "\n",
    "    return(Y[select])"
   ]
  },
  {
   "cell_type": "code",
   "execution_count": null,
   "metadata": {},
   "outputs": [],
   "source": [
    "sel = slice(0,3)\n",
    "for i in range(sel.start,sel.stop): print(i)"
   ]
  },
  {
   "cell_type": "code",
   "execution_count": null,
   "metadata": {},
   "outputs": [],
   "source": [
    "x1d = np.array([0.,1.,2.,1.,0.,0.1,-0.1,0.,.05]).reshape(-1,1)\n",
    "y1d = np.array([0.,0.,0.,1.,2.,1.,0.,0.]).reshape(-1,1)\n",
    "x2d = np.array([[0.,1.,2.,1.,0.,0.1,-0.1,0.,.05],[0.3,1.3,1.5,1.5,1.,0.3,-0.24,0.3,.05]]).T\n",
    "y2d = np.array([[0.,0.,0.,1.,2.,1.,0.,0.],[1.,1.,1.,1.,-2.,-1.,0.3,0.5]]).T"
   ]
  },
  {
   "cell_type": "code",
   "execution_count": null,
   "metadata": {},
   "outputs": [],
   "source": [
    "X = load_toy_data(data='hat1d',select=0)\n",
    "X"
   ]
  },
  {
   "cell_type": "code",
   "execution_count": null,
   "metadata": {},
   "outputs": [],
   "source": [
    "h1flat=flatten(HAT1D)\n",
    "h1flat[0,3]"
   ]
  },
  {
   "cell_type": "markdown",
   "metadata": {},
   "source": [
    "## TIMIT Alphabets, Mappings, label2indx, ..\n",
    "\n",
    "we use following naming conventions\n",
    "\n",
    "- phone:  name of an element in a phonetic alphabet\n",
    "- idx:    index of a phone in the alphabet\n",
    "- map_phn2idx, map_idx2phn:  dictionaries for converting between phone and idx\n",
    "- seg:    segmentation dataframe\n",
    "- lbls:   (list) alignment sequence of phone labels\n",
    "- indx:   (list) alignment sequence of phone indices"
   ]
  },
  {
   "cell_type": "code",
   "execution_count": null,
   "metadata": {},
   "outputs": [],
   "source": [
    "### Predefined symbol sets , e.g. TIMIT61, TIMIT48, TIMIT41\n",
    "Spch.TIMIT41"
   ]
  },
  {
   "cell_type": "code",
   "execution_count": null,
   "metadata": {},
   "outputs": [],
   "source": [
    "# predefined conversions\n",
    "Spch.timit61_41"
   ]
  },
  {
   "cell_type": "code",
   "execution_count": null,
   "metadata": {},
   "outputs": [],
   "source": [
    "# unique phone <--> index mappings\n",
    "phn_set = np.array(Spch.TIMIT41)\n",
    "map_idx2phn = {i : phn for i, phn in enumerate(phn_set) }\n",
    "map_phn2idx = {phn : i for i, phn in enumerate(phn_set) }\n",
    "map_idx2phn"
   ]
  },
  {
   "cell_type": "code",
   "execution_count": null,
   "metadata": {},
   "outputs": [],
   "source": [
    "# convert labels to indices usable for slicing\n",
    "def lbls2indx(lbls,map_phn2idx=None):\n",
    "    return np.array([ map_phn2idx[phn] for phn in lbls ])\n",
    "# convert indices to labels for readability\n",
    "def indx2lbls(indx,map_idx2phn=None):\n",
    "    return np.array([ map_idx2phn[i] for i in indx ])"
   ]
  },
  {
   "cell_type": "code",
   "execution_count": null,
   "metadata": {},
   "outputs": [],
   "source": [
    "indx = [0,3,38,2,2,2,1]\n",
    "lbls = indx2lbls(indx,map_idx2phn=map_idx2phn)\n",
    "lbls"
   ]
  },
  {
   "cell_type": "code",
   "execution_count": null,
   "metadata": {},
   "outputs": [],
   "source": [
    "indxx = lbls2indx(lbls,map_phn2idx=map_phn2idx)\n",
    "indxx"
   ]
  },
  {
   "cell_type": "markdown",
   "metadata": {},
   "source": [
    "## Segmentations and Alignments\n",
    "\n",
    "- segmentation:  contains asynchronous segmentation times and labels\n",
    "- alignment:     a frame synchronous mapping from index to label"
   ]
  },
  {
   "cell_type": "code",
   "execution_count": null,
   "metadata": {},
   "outputs": [],
   "source": [
    "# convert a segmentation in DataFrame format to a label sequence\n",
    "def seg2lbls(seg,shift=0.01,output=None,indices=False):\n",
    "    '''\n",
    "    Convert segmentation dataframe to a label sequence\n",
    "    \n",
    "    Arguments:\n",
    "        indices    Boolean, False returns the labels only, True returns indices+labels\n",
    "        output     'df' will return as DataFrame, otherwise as array\n",
    "        \n",
    "    Returns \n",
    "        zip of (frame_indices, frame_labels)\n",
    "        dataframe of (frame_indices, frame_labels) if output == 'df' \n",
    "    \n",
    "    if indices=False, then the index of the returned alignment can be used as frame label\n",
    "        This assumes the segmentation to be 'complete', i.e. no missing gaps\n",
    "    if indices=True, then the segmentation needs not be complete, some frame indices may be missing\n",
    "\n",
    "    '''\n",
    "    fr_indx = []\n",
    "    lbls = []\n",
    "    for indx in seg.index:\n",
    "        i1 = round((seg['t0'][indx])/shift)\n",
    "        i2 = round(seg['t1'][indx]/shift)\n",
    "        for i in range(i1,i2):\n",
    "            fr_indx.append(i)\n",
    "            lbls.append(seg['seg'][indx])\n",
    "    fr_indx = np.array(fr_indx)\n",
    "    lbls = np.array(lbls)\n",
    "    if indices:\n",
    "        if output == 'df':\n",
    "            return(pd.DataFrame({\"frame\":fr_indx,\"label\":lbls}))\n",
    "        else:\n",
    "            return(zip(fr_indx,lbls))\n",
    "    else:\n",
    "        if output == 'df':\n",
    "            return(pd.DataFrame({\"label\":lbls}))\n",
    "        else: return(lbls)\n",
    "\n",
    "        \n",
    "        \n",
    "def lbls2seg(lbls,shift=0.01):\n",
    "    '''\n",
    "    convert a label sequence to a segmentation DataFrame\n",
    "    This conversion may fail if some frames are not labeled\n",
    "    '''\n",
    "\n",
    "    t1 = []\n",
    "    t0 = [ 0. ]\n",
    "    seg = [ lbls[0] ]\n",
    "    for i in range(1,len(lbls)):\n",
    "        if lbls[i] != lbls[i-1]:\n",
    "            t0.append( i*shift )\n",
    "            seg.append(lbls[i])\n",
    "            t1.append( i*shift )\n",
    "    t1.append( len(lbls) * shift )\n",
    "    return( pd.DataFrame({'t0':t0,'t1':t1,'seg':seg}) )    \n"
   ]
  },
  {
   "cell_type": "code",
   "execution_count": null,
   "metadata": {},
   "outputs": [],
   "source": [
    "# read a datafile\n",
    "dir='https://homes.esat.kuleuven.be/~spchlab/data/'\n",
    "file = \"timit/si1027\" \n",
    "sr=16000.\n",
    "segphn = Spch.read_seg_file(dir+file+ \".phn\",dt=1/sr,fmt='float32',xlat='timit61_41')\n",
    "segphn"
   ]
  },
  {
   "cell_type": "code",
   "execution_count": null,
   "metadata": {},
   "outputs": [],
   "source": [
    "seg2lbls(segphn,output='df')"
   ]
  },
  {
   "cell_type": "code",
   "execution_count": null,
   "metadata": {},
   "outputs": [],
   "source": [
    "seg2lbls(segphn)"
   ]
  },
  {
   "cell_type": "markdown",
   "metadata": {},
   "source": [
    "### Reading TIMIT transcriptions files"
   ]
  },
  {
   "cell_type": "code",
   "execution_count": null,
   "metadata": {},
   "outputs": [],
   "source": [
    "fn1 = 'timit/sa1.txt'\n",
    "#fn1=\"timit/phones-61-48-39-41.txt\"\n",
    "fname='https://homes.esat.kuleuven.be/~spchlab/data/'\n",
    "transcript = Spch.read_data_file(fname+fn1)[0].strip().split(None,2)\n",
    "print('Samples: ',int(transcript[0]),int(transcript[1]))\n",
    "print('Transcript: ',transcript[2].strip('.,!?:;'))"
   ]
  },
  {
   "cell_type": "markdown",
   "metadata": {},
   "source": [
    "### Reading Mapping files and converting to dictionary"
   ]
  },
  {
   "cell_type": "code",
   "execution_count": null,
   "metadata": {},
   "outputs": [],
   "source": [
    "fn1=\"timit/phones-61-48-39-41.txt\"\n",
    "fname='https://homes.esat.kuleuven.be/~spchlab/data/'\n",
    "transcript = Spch.read_data_file(fname+fn1)\n",
    "cols = Spch.read_data_file(fname+fn1, maxcols = 4)\n",
    "dict(zip(cols[0],cols[3]))"
   ]
  },
  {
   "cell_type": "markdown",
   "metadata": {},
   "source": [
    "## (TIMIT) Segmentation Files\n",
    "\n",
    "Segmentation Files are assumed to be in the format\n",
    "\n",
    "t0  t1   seg    \n",
    "....\n",
    "\n",
    "\n",
    "#### time units\n",
    "t0, t1 are begin and end-times of segment 'seg'\n",
    "the units of time, can be specified in the read_seg_file() module with 'dt', by default segmentation times are given in seconds;\n",
    "in timit it is often in samples (with SR=16000), thus use dt=1/16000\n",
    "\n",
    "#### phonetic symbols\n",
    "Phonetic transcriptions come in a variety of phonetic symbol sets.\n",
    "These utilities include default definitions (and orderings) of **TIMIT48** and **TIMIT41**.   TIMIT48 is the default used in experiments with TIMIT.   TIMIT41 is our own more compact version inspired by the alphabet in the CMU dictionaries, with 1 additional closure ('cl') symbol.\n",
    "\n",
    "A number of mappings between the different alphabets are foreseen.  To apply them use the field 'xlat' at time of reading and specify the desired translation:  timit61_48, timit61_41, ..\n",
    "These are simple dictionary based mappings.   "
   ]
  },
  {
   "cell_type": "code",
   "execution_count": null,
   "metadata": {},
   "outputs": [],
   "source": [
    "# read a datafile\n",
    "dir='https://homes.esat.kuleuven.be/~spchlab/data/'\n",
    "file = \"timit/si1027\" #@param {type:\"string\"}\n",
    "wavfile = dir+file+\".wav\" \n",
    "wavdata, sr = Spch.load(wavfile)\n",
    "spg1 = Sps.spectrogram(wavdata,sample_rate=sr,n_mels=None)\n",
    "\n",
    "# get segmentations\n",
    "segwrd = Spch.read_seg_file(dir+file+ \".wrd\",dt=1/sr,fmt='float32')\n",
    "segphn61 = Spch.read_seg_file(dir+file+ \".phn\",dt=1/sr,fmt='float32')\n",
    "segphn = Spch.read_seg_file(dir+file+ \".phn\",dt=1/sr,fmt='float32',xlat='timit61_41')"
   ]
  },
  {
   "cell_type": "code",
   "execution_count": null,
   "metadata": {},
   "outputs": [],
   "source": [
    "fig = Spd.PlotSpg(spg1,wavdata=wavdata,segwav=segwrd,segspg=segphn,sample_rate=sr)\n",
    "display(fig)\n",
    "display(Audio(data=wavdata,rate=sr))"
   ]
  }
 ],
 "metadata": {
  "kernelspec": {
   "display_name": "Python 3",
   "language": "python",
   "name": "python3"
  },
  "language_info": {
   "codemirror_mode": {
    "name": "ipython",
    "version": 3
   },
   "file_extension": ".py",
   "mimetype": "text/x-python",
   "name": "python",
   "nbconvert_exporter": "python",
   "pygments_lexer": "ipython3",
   "version": "3.7.8"
  },
  "widgets": {
   "application/vnd.jupyter.widget-state+json": {
    "state": {},
    "version_major": 2,
    "version_minor": 0
   }
  }
 },
 "nbformat": 4,
 "nbformat_minor": 4
}
