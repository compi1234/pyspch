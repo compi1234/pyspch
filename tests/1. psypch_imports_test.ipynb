{
 "cells": [
  {
   "cell_type": "markdown",
   "metadata": {},
   "source": [
    "# Testing Import functionalities"
   ]
  },
  {
   "cell_type": "markdown",
   "metadata": {},
   "source": [
    "Testing notebook for importing all or part of pyspch \n",
    "  \n",
    "**Modified:**  \n",
    "31/10/2023  \n",
    "\n",
    "**Verified:**  \n",
    "31/10/2023: v0.8.0 on Win11    \n",
    "17/01/2024: v0.8.2"
   ]
  },
  {
   "cell_type": "code",
   "execution_count": 2,
   "metadata": {},
   "outputs": [],
   "source": [
    "# Do the imports #\n",
    "##################\n",
    "#\n",
    "%matplotlib inline\n",
    "import os,sys \n",
    "import numpy as np\n",
    "import pandas as pd\n",
    "from IPython.display import display, Audio, HTML, clear_output\n",
    "import ipywidgets as widgets\n",
    "from ipywidgets import Box, HBox, VBox, Layout,interactive\n",
    "#\n",
    "\n",
    "import matplotlib.pyplot as plt\n",
    "import matplotlib as mpl\n",
    "import librosa"
   ]
  },
  {
   "cell_type": "code",
   "execution_count": 3,
   "metadata": {
    "tags": []
   },
   "outputs": [
    {
     "data": {
      "text/plain": [
       "['EPS_FLOAT',\n",
       " 'EPS_LOG',\n",
       " 'EPS_LOG10',\n",
       " 'LOG10',\n",
       " 'LOG2DB',\n",
       " 'NpEncoder',\n",
       " 'Path',\n",
       " 'SIGEPS_DB',\n",
       " 'SIGEPS_FLOAT',\n",
       " '__all__',\n",
       " '__builtins__',\n",
       " '__cached__',\n",
       " '__doc__',\n",
       " '__file__',\n",
       " '__loader__',\n",
       " '__magic__',\n",
       " '__name__',\n",
       " '__package__',\n",
       " '__path__',\n",
       " '__spec__',\n",
       " '__version__',\n",
       " 'audio',\n",
       " 'check_colab',\n",
       " 'convertf',\n",
       " 'core',\n",
       " 'dct_diff',\n",
       " 'display',\n",
       " 'floor',\n",
       " 'gridspec',\n",
       " 'hillenbrand',\n",
       " 'io',\n",
       " 'json',\n",
       " 'lbls2seg',\n",
       " 'lines_to_columns',\n",
       " 'log10f',\n",
       " 'logf',\n",
       " 'math',\n",
       " 'mpl',\n",
       " 'next_power_of_10',\n",
       " 'next_power_of_2',\n",
       " 'normalize',\n",
       " 'np',\n",
       " 'open_fobj',\n",
       " 'os',\n",
       " 'pd',\n",
       " 'pkg_resources',\n",
       " 'plot_confidence_ellipse',\n",
       " 'plot_confusion_matrix',\n",
       " 'plt',\n",
       " 'read_data_file',\n",
       " 'read_dataframe',\n",
       " 'read_fobj',\n",
       " 'read_json',\n",
       " 'read_txt',\n",
       " 'round_to_samples',\n",
       " 'seconds_to_samples',\n",
       " 'seg2lbls',\n",
       " 'sequence_data',\n",
       " 'sio',\n",
       " 'sns',\n",
       " 'sp',\n",
       " 'sys',\n",
       " 'timit',\n",
       " 'urlopen',\n",
       " 'urlparse',\n",
       " 'write_json',\n",
       " 'write_txt']"
      ]
     },
     "execution_count": 3,
     "metadata": {},
     "output_type": "execute_result"
    }
   ],
   "source": [
    "import pyspch\n",
    "dir(pyspch)"
   ]
  },
  {
   "cell_type": "markdown",
   "metadata": {},
   "source": [
    "## What's available via the imports\n",
    "\n",
    "1. All subpackages are imported under their name"
   ]
  },
  {
   "cell_type": "code",
   "execution_count": 4,
   "metadata": {},
   "outputs": [
    {
     "name": "stdout",
     "output_type": "stream",
     "text": [
      "[[ 0.5 -0.5]\n",
      " [-0.5  0.5]]\n"
     ]
    }
   ],
   "source": [
    "print(pyspch.sp.mean_norm([[5,4],[4,5]]))"
   ]
  },
  {
   "cell_type": "code",
   "execution_count": 5,
   "metadata": {},
   "outputs": [
    {
     "data": {
      "image/png": "[encoded data removed]",
      "text/plain": [
       "<SpchFig size 864x432 with 1 Axes>"
      ]
     },
     "execution_count": 5,
     "metadata": {},
     "output_type": "execute_result"
    }
   ],
   "source": [
    "pyspch.display.PlotWaveform(np.array([.1,.2]))"
   ]
  },
  {
   "cell_type": "code",
   "execution_count": 6,
   "metadata": {},
   "outputs": [
    {
     "data": {
      "text/plain": [
       "1e-39"
      ]
     },
     "execution_count": 6,
     "metadata": {},
     "output_type": "execute_result"
    }
   ],
   "source": [
    "pyspch.EPS_FLOAT"
   ]
  },
  {
   "cell_type": "markdown",
   "metadata": {},
   "source": [
    "2. All 'core' modules are directly imported as well into\n",
    "the main namespace"
   ]
  },
  {
   "cell_type": "code",
   "execution_count": 7,
   "metadata": {},
   "outputs": [],
   "source": [
    "txt = 'this was my string'"
   ]
  },
  {
   "cell_type": "code",
   "execution_count": 8,
   "metadata": {},
   "outputs": [],
   "source": [
    "pyspch.write_txt(txt,'file1.txt')"
   ]
  },
  {
   "cell_type": "code",
   "execution_count": 9,
   "metadata": {},
   "outputs": [
    {
     "data": {
      "text/plain": [
       "16"
      ]
     },
     "execution_count": 9,
     "metadata": {},
     "output_type": "execute_result"
    }
   ],
   "source": [
    "pyspch.next_power_of_2(13)"
   ]
  },
  {
   "cell_type": "code",
   "execution_count": 10,
   "metadata": {},
   "outputs": [
    {
     "data": {
      "text/html": [
       "<div>\n",
       "<style scoped>\n",
       "    .dataframe tbody tr th:only-of-type {\n",
       "        vertical-align: middle;\n",
       "    }\n",
       "\n",
       "    .dataframe tbody tr th {\n",
       "        vertical-align: top;\n",
       "    }\n",
       "\n",
       "    .dataframe thead th {\n",
       "        text-align: right;\n",
       "    }\n",
       "</style>\n",
       "<table border=\"1\" class=\"dataframe\">\n",
       "  <thead>\n",
       "    <tr style=\"text-align: right;\">\n",
       "      <th></th>\n",
       "      <th>gender</th>\n",
       "      <th>vowel</th>\n",
       "      <th>f0</th>\n",
       "      <th>F1</th>\n",
       "      <th>F2</th>\n",
       "      <th>F3</th>\n",
       "    </tr>\n",
       "    <tr>\n",
       "      <th>fid</th>\n",
       "      <th></th>\n",
       "      <th></th>\n",
       "      <th></th>\n",
       "      <th></th>\n",
       "      <th></th>\n",
       "      <th></th>\n",
       "    </tr>\n",
       "  </thead>\n",
       "  <tbody>\n",
       "    <tr>\n",
       "      <th>m01ae</th>\n",
       "      <td>m</td>\n",
       "      <td>ae</td>\n",
       "      <td>174.0</td>\n",
       "      <td>663.0</td>\n",
       "      <td>2012.0</td>\n",
       "      <td>2659.0</td>\n",
       "    </tr>\n",
       "    <tr>\n",
       "      <th>m02ae</th>\n",
       "      <td>m</td>\n",
       "      <td>ae</td>\n",
       "      <td>102.0</td>\n",
       "      <td>628.0</td>\n",
       "      <td>1871.0</td>\n",
       "      <td>2477.0</td>\n",
       "    </tr>\n",
       "    <tr>\n",
       "      <th>m03ae</th>\n",
       "      <td>m</td>\n",
       "      <td>ae</td>\n",
       "      <td>99.0</td>\n",
       "      <td>605.0</td>\n",
       "      <td>1812.0</td>\n",
       "      <td>2570.0</td>\n",
       "    </tr>\n",
       "    <tr>\n",
       "      <th>m04ae</th>\n",
       "      <td>m</td>\n",
       "      <td>ae</td>\n",
       "      <td>124.0</td>\n",
       "      <td>627.0</td>\n",
       "      <td>1910.0</td>\n",
       "      <td>2488.0</td>\n",
       "    </tr>\n",
       "    <tr>\n",
       "      <th>m06ae</th>\n",
       "      <td>m</td>\n",
       "      <td>ae</td>\n",
       "      <td>115.0</td>\n",
       "      <td>647.0</td>\n",
       "      <td>1864.0</td>\n",
       "      <td>2561.0</td>\n",
       "    </tr>\n",
       "    <tr>\n",
       "      <th>...</th>\n",
       "      <td>...</td>\n",
       "      <td>...</td>\n",
       "      <td>...</td>\n",
       "      <td>...</td>\n",
       "      <td>...</td>\n",
       "      <td>...</td>\n",
       "    </tr>\n",
       "    <tr>\n",
       "      <th>g17uw</th>\n",
       "      <td>g</td>\n",
       "      <td>uw</td>\n",
       "      <td>236.0</td>\n",
       "      <td>490.0</td>\n",
       "      <td>2179.0</td>\n",
       "      <td>3131.0</td>\n",
       "    </tr>\n",
       "    <tr>\n",
       "      <th>g18uw</th>\n",
       "      <td>g</td>\n",
       "      <td>uw</td>\n",
       "      <td>214.0</td>\n",
       "      <td>435.0</td>\n",
       "      <td>1829.0</td>\n",
       "      <td>3316.0</td>\n",
       "    </tr>\n",
       "    <tr>\n",
       "      <th>g19uw</th>\n",
       "      <td>g</td>\n",
       "      <td>uw</td>\n",
       "      <td>243.0</td>\n",
       "      <td>497.0</td>\n",
       "      <td>1334.0</td>\n",
       "      <td>3067.0</td>\n",
       "    </tr>\n",
       "    <tr>\n",
       "      <th>g20uw</th>\n",
       "      <td>g</td>\n",
       "      <td>uw</td>\n",
       "      <td>248.0</td>\n",
       "      <td>498.0</td>\n",
       "      <td>1740.0</td>\n",
       "      <td>3291.0</td>\n",
       "    </tr>\n",
       "    <tr>\n",
       "      <th>g21uw</th>\n",
       "      <td>g</td>\n",
       "      <td>uw</td>\n",
       "      <td>225.0</td>\n",
       "      <td>446.0</td>\n",
       "      <td>1533.0</td>\n",
       "      <td>3269.0</td>\n",
       "    </tr>\n",
       "  </tbody>\n",
       "</table>\n",
       "<p>1668 rows × 6 columns</p>\n",
       "</div>"
      ],
      "text/plain": [
       "      gender vowel     f0     F1      F2      F3\n",
       "fid                                             \n",
       "m01ae      m    ae  174.0  663.0  2012.0  2659.0\n",
       "m02ae      m    ae  102.0  628.0  1871.0  2477.0\n",
       "m03ae      m    ae   99.0  605.0  1812.0  2570.0\n",
       "m04ae      m    ae  124.0  627.0  1910.0  2488.0\n",
       "m06ae      m    ae  115.0  647.0  1864.0  2561.0\n",
       "...      ...   ...    ...    ...     ...     ...\n",
       "g17uw      g    uw  236.0  490.0  2179.0  3131.0\n",
       "g18uw      g    uw  214.0  435.0  1829.0  3316.0\n",
       "g19uw      g    uw  243.0  497.0  1334.0  3067.0\n",
       "g20uw      g    uw  248.0  498.0  1740.0  3291.0\n",
       "g21uw      g    uw  225.0  446.0  1533.0  3269.0\n",
       "\n",
       "[1668 rows x 6 columns]"
      ]
     },
     "execution_count": 10,
     "metadata": {},
     "output_type": "execute_result"
    }
   ],
   "source": [
    "pyspch.hillenbrand.fetch_hillenbrand()"
   ]
  },
  {
   "cell_type": "code",
   "execution_count": 11,
   "metadata": {
    "tags": []
   },
   "outputs": [
    {
     "data": {
      "text/plain": [
       "['aa',\n",
       " 'ae',\n",
       " 'ah',\n",
       " 'ao',\n",
       " 'aw',\n",
       " 'ax',\n",
       " 'er',\n",
       " 'ay',\n",
       " 'b',\n",
       " 'ch',\n",
       " 'd',\n",
       " 'dh',\n",
       " 'dx',\n",
       " 'eh',\n",
       " 'el',\n",
       " 'm',\n",
       " 'en',\n",
       " 'ng',\n",
       " 'ey',\n",
       " 'f',\n",
       " 'g',\n",
       " 'hh',\n",
       " 'ih',\n",
       " 'ix',\n",
       " 'iy',\n",
       " 'jh',\n",
       " 'k',\n",
       " 'l',\n",
       " 'n',\n",
       " 'ow',\n",
       " 'oy',\n",
       " 'p',\n",
       " 'r',\n",
       " 's',\n",
       " 'sh',\n",
       " 't',\n",
       " 'th',\n",
       " 'uh',\n",
       " 'uw',\n",
       " 'v',\n",
       " 'w',\n",
       " 'y',\n",
       " 'z',\n",
       " 'zh',\n",
       " 'sil',\n",
       " 'epi',\n",
       " 'vcl',\n",
       " 'cl']"
      ]
     },
     "execution_count": 11,
     "metadata": {},
     "output_type": "execute_result"
    }
   ],
   "source": [
    "pyspch.timit.TIMIT48"
   ]
  },
  {
   "cell_type": "code",
   "execution_count": 12,
   "metadata": {},
   "outputs": [
    {
     "data": {
      "text/plain": [
       "1e-39"
      ]
     },
     "execution_count": 12,
     "metadata": {},
     "output_type": "execute_result"
    }
   ],
   "source": [
    "pyspch.core.constants.EPS_FLOAT\n"
   ]
  },
  {
   "cell_type": "code",
   "execution_count": 13,
   "metadata": {},
   "outputs": [
    {
     "name": "stdout",
     "output_type": "stream",
     "text": [
      "Help on package pyspch.sp in pyspch:\n",
      "\n",
      "NAME\n",
      "    pyspch.sp\n",
      "\n",
      "PACKAGE CONTENTS\n",
      "    feature\n",
      "    frames\n",
      "    signal\n",
      "    spectral\n",
      "    time_domain\n",
      "\n",
      "DATA\n",
      "    __all__ = ['feature', 'spectral', 'frames', 'time_domain', 'signal']\n",
      "\n",
      "FILE\n",
      "    c:\\users\\compi\\onedrive - ku leuven\\python\\pyspch\\pyspch\\sp\\__init__.py\n",
      "\n",
      "\n"
     ]
    }
   ],
   "source": [
    "help(pyspch.sp)"
   ]
  },
  {
   "cell_type": "code",
   "execution_count": 14,
   "metadata": {},
   "outputs": [
    {
     "name": "stdout",
     "output_type": "stream",
     "text": [
      "Help on package pyspch:\n",
      "\n",
      "NAME\n",
      "    pyspch\n",
      "\n",
      "PACKAGE CONTENTS\n",
      "    core (package)\n",
      "    display (package)\n",
      "    dtw\n",
      "    nn (package)\n",
      "    sp (package)\n",
      "    stats (package)\n",
      "\n",
      "SUBMODULES\n",
      "    audio\n",
      "    hillenbrand\n",
      "    sequence_data\n",
      "    timit\n",
      "\n",
      "DATA\n",
      "    __all__ = ['core', 'sp', 'display', 'nn', 'dtw']\n",
      "    __magic__ = 'a magic number'\n",
      "\n",
      "VERSION\n",
      "    0.8.2\n",
      "\n",
      "FILE\n",
      "    c:\\users\\compi\\onedrive - ku leuven\\python\\pyspch\\pyspch\\__init__.py\n",
      "\n",
      "\n"
     ]
    }
   ],
   "source": [
    "help(pyspch)"
   ]
  },
  {
   "cell_type": "markdown",
   "metadata": {},
   "source": [
    "## \n",
    "Some core utilities and constants are automatically propagated to the top level,\n",
    "such as: constants, utils, file_tools and load_data   \n",
    "Others are only imported in their respective namespaces, such as: audio, hillenbrand, sequence_data and timit"
   ]
  },
  {
   "cell_type": "code",
   "execution_count": 15,
   "metadata": {},
   "outputs": [
    {
     "name": "stdout",
     "output_type": "stream",
     "text": [
      "1e-39\n",
      "<class 'module'> <class 'module'>\n",
      "[3.34066055 1.37969491 0.02332681]\n",
      "[3.54700614 1.49014756]\n"
     ]
    },
    {
     "data": {
      "text/html": [
       "<div>\n",
       "<style scoped>\n",
       "    .dataframe tbody tr th:only-of-type {\n",
       "        vertical-align: middle;\n",
       "    }\n",
       "\n",
       "    .dataframe tbody tr th {\n",
       "        vertical-align: top;\n",
       "    }\n",
       "\n",
       "    .dataframe thead th {\n",
       "        text-align: right;\n",
       "    }\n",
       "</style>\n",
       "<table border=\"1\" class=\"dataframe\">\n",
       "  <thead>\n",
       "    <tr style=\"text-align: right;\">\n",
       "      <th></th>\n",
       "      <th>gender</th>\n",
       "      <th>vowel</th>\n",
       "      <th>f0</th>\n",
       "      <th>F1</th>\n",
       "      <th>F2</th>\n",
       "      <th>F3</th>\n",
       "    </tr>\n",
       "    <tr>\n",
       "      <th>fid</th>\n",
       "      <th></th>\n",
       "      <th></th>\n",
       "      <th></th>\n",
       "      <th></th>\n",
       "      <th></th>\n",
       "      <th></th>\n",
       "    </tr>\n",
       "  </thead>\n",
       "  <tbody>\n",
       "    <tr>\n",
       "      <th>m01ae</th>\n",
       "      <td>m</td>\n",
       "      <td>ae</td>\n",
       "      <td>174.0</td>\n",
       "      <td>663.0</td>\n",
       "      <td>2012.0</td>\n",
       "      <td>2659.0</td>\n",
       "    </tr>\n",
       "    <tr>\n",
       "      <th>m02ae</th>\n",
       "      <td>m</td>\n",
       "      <td>ae</td>\n",
       "      <td>102.0</td>\n",
       "      <td>628.0</td>\n",
       "      <td>1871.0</td>\n",
       "      <td>2477.0</td>\n",
       "    </tr>\n",
       "    <tr>\n",
       "      <th>m03ae</th>\n",
       "      <td>m</td>\n",
       "      <td>ae</td>\n",
       "      <td>99.0</td>\n",
       "      <td>605.0</td>\n",
       "      <td>1812.0</td>\n",
       "      <td>2570.0</td>\n",
       "    </tr>\n",
       "    <tr>\n",
       "      <th>m04ae</th>\n",
       "      <td>m</td>\n",
       "      <td>ae</td>\n",
       "      <td>124.0</td>\n",
       "      <td>627.0</td>\n",
       "      <td>1910.0</td>\n",
       "      <td>2488.0</td>\n",
       "    </tr>\n",
       "    <tr>\n",
       "      <th>m06ae</th>\n",
       "      <td>m</td>\n",
       "      <td>ae</td>\n",
       "      <td>115.0</td>\n",
       "      <td>647.0</td>\n",
       "      <td>1864.0</td>\n",
       "      <td>2561.0</td>\n",
       "    </tr>\n",
       "    <tr>\n",
       "      <th>...</th>\n",
       "      <td>...</td>\n",
       "      <td>...</td>\n",
       "      <td>...</td>\n",
       "      <td>...</td>\n",
       "      <td>...</td>\n",
       "      <td>...</td>\n",
       "    </tr>\n",
       "    <tr>\n",
       "      <th>g17uw</th>\n",
       "      <td>g</td>\n",
       "      <td>uw</td>\n",
       "      <td>236.0</td>\n",
       "      <td>490.0</td>\n",
       "      <td>2179.0</td>\n",
       "      <td>3131.0</td>\n",
       "    </tr>\n",
       "    <tr>\n",
       "      <th>g18uw</th>\n",
       "      <td>g</td>\n",
       "      <td>uw</td>\n",
       "      <td>214.0</td>\n",
       "      <td>435.0</td>\n",
       "      <td>1829.0</td>\n",
       "      <td>3316.0</td>\n",
       "    </tr>\n",
       "    <tr>\n",
       "      <th>g19uw</th>\n",
       "      <td>g</td>\n",
       "      <td>uw</td>\n",
       "      <td>243.0</td>\n",
       "      <td>497.0</td>\n",
       "      <td>1334.0</td>\n",
       "      <td>3067.0</td>\n",
       "    </tr>\n",
       "    <tr>\n",
       "      <th>g20uw</th>\n",
       "      <td>g</td>\n",
       "      <td>uw</td>\n",
       "      <td>248.0</td>\n",
       "      <td>498.0</td>\n",
       "      <td>1740.0</td>\n",
       "      <td>3291.0</td>\n",
       "    </tr>\n",
       "    <tr>\n",
       "      <th>g21uw</th>\n",
       "      <td>g</td>\n",
       "      <td>uw</td>\n",
       "      <td>225.0</td>\n",
       "      <td>446.0</td>\n",
       "      <td>1533.0</td>\n",
       "      <td>3269.0</td>\n",
       "    </tr>\n",
       "  </tbody>\n",
       "</table>\n",
       "<p>1668 rows × 6 columns</p>\n",
       "</div>"
      ],
      "text/plain": [
       "      gender vowel     f0     F1      F2      F3\n",
       "fid                                             \n",
       "m01ae      m    ae  174.0  663.0  2012.0  2659.0\n",
       "m02ae      m    ae  102.0  628.0  1871.0  2477.0\n",
       "m03ae      m    ae   99.0  605.0  1812.0  2570.0\n",
       "m04ae      m    ae  124.0  627.0  1910.0  2488.0\n",
       "m06ae      m    ae  115.0  647.0  1864.0  2561.0\n",
       "...      ...   ...    ...    ...     ...     ...\n",
       "g17uw      g    uw  236.0  490.0  2179.0  3131.0\n",
       "g18uw      g    uw  214.0  435.0  1829.0  3316.0\n",
       "g19uw      g    uw  243.0  497.0  1334.0  3067.0\n",
       "g20uw      g    uw  248.0  498.0  1740.0  3291.0\n",
       "g21uw      g    uw  225.0  446.0  1533.0  3269.0\n",
       "\n",
       "[1668 rows x 6 columns]"
      ]
     },
     "execution_count": 15,
     "metadata": {},
     "output_type": "execute_result"
    }
   ],
   "source": [
    "print(pyspch.EPS_FLOAT)\n",
    "print(type(pyspch),type(pyspch.core))\n",
    "#\n",
    "\n",
    "x=pyspch.sequence_data.make_seq1()\n",
    "print(x[0][0][1:5])\n",
    "y=pyspch.core.make_seq1()\n",
    "print(y[0][0][1:3])\n",
    "pyspch.hillenbrand.fetch_hillenbrand()"
   ]
  },
  {
   "cell_type": "code",
   "execution_count": 16,
   "metadata": {
    "tags": []
   },
   "outputs": [
    {
     "name": "stdout",
     "output_type": "stream",
     "text": [
      "Help on module pyspch.core.audio in pyspch.core:\n",
      "\n",
      "NAME\n",
      "    pyspch.core.audio\n",
      "\n",
      "DESCRIPTION\n",
      "    # A set of utilities for audio IO and essential handling\n",
      "    #\n",
      "    # Data Formats: \n",
      "    # audio data is passed as (float32) numpy arrays using the 'implicit mono' convention (librosa) \n",
      "    #    + (n_samples,_) for mono \n",
      "    #    + (n_channels,n_samples) for multichannel data \n",
      "    #\n",
      "    # Alternatives:\n",
      "    # (i) PyTorchAudio uses Explicit mono with channel first: i.e.\n",
      "    #    all data is stored in 2D arrays (n_channels,n_samples) \n",
      "    # \n",
      "    # (ii) Audio Streaming Formats \n",
      "    #     always organize data as  n_samples * ( n_channels (* sample_width) )\n",
      "    #     This is more convenient for I/O, but less convenient for speech processing\n",
      "    #\n",
      "    # Dependencies (best): \n",
      "    #   - soundfile >= 0.11\n",
      "    #   - pydub\n",
      "    #   - librosa >= 0.10\n",
      "    #   - (Google Colab): soundfile and pydub may need to be installed before you can use this\n",
      "    #\n",
      "    # Credits:\n",
      "    # https://gist.github.com/korakot/record.py  for the javascript recording code\n",
      "    #\n",
      "\n",
      "FUNCTIONS\n",
      "    load(resource, sample_rate=None, **kwargs)\n",
      "        This is a tiny wrapper around librosa.load() to accomodate for specifying a resource\n",
      "        both by url or filename.\n",
      "        librosa.load() has the nice feature that it allows for sample rate conversion ( soundfile.read() does not )\n",
      "        \n",
      "        Parameters:\n",
      "        -----------\n",
      "            resource : string          \n",
      "                url or file name\n",
      "            sample_rate : int (optional)\n",
      "                if given, resample to the target sampling rate\n",
      "            **kwargs \n",
      "                extra parameters to be passed to librosa\n",
      "                e.g. mono(boolean)\n",
      "                \n",
      "        Returns:\n",
      "        --------\n",
      "            wavdata : float-32 array, shape (n_samples, ) for mono or (n_channels, n_samples)\n",
      "                the waveform data are scaled to [-1., 1.]\n",
      "            sample_rate : int\n",
      "                sampling rate of returned signal\n",
      "    \n",
      "    play(wavdata, sample_rate=16000, channels=None, wait=False)\n",
      "        Play an audio waveform either via the local sounddevice or display a HTML/js object\n",
      "        \n",
      "        This routine checks the global variable _IO_ENV_, which is defined on loading\n",
      "        the audio module, to know where to put output / get input    \n",
      "        \n",
      "        \n",
      "        Parameters\n",
      "        ----------\n",
      "            wavdata : array of (n_channels,n_samples) or (n_samples,)\n",
      "                waveform data\n",
      "            sample_rate : int\n",
      "                sampling rate (default=16000)\n",
      "            channels : array of int's (default = None)\n",
      "                channels to be played, if None all channels are played \n",
      "            wait : boolean (default=False)\n",
      "                wait to return till play is finished (only applicable to sounddevice)\n",
      "    \n",
      "    record(seconds=2.0, sample_rate=16000, n_channels=1, PROMPT=False)\n",
      "        This routine checks the global variable _IO_ENV_, which is defined on loading\n",
      "        the audio module, to know where to put output / get input  \n",
      "        \n",
      "        Parameters\n",
      "        ----------\n",
      "            seconds : float\n",
      "                number of seconds to record (default=2.0)\n",
      "            sample_rate : int\n",
      "                sampling rate (default=16000)\n",
      "            n_channels : int\n",
      "                number of channels to record (default=1)\n",
      "            PROMPT:      bool (default=False)\n",
      "                if True, then prompts just before and after recording\n",
      "            \n",
      "                \n",
      "        Returns\n",
      "        -------\n",
      "            wavdata : float-32 array, shape (n_sample,_) or (n_channels, n_samples)\n",
      "                the waveform data scaled to [-1., 1.]\n",
      "    \n",
      "    save(filename, wavdata, sample_rate, **kwargs)\n",
      "        Save a one or multi-d waveform data using soundfile\n",
      "    \n",
      "    stop()\n",
      "\n",
      "FILE\n",
      "    c:\\users\\compi\\onedrive - ku leuven\\python\\pyspch\\pyspch\\core\\audio.py\n",
      "\n",
      "\n"
     ]
    }
   ],
   "source": [
    "help(pyspch.audio)"
   ]
  },
  {
   "cell_type": "code",
   "execution_count": 17,
   "metadata": {},
   "outputs": [
    {
     "name": "stdout",
     "output_type": "stream",
     "text": [
      "<class 'module'> <class 'function'>\n",
      "[5.1717979  3.53891443 1.4876165 ]\n",
      "[[ 0.5 -0.5]\n",
      " [-0.5  0.5]]\n"
     ]
    }
   ],
   "source": [
    "import pyspch\n",
    "print(type(pyspch.sp),type(pyspch.sp.mean_norm))\n",
    "#print(type(pyspch.display),type(pyspch.display.PlotWaveform))\n",
    "\n",
    "#\n",
    "x=pyspch.core.make_seq1()\n",
    "print(x[0][0][0:3])\n",
    "\n",
    "print(pyspch.sp.mean_norm([[5,4],[4,5]]))\n",
    "#pyspch.display.PlotWaveform(np.array([.1,.2]))"
   ]
  },
  {
   "cell_type": "code",
   "execution_count": 18,
   "metadata": {},
   "outputs": [
    {
     "name": "stdout",
     "output_type": "stream",
     "text": [
      "[[ 0.5 -0.5]\n",
      " [-0.5  0.5]]\n"
     ]
    }
   ],
   "source": [
    "print(pyspch.sp.mean_norm([[5,4],[4,5]]))"
   ]
  },
  {
   "cell_type": "code",
   "execution_count": 19,
   "metadata": {},
   "outputs": [
    {
     "data": {
      "text/plain": [
       "(1e-39, 16)"
      ]
     },
     "execution_count": 19,
     "metadata": {},
     "output_type": "execute_result"
    }
   ],
   "source": [
    "pyspch.EPS_FLOAT, pyspch.core.next_power_of_2(13)"
   ]
  },
  {
   "cell_type": "code",
   "execution_count": 20,
   "metadata": {},
   "outputs": [
    {
     "name": "stdout",
     "output_type": "stream",
     "text": [
      "Help on package pyspch.sp in pyspch:\n",
      "\n",
      "NAME\n",
      "    pyspch.sp\n",
      "\n",
      "PACKAGE CONTENTS\n",
      "    feature\n",
      "    frames\n",
      "    signal\n",
      "    spectral\n",
      "    time_domain\n",
      "\n",
      "DATA\n",
      "    __all__ = ['feature', 'spectral', 'frames', 'time_domain', 'signal']\n",
      "\n",
      "FILE\n",
      "    c:\\users\\compi\\onedrive - ku leuven\\python\\pyspch\\pyspch\\sp\\__init__.py\n",
      "\n",
      "\n"
     ]
    }
   ],
   "source": [
    "help(pyspch.sp)"
   ]
  },
  {
   "cell_type": "code",
   "execution_count": 21,
   "metadata": {},
   "outputs": [
    {
     "ename": "ModuleNotFoundError",
     "evalue": "No module named 'torch'",
     "output_type": "error",
     "traceback": [
      "\u001b[1;31m---------------------------------------------------------------------------\u001b[0m",
      "\u001b[1;31mModuleNotFoundError\u001b[0m                       Traceback (most recent call last)",
      "Cell \u001b[1;32mIn[21], line 1\u001b[0m\n\u001b[1;32m----> 1\u001b[0m \u001b[38;5;28;01mfrom\u001b[39;00m \u001b[38;5;21;01mpyspch\u001b[39;00m \u001b[38;5;28;01mimport\u001b[39;00m \u001b[38;5;241m*\u001b[39m\n",
      "File \u001b[1;32mc:\\users\\compi\\onedrive - ku leuven\\python\\pyspch\\pyspch\\nn\\__init__.py:2\u001b[0m\n\u001b[0;32m      1\u001b[0m \u001b[38;5;28;01mfrom\u001b[39;00m \u001b[38;5;21;01m.\u001b[39;00m\u001b[38;5;21;01mcorpus\u001b[39;00m \u001b[38;5;28;01mimport\u001b[39;00m \u001b[38;5;241m*\u001b[39m\n\u001b[1;32m----> 2\u001b[0m \u001b[38;5;28;01mfrom\u001b[39;00m \u001b[38;5;21;01m.\u001b[39;00m\u001b[38;5;21;01mdatasets\u001b[39;00m \u001b[38;5;28;01mimport\u001b[39;00m \u001b[38;5;241m*\u001b[39m\n\u001b[0;32m      3\u001b[0m \u001b[38;5;28;01mfrom\u001b[39;00m \u001b[38;5;21;01m.\u001b[39;00m\u001b[38;5;21;01mmodels\u001b[39;00m \u001b[38;5;28;01mimport\u001b[39;00m \u001b[38;5;241m*\u001b[39m\n",
      "File \u001b[1;32mc:\\users\\compi\\onedrive - ku leuven\\python\\pyspch\\pyspch\\nn\\datasets.py:5\u001b[0m\n\u001b[0;32m      1\u001b[0m \u001b[38;5;66;03m#!/usr/bin/env python3\u001b[39;00m\n\u001b[0;32m      2\u001b[0m \u001b[38;5;66;03m# -*- coding: utf-8 -*-\u001b[39;00m\n\u001b[0;32m      4\u001b[0m \u001b[38;5;28;01mimport\u001b[39;00m \u001b[38;5;21;01mnumpy\u001b[39;00m \u001b[38;5;28;01mas\u001b[39;00m \u001b[38;5;21;01mnp\u001b[39;00m\n\u001b[1;32m----> 5\u001b[0m \u001b[38;5;28;01mimport\u001b[39;00m \u001b[38;5;21;01mtorch\u001b[39;00m\n\u001b[0;32m      6\u001b[0m \u001b[38;5;28;01mfrom\u001b[39;00m \u001b[38;5;21;01mtorch\u001b[39;00m\u001b[38;5;21;01m.\u001b[39;00m\u001b[38;5;21;01mutils\u001b[39;00m\u001b[38;5;21;01m.\u001b[39;00m\u001b[38;5;21;01mdata\u001b[39;00m \u001b[38;5;28;01mimport\u001b[39;00m Dataset\n\u001b[0;32m      8\u001b[0m \u001b[38;5;66;03m### DataSet ###\u001b[39;00m\n",
      "\u001b[1;31mModuleNotFoundError\u001b[0m: No module named 'torch'"
     ]
    }
   ],
   "source": [
    "from pyspch import *"
   ]
  },
  {
   "cell_type": "code",
   "execution_count": null,
   "metadata": {},
   "outputs": [],
   "source": [
    "help(pyspch.display.Spg1)"
   ]
  },
  {
   "cell_type": "code",
   "execution_count": null,
   "metadata": {},
   "outputs": [],
   "source": [
    "pyspch.display.PlotWaveform(np.array([.1,.2]))"
   ]
  },
  {
   "cell_type": "code",
   "execution_count": 22,
   "metadata": {},
   "outputs": [
    {
     "name": "stdout",
     "output_type": "stream",
     "text": [
      "Help on function fetch_hillenbrand in module pyspch.core.hillenbrand:\n",
      "\n",
      "fetch_hillenbrand(genders='all', vowels='all', columns=['gender', 'vowel', 'f0', 'F1', 'F2', 'F3'], symbols='hillenbrand', Debug=False)\n",
      "    The function fetch_hillenbrand() loads the Hillenbrand dataset in a similar way as the datasets in sklearn.\n",
      "    There are extra arguments that lets one select parts of the database \n",
      "    \n",
      "    The Hillenbrand dataset is a 1995 repeat and extension of the classic Peterson-Barney(1953) experiment\n",
      "    in which Formants are established as compact and highly discriminative features for vowel recognition\n",
      "    (c) 1995 James Hillenbrand\n",
      "    https://homepages.wmich.edu/~hillenbr/voweldata.html\n",
      "    \n",
      "    The interface provided here reads from a copy of the data at ESAT stored in a more \n",
      "    convenient csv format and in which the 0 values (not available) are replaced by #N/A\n",
      "    \n",
      "    =================   ==============\n",
      "    Classes \n",
      "            (genders)      4 (m,w,b,g)\n",
      "            (vowels)      12 (ae,ah,aw,eh,er,ei,ih,iy,oa,oo,uh,uw)\n",
      "            (spkr)        151 (100 adults, 51 for children)\n",
      "    Samples per class     12 vowels x 151 speakers\n",
      "    Samples total         1668\n",
      "    Index                 fid  is file-id which is = gid+spk#+vid\n",
      "    Dimensionality        22   \n",
      "                             3 categorical features (vid, gid, sid)  [for vowel-id,gender-id and speaker-id] (each combination is unique)\n",
      "                            19 numerical features: (dur,f0,F1,F2,F3,F4,F1-1,F2-1,F3-1,F1-2,F2-2,F3-2,F1-3,F2-3,F3-3,Start,End,Center1,Center2) \n",
      "    Features            real, positive  \n",
      "    Missing Features    partial missing data is given as NaN, mainly F3 and F4 values\n",
      "    =================   ==============\n",
      "    \n",
      "    With this interface you can load specific parts of the database (subset of speakers, vowels and features)\n",
      "    that you want to use\n",
      "    \n",
      "    Parameters\n",
      "    ----------\n",
      "        genders:  list of selected genders  (default=all, options are 'adults','children','male','female' or list of 'm','f','b','g')\n",
      "        vowels:   list of selected vowels   (default=all, options are 'vowels6', 'vowels3' or list)\n",
      "        columns:  list of selected columns  (default=['gid','vid','f0','F1','F2','F3'])\n",
      "        symbols:  str (default='hillenbrand', alternative ['hillenbrand','arpa','ARPA'] \n",
      "            NOTE: The conversion to ARPA happens AFTER vowel selection; hence selection needs to be done with the Hillenbrand notations !!\n",
      "        \n",
      "    Returns\n",
      "    -------\n",
      "        pandas dataframe with selected data\n",
      "\n"
     ]
    }
   ],
   "source": [
    "help(pyspch.core.fetch_hillenbrand)"
   ]
  },
  {
   "cell_type": "code",
   "execution_count": 23,
   "metadata": {},
   "outputs": [],
   "source": [
    "import pyspch.sp as Sps"
   ]
  },
  {
   "cell_type": "code",
   "execution_count": 24,
   "metadata": {},
   "outputs": [
    {
     "name": "stdout",
     "output_type": "stream",
     "text": [
      "Help on function mean_norm in module pyspch.sp.feature:\n",
      "\n",
      "mean_norm(ftrs, type='mean')\n",
      "    normalizes features for mean and variance depending on Norm argument \n",
      "    arguments:\n",
      "        ftrs:   nd.array of size [n_ftrs,n_frames] or [n_frames]\n",
      "        type:   type of normalization\n",
      "                    \"mean\": mean normalization\n",
      "                    \"var\":  variance normalization\n",
      "                    \"meanvar\": mean and variance normalization\n",
      "    returns:\n",
      "        ftrs:   nd.array of size [n_ftrs,n_frames]\n",
      "\n"
     ]
    }
   ],
   "source": [
    "help(Sps.mean_norm)"
   ]
  },
  {
   "cell_type": "code",
   "execution_count": 25,
   "metadata": {},
   "outputs": [
    {
     "name": "stdout",
     "output_type": "stream",
     "text": [
      "Help on function load in module pyspch.core.audio:\n",
      "\n",
      "load(resource, sample_rate=None, **kwargs)\n",
      "    This is a tiny wrapper around librosa.load() to accomodate for specifying a resource\n",
      "    both by url or filename.\n",
      "    librosa.load() has the nice feature that it allows for sample rate conversion ( soundfile.read() does not )\n",
      "    \n",
      "    Parameters:\n",
      "    -----------\n",
      "        resource : string          \n",
      "            url or file name\n",
      "        sample_rate : int (optional)\n",
      "            if given, resample to the target sampling rate\n",
      "        **kwargs \n",
      "            extra parameters to be passed to librosa\n",
      "            e.g. mono(boolean)\n",
      "            \n",
      "    Returns:\n",
      "    --------\n",
      "        wavdata : float-32 array, shape (n_samples, ) for mono or (n_channels, n_samples)\n",
      "            the waveform data are scaled to [-1., 1.]\n",
      "        sample_rate : int\n",
      "            sampling rate of returned signal\n",
      "\n"
     ]
    }
   ],
   "source": [
    "help(pyspch.audio.load)"
   ]
  },
  {
   "cell_type": "code",
   "execution_count": null,
   "metadata": {},
   "outputs": [],
   "source": []
  },
  {
   "cell_type": "code",
   "execution_count": null,
   "metadata": {},
   "outputs": [],
   "source": []
  },
  {
   "cell_type": "code",
   "execution_count": null,
   "metadata": {},
   "outputs": [],
   "source": []
  }
 ],
 "metadata": {
  "kernelspec": {
   "display_name": "Python 3 (ipykernel)",
   "language": "python",
   "name": "python3"
  },
  "language_info": {
   "codemirror_mode": {
    "name": "ipython",
    "version": 3
   },
   "file_extension": ".py",
   "mimetype": "text/x-python",
   "name": "python",
   "nbconvert_exporter": "python",
   "pygments_lexer": "ipython3",
   "version": "3.10.13"
  },
  "widgets": {
   "application/vnd.jupyter.widget-state+json": {
    "state": {},
    "version_major": 2,
    "version_minor": 0
   }
  }
 },
 "nbformat": 4,
 "nbformat_minor": 4
}
