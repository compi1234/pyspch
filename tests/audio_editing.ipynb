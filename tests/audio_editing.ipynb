{
 "cells": [
  {
   "cell_type": "markdown",
   "id": "neural-index",
   "metadata": {},
   "source": [
    "<a href=\"https://colab.research.google.com/github/compi1234/pyspch/blob/master/test/audio_test.ipynb\" target=\"_parent\"><img src=\"https://colab.research.google.com/assets/colab-badge.svg\" alt=\"Open In Colab\"/></a>"
   ]
  },
  {
   "cell_type": "markdown",
   "id": "historic-saver",
   "metadata": {},
   "source": [
    "## Audio Editing\n",
    "\n",
    "This notebook demonstrates essential Audio I/O utilities provided in the **pyspch.core.audio** module\n",
    "- loading audio data from file   \n",
    "- play audio\n",
    "- record audio and set device properties\n",
    "    + in colab recording is supported via the browser (javascript)\n",
    "\n",
    "Date: 19/08/2021, 21/02/2022 (v0.6)\n"
   ]
  },
  {
   "cell_type": "code",
   "execution_count": 1,
   "id": "ancient-present",
   "metadata": {},
   "outputs": [],
   "source": [
    "%matplotlib inline\n",
    "import os\n",
    "from IPython.display import display, clear_output, Audio, HTML\n",
    "import ipywidgets as widgets\n",
    "import numpy as np\n",
    "import matplotlib.pyplot as plt\n",
    "\n",
    "import librosa\n",
    "try:\n",
    "  import google.colab\n",
    "  IN_COLAB = True \n",
    "  ! pip install git+https://github.com/compi1234/pyspch.git\n",
    "except:\n",
    "  IN_COLAB = False\n",
    "\n",
    "# verify the IPython version\n",
    "import IPython\n",
    "if IPython.version_info[0] >= 6:\n",
    "    Audio_args = {'normalize':False}\n",
    "else:\n",
    "    print(\"Warning: you are using IPython<6 \\n IPython.display.Audio() will automatically normalize audio output\")\n",
    "    Audio_args = {}\n",
    "import pyspch.core as Spch"
   ]
  },
  {
   "cell_type": "markdown",
   "id": "frozen-florist",
   "metadata": {},
   "source": [
    "## 1. Read Input and make a selection"
   ]
  },
  {
   "cell_type": "code",
   "execution_count": 3,
   "id": "honest-speaking",
   "metadata": {},
   "outputs": [
    {
     "name": "stdout",
     "output_type": "stream",
     "text": [
      "sample_rate: 8000 n_samples: 31150\n"
     ]
    }
   ],
   "source": [
    "name = 'https://homes.esat.kuleuven.be/~spchlab/data/misc/misinterpret_s.wav'\n",
    "name = '../data/friendly.wav'\n",
    "wavdata,sample_rate= Spch.audio.load(url_name,sample_rate=8000) \n",
    "btime= 0.0\n",
    "etime = len(wavdata)/sample_rate \n",
    "print(\"sample_rate:\",sample_rate,\"n_samples:\",len(wavdata))"
   ]
  },
  {
   "cell_type": "code",
   "execution_count": 11,
   "id": "resident-librarian",
   "metadata": {},
   "outputs": [
    {
     "data": {
      "text/plain": [
       "(<_io.BytesIO at 0x2a29bc14a08>, _io.BytesIO)"
      ]
     },
     "execution_count": 11,
     "metadata": {},
     "output_type": "execute_result"
    }
   ],
   "source": [
    "fobj = Spch.open_fobj(url_name)\n",
    "fobj,type(fobj)"
   ]
  },
  {
   "cell_type": "code",
   "execution_count": 20,
   "id": "indian-stevens",
   "metadata": {},
   "outputs": [
    {
     "data": {
      "text/plain": [
       "(b'0. .01 sil\\n.01 .05 f\\n.05 .07 r\\n.07 .17 ie\\n.17 .25 n\\n.25 .28 d\\n.28 .32 l\\n.32 .44 y\\n.44 .49 sil\\n.49 .52 c\\n.52 .61 o\\n.61 .64 m\\n.64 .69 p\\n.69 .81 u\\n.81 .88 t\\n.88 .96 e\\n.96 1.0 r\\n1.0 1.04 s\\n',\n",
       " bytes)"
      ]
     },
     "execution_count": 20,
     "metadata": {},
     "output_type": "execute_result"
    }
   ],
   "source": [
    "import io\n",
    "from urllib.request import urlopen\n",
    "name = 'https://homes.esat.kuleuven.be/~spchlab/data/misc/friendly.gra'\n",
    "name = \"../data/friendly.gra\"\n",
    "f = open(name,\"rb\").read()\n",
    "f, type(f)"
   ]
  },
  {
   "cell_type": "code",
   "execution_count": 22,
   "id": "organizational-branch",
   "metadata": {},
   "outputs": [
    {
     "data": {
      "text/plain": [
       "(b'0. .01 sil\\n.01 .05 f\\n.05 .07 r\\n.07 .17 ie\\n.17 .25 n\\n.25 .28 d\\n.28 .32 l\\n.32 .44 y\\n.44 .49 sil\\n.49 .52 c\\n.52 .61 o\\n.61 .64 m\\n.64 .69 p\\n.69 .81 u\\n.81 .88 t\\n.88 .96 e\\n.96 1.0 r\\n1.0 1.04 s\\n',\n",
       " bytes)"
      ]
     },
     "execution_count": 22,
     "metadata": {},
     "output_type": "execute_result"
    }
   ],
   "source": [
    "name = 'https://homes.esat.kuleuven.be/~spchlab/data/misc/friendly.gra'\n",
    "f = urlopen(name).read()\n",
    "f, type(f)"
   ]
  },
  {
   "cell_type": "code",
   "execution_count": 27,
   "id": "fabulous-wonder",
   "metadata": {},
   "outputs": [
    {
     "name": "stdout",
     "output_type": "stream",
     "text": [
      "b'0. .01 sil\\n.01 .05 f\\n.05 .07 r\\n.07 .17 ie\\n.17 .25 n\\n.25 .28 d\\n.28 .32 l\\n.32 .44 y\\n.44 .49 sil\\n.49 .52 c\\n.52 .61 o\\n.61 .64 m\\n.64 .69 p\\n.69 .81 u\\n.81 .88 t\\n.88 .96 e\\n.96 1.0 r\\n1.0 1.04 s\\n'\n"
     ]
    }
   ],
   "source": [
    "print(f)"
   ]
  },
  {
   "cell_type": "code",
   "execution_count": 26,
   "id": "hidden-finance",
   "metadata": {},
   "outputs": [
    {
     "name": "stdout",
     "output_type": "stream",
     "text": [
      "b'0. .01 sil\\n'\n",
      "b'.01 .05 f\\n'\n",
      "b'.05 .07 r\\n'\n",
      "b'.07 .17 ie\\n'\n",
      "b'.17 .25 n\\n'\n",
      "b'.25 .28 d\\n'\n",
      "b'.28 .32 l\\n'\n",
      "b'.32 .44 y\\n'\n",
      "b'.44 .49 sil\\n'\n",
      "b'.49 .52 c\\n'\n",
      "b'.52 .61 o\\n'\n",
      "b'.61 .64 m\\n'\n",
      "b'.64 .69 p\\n'\n",
      "b'.69 .81 u\\n'\n",
      "b'.81 .88 t\\n'\n",
      "b'.88 .96 e\\n'\n",
      "b'.96 1.0 r\\n'\n",
      "b'1.0 1.04 s\\n'\n"
     ]
    }
   ],
   "source": [
    "for lines in io.BytesIO(f):\n",
    "    print(lines)"
   ]
  },
  {
   "cell_type": "code",
   "execution_count": 9,
   "id": "special-passport",
   "metadata": {},
   "outputs": [
    {
     "data": {
      "application/vnd.jupyter.widget-view+json": {
       "model_id": "ca3b32afe48c4003b7828bed8283d3c0",
       "version_major": 2,
       "version_minor": 0
      },
      "text/plain": [
       "interactive(children=(FloatRangeSlider(value=(0.1, 1.3), description='selection', max=3.89375), Output()), _do…"
      ]
     },
     "metadata": {},
     "output_type": "display_data"
    }
   ],
   "source": [
    "def select(wavdata,sample_rate,be):\n",
    "    i1 = int(be[0]*sample_rate)\n",
    "    i2 = int(be[1]*sample_rate)\n",
    "    wavselect = wavdata[i1:i2]\n",
    "    return wavselect\n",
    "\n",
    "def iselect(be):\n",
    "    i1 = int(be[0]*sample_rate)\n",
    "    i2 = int(be[1]*sample_rate)\n",
    "    wavselect = wavdata[i1:i2]\n",
    "    figure,ax=plt.subplots(2)\n",
    "    t = np.arange(len(wavdata))/sample_rate\n",
    "    ax[0].plot(t,wavdata)\n",
    "    ax[1].plot(t[i1:i2],wavselect)\n",
    "    display(Audio(data=wavdata,rate=sample_rate))\n",
    "    display(Audio(data=wavselect,rate=sample_rate))\n",
    "    \n",
    "widgets.interact(iselect,\n",
    "                 be=widgets.FloatRangeSlider(min=btime,max=etime,value=[.1,1.3],description=\"selection\"),\n",
    "                         continuous_update=False,layout=widgets.Layout(width='100%'));"
   ]
  },
  {
   "cell_type": "markdown",
   "id": "necessary-grade",
   "metadata": {},
   "source": [
    "## 2. Save the select output to named output file"
   ]
  },
  {
   "cell_type": "code",
   "execution_count": 6,
   "id": "classical-cleanup",
   "metadata": {},
   "outputs": [
    {
     "name": "stdout",
     "output_type": "stream",
     "text": [
      "saving to:  misinterpret.wav\n"
     ]
    }
   ],
   "source": [
    "wavselect = select(wavdata,sample_rate,[.1,1.3])\n",
    "d= \"\" # os.path.joint(os.path.expanduser(\"~\"),\"Documents\")\n",
    "f=\"misinterpret.wav\"\n",
    "OUTPUT = os.path.join(d,f)\n",
    "print(\"saving to: \",OUTPUT)\n",
    "Spch.audio.save(OUTPUT,wavselect,sample_rate)"
   ]
  },
  {
   "cell_type": "code",
   "execution_count": null,
   "id": "beneficial-parts",
   "metadata": {},
   "outputs": [],
   "source": []
  }
 ],
 "metadata": {
  "kernelspec": {
   "display_name": "Python 3",
   "language": "python",
   "name": "python3"
  },
  "language_info": {
   "codemirror_mode": {
    "name": "ipython",
    "version": 3
   },
   "file_extension": ".py",
   "mimetype": "text/x-python",
   "name": "python",
   "nbconvert_exporter": "python",
   "pygments_lexer": "ipython3",
   "version": "3.7.8"
  },
  "widgets": {
   "application/vnd.jupyter.widget-state+json": {
    "state": {},
    "version_major": 2,
    "version_minor": 0
   }
  }
 },
 "nbformat": 4,
 "nbformat_minor": 5
}
