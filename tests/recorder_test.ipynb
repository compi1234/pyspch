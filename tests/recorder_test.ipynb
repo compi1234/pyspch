{
 "cells": [
  {
   "cell_type": "markdown",
   "id": "dried-jewel",
   "metadata": {
    "tags": []
   },
   "source": [
    "## Recorder\n",
    "\n",
    "Date: 17/05/2021, 20/09/2021, 24/02/2022 (v0.6), 16/02/2023 (v0.7)\n",
    "\n",
    "### Description\n",
    "\n",
    "This notebook illustrates various ways of audio recording in a Jupyter notebook\n",
    "- either directly via command line\n",
    "- either via the **iRecorder()** GUI \n",
    "\n",
    "#### iRecorder()\n",
    "\n",
    "is a simple Jupyter Lab / ipywidgets based GUI for speech recordings.\n",
    "- Record and Play Buttons\n",
    "- set recording time and sampling frequency\n",
    "- Save (selected part of) current recording to a named file\n",
    "\n",
    "#### CAVEATS\n",
    "\n",
    "A Jupyter notebook is not the optimal environment for interactive Audio I/O ,\n",
    "due to a 3 way potential conflict between browser / latencies and rules in jupyter client-server architecture \n",
    "/ notebook.\n",
    "Due to these various policy level, the notebook is never fully in control of what happens.\n",
    "Moreover audio hardware capabilties vary drastically between machines.\n",
    "For playback, resulting issues are manageable.  For recording, things are a bit more messy.\n",
    "\n",
    "Issues that you may encounter include:\n",
    "- lead time in recordings:  there may be a discrepancy between the prompt to start recording and the actual start of the recording; this can be substantial (a few 100 msec), just discard these unwanted parts when saving\n",
    "- autoplay and autonormalize are features that can be overruled by the browser; you may see different behavior on Chrome vs. Firefox .. \n",
    "\n",
    "#### Writing Files on Colab\n",
    "\n",
    "You can write into your temporarily allocated space on colab.\n",
    "However, if you want to reuse files later, the way to go is to mount your google drive first and\n",
    "write them there.\n",
    "With the following lines of code, you will be able to access your personal google drive\n",
    "> from google.colab import drive    \n",
    "> drive.mount('/content/gdrive')    \n",
    "> gdrive_path = '/content/gdrive/My Drive/'    \n"
   ]
  },
  {
   "cell_type": "code",
   "execution_count": null,
   "id": "b024f456-e267-42c2-bd65-4ef997adee42",
   "metadata": {
    "tags": []
   },
   "outputs": [],
   "source": [
    "# if needed, uncomment the pip install command to install pyspch -- it is required!\n",
    "#\n",
    "#!pip install git+https://github.com/compi1234/pyspch.git\n",
    "#\n",
    "try:\n",
    "    import pyspch\n",
    "except ModuleNotFoundError:\n",
    "    try:\n",
    "        print(\n",
    "        \"\"\"\n",
    "        To enable this notebook on platforms as Google Colab, \n",
    "        install the pyspch package and dependencies by running following code:\n",
    "\n",
    "        !pip install git+https://github.com/compi1234/pyspch.git\n",
    "        \"\"\"\n",
    "        )\n",
    "    except ModuleNotFoundError:\n",
    "        raise"
   ]
  },
  {
   "cell_type": "code",
   "execution_count": null,
   "id": "tight-slovak",
   "metadata": {
    "tags": []
   },
   "outputs": [],
   "source": [
    "%matplotlib inline\n",
    "import matplotlib.pyplot as plt\n",
    "\n",
    "from IPython.display import display, clear_output, Audio, HTML\n",
    "import ipywidgets as widgets\n",
    "import numpy as np\n",
    "import librosa\n",
    "\n",
    "# verify the IPython version\n",
    "import IPython\n",
    "Audio_args = {'normalize':False}\n",
    "if IPython.version_info[0] < 6:\n",
    "    print(\"Warning: you are using IPython<6 which has limited Audio support\\n\")\n",
    "    Audio_args = {}\n",
    "import pyspch.core as Spch\n",
    "import pyspch.sp as Sps\n",
    "import pyspch.display as Spd\n",
    "import pyspch.display.interactive as SpGui"
   ]
  },
  {
   "cell_type": "markdown",
   "id": "e37380ff-e53d-460e-b2b4-d81f8c10ec3e",
   "metadata": {},
   "source": [
    "## Setting up Google Drive, so that you can save files for future usage\n",
    "You have two options for storing (recorded) files:\n",
    "1. Locally inside your current session: just give a filename\n",
    "2. On your Google Drive\n",
    "    + first mount Google Drive for usage inside this notebook (as in the cell below)\n",
    "    + A file in your Google Drive, e.g. 'MyFile.ext' is accessible in this notebook as:\n",
    "        > 'gdrive/MyDrive/MyFile.ext'\n",
    "        \n",
    "By default we are setting up linkage with your Google Drive if on colab.  Don't execute if you don't need it."
   ]
  },
  {
   "cell_type": "code",
   "execution_count": null,
   "id": "7a10b118-3256-4d81-9a32-3adccf398417",
   "metadata": {},
   "outputs": [],
   "source": [
    "try:\n",
    "    from google.colab import drive    \n",
    "    drive.mount('/content/gdrive') \n",
    "except:\n",
    "    None"
   ]
  },
  {
   "cell_type": "code",
   "execution_count": null,
   "id": "63f875b7-7d75-4673-9be3-1b368dc23026",
   "metadata": {},
   "outputs": [],
   "source": []
  },
  {
   "cell_type": "markdown",
   "id": "ac8e2b6f-dc8e-4a7d-bdc9-d2010ffe1cd1",
   "metadata": {},
   "source": [
    "## 1. Recording via command line in *spchlab* \n",
    "- specify sample rate and recording time\n",
    "- call Spch.audio.record()\n",
    "- listen to / save the data"
   ]
  },
  {
   "cell_type": "code",
   "execution_count": null,
   "id": "f58b1a33-b5e6-422d-b7da-f46e557dd56c",
   "metadata": {
    "tags": []
   },
   "outputs": [],
   "source": [
    "sample_rate = 16000\n",
    "rec_time = 2.0\n",
    "rec_data  = Spch.audio.record(rec_time,sample_rate)"
   ]
  },
  {
   "cell_type": "code",
   "execution_count": null,
   "id": "25617453-3c24-4937-8aa1-bb2a2a495ecb",
   "metadata": {
    "tags": []
   },
   "outputs": [],
   "source": [
    "# listen to the recorded audio via the Audio widget\n",
    "display(Audio(data=rec_data,rate=sample_rate,normalize=False))"
   ]
  },
  {
   "cell_type": "code",
   "execution_count": null,
   "id": "581568e2-c6c0-4b49-933a-44711ff74a85",
   "metadata": {},
   "outputs": [],
   "source": [
    "# Save you recording to disk\n",
    "#filename = \"MyRecording.wav\"\n",
    "#Spch.audio.save(filename,rec_data,sample_rate)"
   ]
  },
  {
   "cell_type": "markdown",
   "id": "aa1bb4ec-685c-4ce8-8428-6a0a0df32cd0",
   "metadata": {},
   "source": [
    "## 2. Record via the iRecorder() GUI\n",
    "Normally you should start iRecorder() without any arguments.   \n",
    "Only in case you want to modify the size of the spectrogram and/or GUI, you may want to use the parameters *figsize* and *dpi*.\n",
    "In the GUI you have:\n",
    "- Record Section:\n",
    "    + Play, Record, Stop buttons\n",
    "    + input for recording time and sampling frequency\n",
    "- Save Section:\n",
    "    + filename\n",
    "    + start and end times of section to be saved"
   ]
  },
  {
   "cell_type": "code",
   "execution_count": null,
   "id": "8c7be07b-4964-40ca-aa55-632917767360",
   "metadata": {
    "tags": []
   },
   "outputs": [],
   "source": [
    "SpGui.iRecorder()"
   ]
  },
  {
   "cell_type": "code",
   "execution_count": null,
   "id": "972e6fef-ca2f-4d67-ad14-c72b36828471",
   "metadata": {},
   "outputs": [],
   "source": []
  }
 ],
 "metadata": {
  "kernelspec": {
   "display_name": "Python 3 (ipykernel)",
   "language": "python",
   "name": "python3"
  },
  "language_info": {
   "codemirror_mode": {
    "name": "ipython",
    "version": 3
   },
   "file_extension": ".py",
   "mimetype": "text/x-python",
   "name": "python",
   "nbconvert_exporter": "python",
   "pygments_lexer": "ipython3",
   "version": "3.7.12"
  },
  "widgets": {
   "application/vnd.jupyter.widget-state+json": {
    "state": {},
    "version_major": 2,
    "version_minor": 0
   }
  }
 },
 "nbformat": 4,
 "nbformat_minor": 5
}
