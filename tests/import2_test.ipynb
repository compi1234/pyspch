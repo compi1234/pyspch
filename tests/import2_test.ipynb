{
 "cells": [
  {
   "cell_type": "markdown",
   "metadata": {},
   "source": [
    "# Testing Import functionalities"
   ]
  },
  {
   "cell_type": "markdown",
   "metadata": {},
   "source": [
    "experimental ...   "
   ]
  },
  {
   "cell_type": "code",
   "execution_count": 1,
   "metadata": {},
   "outputs": [],
   "source": [
    "# Do the imports #\n",
    "##################\n",
    "#\n",
    "%matplotlib inline\n",
    "import os,sys \n",
    "import numpy as np\n",
    "import pandas as pd\n",
    "from IPython.display import display, Audio, HTML, clear_output\n",
    "import ipywidgets as widgets\n",
    "from ipywidgets import Box, HBox, VBox, Layout,interactive\n",
    "#\n",
    "\n",
    "import matplotlib.pyplot as plt\n",
    "import matplotlib as mpl\n",
    "import librosa"
   ]
  },
  {
   "cell_type": "code",
   "execution_count": 2,
   "metadata": {},
   "outputs": [
    {
     "data": {
      "text/plain": [
       "['__all__',\n",
       " '__builtins__',\n",
       " '__cached__',\n",
       " '__doc__',\n",
       " '__file__',\n",
       " '__loader__',\n",
       " '__magic__',\n",
       " '__name__',\n",
       " '__package__',\n",
       " '__path__',\n",
       " '__spec__',\n",
       " '__version__',\n",
       " 'audio',\n",
       " 'constants',\n",
       " 'core',\n",
       " 'display',\n",
       " 'file_tools',\n",
       " 'hillenbrand',\n",
       " 'nn',\n",
       " 'os',\n",
       " 'sequence_data',\n",
       " 'sp',\n",
       " 'timit',\n",
       " 'utils']"
      ]
     },
     "execution_count": 2,
     "metadata": {},
     "output_type": "execute_result"
    }
   ],
   "source": [
    "import pyspch\n",
    "dir(pyspch)"
   ]
  },
  {
   "cell_type": "markdown",
   "metadata": {},
   "source": [
    "## What's available via the imports\n",
    "\n",
    "1. All subpackages are imported under their name"
   ]
  },
  {
   "cell_type": "code",
   "execution_count": 3,
   "metadata": {},
   "outputs": [
    {
     "name": "stdout",
     "output_type": "stream",
     "text": [
      "[[ 0.5 -0.5]\n",
      " [-0.5  0.5]]\n"
     ]
    }
   ],
   "source": [
    "print(pyspch.sp.mean_norm([[5,4],[4,5]]))"
   ]
  },
  {
   "cell_type": "code",
   "execution_count": 4,
   "metadata": {},
   "outputs": [
    {
     "data": {
      "image/png": "[encoded data removed]",
      "text/plain": [
       "<SpchFig size 864x432 with 1 Axes>"
      ]
     },
     "execution_count": 4,
     "metadata": {},
     "output_type": "execute_result"
    }
   ],
   "source": [
    "pyspch.display.PlotWaveform(np.array([.1,.2]))"
   ]
  },
  {
   "cell_type": "code",
   "execution_count": 9,
   "metadata": {},
   "outputs": [
    {
     "data": {
      "text/plain": [
       "1e-39"
      ]
     },
     "execution_count": 9,
     "metadata": {},
     "output_type": "execute_result"
    }
   ],
   "source": [
    "pyspch.constants.EPS_FLOAT"
   ]
  },
  {
   "cell_type": "markdown",
   "metadata": {},
   "source": [
    "2. All 'core' modules are directly imported as well into\n",
    "the main namespace"
   ]
  },
  {
   "cell_type": "code",
   "execution_count": null,
   "metadata": {},
   "outputs": [],
   "source": [
    "txt = 'this is my string'"
   ]
  },
  {
   "cell_type": "code",
   "execution_count": null,
   "metadata": {},
   "outputs": [],
   "source": [
    "write_txt(txt,'file1.txt')"
   ]
  },
  {
   "cell_type": "code",
   "execution_count": null,
   "metadata": {},
   "outputs": [],
   "source": [
    "pyspch.utils.next_power_of_2(13)"
   ]
  },
  {
   "cell_type": "code",
   "execution_count": null,
   "metadata": {},
   "outputs": [],
   "source": [
    "pyspch.hillenbrand.fetch_hillenbrand()"
   ]
  },
  {
   "cell_type": "code",
   "execution_count": null,
   "metadata": {},
   "outputs": [],
   "source": [
    "pyspch.timit.TIMIT48"
   ]
  },
  {
   "cell_type": "code",
   "execution_count": null,
   "metadata": {},
   "outputs": [],
   "source": [
    "pyspch.core.constants.EPS_FLOAT\n"
   ]
  },
  {
   "cell_type": "code",
   "execution_count": null,
   "metadata": {},
   "outputs": [],
   "source": [
    "help(pyspch.sp)"
   ]
  },
  {
   "cell_type": "code",
   "execution_count": null,
   "metadata": {},
   "outputs": [],
   "source": []
  },
  {
   "cell_type": "code",
   "execution_count": null,
   "metadata": {},
   "outputs": [],
   "source": [
    "pyspch.timit.TIMIT48"
   ]
  },
  {
   "cell_type": "code",
   "execution_count": null,
   "metadata": {},
   "outputs": [],
   "source": [
    "pyspch.spm.p1(), pyspch.core.EPS_FLOAT"
   ]
  },
  {
   "cell_type": "code",
   "execution_count": null,
   "metadata": {},
   "outputs": [],
   "source": [
    "pyspch.p1()"
   ]
  },
  {
   "cell_type": "code",
   "execution_count": null,
   "metadata": {},
   "outputs": [],
   "source": [
    "print(type(pyspch),type(pyspch.spm),type(pyspch.spm.p1))\n",
    "pyspch.p1(), pyspch.u1.p2()"
   ]
  },
  {
   "cell_type": "code",
   "execution_count": null,
   "metadata": {},
   "outputs": [],
   "source": [
    "help(pyspch)"
   ]
  },
  {
   "cell_type": "code",
   "execution_count": null,
   "metadata": {},
   "outputs": [],
   "source": [
    "print(pyspch.EPS_FLOAT)"
   ]
  },
  {
   "cell_type": "code",
   "execution_count": null,
   "metadata": {},
   "outputs": [],
   "source": [
    "print(pyspch.EPS_FLOAT)\n",
    "print(type(pyspch),type(pyspch.core),type(pyspch.core.load))\n",
    "#\n",
    "x=pyspch.make_seq1()\n",
    "print(x[0][0][0:3])\n",
    "y=pyspch.core.make_seq1()\n",
    "print(x[0][0][1:5])\n",
    "\n",
    "pyspch.core.fetch_hillenbrand()"
   ]
  },
  {
   "cell_type": "code",
   "execution_count": null,
   "metadata": {},
   "outputs": [],
   "source": [
    "help(pyspch.audio)"
   ]
  },
  {
   "cell_type": "code",
   "execution_count": null,
   "metadata": {},
   "outputs": [],
   "source": [
    "import pyspch\n",
    "print(type(pyspch.sp),type(pyspch.sp.mean_norm))\n",
    "#print(type(pyspch.display),type(pyspch.display.PlotWaveform))\n",
    "\n",
    "#\n",
    "x=pyspch.make_seq1()\n",
    "print(x[0][0][0:3])\n",
    "\n",
    "print(pyspch.sp.mean_norm([[5,4],[4,5]]))\n",
    "print(pyspch.mean_norm([[5,4],[4,5]]))\n",
    "#pyspch.display.PlotWaveform(np.array([.1,.2]))"
   ]
  },
  {
   "cell_type": "code",
   "execution_count": null,
   "metadata": {},
   "outputs": [],
   "source": [
    "print(pyspch.sp.mean_norm([[5,4],[4,5]]))\n",
    "type(pyspch.load)  #, type(pyspch.libhmm) # display.PlotSpg()\n",
    "print(pyspch.mean_norm([[5,4],[4,5]]))"
   ]
  },
  {
   "cell_type": "code",
   "execution_count": null,
   "metadata": {},
   "outputs": [],
   "source": [
    "pyspch.EPS_FLOAT, pyspch.core.next_power_of_2(13)"
   ]
  },
  {
   "cell_type": "code",
   "execution_count": null,
   "metadata": {},
   "outputs": [],
   "source": [
    "help(pyspch.sp)"
   ]
  },
  {
   "cell_type": "code",
   "execution_count": null,
   "metadata": {},
   "outputs": [],
   "source": [
    "from pyspch import *"
   ]
  },
  {
   "cell_type": "code",
   "execution_count": null,
   "metadata": {},
   "outputs": [],
   "source": [
    "help(pyspch.display.Spg1)"
   ]
  },
  {
   "cell_type": "code",
   "execution_count": null,
   "metadata": {},
   "outputs": [],
   "source": [
    "display.PlotWaveform(np.array([.1,.2]))"
   ]
  },
  {
   "cell_type": "code",
   "execution_count": null,
   "metadata": {},
   "outputs": [],
   "source": []
  },
  {
   "cell_type": "code",
   "execution_count": null,
   "metadata": {},
   "outputs": [],
   "source": []
  },
  {
   "cell_type": "code",
   "execution_count": null,
   "metadata": {},
   "outputs": [],
   "source": []
  },
  {
   "cell_type": "code",
   "execution_count": null,
   "metadata": {},
   "outputs": [],
   "source": [
    "help(pyspch.core.fetch_hillenbrand)"
   ]
  },
  {
   "cell_type": "code",
   "execution_count": null,
   "metadata": {},
   "outputs": [],
   "source": [
    "import pyspch.sp as Sps"
   ]
  },
  {
   "cell_type": "code",
   "execution_count": null,
   "metadata": {},
   "outputs": [],
   "source": [
    "help(Sps.mean_norm)"
   ]
  },
  {
   "cell_type": "code",
   "execution_count": null,
   "metadata": {},
   "outputs": [],
   "source": [
    "help(pyspch.load)"
   ]
  },
  {
   "cell_type": "code",
   "execution_count": null,
   "metadata": {},
   "outputs": [],
   "source": [
    "#help(pyspch)\n",
    "help(pyspch.sp)"
   ]
  },
  {
   "cell_type": "code",
   "execution_count": null,
   "metadata": {},
   "outputs": [],
   "source": [
    "import librosa.core"
   ]
  },
  {
   "cell_type": "code",
   "execution_count": null,
   "metadata": {},
   "outputs": [],
   "source": [
    "help(librosa.load)"
   ]
  },
  {
   "cell_type": "code",
   "execution_count": null,
   "metadata": {},
   "outputs": [],
   "source": [
    "import pyspch.display as Spd\n",
    "help(Spd.PlotWaveform)\n",
    "#help(Spd.SpchFig)"
   ]
  },
  {
   "cell_type": "code",
   "execution_count": null,
   "metadata": {},
   "outputs": [],
   "source": [
    "import pyspch.sp as Sps\n",
    "help(Sps.cepstrum)"
   ]
  },
  {
   "cell_type": "code",
   "execution_count": null,
   "metadata": {},
   "outputs": [],
   "source": [
    "import pyspch.core as Spch\n",
    "help(Spch.fetch_hillenbrand)"
   ]
  },
  {
   "cell_type": "code",
   "execution_count": null,
   "metadata": {},
   "outputs": [],
   "source": [
    "help(Spch.read_seg_file)\n",
    "help(Sps.spectrogram)"
   ]
  },
  {
   "cell_type": "markdown",
   "metadata": {},
   "source": [
    "### Load a Data File and segmentation if available"
   ]
  },
  {
   "cell_type": "code",
   "execution_count": null,
   "metadata": {},
   "outputs": [],
   "source": [
    "dir = 'https://homes.esat.kuleuven.be/~spchlab/data/'\n",
    "name = 'misc/bad_bead_booed'\n",
    "#name ='misc/b_8k'\n",
    "name = 'misc/friendly'\n",
    "#name = 'timit/si1027'\n",
    "#\n",
    "wavfname = os.path.join(dir,name+\".wav\")\n",
    "wavdata, sr = Spch.load(wavfname)\n",
    "if sr > 16000:\n",
    "    wavdata, sr = Spch.load(wavfname,sample_rate=16000) \n",
    "\n",
    "# get segmentations and convert TIMIT segmentations from sample indices to time, plus map from the TIMIT61 alphabet to CMU\n",
    "dsegt = 1.\n",
    "xlat = None\n",
    "if name.split('/')[0] == 'timit':\n",
    "    dsegt = 1./16000.\n",
    "    xlat = 'timit61_41'\n",
    "    \n",
    "# try to find a segmentation, grapheme or phoneme or word\n",
    "seg = Spch.read_seg_file(dir+name+ \".gra\",dt=dsegt,fmt='float32')\n",
    "if seg is None: seg = Spch.read_seg_file(dir+name+ \".phn\",dt=dsegt,fmt='float32',xlat=xlat)\n",
    "if seg is None: seg = Spch.read_seg_file(dir+name+ \".wrd\",dt=dsegt,fmt='float32')"
   ]
  },
  {
   "cell_type": "code",
   "execution_count": null,
   "metadata": {},
   "outputs": [],
   "source": [
    "# compute a spectrogram as starting point for further analysis\n",
    "shift=0.01\n",
    "length=0.03\n",
    "n_shift = int(shift*sr)\n",
    "n_length = int(length*sr)\n",
    "spg = Sps.spectrogram(wavdata,sample_rate=sr,f_shift=shift,n_mels=None)\n",
    "(nparam,nfr)=spg.shape\n",
    "d_freq = sr/(2.*(nparam-1))\n",
    "fig = Spd.PlotSpg(wavdata=wavdata,spgdata=spg,segwav=seg,sample_rate=sr,figsize=(14,8))\n",
    "fig"
   ]
  },
  {
   "cell_type": "code",
   "execution_count": null,
   "metadata": {},
   "outputs": [],
   "source": [
    "help(Spch.logf)\n",
    "Spch.EPS_FLOAT"
   ]
  },
  {
   "cell_type": "code",
   "execution_count": null,
   "metadata": {},
   "outputs": [],
   "source": [
    "from pyspch.core.constants import EPS_FLOAT"
   ]
  },
  {
   "cell_type": "code",
   "execution_count": null,
   "metadata": {},
   "outputs": [],
   "source": [
    "EPS_FLOAT"
   ]
  },
  {
   "cell_type": "code",
   "execution_count": null,
   "metadata": {},
   "outputs": [],
   "source": []
  }
 ],
 "metadata": {
  "kernelspec": {
   "display_name": "Python 3",
   "language": "python",
   "name": "python3"
  },
  "language_info": {
   "codemirror_mode": {
    "name": "ipython",
    "version": 3
   },
   "file_extension": ".py",
   "mimetype": "text/x-python",
   "name": "python",
   "nbconvert_exporter": "python",
   "pygments_lexer": "ipython3",
   "version": "3.7.8"
  },
  "widgets": {
   "application/vnd.jupyter.widget-state+json": {
    "state": {},
    "version_major": 2,
    "version_minor": 0
   }
  }
 },
 "nbformat": 4,
 "nbformat_minor": 4
}
