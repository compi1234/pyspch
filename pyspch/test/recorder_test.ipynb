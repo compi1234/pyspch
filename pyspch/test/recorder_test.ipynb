{
 "cells": [
  {
   "cell_type": "markdown",
   "id": "architectural-unknown",
   "metadata": {},
   "source": [
    "<a href=\"https://colab.research.google.com/github/compi1234/pyspch/blob/master/test/audio_test.ipynb\" target=\"_parent\"><img src=\"https://colab.research.google.com/assets/colab-badge.svg\" alt=\"Open In Colab\"/></a>"
   ]
  },
  {
   "cell_type": "markdown",
   "id": "sought-windsor",
   "metadata": {},
   "source": [
    "## Mini Recorder Test Notebook \n",
    "\n",
    "\n",
    "Date: 17/05/2021"
   ]
  },
  {
   "cell_type": "code",
   "execution_count": 1,
   "id": "other-transparency",
   "metadata": {},
   "outputs": [],
   "source": [
    "%matplotlib inline\n",
    "import matplotlib.pyplot as plt\n",
    "\n",
    "from IPython.display import display, clear_output, Audio, HTML\n",
    "import ipywidgets as widgets\n",
    "import numpy as np\n",
    "\n",
    "\n",
    "import librosa\n",
    "try:\n",
    "  import google.colab\n",
    "  IN_COLAB = True \n",
    "  ! pip install git+https://github.com/compi1234/pyspch.git\n",
    "except:\n",
    "  IN_COLAB = False\n",
    "\n",
    "# verify the IPython version\n",
    "import IPython\n",
    "if IPython.version_info[0] >= 6:\n",
    "    Audio_args = {'normalize':False}\n",
    "else:\n",
    "    print(\"Warning: you are using IPython<6 \\n IPython.display.Audio() will automatically normalize audio output\")\n",
    "    Audio_args = {}\n",
    "import pyspch.audio as audio\n",
    "import pyspch.spectrogram as specg\n",
    "import pyspch.utils as spch_utils\n",
    "import pyspch.display as spch_disp\n",
    "#import pyspch.display_ly as spch_disp\n",
    "import pyspch\n",
    "\n",
    "SAMPLE_WAV_URL = 'https://homes.esat.kuleuven.be/~spchlab/data/misc/train.wav'\n",
    "SAMPLE_WAV_13dB_SNGER = 'https://homes.esat.kuleuven.be/~spchlab/data/13dB/Psnger22.wav'"
   ]
  },
  {
   "cell_type": "code",
   "execution_count": 2,
   "id": "conditional-booking",
   "metadata": {},
   "outputs": [],
   "source": [
    "Symbols = { 'play':'\\u25b6','reverse':'\\u25C0' , 'pause':'\\u23F8', 'stop': '\\u23F9', 'record':'\\u2b55'}\n",
    "def box_layout():\n",
    "     return widgets.Layout(\n",
    "        border='solid 1px black',\n",
    "        margin='0px 10px 10px 0px',\n",
    "        padding='5px 5px 5px 5px'\n",
    "     )\n",
    "def button_layout():\n",
    "    return widgets.Layout(\n",
    "        border='solid 1px black',\n",
    "        margin='0px 10px 10px 0px',\n",
    "        padding='5px 5px 5px 5px',\n",
    "        width = '40px',\n",
    "        height = '40px',\n",
    "        flex_shrink =2\n",
    "     )\n",
    "\n",
    "class mini_recorder(widgets.VBox):\n",
    "    \n",
    "    def __init__(self,data=np.zeros((1000,)),sample_rate=16000,figsize=(5,4),dpi=100):\n",
    "        super().__init__()\n",
    "        \n",
    "        self.data = data\n",
    "        \n",
    "        self.sample_rate = sample_rate\n",
    "        self.rec_time = 2.0         \n",
    "        self.line_color = '#0000ff'\n",
    "        self.figsize = figsize\n",
    "        self.dpi = dpi\n",
    "                     \n",
    "        self.wg_play_button = widgets.Button(description=Symbols['play'],layout=button_layout())\n",
    "        self.wg_record_button = widgets.Button(description=Symbols['record'],layout=button_layout())\n",
    "        self.wg_pause_button = widgets.Button(description=Symbols['pause'],layout=button_layout())\n",
    "        self.wg_clear_log_button = widgets.Button(description='Clear log')\n",
    "        #self.rec_time_slider = widgets.FloatSlider(value=self.rec_time,step=.5,min=.5,max=10.,\n",
    "        #                                           description='Rec Time',indent=False,continous_update=False)\n",
    "\n",
    "        self.wg_rectime = widgets.BoundedFloatText(   value=2.0, min=0.5, max= 10., step=0.5,\n",
    "            description='Rec Time:', disabled=False)\n",
    "        self.out = widgets.Output(layout=box_layout())\n",
    "        self.out.layout.width = '100%'\n",
    "        self.logscr = widgets.Output()        \n",
    "        self.UI = widgets.VBox([\n",
    "            widgets.HBox([self.wg_play_button,self.wg_record_button,self.wg_pause_button,self.wg_rectime,self.wg_clear_log_button]),\n",
    "            self.logscr], \n",
    "            layout=box_layout())\n",
    "        self.UI.layout.width = '100%'\n",
    "        # add as children\n",
    "        self.children = [self.out, self.UI] \n",
    "        \n",
    "        self.wg_play_button.on_click(self.play_sound)       \n",
    "        self.wg_record_button.on_click(self.record_sound)\n",
    "        self.wg_pause_button.on_click(self.pause_sound)\n",
    "        self.wg_clear_log_button.on_click(self.clear_log)\n",
    "        self.wg_rectime.observe(self.rectime_observe,'value')\n",
    "        \n",
    "        self.plot_data()\n",
    "        plt.close()\n",
    "\n",
    "\n",
    "    def plot_data(self):\n",
    "        with self.out:\n",
    "            clear_output(wait=True)\n",
    "            spg = specg.spectrogram(self.data,sample_rate=self.sample_rate)\n",
    "            self.fig = spch_disp.plot_spg(spg,wav=self.data,sample_rate=self.sample_rate,figsize=self.figsize,dpi=self.dpi)\n",
    "            #self.fig = spch_disp.plot_waveform(self.data,sample_rate=self.sample_rate)\n",
    "            display(self.fig)\n",
    "        \n",
    "    def rectime_observe(self,change):\n",
    "        self.rec_time = change.new\n",
    "    \n",
    "    def pause_sound(self,b):\n",
    "        with self.logscr:\n",
    "            print(\"You didn't expect everything to work ?!! did you ... \")\n",
    "            \n",
    "    def play_sound(self,b):\n",
    "        with self.logscr:\n",
    "            clear_output()\n",
    "            if(IN_COLAB):\n",
    "              print(\"IN_COLAB: Use the HTML button to play sound\")\n",
    "            audio.play(self.data,sample_rate=self.sample_rate,wait=True)\n",
    "        \n",
    "    def record_sound(self,b):      \n",
    "        with self.logscr:\n",
    "            self.data = audio.record(self.rec_time,self.sample_rate,n_channels=1)\n",
    "        self.plot_data()\n",
    "        self.play_sound(b)\n",
    "     \n",
    "    def clear_log(self,b):\n",
    "        with self.logscr: clear_output()\n",
    "            \n"
   ]
  },
  {
   "cell_type": "code",
   "execution_count": 3,
   "id": "asian-measurement",
   "metadata": {},
   "outputs": [
    {
     "data": {
      "application/vnd.jupyter.widget-view+json": {
       "model_id": "3d58413bd53148b8bc5d3397209ef7c9",
       "version_major": 2,
       "version_minor": 0
      },
      "text/plain": [
       "mini_recorder(children=(Output(layout=Layout(border='solid 1px black', margin='0px 10px 10px 0px', padding='5p…"
      ]
     },
     "metadata": {},
     "output_type": "display_data"
    }
   ],
   "source": [
    "recorder = mini_recorder(figsize=(8,6))\n",
    "recorder"
   ]
  },
  {
   "cell_type": "code",
   "execution_count": null,
   "id": "surprised-virgin",
   "metadata": {},
   "outputs": [],
   "source": []
  }
 ],
 "metadata": {
  "kernelspec": {
   "display_name": "Python 3",
   "language": "python",
   "name": "python3"
  },
  "language_info": {
   "codemirror_mode": {
    "name": "ipython",
    "version": 3
   },
   "file_extension": ".py",
   "mimetype": "text/x-python",
   "name": "python",
   "nbconvert_exporter": "python",
   "pygments_lexer": "ipython3",
   "version": "3.7.10"
  },
  "widgets": {
   "application/vnd.jupyter.widget-state+json": {
    "state": {},
    "version_major": 2,
    "version_minor": 0
   }
  }
 },
 "nbformat": 4,
 "nbformat_minor": 5
}
