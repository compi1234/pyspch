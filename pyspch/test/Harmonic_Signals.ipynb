{
 "cells": [
  {
   "cell_type": "markdown",
   "metadata": {},
   "source": [
    "# Harmonic Signals\n",
    "### Observe waveform and spectrum or spectrogram \n",
    "### Control frequency and amplitude of a sine - square - sawtooth signal\n",
    "\n",
    "Author: Dirk Van Compernolle   \n",
    "Created: 29/03/2021\n",
    "\n",
    "---------------------------------------------------------\n",
    "Dependencies: \n",
    "- IPython > 6.0       (works with lower version, but not fully)\n",
    "- ipywidget\n",
    "- matplotlib\n",
    "- numpy \n",
    "- scipy \n",
    "- librosa"
   ]
  },
  {
   "cell_type": "code",
   "execution_count": 1,
   "metadata": {},
   "outputs": [
    {
     "data": {
      "text/html": [
       "\n",
       "<style>\n",
       "    div#notebook-container    { width: 99%; }\n",
       "    div#menubar-container     { width: 65%; }\n",
       "    div#maintoolbar-container { width: 99%; }\n",
       "</style>\n"
      ],
      "text/plain": [
       "<IPython.core.display.HTML object>"
      ]
     },
     "metadata": {},
     "output_type": "display_data"
    }
   ],
   "source": [
    "%matplotlib inline\n",
    "import ipywidgets as widgets\n",
    "from ipywidgets import interact, interact_manual, interactive, interactive_output\n",
    "import numpy as np\n",
    "import matplotlib.pyplot as plt\n",
    "import matplotlib\n",
    "from scipy import signal\n",
    "from IPython.display import display, clear_output, Audio, HTML\n",
    "import time\n",
    "import librosa\n",
    "import pyspch.spectrogram as specg\n",
    "import pyspch.display as spch_disp\n",
    "\n",
    "def my_sine(x, w, amp, phi):\n",
    "    return amp*np.sin(w * (x-phi))\n",
    "#\n",
    "def synth(sigtype='sin', freq=200.0, amp=1.0, phi=0.0, sample_rate=8000, Tmax=0.25):\n",
    "    t = np.linspace(0.0, Tmax, int(Tmax*sample_rate), endpoint=False)\n",
    "    tt = 2.*np.pi*(freq*t)\n",
    "    if sigtype == 'sin':\n",
    "        y = np.sin(tt)\n",
    "    elif sigtype == 'square':\n",
    "        y = signal.square(tt + phi)\n",
    "    elif sigtype == 'sawtooth':\n",
    "        y = signal.sawtooth(tt + phi )\n",
    "    elif sigtype == 'chirp 1:20':\n",
    "        y = signal.chirp(t,freq,Tmax,20.*freq,method='linear')\n",
    "    elif sigtype == 'chirp 20:1':\n",
    "        y = signal.chirp(t,20*freq,Tmax,freq,method='linear')\n",
    "    elif sigtype == 'gausspulse':\n",
    "        y = signal.gausspulse(t-Tmax/2.,fc=freq,bw=.4)\n",
    "    elif sigtype == 'modulated white noise':\n",
    "        y = np.random.randn(len(t))*np.sin(tt)\n",
    "    elif sigtype == 'Dual Tone':   #DTMF tone ratios is approximately 21/19 ~ 1.1054 (697,770,852,941)*(1209,1336,1477)\n",
    "                              # row/col ratio is \n",
    "        tt1 = 2.*np.pi*(1.735*freq*t)\n",
    "        y = 0.5*np.sin(tt) + 0.5*np.sin(tt1)   \n",
    "    else:\n",
    "        print( 'signal: Unrecognized signal type')\n",
    "    return amp*y, t\n",
    "\n",
    "\n",
    "# a default boxed layout\n",
    "def box_layout():\n",
    "     return widgets.Layout(\n",
    "        border='solid 1px black',\n",
    "        margin='0px 10px 10px 0px',\n",
    "        padding='5px 5px 5px 5px'\n",
    "     )\n",
    "\n",
    "# The following code will increase the default width of your Jupyter notebook cells\n",
    "# Supposed to work well \n",
    "display(HTML(data=\"\"\"\n",
    "<style>\n",
    "    div#notebook-container    { width: 99%; }\n",
    "    div#menubar-container     { width: 65%; }\n",
    "    div#maintoolbar-container { width: 99%; }\n",
    "</style>\n",
    "\"\"\"))"
   ]
  },
  {
   "cell_type": "code",
   "execution_count": 2,
   "metadata": {},
   "outputs": [],
   "source": [
    "class Harmonic_Signals(widgets.HBox):\n",
    "\n",
    "    def __init__(self,Tmax=.3,sample_rate=16000,freq_range=[100.,500.]):\n",
    "        super().__init__()\n",
    "        \n",
    "        if sample_rate < 4000.:\n",
    "            print(\"WARNING: sampling rate should not be lower than 4000.0 Hz and has been reset.\")\n",
    "            sample_rate = 4000.0\n",
    "        self.sample_rate = sample_rate\n",
    "        self.nfft = 512\n",
    "        self.Tmax = Tmax        \n",
    "        display_types = ['spectrum','spectrogram']\n",
    "        signal_types = [ 'sin', 'square', 'sawtooth', 'chirp 1:20','chirp 20:1', 'gausspulse','modulated white noise','Dual Tone']\n",
    "        \n",
    "        self.disptype = 'spectrum'\n",
    "        self.sigtype = 'sin'\n",
    "        self.freq = 110.\n",
    "        self.amp = 1.\n",
    "        self.phi = 0.\n",
    "        self.autoplay = False\n",
    "\n",
    "        # create the widgets\n",
    "        self.wg_disptype = widgets.Dropdown(options=display_types,value=self.disptype,description=\"Display\")\n",
    "        self.wg_sigtype = widgets.Dropdown(options=signal_types,value=self.sigtype,description=\"Signal\")\n",
    "        self.wg_amp = widgets.FloatLogSlider(value=self.amp,step=0.2,min=-2.,max=0.0,description='Amplitude',continous_update=False)\n",
    "        freq_step = 10. if (freq_range[1]-freq_range[0]) > 50 else 1.  \n",
    "        self.wg_freq = widgets.FloatSlider(value=self.freq,step=freq_step,min=freq_range[0],max=freq_range[1],description='Frequency',continous_update=False)\n",
    "        self.wg_phi = widgets.FloatSlider(value=self.phi,step=0.1,min=0.0,max=2.*np.pi,description='Phase',continous_update=False)\n",
    "        self.wg_autoplay = widgets.Checkbox(value=self.autoplay,description='Autoplay Audio',indent=False,button_style='warning')\n",
    "        self.wg_autoplay.layout.width='50%'\n",
    "        self.wg_clear_log = widgets.Button(description='Clear the log')\n",
    "        self.wg_clear_log.layout.width='50%'\n",
    "        \n",
    "        # link to the widget observers\n",
    "        self.wg_disptype.observe(self.disptype_observe,'value')\n",
    "        self.wg_sigtype.observe(self.sigtype_observe,'value')\n",
    "        self.wg_amp.observe(self.amp_observe,'value')    \n",
    "        self.wg_freq.observe(self.freq_observe,'value')\n",
    "        self.wg_phi.observe(self.phi_observe,'value')\n",
    "        self.wg_autoplay.observe(self.autoplay_clicked, 'value')\n",
    "        self.wg_clear_log.on_click(self.clear_log_clicked)\n",
    "\n",
    "        # setup the outputs \n",
    "        self.audio = widgets.Output()\n",
    "        self.logscr = widgets.Output()\n",
    "        self.out = widgets.Output(layout=box_layout())\n",
    "        self.UI = widgets.VBox( [self.wg_disptype,self.wg_sigtype, self.wg_amp, self.wg_freq, self.wg_phi,self.wg_autoplay],\n",
    "                                 layout=box_layout())\n",
    "        self.right_screen = widgets.VBox([self.UI, self.audio, self.wg_clear_log,  self.logscr],layout=box_layout())\n",
    "                                          \n",
    "        # initialize the plots\n",
    "        #self.fig,self.ax = plt.subplots(2,1,constrained_layout=True, figsize=(9, 4))\n",
    "        self.fig = spch_disp.make_subplots(row_heights=[1.,1.], figsize=(6, 4),dpi=100)        \n",
    "        self.update()\n",
    "        plt.close()          # avoids output of dummy figure on startup\n",
    "        # initialize the displayed function\n",
    "\n",
    "        # attach children to the VBox class\n",
    "        self.children = [ self.out, self.right_screen ] \n",
    "\n",
    "    def update(self):\n",
    "        y,x = synth(sigtype=self.sigtype,freq=self.freq,phi=self.phi,amp=self.amp,sample_rate=self.sample_rate,Tmax=self.Tmax)\n",
    "\n",
    "        ax = self.fig.axes\n",
    "       \n",
    "        if self.disptype == 'spectrum':\n",
    "            ax[0].cla()\n",
    "            ax[1].cla()\n",
    "            spch_disp.add_line_plot(ax[0],y,x,yrange=[-1.,1.],xlabel='Time(sec)',title='Waveform')\n",
    "            freq_ax,spec = signal.periodogram(y,fs=self.sample_rate,scaling='spectrum')\n",
    "            ax[1].plot(freq_ax,np.sqrt(2*spec))\n",
    "            ax[1].set_title('Spectrum')\n",
    "            ax[1].set_xlabel('Frequency (Hz)')\n",
    "            ax[1].set_ylim([0, 1])\n",
    "            ax[1].grid(True)\n",
    "            ax[1].set_xlim([0,self.sample_rate/2.])\n",
    "        elif self.disptype == 'spectrogram':\n",
    "            spg = specg.spectrogram(y,sample_rate=self.sample_rate,preemp=0.)\n",
    "            yax = np.arange(self.nfft/2 + 1)*(self.sample_rate/self.nfft) \n",
    "            spch_disp.plot_spg(spg,fig=self.fig,wav=y,sample_rate=self.sample_rate,yax=yax)\n",
    "            ax[0].set_title('Waveform')\n",
    "            ax[0].set_xlabel('')\n",
    "            ax[1].set_title('Spectrogram')\n",
    "            ax[1].set_xlabel('Time(sec)')\n",
    "            #ax[1].set_ylabel('Hz')\n",
    "\n",
    "            \n",
    "        # here come the things that go to dedicated output widgets\n",
    "        with self.out:\n",
    "            clear_output(wait=True)\n",
    "            display(self.fig)\n",
    "        with self.audio:\n",
    "            clear_output(wait=True)\n",
    "            try:\n",
    "                display(Audio(data=y,rate=self.sample_rate,normalize=False, autoplay=self.autoplay))\n",
    "            except: \n",
    "                try:\n",
    "                    with self.logscr:\n",
    "                        #clear_output(wait=True)\n",
    "                        print(\"Warning: playing normalized sound\")\n",
    "                    display(Audio(data=y,rate=self.sample_rate, autoplay=self.autoplay))\n",
    "                except: pass\n",
    "     \n",
    "    def disptype_observe(self,change):\n",
    "        self.disptype = change.new\n",
    "        self.update()\n",
    "    \n",
    "    def sigtype_observe(self,change):\n",
    "        self.sigtype = change.new\n",
    "        self.update()\n",
    "    \n",
    "    def amp_observe(self,change):\n",
    "        self.amp = change.new\n",
    "        self.update()\n",
    "        \n",
    "    def freq_observe(self,change):\n",
    "        self.freq = change.new\n",
    "        self.update()\n",
    "        \n",
    "    def phi_observe(self,change):\n",
    "        self.phi = change.new\n",
    "        self.update()\n",
    "        \n",
    "    def autoplay_clicked(self,obj):\n",
    "        self.autoplay = not self.autoplay\n",
    "        with self.logscr: print('Toggling autoplay',self.autoplay) \n",
    "\n",
    "    def clear_log_clicked(self,b):\n",
    "        with self.logscr: clear_output()                   \n",
    "\n"
   ]
  },
  {
   "cell_type": "markdown",
   "metadata": {},
   "source": [
    "## DEMO 1: Waveform and Spectrum of Harmonic Signals\n",
    "\n",
    "\n",
    "In this demo periodic signals are generated that can be characterized as a harmonic complex of sine waves.\n",
    "\n",
    "$y= A \\sum_k \\alpha_k  sin(2  \\pi k f_0 t+\\Phi)$\n",
    "\n",
    "In addition signals can be generated with either time-varying amplitude (e.g. Gaussian pulse) or time-varying frequency (e.g. chirps). \n",
    "\n",
    "You can control:\n",
    "- The fundamental frequency $f_0$  (named \"frequency\" in the control panel)  \n",
    "- The overall amplitude $A$\n",
    "- The relative amplitude of the harmonics $\\alpha_k$ by choosing from a set of predefined harmonic functions\n",
    "- The global phase $\\Phi$  (you cannot control relative phase differences per harmonic component)\n",
    "\n",
    "Signal Types to choose from:\n",
    "- stationary and periodic\n",
    "    + sine wave\n",
    "    + square \n",
    "    + sawtooth\n",
    "- non stationary signals:\n",
    "    + chirp 1:10 : ramping up the frequency by a factor of 20\n",
    "    + chirp 20:1 : ramping down the frequency by a factor of 20\n",
    "    + gausspulse\n",
    "\n",
    "    \n",
    "Displays to choose from:\n",
    "- spectrum: most appropiate for stationary signals\n",
    "- spectrogram: essential for non-stationary signals\n",
    "    \n",
    "CAVEAT:   \n",
    "+ The Autoplay function does not always work properly on Ipython < 6.0 [Google Colab] which has autonormalization by default in the display.Audio() function"
   ]
  },
  {
   "cell_type": "code",
   "execution_count": 4,
   "metadata": {},
   "outputs": [
    {
     "data": {
      "application/vnd.jupyter.widget-view+json": {
       "model_id": "54c84d9da9d44e5ab8c5c3286cea31d1",
       "version_major": 2,
       "version_minor": 0
      },
      "text/plain": [
       "Harmonic_Signals(children=(Output(layout=Layout(border='solid 1px black', margin='0px 10px 10px 0px', padding=…"
      ]
     },
     "metadata": {},
     "output_type": "display_data"
    }
   ],
   "source": [
    "Harmonic_Signals(Tmax=0.5,sample_rate=8000,freq_range=[100,300.]) "
   ]
  },
  {
   "cell_type": "code",
   "execution_count": null,
   "metadata": {},
   "outputs": [],
   "source": []
  }
 ],
 "metadata": {
  "kernelspec": {
   "display_name": "Python 3",
   "language": "python",
   "name": "python3"
  },
  "language_info": {
   "codemirror_mode": {
    "name": "ipython",
    "version": 3
   },
   "file_extension": ".py",
   "mimetype": "text/x-python",
   "name": "python",
   "nbconvert_exporter": "python",
   "pygments_lexer": "ipython3",
   "version": "3.7.10"
  },
  "widgets": {
   "application/vnd.jupyter.widget-state+json": {
    "state": {
     "004e5b5582f941bfbc3d289de6fe7bfb": {
      "model_module": "@jupyter-widgets/output",
      "model_module_version": "1.0.0",
      "model_name": "OutputModel",
      "state": {
       "layout": "IPY_MODEL_add0e9d0008842d8a365bdd8377aa5bb",
       "outputs": [
        {
         "data": {
          "image/png": "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\n",
          "text/plain": "<Figure size 600x400 with 2 Axes>"
         },
         "metadata": {},
         "output_type": "display_data"
        }
       ]
      }
     },
     "012800afd05a442c8b5a58a7835f71e9": {
      "model_module": "@jupyter-widgets/controls",
      "model_module_version": "1.5.0",
      "model_name": "SliderStyleModel",
      "state": {
       "description_width": ""
      }
     },
     "0184cd4e32ad4cd4a924a30b646b63a8": {
      "model_module": "@jupyter-widgets/controls",
      "model_module_version": "1.5.0",
      "model_name": "DropdownModel",
      "state": {
       "_options_labels": [
        "spectrum",
        "spectrogram"
       ],
       "description": "Display",
       "index": 0,
       "layout": "IPY_MODEL_f373cd2b6085413c995c3efe465f1b6c",
       "style": "IPY_MODEL_2c84b15b38684a8c85afc73be789be54"
      }
     },
     "03ce91f00fc84137b62f1b93cec9a98a": {
      "model_module": "@jupyter-widgets/base",
      "model_module_version": "1.2.0",
      "model_name": "LayoutModel",
      "state": {
       "border": "solid 1px black",
       "margin": "0px 10px 10px 0px",
       "padding": "5px 5px 5px 5px"
      }
     },
     "048d0f446e924e899601548f6ebf0069": {
      "model_module": "@jupyter-widgets/output",
      "model_module_version": "1.0.0",
      "model_name": "OutputModel",
      "state": {
       "layout": "IPY_MODEL_c0876167dc2f4cbe973ec1edd580c77d"
      }
     },
     "04bbec8c45104ce2bf8843489feb29a5": {
      "model_module": "@jupyter-widgets/base",
      "model_module_version": "1.2.0",
      "model_name": "LayoutModel",
      "state": {
       "border": "solid 1px black",
       "margin": "0px 10px 10px 0px",
       "padding": "5px 5px 5px 5px"
      }
     },
     "04cd4e01274143e3ad07100cbe36241a": {
      "model_module": "@jupyter-widgets/controls",
      "model_module_version": "1.5.0",
      "model_name": "DescriptionStyleModel",
      "state": {
       "description_width": ""
      }
     },
     "0801ce20d77c49a18e772996f395295f": {
      "model_module": "@jupyter-widgets/base",
      "model_module_version": "1.2.0",
      "model_name": "LayoutModel",
      "state": {}
     },
     "0951475e71604fc597ca06d3a65e7925": {
      "model_module": "@jupyter-widgets/base",
      "model_module_version": "1.2.0",
      "model_name": "LayoutModel",
      "state": {}
     },
     "0c6c312245e74c94ac1a9bc31b104f22": {
      "model_module": "@jupyter-widgets/base",
      "model_module_version": "1.2.0",
      "model_name": "LayoutModel",
      "state": {}
     },
     "0cf710eb6899493da952444a4e096678": {
      "model_module": "@jupyter-widgets/controls",
      "model_module_version": "1.5.0",
      "model_name": "VBoxModel",
      "state": {
       "children": [
        "IPY_MODEL_11152cb66d974082b5ecd40a2fdc273e",
        "IPY_MODEL_f51f10888c9245c2b1d0ac1afe4596eb",
        "IPY_MODEL_5cbd14a881bc4b89aaae9c2c79479a65",
        "IPY_MODEL_10bc9472ae1742798ef39e32c32711ca",
        "IPY_MODEL_cdc4d17cd5444ac8beba4486951533c1",
        "IPY_MODEL_ca9ff82b4bdb43c188a124c847bef7dd"
       ],
       "layout": "IPY_MODEL_fe3c17a1b7ce4131baed932927a24af3"
      }
     },
     "10bc9472ae1742798ef39e32c32711ca": {
      "model_module": "@jupyter-widgets/controls",
      "model_module_version": "1.5.0",
      "model_name": "FloatSliderModel",
      "state": {
       "description": "Frequency",
       "layout": "IPY_MODEL_6532dff962384a4c91bbc630364567f6",
       "max": 500,
       "min": 2,
       "step": 10,
       "style": "IPY_MODEL_98d48431dc1846c68ef1374cf0252273",
       "value": 432
      }
     },
     "11152cb66d974082b5ecd40a2fdc273e": {
      "model_module": "@jupyter-widgets/controls",
      "model_module_version": "1.5.0",
      "model_name": "DropdownModel",
      "state": {
       "_options_labels": [
        "spectrum",
        "spectrogram"
       ],
       "description": "Display",
       "index": 1,
       "layout": "IPY_MODEL_324fc35cf2e34658b50f3529623668b8",
       "style": "IPY_MODEL_f30e320f4360478bb52b18777ee25062"
      }
     },
     "14e39cbc39934824be4b1ac70d3454cf": {
      "model_module": "@jupyter-widgets/base",
      "model_module_version": "1.2.0",
      "model_name": "LayoutModel",
      "state": {
       "border": "solid 1px black",
       "margin": "0px 10px 10px 0px",
       "padding": "5px 5px 5px 5px"
      }
     },
     "177f9819e6934628adeda83c733f77b2": {
      "model_module": "@jupyter-widgets/output",
      "model_module_version": "1.0.0",
      "model_name": "OutputModel",
      "state": {
       "layout": "IPY_MODEL_7a8bde3d3b4346acb495bd3a765d6551",
       "outputs": [
        {
         "data": {
          "text/html": "\n                <audio  controls=\"controls\" autoplay=\"autoplay\">\n                    <source src=\"data:audio/wav;base64,UklGRuQSAABXQVZFZm10IBAAAAABAAEAQB8AAIA+AAACABAAZGF0YcASAAAAAAAAAAAAAAAAAAAAAAAAAAAAAAAAAAAAAAAAAAAAAAAAAAAAAAAAAAAAAAAAAAAAAAAAAAAAAAAAAAAAAAAAAAAAAAAAAAAAAAAAAAAAAAAAAAAAAAAAAAAAAAAAAAAAAAAAAAAAAAAAAAAAAAAAAAAAAAAAAAAAAAAAAAAAAAAAAAAAAAAAAAAAAAAAAAAAAAAAAAAAAAAAAAAAAAAAAAAAAAAAAAAAAAAAAAAAAAAAAAAAAAAAAAAAAAAAAAAAAAAAAAAAAAAAAAAAAAAAAAAAAAAAAAAAAAAAAAAAAAAAAAAAAAAAAAAAAAAAAAAAAAAAAAAAAAAAAAAAAAAAAAAAAAAAAAAAAAAAAAAAAAAAAAAAAAAAAAAAAAAAAAAAAAAAAAAAAAAAAAAAAAAAAAAAAAAAAAAAAAAAAAAAAAAAAAAAAAAAAAAAAAAAAAAAAAAAAAAAAAAAAAAAAAAAAAAAAAAAAAAAAAAAAAAAAAAAAAAAAAAAAAAAAAAAAAAAAAAAAAAAAAAAAAAAAAAAAAAAAAAAAAAAAAAAAAAAAAAAAAAAAAAAAAAAAAAAAAAAAAAAAAAAAAAAAAAAAAAAAAAAAAAAAAAAAAAAAAAAAAAAAAAAAAAAAAAAAAAAAAAAAAAAAAAAAAAAAAAAAAAAAAAAAAAAAAAAAAAAAAAAAAAAAAAAAAAAAAAAAAAAAAAAAAAAAAAAAAAAAAAAAAAAAAAAAAAAAAAAAAAAAAAAAAAAAAAAAAAAAAAAAAAAAAAAAAAAAAAAAAAAAAAAAAAAAAAAAAAAAAAAAAAAAAAAAAAAAAAAAAAAAAAAAAAAAAAAAAAAAAAAAAAAAAAAAAAAAAAAAAAAAAAAAAAAAAAAAAAAAAAAAAAAAAAAAAAAAAAAAAAAAAAAAAAAAAAAAAAAAAAAAAAAAAAAAAAAAAAAAAAAAAAAAAAAAAAAAAAAAAAAAAAAAAAAAAAAAAAAAAAAAAAAAAAAAAAAAAAAAAAAAAAAAAAAAAAAAAAAAAAAAAAAAAAAAAAAAAAAAAAAAAAAAAAAAAAAAAAAAAAAAAAAAAAAAAAAAAAAAAAAAAAAAAAAAAAAAAAAAAAAAAAAAAAAAAAAAAAAAAAAAAAAAAAAAAAAAAAAAAAAAAAAAAAAAAAAAAAAAAAAAAAAAAAAAAAAAAAAAAAAAAAAAAAAAAAAAAAAAAAAAAAAAAAAAAAAAAAAAAAAAAAAAAAAAAAAAAAAAAAAAAAAAAAAAAAAAAAAAAAAAAAAAAAAAAAAAAAAAAAAAAAAAAAAAAAAAAAAAAAAAAAAAAAAAAAAAAAAAAAAAAAAAAAAAAAAAAAAAAAAAAAAAAAAAAAAAAAAAAAAAAAAAAAAAAAAAAAAAAAAAAAAAAAAAAAAAAAAAAAAAAAAAAAAAAAAAAAAAAAAAAAAAAAAAAAAAAAAAAAAAAAAAAAAAAAAAAAAAAAAAAAAAAAAAAAAAAAAAAAAAAAAAAAAAAAAAAAAAAAAAAAAAAAAAAAAAAAAAAAAAAAAAAAAAAAAAAAAAAAAAAAAAAAAAAAAAAAAAAAAAAAAAAAAAAAAAAAAAAAAAAAAAAAAAAAAAAAAAAAAAAAAAAAAAAAAAAAAAAAAAAAAAAAAAAAAAAAAAAAAAAAAAAAAAAAAAAAAAAAAAAAAAAAAAAAAAAAAAAAAAAAAAAAAAAAAAAAAAAAAAAAAAAAAAAAAAAAAAAAAAAAAAAAAAAAAAAAAAAAAAAAAAAAAAAAAAAAAAAAAAAAAAAAAAAAAAAAAAAAAAAAAAAAAAAAAAAAAAAAAAAAAAAAAAAAAAAAAAAAAAAAAAAAAAAAAAAAAAAAAAAAAAAAAAAAAAAAAAAAAAAAAAAAAAAAAAAAAAAAAAAAAAAAAAAAAAAAAAAAAAAAAAAAAAAAAAAAAAAAAAAAAAAAAAAAAAAAAAAAAAAAAAAAAAAAAAAAAAAAAAAAAAAAAAAAAAAAAAAAAAAAAAAAAAAAAAAAAAAAAAAAAAAAAAAAAAAAAAAAAAAAAAAAAAAAAAAAAAAAAAAAAAAAAAAAAAAAAAAAAAAAAAAAAAAAAAAAAAAAAAAAAAAAAAAAAAAAAAAAAAAAAAAAAAAAAAAAAAAAAAAAAAAAAAAAAAAAAAAAAAAAAAAAAAAAAAAAAAAAAAAAAAAAAAAAAAAAAAAAAAAAAAAAAAAAAAAAAAAAAAAAAAAAAAAAAAAAAAAAAAAAAAAAAAAAAAAAAAAAAAAAAAAAAAAAAAAAAAAAAAAAAAAAAAAAAAAAAAAAAAAAAAAAAAAAAAAAAAAAAAAAAAAAAAAAAAAAAAAAAAAAAAAAAAAAAAAAAAAAAAAAAAAAAAAAAAAAAAAAAAAAAAAAAAAAAAAAAAAAAAAAAAAAAAAAAAAAAAAAAAAAAAAAAAAAAAAAAAAAAAAAAAAAAAAAAAAAAAAAAAAAAAAAAAAAAAAAAAAAAAAAAAAAAAAAAAAAAAAAAAAAAAAAAAAAAAAAAAAAAAAAAAAAAAAAAAAAAAAAAAAAAAAAAAAAAAAAAAAAAAAAAAAAAAAAAAAAAAAAAAAAAAAAAAAAAAAAAAAAAAAAAAAAAAAAAAAAAAAAAAAAAAAAAAAAAAAAAAAAAAAAAAAAAAAAAAAAAAAAAAAAAAAAAAAAAAAAAAAAAAAAAAAAAAAAAAAAAAAAAAAAAAAAAAAAAAAAAAAAAAAAAAAAAAAAAAAAAAAAAAAAAAAAAAAAAAAAAAAAAAAAAAAAAAAAAAAAAAAAAAAAAAAAAAAAAAAAAAAAAAAAAAAAAAAAAAAAAAAAAAAAAAAAAAAAAAAAAAAAAAAAAAAAAAAAAAAAAAAAAAAAAAAAAAAAAAAAAAAAAAAAAAAAAAAAAAAAAAAAAAAAAAAAAAAAAAAAAAAAAAAAAAAAAAAAAAAAAAAAAAAAAAAAAAAAAAAAAAAAAAAAAAAAAAAAAAAAAAAAAAAAAAAAAAAAAAAAAAAAAAAAAAAAAAAAAAAAAAAABAAEAAQABAAEAAAAAAP7/+//4//X/8//y//T/+f8CAA8AIAAzAEUAUgBXAE4AMwAEAML/b/8W/8H+g/5s/pD++/6z/7EA5QEtA1kENAWEBRkF0QOoAbr+SPu294X0P/Jo8Wbyb/Vx+g8BowhGEO0WjBs8HWQb1hXkDGIBlfQJ6GjdOdan01HWLd586uD5hApcGmcn+C/0MvgvZydcGoQK4Pl86i3eUdan0znWaN0J6JX0YgHkDNYVZBs8HYwb7RZGEKMIDwFx+m/1ZvJo8T/yhfS290j7uv6oAdEDGQWEBTQFWQQtA+UBsQCz//v+kP5s/oP+wf4W/2//wv8EADMATgBXAFIARQAzACAADwACAPn/9P/y//P/9f/4//v//v8AAAAAAQABAAEAAQABAAAAAAAAAAAAAAAAAAAAAAAAAAAAAAAAAAAAAAAAAAAAAAAAAAAAAAAAAAAAAAAAAAAAAAAAAAAAAAAAAAAAAAAAAAAAAAAAAAAAAAAAAAAAAAAAAAAAAAAAAAAAAAAAAAAAAAAAAAAAAAAAAAAAAAAAAAAAAAAAAAAAAAAAAAAAAAAAAAAAAAAAAAAAAAAAAAAAAAAAAAAAAAAAAAAAAAAAAAAAAAAAAAAAAAAAAAAAAAAAAAAAAAAAAAAAAAAAAAAAAAAAAAAAAAAAAAAAAAAAAAAAAAAAAAAAAAAAAAAAAAAAAAAAAAAAAAAAAAAAAAAAAAAAAAAAAAAAAAAAAAAAAAAAAAAAAAAAAAAAAAAAAAAAAAAAAAAAAAAAAAAAAAAAAAAAAAAAAAAAAAAAAAAAAAAAAAAAAAAAAAAAAAAAAAAAAAAAAAAAAAAAAAAAAAAAAAAAAAAAAAAAAAAAAAAAAAAAAAAAAAAAAAAAAAAAAAAAAAAAAAAAAAAAAAAAAAAAAAAAAAAAAAAAAAAAAAAAAAAAAAAAAAAAAAAAAAAAAAAAAAAAAAAAAAAAAAAAAAAAAAAAAAAAAAAAAAAAAAAAAAAAAAAAAAAAAAAAAAAAAAAAAAAAAAAAAAAAAAAAAAAAAAAAAAAAAAAAAAAAAAAAAAAAAAAAAAAAAAAAAAAAAAAAAAAAAAAAAAAAAAAAAAAAAAAAAAAAAAAAAAAAAAAAAAAAAAAAAAAAAAAAAAAAAAAAAAAAAAAAAAAAAAAAAAAAAAAAAAAAAAAAAAAAAAAAAAAAAAAAAAAAAAAAAAAAAAAAAAAAAAAAAAAAAAAAAAAAAAAAAAAAAAAAAAAAAAAAAAAAAAAAAAAAAAAAAAAAAAAAAAAAAAAAAAAAAAAAAAAAAAAAAAAAAAAAAAAAAAAAAAAAAAAAAAAAAAAAAAAAAAAAAAAAAAAAAAAAAAAAAAAAAAAAAAAAAAAAAAAAAAAAAAAAAAAAAAAAAAAAAAAAAAAAAAAAAAAAAAAAAAAAAAAAAAAAAAAAAAAAAAAAAAAAAAAAAAAAAAAAAAAAAAAAAAAAAAAAAAAAAAAAAAAAAAAAAAAAAAAAAAAAAAAAAAAAAAAAAAAAAAAAAAAAAAAAAAAAAAAAAAAAAAAAAAAAAAAAAAAAAAAAAAAAAAAAAAAAAAAAAAAAAAAAAAAAAAAAAAAAAAAAAAAAAAAAAAAAAAAAAAAAAAAAAAAAAAAAAAAAAAAAAAAAAAAAAAAAAAAAAAAAAAAAAAAAAAAAAAAAAAAAAAAAAAAAAAAAAAAAAAAAAAAAAAAAAAAAAAAAAAAAAAAAAAAAAAAAAAAAAAAAAAAAAAAAAAAAAAAAAAAAAAAAAAAAAAAAAAAAAAAAAAAAAAAAAAAAAAAAAAAAAAAAAAAAAAAAAAAAAAAAAAAAAAAAAAAAAAAAAAAAAAAAAAAAAAAAAAAAAAAAAAAAAAAAAAAAAAAAAAAAAAAAAAAAAAAAAAAAAAAAAAAAAAAAAAAAAAAAAAAAAAAAAAAAAAAAAAAAAAAAAAAAAAAAAAAAAAAAAAAAAAAAAAAAAAAAAAAAAAAAAAAAAAAAAAAAAAAAAAAAAAAAAAAAAAAAAAAAAAAAAAAAAAAAAAAAAAAAAAAAAAAAAAAAAAAAAAAAAAAAAAAAAAAAAAAAAAAAAAAAAAAAAAAAAAAAAAAAAAAAAAAAAAAAAAAAAAAAAAAAAAAAAAAAAAAAAAAAAAAAAAAAAAAAAAAAAAAAAAAAAAAAAAAAAAAAAAAAAAAAAAAAAAAAAAAAAAAAAAAAAAAAAAAAAAAAAAAAAAAAAAAAAAAAAAAAAAAAAAAAAAAAAAAAAAAAAAAAAAAAAAAAAAAAAAAAAAAAAAAAAAAAAAAAAAAAAAAAAAAAAAAAAAAAAAAAAAAAAAAAAAAAAAAAAAAAAAAAAAAAAAAAAAAAAAAAAAAAAAAAAAAAAAAAAAAAAAAAAAAAAAAAAAAAAAAAAAAAAAAAAAAAAAAAAAAAAAAAAAAAAAAAAAAAAAAAAAAAAAAAAAAAAAAAAAAAAAAAAAAAAAAAAAAAAAAAAAAAAAAAAAAAAAAAAAAAAAAAAAAAAAAAAAAAAAAAAAAAAAAAAAAAAAAAAAAAAAAAAAAAAAAAAAAAAAAAAAAAAAAAAAAAAAAAAAAAAAAAAAAAAAAAAAAAAAAAAAAAAAAAAAAAAAAAAAAAAAAAAAAAAAAAAAAAAAAAAAAAAAAAAAAAAAAAAAAAAAAAAAAAAAAAAAAAAAAAAAAAAAAAAAAAAAAAAAAAAAAAAAAAAAAAAAAAAAAAAAAAAAAAAAAAAAAAAAAAAAAAAAAAAAAAAAAAAAAAAAAAAAAAAAAAAAAAAAAAAAAAAAAAAAAAAAAAAAAAAAAAAAAAAAAAAAAAAAAAAAAAAAAAAAAAAAAAAAAAAAAAAAAAAAAAAAAAAAAAAAAAAAAAAAAAAAAAAAAAAAAAAAAAAAAAAAAAAAAAAAAAAAAAAAAAAAAAAAAAAAAAAAAAAAAAAAAAAAAAAAAAAAAAAAAAAAAAAAAAAAAAAAAAAAAAAAAAAAAAAAAAAAAAAAAAAAAAAAAAAAAAAAAAAAAAAAAAAAAAAAAAAAAAAAAAAAAAAAAAAAAAAAAAAAAAAAAAAAAAAAAAAAAAAAAAAAAAAAAAAAAAAAAAAAAAAAAAAAAAAAAAAAAAAAAAAAAAAAAAAAAAAAAAAAAAAAAAAAAAAAAAAAAAAAAAAAAAAAAAAAAAAAAAAAAAAAAAAAAAAAAAAAAAAAAAAAAAAAAAAAAAAAAAAAAAAAAAAAAAAAAAAAAAAAAAAAAAAAAAAAAAAAAAAAAAAAAAAAAAAAAAAAAAAAAAAAAAAAAAAAAAAAAAAAAAAAAAAAAAAAAAAAAAAAAAAAAAAAAAAAAAAAAAAAAAAAAAAAAAAAAAAAAAAAAAAAAAAAAAAAAAAAAAAAAAAAAAAAAAAAAAAAAAAAAAAAAAAAAAAAA=\" type=\"audio/wav\" />\n                    Your browser does not support the audio element.\n                </audio>\n              ",
          "text/plain": "<IPython.lib.display.Audio object>"
         },
         "metadata": {},
         "output_type": "display_data"
        }
       ]
      }
     },
     "182923a6d2a04a25ac501fb39e15c9cb": {
      "model_module": "@jupyter-widgets/base",
      "model_module_version": "1.2.0",
      "model_name": "LayoutModel",
      "state": {
       "border": "solid 1px black",
       "margin": "0px 10px 10px 0px",
       "padding": "5px 5px 5px 5px"
      }
     },
     "1a620f2a36c247808073eb007c46d2a3": {
      "model_module": "@jupyter-widgets/controls",
      "model_module_version": "1.5.0",
      "model_name": "FloatLogSliderModel",
      "state": {
       "description": "Amplitude",
       "layout": "IPY_MODEL_ef01c3fc878d47be8e71b78d4303d912",
       "max": 0,
       "min": -2,
       "step": 0.2,
       "style": "IPY_MODEL_c49600f2a2d1484fb074dcd1c3a5d998"
      }
     },
     "1b4e349b0bdc4551b45ec2213886a2d5": {
      "model_module": "@jupyter-widgets/controls",
      "model_module_version": "1.5.0",
      "model_name": "DescriptionStyleModel",
      "state": {
       "description_width": ""
      }
     },
     "1cb15b22ec8047089ef69ffc9ffc7399": {
      "model_module": "@jupyter-widgets/controls",
      "model_module_version": "1.5.0",
      "model_name": "VBoxModel",
      "state": {
       "children": [
        "IPY_MODEL_0cf710eb6899493da952444a4e096678",
        "IPY_MODEL_177f9819e6934628adeda83c733f77b2",
        "IPY_MODEL_e5771249479a49218523bb7b97550d6b",
        "IPY_MODEL_ea25cb7a1bb54962a70f3810a5589afb"
       ],
       "layout": "IPY_MODEL_26c8c6603b1d41dd8e6be7d8c6d8d9f2"
      }
     },
     "214f44fd40594e7ea6a9dae9adfab7ff": {
      "model_module": "@jupyter-widgets/controls",
      "model_module_version": "1.5.0",
      "model_name": "ButtonModel",
      "state": {
       "description": "Clear the log",
       "layout": "IPY_MODEL_21fa4b267da34f74b91a75e64941c6b3",
       "style": "IPY_MODEL_4e9eaa215bb44253932dd5eecdf6dbbe"
      }
     },
     "21fa4b267da34f74b91a75e64941c6b3": {
      "model_module": "@jupyter-widgets/base",
      "model_module_version": "1.2.0",
      "model_name": "LayoutModel",
      "state": {
       "width": "50%"
      }
     },
     "244ced334f864a489a2d7f88f0693a78": {
      "model_module": "@jupyter-widgets/controls",
      "model_module_version": "1.5.0",
      "model_name": "HBoxModel",
      "state": {
       "layout": "IPY_MODEL_55aa7b2591a641a68d27c0c6cb40edb3"
      }
     },
     "24b20f2d57a54884a0d72eca3d1164a8": {
      "model_module": "@jupyter-widgets/base",
      "model_module_version": "1.2.0",
      "model_name": "LayoutModel",
      "state": {}
     },
     "251f86d28ef3403199018f93522da16c": {
      "model_module": "@jupyter-widgets/controls",
      "model_module_version": "1.5.0",
      "model_name": "DescriptionStyleModel",
      "state": {
       "description_width": ""
      }
     },
     "26c8c6603b1d41dd8e6be7d8c6d8d9f2": {
      "model_module": "@jupyter-widgets/base",
      "model_module_version": "1.2.0",
      "model_name": "LayoutModel",
      "state": {
       "border": "solid 1px black",
       "margin": "0px 10px 10px 0px",
       "padding": "5px 5px 5px 5px"
      }
     },
     "297d1ae477a1423bb517705ed82850f5": {
      "model_module": "@jupyter-widgets/controls",
      "model_module_version": "1.5.0",
      "model_name": "ButtonStyleModel",
      "state": {}
     },
     "2c7b49af13e84a08b01527c5df25c8e4": {
      "model_module": "@jupyter-widgets/base",
      "model_module_version": "1.2.0",
      "model_name": "LayoutModel",
      "state": {
       "border": "solid 1px black",
       "margin": "0px 10px 10px 0px",
       "padding": "5px 5px 5px 5px"
      }
     },
     "2c84b15b38684a8c85afc73be789be54": {
      "model_module": "@jupyter-widgets/controls",
      "model_module_version": "1.5.0",
      "model_name": "DescriptionStyleModel",
      "state": {
       "description_width": ""
      }
     },
     "2cab48ff2679450bb7f76de41bd17a97": {
      "model_module": "@jupyter-widgets/controls",
      "model_module_version": "1.5.0",
      "model_name": "DescriptionStyleModel",
      "state": {
       "description_width": ""
      }
     },
     "2ceb81f5c8594f499eae8d54411c541f": {
      "model_module": "@jupyter-widgets/base",
      "model_module_version": "1.2.0",
      "model_name": "LayoutModel",
      "state": {}
     },
     "324fc35cf2e34658b50f3529623668b8": {
      "model_module": "@jupyter-widgets/base",
      "model_module_version": "1.2.0",
      "model_name": "LayoutModel",
      "state": {}
     },
     "329c2946070545549488de1b6052c549": {
      "model_module": "@jupyter-widgets/controls",
      "model_module_version": "1.5.0",
      "model_name": "DropdownModel",
      "state": {
       "_options_labels": [
        "sin",
        "square",
        "sawtooth",
        "chirp 1:20",
        "chirp 20:1",
        "gausspulse",
        "modulated white noise"
       ],
       "description": "Signal",
       "index": 0,
       "layout": "IPY_MODEL_7907ed17a8bd44d9adcaef7b299e6877",
       "style": "IPY_MODEL_c491965a1e8d41f889976545b6c86678"
      }
     },
     "39d6be627c09426095bcecba64b37e9e": {
      "model_module": "@jupyter-widgets/base",
      "model_module_version": "1.2.0",
      "model_name": "LayoutModel",
      "state": {}
     },
     "3c988c52f288417ca341c702b24b1678": {
      "model_module": "@jupyter-widgets/base",
      "model_module_version": "1.2.0",
      "model_name": "LayoutModel",
      "state": {}
     },
     "3f355287de9a4c14a046bea81d0b65e0": {
      "model_module": "@jupyter-widgets/controls",
      "model_module_version": "1.5.0",
      "model_name": "FloatSliderModel",
      "state": {
       "description": "Frequency",
       "layout": "IPY_MODEL_6f9575f393dd46b8ac712d4df266c146",
       "max": 50,
       "min": 2,
       "style": "IPY_MODEL_f5f979e73190456e8b93a156aaa7d668",
       "value": 28
      }
     },
     "3f8d96bff6094df68e3539ff201d040d": {
      "model_module": "@jupyter-widgets/base",
      "model_module_version": "1.2.0",
      "model_name": "LayoutModel",
      "state": {}
     },
     "463766bee5ca423a8c5bdd624cca272b": {
      "model_module": "@jupyter-widgets/base",
      "model_module_version": "1.2.0",
      "model_name": "LayoutModel",
      "state": {}
     },
     "4770a8b4d18a463795cd08dc37b88e28": {
      "model_module": "@jupyter-widgets/controls",
      "model_module_version": "1.5.0",
      "model_name": "ButtonStyleModel",
      "state": {}
     },
     "48546d66373f477f95dbcc001fffbf6b": {
      "model_module": "@jupyter-widgets/controls",
      "model_module_version": "1.5.0",
      "model_name": "FloatSliderModel",
      "state": {
       "description": "Frequency",
       "layout": "IPY_MODEL_7df1e94b53b0415ab7612e2edaa1c6e1",
       "max": 50,
       "min": 2,
       "style": "IPY_MODEL_6bda2e9512c54625a409d031aeb332c5",
       "value": 50
      }
     },
     "4e9eaa215bb44253932dd5eecdf6dbbe": {
      "model_module": "@jupyter-widgets/controls",
      "model_module_version": "1.5.0",
      "model_name": "ButtonStyleModel",
      "state": {}
     },
     "527f78dffbc144c2beed686ab86956c2": {
      "model_module": "@jupyter-widgets/controls",
      "model_module_version": "1.5.0",
      "model_name": "FloatSliderModel",
      "state": {
       "description": "Phase",
       "layout": "IPY_MODEL_e7e51367213544109c3231734c78c7cf",
       "max": 6.283185307179586,
       "step": 0.1,
       "style": "IPY_MODEL_cde35e98f9c44507acf9f1704576a702"
      }
     },
     "52fc513726134e80b53205cf0bcf3ac1": {
      "model_module": "@jupyter-widgets/controls",
      "model_module_version": "1.5.0",
      "model_name": "VBoxModel",
      "state": {
       "children": [
        "IPY_MODEL_92bf6d0a4b614baf875d7cde6e35e3f6",
        "IPY_MODEL_fc4c27b1969d4a3a8f9785e49f241bb9",
        "IPY_MODEL_f9f011e29c8e4fab9074bee2f6f8ced5",
        "IPY_MODEL_3f355287de9a4c14a046bea81d0b65e0",
        "IPY_MODEL_b01c398d5d484c64be7f0705edceb05b",
        "IPY_MODEL_56485d0183da4cf2873c1d7dfdd01fd0"
       ],
       "layout": "IPY_MODEL_04bbec8c45104ce2bf8843489feb29a5"
      }
     },
     "55aa7b2591a641a68d27c0c6cb40edb3": {
      "model_module": "@jupyter-widgets/base",
      "model_module_version": "1.2.0",
      "model_name": "LayoutModel",
      "state": {}
     },
     "56485d0183da4cf2873c1d7dfdd01fd0": {
      "model_module": "@jupyter-widgets/controls",
      "model_module_version": "1.5.0",
      "model_name": "CheckboxModel",
      "state": {
       "description": "Autoplay Audio",
       "disabled": false,
       "indent": false,
       "layout": "IPY_MODEL_cf080de895ea4c9fab1b9d06c341df8d",
       "style": "IPY_MODEL_04cd4e01274143e3ad07100cbe36241a",
       "value": true
      }
     },
     "5690f0a619b54b91b76c84da05cc1ce8": {
      "model_module": "@jupyter-widgets/controls",
      "model_module_version": "1.5.0",
      "model_name": "VBoxModel",
      "state": {
       "children": [
        "IPY_MODEL_d5eddf1cd5704c8280ac0760121ebe84",
        "IPY_MODEL_e191f5271a6940dc9f415905e29397f2",
        "IPY_MODEL_1a620f2a36c247808073eb007c46d2a3",
        "IPY_MODEL_cd4a722b82a14a8dbdb77e06965f28ef",
        "IPY_MODEL_527f78dffbc144c2beed686ab86956c2",
        "IPY_MODEL_90ac102c50754e9abb5eb78e8b0bb581"
       ],
       "layout": "IPY_MODEL_182923a6d2a04a25ac501fb39e15c9cb"
      }
     },
     "57c29153b10740e094273d0b05e4e4e8": {
      "model_module": "@jupyter-widgets/controls",
      "model_module_version": "1.5.0",
      "model_name": "SliderStyleModel",
      "state": {
       "description_width": ""
      }
     },
     "5a270ba59b4f4593b4650f7c74190861": {
      "model_module": "@jupyter-widgets/controls",
      "model_module_version": "1.5.0",
      "model_name": "DescriptionStyleModel",
      "state": {
       "description_width": ""
      }
     },
     "5cbd14a881bc4b89aaae9c2c79479a65": {
      "model_module": "@jupyter-widgets/controls",
      "model_module_version": "1.5.0",
      "model_name": "FloatLogSliderModel",
      "state": {
       "description": "Amplitude",
       "layout": "IPY_MODEL_6fe79714882b41af8ae282fd16f78ce5",
       "max": 0,
       "min": -2,
       "step": 0.2,
       "style": "IPY_MODEL_862ee6113cbb4a90bb3f3b6661a977d0",
       "value": 0.3981071705534972
      }
     },
     "5dcae93fa1dd4266ae933455dbda7d08": {
      "model_module": "@jupyter-widgets/output",
      "model_module_version": "1.0.0",
      "model_name": "OutputModel",
      "state": {
       "layout": "IPY_MODEL_14e39cbc39934824be4b1ac70d3454cf",
       "outputs": [
        {
         "data": {
          "image/png": "iVBORw0KGgoAAAANSUhEUgAAAmMAAAGbCAYAAACI4ZeUAAAAOXRFWHRTb2Z0d2FyZQBNYXRwbG90bGliIHZlcnNpb24zLjMuNCwgaHR0cHM6Ly9tYXRwbG90bGliLm9yZy8QVMy6AAAACXBIWXMAAA9hAAAPYQGoP6dpAACKF0lEQVR4nO2dd5gkR3n/P+/M5ni3eznnqFPO+UAn4ESQkIkmCGFjwIAFxmD42UbGxnLAAmwMIggEAoHIIOkkdJJOAekULuecw97d7t7mNDtTvz+6e6Z3bjbOdE/P7Pt5nnl2p7u6uqqmuvpbb71VJcYYFEVRFEVRlOwQynYCFEVRFEVRRjMqxhRFURRFUbKIijFFURRFUZQsomJMURRFURQli6gYUxRFURRFySIqxhRFURRFUbKIijFFURRFUZQsomJMURRFURQli6gYUxRFURRFySIqxhRFySgi8mciYkTkXSnObbbPvSHFuf0issGfVKZGRP5VRI6ISK+INGUzLYqijB5UjCmKkmmeBQyw3H1QRGqAZUB7inPTgDnAGn+SeC4i8jbg/wE/Bm4AbspWWhRFGV0UZDsBiqLkF8aYehHZBtyYdOoGoBe4nyQx5vqeNTEGnGf//R9jzOlMRCgiZcaYjkzEpShK/qKWMUVRvGANsFBEJruO3Qi8BqwCLhGRyqRzUeAFEfmSiLwiIo0i0iIiG0TkwyIiTmAR+Z2IHBaRc9ow+9oNru8iIh8XkU0i0ikiZ0XkVyIyxxXmEPCv9tdT9lDq3fa5kIh8TkR2iUi3iJwWkR/b1jz3fZ8VkW0icr2IvCQiHcAPRGSWHd/ficjnReSQnY5nRWSBiBSKyL+LyAkRaRaR34rIhBGUuaIoOYqKMUVRvMCxcN3oOrYceA54EWsY87qkcxuMMc3ALOA7wDuBtwO/Af4X+EdX+B8AM4DXuW8qIouAy4Efug5/B/g68BRwK/BxYCnwkohMtMPchmWxA3gjcBXwffv7t4H/AFYDb7XT8Ub7+nFJ+Z4M/AR4CFgJfMt17q+Ba+y/fwEsAh6x7zseuBP4HNbw6PdRFGXUoMOUiqJ4wXNADEuM/UxEarGGAf/OGNNmW66WA6tEZDowG/glgDHmQ04ktuXrWUCAvxGRfzHGGCzr2ingQ1giy+FDQA+WGEJErgT+EvhbY8y9rnhfAPYAnwE+b4zZKCLH7NPrjTH1drhFwEeAbxljPum6fiPwCvBpLD8zhxrgHcaYZ1xhZ9n/NgG3GmNi9vFxWCJxlzHmba7wi4C7RKTKGNPSfxEripIvqGVMUZSMY4w5C2wmYRm7AWsY8kX7+3Mk/MT6+IuJyOtE5CkRabaviQBfBmqBCXb8vVgWqLeLSLV9XRh4P/B7Y0yDHeebsaxwPxGRAucD1CWlrz+ctD2QlL9XgZ3A65PCn3ULsSRWOULMZqf997GkcM7xGYOkTVGUPEHFmKIoXrEGWCAiU7BEzXpjTJt97jngIltILcdy7P+TiFwOPGmH+UusYb3LgK/Yx0pd8f8AKAHebX9/A9YwoXuIciKWVe0Ulqhzf64EkocZk6m1/55Mce6E6zwDhHNoTPreM8jxkkHSpihKnqDDlIqieMUarGHAG+3PKte5P9l/r7fPvWYPX74bSyi92RjT5QQWkVuTIzfG7BCRV7GGJr9j/z1BQswB1JPwT+tOkcZUx9w4FrbJwLGkc1Ps+Pska5D4FEVRzkEtY4qieMXzWMOMf4blMP+sc8J21N8EfBDLYd9x+DdYVrKoE1ZESrGGH1PxQ+AKEbkWeAvwI2NM1HX+USzL2FRjzLoUn62D5MEZcnyf+6CIXAYsBp4e5HpFUZRBUcuYoiieYIxpsR31b8Vy5n8xKchzwF32/44YewzLmvaQiHwXaxjws/RvwfoZcK/9t5hzfbtetOP5oYhciiUQ27EsXdcCW40x3x4gD7vt6z8pIjHgcSzx+C/AUeBr/RaAoijKEFHLmKIoXrIGyzK1McXMwOfscz3ASwC28/udWCv1P4LlK/Yr4N9TRW5b2H4LTANeNMbsSRHmr4BPYA2J/hxL8H0ZKAdeHUIePgb8PdZSFY/aaXoSuNo1UUBRFGXEiDVLXFEURVEURckGahlTFEVRFEXJIirGFEVRFEVRsoiKMUVRFEVRlCziqRizN8x9xN4A16RaKyjFNTeIyHoR6RKRAyLyUS/TqCiKoiiKkk28toyVY2058omhBBaR2VgLQ74AXAT8G/A/InK7ZylUFEVRFEXJIr7NphQRA9xmjPndAGH+A3irMWax69h9wAXGmKu8T6WiKIqiKIq/BG3R16vou5UJwB+BD4tIoTEmknyBiBRjLfbopoZz93tTFEVRFEUZKpXACeOD1SpoYmwS1oa+bk5hpXMcqTfh/QLwJY/TpSiKoijK6GMacNzrmwRNjMG5G+1KP8cd7sHaDsWhEji2Z88eampqhnTDP2w+wZce2UVRQYj7338xSyZX8o+/38Gq7aeYUl3Mbz52FcUF+TnxdPPRZj704/UYA/9x21JuXjqR7z5/kG8/f5CyohC//uiVTKoq6XNNJBJhzZo1LF++nMLCwiylPH3qWrq4/Tsv09Ed46PXzeavbpjNUztP83e/3oYI/PADl3DB9Grf0+VH+Xb3xnj7fS9zoqmLNyyZwFduXcruujbufHA93ZEYX37LYt5ywWRP7p1tjDF87KcbeeVQE+dNruS777+Y5q4IH/jBOs609fD+K6fzmZvmZzuZnvGff9zDz147xsSqYh780KWUFYX5y59sZOfJVq6dV8v/vvuCtO8R1Dbi1xuO86+rdlNaFOIHH7iE+RMq+PvfbuOpnWeYWVPKL//qCgrDudHWD7eM1x0+y18+uBGAr71jGTcuHM83n93P/X86TFlxiEc+fjU15UVeJzsrHGvq4B3feZWuSIxPvW4uH7p6Jo9tOck//GEnIYEff+hSlk6p6nNNa2srs2fPBmj1I41BE2N1WNYxNxOwNg5Oue2IMaYb1751IpZ2q6mpoba2dtAbdvdG+c7LmwgVl/GZNy7khvNnA/Df77+ajf/9LHUt3aza08pfXDdnJPkJPN/51R6kqIw/u3ga77l+CQCfe1sN6+p6WH/4LD/d1Mi/3baszzWRSISysjJqa2sD1dAOl3uf30oXJVwyfwyfv/USwiHhXdfWsu5kD79cf4z7Xj7FLy70/3f3o3zv/9NB6jpDTBo3lq994BoqiguYMH4cf3tLlH9/fBf/t7aOd1+3mJLCsCf3zyYv7D3Dayd7KCop5RsfuJJpk8YwDfivPy/gzgfW8cstZ/nEG8uYXF2a7aRmnKONHfx621lCxWXc+77LWTRrPAD/d8c1vOkbL/DS0U72NcMVcwZvOwciiG1EZ0+U77y8gVBxGZ9/8xKuWToLgK9/4BqW/9ezHG3vYfWBDt5/5czsJnSIDKeMjTF8++e7CBWX8d4rZnD71YsA+IfbanjtRDfbjrfw002N3P3WpX4k3XfueeYYPaESrlpUw2duuYhQSPjA8lrW1UX4w+YTfO/V0zz44dl9rvG73gatC7AWWJF07GZgXSp/sUzw2w3HqWvpYlJVCR++NvFjlBcX8OmbFgDw/RcOEonGvLh9Vll3qJFXDjZSFA7x2TcsiB8Ph4TPvWEhAL9cd5S65q5sJdEzTrV08Yt1RwH4/BsXEQ5J/Nzf3ryQonCIVw818sqB/Nt6sDca4/svHADgrpsWUFGc6JPdec1splSXcKa1m99v8twynxX+b80+AK6ZaJhVWx4/vnzhBC6fXUNPNMZ3nz+QreR5yn3P7ac3Zrhu/jiumz8+fnzehErecel0AL5pl0++8Yt1R2lo72F6TSkfuCohuKpKCvnU6y1L6PeeP0A0ln9bBL5ysJFNR5soKgjF32tgtfVfeJM1X+5nrx7hbHtPtpLoGcfOdvDbjVZb9oWViwm52vrP3ryQcEh4YW89m482ZSmFFl6vM1YhIheKyIX2odn29xn2+XtE5MeuS+4DZorIvSKyWETuBD4MfNWrND748mEA/uK62RQX9LUCvP3iaYyrKKaupYsntye7suU+P7HzfttFU8+xAlwxp5ZLZ44lEjX8av3RbCTPU361/hiRqOGSmWO5MskKMKm6hNsvmQrAQ68eyUbyPOWZXac52dxFTXkRb794ap9zRQUh7rQ7JT988RD5tnftvtOtvHygkXBIeN2Uvh0sEeHjN84F4Nfrj9EViWYjiZ7R3t3L7+yX0sfsfLr52A1zEYEX9tZzpKHD7+R5ijGGH609BMBHrptDQdJQ5DsvnU51aSFHGjt4ZtfpLKTQW+7/00EA3nHJNMZX9p3vdvXcWpZOqaK7N8bD6/KvrX/4taNEY4ar59Zy4fQxfc7NqC3jrRdMAeChV7Lb1nttGbsU2Gh/wPLt2gh82f4+GZjhBDbGHARWAjcCm4B/BD5ljPm1F4nbcaKF7SdaKAwLt1887ZzzRQUh3nO51VvMt0ra0hXh8W11ALznihkpw7z7cuv4L9YdI5ZHvUVjDL+0f893XzY9ZZh3X2bl/YltdTR3emKUzRo/sRudd146PeUw5DsunU5RQYhdda3sPOmLu4Rv/HL9MQBumD+OMclzsIHr5o9n6phSWrp6+eP2Op9T5y2rtp6kvSfKrNoyrkoxDDm9poxr540D4Jd51gHbdLSJA2faKSkMcetFU885X1oU5p2XWu+AfOt8Nrb3sMYWmHdcPeuc8yIStxT+4rWjedUBi8YMv7af+fdc3s97zn4HPLrlBO3dvb6lLRlPxZgx5lljjKT43GGfv8MYc2PSNc8ZYy42xhQbY2YbY+7zKn2/3mD9SDctnsjYfhwX326LtBf31dOYRybcx7acpLs3xvwJFVwwLbWT+splk6goLuBIYwevHcqflULWHT7LoYYOKooLuOX81E7q50+rZuHESrp7Yzy65YTPKfSOs+09vLivHuhfiFaXFnLT4gkA/C6Phip7ozF+s8HKz+0XT0kZJhwS/uwS56V8zLe0+YEjRN9x6fS4b20y77SHKn+1Pr86YE5b/8alk6gsSe0LdNtF1u++ZvcZWrrypwP22JYT9MYM502tYv7EypRhVi6bTHFBiAP17ew42eJzCr1j7f4GTjR3UVVSwIolE1OGuXx2DbNqy2jvicYNFNkgaD5jvmGM4fGt1koZt6XoKTnMHlfOeVOriMYMj29LtbJGbvKEXeluu3hqvw1zWVEBbzzPmk/xRB5ZCf5o5/3mJRMpK0o9h0VEuM0ewnsiiw9oplm98xTRmGHJ5CpmjSvvN9ytF1p5//2m43nzUt5wpIkzrd1UlRRw44Lx/YZzLCdr9zfQ3JEfL+WGtu54hyqVZchhxZKJlBeFOdncxZbjzX4lz1OiMcPjW61n+O0pRkAcFk+uZN6ECnp6Y/E2Ih/4/SarM+k806moLCnkdYusDtgjm/PoPbfdysst50/pdzKSiMSfiWy29aNWjO082cqJ5i5KCkNcP0DDDPDm861e9Kqt+VFJ27p7Wbvfcky/uZ/egoNz/sntp/LCfG2MYfVOy/+vv56Sg5P3lw805E1P2WlsHJHdHzcsHE95UZhTLd1sO5EfL+Wn7d/9dYsmUDTAUjWzx5WzYGIFvTHDM7vzw1f0mV2nMQaWTqli6pj+Z4mWFIa5caH1Ul69Iz8EyeZjTTS091BZUsBVc/ufJSoicf+hfOmANbb3sP7IWcCyfg2E857LF6ODMYandljDs4O/56z28IW9Z+joyc5Q5agVY07DfO28cYNO33de2q8dPJvVMeVM8cKeM/REY8yqLWPu+IoBw143fzwlhSGON3Xmhfl67+k2Djd0UFQwuAifM76CuePLiUQNz+4+41MKvaO1K8Kf9lpDlG8aRIwVF4Tjs+3yxaHZEeGvXzxwwwzwhqVW+fxxW36IsafsvN80hLzfvDTRAcsHntlp1d8bFowfdA0xp3xe2t+QFxM4nt9zBmNg0aRKpgwgwgFuXDiewrBwuKGDQ/XtPqXQO7afaKGupYvSwvCAIhwsq+j0mlK6e2M8v6fepxT2ZdSKsafsF8xQGuY548qZNraUnmiMl/NgqYOn7MbppsUT+x2idCgtSryU1+TBS3n1DusFc83cWsqLB19mb4XdY3pmZ+6/mNbub4iL8HkTBhbhAK+z/cbyQYwdrG/nwJl2CkLCDQsHFuGQ6ID9aV89vTm+rE1XJBp/wQxmDQa4ceEECkLC3tNtHG3M/VmVT8VF+IRBwy6eXMnEqmI6I1FePZj7frJrdlvPrjMEORDlxQVcOtNaKP25Pbnf+XR+9+sXDG5wERFWLLba+my950alGGto646vKTKUSioi3GBbUZ7P8UpqjIk/aK8bQuMEcN18a4bVS/tzX4g6lqGh/O5gPcgAL+5vyPlhWuf3u3b+uEFFOFjrbgFsOdZMfVv3IKGDzbP2S+ny2TVU9ePA7ea8KdWMKSukrbuXzcdye5h2/eGzdEaiTKwqPmeV8VRUlxZygb0EwNocf+ZPNneyq66VkMANC4bX1ue6NTwaS7T1y4fY3jkdlVx/z0FCUL5+0eAdEHC95w6oZcw3nB7PwomVTEza6qc/nCGtXO8x7D/TTn1bN8UFIS6ZOXZI11w916qk6w6fzWnTfVckGvefuMrO02BcPGMsxQUhzrR2s/9Mm5fJ85w/2bMoneULBmN8ZTGLJlmzr145kNtWgrUuIToUQiGJL//w0r7sNM6ZwrHmXz13aCLcCmvl/cX9uZ1353dfNrV6yFv9OD5zf9qX2239tuPNNHVEqCop4KKk9bX643p7FOSl/Q109+ZuW9/e3csWuxN19byh7SZx+ewaCkLC0cbOrFiER6UYe8UWY1fMGdrelWA1TuGQcKihg2Nnc9d07zTMlsgY2lY3c8eXM7GqmJ7eGOsPn/UyeZ6y6WgTPb0xxlcWM3d8/zMJ3ZQUhrl0liVaX9yXu1aCUy1d7DvdhgjnLHI7EE7YXB6ej8VM/JkfTt6vnudYRXNbkDi/3ZXDau8S1vBctgi/Gm/rh/67XzHbKqc9p9pyejkjJ++Xz649Z5Hb/lg8uZLxldYw7cYjTR6mzlvWHT5LNGaYNraUaWPLhnRNeXFBfFHYF7PQARuVYsxpnK6YPfQHtLKkkPNsE/+6Q7krSBIN89DzLiJcYzfO2aikmcKd96FaCMD9YsrdvDtpt4bfhr4ZcD6IsV11rTR3RigrCrNs6tA3fncsiBsON9HZk5tWgs6eKJtsl4zhPPMXzxxDSaFlEd53OnctwvGO9+yhC9HaimLm2z6Vuew39kpcjA1tBASstv5yu6xey+G8j+Q9B+4OmP/t3agTY2fbe9hVZ60qPhzLGMBls6zwr+boAqjGuC0Ew8u7U0lz+aU8EgsBJIZsXj7QmLNrbjkvlasHmVWUzJVzahCxZqHmqt+Y87tfNqtm0Nl0bmbVljG5uoSeaIyNR3OzA7bhyFkiUcPk6hJm1AzNQgDWbFqnvVubo8/86ZYuDta3IwKXzhreM++8G145mJt5j8VMfF25y4dhdAC43C6r13J4FOSVEYqxa+YmOp9+W4RHnRhzhNS8CRWMq0ixH8oAXGb3GNblqBg7UN/OmdZuigpCcQfdoXKp7V+27XgL3b25N7usKxJlg212H+4Det7UakoKQzR3RjhQn5tWgg2HmwC4eIh+gg5jyopYNMmyCOeq39hIe8kiEi+vXB2yGak1GIj7lG7I0Zey0/FcMrmK6tLBJ224cUZNcrXO7zmdsAYPZdKGG8ctY4M91JdruP3FhmMRBbhg+hgKQsKZ1m6On+30Inn9MvrE2AjM1g6OINlzqi0nd7d38n7R9DGDTvVNZmZtGTXlRfREYzm53ti248309MYYV1HMnAFWnk9FYTjE+dPGAAlRk0u0dEXYc9qyBl88Y3hiDOAyp3E+knsvZWMMG+1hOuclMxwuscsrV30lE35Dw2/vnLqyIUeFqGPVGknenffDzrqWnFzw2RlivHjG2GFZgwEWTaqisriAtu5eduZgW7/xSBO9McPUMaVMH4Y1GCwfYUe8bj7W5EHq+mfUibGN9gtlJA1zbUXC8XtdDjbOznIeQ51F6UZEuHjGGAA2Hc29qf6O38xFM8YM20LgXAfk5HDVpiNNGAMzasoYXzk8azAQd2p1yjCXONHcxZnWbsIh4bwpQ/cXc0hYxs7mnCN7NGbYam9pNBIRfuGMMYjAkcaOnByidjpOlw9ziBJgQlUJ02tKMQa25uDSJq/afs0jEaLhkHCJ/X7MRZ85R0QNdxTA4SL7Wdni8+8+qsRYJBpj+wlL6V9gWzqGi7Mo3qZcfCnbL9PhDlE6OJU0F4dsnLxfOMK8x60EOWgZcyxajpgeLk6ZbTveTCTHFkB1OiCLJlVSWjQ8azBYQ1zFBSHOdkQ4mGOrku873UZHT5TyovCQFvlNpqqkMO7InmvPfFckyu5TljV4pO2d847IxU6I834aiQiHhEU4N/PeBMAF04bf+YJEx9vvvI8qMba7rpXu3hhVJQXMqh3eUJXD+dOtH9hv1ZwuHT297LEbp3QFycYcfECd3tJIRbjzgO453ZpzwxbOMNNIe4qzx5VTXVpId2+MXSdbM5gy70lXhBcVhOIzMHNtuM4RosumVRMODd8aDHDR9Nwcot5+oplozDCuopjJ1UNbSzIZp85szrH27mx7D0cbLX+nZSMUJOfbed/i81BduhhjMtbx3l3nb1s3qsRY/IU8fQyhETZOzst8y7HmnBq22Ha8hZiBSVUlQ17oNpkLpluNel1LN005NGrR0NYdb5wcMT1cJlSWMG2sNWyxJYeGaWMxEx+aH2kvWUTi1oVcG6bdZAuokTbMkBCxuSZINrnau5Fy8Uzr2lxz4t9sP6MXTq8ekVsCJMpt09GmnGrrt9hD004naiScb3dADjV00NyRO53PupaEW8LSEbglAEwbW8r4ymJ6fZ68MKrEmPMSPX+EvQWABRMrKQpbM+sON+TO4q+b40OUI897WVEBCydaK7IfbhtZA5cNHCvm3PHlQ9oKpz/ilsEceikfamintauXksJQfDX9kRD3G8sh61BvNBb3mUpHjF2UoxYSJ70XjtAaDIk6v+VYc07NrHM63uenkffzplidz9Ot3dS1dGUmYT6wxbGIDmNNvWTGlhfFl0LZcrwpA6nyB6fOL5w4MrcE6Osf7SejSoylO1QF1rDF4izNtkiHTRlonCDxgB9rzx0xlq6vnIMj4redyB3L2DbbR3Lx5Kohr8Kdioty0Il/z6k2OiNRKosLmDt++D5TDufZdX7PqVZ6cmRZl86eaHw9xXTq/ZzxFZQVhemMRDmYQ8u6OB2wdDrepUXheOczl4S4YxlLJ+/u63PJJceZXJaO0QHSf0+OhFEjxtw+U+m+lC/IwUq6Oc1xdIfzplpC9FgO+TI7ojndvC+xRfi247kz3Xu73TCPZCahG+eZOVDfTmuO+Mw5wvH86dUjdksAa9iiurSQSNTE25Cg4/hMja8cuc8UWDPrFk/OrXrf7JpskU7HG3ANzzellygf2ZKB4WlIlF0uCdH4CFCav3u6QnYkjBoxlgmfKYfz435jTeknzAca2ro5djY9h06HpTlmGTPGxB/QdHs7jg/C8aZOmjpyY505x4rniOiRUlNeFH+p78wRJ34n78umjkkrHhGJrz20PUesoptcL6WR+kw5nJdjeXeG1WbUlDF2iJuD94fzUt5xIjeE6KmWLk61dBMShr3YazK5ZhmLuZZySXsUZOoY3rB0YgZSNXRGjRhzfqR0xQgkLGPbjrfkhB+Fs5zH7HHp+UwBLJ5URUigJWL5UgSdupYuznZECIckLZ8pgOrSwrgfxfYcaJyNMXFrxkidWd04jfuOHHkpOy/QdF9KkBiqzBXrkLMwc7oiHBIdsFzJeyaGKB2WTHbqfEtOOPE7eZ8/oZKyooK04jpvajUiVht6ujX4PnOHGzto6+6lqCAUX5JlpFSXFfLf77wwMwkbIp6LMRH5uIgcFJEuEVkvItcNEPZGETEpPovSTYezkrDzcKXD7HHlFBeE6IxEOdIYfCd+J++LJ6cnRsDyo3BWsM8FQeLkfe748mHvOpCKXLKQHDvbSXNnhMKwsGBi+r+98+zkwu8ejZn41PTFGXjmnd89V/wFHetlJvO+/URuzCB3hGgmOiALJ1USEmho78mJzue2DBodyosLmG0vAZULS9o4bf3CiZVp+cdmC09TLCLvAr4OfAW4CHgBeFxEZgxy6UJgsuuzN920JARJ+o1TQTjEQtvKkgvbRcTzPin9vIPLQpITD2jmXkqQWxYSRzAunFRJUUH6j/oS++WWC2LsUEM7nZEoJYUhZg9z+6tUOL/7zpPBt4b39MbYZ29/lYnO5/wJ1gzylq7euLtDkMlk57OkMByf/JELQ5V77d893VEAB6fdzKn3XAZ+92zgtXz8DHC/Meb7xpidxpi7gKPAxwa57rQxps71iaaTiN5ojL2nrJlAmWicICFscqOSZlaQJHrKwc/7jgyKcEg48eeCZWxrhpz3HZzffe/p4M8qdF6ciyZVjXjBUzeza8spLwrTFYlx4EywZxXuP9NGJGqoLC5g2tjStOMrKkh0Ph3LS1Dp7IlyyHbez1RbvyTe+Qx+e+e850ay40IqHGGTG++5zLb1fpPeoPIAiEgRcAnw70mnngSuHuTyjSJSAuwA/tUYs2aA+xQD7g33KgEikQiRiDXra++pNnqiMcqLw0ysKIgfT4cFE+2huuPNGYnPK7p7Y+y3Xx7zx5dmJK0Lx1sN/PYTLYHOO8BOWzQtGF+WkbQummD5jB2ob6eprZPy4sw/Qk46003vVnuCyaJJFRnJ+8SKAqpKCmjp6mXnibMZe9l5wbZB8j6SMl40qZL1R5rYfKSRWTXpTQLykm3HrHXwFk6qoLe3NyNxLp5UwdbjzWw5epabFo0bNHym6vBw2XG8mZiBmvJCxpSEMvPMT6zg91h1KkjtXXIZ9/TG4rNI59Rmpq2fP8F6z+3Igbbe6YDNz1Bb73d+PRNjwDggDJxKOn4KmNTPNSeBjwDrsQTW+4GnReRGY8zz/VzzBeBLyQfXrFlDWZn14lx3RoAwE4p6eeKJx4ebj5Q0tQAUsPHgaVatWpWROL3gWDv0xgooDRs2vriGTRmYBNnZC1DAieYufvn7VZSnNyfAM3qicLA+DAjHt7/KqrQHuy2qC8M0R4Qf/vZJ5nioR1avXp3W9ZsPW3lvOriVVfVbM5KmCUUhWrpC/PyPL3LlhOAO1z2/MwSEiNYfZtWqQ/2GG04Zl/VYcT760hYKT2xKN4meseqQlc7SrsaMtU2m0WpDn92yn0WRoT9I6dbh4bL2lJXOcQXdPP54Ztr61iYrznX761i16nhG4swkThmf7LDa+uKwYcOfniHNSbQAnO0GKGDfmVb+8OgqMuDt4AkdvXCi2ZIzR7e+TMPODMTZ4a8/uJdizCG5xZYUx6yAxuwGdrsOrRWR6cBngf7E2D3Ava7vlcCx5cuXU1tbC8C2P+6BfYe4avF0Vq5cMoIsnEtLZ4T/3b6Gsz3CNctXjHjbCa/59YbjsGU7y6bXcMstl2Ukzkgkwn9ueYbGbmHWBVdx2ayRbbPjNZuPNWNefYXa8iLefevNGYv3N/UbeG5vPTVzlrHy8ukZi9chEomwevVqVqxYQWHhyOpVS2eE5rWWQfkDb1tBZZqzaB02sot9a49QOH42K1emPa/GM76y7Tmgm3fcdFV8X1E3Iynj1nXHeOH3O+gtH8/KlZdkNsEZ5OEH1gGNvOHK81h56bSMxDnx8Fl++f3XOBsrZeXKGwYNn4k6PBLWPboTDhzluvNms/KNCzMS5xXtPXxr57PUdwvXv/5mKjywho+E5DJ+fFsdbN7CosljuOWWKzJyD2MMX9u5hubOXuZefG1GZiZ7wSsHG+G1dUypLuHP3np9RuJsafF3aNbLWlUPRDnXCjaBc61lA/Ey8L7+ThpjuoH4NBdnTZ3CwsJ4I7DntGW6XTp1TMYahtrCQqaOKeV4Uyf76ju5ck5ZRuLNNHtOW+p+yZTqjDaKk0oNjd3C/voOrp4/IWPxZpK9Z5y8V2U074smV/Hc3nr213d4+qJx1+HhcuiENTQ9qaqEmsrM1c1l08YCR9h1qs3Xl+xwONPazenWbkRg6bSxFBb238wNp4wXTxkDWCv7BzXvxhh211m//XnTxmYsnUumWR2uupZuOnoZcucznTo8EnafynxbP2lMIZOqSqhr6eJAQyeXzKzJSLyZwinj/fXW5IqFkyozWuaLJ1fx8oFG9p7p4MKZtRmLN5N40db7/Yx7ZnQ0xvRgDTeuSDq1AnhpGFFdhDV8OWK8cuzLhZkmmVzSw80U+/2+y+ed7YeDV3l3lonYHeC8O7Pp5k/MjCOvg+PIvfdUa2CXOXB+91m15Rn16XPyfrq1m7PtwVz090xrNw3tPYSE+FY+maCqpJAp9qK/Qd2FwBjDzjqv2nqrLIM8o9KZSZmJZWzcJN5zwfzdIfed98H72ZT3An8hIneKyGIR+RowA7gPQETuEZEfO4FF5C4RuVVE5ovIUhG5B7gd+OZIE9DQluglZ7JxAlgS8JkmXjZOk8usF3FQG2bw7gF1Xsq7AyxInFlV8ydkts7Pm1BBSOBsR4QzbcFcd8mrKe4VrtmJuwNa750Zf7PGlY94o+T+iNf7gHZCjjd10trVS2FY0tqLNBUL7dnze04FdyZtpmdSOuSG0SGzKwZkA0/FmDHmYeAu4J+ATcD1wEpjzGE7yGQsceZQBHwV2IK1Jtm1wC3GmN+MNA3OjzSzpizjM9+C3mOoa+miyV59PtMWEkeM7aoLpiCJxYxnD6gjSJo6IpwJ6EKQe07bYizDv3tJYZiZ9kKQe+qC+WLaa+d94cTMN8xOhy6onRAvX0oLAi7GnLzPm5CZdfXcLLCfo6CKcPdMykxbxpyRhZ11wdyFoDcai/8uKsYGwBjzLWPMLGNMsTHmEvesSGPMHcaYG13f/9MYM88YU2qMqTHGXGeMSWs60C6PLEPuOPecag3kQpBOT2bOuMysPu9mYikUhITWrl7qWoK3Vcbxpk5ra4xwiDnj01/0001JYZhZ9kKiQR2m3Wc3TuluC5KKoL+Y9nokRCFhHQrq7+60d14sO7LIZREOIrvii1tnftFPR+AEdXj+UEM7vTFDRXFBWhvDp2LehArCIaGpIxLIXQgO1rfT0xujrCjMzJpg+m4PhYBOVM0cTqO5KEOrz7uZXlNGcUGI7t4YRwO4LZJjUl/oQeNUEIJZtVbFD+KLybFczBlfTqEHW2ME2ULS2hXhRLMlkDM9TAmuvAfwdzfGeCpEnWcpiHmHhNUq0y4Z0NdXMoiCxBHhCzxo74I+PO8eokx3Y/hkLGu41dYHsb1z3nPzJ1YSysACz9ki78VY/AH1oJccDiV8E5z7BAnnAc202dphYYAd2RPWEY/yHmALyf4z1nDFhMpiqssyPyNoQYAtJCebu2jviVIQkvhwaiZxOnVB9BfsjcY44NFQFcDc8ZaFpLkzmBaS+DPvgQgvKQwzw7a67A2g35gjkrx4z0GiTIOY9/jEBQ9+dz/JazHWp5fsUSV1Kn8QewzxGXUeVVKnTINoJYgLUY/yHmTL2B6P6/zCAA/ZOC/kWePKM+43BDB7XHl8eN6xPgaFo2c76emNUVIYYmoGtkFKpqQwHFhreDRmEjuNeGANhoTADeIz79VMSof4MO3pIObdO7cEP8lrMeZ1LxkSlpe9AXtAjTGeV9KFdrxBa5jBu6UdHBzr0J5TrcQC5i+477S3L6VZ48opDAvtPVGONwVr4+i9Hg5RgrVPo2MND1onxMm7Y8HyAscyGLS8H2nsiAvRTOzHmYogizH3UJ0XzAuwZWyfRzPH/SavxZgjRmaP88ZvCFzm24ANU55o7qLDcyFq5X3fmTZ6o8HZODoWSwjReV4JklrL8tIViXEkYP6Czks501PcHQrDLkESsBfTPg+HqhyCOkTt5TCdgyNIApd3V533ym8o0QELVlvf0xuLb47u1W/vFqJBsoZbQ/PeLOnhN/ktxjweroFEJd13ui1QMyqdl6SXQnT6mFLKisJWY9AQHEFyormTjp4ohWGJO55mmnBI4g1f0Hyn9njsK+iOe3fAlreIi3AP855YbytY6y7t89hPElwTGAJW5/d6bA0Gl0tKwCYwHG7ooDdmqPRgJqXDnPHlhARaunoD5S94qKGDSNRQWhhm6hhvLKJ+kddibJ/H1hEI7ozKuOnWQyEacgmSIA3TOg3znHEVnglRCOYimO3dvfGhQz+sQ0F6KRtjEs98hhf9dJPwnwmaEPXWIgquHRhOB2t43o+O95xxFZa/YHewlvNJdEAyP5PSobggzCx7hCVIQ5X7TntvEfWLvBZjfpjtgzqjcm/ced/bcfS5dtnuC1LenSELjx06nbINUt4dJ+ZxFUWMLS/y7D5B3BLqTFs3zZ0RQkLG15Zz44id/WfaAiNIYrGEEPXSIjp9bGl8eD5I/oJ+WMaKCkLx9QWDVO/3nfH+PQeuCVsB6oDt9cHo4Bd5K8aMMb70ltzxB6qS+jTDxGn8AiVET/nTOM0LpBD1x39iQQD9BR1r8IyasowvcuwmiILkeFMnXZEYRQUhpnvkwA5QEA4xxxYkQZlZF3UJUa+f+cRM4gA986e9W87ETSDbeh9EuF/krRirb+uhpauXkFh+U16yIGAzKq0lPfyppIEUJD49oE7eD9QHx0Kyx+Mp7g7Tx5ZRUhiipzfG0bPBECReT9pwcAuSoNR7RxjNGVdOgYdD8xA8a/ixsx1098YoLggx3eMV2OcHcPcJr9dUdHDyHpT3HPgz+uUXeSvGnMUPZ9WWU1zgXS8Zgjej8lRLN63dvYRDwqxx3jZO7iGbIExgcPsNebUAokMQLST7fLIKhkIS/+2DYhHe6/FyJm6CJki8XtrAjeOPF5S8O1YqL5f0cFgYsI53b8xy4Afvn/mgzajss7acDlMGF0eMzfVBMc8P2IxK56U0s7bMcyHqCJLu3hjHA2AhOdncRVt3r6dLejgEccjGL+sQuIYtAvJi8mt42n2PwPzufuZ9YrA6n34u+jnfNXkjCILkTBeez6R0mD0uMaPyTABmVB6115YrLggxbWzu7knpkL9i7Iy36664mVFTFhckQZhR6WfD3GfI5kz2X0xer8CeTJAsJJ09UY6etXvJvryYHMtY9vMO3i926yZow/Ne77bhxp33IAgSrxf6dTOztozCsNARkAWP6zosS6CXMykdrB0YrLY+CM+809b7YRH1g/wVY/X+vZSCNqPSr5mUDkESJH42zBCsIZv9Z9owBmrKixhXUez5/RYEyKG3sb2HhvYeAOZO8NYiCsESJH7stuHGsZC0BsRC4qc1uDAcivsgB6He13VaIsS39i5AFmGvt33zm7wVYwfr/Z1lEaQ9Kv2e7hukTWT3+ug7Y90neCLcr5WonbwHwV/QEcPTxpZSVlTg+f2CNGTj7LZhLXLsvRAtLgjH75PtTkjfJT38au9st5QAtHd19kCM1xN2HBJ+Y9nPu18zaP0ib8XY2Y5eRIhbrLwmKDMq+/SSfRKicSvBmew/oHt9HK6BYFlI/Byehr4zKg83tPtyz/7wW4gGSZDs9WG3jWSCMhJwvKmTzkiUonCIGR7PpHQI0lJGJx3LmN+dzwDkPTFhJ/eXtYA8FmNg9ZJLi7x1YHcIiiDxa+FLN0ERJH4P10Cwhmz2xi0E/jRO7hmV2X4p+y1EITiCxE9fOYeg+MzFl/QY7/2SHg5BWW+rpzfGGXsjAL/qvTvv2WzrYz6uLecXeS3G/Gyc5rsap2yuOeXXwpdu3IIkm/uWnWrpptWnteUcgmgh8bNxCsqMymwIEkfwZ/9393+j5PlBEWM+uyVY9wpG5/NwQwcxI1T4MJPSwdmjsrkzQn1bjy/3TEV8kWMfLaJek+dizL/GaUZNGUXh7K855aczq0NQBInTS/ZjbTk3QbCQdEWiHLFn8nq9DZSboMyojA9T+pj3oEze8HN9NYfAWESzYB2ZVVtOQUhoy/IelYm2vtzzmZQOJYXhuPjJphN/NiyiXpMfuegHP3uKBX1m2WS/kvo9w2RuAF5M2bAQuO+XzbwfONNOzEB1aSHjfZhJ6RCEGZXNnRFOtVgWWV+tQwGYvJENH1FIzKCub+umuSPi232TSQgS/3539x6V2eyExPPuk1+0QxDau2y19V6S12LMb8e+eQEYtsiG7wwEY8jGb38xhyAM2eyNb4Pk/XpDboIwo9Ip90lVJVSVFPp2X6cDkk1B4gzN+7HbhpuK4gKm2ENj2Vpf0BjD/iz5DSVmkGev470vvpamPy4ZDvPirgkBaOvzYE9KB8/FmIh8XEQOikiXiKwXkesGCX+DHa5LRA6IyEdHeu+5PjmwOwRhiYd9WegpQqJ3lk2r4P4sPaBBGLJJ9BT9zXsQZlTuz5IILw+AIPFzt41k5ma5vatr8W+3jWSC0QHLrhANQt7VMjZERORdwNeBrwAXAS8Aj4vIjH7CzwZW2eEuAv4N+B8RuX24955QWUSlj71kyP4sG/fCl9kbqsveEgfOTFa/8x6EIRu/l/Rw6LtHZXbqvd/LWriZNzG7VoJszijL9nCVU+Yza8t82W3DzXzXPo3ZwOr82D6iWRoFydZ7ro9FNE8WfAXvLWOfAe43xnzfGLPTGHMXcBT4WD/hPwocMcbcZYf/PvAD4LPDvbFf64u5yfYsG6dRnDrGn4Uv3bgFSVOH/7NsGtq6abSFqF9Leji4ZzNlz0KSvcbJ8RvblyWraDaHLLLtxJ8tSzi4Fj/N0nI+Wc27S5Bko60/1NBOb8xQEjZMqvLPRxT6Ds+fbfe/rXcsouGQxLdnygc8e2OLSBFwCfDvSaeeBK7u57Kr7PNu/gh8WEQKjTHnmB1EpBhw18ZKgFk1JUQi/lopplYVEbZn2RxtaPNturHDrpNNAMwdX+Zp3p243fcoDsHk6hJONnex60QTl8wc69n9U+HkfdqYEgrF+P7bzx1fzsnmLnafbOb8KemJglTlOxDdrl7y7CzU+zm2r9Kuky2+3xtci57WDj3vwy3j/phdWwrAnlPZybtjmZldU+r7/WfV2B2QU63n3DtT5TsQe061AFb98zvv06qLCYeE1q5ejje2MbHK37Z+5/EmACaVQm9vr69+okUhmDqmhONNXew62cSlPrf1O080ATCzphQxUSKRqCf38btOeWk+GQeEgVNJx08Bk/q5ZlI/4Qvs+E6muOYLwJeSD5rGo6xaVT+c9GaEccVhTnUKP3tsDYvG+NtjevpgCAgRajvDqlWrPL/f6tWr+3yvJsRJQvzumZc5NdHfvL94SoAwlXT4kvdkwm1W2T/5yjbKT23JSJzJ5dsfJ9ohGiugNGxY98Iz+NguA9DcaJX9hv0nWbXqmK/37o7C8SarGTu4aS2ntw/v+qGWcX+caQEoYNuR+qzUu53HwoBQt2cTq05s8vXebRGAAo41dfHbR1ZRnMJlLd3yHYjXdll5bzu+j1Wr9np2n/6oLQpzukt46NE1LPS5rV911GpvJpYaT8u4P6oIcdxu60/73NY/e9JqbypibZ4+cx0dHZ7FnQo/xrKSfylJcWyw8KmOO9wD3Ov6Xgkc+8w7bqS2tnbIicwUjzVv4skdpxk7awkrr57p671/+aP1QAMrLj+PlZdO8+w+kUiE1atXs2LFCgoLE355G9nFrrVHKJs0h5VvWujZ/VOx/rFdcOAIVy2Z7fu9AZpfO8pzf9iJqZjAypUXpxVXf+XbH49trYMtW1g0ZQy33HJFWvceCec1dvC93X+ivifMzW9Y4eu6P1uPN8Orr1BbXsQ73nbzkK8bbhn3x9mOHv5n+7M0dgs33nSzr+4Bje09tK19FoD33+rvvR2+umMNZzsiLLjkWpZOqYofz1T5DsTdm9cAEW5fcU2fe/vFo02bWL3zNGNnL2HlVf629Y//fDMcO8XkMuNpGffHltBudr54mJKJs1m5cpGv9177hx1w6BjXnDeXlSvme3aflpYWz+JOhZdPbz0Q5Vwr2ATOtX451PUTvhdoSHWBMaYbiC/77phrCwsLfa+gAAsnVfHkjtMcbOj0/f777anOCydX+3Lv5DJeMKnaSkd9h+95P2gP0y2cXJWV333R5DEA7K9vz9j9h1qHDzRYiwwvmJidvM8eX0VJobXg8cnWCHN89Nc82GAtujl/YsWI8p5uOzGhupDa8iIa2ns4craHZdNKRxzXcDl81hqinDa2lOpy/+7rZv7ESl492Mihxi4unHlu59erdrixvYez9mSZBZOrKSz0X4gunFTF6p2nOVDvf1vvLGsxqSw777qFdlt/IAtt/YEzVlu/wOO23u98edaFNcb0AOuBFUmnVgAv9XPZ2hThbwbWpfIXCyKJGUb+OjO3dfdysrmrTxr8JptrjWXTmdd932NnO+no6fX13vFtkLI0syibMyqDsN5QYl9af5/5bNd59739XtLGyfu0sf5PVnJItHf+5r2nN8aheluMlWZnbb9sLmviTBjJpzXGwPvZlPcCfyEid4rIYhH5GjADuA9ARO4RkR+7wt8HzBSRe+3wdwIfBr7qcTozhvul5OcsG2eq77iKYsaUFfl2XzfOzLLjTZ20d/snSFq7IgkhOj47D2hNeRE15Va5Hzjj7/IeiZmU2WucsjWjcl8Aprhna0uo+JIeWZg57pCttRWzuZyJgyMG/G7rD9ZbMykrigsYk52mPl7udS1dtHT5ZyfJ5qx5r/FUjBljHgbuAv4J2ARcD6w0xhy2g0zGEmdO+IPASuBGO/w/Ap8yxvzay3RmkrnjK5AsbKSarQUA3YwtL2KcvRWPn9YxZ3h2fGUx1WX+D9M5ZMNK4O4lZ/O3n5clQbIvAC/lBVlaaywQQjRLy1vErYJZFKLuTbPPtHUPfkGGSAjRct8n6zhUlxYy0V5SY7+PbX0QLKJe4bmnrTHmW8aYWcaYYmPMJcaY513n7jDG3JgU/jljzMV2+NnGmPu8TmMmydZGqkEYsgBXTzkLD2g2G2awtiICf1/KhxsSvWS/l1Jxs2CC/4tgujdHD8QwZZasglm1Dtl1/nBDB9293iwxkIogCFF3W7/Px2d+T5a2vEsmG4ucZ2thbz/I670ps0U2tosIgoUAXILExxdTEIYsoO+whV/scW2Y6+daQ8k41qEDZ9rpjcZ8uaezOfqYskLGVWRpvIbE736ksYMuj9Y8SqaPj2iWhuYBJlQWU1lSQDRmOFjv3/B8EIQoJFwD/BQkjo/ovCwP02VjB4b4tm9Z7nh7gYoxD8jGRqrZ3BbFjbM9jJ89xaBsjTE/CxaSbG2DlMy0saXWHpXRWNxa5TXuvGdTiI6rKGJMWSEx45+/oFPnsz00LyK++40FRYhC4rnz0yIcBJcUcO1C4GPe958JRlvvBSrGPGC+z75D7uGarPcUR/EwpeM35aeFJJvbILnJxozKoFhH+ggSn575vQGp8+DymfPpmXdPVsqmEAX/92l0+4hmu95nZZgyIM+8F6gY84DElGd/eskH663hmsqSAsZX+rtPWTLOS+no2Q46e7wXJEESouMrin23kDgWyGzOpHRYELcI+yNIHGtEEKa4z4vPJh1dQtSdBr9+96CMAlhp8Pd3d2ZSVhYX+L4nZTJO+fu1nE8QZs17iYoxD/B7I1V345TN4RqA2opiasqLMCZhUvYSR4hWBUCI+m0hiURjHKgP0IvJZwuJMyy2IABC1O+hOmcoPNsWUSsNPv/uARKizuz5xvYe6n2YURn3j52Y/bbemj1v+Wru98HwEJRZ816hYswDyosLmDrGWhHbjynfQeolg7+One68Z7txstLhn7/g4YYOIlFDWVGYKdXZWYHdjZ/+M929UQ412Et6BEKQ+DtMGZSheUj87ofq2+np9X7yRpDau9KiMNPH2rPnfXjmHReABQGwBoO/y/kEqc57gYoxj5jnY085YRkLxgPq50s5SA0z+DubND6rakIFoVD2haifMyqdmZRVJQVMyLJFFBJ5P+TDEg99huYDIEQnV5dQUVxAb8xwuMEPC0lwrMHg78SdbO+2kcw8H32E9wbIGuwFKsY8ws/hquAJEv+GLYInRP2zjCXWGwpG3v2cURn3F5tYGQiLqHuJh0P13ua9z9B8RfaFqIh/kze6ItG44AtKe+fnMG0Qdttw42d7tz9g77lMo2LMI/zap7E3Gouv7xOUSurnOmtBE6LO736ood1zC8keW+gvnBSMvPs5o9L53RcEpJfsp79g0Ibmwb/O56GG4ExWcvBrJMA9kzIo9d7Jux/+wTpMqYwIv3yHjjR20BONUVIYivupZZt58VW52z1d4iGIQtSxkMQMni+CuacuYR0KCn7NqAzSTEoHv6wEQbMGg39LPARSiPrU8e47kzJ7u2248autD9rQvBeoGPMI90aqrR5upOo0AHPHB8NvCKwlHqpLCz0XJEEUoiISH6b10jrU05sQogsDJMYcYbjH4xfT3viSHsFpmP16KQfNGgyuoTqPRfjegGwF5Mb5HerbeuKbWHvBbrtsF0wKxtA8+NfWB21o3gtUjHmEeyNVLxvnIE3zdug7ZONd3t1bAQVFiIJrmNbDF5O7l5zNPSmTSSzx4F3e3TMpg7CshYNfM8v2uCZuBAXndz9Y307Ew8kbiV0XgvO7lxUVMG2s1Rn0st47lvAg1Xm/2vq9AbSIZhoVYx7ixwrFu+scv6HgPKDgshJ42TjZcS+cWOXZPUaCHzOM9rhmVQWpcfJjRqUzk7IyIDMpHRzrkJeCpLs3mrCIBuiZn1JdSllRmEjUcLjBuwkMu4La3vnwzO+Ot3fBEeHgT1u/u64FgIWTgtXWZxIVYx7ix3pbcTEWoN4SJHzmvByqSwjRoDVOTt69F6JB6iVD3xmVhz2aUenOe5CE6JTqEso9FiQHztgW0ZJgWUTdkze8WuKhKxKNO7AvCpoYc/bk9aEDtiBgeZ/np9EhYEI0k6gY8xCvN1Lt6Y3FZ7EErafox3pb8Z5iwHpLC+IzKjs8WwQzqGLM/VL2ypE9aDMpHdxLPHj1zCeswcESooDnM2n3nW4jZmBMWWFgZlI6eD2btKOnN+7AHrSOt69WwYC19ZlExZiHeD1M6fYbCooDu4OTd68ESZ/hmoA1TpOqrEUwozET923KNHsCtBVQMl7PqEz4TAUv716vORXUYTrwfn1B9yhA0ITofI8n7ew73YYxMK6iiNqAObDHl/PxaAeGtu5ejjZ2AsGziGYSFWMe4vQUvdpINYizaxwmVhVT6aEg2X+6nWjMUFVSEJ8oERT6LoKZeUHiXvhyQcCGaMH7GZWJPSkDmHePrQR7AizGvJ68EbcKBjDvzvN+prWbpo7Mz6jcHUDnfQen8+nVDgxOfZpQWczY8qKMxx8UVIx5SE15EbXl3m2k6jg1BvEBFZH4ejBOQ5JJdp+y8r5oUlXghCgkhIIXPeX9Z1zDNQHrJYNriNqDl3KfPSkDaRmzf3cP6jy4LGMBfOad38OryRtBtgpWuPcj9kCIB9UtAay2fq6H/tFBnaSWaVSMeUzcqfWMB4LErqRBNd0ussf3d9miMZPsrrOtIwG0DEGi0dztQd6D6sDu4OVLee+ptvh6Q0GziEKizu8/05bxHRhauyIcb7KGa4L4Ypo2tpTyojA90RgHPdgSyu0vF0S89JnbfSqYvsEOXlqEg9wBySQqxjxmftw65MUDGuwew5LJVrp2nvRCiAZ7qvPiyVa6vMj7ngAP04H1Ui4tDHsyo3LnSet3Xzw5mBbRydUlVJcW0hszGZ/A4PzuE6uKGVMWvOGaUEjibdHODFsGmzsinGzuAoI3m9DBSyf+IK4x5sbJ+24PrOFBHp7OJJ6KMREZKyIPikiz/XlQRMYMcs0DImKSPi97mU4vWeiRdcjt1BjUHkNCkHhhHbJ7igHP+5HGjozvwLAn4D3FvjMqM9s4O71kp3yDhoiwON4JyWy9TwzXBDPvkPhddmVYjDn7sE6pLqGqpDCjcWcKr3ZgaO6IUNdiC9GAdsAcobTLg7Zehykzw0PAhcAb7c+FwINDuO4JYLLrs9Kb5HnPErtx2nEis5U0F5waF9l5P9nclVGn1hb3cE1ABUlNeVF8GC3TPnO7At5LBrczd2ZfTI7AWRJQMQbeWUX3BHTRTzdeibF4nQ/wCzmxJVSGLaK2EJ06ppTKgArRJVOs3/1gfTudPZkbnq9v66ahvQeRYPqIZhLPxJiILMYSYH9hjFlrjFkL/CXwZhFZOMjl3caYOten0at0es2iSZWIwOnWburbujMWby70FiqKC5hRUwbAjgz2mBwhOqmqhOqyYDZO4HopZ/DFdLa9Jy5EF08JriDxYkalMabPMGVQ8coivCvgQ/PgoWUsB9o7937EzZ2Zs4Y79SioVjGACZUljKsoJmYyO1TpvOdm1ZZTWhTOWLxBpMDDuK8Cmo0xrzgHjDEvi0gzcDWwe4BrbxSR00AT8Bzw/4wxp1MFFJFiwO3JWwkQiUSIRLzboHuoFIVgVk0ZBxs62Hr0LNfOq81IvDtONAMwf3y57/l07jeU+y6cWMGRxg62HWvishnVGbn/9uNNAMyf4H/eh8PCCRU8u/sM2483EYlMGfJ1A5Xv1mNWv2T62FJKw0P7DbLBnHHWzLI9dS0ZS2NdSxdnOyKEQ8LsmuK04h1OHR4uC8ZbHZCdJ1vo6enJiG+bMSb+YppbWxrY331ubQkicKath9ZI5sp350mrvZs3riyweS8NW/58p1q62X2iiYtmjMlIvFuPNQGwaFJFn7x7WYdHwuJJFbywr5utR8+ydFJ5RuJ02vp5WXzP+YWXYmwSkEpAnbbP9cfjwC+Bw8Bs4F+AZ0TkEmNMKtPSF4AvJR9cs2YNZWVlw060F1QTAkL8ds2rtOwxGYnzpR1hQOg+dYBVq/ZnJM7hsnr16kHDhFsFCPPUup1MbNqekfs+ccAqz6KOM6xatSojcXpBV72V95d3HmVVwaFhX5+qfNecsOIcK+2Bznt9F0AB+0638shjqwhnwNd++1kr7+OLYzy9+o/pR8jQ6vBwicQgRJimzgg/+93jjMnApM+mbjjbUUAIw74Nf+LI5vTj9IpxxWHOdAnH2yUj5RszsPWo1d7V79vEqhOb0o7TK8ZKiFOE+NXTazk5MTNt/cu7rLx3ndzHqlV7zznvRR0eCUUdVrv8xCvbqDqzJSNxPrXPijPcWud7e9fR4d0eq6kYthgTkbtJIX6SuMz+m6o2Sj/HrQuMedj1dZuIrMMSZrcAv0lxyT3Ava7vlcCx5cuXU1ubGStUuhwuP8Cmp/bBmGmsXLks7fhiMcP/27AG6OU9b7zWd9N9JBJh9erVrFixgsLCgYcJC3ec5omfbaI1XM3KlVdl5P733/cy0MJbr72QlcsG0vXZZcHpNn609yVO9xTwxjfeTCg0NEUyUPmu+dVWOHyS5RfOZ+XyuV4kOyPEYoavbnuazkiMpZffwJzx6feUjzx3AHbt49J5k1m58vy04hpOHR4J3zn4IntPtzNl6WXcuGB82vE9vfM0bNjE/ImV3PqWqzOQQu94vGUzT2w/xYkO+OQ70i/fQw3tdL/8IsUFIe647Y0UhIO7CMCOgr3seuEgodqZrFy5JO34ItEYn331acDwvltuiLt9gPd1eLhEt5zk6V9upbO4hpUrL89InN/+5ktAG7defzGvXzwhI3EOlZaWzE9GGIiRWMa+Cfx8kDCHgPOBiSnOjQdODfVmxpiTInIYmN/P+W4gbjFzhgQKCwsDUUEBlk0bC8CuU60ZSdOh+nbaunspLgixaMqYrDVOQynjZdOtvO8/0w6hMIVppjUSjbHLdpC9YEZNYH7jVMyfVE1xQYiOnignWiPMHjc8QZKqfJ28L5s2NtB5B2u7oq3HmznY2MnCKWPSjm+3vXDy0qljMpZ3r9qJJVOq2Xu6nT2nO1ixNP34d8XzXh34333plGqe2H6K4+2SkfLddcqyUCyaXEVpSfDWlnNz/vSxwEF2nsxMW7+vvoVI1Nrybvb4qpQduqC868632/pdda2EwwVD7nz2R1ckyt4zVr2/YKb/bb3f9xv2m9EYU2+M2TXIpwtYC1SLSFwii8gVQDXw0lDvJyK1wHTg5HDTGhQcp9b9Z9rpiqQ/02Sb7S+2aHJVoHuJYK05VVlcQE80sal5Ouw/00ZPb6zP5ICgUhAOJdZdyoAzd1ckGp82vyTAzvsO8zO8CGbCeT+4TtwOzuKvmXLi33bciue8KZnxu/QSp7073pGZdeC22zPRl+ZAnT9vamLSTiQDCx47s/AXT0ktxILErNryeOczE+sL7q5rJRoz1JYXMamqJAMpDDaevcmNMTuxlqj4nohcKSJXAt8DHjXGxJ33RWSXiNxm/18hIl8VkatEZJaI3Ag8AtQDv/UqrV4zsaqYmvIiojGTkb0KEw1z8BsnEWFRBtddcvK+JAcaJ4DFGXwp7zvdRm/MMKaskMnVwW+cnJfydrvzkA5dkcTG8EFe1sIh02uNOWV43tQcEGN2u3SqE7ozsHF0PO85IERn1JRRWVJAT28sI+uN5ZIQLQiH4rvBZGIpJ8fosHRqdSAXeM40XptV/hzYCjxpf7YA708KsxDLWgYQBZYBvwf2AD+y/15ljPFmszcfEJH4CyQTjXMuNcyQeCln4gF18p4LjRMkespbjqUvSJzyWxLQ1eeTWTbNqp+ZyPv2Ey3EDIyrKGZ8ZbCHqqDvukvt3b1pxVXf1h1ffT4XLKJTqkuoLi0gZiRtQWKMySlBIiLxdG47noFn3p5FmgsdEEjUz0x2vHPB6JAJPBVjxphGY8z7jDFV9ud9xpimpDBijHnA/r/TGPMGY8wEY0yRMWamMeYOY8xRL9PpB04l3ZrmA2qMiT/kudA4ASyzRePmTLyUc2i4BuCC6WMA2HysCWPSm13l9BRzpWE+b2o1Itaiv6dbu9KKa4s9vf+CabnRS55QWcLk6hJiJv2XsiNGZo8rp6LYywnwmUFEWDrZae/SeymfbO6isb2HsGurpaDjtE3b0+x8GmPiHbClOdLeLZmcmfccuDveuZH3dAm2w1Eecb5tJdh0tCmteE40W2stFYQk0Cuwu7nQFiRbjzWntXF0LGbii8fmilVw0aQqisIhmjoi8e2rRopTdxyBF3QqiguYN97yG9uaphB3rGvnTxuTbrJ84wI7rZttITlScs0aDJZoBtiSISE6f0IFJYW5sein0zalK8KPNHbQ0tVLUTgUX1A26JzvqvPpdD4j0Ri77B0snNGFfEfFmE84gmTXyda0nPidB3z+xMqcaZzmjK+goriAzkiUfWk48R9u7IjPIp2bgaUS/KCoIBT3H0rnpdwVicZN/xfmiBiDxFBlulZRp+zOn54bIhwSaU0373FrcI50QCDR+Ux3iNqxsOTC8KyDIx52nGwhGhu5IHE6X0umVFFUkBuv6sWTrbQ2dUQ43DByJ/69p9roicaoLAn+RK1MkRu/cB4wdUwp4yqK6Y2ZtByaN9sP6LIc6i2EQ5IYqkzDMrjxyFnAshAEfRapm3hvMY287zxpTXGvLS9i2tjSzCTMBxzr0NY0hGhLV4QDzhT3HLKMXZiB3x0SL+VlOSjG9p5uS8tnzsl7LnVAZo+roKwoTEdPNK0Z5BuPNAG5lfeiglDcgpvOKJDT+TpvSm64JWSC3Hmj5TgiEn+onIdsJGywBcnFM8ZmIFX+4QytbTo6ciGa63lPx0qw2TVEmUuNk9tCMtJhC2eIc9rYUmrKizKWNq85b5rlM3fsbOeI96U91dLF8aZOQpI7w9MAEyqLGVNkrNXzRzhcF4uZeAcsl575cEji9X7D4bMjjmej/cxnalslv7gw3tY3jTgOp9wunjkm/QTlCCrGfMR5qEZaSXujMTbbYubimbnTOAFcOD19y9iGw9a1F+VQwwwJ/5mtx0fuMxf3F8shyxBYwxYFIaGhvYcTzSNz4t8cd94fk7mE+UBVSSFzbZ+5LSO0DDovpQUTK3PCed/NzApLfI/0mT9Q30ZrVy8lhYklE3KFS+z2ef0IxVh3b5Sdtr/cRdNzq72LGx3SaetzUISni4oxH0m3x7CrrpXOSJTKkoRjdK7g9Op3n2qls2f4PnPt3b3sqrMap1zrLc0ZX0F5UTgtnznH7+jCHOsllxSG47PgNo3QIuxc51gbcglHQI7UIhx/KeVY5wtcYmzEQtS67vxp2dtlZKQ4IsL5/YbLjhMt9ERj1JQXMb0md9wSICEed55oobt3+G19U0ePtWMLudfxTofcquE5zrI0hy0ck/2F08fkxIKnbiZVlTChsphozMSXaBgOm481ETMwubqEydW51ThZwxZjgJH1lM+298QXPL0gBwXJpbaQeO1Q47CvNcawzi6zS2flXsPsWIQ3jvClvMEWorloIZhh9xdHKsJz2TriiIj9Z9pp6ugZ9vVuX7lccksAmF5juRP0RGPsPDn85UEdi9rsceU55ZaQLirGfKSqpDBu0RqJ31guN8wiEk/3qweH/1LemMN5B7hsdg0wsry/aouYeRMqGFOWe43T5bNrAXhlBHnff6adxvYeigtCLJs6JsMp8x7HorXh8NlhD1H39Mbi/lYX55hFFGBGhSEcEk40d3Hs7PBn1iWe+TGZTZgP1JQXMcfei3Ykbb3Tacsl530Ht3/0SHzmNtrX5JqvXLqoGPMZ56X8yoGGYV/rPKCX5OCQBcCVc6y8vzyCvG/I8Qf0yvjv3jhsR3ZHwF1hx5FrXDbb2UC4hebOyLCudaxpF04fkzPT+90snlRFdWkh7T1Rtg1zEdDtJ5rp6Y0xtqxw2JvMB4HicGLW9ysHhifEmzsj7DltWVVydajqohEOVRpj4h2Xy3P1mZ9lt3cHR/CeO5Lb77mRknutW45z5RzLSrB2mILkZHMnRxo7CEnu+Q05XDnXyvu6Q2fpGcaedb3RWFyQOA95rnHRjLEUhoW6li6ODHMTXadBy9WGeUJlCbPHlWMMrD88vJeyI8ZyNe+hkMTTPtwOmNNGXDKzJueGqhyusJ/X4bZ3rx5sxBiYM748J7a/SoUzrD5ci/D+M+2cae2mqCCUk5YxSHS8XznYSGwYa6319MbivoKXzszNZ36kqBjzGcdCsuNkC80dQ7cSvLjPasyWTRtDVUmhJ2nzmgUTKhlbVkhnJMrW401Dvm7biRZau3upKinIqYUv3ZQWhePO3MOxErR0ReJbolxhD/flIpfPSjTOw8ERY5fmqAiHhEVzuBbhl+xn/pp5ufu7X2FbRYeb9xf31QNw9dzczbuT9o1Hzg5rrTWnrC6eMSZnFvZO5ryp1ZQXhWnqiLCrbuh+YxuPnKUzEmVcRRELJubWJLV0UTHmMxOqSpgz3rISvDoMh2ancbomhxunUEjiguLlYQgSJ+9XzqklnGMTF9xc4QzTDsN0v/7QWWIGZtaWMam6xKukec5lrmHaoXKovp2jjZ0UhCSnhywca/hrh4buN9YVicaF6DXzxnmWNq+5eMYYCkLCsbOdHB2GRXjtfusZuXpu7uZ9Rk0Z08aWEomaYbX1jhhz6k0uUhgOxTtQwxHiTlt/1dxxOWsNHikqxrLAVfZD9tL++iGFN8bEK+m1OdwwQ8J87TS2Q8EJm8svJUhYttbubxiy39jze88AcGUOW8UArrI7EVuONXG2fWizy5y8XzprbM6tseVm8eQqqkoKaOvuHfLm0RuOnKW7N8b4ymLm58i+hKkoLy6IL0ky1JfymdZudp+yrClX5bAgERGuscXkS/uG1tbHYibeUc3lvEPimX9pGG39i3bYa3PYGjxSVIxlAUdQrdl1ekgv5f1n2jjd2k1xQSgn1xtyc7Wd91cPNQ7JdO+2EOTykAVYfk8lhSFONncN2XT/7G5LkCxfNN7LpHnO1DGlLJxYScwkRNZgPGfn/foFuZ33cEjiL6Y1u08P6RpniPLqubU5byFw8v783qEJEqeTumRyFWNzfGmDa+Zb7d2f9g1NkGw/0UJ9WzflReGc9Q12cN5zL+2vH9J+zG3dvfEFgnPZIjpSVIxlgesWjKcoHOJQQ0d8cbuBeGaX1YBbL/Pc9CFwmD+hghk1ZfT0xnhhCI3zi/vq6e6NMbm6hHk5bCEAawFUp4F6euepQcMfbujgYH07BSHJeasgwI22oFyza3BB0t0bjTt935DjYgzg9YsnAvD0zqGJsaftMrpufv7k/dldp4c0cecpu4xyXYSDI6atvWVPNHUOGv7pXVa7cO38cRQX5HZbv3RKFZOqSujoiQ5pAscLe87QGzPMqi1j+ijZHNyNirEsUFFcEJ9ZOJSX8h+3W2FWLJnoabr8QES4yW6cnxpC3lfvSOQ91y0EAK9bZL+UhyBInt1jWYYum1VDZY5O2nDzuoUTAHhuzxmig8ywevVgIx09UcZXFrNkcpUfyfOU1y2agIi1JdbJ5oFfykcbO9h5soWQwOsXTfAphd5x4bQxjKsoprW7d9B19np6YzxrPxv50N6NqyiOL3r8x+11g4Z3Ot6vX5T7eRcRXr/Yqr9De89Z5ZMPv/tIUDGWJW6yK+lgguR0a1d8nZqbl0zyPF1+cNMSK+/P7Do94Es5GjPx8smXvL/OfrluOtrEmdaBd2F4fJuVd6dBy3UunjmWypICznZEWDeIQ/NjW04C1nOSDyJ8XEUxF9nLFAxmHXvS7oBcPrsm54fpwJq447R3q3cMLEhePtBAa3dvn/LKdd6w1Gq7ntg2cN5PNHWyxd727MYcd0twiHe8dwzskhOJxuIdVKe8RhsqxrKEY7pfd/gsxwcwX/9xWx3GWHs75vJsOjeXz6qhurSQxvaeAZ16XznYQH1bD5UlBfGZiLnOpOoSLpg+BmPgkc0n+g3X2A3rjzQhAm8+f4qPKfSOwnCIN9oN7e829Z/3nt4YT9i95LfkSd4BVtgdioF+d4BVW0/2CZ8POC/lJ7bXDdgBe3SLVTYrlkzIuS3f+uON51m/42uHGgfcBu/39jNxxewaJlTmR1t/1dxayorC1LV0xbc1S8Wf9tXT2mWL8Bxd5DddVIxlialjSrlidg3GwG/WH+s33C/WWefeekH+vJQKwiHefP5kAH6x7mi/4X5p5/0tF0yhMMc2Ch6It180FYBfb+j/d99Yb72ILp9VkzciHOA2O++PbTnR7ybCL+w9Q1NHhHEVxVyR4zPK3Lz1wimIWGutHWlIvczDvtOtrD98lnBIeIv9jOQD1y0Yx9iyQk61dPP8ntQTONq7e3nUtojedtE0P5PnKdPGlnH+tGpiJiG4kjHG8NuNVnvgPCP5QElhmJXLrHr8ywHbeuvcm8+fnNPLF6VD/rzhcpB3XDodgF9tOJZyleJtx5vZeryZonAorx5QgHddZuX98W11KRe/bemKxC0E77TLKV946wVTKAwL20+0xBd0dROLGV46ZT2ab7swv373K+bUMqmqhJau3n6HbX76yhHAKqd8apinjimNT+D45frULyan87V84XgmVOWPCC8uCHOr3YY9/FrqvK/aepKOniizasu4LAc3hR8Ipw376cuHUw7XbT7WzJ5TbRSFQ7xpWf6IcIB3XGIJ68e2nEw5g76+rTvuG+y8F0YjKsayyMplk6gsLuBwQwerU/iO/fDFQwCsWDox73avXza1mkWTKunpjfHTVw+fc/6nLx+huzfGwomVXDAtN1fd74+x5UXcbA/Xfe+FA+ecf3ZvPfXdQlVJAbdelD8WUbCWeXjvFTMAuO+5A+e8mA7Wt8eXf3j/VTN9T5/XOC+bn75yhI6evi+m1q5IXKjkWwcEEnlfvfMUhxv6ziKPxQz3/+kgYHVS88FP0M2tF02loriAA/XtKWeRO+3Amy+YTHVp7k/WcXP57BpmjyunvSfKz149cs75n7x8mEjUcMG0ahbnwWSdkeKpGBOR/yciL4lIh4g0DfEaEZG7ReSEiHSKyLMistTLdGaLsqICPnC19cL5n6f39vGlOHCmjd9tOg7AX143Jyvp8xIR4a9usPL1vecP0NKVsI61dkXijdNf3TAn7xpmgI9ePxeAP2w+wb7TbfHj0Zjha0/tA+Cdl06jrCh3Fzvtjw9cNZOyojA7T7ac48z+1Sd3Y4w1izAXN8cejDcuncSMmjIa23v48dq+nZAHXjxEc2eEOePL4z6l+cSiSVVcv2A80Zjhf5/Z1+fcH7fXsauulYriAt53Rf6J8IriAt5xqWUh+u/Ve/p0QnacaOFxexQgb9v66618fff5A32sY80dkbgI/8vr8y/vw8Fry1gR8Evg28O45nPAZ4BPAJcBdcBqEanMfPKyz53XzKayuIDtJ1r4gV0pozHD3/96K9GY4XWLJuTsZrGD8ZbzpzBnXDlnOyJ85dGd8eNfeWwnje09zB5Xnle+cm6WTavmpsUTiMYMX/zt1vg2OT9ee4hdda2Uhg1/ee2s7CbSI8aUFcWtXl/6w3ZabSH+/J4zPLblJCLwtzcvzGYSPaMgHOKTr5sHwDee2suhestCtO90G99cYwmUv3n9/LwannVz103zAfjV+mPxXUWaOyLc/ch2AD50zSyqy/LLMuTw8RvnUVYUZvPRJh582RLikWiMf/jdVmIGblk2OW8tQ2+/eBrTa0o53drNfzyxC7D85O5+ZDutXb0snFjJyvPya3h2uHja7TbGfAlARO4YSnixTCB3AV8xxvzGPvZB4BTwXuA7niQ0i9RWFPOFlYv54m+3cs/jO2ntirCzrpVXDzVSXhTmn9+al0ZBwHox3fP2Zbzruy/z8LqjhMOCAD+3h2ruefsyCvLIcT+ZL71lKS/ua+DVg4189CcbWDK5kv97dj8At8yI5d3QtJu/ef18HttykmNnO3nf/a9yy7JJ/M/Tlhh53xUzWTIlP19KALdfPI1fbzjGywca+cAPXuWDV8/iB386SHdvjOsXjM/bDgjAxTPG8r4rZ/CTl4/wsZ+s55Ovm88fNp/gVEs3c8aV89fL52U7iZ4xvrKYv715If/y6A7+5dEdNLT1sPV4MxuONFFRXMAXb1mc7SR6RlFBiH+7bRnvv/9Vfrz2MCERuiJRfrvxOCGBe25fljezZ0eKDHWPvLRuYomxrxtjxgwSbg6wH7jYGLPRdfz3QJMx5oMprikGil2HKoFje/bsoaYmN5ZDMMbwz4/u4vebT8aPhUPCf9y2NJBrTEUiEdasWcPy5cspLEy/F/vA2sN84+n9fY59cvlc7rwm/4Yrklmz6wyf+802el1D1LecN4HrSk/wutdlpnyDys6TrXzkpxto60rMqrxkxhi++Z4LPN9pItN1eLicau3izh9t4ERTV/zYjJpS7n//xYyrLB7gytxgoPLt6Onl4w9tZrO9phZAVUmY773/YhZMzMsBkDjGGP7h9ztYtS3hI1wYFr76Z8u4fv7wdtnIdh0eCd99/iDffv5gn2OfvXkef375jCylqH9aW1uZPXs2QLUxZmibyqZB0MTY1cCLwFRjzAnX8e8CM40xb0hxzd3AlzKZXkVRFEVRFGCaMea41zcZ9jDlEMXPZcaYdSNKkUWyQpQUxxzuAe51fa8EjgHTgKHtxqwMFy1jb9Hy9R4tY2/R8vUeLWPvqQQGXqU5Q4zEZ+ybwM8HCXNoBPGC5awPMAk46To+Actv7ByMMd1AfFlj18y7Vj9Mi6MRLWNv0fL1Hi1jb9Hy9R4tY1/wrVyHLcaMMfXAuQulZIaDWIJsBbARQESKgBuAz3t0T0VRFEVRlKzh9TpjM0TkQmAGEBaRC+1PhSvMLhG5DcBYDmxfB74oIreJyHnAA0AH8JCXaVUURVEURckGXq8o+WXAPQPSmSG5HHjW/n8h4F5i/T+BUuBbwFjgFeBmY8xQx8S7gX/GNXSpZBwtY2/R8vUeLWNv0fL1Hi3jPMKX2ZSKoiiKoihKavJ3RU1FURRFUZQcQMWYoiiKoihKFlExpiiKoiiKkkVUjCmKoiiKomSRnBBjIvJxETkoIl0isl5Erhsk/A12uC4ROSAiH00R5nYR2SEi3fbf27zLQbDJdPmKyB0iYlJ8SrzNSXAZThmLyGQReUhEdotITES+3k84rcM2mS5frcPnMswyfruIrBaRMyLSIiJrRSTVdnZah20yXb5ah3OLwIsxEXkX1tpjXwEuAl4AHheRlDuLishsYJUd7iLg34D/EZHbXWGuAh4GHgQusP/+QkSu8C4nwcSL8rVpASa7P8aYLkYhwy1jrI3vz9jhN/cTp9ZhGy/K10brsM0Iyvh6YDWwErgEWAM8IiIXueLUOmzjRfnaaB3OFYwxgf5grTP27aRjO4F7+gn/H8DOpGP3AWtd3x8GHk8K8wTws2znN0/K9w6gKdt5C8pnuGWcFO5Z4Ospjmsd9rZ8tQ5nqIxd4bcD/+T6rnXY2/LVOpxDn0BbxsTaCukS4MmkU08CV/dz2VUpwv8RuFRECgcJ01+ceYmH5QtQISKHReSYiDyaosc2KhhhGQ8FrcN4Wr6gdRjITBmLSAhr0+VG12Gtw3havqB1OGcItBgDxgFhzt0k/BTWZuKpmNRP+AI7voHC9BdnvuJV+e7C6pW9FXgP0AW8KCLz009yzjGSMh4KWoctvCpfrcMJMlHGfwuUA79wHdM6bOFV+WodziG83g4pUyRvEyApjg0WPvn4cOPMZzJavsaYl4GX4ydFXgQ2AJ8EPpVWSnMXL+qb1uEEGS0LrcMpGVEZi8h7gLuBtxljTmcizjwlo+WrdTi3CLplrB6Icm7vYALn9iIc6voJ3ws0DBKmvzjzFa/Ktw/GmBjwGjAae2QjKeOhoHXYwqvy7YPW4ZGVse2Yfj/wTmPMU0mntQ5beFW+fRjldTjwBFqMGWN6gPXAiqRTK4CX+rlsbYrwNwPrjDGRQcL0F2de4mH59kFEBLgQODnixOYoIyzjoaB1GE/Ltw9ah4dfxrbF5gHgvcaYx1IE0TqMp+WbHH7U1uGcINszCAb7AO8CeoA7gcXA14A2YKZ9/h7gx67ws4F24F47/J329be7wlyNZcn5PLDI/hsBrsh2fvOkfL8EvAGYg/Xw/8Au38uznd9cKGP72IX2Zx3wU/v/Ja7zWoe9LV+tw2mUMZaPUgT4OJbFx/lUu8JoHfa2fLUO59An6wkYUiKtCncI6MbqQVzvOvcA8GxS+Buwxsa7gYPAR1PE+WdYDo49WFOI357tfOZL+doNyWH7/GmsGVJXZTufOVbGJsXnUFIYrcMela/W4fTKGGvJkFRl/EBSnFqHPSpfrcO59RH7R1MURVEURVGyQKB9xhRFURRFUfIdFWOKoiiKoihZRMWYoiiKoihKFlExpiiKoiiKkkVUjCmKoiiKomQRFWOKoiiKoihZRMWYoiiKoihKFlExpiiKoiiKkkVUjCmKEjhE5G4R2eTTvYpEZJ+IXOPT/V4Tkbf7cS9FUXIDXYFfURRfEZHBGp0fAZ8Aio0xDT6k5xPAbcaY13t9L/t+bwW+CiwyxsT8uKeiKMFGxZiiKL4iIpNcX98FfBlY6DrWaYxp9jE9u4G7jTE/8+l+YeAEcIcx5nE/7qkoSrDRYUpFUXzFGFPnfIBm61DimDGmOXmYUkQeEJHficgXReSUiDSJyJdEpEBE/ktEGkXkmIjc6b6XiEwVkYdF5KyINIjI70Vkluv8xcA84DHXsSIR+aaInBSRLhE5JCJfcJ2vFpHvishpEWkRkWdE5IKk+75VRNbZ19eLyG9c+Y8Cq4D3ZKpMFUXJbVSMKYqSK7wOmAJcD3wGuBt4FDgLXAHcB9wnItMBRKQMWAO02ddca///hIgU2XFeD+wxxrS47vMp4K3AO7Esdu8DDtlxCpZwmwSsBC4BNgBPi0iNHeYW4Dd2uIuA1wPrkvLyKnBdesWhKEq+UJDtBCiKogyRRuBTtp/VbhH5HFBmjPk3ABG5B/h74Brg58C7gRjwF8b2xxCRDwFNwI3Ak8AsrCFDNzOAvcCf7OsOu84tB5YBE4wx3faxz4rIrcCfAd8F/h/wc2PMl1zXbU66x3FghoiE1G9MURQVY4qi5Arbk4TLKWCb88UYExWRBmCCfegSrCHIVsugFacEmGv/Xwp0Jd3nAWA1luB7AnjUGPOkK84KoCEpzlJXnBcC3xskL51YIxPF9v+KooxiVIwpipIrRJK+m36OOe4XIWA98Ocp4jpj/63HsnQlIjBmg4jMBt4E3AT8QkSeMsb8mR3nSSzLWjJN9t+hiKsaoMMYo0JMURQVY4qi5C0bsGZrnk7yCXOzEfiYiIhxTS23wz8MPCwiv8LyM6ux45wE9BpjDvUT5xYsP7EfDpC28+y4FEVR1IFfUZS85adYlq/fi8h1IjJbRG4QkW+IyDQ7zBqgHFjqXCQinxaRd4vIIhFZALwDqMOyfD0FrAV+JyJvEJFZInK1iPyriFxqR/HPwHtE5J9FZLGILLP929xch+WzpiiKomJMUZT8xBjTgTVb8gjW7MadwA+w/Lta7DAN9jn3UGYb8HmsGZCvYTn5rzTGxGzr2UrgeTuuPViTBWZh+bBhjHkWS8C9FdgEPIM12xOwltsArmZgy5miKKMIXfRVUZRRjYgsw7J4zTPGtPpwv/8Cqo0xH/H6Xoqi5AZqGVMUZVRjjNkKfA7LuuUHp4F/9OleiqLkAGoZUxRFURRFySJqGVMURVEURckiKsYURVEURVGyiIoxRVEURVGULKJiTFEURVEUJYuoGFMURVEURckiKsYURVEURVGyiIoxRVEURVGULKJiTFEURVEUJYuoGFMURVEURckiKsYURVEURVGyiIoxRVEURVGULKJiTFEURVEUJYuoGFMUxTNE5AoR+a2IHBGRbhE5JSJrReS/A5C2j4vIHdlOh6Ioihhjsp0GRVHyEBG5BfgD8CzwPeAkMBm4FHi3MWZa9lIHIrINqDfG3JjNdCiKoqgYUxTFE0TkOWAqsMgY05t0LmSMiWUnZfE0DFmMiUghYJLzoSiKkgl0mFJRFK+oxRI75wgYtxATkUMi8qiI3CYiW0SkS0QOiMinkq8TkSoR+aqIHBSRHhE5LiJfF5HypHAhEfmkiGwSkU4RaRKRl0Xkrc49gaXADSJi7M8h+9yN9vf3i8h/i8hxoBuYJyJ3i8g5PVgRucO+ZlaKfL1ZRDba6dgpIm92XbNTRNpF5FURuXQkhawoSu5TkO0EKIqSt6wF/kJE/gf4KbDBGBPpJ+yFwNeBu4E64M+Bb4hIkTHmqwAiUgY8B0wD/g3YgiWovgwsE5GbTMLU/wDwPuB+4J+AHuBiYJZ9/jbgV0Az8HH7WHdSmu6x8/BRIAacHl72AbjAjucr9r2+BPxGRO4BXg98ETDAfwCPishsY0znCO6jKEoOo2JMURSv+HtgEfBJ+xMRkdeAR4BvGmPaXGGnABcZYzbb3x8XkQnAP4rIt4wxHcCngPOBK4wx6+xwT9uWq18Bb7Svuw54P/AVY8w/uO7xhPOPMWajiHQCLcaYl/tJ/35jzDvcB0RkuGVQC1xpjDluX38C2AT8JTDPzhe2te13wE1Y5aMoyihChykVRfEEY0yDMeY64DIsYfZ7YAGWpWiriIxzBd/uEmIODwFVWBYtgDcD24BNIlLgfIA/YlmXbrTDvcn++39pZuHXaV4PsMkRYjY77b/POkIs6fjMDNxTUZQcQy1jiqJ4im3FWgdxR/j/AD4NfM7+gDU0mYxzrNb+OxGYB/Q31OmIu/FAtJ84h8PJNK8HaHR/Mcb02Na1xqRwPfbfkgzcU1GUHEPFmKIovmGMiYjIP2OJsfNcpyalCO4ca7D/1gOdwJ39RF9v/z0DhO3r0xFUqaaadwGISLExxu1jNi5FWEVRlCGhw5SKoniCiEzu59Ri++8J17GlInJBUrj3Aq3ABvv7o8BcoMEYsy7F55Ad7nH778cGSWI3UDpYPpJw7nF+0vG3DDMeRVGUOGoZUxTFK/4oIsewHNJ3YXX+LgT+FmgDvuEKewL4g4jcjWXNeh+wAvi8y7fq68DtwPMi8jWs2ZQhYAZwM/DfxphXjDEviMiDwD+IyEQsEdcNXAR0GGP+145vK/BuEXkXcADoMsZsHSRPq7CGGO8XkX8CeoE7gOnDKxpFUZQEKsYURfGKfwXehjUkORkoxhJaTwH3GGN2usJuAn4I/DMwH0ucfcYY8zUngDGm3Z4p+ffAR4DZWMOWR+w4D7niuwPLovZh+/9OYAfWkhgOX7LT9T2gEjhMYumLlBhjWkTkjVjC8CdAE/B9LGvc9we6VlEUpT90BX5FUbKKvdjqNmPMm7OdFkVRlGygPmOKoiiKoihZRMWYoiiKoihKFtFhSkVRFEVRlCwyYsuYiFwvIo+IyAl7g9xbh3DNDSKy3rUR8EdThLldRHaISLf997aRplFRFEVRFCXopDNMWQ5sBj4xlMAiMhtrWvgLWFPM/w34HxG53RXmKuBh4EGsDXYfBH4hIlekkU5FURRFUZTAkpFhSnuT29uMMb8bIMx/AG81xix2HbsPuMAYc5X9/WGgyhjzJleYJ4Czxpj3pJ1QRVEURVGUgOHnOmNXAU8mHfsj8GERKTTGROwwX0sR5q7+IhWRYqz1i9zUcO7eb4qiKIqiKEOlEjhhfHCu91OMTQJOJR07ZadhHNZikP2FSbVvncMXsBZvVBRFURRFySTTgONe38TvFfiT1aWkOJ4qzECq9B7gXtf3SuDYnj17qKmpGVEi84VIJMKaNWtYvnw5hYWF2U5O1tBysNBySKBlYaHlYKHlkEDLwqKxsZEFCxaAtT+u5/gpxuo418I1AWtvt4ZBwiRby+IYY7qx9p0DQMTSdzU1NdTW1qaX4hwnEolQVlZGbW3tqH6otBwstBwSaFlYaDlYaDkk0LLIDn4u+roWa+NfNzcD62x/sYHCvORx2hRFURRFUbLCiC1jIlIBzHMdmi0iFwKNxpgjInIPMNUY8wH7/H3AJ0TkXqyNea/C2sTXPUvyG8DzIvJ54PdYmwzfBFw70nQqiqIoiqIEmXQsY5cCG+0PWH5bG4Ev298nAzOcwMaYg8BK4EZgE/CPwKeMMb92hXkJeDfwIWALcAfwLmPMK2mkU1EURVEUJbCM2DJmjHmWhAN+qvN3pDj2HHDxIPH+CvjVSNOlKIqiKIqSS+hG4YqiKIqiKFlExZiiKIqiKEoWUTGmKIqiKIqSRVSMKYqiKIqiZBEVY4qiKIqiKFlExZiiKIqiKEoWUTGmKIqiKIqSRVSMKYqiKIqiZBEVY4qiKIqiKFlExZiiKIqiKEoWUTGmKIqiKIqSRVSMKYqiKIqiZBEVY4qiKIqiKFlExZiiKIqiKEoWUTGmKIqiKIqSRVSMKYqiKIqiZBEVY4qiKIqiKFlExZiiKIqiKEoWUTGmKIqiKIqSRVSMKYqiKIqiZJG0xZiIfFxEDopIl4isF5HrBgj7gIiYFJ/trjB39BOmZCTpe2zLSR7ZfGIklyqKoiiKonhOQToXi8i7gK8DHwdeBP4KeFxElhhjjqS45G+Av0+6/2bgl0nhWoCF7gPGmK7hpq8rEuWvH9oAwA0Lx1NVUjjcKBRFURRFUTwlXcvYZ4D7jTHfN8bsNMbcBRwFPpYqsDGm2RhT53yAS4GxwA/PDZoIZ4cdNt29sfj/Hd3RkUShKIqiKIriKSO2jIlIEXAJ8O9Jp54Erh5iNB8GnjLGHE46XiEih4EwsAn4R2PMxn7SUQwUuw5VAkQiEaQ3Ej/YE4kQiYSHmKz8IBKJ9Pk7WtFysNBySKBlYaHlYKHlkEDLwsLv/IsxZmQXikwBjgPXGGNech3/IvBBY8zCfi+2wk3GsqK91xjzC9fxK4F5wFagCmtocyVwgTFmb4p47ga+lHz8oYceIlRUxudfs/Tm3Rf3MrY4OZSiKIqiKEpfOjo6eO973wtQbYxp8fp+afmM2SSrOUlxLBV3AE3A7/pEZszLwMvxyEReBDYAnwQ+lSKee4B7Xd8rgWPLly+nqLyKz7+2BoAbly9n6pjSISQrf4hEIqxevZoVK1ZQWDh6/eW0HCy0HBJoWVhoOVhoOSTQsrBoaGjw9X7piLF6IApMSjo+ATg10IUiIsCdwIPGmJ6BwhpjYiLyGjC/n/PdQLcrbgAKCwsJhxMVKRwuGLUVq7CwcNTm3Y2Wg4WWQwItCwstBwsthwSjvSz8zvuIHfhtEbUeWJF0agXw0rlX9OEGrKHI+we7jy3cLgRODjeNsREOwSqKoiiKovhFusOU9wIPisg6YC3wEWAGcB+AiNwDTDXGfCDpug8DrxhjtiVHKCJfwhqm3IvlM/YpLDH218NNnFuKqTBTFEVRFCWIpCXGjDEPi0gt8E/AZGAbsNI1O3IyljiLIyLVwO1YjvmpGAN8F2v4sxnYCFxvjHl1uOlzC7CYajFFURRFUQJI2g78xphvAd/q59wdKY41A2UDxPdp4NPppgv6irGoqjFFURRFUQJIXu9N6R6Z1GFKRVEURVGCyKgRY2oZUxRFURQliOS1GNNhSkVRFEVRgs6oEWM6TKkoiqIoShDJazGmw5SKoiiKogSdUSPG1DKmKIqiKEoQyWsx1tdnLIsJURRFURRF6Ye8FmNuW5gOUyqKoiiKEkTyWoypA7+iKIqiKEEnr8WY0aUtFEVRFEUJOHkuxhL/R9UypiiKoihKAMlrMeY2hsXUMqYoiqIoSgDJczGmw5SKoiiKogSbvBZjus6YoiiKoihBJ6/FmK4zpiiKoihK0MlrMaYO/IqiKIqiBJ38FmOuZV/VgV9RFEVRlCCS12LMrb96VYwpiqIoihJA8lyMqWVMURRFUZRgk9diTH3GFEVRFEUJOnkuxnSdMUVRFEVRgk3aYkxEPi4iB0WkS0TWi8h1A4S9UURMis+ipHC3i8gOEem2/942krTFdJ0xRVEURVECTlpiTETeBXwd+ApwEfAC8LiIzBjk0oXAZNdnryvOq4CHgQeBC+y/vxCRK4abPrWMKYqiKIoSdNK1jH0GuN8Y831jzE5jzF3AUeBjg1x32hhT5/pEXefuAlYbY+4xxuwyxtwDPG0fHxZu/aViTFEURVGUIFIw0gtFpAi4BPj3pFNPAlcPcvlGESkBdgD/aoxZ4zp3FfC1pPB/pB8xJiLFQLHrUCVAJBIh0ps4GOmNEolEBklWfuHkd7TlOxktBwsthwRaFhZaDhZaDgm0LCz8zr+YEfpSicgU4DhwjTHmJdfxLwIfNMYsTHHNQuB6YD2WgHo/8FHgRmPM83aYHuAOY8xDruveC/zQGFOcIs67gS8lH3/ooYc4GinnWzvCALxlRpSbpqp1TFEURVGUgeno6OC9730vQLUxpsXr+43YMuYiWeFIimNWQGN2A7tdh9aKyHTgs8DzI4kTuAe41/W9Eji2fPlydp4FdqwHYP6Chay8Yc4A2cg/IpEIq1evZsWKFRQWFmY7OVlDy8FCyyGBloWFloOFlkMCLQuLhoYGX++XjhirB6LApKTjE4BTw4jnZeB9ru91w4nTGNMNdDvfRQSAwsJCQmHX7uASGrUVq7CwcNTm3Y2Wg4WWQwItCwstBwsthwSjvSz8zvuIHfiNMT1Yw40rkk6tAF4694p+uQg46fq+NkWcNw8zTieN8f/VgV9RFEVRlCCS7jDlvcCDIrIOS0R9BJgB3AcgIvcAU40xH7C/3wUcArYDRVgWsdvtj8M3gOdF5PPA74G3ATcB1w43cUbXGVMURVEUJeCkJcaMMQ+LSC3wT1jrhW0DVhpjDttBJmOJM4ci4KvAVKATS5TdYoxZ5YrzJRF5N/CvwL8A+4F3GWNeGW76YmoZUxRFURQl4KTtwG+M+RbwrX7O3ZH0/T+B/xxCnL8CfpV+2hL/696UiqIoiqIEkbzem9JtGYupZUxRFEVRlACS52Is8X801n84RVEURVGUbJHXYsw9m1Id+BVFURRFCSL5LcZc/6sDv6IoiqIoQSSvxVif2ZRqGVMURVEUJYDkuRhz/a+WMUVRFEVRAkheizFdgV9RFEVRlKCT52Is8b8OUyqKoiiKEkTyWozpOmOKoiiKogSdvBZjfS1j2UuHoiiKoihKf+S1GFPLmKIoiqIoQSevxVgfy5iKMUVRFEVRAkh+izF0nTFFURRFUYJNXosxXWdMURRFUZSgk+diTC1jiqIoiqIEm7wWY+ozpiiKoihK0MlzMeaaTamWMUVRFEVRAkhei7GYWsYURVEURQk4eS3G+ljGYllMiKIoiqIoSj/ktRiL6d6UiqIoiqIEnLTFmIh8XEQOikiXiKwXkesGCPt2EVktImdEpEVE1orIG5LC3CEiJsWnZLhp6zObUocpFUVRFEUJIGmJMRF5F/B14CvARcALwOMiMqOfS64HVgMrgUuANcAjInJRUrgWYLL7Y4zpSiet6sCvKIqiKEoQKUjz+s8A9xtjvm9/v8u2dH0M+EJyYGPMXUmHvigibwPeAmzsG9TUpZk2tYwpiqIoihJ4RizGRKQIy7r170mnngSuHmIcIaASaEw6VSEih4EwsAn4R2PMRlIgIsVAsetQJUAkEiHSG40fjEZjRCKRoSQrb3DyO9rynYyWg4WWQwItCwstBwsthwRaFhZ+51/MCIfvRGQKcBy4xhjzkuv4F4EPGmMWDiGOvwP+HlhsjDltH7sSmAdsBaqAv8Ea1rzAGLM3RRx3A19KPv7QQw/x0tlyHjkSBmBSqeELF0aTgymKoiiKovSho6OD9773vQDVxpgWr++X7jAlQLKakxTHzkFE3gPcDbzNEWIAxpiXgZdd4V4ENgCfBD6VIqp7gHtd3yuBY8uXL6d+WzMc2QdAWXkFK1deM5T85A2RSITVq1ezYsUKCgsLs52crKHlYKHlkEDLwkLLwULLIYGWhUVDQ4Ov90tHjNUDUWBS0vEJwKmBLrQd/+8H3mGMeWqgsMaYmIi8Bszv53w30O2KG8CqRJKYn2CcY6OQwsLCUZt3N1oOFloOCbQsLLQcLLQcEoz2svA77yOeTWmM6QHWAyuSTq0AXjr3CgvbIvYA8F5jzGOD3UcsdXUhcHK4aexy+4ypA7+iKIqiKAEk3WHKe4EHRWQdsBb4CDADuA9ARO4BphpjPmB/fw/wYyw/sJdFxLGqdRpjmu0wX8IaptyL5TP2KSwx9tfDTVxnT2LZfRVjiqIoiqIEkbTEmDHmYRGpBf4Jaz2wbcBKY8xhO8hkLHHm8Ff2Pf/P/jj8CLjD/n8M8F2s4c9mrCUvrjfGvDrc9HVGEpYxXWdMURRFUZQgkrYDvzHmW8C3+jl3R9L3G4cQ36eBT6ebLoCuiA5TKoqiKIoSbPJ6b8rOHrWMKYqiKIoSbPJajHWoZUxRFEVRlICT12Ksy2UZ642qGFMURVEUJXjktRhzO/B3RKKMdLcBRVEURVEUrxg1YiwaM3T3xgYIrSiKoiiK4j/5LcZ6+u5F2d7dm6WUKIqiKIqipCa/xVikrxjr6NGNwhVFURRFCRZ5K8Yi0RhnO3oAsLerpE0tY4qiKIqiBIy8FWMN7T0YAwUhYdrYUkCHKRVFURRFCR55K8bqWy2r2PjKYiqKrd3X23WYUlEURVGUgJH2dkhBpb6tG4AJlcUUFViaUy1jiqIoiqIEjbwVY4cbOwGYOrY07rjf2hXJZpIURVEURVHOIW+HKXfXtQCwZHIVEytLADjV0p3NJCmKoiiKopxD3lrGNh5tBsIsnVpNxN4K6WRzV3YTpSiKoiiKkkTeWsbqWropKwpz1ZxaJldblrGTzZ1ZTpWiKIqiKEpf8laMAbz94qmUFIaZMsZa2uJoY0eWU6QoiqIoitKXvBZjf3fzIgAWTaoE4GB9Ox09OqNSURRFUZTgkLdibFJVMdVl1vpiE6pKmFBZTMzAlmPNWU6ZoiiKoihKgrwVY+XF4T7fr55bC8BTO05lIzmKoiiKoigpyVsxVlbUd6LoymWTAXj4taM0tvdkI0mKoiiKoijnkLdirDxJjN20eCJLJlfR2t3LP/xuK9GYyVLKFEVRFEVREqQtxkTk4yJyUES6RGS9iFw3SPgb7HBdInJARD6aIsztIrJDRLrtv7cNN11lxX2zFgoJd791KYVhYdXWOt75nbU8v+cMMRVliqIoiqJkkbQWfRWRdwFfBz4OvAj8FfC4iCwxxhxJEX42sAr4HvA+4BrgWyJyxhjzazvMVcDDwD8CvwVuA34hItcaY14ZatqShykBLp9dwzffezGfeXgT6w+f5QM/eJWqkgIunVXD/AkVzKgtY8qYUsaWFTG2rJAxpUVUlBQQDsmwykVRFEVRFGWopLsC/2eA+40x37e/3yUibwA+BnwhRfiPAkeMMXfZ33eKyKXAZ4FfO3EAq40x99jf7xGRG+zj7xlqwiqKwimPv2HpJJ78zA187/kD/HrDMVq6enlm12me2XW637gKw0JJQZjiwjDFBSFKCkOUFIYpCAlh16cgFCIUEgpCQkisv+GwELb/D4UEAUQgJIIIgPVXSByzwlgCMB7W/l/i/7vDgiCE7C/OsVgsxr5jwsFnDxAOheLxuZHkA33Ouf5HUh63zqW+ZrDrBkrHwHEOcJ2cGy4ajbK9Tjj76lHC4XDG0uwVXt0yGo2y9ZTQtu5YvBzi9/Q5n+JZLge8aZxoNMqW00LHhuPnlIVHt/SFgZ7nVESjvWw5LXRtPE44PLLXQTa6qpmur9FolM1nhJ5NJ/qtD6PhGRGB3t4om84IvZtPUlDg3bMRdFqbm3y9nxgzsmE6ESkCOoB3GGN+6zr+DeBCY8wNKa55HthojPkb17HbgF8AZcaYiIgcAb5mjPmaK8yngbuMMTNTxFkMFLsOVQLH/u4Hq/n8Wy8aMA+90Ri76trYeqKZo42dHDnbSX1rN82dEZq7InT2xIZWGIqiKIqi5A2x7g6Of/sOgGpjTIvX90vHMjYOCAPJa0WcAib1c82kfsIX2PGdHCBMf3F+AfhS8sH/unMF/9VfyhVFURRFUQanBgi0GHNINq1JimODhU8+Ppw47wHudX2vBI4B04DWAdIxGtCysNBysNBySKBlYaHlYKHlkEDLwsIph0Y/bpaOGKsHopxrsZrAuZYth7p+wvcCDYOESRmnMaYb6Ha+u3wmWv0wLQYZLQsLLQcLLYcEWhYWWg4WWg4JtCwshut/mS4jXtrCGNMDrAdWJJ1aAbzUz2VrU4S/GVhnjIkMEqa/OBVFURRFUXKWdIcp7wUeFJF1WCLqI8AM4D4AEbkHmGqM+YAd/j7gEyJyL9byFlcBH6bvLMlvAM+LyOeB3wNvA24Crk0zrYqiKIqiKIEjLTFmjHlYRGqBfwImA9uAlcaYw3aQyVjizAl/UERWAl8D/ho4AXzKWWPMDvOSiLwb+FfgX4D9wLuGscZYN/DPuIYuRzFaFhZaDhZaDgm0LCy0HCy0HBJoWVj4Wg4jXtpCURRFURRFSZ+83ZtSURRFURQlF1AxpiiKoiiKkkVUjCmKoiiKomQRFWOKoiiKoihZJO/EmIh8XEQOikiXiKwXkeuynaZMIiJ3i4hJ+tS5zosd5oSIdIrIsyKyNCmOYhH5XxGpF5F2EfmDiEzzPzdDR0SuF5FH7HwZEbk16XxG8i0iY0XkQRFptj8PisgY73M4NIZQDg+kqB8vJ4XJh3L4goi8JiKtInJaRH4nIguTwuR9nRhiOYyWOvExEdkiIi32Z62IvMl1Pu/rAwypHEZFfUjGflaMiHzddSw4dcIYkzcf4F1AD/AXwGLg60AbMCPbactgHu/GWkJkkusz3nX+81j7aL0dOA/4OdYSIpWuMN/G2ubhJuAi4BlgExDOdv4GyPebsJY7eTvW1li3Jp3PSL6Bx4GtWGvgXWX//0i28z+McnjAzoO7ftQkhcmHcngCuANYClwAPAocBspHU50YYjmMljrxFmAlsMD+fAXrfbB0tNSHIZbDqKgPSfm5DDgIbAa+7joemDqR9ULKcIG/Anw76dhO4J5spy2Debwb2NTPOcHabP3zrmPFQBPwV/b3avvBfJcrzBSsra3ekO38DbEM+oiQTOUbS8Ab4ApXmCvtYwuzne/BysE+9gDwuwGuybtysNM33k7f9aO8TvQph9FcJ+w0NmItLD4q60NyOYzG+gBUAHuwxNSz2GIsaHUib4YpRaQIuAR4MunUk8DV/qfIU+bbZtWDIvJzEZljH5+N1cuJl4Gx9u58jkQZXAIUJoU5gWVty9VyylS+rwKajWuBYWPMy0AzuVU2N9pDVntE5HsiMsF1Ll/Lodr+62zqO1rrRHI5OIyqOiEiYbEWDy/H2h1mVNaHFOXgMJrqw/8Bjxljnko6Hqg6ke52SEFiHBDm3A3FT3HuxuO5zCvAB7CU/kTgH4CX7HFuJ5+pymCm/f8koMcYczZFmFwtp0zlexJwOkX8p8mdsnkc+CXWUNVsrF0snhGRS+yGJu/KQUQEa2u2PxljttmHR12d6KccYBTVCRFZhiU6SrBcVG4zxuwQEeelOCrqQ3/lYJ8eTfXh3ViC6tIUpwPVRuSTGHMwSd8lxbGcxRjzuOvrVhFZi7Vl1AcBxwlzJGWQD+WUiXynCp8zZWOMedj1dZtY+8YeBm4BfjPApblcDt8Ezif1/rWjqU6kLIdRVid2AxcCY4DbgR+JyA2u86OlPqQsB2PMjtFSH0RkOtZe1zcbY7oGCBqIOpE3w5RAPdY4brISncC5yjdvMMa0YzkLzgecWZUDlUEdUCQiYwcIk2tkKt91WNbGZMaTo2VjjDmJ1dDOtw/lVTmIyP8CbwWWG2OOuU6NqjoxQDmcQz7XCWNMjzFmnzFmnTHmC1gO23/DKKsPA5RDqrD5Wh8uwUrzehHpFZFe4AbgU/b/TjoDUSfyRowZY3qA9cCKpFMrgJf8T5E/iEgxlgPhSazZInW4ysD2pbuBRBmsByJJYSZjzSTJ1XLKVL7XAtUicrkrzBVYfjg5WTYiUgtMx6ofkCflYE9J/ybWLKjXGWMOJgUZFXViCOWQ6pq8rBP9IFhO2aOiPgyAUw7nnsjf+vA0sAzLQuh81gE/tf8/QJDqRLZnOmTyQ2JpizuxBMrXsMbLZ2Y7bRnM41ftyjIbuAJ4BGtq7kz7/OexZoPcZleYh0g9Vfco8HqsqbpPE/ylLSpcD5QBPm3/PyOT+cbyp9iMNRvmSmALAZquPVA52Oe+iuVQOgu40W4MjuVhOXzL/r1voO8U/VJXmLyvE4OVwyirE/8GXGfncxnWkg5RYMVoqQ+DlcNoqg/9lM2znLu0RSDqRNYLx4PC/jhwCOjGUrXXZztNGc6fsw5KD3Ac+DWwxHVesJa/OAl0Yc0MOS8pjhLgf4EGoANL0E3Pdt4GyfeNWOIj+fNAJvMN1AA/wRK4Lfb/Y7Kd/6GUA1AK/BHLcbQHa+jhgRR5zIdySFUGBrgj089CkMtisHIYZXXifhJt/2ngKWwhNlrqw2DlMJrqQz9l8yx9xVhg6oTYESmKoiiKoihZIG98xhRFURRFUXIRFWOKoiiKoihZRMWYoiiKoihKFlExpiiKoiiKkkVUjCmKoiiKomQRFWOKoiiKoihZRMWYoiiKoihKFlExpiiKoiiKkkVUjCmKoniEiBSJyD4RuSbD8b5ZRDaKiLbhipIH6IOsKMqQEJEHRMSk+MzLdtoCzEeAw8aYF50DdpndmhzQLt/fDSVSY8yjWNsevTdD6VQUJYuoGFMUZTg8AUxO+hxMDiQiRT6nK6h8Evi+R3H/0I5fUZQcR8WYoijDodsYU5f0iYrIsyLyTRG5V0TqgdUAIrJERFaJSJuInBKRB0VknBOZiJSLyI/t8ydF5G/tuL7uCnOOJUlEmkTkDtf3qSLysIicFZEGEfm9iMxynX9ARH4nIp+179MgIv8nIoWuMMUi8p8iclREukVkr4h8WCz2ichnk9JwnojERGRuqoISkYuBecBjwy1kEZnVjxXyWVewPwCXi8ic4cavKEqwUDGmKEqm+CDQC1wD/JWITAaeAzYBlwJvBCYCv3Bd81/AcuA24GbgRuCS4dxURMqANUAbcD1wrf3/E0kWuuXAXPvvB4E77I/Dj4F3A58CFgMfBdqMMQb4AfChpFvfCbxgjNnfT9KuB/YYY1qGkx+bo/S1Pl4ENADPOwGMMYeB08B1I4hfUZQAUZDtBCiKklO8WUTaXN8fN8a8w/5/nzHmc84JEfkysMEY80XXsTuBoyKyADgBfBj4gDHGsaR9EDg2zDS9G4gBf2ELJ0TkQ0ATlrh70g53FviEMSYK7BKRx4DXA9+z0/NOYIUx5ik7/AHXPX4IfFlELjfGvGpb1N4H/N0A6Zpl5zEVPxORaNKxYmwrmp3GOjsvJcDvgLXA3UnXHLfvoyhKDqNiTFGU4bAG+Jjre7vr/3VJYS8BlieJN4e5QClQhCUyADDGNIrI7mGm6RKs4cBWEXEfL7Hv47DdFjkOJ4Fl9v8XAlEsS945GGNO2uLtTuBV4M12/L8cIF2lQFc/5z4NPJV07D+AcIqw9wOVWEIxlnSuEygbIA2KouQAKsYURRkO7caYff2dS/oeAh4BPp8i7Elg/hDvaQBJOlbo+j8ErAf+PMW1Z1z/R1LE67hqdA4hHd8HHhSRT2MNWT5sjOkYIHw9CbGXTF1yOYpIKzAm6dg/YA3vXm6MaU0RTw1986goSg6iYkxRFK/YANwOHDLG9CafFJF9WALpSuCIfWwssIC+FqozWH5TznXz6WsN2gC8Czg9Qv8sgK1YwuwGzrVYOazCEpwfA96E5RM2EBuBj4mIOMOnw0FEbgf+CXhTKr80e/hyrn0fRVFyGHXgVxTFK/4Py3LzMxG5XETmiMjNIvIDEQkbY9qwhuD+S0ReLyLnAQ9g+X+5eQb4hIhcLCKXAvfR18r1Uywr1O9F5DoRmS0iN4jIN0Rk2lASaow5BPwI+IGI3GrHcaOIvNMVJmqn7x4s/7i1KSNLsAYoB5YOJQ1u7LL4MdbQ5XYRmWR/alzBrgS6cQ3zKoqSm6gYUxTFE4wxJ7BmVoaBPwLbgG8AzSQE199hzRD8A5ZF6k9YQ45u/hZrduHzwEPAV4H48KA9VHg9lnXtN8BOrNmPpcBwLGUfA34FfAvYBXwPS0y5uR/Lz+0Hg0VmjGmw05Nq+HQwLsWy/v0D1pCu8/mNK8x7gJ8OMlSqKEoOICOwniuKoniGvZbWJmPMXVlOyjmIta3Rs8A0Y8ypIYRfhiUy5/Xj8zXSdIzHEoyXGmPOWXRXUZTcQi1jiqIog2AvCDsP+BfgF0MRYgDGmK3A58j88hOzgY+rEFOU/EAd+BVFUQbnPVhDlJuA9w/nQmPMjzKdGGPMq1hLbCiKkgfoMKWiKIqiKEoW0WFKRVEURVGULKJiTFEURVEUJYuoGFMURVEURckiKsYURVEURVGyiIoxRVEURVGULKJiTFEURVEUJYuoGFMURVEURckiKsYURVEURVGyyP8HJQgdak5Pkz0AAAAASUVORK5CYII=\n",
          "text/plain": "<Figure size 600x400 with 2 Axes>"
         },
         "metadata": {},
         "output_type": "display_data"
        }
       ]
      }
     },
     "5f2829f4e76b4e8c993820ccfed4d7ed": {
      "model_module": "@jupyter-widgets/controls",
      "model_module_version": "1.5.0",
      "model_name": "DescriptionStyleModel",
      "state": {
       "description_width": ""
      }
     },
     "5f717d3d4ec348b3a82839013f78bab9": {
      "model_module": "@jupyter-widgets/controls",
      "model_module_version": "1.5.0",
      "model_name": "ButtonModel",
      "state": {
       "description": "Clear the log",
       "layout": "IPY_MODEL_e0a00d72b1504ee5bfd5a594ef0f8552",
       "style": "IPY_MODEL_a62091c1880041c79e21c79170c6bb93"
      }
     },
     "62b706826f5f4d57b9d2212c148c7985": {
      "model_module": "@jupyter-widgets/output",
      "model_module_version": "1.0.0",
      "model_name": "OutputModel",
      "state": {
       "layout": "IPY_MODEL_cad214a4e8464df298897fc067e6fb2c"
      }
     },
     "6532dff962384a4c91bbc630364567f6": {
      "model_module": "@jupyter-widgets/base",
      "model_module_version": "1.2.0",
      "model_name": "LayoutModel",
      "state": {}
     },
     "6957ee30f3b745abac248ecd08256176": {
      "model_module": "@jupyter-widgets/base",
      "model_module_version": "1.2.0",
      "model_name": "LayoutModel",
      "state": {
       "width": "50%"
      }
     },
     "6bda2e9512c54625a409d031aeb332c5": {
      "model_module": "@jupyter-widgets/controls",
      "model_module_version": "1.5.0",
      "model_name": "SliderStyleModel",
      "state": {
       "description_width": ""
      }
     },
     "6d9c2540b8a8473789b580526bfaa130": {
      "model_module": "@jupyter-widgets/controls",
      "model_module_version": "1.5.0",
      "model_name": "VBoxModel",
      "state": {
       "children": [
        "IPY_MODEL_0184cd4e32ad4cd4a924a30b646b63a8",
        "IPY_MODEL_329c2946070545549488de1b6052c549",
        "IPY_MODEL_fc8662671e3b424494b3c0cf3414fb71",
        "IPY_MODEL_48546d66373f477f95dbcc001fffbf6b",
        "IPY_MODEL_c229d4d118544e5186baa41eba51960f",
        "IPY_MODEL_c6385ce44b434cefa3c72cf7aa3d900a"
       ],
       "layout": "IPY_MODEL_03ce91f00fc84137b62f1b93cec9a98a"
      }
     },
     "6f4ed2f31f3e458884e3bc6d7175808c": {
      "model_module": "@jupyter-widgets/controls",
      "model_module_version": "1.5.0",
      "model_name": "SliderStyleModel",
      "state": {
       "description_width": ""
      }
     },
     "6f6ce386e0d64c7d93fa6ec909110a31": {
      "model_module": "@jupyter-widgets/base",
      "model_module_version": "1.2.0",
      "model_name": "LayoutModel",
      "state": {}
     },
     "6f9575f393dd46b8ac712d4df266c146": {
      "model_module": "@jupyter-widgets/base",
      "model_module_version": "1.2.0",
      "model_name": "LayoutModel",
      "state": {}
     },
     "6fe79714882b41af8ae282fd16f78ce5": {
      "model_module": "@jupyter-widgets/base",
      "model_module_version": "1.2.0",
      "model_name": "LayoutModel",
      "state": {}
     },
     "70c0b55ca3984b69a0685b9e5026a3d6": {
      "model_module": "@jupyter-widgets/controls",
      "model_module_version": "1.5.0",
      "model_name": "DescriptionStyleModel",
      "state": {
       "description_width": ""
      }
     },
     "7907ed17a8bd44d9adcaef7b299e6877": {
      "model_module": "@jupyter-widgets/base",
      "model_module_version": "1.2.0",
      "model_name": "LayoutModel",
      "state": {}
     },
     "7a8bde3d3b4346acb495bd3a765d6551": {
      "model_module": "@jupyter-widgets/base",
      "model_module_version": "1.2.0",
      "model_name": "LayoutModel",
      "state": {}
     },
     "7be3b486a2fa4d6ab9d30ad915befc35": {
      "model_module": "@jupyter-widgets/controls",
      "model_module_version": "1.5.0",
      "model_name": "HBoxModel",
      "state": {
       "children": [
        "IPY_MODEL_5dcae93fa1dd4266ae933455dbda7d08",
        "IPY_MODEL_8cc10c83fd154d169d8b19f1b8980d99"
       ],
       "layout": "IPY_MODEL_6f6ce386e0d64c7d93fa6ec909110a31"
      }
     },
     "7df1e94b53b0415ab7612e2edaa1c6e1": {
      "model_module": "@jupyter-widgets/base",
      "model_module_version": "1.2.0",
      "model_name": "LayoutModel",
      "state": {}
     },
     "7e4088b4576c4e018b06a23c0b96ae4e": {
      "model_module": "@jupyter-widgets/output",
      "model_module_version": "1.0.0",
      "model_name": "OutputModel",
      "state": {
       "layout": "IPY_MODEL_c7869c2490354af78a783f33b740b1e1"
      }
     },
     "831dc8b6af6547cd9d5e555e5cf65e43": {
      "model_module": "@jupyter-widgets/controls",
      "model_module_version": "1.5.0",
      "model_name": "SliderStyleModel",
      "state": {
       "description_width": ""
      }
     },
     "862ee6113cbb4a90bb3f3b6661a977d0": {
      "model_module": "@jupyter-widgets/controls",
      "model_module_version": "1.5.0",
      "model_name": "SliderStyleModel",
      "state": {
       "description_width": ""
      }
     },
     "8cc10c83fd154d169d8b19f1b8980d99": {
      "model_module": "@jupyter-widgets/controls",
      "model_module_version": "1.5.0",
      "model_name": "VBoxModel",
      "state": {
       "children": [
        "IPY_MODEL_52fc513726134e80b53205cf0bcf3ac1",
        "IPY_MODEL_fcafbeb220a74c2fb57a9f7d60413ec9",
        "IPY_MODEL_5f717d3d4ec348b3a82839013f78bab9",
        "IPY_MODEL_914425b270194fa09a2454b2ad1d48e7"
       ],
       "layout": "IPY_MODEL_fe48c031ee0c45a0846a7b922236811d"
      }
     },
     "90ac102c50754e9abb5eb78e8b0bb581": {
      "model_module": "@jupyter-widgets/controls",
      "model_module_version": "1.5.0",
      "model_name": "CheckboxModel",
      "state": {
       "description": "Autoplay Audio",
       "disabled": false,
       "indent": false,
       "layout": "IPY_MODEL_6957ee30f3b745abac248ecd08256176",
       "style": "IPY_MODEL_9f77c889503443d298f26ab65e4c29aa",
       "value": false
      }
     },
     "914425b270194fa09a2454b2ad1d48e7": {
      "model_module": "@jupyter-widgets/output",
      "model_module_version": "1.0.0",
      "model_name": "OutputModel",
      "state": {
       "layout": "IPY_MODEL_ee501a00418d43c7ba954a2c30e3b2d8",
       "outputs": [
        {
         "name": "stdout",
         "output_type": "stream",
         "text": "Toggling autoplay True\n"
        }
       ]
      }
     },
     "92bf6d0a4b614baf875d7cde6e35e3f6": {
      "model_module": "@jupyter-widgets/controls",
      "model_module_version": "1.5.0",
      "model_name": "DropdownModel",
      "state": {
       "_options_labels": [
        "spectrum",
        "spectrogram"
       ],
       "description": "Display",
       "index": 0,
       "layout": "IPY_MODEL_b57e7484141b4349a2792e0985ae46c6",
       "style": "IPY_MODEL_2cab48ff2679450bb7f76de41bd17a97"
      }
     },
     "98d48431dc1846c68ef1374cf0252273": {
      "model_module": "@jupyter-widgets/controls",
      "model_module_version": "1.5.0",
      "model_name": "SliderStyleModel",
      "state": {
       "description_width": ""
      }
     },
     "99aa7eac96e944a68216827b51243ea6": {
      "model_module": "@jupyter-widgets/base",
      "model_module_version": "1.2.0",
      "model_name": "LayoutModel",
      "state": {
       "border": "solid 1px black",
       "margin": "0px 10px 10px 0px",
       "padding": "5px 5px 5px 5px"
      }
     },
     "9f77c889503443d298f26ab65e4c29aa": {
      "model_module": "@jupyter-widgets/controls",
      "model_module_version": "1.5.0",
      "model_name": "DescriptionStyleModel",
      "state": {
       "description_width": ""
      }
     },
     "a44df2c5a1d745e6820c6a5da0e4450e": {
      "model_module": "@jupyter-widgets/base",
      "model_module_version": "1.2.0",
      "model_name": "LayoutModel",
      "state": {}
     },
     "a62091c1880041c79e21c79170c6bb93": {
      "model_module": "@jupyter-widgets/controls",
      "model_module_version": "1.5.0",
      "model_name": "ButtonStyleModel",
      "state": {}
     },
     "a97757c6d825477f829bbc906b52a412": {
      "model_module": "@jupyter-widgets/output",
      "model_module_version": "1.0.0",
      "model_name": "OutputModel",
      "state": {
       "layout": "IPY_MODEL_463766bee5ca423a8c5bdd624cca272b"
      }
     },
     "add0e9d0008842d8a365bdd8377aa5bb": {
      "model_module": "@jupyter-widgets/base",
      "model_module_version": "1.2.0",
      "model_name": "LayoutModel",
      "state": {
       "border": "solid 1px black",
       "margin": "0px 10px 10px 0px",
       "padding": "5px 5px 5px 5px"
      }
     },
     "b01c398d5d484c64be7f0705edceb05b": {
      "model_module": "@jupyter-widgets/controls",
      "model_module_version": "1.5.0",
      "model_name": "FloatSliderModel",
      "state": {
       "description": "Phase",
       "layout": "IPY_MODEL_f60db338587f4128bd5a187ef3212e51",
       "max": 6.283185307179586,
       "step": 0.1,
       "style": "IPY_MODEL_6f4ed2f31f3e458884e3bc6d7175808c"
      }
     },
     "b0852ed716ae446c92e06bb92002b111": {
      "model_module": "@jupyter-widgets/controls",
      "model_module_version": "1.5.0",
      "model_name": "ButtonModel",
      "state": {
       "description": "Clear the log",
       "layout": "IPY_MODEL_f32c1b359ff741f6b6adfc64b3e1396d",
       "style": "IPY_MODEL_4770a8b4d18a463795cd08dc37b88e28"
      }
     },
     "b355c0364bf34a75abfd93c9851d8c35": {
      "model_module": "@jupyter-widgets/controls",
      "model_module_version": "1.5.0",
      "model_name": "HBoxModel",
      "state": {
       "layout": "IPY_MODEL_0951475e71604fc597ca06d3a65e7925"
      }
     },
     "b57e7484141b4349a2792e0985ae46c6": {
      "model_module": "@jupyter-widgets/base",
      "model_module_version": "1.2.0",
      "model_name": "LayoutModel",
      "state": {}
     },
     "ba52fec8372f45a2b13e2cb68816f02c": {
      "model_module": "@jupyter-widgets/controls",
      "model_module_version": "1.5.0",
      "model_name": "VBoxModel",
      "state": {
       "children": [
        "IPY_MODEL_6d9c2540b8a8473789b580526bfaa130",
        "IPY_MODEL_a97757c6d825477f829bbc906b52a412",
        "IPY_MODEL_214f44fd40594e7ea6a9dae9adfab7ff",
        "IPY_MODEL_e10c4bfd412f48988cb4b1759cd44d1b"
       ],
       "layout": "IPY_MODEL_f1917bdd44c74ea6b539d204c2663768"
      }
     },
     "bc110d262f8641f88e7d5624c0547483": {
      "model_module": "@jupyter-widgets/base",
      "model_module_version": "1.2.0",
      "model_name": "LayoutModel",
      "state": {
       "width": "50%"
      }
     },
     "c0876167dc2f4cbe973ec1edd580c77d": {
      "model_module": "@jupyter-widgets/base",
      "model_module_version": "1.2.0",
      "model_name": "LayoutModel",
      "state": {}
     },
     "c21280b762b14cdba896f52d2a794313": {
      "model_module": "@jupyter-widgets/base",
      "model_module_version": "1.2.0",
      "model_name": "LayoutModel",
      "state": {
       "width": "50%"
      }
     },
     "c229d4d118544e5186baa41eba51960f": {
      "model_module": "@jupyter-widgets/controls",
      "model_module_version": "1.5.0",
      "model_name": "FloatSliderModel",
      "state": {
       "description": "Phase",
       "layout": "IPY_MODEL_39d6be627c09426095bcecba64b37e9e",
       "max": 6.283185307179586,
       "step": 0.1,
       "style": "IPY_MODEL_e43376e671c24356b438d18993e89188"
      }
     },
     "c491965a1e8d41f889976545b6c86678": {
      "model_module": "@jupyter-widgets/controls",
      "model_module_version": "1.5.0",
      "model_name": "DescriptionStyleModel",
      "state": {
       "description_width": ""
      }
     },
     "c49600f2a2d1484fb074dcd1c3a5d998": {
      "model_module": "@jupyter-widgets/controls",
      "model_module_version": "1.5.0",
      "model_name": "SliderStyleModel",
      "state": {
       "description_width": ""
      }
     },
     "c6385ce44b434cefa3c72cf7aa3d900a": {
      "model_module": "@jupyter-widgets/controls",
      "model_module_version": "1.5.0",
      "model_name": "CheckboxModel",
      "state": {
       "description": "Autoplay Audio",
       "disabled": false,
       "indent": false,
       "layout": "IPY_MODEL_bc110d262f8641f88e7d5624c0547483",
       "style": "IPY_MODEL_5a270ba59b4f4593b4650f7c74190861",
       "value": false
      }
     },
     "c7869c2490354af78a783f33b740b1e1": {
      "model_module": "@jupyter-widgets/base",
      "model_module_version": "1.2.0",
      "model_name": "LayoutModel",
      "state": {}
     },
     "ca9ff82b4bdb43c188a124c847bef7dd": {
      "model_module": "@jupyter-widgets/controls",
      "model_module_version": "1.5.0",
      "model_name": "CheckboxModel",
      "state": {
       "description": "Autoplay Audio",
       "disabled": false,
       "indent": false,
       "layout": "IPY_MODEL_c21280b762b14cdba896f52d2a794313",
       "style": "IPY_MODEL_df64a220d302485489026c43da32bd08",
       "value": true
      }
     },
     "cad214a4e8464df298897fc067e6fb2c": {
      "model_module": "@jupyter-widgets/base",
      "model_module_version": "1.2.0",
      "model_name": "LayoutModel",
      "state": {
       "border": "solid 1px black",
       "margin": "0px 10px 10px 0px",
       "padding": "5px 5px 5px 5px"
      }
     },
     "cd4a722b82a14a8dbdb77e06965f28ef": {
      "model_module": "@jupyter-widgets/controls",
      "model_module_version": "1.5.0",
      "model_name": "FloatSliderModel",
      "state": {
       "description": "Frequency",
       "layout": "IPY_MODEL_dbcad8e4a0bf4df68323ca2b1522a927",
       "max": 50,
       "min": 2,
       "style": "IPY_MODEL_012800afd05a442c8b5a58a7835f71e9",
       "value": 50
      }
     },
     "cdc4d17cd5444ac8beba4486951533c1": {
      "model_module": "@jupyter-widgets/controls",
      "model_module_version": "1.5.0",
      "model_name": "FloatSliderModel",
      "state": {
       "description": "Phase",
       "layout": "IPY_MODEL_0801ce20d77c49a18e772996f395295f",
       "max": 6.283185307179586,
       "step": 0.1,
       "style": "IPY_MODEL_ff6771db75a845f39106aed27a839b8b"
      }
     },
     "cde35e98f9c44507acf9f1704576a702": {
      "model_module": "@jupyter-widgets/controls",
      "model_module_version": "1.5.0",
      "model_name": "SliderStyleModel",
      "state": {
       "description_width": ""
      }
     },
     "cf080de895ea4c9fab1b9d06c341df8d": {
      "model_module": "@jupyter-widgets/base",
      "model_module_version": "1.2.0",
      "model_name": "LayoutModel",
      "state": {
       "width": "50%"
      }
     },
     "cf9a19b8416c4177863e7bbb41e8a712": {
      "model_module": "@jupyter-widgets/output",
      "model_module_version": "1.0.0",
      "model_name": "OutputModel",
      "state": {
       "layout": "IPY_MODEL_2c7b49af13e84a08b01527c5df25c8e4"
      }
     },
     "d29752cccf274f37a6af18980ec0c53f": {
      "model_module": "@jupyter-widgets/base",
      "model_module_version": "1.2.0",
      "model_name": "LayoutModel",
      "state": {}
     },
     "d5eddf1cd5704c8280ac0760121ebe84": {
      "model_module": "@jupyter-widgets/controls",
      "model_module_version": "1.5.0",
      "model_name": "DropdownModel",
      "state": {
       "_options_labels": [
        "spectrum",
        "spectrogram"
       ],
       "description": "Display",
       "index": 0,
       "layout": "IPY_MODEL_f4aaec05eff341e7878252e835a72e57",
       "style": "IPY_MODEL_1b4e349b0bdc4551b45ec2213886a2d5"
      }
     },
     "dbcad8e4a0bf4df68323ca2b1522a927": {
      "model_module": "@jupyter-widgets/base",
      "model_module_version": "1.2.0",
      "model_name": "LayoutModel",
      "state": {}
     },
     "df64a220d302485489026c43da32bd08": {
      "model_module": "@jupyter-widgets/controls",
      "model_module_version": "1.5.0",
      "model_name": "DescriptionStyleModel",
      "state": {
       "description_width": ""
      }
     },
     "e0a00d72b1504ee5bfd5a594ef0f8552": {
      "model_module": "@jupyter-widgets/base",
      "model_module_version": "1.2.0",
      "model_name": "LayoutModel",
      "state": {
       "width": "50%"
      }
     },
     "e10c4bfd412f48988cb4b1759cd44d1b": {
      "model_module": "@jupyter-widgets/output",
      "model_module_version": "1.0.0",
      "model_name": "OutputModel",
      "state": {
       "layout": "IPY_MODEL_2ceb81f5c8594f499eae8d54411c541f"
      }
     },
     "e12a83eaeca64ee4b8f398bfed74f0ac": {
      "model_module": "@jupyter-widgets/base",
      "model_module_version": "1.2.0",
      "model_name": "LayoutModel",
      "state": {}
     },
     "e191f5271a6940dc9f415905e29397f2": {
      "model_module": "@jupyter-widgets/controls",
      "model_module_version": "1.5.0",
      "model_name": "DropdownModel",
      "state": {
       "_options_labels": [
        "sin",
        "square",
        "sawtooth",
        "chirp 1:20",
        "chirp 20:1",
        "gausspulse",
        "modulated white noise"
       ],
       "description": "Signal",
       "index": 0,
       "layout": "IPY_MODEL_3f8d96bff6094df68e3539ff201d040d",
       "style": "IPY_MODEL_70c0b55ca3984b69a0685b9e5026a3d6"
      }
     },
     "e43376e671c24356b438d18993e89188": {
      "model_module": "@jupyter-widgets/controls",
      "model_module_version": "1.5.0",
      "model_name": "SliderStyleModel",
      "state": {
       "description_width": ""
      }
     },
     "e5771249479a49218523bb7b97550d6b": {
      "model_module": "@jupyter-widgets/controls",
      "model_module_version": "1.5.0",
      "model_name": "ButtonModel",
      "state": {
       "description": "Clear the log",
       "layout": "IPY_MODEL_f5c1f4018a8b47c1ad336d05e85ef097",
       "style": "IPY_MODEL_297d1ae477a1423bb517705ed82850f5"
      }
     },
     "e7e51367213544109c3231734c78c7cf": {
      "model_module": "@jupyter-widgets/base",
      "model_module_version": "1.2.0",
      "model_name": "LayoutModel",
      "state": {}
     },
     "ea25cb7a1bb54962a70f3810a5589afb": {
      "model_module": "@jupyter-widgets/output",
      "model_module_version": "1.0.0",
      "model_name": "OutputModel",
      "state": {
       "layout": "IPY_MODEL_a44df2c5a1d745e6820c6a5da0e4450e",
       "outputs": [
        {
         "name": "stdout",
         "output_type": "stream",
         "text": "Toggling autoplay True\n"
        }
       ]
      }
     },
     "ee501a00418d43c7ba954a2c30e3b2d8": {
      "model_module": "@jupyter-widgets/base",
      "model_module_version": "1.2.0",
      "model_name": "LayoutModel",
      "state": {}
     },
     "ef01c3fc878d47be8e71b78d4303d912": {
      "model_module": "@jupyter-widgets/base",
      "model_module_version": "1.2.0",
      "model_name": "LayoutModel",
      "state": {}
     },
     "f1917bdd44c74ea6b539d204c2663768": {
      "model_module": "@jupyter-widgets/base",
      "model_module_version": "1.2.0",
      "model_name": "LayoutModel",
      "state": {
       "border": "solid 1px black",
       "margin": "0px 10px 10px 0px",
       "padding": "5px 5px 5px 5px"
      }
     },
     "f2888b3aaf2745519c89789b9fa46fbe": {
      "model_module": "@jupyter-widgets/controls",
      "model_module_version": "1.5.0",
      "model_name": "HBoxModel",
      "state": {
       "children": [
        "IPY_MODEL_004e5b5582f941bfbc3d289de6fe7bfb",
        "IPY_MODEL_1cb15b22ec8047089ef69ffc9ffc7399"
       ],
       "layout": "IPY_MODEL_e12a83eaeca64ee4b8f398bfed74f0ac"
      }
     },
     "f30e320f4360478bb52b18777ee25062": {
      "model_module": "@jupyter-widgets/controls",
      "model_module_version": "1.5.0",
      "model_name": "DescriptionStyleModel",
      "state": {
       "description_width": ""
      }
     },
     "f32c1b359ff741f6b6adfc64b3e1396d": {
      "model_module": "@jupyter-widgets/base",
      "model_module_version": "1.2.0",
      "model_name": "LayoutModel",
      "state": {
       "width": "50%"
      }
     },
     "f373cd2b6085413c995c3efe465f1b6c": {
      "model_module": "@jupyter-widgets/base",
      "model_module_version": "1.2.0",
      "model_name": "LayoutModel",
      "state": {}
     },
     "f3f98a3af0e34c1fabcef68b55d80f44": {
      "model_module": "@jupyter-widgets/controls",
      "model_module_version": "1.5.0",
      "model_name": "VBoxModel",
      "state": {
       "children": [
        "IPY_MODEL_5690f0a619b54b91b76c84da05cc1ce8",
        "IPY_MODEL_7e4088b4576c4e018b06a23c0b96ae4e",
        "IPY_MODEL_b0852ed716ae446c92e06bb92002b111",
        "IPY_MODEL_048d0f446e924e899601548f6ebf0069"
       ],
       "layout": "IPY_MODEL_99aa7eac96e944a68216827b51243ea6"
      }
     },
     "f4aaec05eff341e7878252e835a72e57": {
      "model_module": "@jupyter-widgets/base",
      "model_module_version": "1.2.0",
      "model_name": "LayoutModel",
      "state": {}
     },
     "f51f10888c9245c2b1d0ac1afe4596eb": {
      "model_module": "@jupyter-widgets/controls",
      "model_module_version": "1.5.0",
      "model_name": "DropdownModel",
      "state": {
       "_options_labels": [
        "sin",
        "square",
        "sawtooth",
        "chirp 1:20",
        "chirp 20:1",
        "gausspulse",
        "modulated white noise"
       ],
       "description": "Signal",
       "index": 5,
       "layout": "IPY_MODEL_3c988c52f288417ca341c702b24b1678",
       "style": "IPY_MODEL_251f86d28ef3403199018f93522da16c"
      }
     },
     "f5c1f4018a8b47c1ad336d05e85ef097": {
      "model_module": "@jupyter-widgets/base",
      "model_module_version": "1.2.0",
      "model_name": "LayoutModel",
      "state": {
       "width": "50%"
      }
     },
     "f5f979e73190456e8b93a156aaa7d668": {
      "model_module": "@jupyter-widgets/controls",
      "model_module_version": "1.5.0",
      "model_name": "SliderStyleModel",
      "state": {
       "description_width": ""
      }
     },
     "f60db338587f4128bd5a187ef3212e51": {
      "model_module": "@jupyter-widgets/base",
      "model_module_version": "1.2.0",
      "model_name": "LayoutModel",
      "state": {}
     },
     "f953a449cc3246ff8dbaef4f70622d3d": {
      "model_module": "@jupyter-widgets/base",
      "model_module_version": "1.2.0",
      "model_name": "LayoutModel",
      "state": {}
     },
     "f9f011e29c8e4fab9074bee2f6f8ced5": {
      "model_module": "@jupyter-widgets/controls",
      "model_module_version": "1.5.0",
      "model_name": "FloatLogSliderModel",
      "state": {
       "description": "Amplitude",
       "layout": "IPY_MODEL_24b20f2d57a54884a0d72eca3d1164a8",
       "max": 0,
       "min": -2,
       "step": 0.2,
       "style": "IPY_MODEL_831dc8b6af6547cd9d5e555e5cf65e43"
      }
     },
     "fc4c27b1969d4a3a8f9785e49f241bb9": {
      "model_module": "@jupyter-widgets/controls",
      "model_module_version": "1.5.0",
      "model_name": "DropdownModel",
      "state": {
       "_options_labels": [
        "sin",
        "square",
        "sawtooth",
        "chirp 1:20",
        "chirp 20:1",
        "gausspulse",
        "modulated white noise"
       ],
       "description": "Signal",
       "index": 0,
       "layout": "IPY_MODEL_0c6c312245e74c94ac1a9bc31b104f22",
       "style": "IPY_MODEL_5f2829f4e76b4e8c993820ccfed4d7ed"
      }
     },
     "fc8662671e3b424494b3c0cf3414fb71": {
      "model_module": "@jupyter-widgets/controls",
      "model_module_version": "1.5.0",
      "model_name": "FloatLogSliderModel",
      "state": {
       "description": "Amplitude",
       "layout": "IPY_MODEL_d29752cccf274f37a6af18980ec0c53f",
       "max": 0,
       "min": -2,
       "step": 0.2,
       "style": "IPY_MODEL_57c29153b10740e094273d0b05e4e4e8"
      }
     },
     "fcafbeb220a74c2fb57a9f7d60413ec9": {
      "model_module": "@jupyter-widgets/output",
      "model_module_version": "1.0.0",
      "model_name": "OutputModel",
      "state": {
       "layout": "IPY_MODEL_f953a449cc3246ff8dbaef4f70622d3d",
       "outputs": [
        {
         "data": {
          "text/html": "\n                <audio  controls=\"controls\" autoplay=\"autoplay\">\n                    <source src=\"data:audio/wav;base64,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\" type=\"audio/wav\" />\n                    Your browser does not support the audio element.\n                </audio>\n              ",
          "text/plain": "<IPython.lib.display.Audio object>"
         },
         "metadata": {},
         "output_type": "display_data"
        }
       ]
      }
     },
     "fe3c17a1b7ce4131baed932927a24af3": {
      "model_module": "@jupyter-widgets/base",
      "model_module_version": "1.2.0",
      "model_name": "LayoutModel",
      "state": {
       "border": "solid 1px black",
       "margin": "0px 10px 10px 0px",
       "padding": "5px 5px 5px 5px"
      }
     },
     "fe48c031ee0c45a0846a7b922236811d": {
      "model_module": "@jupyter-widgets/base",
      "model_module_version": "1.2.0",
      "model_name": "LayoutModel",
      "state": {
       "border": "solid 1px black",
       "margin": "0px 10px 10px 0px",
       "padding": "5px 5px 5px 5px"
      }
     },
     "ff6771db75a845f39106aed27a839b8b": {
      "model_module": "@jupyter-widgets/controls",
      "model_module_version": "1.5.0",
      "model_name": "SliderStyleModel",
      "state": {
       "description_width": ""
      }
     }
    },
    "version_major": 2,
    "version_minor": 0
   }
  }
 },
 "nbformat": 4,
 "nbformat_minor": 4
}
