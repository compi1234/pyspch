{
 "cells": [
  {
   "cell_type": "markdown",
   "id": "worldwide-guatemala",
   "metadata": {},
   "source": [
    "<a href=\"https://colab.research.google.com/github/compi1234/pyspch/blob/master/test/audio_test.ipynb\" target=\"_parent\"><img src=\"https://colab.research.google.com/assets/colab-badge.svg\" alt=\"Open In Colab\"/></a>"
   ]
  },
  {
   "cell_type": "markdown",
   "id": "sustained-manufacturer",
   "metadata": {},
   "source": [
    "## Audio Test Notebook \n",
    "\n",
    "This notebook demonstrates essential Audio I/O utilities provided in the **pyspch.audio** module\n",
    "- loading audio data from file   \n",
    "- play audio\n",
    "- recording audio; can be done via direct control of the sounddevice or using javascript in the browser\n",
    "\n",
    "Date: 11/04/2021, 13/05/2021"
   ]
  },
  {
   "cell_type": "code",
   "execution_count": null,
   "id": "impossible-reach",
   "metadata": {},
   "outputs": [],
   "source": [
    "%matplotlib inline\n",
    "from IPython.display import display, Audio, HTML   \n",
    "import numpy as np\n",
    "import matplotlib.pyplot as plt\n",
    "\n",
    "import librosa\n",
    "try:\n",
    "  import google.colab\n",
    "  IN_COLAB = True \n",
    "  ! pip install git+https://github.com/compi1234/pyspch.git\n",
    "except:\n",
    "  IN_COLAB = False\n",
    "\n",
    "# verify the IPython version\n",
    "import IPython\n",
    "if IPython.version_info[0] >= 6:\n",
    "    Audio_args = {'normalize':False}\n",
    "else:\n",
    "    print(\"Warning: you are using IPython<6 \\n IPython.display.Audio() will automatically normalize audio output\")\n",
    "    Audio_args = {}\n",
    "import pyspch.audio as audio\n",
    "import pyspch.spectrogram as specg\n",
    "import pyspch.utils as spch_utils\n",
    "import pyspch.disp_mpl as spch_disp\n",
    "import pyspch\n",
    "\n",
    "SAMPLE_WAV_URL = 'https://homes.esat.kuleuven.be/~spchlab/data/misc/train.wav'\n",
    "SAMPLE_WAV_13dB_SNGER = 'https://homes.esat.kuleuven.be/~spchlab/data/13dB/Psnger22.wav'"
   ]
  },
  {
   "cell_type": "markdown",
   "id": "closed-synthetic",
   "metadata": {},
   "source": [
    "## 1. Read from file"
   ]
  },
  {
   "cell_type": "code",
   "execution_count": null,
   "id": "gothic-clause",
   "metadata": {},
   "outputs": [],
   "source": [
    "# You can load a file from url or from local disk, more details in the manpage\n",
    "help(audio.load)"
   ]
  },
  {
   "cell_type": "code",
   "execution_count": null,
   "id": "miniature-intellectual",
   "metadata": {},
   "outputs": [],
   "source": [
    "wavname = SAMPLE_WAV_URL\n",
    "wavdata,sample_rate= audio.load(wavname)\n",
    "# \n",
    "print(wavdata.shape, sample_rate)\n",
    "fig = plt.figure(figsize=(6,2))\n",
    "plt.plot(wavdata)\n",
    "# if you want the plot above the audio widget, add line below\n",
    "# plt.show()\n",
    "display(Audio(data=wavdata,rate=sample_rate,autoplay=False,**Audio_args))"
   ]
  },
  {
   "cell_type": "code",
   "execution_count": null,
   "id": "magnetic-yorkshire",
   "metadata": {},
   "outputs": [],
   "source": [
    "# You can specify a new sampling rate when reading in the data or convert multi to mono\n",
    "# -- sample_rate=16000\n",
    "# -- mono=True\n",
    "wavname = SAMPLE_WAV_13dB_SNGER\n",
    "#wavname = SAMPLE_WAV_URL\n",
    "wavdata,sample_rate= audio.load(wavname,sample_rate=16000)\n",
    "print(wavdata.shape, sample_rate)\n",
    "fig = plt.figure(figsize=(6,2))\n",
    "plt.plot(wavdata)\n",
    "display(Audio(data=wavdata,rate=sample_rate,autoplay=False,**Audio_args))"
   ]
  },
  {
   "cell_type": "markdown",
   "id": "honest-syria",
   "metadata": {},
   "source": [
    "## 2. Record from device"
   ]
  },
  {
   "cell_type": "code",
   "execution_count": null,
   "id": "major-swing",
   "metadata": {},
   "outputs": [],
   "source": [
    "help(audio.record)"
   ]
  },
  {
   "cell_type": "code",
   "execution_count": null,
   "id": "visible-window",
   "metadata": {},
   "outputs": [],
   "source": [
    "# you can set sampling rate and number of channels to be recorded\n",
    "sample_rate=16000\n",
    "wavdata = audio.record(2.,sample_rate,n_channels=2)\n",
    "print(wavdata.shape)\n",
    "#Audio(data=wavdata,rate=sample_rate,**Audio_args)"
   ]
  },
  {
   "cell_type": "code",
   "execution_count": null,
   "id": "negative-petite",
   "metadata": {},
   "outputs": [],
   "source": [
    "# Remark that the IPython Audio object BY DEFAULT NORMALIZES the output\n",
    "# The default **Audio_args will overcome that in versions of IPython (>=6) where normalization can be turned off\n",
    "# Be careful, however, as the Audio module will crash on values exceeding +-1, there is no autoclipping\n",
    "# Google Colab uses IPython 5.5 !!\n",
    "# Record something in a soft voice and play both versions below for clear demonstration\n",
    "if IPython.version_info[0] >= 6:\n",
    "    display(Audio(data=wavdata,rate=sample_rate,normalize=False))\n",
    "    display(Audio(data=wavdata,rate=sample_rate,normalize=True))\n",
    "else:\n",
    "    print(\"Warning: in IPython <6 you can only play normalized audio via the Browser !!\")\n",
    "    display(Audio(data=wavdata,rate=sample_rate))"
   ]
  },
  {
   "cell_type": "markdown",
   "id": "joint-musician",
   "metadata": {},
   "source": [
    "## 3. Multichannel plot and play"
   ]
  },
  {
   "cell_type": "code",
   "execution_count": null,
   "id": "agricultural-future",
   "metadata": {},
   "outputs": [],
   "source": [
    "# The plot_waveform() routine in the spectrogram module does proper multichannel plotting\n",
    "#\n",
    "# a note on librosa: waveform plotting can be display.waveform.waveplot() \n",
    "# though only channel by channel \n",
    "# > from librosa import display as libdisp\n",
    "# > libdisp.waveplot(wavdata,sr=sample_rate)\n"
   ]
  },
  {
   "cell_type": "code",
   "execution_count": null,
   "id": "casual-preview",
   "metadata": {},
   "outputs": [],
   "source": [
    "spch_disp.plot_waveform(wavdata,sample_rate)"
   ]
  },
  {
   "cell_type": "code",
   "execution_count": null,
   "id": "quality-retail",
   "metadata": {},
   "outputs": [],
   "source": [
    "# just play the (stereo) waveform\n",
    "# if you want to stage multiple sequential plays in a cell (or python code), \n",
    "# then you must wait for each of them to finish before starting the next one\n",
    "\n",
    "# This will play all channels and wait for audio to finish\n",
    "audio.play(wavdata,sample_rate=sample_rate,wait=True)\n",
    "\n",
    "# This plays channel=0 and returns immediately \n",
    "audio.play(wavdata,sample_rate=sample_rate,channels=[0])\n",
    "\n",
    "# This will render an ipython.display object \n",
    "audio.play(wavdata,sample_rate=sample_rate,io_device='js')"
   ]
  },
  {
   "cell_type": "code",
   "execution_count": null,
   "id": "speaking-evanescence",
   "metadata": {},
   "outputs": [],
   "source": []
  }
 ],
 "metadata": {
  "kernelspec": {
   "display_name": "Python 3",
   "language": "python",
   "name": "python3"
  },
  "language_info": {
   "codemirror_mode": {
    "name": "ipython",
    "version": 3
   },
   "file_extension": ".py",
   "mimetype": "text/x-python",
   "name": "python",
   "nbconvert_exporter": "python",
   "pygments_lexer": "ipython3",
   "version": "3.7.8"
  },
  "widgets": {
   "application/vnd.jupyter.widget-state+json": {
    "state": {},
    "version_major": 2,
    "version_minor": 0
   }
  }
 },
 "nbformat": 4,
 "nbformat_minor": 5
}
