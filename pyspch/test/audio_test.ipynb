{
 "cells": [
  {
   "cell_type": "markdown",
   "id": "pointed-motivation",
   "metadata": {},
   "source": [
    "<a href=\"https://colab.research.google.com/github/compi1234/pyspch/blob/master/test/audio_test.ipynb\" target=\"_parent\"><img src=\"https://colab.research.google.com/assets/colab-badge.svg\" alt=\"Open In Colab\"/></a>"
   ]
  },
  {
   "cell_type": "markdown",
   "id": "earned-coach",
   "metadata": {},
   "source": [
    "## Audio Test Notebook \n",
    "\n",
    "This notebook demonstrates essential Audio I/O utilities provided in the **pyspch.audio** module\n",
    "- loading audio data from file   \n",
    "- play audio\n",
    "- recording audio; can be done via direct control of the sounddevice or using javascript in the browser\n",
    "\n",
    "Date: 11/04/2021, 13/05/2021"
   ]
  },
  {
   "cell_type": "code",
   "execution_count": null,
   "id": "hungarian-slave",
   "metadata": {},
   "outputs": [],
   "source": [
    "%matplotlib inline\n",
    "from IPython.display import display, clear_output, Audio, HTML\n",
    "import ipywidgets as widgets\n",
    "import numpy as np\n",
    "import matplotlib.pyplot as plt\n",
    "\n",
    "import librosa\n",
    "try:\n",
    "  import google.colab\n",
    "  IN_COLAB = True \n",
    "  ! pip install git+https://github.com/compi1234/pyspch.git\n",
    "except:\n",
    "  IN_COLAB = False\n",
    "\n",
    "# verify the IPython version\n",
    "import IPython\n",
    "if IPython.version_info[0] >= 6:\n",
    "    Audio_args = {'normalize':False}\n",
    "else:\n",
    "    print(\"Warning: you are using IPython<6 \\n IPython.display.Audio() will automatically normalize audio output\")\n",
    "    Audio_args = {}\n",
    "import pyspch.audio as audio\n",
    "import pyspch.spectrogram as specg\n",
    "import pyspch.utils as spch_utils\n",
    "#import pyspch.display as spch_disp\n",
    "import pyspch.display_ly as spch_disp\n",
    "import pyspch\n",
    "\n",
    "SAMPLE_WAV_URL = 'https://homes.esat.kuleuven.be/~spchlab/data/misc/train.wav'\n",
    "SAMPLE_WAV_13dB_SNGER = 'https://homes.esat.kuleuven.be/~spchlab/data/13dB/Psnger22.wav'"
   ]
  },
  {
   "cell_type": "markdown",
   "id": "mexican-specialist",
   "metadata": {},
   "source": [
    "## 1. Read from file"
   ]
  },
  {
   "cell_type": "code",
   "execution_count": null,
   "id": "mediterranean-radio",
   "metadata": {},
   "outputs": [],
   "source": [
    "# You can load a file from url or from local disk, more details in the manpage\n",
    "help(audio.load)"
   ]
  },
  {
   "cell_type": "code",
   "execution_count": null,
   "id": "geographic-profile",
   "metadata": {},
   "outputs": [],
   "source": [
    "wavname = SAMPLE_WAV_URL\n",
    "wavdata,sample_rate= audio.load(wavname)\n",
    "# \n",
    "print(wavdata.shape, sample_rate)\n",
    "fig = plt.figure(figsize=(6,2))\n",
    "plt.plot(wavdata)\n",
    "# if you want the plot above the audio widget, add line below\n",
    "# plt.show()\n",
    "display(Audio(data=wavdata,rate=sample_rate,autoplay=False,**Audio_args))"
   ]
  },
  {
   "cell_type": "code",
   "execution_count": null,
   "id": "italian-advertising",
   "metadata": {},
   "outputs": [],
   "source": [
    "# You can specify a new sampling rate when reading in the data or convert multi to mono\n",
    "# -- sample_rate=16000\n",
    "# -- mono=True\n",
    "wavname = SAMPLE_WAV_13dB_SNGER\n",
    "#wavname = SAMPLE_WAV_URL\n",
    "wavdata,sample_rate= audio.load(wavname,sample_rate=16000)\n",
    "print(wavdata.shape, sample_rate)\n",
    "fig = plt.figure(figsize=(6,2))\n",
    "plt.plot(wavdata)\n",
    "display(Audio(data=wavdata,rate=sample_rate,autoplay=False,**Audio_args))"
   ]
  },
  {
   "cell_type": "markdown",
   "id": "international-rehabilitation",
   "metadata": {},
   "source": [
    "## 2. Record from device"
   ]
  },
  {
   "cell_type": "code",
   "execution_count": null,
   "id": "resistant-palace",
   "metadata": {},
   "outputs": [],
   "source": [
    "help(audio.record)"
   ]
  },
  {
   "cell_type": "code",
   "execution_count": null,
   "id": "collective-turner",
   "metadata": {},
   "outputs": [],
   "source": [
    "# you can set sampling rate and number of channels to be recorded\n",
    "sample_rate=16000\n",
    "wavdata = audio.record(2.,sample_rate,n_channels=2)\n",
    "print(wavdata.shape)\n",
    "#Audio(data=wavdata,rate=sample_rate,**Audio_args)"
   ]
  },
  {
   "cell_type": "code",
   "execution_count": null,
   "id": "tribal-density",
   "metadata": {},
   "outputs": [],
   "source": [
    "# Remark that the IPython Audio object BY DEFAULT NORMALIZES the output\n",
    "# The default **Audio_args will overcome that in versions of IPython (>=6) where normalization can be turned off\n",
    "# Be careful, however, as the Audio module will crash on values exceeding +-1, there is no autoclipping\n",
    "# Google Colab uses IPython 5.5 !!\n",
    "# Record something in a soft voice and play both versions below for clear demonstration\n",
    "if IPython.version_info[0] >= 6:\n",
    "    display(Audio(data=wavdata,rate=sample_rate,normalize=False))\n",
    "    display(Audio(data=wavdata,rate=sample_rate,normalize=True))\n",
    "else:\n",
    "    print(\"Warning: in IPython <6 you can only play normalized audio via the Browser !!\")\n",
    "    display(Audio(data=wavdata,rate=sample_rate))"
   ]
  },
  {
   "cell_type": "markdown",
   "id": "standard-secretariat",
   "metadata": {},
   "source": [
    "## 3. Multichannel plot and play"
   ]
  },
  {
   "cell_type": "code",
   "execution_count": null,
   "id": "meaning-spyware",
   "metadata": {},
   "outputs": [],
   "source": [
    "# The plot_waveform() routine in the spectrogram module does proper multichannel plotting\n",
    "#\n",
    "# a note on librosa: waveform plotting can be display.waveform.waveplot() \n",
    "# though only channel by channel \n",
    "# > from librosa import display as libdisp\n",
    "# > libdisp.waveplot(wavdata,sr=sample_rate)\n"
   ]
  },
  {
   "cell_type": "code",
   "execution_count": null,
   "id": "determined-phenomenon",
   "metadata": {},
   "outputs": [],
   "source": [
    "wavdata.shape"
   ]
  },
  {
   "cell_type": "code",
   "execution_count": null,
   "id": "capital-pound",
   "metadata": {},
   "outputs": [],
   "source": [
    "spch_disp.plot_waveform(wavdata,sample_rate=sample_rate)"
   ]
  },
  {
   "cell_type": "code",
   "execution_count": null,
   "id": "crucial-torture",
   "metadata": {},
   "outputs": [],
   "source": [
    "# just play the (stereo) waveform\n",
    "# if you want to stage multiple sequential plays in a cell (or python code), \n",
    "# then you must wait for each of them to finish before starting the next one\n",
    "\n",
    "# This will play all channels and wait for audio to finish\n",
    "audio.play(wavdata,sample_rate=sample_rate,wait=True)\n",
    "\n",
    "# This plays channel=0 and returns immediately \n",
    "audio.play(wavdata,sample_rate=sample_rate,channels=[0])\n",
    "\n",
    "# This will render an ipython.display object \n",
    "audio.play(wavdata,sample_rate=sample_rate,io_device='js')"
   ]
  },
  {
   "cell_type": "markdown",
   "id": "confident-focus",
   "metadata": {},
   "source": [
    "### 4. A mini recorder"
   ]
  },
  {
   "cell_type": "code",
   "execution_count": null,
   "id": "judicial-auckland",
   "metadata": {},
   "outputs": [],
   "source": [
    "Symbols = { 'play':'\\u25b6','reverse':'\\u25C0' , 'pause':'\\u23F8', 'stop': '\\u23F9', 'record':'\\u2b55'}\n",
    "def box_layout():\n",
    "     return widgets.Layout(\n",
    "        border='solid 1px black',\n",
    "        margin='0px 10px 10px 0px',\n",
    "        padding='5px 5px 5px 5px'\n",
    "     )\n",
    "def button_layout():\n",
    "    return widgets.Layout(\n",
    "        border='solid 1px black',\n",
    "        margin='0px 10px 10px 0px',\n",
    "        padding='5px 5px 5px 5px',\n",
    "        width = '40px',\n",
    "        height = '40px',\n",
    "        flex_shrink =2\n",
    "     )\n",
    "\n",
    "class mini_recorder(widgets.VBox):\n",
    "    \n",
    "    def __init__(self,data=np.zeros((1000,)),sample_rate=16000,figsize=(5,4),dpi=100):\n",
    "        super().__init__()\n",
    "        \n",
    "        self.data = data\n",
    "        \n",
    "        self.sample_rate = sample_rate\n",
    "        self.rec_time = 2.0         \n",
    "        self.line_color = '#0000ff'\n",
    "        self.figsize = figsize\n",
    "        self.dpi = dpi\n",
    "                     \n",
    "        self.wg_play_button = widgets.Button(description=Symbols['play'],layout=button_layout())\n",
    "        self.wg_record_button = widgets.Button(description=Symbols['record'],layout=button_layout())\n",
    "        self.wg_pause_button = widgets.Button(description=Symbols['pause'],layout=button_layout())\n",
    "        self.wg_clear_log_button = widgets.Button(description='Clear log')\n",
    "        #self.rec_time_slider = widgets.FloatSlider(value=self.rec_time,step=.5,min=.5,max=10.,\n",
    "        #                                           description='Rec Time',indent=False,continous_update=False)\n",
    "\n",
    "        self.wg_rectime = widgets.BoundedFloatText(   value=2.0, min=0.5, max= 10., step=0.5,\n",
    "            description='Rec Time:', disabled=False)\n",
    "        self.out = widgets.Output(layout=box_layout())\n",
    "        self.out.layout.width = '100%'\n",
    "        self.logscr = widgets.Output()        \n",
    "        self.UI = widgets.VBox([\n",
    "            widgets.HBox([self.wg_play_button,self.wg_record_button,self.wg_pause_button,self.wg_rectime,self.wg_clear_log_button]),\n",
    "            self.logscr], \n",
    "            layout=box_layout())\n",
    "        self.UI.layout.width = '100%'\n",
    "        # add as children\n",
    "        self.children = [self.out, self.UI] \n",
    "        \n",
    "        self.wg_play_button.on_click(self.play_sound)       \n",
    "        self.wg_record_button.on_click(self.record_sound)\n",
    "        self.wg_pause_button.on_click(self.pause_sound)\n",
    "        self.wg_clear_log_button.on_click(self.clear_log)\n",
    "        self.wg_rectime.observe(self.rectime_observe,'value')\n",
    "        \n",
    "        self.plot_data()\n",
    "        plt.close()\n",
    "\n",
    "\n",
    "    def plot_data(self):\n",
    "        with self.out:\n",
    "            clear_output(wait=True)\n",
    "            spg = specg.spectrogram(self.data,sample_rate=self.sample_rate)\n",
    "            self.fig = spch_disp.plot_spg(spg,wav=self.data,sample_rate=self.sample_rate,figsize=self.figsize,dpi=self.dpi)\n",
    "            #self.fig = spch_disp.plot_waveform(self.data,sample_rate=self.sample_rate)\n",
    "            display(self.fig)\n",
    "        \n",
    "    def rectime_observe(self,change):\n",
    "        self.rec_time = change.new\n",
    "    \n",
    "    def pause_sound(self,b):\n",
    "        with self.logscr:\n",
    "            print(\"You didn't expect everything to work ?!! did you ... \")\n",
    "            \n",
    "    def play_sound(self,b):\n",
    "        audio.play(self.data,sample_rate=self.sample_rate,wait=True)\n",
    "        \n",
    "    def record_sound(self,b):      \n",
    "        with self.logscr:\n",
    "            self.data = audio.record(self.rec_time,self.sample_rate,n_channels=1)\n",
    "        self.plot_data()\n",
    "        audio.play(self.data,sample_rate=self.sample_rate,wait=True)\n",
    "     \n",
    "    def clear_log(self,b):\n",
    "        with self.logscr: clear_output()\n",
    "            \n"
   ]
  },
  {
   "cell_type": "code",
   "execution_count": null,
   "id": "successful-socket",
   "metadata": {},
   "outputs": [],
   "source": [
    "recorder = mini_recorder(figsize=(8,6))\n",
    "recorder"
   ]
  },
  {
   "cell_type": "code",
   "execution_count": null,
   "id": "norwegian-struggle",
   "metadata": {},
   "outputs": [],
   "source": [
    "plt.plot(recorder.data)"
   ]
  },
  {
   "cell_type": "code",
   "execution_count": null,
   "id": "bottom-revision",
   "metadata": {},
   "outputs": [],
   "source": []
  }
 ],
 "metadata": {
  "kernelspec": {
   "display_name": "Python 3",
   "language": "python",
   "name": "python3"
  },
  "language_info": {
   "codemirror_mode": {
    "name": "ipython",
    "version": 3
   },
   "file_extension": ".py",
   "mimetype": "text/x-python",
   "name": "python",
   "nbconvert_exporter": "python",
   "pygments_lexer": "ipython3",
   "version": "3.7.8"
  },
  "widgets": {
   "application/vnd.jupyter.widget-state+json": {
    "state": {},
    "version_major": 2,
    "version_minor": 0
   }
  }
 },
 "nbformat": 4,
 "nbformat_minor": 5
}
