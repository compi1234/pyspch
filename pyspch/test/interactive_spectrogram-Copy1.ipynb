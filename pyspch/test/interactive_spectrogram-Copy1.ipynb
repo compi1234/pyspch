{
 "cells": [
  {
   "cell_type": "markdown",
   "metadata": {},
   "source": [
    "<a href=\"https://colab.research.google.com/github/compi1234/pyspch/blob/master/test/spectrogram_test_ly.ipynb\" target=\"_parent\"><img src=\"https://colab.research.google.com/assets/colab-badge.svg\" alt=\"Open In Colab\"/></a>"
   ]
  },
  {
   "cell_type": "markdown",
   "metadata": {},
   "source": [
    "# Spectrogram Plotting with plotly\n",
    "\n",
    "Requirements:   \n",
    "- plotly   \n",
    "- pyspch   "
   ]
  },
  {
   "cell_type": "code",
   "execution_count": null,
   "metadata": {},
   "outputs": [],
   "source": [
    "# You may need to install following packages\n",
    "# !pip install plotly=4.12\n",
    "# !pip install git+https://github.com/compi1234/pyspch.git\n",
    "# !pip install pydub\n",
    "try:\n",
    "  import google.colab\n",
    "  IN_COLAB = True\n",
    "except:\n",
    "  IN_COLAB = False"
   ]
  },
  {
   "cell_type": "code",
   "execution_count": null,
   "metadata": {},
   "outputs": [],
   "source": [
    "import os,sys \n",
    "import numpy as np\n",
    "import pandas as pd\n",
    "from IPython.display import display, Audio, HTML, clear_output\n",
    "import ipywidgets as widgets\n",
    "\n",
    "import plotly \n",
    "import plotly.graph_objects as go\n",
    "from plotly.subplots import make_subplots\n",
    "#\n",
    "import pyspch.spectrogram as specg\n",
    "import pyspch.audio as audio\n",
    "import pyspch.utils as spch\n",
    "import pyspch.display_ly as spch_disp"
   ]
  },
  {
   "cell_type": "code",
   "execution_count": null,
   "metadata": {},
   "outputs": [],
   "source": [
    "print(plotly.__version__)\n",
    "# you may need to set a new default renderer\n",
    "# in Jupyter lab the automatic detection doesn't work flawless\n",
    "# it starts up with 'plotly_mimetype+notebook'\n",
    "import plotly.io as pio\n",
    "#pio.renderers.default='notebook'\n",
    "#pio.renderers.default='jupyterlab'\n",
    "#pio.renderers.default='plotly_mimetype'\n",
    "pio.renderers.default"
   ]
  },
  {
   "cell_type": "code",
   "execution_count": null,
   "metadata": {},
   "outputs": [],
   "source": [
    "# set basename and directories\n",
    "dir='https://homes.esat.kuleuven.be/~spchlab/data/'\n",
    "file = \"timit/si1027\" #@param {type:\"string\"}\n",
    "basename = dir+file\n",
    "wavfname = basename + \".wav\"\n",
    "wrdfname = basename + \".wrd\"\n",
    "phnfname = basename + \".phn\"\n",
    "phone_mapping = \"timit/phones-61-48-39.txt\" #@param {type:\"string\"}\n",
    "\n",
    "# 1. read the waveform data\n",
    "wavdata, sr = audio.load(wavfname)\n",
    "\n",
    "# 2. compute spectrogram\n",
    "f_shift = 0.01\n",
    "spgdata = specg.spectrogram(wavdata,sample_rate=sr,f_shift=f_shift,n_mels=None)\n",
    "(nparam,nfr) = spgdata.shape\n",
    "spg_xaxis = (np.arange(nfr)+0.5)*f_shift\n",
    "spg_yaxis = np.arange(nparam)*sr/(2.*(nparam-1))\n",
    "\n",
    "# 3. get segmentations\n",
    "segwrd = pd.read_csv(wrdfname,delim_whitespace=True,names=['t0','t1','seg'])\n",
    "segphn61 = pd.read_csv(phnfname,delim_whitespace=True,names=['t0','t1','seg'])\n",
    "# convert TIMIT61 to TIMIT39\n",
    "# this routine is not great as it simply maps closures to silence instead to combining\n",
    "phone_tbl = pd.read_csv(dir+phone_mapping,delim_whitespace=True,names=['T61','T48','T39'])\n",
    "map61_48 = dict(zip(phone_tbl['T61'],phone_tbl['T48']))\n",
    "segphn = segphn61.replace({\"seg\": map61_48})\n",
    "# convert TIMIT sample based segmentations to time based segmentations\n",
    "segphn['t0']=specg.indx2t(segphn['t0'],1./sr)\n",
    "segphn['t1']=specg.indx2t(segphn['t1'],1./sr)\n",
    "segwrd['t0']=specg.indx2t(segwrd['t0'],1./sr)\n",
    "segwrd['t1']=specg.indx2t(segwrd['t1'],1./sr)"
   ]
  },
  {
   "cell_type": "markdown",
   "metadata": {},
   "source": [
    "### 1. Elementary Waveform and Heatmap plotting using plotly"
   ]
  },
  {
   "cell_type": "code",
   "execution_count": null,
   "metadata": {},
   "outputs": [],
   "source": [
    "wave_go = go.Scatter(y=wavdata, dx=1./sr,\n",
    "                  showlegend=False,\n",
    "                  hoverinfo=\"x+y\",\n",
    "                 )\n",
    "go.Figure(wave_go).show()"
   ]
  },
  {
   "cell_type": "code",
   "execution_count": null,
   "metadata": {},
   "outputs": [],
   "source": [
    "%%time\n",
    "spg_go = go.Heatmap(z=spgdata,dx=f_shift,x0=f_shift/2.,dy=sr/(2*(nparam-1)),\n",
    "                 colorscale='Jet',\n",
    "                 showscale=False,\n",
    "                 showlegend=False,\n",
    "                 hoverinfo=\"x+y+z\",\n",
    "                 name='Spectrogram',\n",
    "                 text=spgdata)\n",
    "go.Figure(spg_go).show()"
   ]
  },
  {
   "cell_type": "markdown",
   "metadata": {},
   "source": [
    "### 2. A high level API for plotting waveforms, segmentations and spectrograms \n",
    "using pyspch.display_ly.plot_waveform() and pyspch.display_ly.plot_spg()   \n",
    "in their most basic usage, these functions are identical as in pyspch.display (using matplotlib)"
   ]
  },
  {
   "cell_type": "code",
   "execution_count": null,
   "metadata": {},
   "outputs": [],
   "source": [
    "%%time\n",
    "fig = spch_disp.plot_waveform(wavdata, sample_rate=sr)\n",
    "fig.show()"
   ]
  },
  {
   "cell_type": "code",
   "execution_count": null,
   "metadata": {},
   "outputs": [],
   "source": [
    "fig = spch_disp.plot_waveform(wavdata, sample_rate=sr,seg=segwrd,ypos=.85,title=\"Waveform + Transcription\")\n",
    "fig.show()"
   ]
  },
  {
   "cell_type": "code",
   "execution_count": null,
   "metadata": {},
   "outputs": [],
   "source": [
    "spch_disp.add_seg_plot(fig,segphn,ypos=.1,textfont={'color':'black','size':16})\n",
    "fig.update_layout(title=\"Waveform + Transcript + Phone Labels\")\n",
    "#fig = spch_disp.plot_waveform(wavdata, sample_rate=sr,title=\"Waveform + Phone labels\",seg=segphn,ypos=.1)\n",
    "#add word transcription as well\n",
    "#spch_disp.add_seg_plot(fig,segwrd,ypos=.85)\n",
    "display(fig)"
   ]
  },
  {
   "cell_type": "code",
   "execution_count": null,
   "metadata": {},
   "outputs": [],
   "source": [
    "%%time\n",
    "fig = spch_disp.plot_spg(spgdata,wav=wavdata,sample_rate=sr,f_shift=f_shift)\n",
    "fig.show()"
   ]
  },
  {
   "cell_type": "code",
   "execution_count": null,
   "metadata": {},
   "outputs": [],
   "source": [
    "%%time\n",
    "fig = spch_disp.plot_spg(spgdata,wav=wavdata,sample_rate=sr,f_shift=f_shift,segwav=segwrd,segspg=segphn)\n",
    "fig.show()"
   ]
  },
  {
   "cell_type": "markdown",
   "metadata": {},
   "source": [
    "### 3. Interactive Spectrogram with Frame Sliders"
   ]
  },
  {
   "cell_type": "code",
   "execution_count": null,
   "metadata": {},
   "outputs": [],
   "source": [
    "\n",
    "def box_layout():\n",
    "     return widgets.Layout(\n",
    "        border='solid 1px black',\n",
    "        margin='0px 10px 10px 0px',\n",
    "        padding='5px 5px 5px 5px'\n",
    "     )\n",
    "\n",
    "class int_specg(widgets.VBox):\n",
    "    def __init__(self,spg,wavdata,f_shift=0.01,sample_rate=16000,dpi=100):\n",
    "        super().__init__()\n",
    "        (nparam,nfr)=spg.shape\n",
    "        self.sample_rate = sample_rate\n",
    "        self.f_shift = f_shift\n",
    "        self.n_shift = int(f_shift*self.sample_rate)\n",
    "        self.nfr = nfr\n",
    "        self.frames = [0, self.nfr]\n",
    "        self.times = [0., self.nfr*self.f_shift]\n",
    "        self.spg = spg\n",
    "        self.wavdata = wavdata\n",
    "        self.autoplay = False\n",
    "        self.dpi = dpi\n",
    "\n",
    "        self.wg_range = widgets.FloatRangeSlider(value=self.times,min=self.times[0],max=self.times[1],step=self.f_shift,\n",
    "                            description='Time Selection: ',continuous_update=False)\n",
    "        self.wg_range.layout.width = str(6*dpi)+'px'\n",
    "        self.wg_range.observe(self.range_observe,'value')\n",
    "        self.wg_autoplay = widgets.Checkbox(value=self.autoplay,description='Play Selection',indent=False,button_style='warning')\n",
    "        self.wg_autoplay.layout.width=str(2*dpi)+'px'\n",
    "        self.wg_autoplay.observe(self.autoplay_observe, 'value')\n",
    "        \n",
    "        self.out = widgets.Output(layout=box_layout())\n",
    "        self.audio = widgets.Output()\n",
    "        self.UI = widgets.VBox( [self.wg_range, \n",
    "                                 widgets.HBox([self.wg_autoplay,self.audio ]) ],\n",
    "                                 layout=box_layout())\n",
    "        self.children = [ self.out , self.UI ]\n",
    "        \n",
    "        self.fig = spch_disp.plot_spg(self.spg,wav=self.wavdata,sample_rate=self.sample_rate,frames=self.frames,dpi=self.dpi)\n",
    "        self.update(INIT=True)\n",
    "        #self.figinit = self.fig\n",
    "        \n",
    "    def update(self,INIT=False):\n",
    "        if not INIT:\n",
    "            spch_disp.plot_spg(self.spg,fig=self.fig,wav=self.wavdata,sample_rate=self.sample_rate,\n",
    "                       frames=self.frames)\n",
    "        with self.out:\n",
    "            #print(\"Should be displaying\")\n",
    "            clear_output(wait=True)\n",
    "            #self.fig.show()\n",
    "            display(self.fig)\n",
    "        with self.audio:\n",
    "            clear_output(wait=True)\n",
    "            sample_range = [int(self.times[0]*self.sample_rate),int(self.times[1]*self.sample_rate)]\n",
    "            display(Audio(data=self.wavdata[sample_range[0]:sample_range[1]],rate=self.sample_rate,autoplay=self.autoplay))\n",
    "            \n",
    "    def range_observe(self,change):\n",
    "        self.times = change.new\n",
    "        self.frames = [int(self.times[0]/self.f_shift), int(self.times[1]/self.f_shift)]\n",
    "        self.update()\n",
    "    def autoplay_observe(self,obj):\n",
    "        self.autoplay = not self.autoplay\n",
    "    "
   ]
  },
  {
   "cell_type": "code",
   "execution_count": null,
   "metadata": {},
   "outputs": [],
   "source": [
    "int_specg(spgdata,wavdata,sample_rate=sr,dpi=72)"
   ]
  },
  {
   "cell_type": "markdown",
   "metadata": {},
   "source": [
    "# JUNK - DEV - WORK"
   ]
  },
  {
   "cell_type": "markdown",
   "metadata": {},
   "source": [
    "Comments on the plotly framework\n",
    "\n",
    "1. Generate the subplot framework\n",
    "    - make a cellgrid with a specified number of (rows,cols)   \n",
    "    - You can span single subplots over a range of cells   \n",
    "2. Add traces   \n",
    "    - refer to cells in the grid (counting starts at 1 !!!!)\n",
    "    - when using a plot over multiple cells, give position (TOP,LEFT) \n",
    "    - For adding layout features: refer to the row + col number of the plot ..   \n",
    "\n",
    "Known Limitations: \n",
    "- no event listener to get the rangeslider boundaries. e.g. for selective audio play\n",
    "- subplots: some layout features, such as background color, can not be controlled at the subplot level"
   ]
  },
  {
   "cell_type": "markdown",
   "metadata": {},
   "source": [
    "### Rangeslider\n",
    "Adding a Rangeslider is interesting in many situations.  However, it is not without shortcomings and errors in operation"
   ]
  },
  {
   "cell_type": "code",
   "execution_count": null,
   "metadata": {},
   "outputs": [],
   "source": [
    "%%time\n",
    "Rangeslider=True\n",
    "fig = spch_disp.plot_spg(spgdata,wav=wavdata,sample_rate=sr,f_shift=f_shift,segwav=segwrd,segspg=segphn)\n",
    "if(Rangeslider):\n",
    "    fig['layout']['xaxis'].update(title='Time(sec)',\n",
    "                               type='linear',\n",
    "                               rangeslider=dict(visible=True,borderwidth=2,bgcolor=\"#bbb\"), \n",
    "                               showgrid=False)\n",
    "fig.show()"
   ]
  },
  {
   "cell_type": "code",
   "execution_count": null,
   "metadata": {},
   "outputs": [],
   "source": [
    "fig = make_subplots(rows=3, cols=1, row_heights=[.3,.6,.1],\n",
    "                   shared_xaxes=True,\n",
    "                   vertical_spacing=0.02,\n",
    "                   start_cell='bottom-left')\n",
    "fig.update_xaxes(showgrid=False,range=[wavtime[0],wavtime[nsamples-1]])\n",
    "fig.update_yaxes(showgrid=False,fixedrange=True,zeroline=False)\n",
    "\n",
    "\n",
    "fig.add_trace(wave_go,1,1)\n",
    "fig.add_trace(segwrd_go1,1,1)\n",
    "fig.update_yaxes(row=1,title_text='Amplitude',range=[-wavrange,wavrange],zeroline=True)\n",
    "for iseg in range(0,len(segwrd)):\n",
    "    fig.add_vline(row=1,x=segwrd['t0'][iseg], line_dash='dash',line_color='blue')\n",
    "    fig.add_vline(row=1,x=segwrd['t1'][iseg], line_dash='dot',line_color='blue')\n",
    "    \n",
    "fig.add_trace(spg_go,2,1)\n",
    "fig.update_yaxes(row=2,title_text='Frequency(hz)')\n",
    "\n",
    "fig.add_trace(segphn_go1,3,1)\n",
    "fig.update_yaxes(row=3,showticklabels=False)\n",
    "for iseg in range(0,len(segphn)):\n",
    "    fig.add_vline(row=3,x=segphn['t0'][iseg], line_dash='dash',line_color='black')\n",
    "    fig.add_vline(row=3,x=segphn['t1'][iseg], line_dash='dot',line_color='black')\n",
    "    \n",
    "fig.update_layout(height=800,width=1000,title_text=\"Waveform + Spectrogram + Segmentation\",selectdirection=\"h\",plot_bgcolor=\"#f0ffff\")\n",
    "#fig['layout'].update(selectdirection=\"h\",plot_bgcolor=\"#f0ffff\")\n",
    "fig['layout']['yaxis'].update(fixedrange=True,type='linear')\n",
    "fig['layout']['xaxis2'].update(title='Time(sec)',\n",
    "                               type='linear',\n",
    "                               rangeslider=dict(visible=True,borderwidth=2,bgcolor=\"#bbb\",range=[wavtime[0],wavtime[nsamples-1]]), \n",
    "                               showgrid=False)\n",
    "fig.show()\n",
    "display(Audio(data=wavdata,rate=sr))\n",
    "\n"
   ]
  },
  {
   "cell_type": "code",
   "execution_count": null,
   "metadata": {},
   "outputs": [],
   "source": [
    "fig['layout']['yaxis2'].range"
   ]
  },
  {
   "cell_type": "code",
   "execution_count": null,
   "metadata": {},
   "outputs": [],
   "source": [
    "fig.update_xaxes(showgrid=False,range=[wavtime[0],wavtime[nsamples-1]])\n",
    "fig.update_yaxes(showgrid=False,fixedrange=True,zeroline=False)\n",
    "\n",
    "\n",
    "fig.add_trace(wave_go,1,1)\n",
    "fig.add_trace(segwrd_go1,1,1)\n",
    "fig.update_yaxes(row=1,title_text='Amplitude',range=[-wavrange,wavrange],zeroline=True)\n",
    "for iseg in range(0,len(segwrd)):\n",
    "    fig.add_vline(row=1,x=segwrd['t0'][iseg], line_dash='dash',line_color='blue')\n",
    "    fig.add_vline(row=1,x=segwrd['t1'][iseg], line_dash='dot',line_color='blue')\n",
    "    \n",
    "fig.add_trace(spg_go,2,1)\n",
    "fig.update_yaxes(row=2,title_text='Frequency(hz)')\n",
    "\n",
    "fig.add_trace(segphn_go1,3,1)\n",
    "fig.update_yaxes(row=3,showticklabels=False)\n",
    "for iseg in range(0,len(segphn)):\n",
    "    fig.add_vline(row=3,x=segphn['t0'][iseg], line_dash='dash',line_color='black')\n",
    "    fig.add_vline(row=3,x=segphn['t1'][iseg], line_dash='dot',line_color='black')\n",
    "    \n",
    "fig.update_layout(height=800,width=1000,title_text=\"Waveform + Spectrogram + Segmentation\",selectdirection=\"h\",plot_bgcolor=\"#f0ffff\")\n",
    "#fig['layout'].update(selectdirection=\"h\",plot_bgcolor=\"#f0ffff\")\n",
    "fig['layout']['yaxis'].update(fixedrange=True,type='linear')\n",
    "fig['layout']['xaxis'].update(title='Time(sec)',\n",
    "                               type='linear',\n",
    "                               rangeslider=dict(visible=True,borderwidth=2,bgcolor=\"#bbb\",range=[wavtime[0],wavtime[nsamples-1]]), \n",
    "                               showgrid=False)\n",
    "fig.show()\n",
    "display(Audio(data=wavdata,rate=sr))"
   ]
  },
  {
   "cell_type": "code",
   "execution_count": null,
   "metadata": {},
   "outputs": [],
   "source": [
    "fig.layout.width=500"
   ]
  },
  {
   "cell_type": "code",
   "execution_count": null,
   "metadata": {},
   "outputs": [],
   "source": []
  },
  {
   "cell_type": "code",
   "execution_count": null,
   "metadata": {},
   "outputs": [],
   "source": [
    "pio.renderers"
   ]
  },
  {
   "cell_type": "code",
   "execution_count": null,
   "metadata": {},
   "outputs": [],
   "source": [
    "import plotly.io as pio\n",
    "pio.renderers.default='jupyterlab'"
   ]
  },
  {
   "cell_type": "code",
   "execution_count": null,
   "metadata": {},
   "outputs": [],
   "source": [
    "xxx=[1.,2,.3]\n",
    "xxx[0],xxx[-1]"
   ]
  },
  {
   "cell_type": "code",
   "execution_count": null,
   "metadata": {},
   "outputs": [],
   "source": []
  }
 ],
 "metadata": {
  "kernelspec": {
   "display_name": "Python 3",
   "language": "python",
   "name": "python3"
  },
  "language_info": {
   "codemirror_mode": {
    "name": "ipython",
    "version": 3
   },
   "file_extension": ".py",
   "mimetype": "text/x-python",
   "name": "python",
   "nbconvert_exporter": "python",
   "pygments_lexer": "ipython3",
   "version": "3.7.8"
  },
  "widgets": {
   "application/vnd.jupyter.widget-state+json": {
    "state": {},
    "version_major": 2,
    "version_minor": 0
   }
  }
 },
 "nbformat": 4,
 "nbformat_minor": 4
}
