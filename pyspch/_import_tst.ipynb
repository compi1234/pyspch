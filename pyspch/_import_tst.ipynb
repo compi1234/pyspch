{
 "cells": [
  {
   "cell_type": "markdown",
   "metadata": {},
   "source": [
    "# Testing Import functionalities"
   ]
  },
  {
   "cell_type": "markdown",
   "metadata": {},
   "source": [
    "Changes in import strategy\n",
    "- defined a few subpackages\n",
    "- now fully imports subpackage automatically\n",
    "\n",
    "Name Changes\n",
    "- spg-module -> sp-module\n",
    "\n",
    "Default naming\n",
    "io -> Spio\n",
    "utils -> Spu\n",
    "display -> Spd\n",
    "sp -> Sps\n"
   ]
  },
  {
   "cell_type": "code",
   "execution_count": 1,
   "metadata": {},
   "outputs": [],
   "source": [
    "# Do the imports #\n",
    "##################\n",
    "#\n",
    "%matplotlib inline\n",
    "import os,sys \n",
    "import numpy as np\n",
    "import pandas as pd\n",
    "from IPython.display import display, Audio, HTML, clear_output\n",
    "import ipywidgets as widgets\n",
    "from ipywidgets import Box, HBox, VBox, Layout,interactive\n",
    "#\n",
    "\n",
    "import matplotlib.pyplot as plt\n",
    "import matplotlib as mpl\n",
    "import librosa"
   ]
  },
  {
   "cell_type": "code",
   "execution_count": 2,
   "metadata": {},
   "outputs": [
    {
     "name": "stdout",
     "output_type": "stream",
     "text": [
      "Help on function PlotWaveform in module pyspch.display.display:\n",
      "\n",
      "PlotWaveform(waveform, sample_rate=8000, title=None, seg=None, ypos=0.8, xlabel='Time(sec)', ylabel=None, xticks=True, yticks=True, **kwargs)\n",
      "    Multichannel waveform plotting\n",
      "\n"
     ]
    }
   ],
   "source": [
    "import pyspch.display as Spd\n",
    "help(Spd.PlotWaveform)\n",
    "#help(Spd.SpchFig)"
   ]
  },
  {
   "cell_type": "code",
   "execution_count": 3,
   "metadata": {},
   "outputs": [
    {
     "name": "stdout",
     "output_type": "stream",
     "text": [
      "Help on function cepstrum in module pyspch.sp.feature:\n",
      "\n",
      "cepstrum(spg, ncep=13)\n",
      "    # returns the non truncated cepstrum if ncep is None, otherwise the truncated cepstrum\n",
      "\n"
     ]
    }
   ],
   "source": [
    "import pyspch.sp as Sps\n",
    "help(Sps.cepstrum)"
   ]
  },
  {
   "cell_type": "code",
   "execution_count": 4,
   "metadata": {},
   "outputs": [],
   "source": [
    "import  pyspch.utils as Spu"
   ]
  },
  {
   "cell_type": "code",
   "execution_count": 5,
   "metadata": {},
   "outputs": [
    {
     "data": {
      "text/plain": [
       "1e-39"
      ]
     },
     "execution_count": 5,
     "metadata": {},
     "output_type": "execute_result"
    }
   ],
   "source": [
    "#from pyspch.utils.constants import *\n",
    "Spu.EPS_FLOAT"
   ]
  },
  {
   "cell_type": "raw",
   "metadata": {},
   "source": [
    "from pyspch import libhmm "
   ]
  },
  {
   "cell_type": "code",
   "execution_count": 6,
   "metadata": {},
   "outputs": [],
   "source": [
    "#from utils.constants import *\n",
    "#EPS_FLOAT"
   ]
  },
  {
   "cell_type": "code",
   "execution_count": null,
   "metadata": {},
   "outputs": [],
   "source": []
  },
  {
   "cell_type": "code",
   "execution_count": 8,
   "metadata": {},
   "outputs": [
    {
     "name": "stdout",
     "output_type": "stream",
     "text": [
      "Help on module mymodule1:\n",
      "\n",
      "NAME\n",
      "    mymodule1\n",
      "\n",
      "FUNCTIONS\n",
      "    print47()\n",
      "\n",
      "DATA\n",
      "    EPS_FLOAT = 1e-39\n",
      "    EPS_LOG = -89.801\n",
      "    EPS_LOG10 = -39.0\n",
      "    LOG10 = 2.302585092994046\n",
      "    PROB_FLOOR = 2.302585092994046\n",
      "    SIGEPS_DB = -69.23689\n",
      "    SIGEPS_FLOAT = 1.1920929e-07\n",
      "\n",
      "FILE\n",
      "    c:\\users\\compi\\nextcloud\\github\\pyspch\\pyspch\\mymodule1.py\n",
      "\n",
      "\n",
      "2.302585092994046\n"
     ]
    }
   ],
   "source": [
    "import mymodule1 as mm1\n",
    "help(mm1)\n",
    "mm1.print47()"
   ]
  },
  {
   "cell_type": "code",
   "execution_count": 9,
   "metadata": {},
   "outputs": [
    {
     "data": {
      "text/plain": [
       "2.302585092994046"
      ]
     },
     "execution_count": 9,
     "metadata": {},
     "output_type": "execute_result"
    }
   ],
   "source": [
    "#from utils.constants import *\n",
    "mm1.LOG10"
   ]
  },
  {
   "cell_type": "code",
   "execution_count": 11,
   "metadata": {},
   "outputs": [
    {
     "name": "stdout",
     "output_type": "stream",
     "text": [
      "Help on module libhmm:\n",
      "\n",
      "NAME\n",
      "    libhmm\n",
      "\n",
      "DESCRIPTION\n",
      "    The modules in `libhmm.py` contain a basic implementation of hidden Markov models\n",
      "    The main purpose is didactic demonstrations of (very) small systems \n",
      "    with applications such as speech recognition in mind. \n",
      "    Efficiency of the code is not a major concern\n",
      "    \n",
      "    Author: Dirk Van Compernolle\n",
      "    Modification History:\n",
      "    12/12/2018 Created\n",
      "    11/02/2019 All list-like objects (states, labels, end_states, ... ) are now uniformly numpy arrays allowing for list indexing\n",
      "    14/11/2019: changed 'backtrace' to 'alignment'\n",
      "    19/11/2019: added routine backtrack() to class Trellis\n",
      "    22/11/2021: \n",
      "        The observation probabilities are now  computed by \"an observation model\" that is completely discoupled from the HMM \n",
      "        thus collapsing to a single HMM class and eliminating the different styles\n",
      "        \n",
      "        The observation model should support at least two method:\n",
      "        obs_model.predict_log_prob(X):    computes log likelihoods for feature vector(s) X\n",
      "        obs_model.predict_prob(X):        computes likelihoods for feature vector(s) X\n",
      "    \n",
      "    11/01/2022:\n",
      "        changed format of printing sequence probability to .2e\n",
      "        changed buffer initialization in viterbi_recursion to -np.inf for log probs\n",
      "        added .fillna(\"\") to printing of  probs and obs_probs  dataframes\n",
      "\n",
      "CLASSES\n",
      "    builtins.object\n",
      "        HMM\n",
      "        Obs_Dummy\n",
      "        Trellis\n",
      "    \n",
      "    class HMM(builtins.object)\n",
      "     |  HMM(n_states=1, transmat=None, initmat=None, states=None, end_states=None, obs_model=None, prob_style='lin', prob_floor=1e-39)\n",
      "     |  \n",
      "     |  The HMM() class is the generic class for HMM models\n",
      "     |  \n",
      "     |  Attributes common to ALL instantiations of  HMM()\n",
      "     |  ======================================================\n",
      "     |  \n",
      "     |  n_states  : int\n",
      "     |      Number of states\n",
      "     |  transmat  : array, shape (from_states, to_states)\n",
      "     |      Transition Probability Matrix between states, indexed \n",
      "     |      (from_state,to_state)\n",
      "     |  initmat :   array, shape (n_states, )\n",
      "     |      Initial probability distribution over the states.\n",
      "     |  states :    array, shape(n_states, )\n",
      "     |      Names for states\n",
      "     |      \n",
      "     |  prob_style : string, \"lin\", \"log\" or \"log10\"  (some backwards compatibility for \"prob\" and \"logprob\")\n",
      "     |      Do computations with probabilities or log-probabilities   \n",
      "     |  prob_floor: probability flooring, set by default to PROB_FLOOR\n",
      "     |      flooring is used when converting to logprobs\n",
      "     |  \n",
      "     |  Variables associated with an HMM \n",
      "     |  ================================\n",
      "     |  \n",
      "     |  X         : array, shape(n_samples, n_features)\n",
      "     |      Feature Vector\n",
      "     |      \n",
      "     |  obs_probs : array, shape(n_samples, n_states)\n",
      "     |      Observation Probabilities\n",
      "     |  \n",
      "     |  \n",
      "     |  Methods \n",
      "     |  =======\n",
      "     |  \n",
      "     |  init_topology()\n",
      "     |      initializes the state diagram\n",
      "     |      \n",
      "     |  set_probstyle()\n",
      "     |      allows for switching between prob's and logprob's for computations\n",
      "     |  \n",
      "     |  viterbi_step()\n",
      "     |      compute a single time step in a Trellis based Viterbi recursion\n",
      "     |      \n",
      "     |  print_model()\n",
      "     |      pretty prints HMM transition and observation model parameters\n",
      "     |  \n",
      "     |  ==========\n",
      "     |  \n",
      "     |  Methods defined here:\n",
      "     |  \n",
      "     |  __init__(self, n_states=1, transmat=None, initmat=None, states=None, end_states=None, obs_model=None, prob_style='lin', prob_floor=1e-39)\n",
      "     |      Initialize self.  See help(type(self)) for accurate signature.\n",
      "     |  \n",
      "     |  init_topology(self, type='lr', selfprob=0.5)\n",
      "     |  \n",
      "     |  observation_prob(self, X)\n",
      "     |      compute the observation probability for a feature vector\n",
      "     |      X can be of size (n_samples,n_features) or (n_features,) or (n_samples,)\n",
      "     |      \n",
      "     |      The result will ALWAYS be (n_samples,n_classes) !!!\n",
      "     |  \n",
      "     |  print_model(self)\n",
      "     |  \n",
      "     |  set_probstyle(self, prob_style)\n",
      "     |  \n",
      "     |  viterbi_recursion(self, X, prev_buffer)\n",
      "     |      Viterbi Processing over one single frame\n",
      "     |          internal loop for any Viterbi style decoder\n",
      "     |      \n",
      "     |      Paramters:\n",
      "     |      ----------\n",
      "     |      X :              shape(n_states,)   probabilities of single observation\n",
      "     |      prev_buffer :    shape(n_states,)     current Viterbi buffer \n",
      "     |      \n",
      "     |      Returns:\n",
      "     |      --------\n",
      "     |      buffer :         shape(n_states,)     updated Viterbi buffer\n",
      "     |      backptr :        shape(n_sates,)      backpointers for current frame\n",
      "     |  \n",
      "     |  ----------------------------------------------------------------------\n",
      "     |  Data descriptors defined here:\n",
      "     |  \n",
      "     |  __dict__\n",
      "     |      dictionary for instance variables (if defined)\n",
      "     |  \n",
      "     |  __weakref__\n",
      "     |      list of weak references to the object (if defined)\n",
      "    \n",
      "    class Obs_Dummy(builtins.object)\n",
      "     |  A dummy =feed through= observation model, assuming (linear) probs in the model\n",
      "     |  methods:\n",
      "     |  \n",
      "     |  Methods defined here:\n",
      "     |  \n",
      "     |  __init__(self)\n",
      "     |      Initialize self.  See help(type(self)) for accurate signature.\n",
      "     |  \n",
      "     |  predict_log_prob(self, X)\n",
      "     |      # log-likelihood\n",
      "     |  \n",
      "     |  predict_prob(self, X)\n",
      "     |      # likelihood\n",
      "     |  \n",
      "     |  ----------------------------------------------------------------------\n",
      "     |  Data descriptors defined here:\n",
      "     |  \n",
      "     |  __dict__\n",
      "     |      dictionary for instance variables (if defined)\n",
      "     |  \n",
      "     |  __weakref__\n",
      "     |      list of weak references to the object (if defined)\n",
      "    \n",
      "    class Trellis(builtins.object)\n",
      "     |  Trellis(hmm, style='Viterbi', Normalize=False)\n",
      "     |  \n",
      "     |  The Trellis calls is a generic container class for a trellis and computations related to the trellis\n",
      "     |  \n",
      "     |  All objects of the same size of trellis (probs, obs_probs, backptrs) \n",
      "     |  have the shape (n_samples,n_states), thus rows are added with each sample  (as in typical dataframes)\n",
      "     |  To print/plot all these arrays are transposed\n",
      "     |  \n",
      "     |  Many of the attributes are dynamic (they grow as the trellis grows) and are optional (they are available \n",
      "     |  depending on the methods that have been run)\n",
      "     |  Hence there can only be a limited amount of consistency checking and\n",
      "     |  keeping everything consistent is left to the responsibility of the user.\n",
      "     |  \n",
      "     |  Attributes of a trellis are:\n",
      "     |  ============================\n",
      "     |      hmm             reference to hmm used to compute the trellis (required)\n",
      "     |                      all attributes from the hmm are inherited by the trellis\n",
      "     |      \n",
      "     |      probs           trellis cell values   array, shape(n_samples,n_states), dtype='float64'\n",
      "     |      obs_probs       obs. probs of frames  array, shape(n_samples,n_states), dtype='float64'\n",
      "     |      backptrs        back pointers         array, shape(n_samples,n_states), dtype='int'\n",
      "     |      alignment       Viterbi Alignment     array, shape(n_samples,), dtype='int'\n",
      "     |      observations    processed observatons array, shape(n_samples,) or (n_samples,n_features)\n",
      "     |      style           method applied        Viterbi (default), Forward (NIY)\n",
      "     |      Normalize       column normalization  Boolean (default=False)\n",
      "     |  \n",
      "     |      scale_vec       suggested scaling value per sample        float(n_samples)\n",
      "     |      end_state       best admissible end state\n",
      "     |      seq_prob        sequence probability in end_state\n",
      "     |  \n",
      "     |  Methods defined here:\n",
      "     |  \n",
      "     |  __init__(self, hmm, style='Viterbi', Normalize=False)\n",
      "     |      create and initialize trellis with reference to existing hmm\n",
      "     |      process first observation\n",
      "     |  \n",
      "     |  backtrace(self, end_state=None)\n",
      "     |  \n",
      "     |  col_norm(self, col)\n",
      "     |      optional column normalization in a trellis\n",
      "     |      with update of global scaling\n",
      "     |  \n",
      "     |  finalize(self, end_states=None)\n",
      "     |      find sequence probability, subjective to admissible end states\n",
      "     |  \n",
      "     |  forward_pass(self, X)\n",
      "     |      this routine takes a SEQUENCE of OBSERVATIONS as argument\n",
      "     |  \n",
      "     |  forward_step(self, X)\n",
      "     |      this routine takes EXACTLY ONE observation as argument\n",
      "     |  \n",
      "     |  observation_step(self, X)\n",
      "     |      go to the observation model to compute b(X) of single frame\n",
      "     |  \n",
      "     |  plot_trellis(self, xticks=None, yticks=None, cmap=None, cmapf=None, vmin=-10.0, vmax=0.0, fmt='.3f', fontsize=12, fontsize_backptrs=10, figsize=None, plot_obs_probs=False, plot_norm=False, plot_values=True, plot_backptrs=False, plot_alignment=False)\n",
      "     |      plot_trellis(): trellis plot with multiple single axis plots\n",
      "     |          observation probabilities are optionally added to the xticks\n",
      "     |  \n",
      "     |  print_trellis(self, what='all', X=None, Titles=True)\n",
      "     |  \n",
      "     |  step0(self, obs_probs)\n",
      "     |  \n",
      "     |  viterbi_pass(self, X)\n",
      "     |      X must be of dimension (s_samples,n_features)\n",
      "     |  \n",
      "     |  viterbi_step(self, X)\n",
      "     |      this routine takes EXACTLY ONE observation as argument\n",
      "     |      and should have dimensions (n_features,)\n",
      "     |  \n",
      "     |  ----------------------------------------------------------------------\n",
      "     |  Data descriptors defined here:\n",
      "     |  \n",
      "     |  __dict__\n",
      "     |      dictionary for instance variables (if defined)\n",
      "     |  \n",
      "     |  __weakref__\n",
      "     |      list of weak references to the object (if defined)\n",
      "\n",
      "FUNCTIONS\n",
      "    ceil(x, /)\n",
      "        Return the ceiling of x as an Integral.\n",
      "        \n",
      "        This is the smallest integer >= x.\n",
      "    \n",
      "    pow(x, y, /)\n",
      "        Return x**y (x to the power of y).\n",
      "\n",
      "DATA\n",
      "    EPS_FLOAT = 1e-39\n",
      "    EPS_LOG = -89.801\n",
      "    EPS_LOG10 = -39.0\n",
      "    LOG10 = 2.302585092994046\n",
      "    PROB_FLOOR = 1e-39\n",
      "    SIGEPS_DB = -69.23689\n",
      "    SIGEPS_FLOAT = 1.1920929e-07\n",
      "\n",
      "FILE\n",
      "    c:\\users\\compi\\nextcloud\\github\\pyspch\\pyspch\\libhmm.py\n",
      "\n",
      "\n"
     ]
    }
   ],
   "source": [
    "import libhmm\n",
    "help(libhmm)"
   ]
  },
  {
   "cell_type": "code",
   "execution_count": null,
   "metadata": {},
   "outputs": [],
   "source": []
  }
 ],
 "metadata": {
  "kernelspec": {
   "display_name": "Python 3",
   "language": "python",
   "name": "python3"
  },
  "language_info": {
   "codemirror_mode": {
    "name": "ipython",
    "version": 3
   },
   "file_extension": ".py",
   "mimetype": "text/x-python",
   "name": "python",
   "nbconvert_exporter": "python",
   "pygments_lexer": "ipython3",
   "version": "3.7.8"
  },
  "widgets": {
   "application/vnd.jupyter.widget-state+json": {
    "state": {},
    "version_major": 2,
    "version_minor": 0
   }
  }
 },
 "nbformat": 4,
 "nbformat_minor": 4
}
