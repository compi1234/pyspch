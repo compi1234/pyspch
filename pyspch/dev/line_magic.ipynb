{
 "cells": [
  {
   "cell_type": "code",
   "execution_count": 1,
   "metadata": {},
   "outputs": [],
   "source": [
    "# EXAMPLE OF HOW TO DEFINE A LINE MAGIC"
   ]
  },
  {
   "cell_type": "code",
   "execution_count": 2,
   "metadata": {},
   "outputs": [],
   "source": [
    "from IPython.core.magic import (register_line_magic, register_cell_magic,\n",
    "                                register_line_cell_magic)\n",
    "import os\n",
    "@register_line_magic\n",
    "def pyspch_plt(line):\n",
    "    if(line == 'mpl'): \n",
    "        os.environ['PYSPCH_BACKEND'] = 'mpl'\n",
    "    elif(line == 'plotly'): \n",
    "        os.environ['PYSPCH_BACKEND'] = 'plotly'\n",
    "\n",
    "        # you may need to set a new default renderer\n",
    "        # in Jupyter lab the automatic detection doesn't work flawless\n",
    "        # it starts up with 'plotly_mimetype+notebook'\n",
    "        import plotly\n",
    "        import plotly.io as pio\n",
    "        #pio.renderers.default='notebook'\n",
    "        #pio.renderers.default='jupyterlab'\n",
    "        pio.renderers.default='plotly_mimetype'\n",
    "        print(\"plotly: \",plotly.__version__,pio.renderers.default)\n",
    "    else:\n",
    "        \"plotting option not supported, using default 'mpl'\"\n",
    "        os.environ['PYSPCH_BACKEND'] = 'mpl'\n",
    "    print(f\"Using {os.environ['PYSPCH_BACKEND']} as pyspch plotting backend \")\n",
    "    \n"
   ]
  },
  {
   "cell_type": "code",
   "execution_count": 3,
   "metadata": {},
   "outputs": [
    {
     "name": "stdout",
     "output_type": "stream",
     "text": [
      "plotly:  4.12.0 plotly_mimetype\n",
      "Using plotly as pyspch plotting backend \n"
     ]
    }
   ],
   "source": [
    "%pyspch_plt plotly"
   ]
  }
 ],
 "metadata": {
  "kernelspec": {
   "display_name": "Python 3",
   "language": "python",
   "name": "python3"
  },
  "language_info": {
   "codemirror_mode": {
    "name": "ipython",
    "version": 3
   },
   "file_extension": ".py",
   "mimetype": "text/x-python",
   "name": "python",
   "nbconvert_exporter": "python",
   "pygments_lexer": "ipython3",
   "version": "3.7.8"
  },
  "widgets": {
   "application/vnd.jupyter.widget-state+json": {
    "state": {},
    "version_major": 2,
    "version_minor": 0
   }
  }
 },
 "nbformat": 4,
 "nbformat_minor": 4
}
