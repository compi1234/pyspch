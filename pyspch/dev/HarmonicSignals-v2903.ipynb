{
 "cells": [
  {
   "cell_type": "markdown",
   "metadata": {},
   "source": [
    "# Harmonic Signals\n",
    "### Observe waveform and spectrum or spectrogram \n",
    "### Control frequency and amplitude of a sine - square - sawtooth signal\n",
    "\n",
    "Author: Dirk Van Compernolle   \n",
    "Created: 29/03/2021\n",
    "\n",
    "---------------------------------------------------------\n",
    "Dependencies: \n",
    "- IPython > 6.0       (works with lower version, but not fully)\n",
    "- ipywidget\n",
    "- matplotlib\n",
    "- numpy \n",
    "- scipy \n",
    "- librosa"
   ]
  },
  {
   "cell_type": "code",
   "execution_count": 1,
   "metadata": {},
   "outputs": [
    {
     "data": {
      "text/html": [
       "\n",
       "<style>\n",
       "    div#notebook-container    { width: 99%; }\n",
       "    div#menubar-container     { width: 65%; }\n",
       "    div#maintoolbar-container { width: 99%; }\n",
       "</style>\n"
      ],
      "text/plain": [
       "<IPython.core.display.HTML object>"
      ]
     },
     "metadata": {},
     "output_type": "display_data"
    }
   ],
   "source": [
    "%matplotlib inline\n",
    "import ipywidgets as widgets\n",
    "from ipywidgets import interact, interact_manual, interactive, interactive_output\n",
    "import numpy as np\n",
    "import matplotlib.pyplot as plt\n",
    "import matplotlib\n",
    "from scipy import signal\n",
    "from IPython.display import display, clear_output, Audio, HTML\n",
    "import time\n",
    "import librosa\n",
    "\n",
    "def my_sine(x, w, amp, phi):\n",
    "    return amp*np.sin(w * (x-phi))\n",
    "#\n",
    "def synth(sigtype='sin', freq=200.0, amp=1.0, samplerate=8000, Tmax=0.25):\n",
    "    t = np.linspace(0.0, Tmax, int(Tmax*samplerate), endpoint=False)\n",
    "    if sigtype == 'sin':\n",
    "        x = np.sin(2.0*np.pi*freq*t)\n",
    "    elif sigtype == 'square':\n",
    "        x = signal.square(2.0*np.pi*freq*t)\n",
    "    elif sigtype == 'sawtooth':\n",
    "        x = signal.sawtooth(2.0*np.pi*freq*t)\n",
    "    else:\n",
    "        print( 'signal: Unrecognized signal type')\n",
    "    return amp*x, t\n",
    "\n",
    "def spectrogram(x,samplerate=8000,length=30.0,shift=10.0):\n",
    "    hop_length = int(samplerate*shift/1000.)\n",
    "    win_length = int(samplerate*length/1000.)\n",
    "    spg_stft = librosa.stft(x,n_fft=512,hop_length=hop_length,win_length=win_length)\n",
    "    return( librosa.power_to_db(np.abs(spg_stft)**2) )\n",
    "\n",
    "# a default boxed layout\n",
    "def box_layout():\n",
    "     return widgets.Layout(\n",
    "        border='solid 1px black',\n",
    "        margin='0px 10px 10px 0px',\n",
    "        padding='5px 5px 5px 5px'\n",
    "     )\n",
    "\n",
    "# The following code will increase the default width of your Jupyter notebook cells\n",
    "# Supposed to work well \n",
    "display(HTML(data=\"\"\"\n",
    "<style>\n",
    "    div#notebook-container    { width: 99%; }\n",
    "    div#menubar-container     { width: 65%; }\n",
    "    div#maintoolbar-container { width: 99%; }\n",
    "</style>\n",
    "\"\"\"))"
   ]
  },
  {
   "cell_type": "markdown",
   "metadata": {},
   "source": [
    "## DEMO 1: Waveform and Spectrum of Harmonic Signals\n",
    "\n",
    "CAVEAT:   \n",
    "+ The Autodisplay function does not work perfectly on Ipython < 6.0 [Google Colab] which has autonormalization by default in the display.Audio() function"
   ]
  },
  {
   "cell_type": "code",
   "execution_count": 7,
   "metadata": {},
   "outputs": [
    {
     "data": {
      "application/vnd.jupyter.widget-view+json": {
       "model_id": "65579e7f70d647bebc412c81e5bb2c7c",
       "version_major": 2,
       "version_minor": 0
      },
      "text/plain": [
       "Harmonic_Signals(children=(Output(layout=Layout(border='solid 1px black', margin='0px 10px 10px 0px', padding=…"
      ]
     },
     "metadata": {},
     "output_type": "display_data"
    }
   ],
   "source": [
    "class Harmonic_Signals(widgets.HBox):\n",
    "\n",
    "    def __init__(self):\n",
    "        super().__init__()\n",
    "        \n",
    "        self.samplerate = 16000\n",
    "        self.Tmax = .25        \n",
    "        display_types = ['spectrum','spectrogram']\n",
    "        signal_types = [ 'sin', 'square', 'sawtooth' ]\n",
    "        \n",
    "        self.disptype = 'spectrum'\n",
    "        self.sigtype = 'sin'\n",
    "        self.freq = 440.\n",
    "        self.amp = 1.\n",
    "        self.autoplay = False\n",
    "\n",
    "        # create the widgets\n",
    "        self.wg_disptype = widgets.Dropdown(options=display_types,value=self.disptype,description=\"Display\")\n",
    "        self.wg_sigtype = widgets.Dropdown(options=signal_types,value=self.sigtype,description=\"Signal\")\n",
    "        self.wg_amp = widgets.FloatLogSlider(value=self.amp,step=0.2,min=-2.,max=0.0,description='Amplitude',continous_update=False)\n",
    "        self.wg_freq = widgets.FloatSlider(value=self.freq,step=10.,min=50.0,max=1000.,description='Frequency',continous_update=False)\n",
    "        self.wg_autoplay = widgets.Checkbox(value=self.autoplay,description='Autoplay Audio',indent=False,button_style='warning')\n",
    "        self.wg_autoplay.layout.width='45%'\n",
    "        self.wg_clear_log = widgets.Button(description='Clear the log')\n",
    "        self.wg_clear_log.layout.width='45%'\n",
    "        \n",
    "        # link to the widget observers\n",
    "        self.wg_disptype.observe(self.disptype_observe,'value')\n",
    "        self.wg_sigtype.observe(self.sigtype_observe,'value')\n",
    "        self.wg_amp.observe(self.amp_observe,'value')    \n",
    "        self.wg_freq.observe(self.freq_observe,'value')\n",
    "        self.wg_autoplay.observe(self.autoplay_clicked, 'value')\n",
    "        self.wg_clear_log.on_click(self.clear_log_clicked)\n",
    "\n",
    "        # setup the outputs \n",
    "        self.audio = widgets.Output()\n",
    "        self.logscr = widgets.Output()\n",
    "        self.out = widgets.Output(layout=box_layout())\n",
    "        self.UI = widgets.VBox( [self.wg_disptype,self.wg_sigtype, self.wg_amp, self.wg_freq, widgets.HBox([self.wg_autoplay, self.wg_clear_log])] ,layout=box_layout())\n",
    "        self.right_screen = widgets.VBox([self.UI, self.audio,  self.logscr],layout=box_layout())\n",
    "                                          \n",
    "        # initialize the plots\n",
    "        self.fig,self.ax = plt.subplots(2,1,constrained_layout=True, figsize=(9, 4))\n",
    "        self.update()\n",
    "        plt.close()          # avoids output of dummy figure on startup\n",
    "        # initialize the displayed function\n",
    "\n",
    "        # attach children to the VBox class\n",
    "        self.children = [ self.out, self.right_screen ] \n",
    "\n",
    "    def update(self):\n",
    "        y,x = synth(sigtype=self.sigtype,freq=self.freq,amp=self.amp,samplerate=self.samplerate,Tmax=self.Tmax)\n",
    "\n",
    "        ax = self.ax\n",
    "        ax[0].cla()\n",
    "        ax[0].plot(x, y, color='C0')\n",
    "        ax[0].set_ylim([-1, 1])\n",
    "        ax[0].grid(True)\n",
    "        ax[0].set_title('Waveform')\n",
    "        ax[0].set_xlabel('Time(sec)')\n",
    "        ax[0].set_xlim([0,self.Tmax])\n",
    "       \n",
    "        if self.disptype == 'spectrum':\n",
    "            ax[1].cla()\n",
    "            freq_ax,spec = signal.periodogram(y,fs=self.samplerate,scaling='spectrum')\n",
    "            ax[1].plot(freq_ax,np.sqrt(2*spec))\n",
    "            ax[1].set_title('Spectrum')\n",
    "            ax[1].set_xlabel('Frequency')\n",
    "            ax[1].set_ylim([0, 1])\n",
    "            ax[1].grid(True)\n",
    "            ax[1].set_xlim([0,self.samplerate/2.])\n",
    "        elif self.disptype == 'spectrogram':\n",
    "            ax[1].cla()\n",
    "            spg = spectrogram(y,samplerate=self.samplerate)\n",
    "            ax[1].imshow(spg[:,:-1],cmap='jet',aspect='auto',origin='lower')\n",
    "            ax[1].set_title('Spectrogram')\n",
    "            ax[1].set_xlabel('Time(sec)')\n",
    "\n",
    "            \n",
    "        # here come the things that go to dedicated output widgets\n",
    "        with self.out:\n",
    "            clear_output(wait=True)\n",
    "            display(self.fig)\n",
    "        with self.audio:\n",
    "            clear_output(wait=True)\n",
    "            try:\n",
    "                display(Audio(data=y,rate=self.samplerate,normalize=False, autoplay=self.autoplay))\n",
    "            except: \n",
    "                try:\n",
    "                    with self.logscr:\n",
    "                        #clear_output(wait=True)\n",
    "                        print(\"Warning: playing normalized sound\")\n",
    "                    display(Audio(data=y,rate=self.samplerate, autoplay=self.autoplay))\n",
    "                except: pass\n",
    "     \n",
    "    def disptype_observe(self,change):\n",
    "        self.disptype = change.new\n",
    "        self.update()\n",
    "    \n",
    "    def sigtype_observe(self,change):\n",
    "        self.sigtype = change.new\n",
    "        self.update()\n",
    "    \n",
    "    def amp_observe(self,change):\n",
    "        self.amp = change.new\n",
    "        self.update()\n",
    "        \n",
    "    def freq_observe(self,change):\n",
    "        self.freq = change.new\n",
    "        self.update()\n",
    "        \n",
    "    def autoplay_clicked(self,obj):\n",
    "        self.autoplay = not self.autoplay\n",
    "        with self.logscr: print('Toggling autoplay',self.autoplay) \n",
    "    def clear_log_clicked(self):\n",
    "        with self.logscr: clear_output()                   \n",
    "\n",
    "Harmonic_Signals() "
   ]
  },
  {
   "cell_type": "code",
   "execution_count": null,
   "metadata": {},
   "outputs": [],
   "source": []
  }
 ],
 "metadata": {
  "kernelspec": {
   "display_name": "Python 3",
   "language": "python",
   "name": "python3"
  },
  "language_info": {
   "codemirror_mode": {
    "name": "ipython",
    "version": 3
   },
   "file_extension": ".py",
   "mimetype": "text/x-python",
   "name": "python",
   "nbconvert_exporter": "python",
   "pygments_lexer": "ipython3",
   "version": "3.7.8"
  },
  "widgets": {
   "application/vnd.jupyter.widget-state+json": {
    "state": {
     "005ea0a8aa3e4b35a3921e8a3554f24a": {
      "model_module": "@jupyter-widgets/base",
      "model_module_version": "1.2.0",
      "model_name": "LayoutModel",
      "state": {
       "border": "solid 1px black",
       "margin": "0px 10px 10px 0px",
       "padding": "5px 5px 5px 5px"
      }
     },
     "0437e7a50a6f41fc8a285c2014c7c3f6": {
      "model_module": "@jupyter-widgets/base",
      "model_module_version": "1.2.0",
      "model_name": "LayoutModel",
      "state": {
       "border": "solid 1px black",
       "margin": "0px 10px 10px 0px",
       "padding": "5px 5px 5px 5px"
      }
     },
     "046c814cf52e4e1f9a9131915b7a6fd5": {
      "model_module": "@jupyter-widgets/controls",
      "model_module_version": "1.5.0",
      "model_name": "VBoxModel",
      "state": {
       "children": [
        "IPY_MODEL_0c76bacf3db2448293d54bdd847922b8",
        "IPY_MODEL_587a26a997884f55af57c8f1aeac3dad",
        "IPY_MODEL_7d7fe06d6f9b47e082d240032a753d18"
       ],
       "layout": "IPY_MODEL_005ea0a8aa3e4b35a3921e8a3554f24a"
      }
     },
     "050ba1a68b6b42dfb7645ce529a86f4f": {
      "model_module": "@jupyter-widgets/controls",
      "model_module_version": "1.5.0",
      "model_name": "DescriptionStyleModel",
      "state": {
       "description_width": ""
      }
     },
     "0511804d25584cd6afe6260eae7ec704": {
      "model_module": "@jupyter-widgets/base",
      "model_module_version": "1.2.0",
      "model_name": "LayoutModel",
      "state": {}
     },
     "0540e51d59f84c08b1aafbb03cb33a0f": {
      "model_module": "@jupyter-widgets/controls",
      "model_module_version": "1.5.0",
      "model_name": "DescriptionStyleModel",
      "state": {
       "description_width": ""
      }
     },
     "05d68ec095d246e494eccafa0bbec1ad": {
      "model_module": "@jupyter-widgets/base",
      "model_module_version": "1.2.0",
      "model_name": "LayoutModel",
      "state": {
       "width": "45%"
      }
     },
     "07f05f2b2cf2450fbe92a644f22a77ce": {
      "model_module": "@jupyter-widgets/controls",
      "model_module_version": "1.5.0",
      "model_name": "ButtonStyleModel",
      "state": {}
     },
     "088174943293463fbcae83e115b2aeb9": {
      "model_module": "@jupyter-widgets/base",
      "model_module_version": "1.2.0",
      "model_name": "LayoutModel",
      "state": {}
     },
     "0b8966938add46e8a8cacd2dddaa67fb": {
      "model_module": "@jupyter-widgets/base",
      "model_module_version": "1.2.0",
      "model_name": "LayoutModel",
      "state": {}
     },
     "0b9f34af1d664794b37bae1ea3c0a337": {
      "model_module": "@jupyter-widgets/controls",
      "model_module_version": "1.5.0",
      "model_name": "DropdownModel",
      "state": {
       "_options_labels": [
        "sin",
        "square",
        "sawtooth"
       ],
       "description": "Signal",
       "index": 0,
       "layout": "IPY_MODEL_db4fa064251a44e590bf0e11d33b5c7b",
       "style": "IPY_MODEL_684a6c7916114957a6d7e59e33a70c7c"
      }
     },
     "0c76bacf3db2448293d54bdd847922b8": {
      "model_module": "@jupyter-widgets/controls",
      "model_module_version": "1.5.0",
      "model_name": "VBoxModel",
      "state": {
       "children": [
        "IPY_MODEL_3f9560905b414067a79f613286910af9",
        "IPY_MODEL_7b78301fbbc44f4193634cffa37d5652",
        "IPY_MODEL_2706b9f4791f4084b138de55016c33ba",
        "IPY_MODEL_e9ce8afcfd274f479f445f81d9a8ca82",
        "IPY_MODEL_f5d3c3bd63ed4c8e8cea9bd051f174eb"
       ],
       "layout": "IPY_MODEL_e8a7ad2772634fbbace042e75a9e17c8"
      }
     },
     "12c3dc53761a4faf927d2fd77d055416": {
      "model_module": "@jupyter-widgets/base",
      "model_module_version": "1.2.0",
      "model_name": "LayoutModel",
      "state": {}
     },
     "14624e1a300c4583bdb2bf4aa7dd11a5": {
      "model_module": "@jupyter-widgets/base",
      "model_module_version": "1.2.0",
      "model_name": "LayoutModel",
      "state": {}
     },
     "1659f06bd4af455490522b0646b8d63e": {
      "model_module": "@jupyter-widgets/controls",
      "model_module_version": "1.5.0",
      "model_name": "DescriptionStyleModel",
      "state": {
       "description_width": ""
      }
     },
     "19c5c3ab5bb448769d0560fe3c137f5a": {
      "model_module": "@jupyter-widgets/base",
      "model_module_version": "1.2.0",
      "model_name": "LayoutModel",
      "state": {}
     },
     "19de85d9b3fd47c29968295adbb5c9e6": {
      "model_module": "@jupyter-widgets/controls",
      "model_module_version": "1.5.0",
      "model_name": "SliderStyleModel",
      "state": {
       "description_width": ""
      }
     },
     "1cab76b44ff64ef8a9048da3b9ba2692": {
      "model_module": "@jupyter-widgets/base",
      "model_module_version": "1.2.0",
      "model_name": "LayoutModel",
      "state": {}
     },
     "1d423306121f475fa89a1ef90031c6b7": {
      "model_module": "@jupyter-widgets/controls",
      "model_module_version": "1.5.0",
      "model_name": "HBoxModel",
      "state": {
       "children": [
        "IPY_MODEL_f9e7658948fc445f87f33cc71f8a3952",
        "IPY_MODEL_3297926ffed840d29b1f41e3e9cd8380"
       ],
       "layout": "IPY_MODEL_cac18578abd9443db72357f6cd7e258b"
      }
     },
     "1dfd07a54ecc4ac4968605b905dad433": {
      "model_module": "@jupyter-widgets/controls",
      "model_module_version": "1.5.0",
      "model_name": "FloatSliderModel",
      "state": {
       "description": "Frequency",
       "layout": "IPY_MODEL_d07bfc4ec30a445fb18bb72fb98d221c",
       "max": 1000,
       "min": 50,
       "step": 10,
       "style": "IPY_MODEL_8c1f13baa0a44070aeb880d302087600",
       "value": 880
      }
     },
     "1e635a9c375c4411a7e884bc6abdd7f8": {
      "model_module": "@jupyter-widgets/controls",
      "model_module_version": "1.5.0",
      "model_name": "FloatSliderModel",
      "state": {
       "description": "Frequency",
       "layout": "IPY_MODEL_89dbe3f6f83a4ec0bcefdcc82b82cee3",
       "max": 1000,
       "min": 50,
       "step": 10,
       "style": "IPY_MODEL_79bacc37f3cb49e48e708f0639e3697b",
       "value": 440
      }
     },
     "1ef87f8cbfee4234a8303c48850265be": {
      "model_module": "@jupyter-widgets/base",
      "model_module_version": "1.2.0",
      "model_name": "LayoutModel",
      "state": {
       "border": "solid 1px black",
       "margin": "0px 10px 10px 0px",
       "padding": "5px 5px 5px 5px"
      }
     },
     "1f14d6d032824d02b84f0a27fd121487": {
      "model_module": "@jupyter-widgets/base",
      "model_module_version": "1.2.0",
      "model_name": "LayoutModel",
      "state": {}
     },
     "1f2c2558319545dbbc8072ac04b22c61": {
      "model_module": "@jupyter-widgets/controls",
      "model_module_version": "1.5.0",
      "model_name": "SliderStyleModel",
      "state": {
       "description_width": ""
      }
     },
     "1f85104ee96c4716b3287f8bc8fb2d05": {
      "model_module": "@jupyter-widgets/output",
      "model_module_version": "1.0.0",
      "model_name": "OutputModel",
      "state": {
       "layout": "IPY_MODEL_774b1a2dab824c8daaac53ce71bac5f7"
      }
     },
     "1f9a2178164b49deb69f439e30b0a61c": {
      "model_module": "@jupyter-widgets/controls",
      "model_module_version": "1.5.0",
      "model_name": "ButtonModel",
      "state": {
       "description": "Clear the log",
       "layout": "IPY_MODEL_c80dfbf2692747ab88926643cc7bcf4f",
       "style": "IPY_MODEL_2ebe38eee94b458394ace8196ff327d4"
      }
     },
     "21d1ac783afa41348a7be6e1fb65267f": {
      "model_module": "@jupyter-widgets/output",
      "model_module_version": "1.0.0",
      "model_name": "OutputModel",
      "state": {
       "layout": "IPY_MODEL_a3761a153e21404a84a7053435333ce6",
       "outputs": [
        {
         "name": "stdout",
         "output_type": "stream",
         "text": "Toggling autoplay True\n"
        }
       ]
      }
     },
     "2226f55240cd4bd9bd6ec9bbab3ea75c": {
      "model_module": "@jupyter-widgets/controls",
      "model_module_version": "1.5.0",
      "model_name": "FloatLogSliderModel",
      "state": {
       "description": "Amplitude",
       "layout": "IPY_MODEL_75915c54f75e47bcbcff011d037afdd6",
       "max": 0,
       "min": -2,
       "step": 0.2,
       "style": "IPY_MODEL_2be6022adc4e4944955f07780377607a",
       "value": 0.251188643150958
      }
     },
     "233245e9489d4fa1959aeba747a603e3": {
      "model_module": "@jupyter-widgets/controls",
      "model_module_version": "1.5.0",
      "model_name": "HBoxModel",
      "state": {
       "children": [
        "IPY_MODEL_d1e5c6ebd81440329a21d87131b4af18",
        "IPY_MODEL_f5fab0c9b5b04c4cbee716e2551a8c57"
       ],
       "layout": "IPY_MODEL_89ef4132023d47cdaa3fa03851c7ca43"
      }
     },
     "23a143913187461fb31a0237571df792": {
      "model_module": "@jupyter-widgets/controls",
      "model_module_version": "1.5.0",
      "model_name": "FloatLogSliderModel",
      "state": {
       "description": "Amplitude",
       "layout": "IPY_MODEL_0511804d25584cd6afe6260eae7ec704",
       "max": 0,
       "min": -2,
       "step": 0.2,
       "style": "IPY_MODEL_1f2c2558319545dbbc8072ac04b22c61"
      }
     },
     "2435af3a4e3e4b7a94d5b5e51729c807": {
      "model_module": "@jupyter-widgets/controls",
      "model_module_version": "1.5.0",
      "model_name": "HBoxModel",
      "state": {
       "children": [
        "IPY_MODEL_913d3b4cfcd84e058ec04dcdfe1bc6fc",
        "IPY_MODEL_4f51ec3afc9041a38908b745d46f9e9e"
       ],
       "layout": "IPY_MODEL_2515dd1508584a02af76e7888fc8579c"
      }
     },
     "244f04a7a0024a67aaff48515f1c5b72": {
      "model_module": "@jupyter-widgets/base",
      "model_module_version": "1.2.0",
      "model_name": "LayoutModel",
      "state": {}
     },
     "2515dd1508584a02af76e7888fc8579c": {
      "model_module": "@jupyter-widgets/base",
      "model_module_version": "1.2.0",
      "model_name": "LayoutModel",
      "state": {}
     },
     "2706b9f4791f4084b138de55016c33ba": {
      "model_module": "@jupyter-widgets/controls",
      "model_module_version": "1.5.0",
      "model_name": "FloatLogSliderModel",
      "state": {
       "description": "Amplitude",
       "layout": "IPY_MODEL_19c5c3ab5bb448769d0560fe3c137f5a",
       "max": 0,
       "min": -2,
       "step": 0.2,
       "style": "IPY_MODEL_e7d57ebf682f46f7b65a3502e63aac95"
      }
     },
     "28de98985bb346d78f7dc406e5e7246d": {
      "model_module": "@jupyter-widgets/controls",
      "model_module_version": "1.5.0",
      "model_name": "HBoxModel",
      "state": {
       "children": [
        "IPY_MODEL_fb84e189f5844a8594b0a83bd0f686e3",
        "IPY_MODEL_395a58825eda4e8db1111a95a32bc7f2"
       ],
       "layout": "IPY_MODEL_d347243443aa4a4aba9c3aa0a10e90cc"
      }
     },
     "2be6022adc4e4944955f07780377607a": {
      "model_module": "@jupyter-widgets/controls",
      "model_module_version": "1.5.0",
      "model_name": "SliderStyleModel",
      "state": {
       "description_width": ""
      }
     },
     "2d7d91921fab4f1ab3cfa5a75addd98f": {
      "model_module": "@jupyter-widgets/controls",
      "model_module_version": "1.5.0",
      "model_name": "CheckboxModel",
      "state": {
       "description": "Autoplay Audio",
       "disabled": false,
       "indent": false,
       "layout": "IPY_MODEL_05d68ec095d246e494eccafa0bbec1ad",
       "style": "IPY_MODEL_a0c1be8bc6ce453ca0399ab640d64f8a",
       "value": true
      }
     },
     "2ebe38eee94b458394ace8196ff327d4": {
      "model_module": "@jupyter-widgets/controls",
      "model_module_version": "1.5.0",
      "model_name": "ButtonStyleModel",
      "state": {}
     },
     "3297926ffed840d29b1f41e3e9cd8380": {
      "model_module": "@jupyter-widgets/controls",
      "model_module_version": "1.5.0",
      "model_name": "VBoxModel",
      "state": {
       "children": [
        "IPY_MODEL_7959286bfa8948cab8c5b15175833d1e",
        "IPY_MODEL_b58e9388edb843dc96d31686fa10675e",
        "IPY_MODEL_34b08333edb24c0a8bc2cdaab19d4f6f"
       ],
       "layout": "IPY_MODEL_0437e7a50a6f41fc8a285c2014c7c3f6"
      }
     },
     "33da6b8287864b85ba3cfd8cac001e33": {
      "model_module": "@jupyter-widgets/controls",
      "model_module_version": "1.5.0",
      "model_name": "VBoxModel",
      "state": {
       "children": [
        "IPY_MODEL_714488d3261a44fa960ce15391e6ebfb",
        "IPY_MODEL_dc238d1392dd44dd81fa47e06ad23a4c",
        "IPY_MODEL_21d1ac783afa41348a7be6e1fb65267f"
       ],
       "layout": "IPY_MODEL_95e21f511e704f20acc424697720087d"
      }
     },
     "34b08333edb24c0a8bc2cdaab19d4f6f": {
      "model_module": "@jupyter-widgets/output",
      "model_module_version": "1.0.0",
      "model_name": "OutputModel",
      "state": {
       "layout": "IPY_MODEL_8392586b63c647a4a8fc8c6cd6108873"
      }
     },
     "3731407e2644412ab2344924492ad966": {
      "model_module": "@jupyter-widgets/base",
      "model_module_version": "1.2.0",
      "model_name": "LayoutModel",
      "state": {}
     },
     "376d636a04594c9492cc9b1ebaa36e73": {
      "model_module": "@jupyter-widgets/base",
      "model_module_version": "1.2.0",
      "model_name": "LayoutModel",
      "state": {
       "width": "45%"
      }
     },
     "3870eb9fa3b94aadbf5f8bfe8b9456ee": {
      "model_module": "@jupyter-widgets/base",
      "model_module_version": "1.2.0",
      "model_name": "LayoutModel",
      "state": {
       "border": "solid 1px black",
       "margin": "0px 10px 10px 0px",
       "padding": "5px 5px 5px 5px"
      }
     },
     "395a58825eda4e8db1111a95a32bc7f2": {
      "model_module": "@jupyter-widgets/controls",
      "model_module_version": "1.5.0",
      "model_name": "ButtonModel",
      "state": {
       "description": "Clear the log",
       "layout": "IPY_MODEL_6a6e48cb45cd4a06be33f3f5a56397d2",
       "style": "IPY_MODEL_07f05f2b2cf2450fbe92a644f22a77ce"
      }
     },
     "399837b3a71e424bb4989341a9cac8b3": {
      "model_module": "@jupyter-widgets/controls",
      "model_module_version": "1.5.0",
      "model_name": "DropdownModel",
      "state": {
       "_options_labels": [
        "sin",
        "square",
        "sawtooth"
       ],
       "description": "Signal",
       "index": 0,
       "layout": "IPY_MODEL_885d248042f74215882cbb788295a0ab",
       "style": "IPY_MODEL_76c0f1f4fd584e7cb12000c09ad89c8c"
      }
     },
     "3aef055a5262445ab5e7f22e0313a3ba": {
      "model_module": "@jupyter-widgets/output",
      "model_module_version": "1.0.0",
      "model_name": "OutputModel",
      "state": {
       "layout": "IPY_MODEL_cfbb3dbdc15b437fbaa3dbd03c7f929a",
       "outputs": [
        {
         "data": {
          "image/png": "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\n",
          "text/plain": "<Figure size 648x288 with 2 Axes>"
         },
         "metadata": {},
         "output_type": "display_data"
        }
       ]
      }
     },
     "3d6c64883b6048a19324446005e969c5": {
      "model_module": "@jupyter-widgets/controls",
      "model_module_version": "1.5.0",
      "model_name": "DescriptionStyleModel",
      "state": {
       "description_width": ""
      }
     },
     "3dcef3bcf0374d3e9f1047a121f1c60a": {
      "model_module": "@jupyter-widgets/controls",
      "model_module_version": "1.5.0",
      "model_name": "ButtonStyleModel",
      "state": {}
     },
     "3de8fc19b435482a979200b28766675a": {
      "model_module": "@jupyter-widgets/controls",
      "model_module_version": "1.5.0",
      "model_name": "DescriptionStyleModel",
      "state": {
       "description_width": ""
      }
     },
     "3f9560905b414067a79f613286910af9": {
      "model_module": "@jupyter-widgets/controls",
      "model_module_version": "1.5.0",
      "model_name": "DropdownModel",
      "state": {
       "_options_labels": [
        "spectrum",
        "spectrogram"
       ],
       "description": "Display",
       "index": 0,
       "layout": "IPY_MODEL_90051e87d10c4efaa737b402756dd8d0",
       "style": "IPY_MODEL_3de8fc19b435482a979200b28766675a"
      }
     },
     "42682f99b2b344249a5b91006c280fdc": {
      "model_module": "@jupyter-widgets/controls",
      "model_module_version": "1.5.0",
      "model_name": "DropdownModel",
      "state": {
       "_options_labels": [
        "spectrum",
        "spectrogram"
       ],
       "description": "Display",
       "index": 0,
       "layout": "IPY_MODEL_42c907527fe74c9b8195ab65f9e842f0",
       "style": "IPY_MODEL_d2ff530bc12f4ae5b0acbfcde5f8664a"
      }
     },
     "42c907527fe74c9b8195ab65f9e842f0": {
      "model_module": "@jupyter-widgets/base",
      "model_module_version": "1.2.0",
      "model_name": "LayoutModel",
      "state": {}
     },
     "445dd5dcd7d349cc851e1d272eb591fe": {
      "model_module": "@jupyter-widgets/output",
      "model_module_version": "1.0.0",
      "model_name": "OutputModel",
      "state": {
       "layout": "IPY_MODEL_e0197a97ce1f427d836b828d2c0d3f1e",
       "outputs": [
        {
         "name": "stdout",
         "output_type": "stream",
         "text": "Toggling autoplay True\nToggling autoplay False\n"
        }
       ]
      }
     },
     "4552a6ad359744e79386e21dd2b55018": {
      "model_module": "@jupyter-widgets/base",
      "model_module_version": "1.2.0",
      "model_name": "LayoutModel",
      "state": {
       "border": "solid 1px black",
       "margin": "0px 10px 10px 0px",
       "padding": "5px 5px 5px 5px"
      }
     },
     "478b0ae7b2e34b23bbfb70c6c1b181c2": {
      "model_module": "@jupyter-widgets/base",
      "model_module_version": "1.2.0",
      "model_name": "LayoutModel",
      "state": {}
     },
     "4abe9c36127e4204b28826d9a25e91b2": {
      "model_module": "@jupyter-widgets/controls",
      "model_module_version": "1.5.0",
      "model_name": "DropdownModel",
      "state": {
       "_options_labels": [
        "spectrum",
        "spectrogram"
       ],
       "description": "Display",
       "index": 0,
       "layout": "IPY_MODEL_d1aa9ba6751741d6bc72d640e0c17d8d",
       "style": "IPY_MODEL_efcafc201e1349c89a936f1c04599323"
      }
     },
     "4d99d483c42e4313a89c476f7ea0f57d": {
      "model_module": "@jupyter-widgets/output",
      "model_module_version": "1.0.0",
      "model_name": "OutputModel",
      "state": {
       "layout": "IPY_MODEL_4552a6ad359744e79386e21dd2b55018",
       "outputs": [
        {
         "data": {
          "image/png": "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\n",
          "text/plain": "<Figure size 648x288 with 2 Axes>"
         },
         "metadata": {},
         "output_type": "display_data"
        }
       ]
      }
     },
     "4f51ec3afc9041a38908b745d46f9e9e": {
      "model_module": "@jupyter-widgets/controls",
      "model_module_version": "1.5.0",
      "model_name": "VBoxModel",
      "state": {
       "children": [
        "IPY_MODEL_a2b3e8579fef4d45bb4ce04e455b8752",
        "IPY_MODEL_bf8e5fe4702743ef839fb2d1070e2de3",
        "IPY_MODEL_7cef5de98e36496ead281eb50a776b1b"
       ],
       "layout": "IPY_MODEL_783ccbf6f46a4b379c1be2fe8721cd26"
      }
     },
     "57834146a6e84054a236aae77258df2d": {
      "model_module": "@jupyter-widgets/controls",
      "model_module_version": "1.5.0",
      "model_name": "HBoxModel",
      "state": {
       "children": [
        "IPY_MODEL_61e8ef00f7324298ab88d91f25abdb80",
        "IPY_MODEL_046c814cf52e4e1f9a9131915b7a6fd5"
       ],
       "layout": "IPY_MODEL_aa94d91271b24dbb9e4cb1efffceaa05"
      }
     },
     "587a26a997884f55af57c8f1aeac3dad": {
      "model_module": "@jupyter-widgets/output",
      "model_module_version": "1.0.0",
      "model_name": "OutputModel",
      "state": {
       "layout": "IPY_MODEL_e4efd8d542ec4dd48b7f61f08b07468a",
       "outputs": [
        {
         "data": {
          "text/html": "\n                <audio  controls=\"controls\" >\n                    <source src=\"data:audio/wav;base64,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\" type=\"audio/wav\" />\n                    Your browser does not support the audio element.\n                </audio>\n              ",
          "text/plain": "<IPython.lib.display.Audio object>"
         },
         "metadata": {},
         "output_type": "display_data"
        }
       ]
      }
     },
     "598f982686f44efa9775d6b2b2de43ac": {
      "model_module": "@jupyter-widgets/base",
      "model_module_version": "1.2.0",
      "model_name": "LayoutModel",
      "state": {}
     },
     "5af2cd698fd04735b341de6f84276420": {
      "model_module": "@jupyter-widgets/base",
      "model_module_version": "1.2.0",
      "model_name": "LayoutModel",
      "state": {
       "width": "45%"
      }
     },
     "5cebbbaaf04940f4a8ed1dc3c6753137": {
      "model_module": "@jupyter-widgets/controls",
      "model_module_version": "1.5.0",
      "model_name": "CheckboxModel",
      "state": {
       "description": "Autoplay Audio",
       "disabled": false,
       "indent": false,
       "layout": "IPY_MODEL_fc9b5e8e11564cdaa5771fe54d606b25",
       "style": "IPY_MODEL_050ba1a68b6b42dfb7645ce529a86f4f",
       "value": false
      }
     },
     "5ea2930109cc4be0abbdf619d408f7b8": {
      "model_module": "@jupyter-widgets/base",
      "model_module_version": "1.2.0",
      "model_name": "LayoutModel",
      "state": {}
     },
     "61e8ef00f7324298ab88d91f25abdb80": {
      "model_module": "@jupyter-widgets/output",
      "model_module_version": "1.0.0",
      "model_name": "OutputModel",
      "state": {
       "layout": "IPY_MODEL_f513a6754fe24f579129544044037eed",
       "outputs": [
        {
         "data": {
          "image/png": "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\n",
          "text/plain": "<Figure size 648x288 with 2 Axes>"
         },
         "metadata": {},
         "output_type": "display_data"
        }
       ]
      }
     },
     "61f97ff566ea49c1a2e421812b0098ae": {
      "model_module": "@jupyter-widgets/base",
      "model_module_version": "1.2.0",
      "model_name": "LayoutModel",
      "state": {}
     },
     "6219308a767642fa857e3b3e3cbe654d": {
      "model_module": "@jupyter-widgets/controls",
      "model_module_version": "1.5.0",
      "model_name": "FloatSliderModel",
      "state": {
       "description": "Frequency",
       "layout": "IPY_MODEL_478b0ae7b2e34b23bbfb70c6c1b181c2",
       "max": 1000,
       "min": 50,
       "step": 10,
       "style": "IPY_MODEL_a8892a7641e24ac2848fa511b960621d",
       "value": 660
      }
     },
     "63e8404307814acea426af5a46f8dd57": {
      "model_module": "@jupyter-widgets/controls",
      "model_module_version": "1.5.0",
      "model_name": "FloatSliderModel",
      "state": {
       "description": "Frequency",
       "layout": "IPY_MODEL_c2859b2c8601414c810171e8fa4c09de",
       "max": 1000,
       "min": 50,
       "step": 10,
       "style": "IPY_MODEL_dda8c172bc77484e90ddf8c3efea2b92",
       "value": 900
      }
     },
     "65579e7f70d647bebc412c81e5bb2c7c": {
      "model_module": "@jupyter-widgets/controls",
      "model_module_version": "1.5.0",
      "model_name": "HBoxModel",
      "state": {
       "children": [
        "IPY_MODEL_3aef055a5262445ab5e7f22e0313a3ba",
        "IPY_MODEL_33da6b8287864b85ba3cfd8cac001e33"
       ],
       "layout": "IPY_MODEL_244f04a7a0024a67aaff48515f1c5b72"
      }
     },
     "67fc276cbc834c219798ff126376269b": {
      "model_module": "@jupyter-widgets/base",
      "model_module_version": "1.2.0",
      "model_name": "LayoutModel",
      "state": {}
     },
     "67fce63199fb43ecbb0146830c187ce6": {
      "model_module": "@jupyter-widgets/controls",
      "model_module_version": "1.5.0",
      "model_name": "ButtonStyleModel",
      "state": {}
     },
     "684a6c7916114957a6d7e59e33a70c7c": {
      "model_module": "@jupyter-widgets/controls",
      "model_module_version": "1.5.0",
      "model_name": "DescriptionStyleModel",
      "state": {
       "description_width": ""
      }
     },
     "6a0cdfaf4e7547c2ab3c9bacff7bdd1d": {
      "model_module": "@jupyter-widgets/controls",
      "model_module_version": "1.5.0",
      "model_name": "ButtonModel",
      "state": {
       "description": "Clear the log",
       "layout": "IPY_MODEL_ac48f2bf89354e5f8d671a995bff191a",
       "style": "IPY_MODEL_cb7c50c86afa482783505ec0d973208c"
      }
     },
     "6a6e48cb45cd4a06be33f3f5a56397d2": {
      "model_module": "@jupyter-widgets/base",
      "model_module_version": "1.2.0",
      "model_name": "LayoutModel",
      "state": {
       "width": "45%"
      }
     },
     "6c9b065d928d4d5ea906eca029f4c5cf": {
      "model_module": "@jupyter-widgets/base",
      "model_module_version": "1.2.0",
      "model_name": "LayoutModel",
      "state": {}
     },
     "6d983b56582843ed96f3482371d059b0": {
      "model_module": "@jupyter-widgets/controls",
      "model_module_version": "1.5.0",
      "model_name": "FloatLogSliderModel",
      "state": {
       "description": "Amplitude",
       "layout": "IPY_MODEL_fa97efaf7512414bbc6e2d0e15b44571",
       "max": 0,
       "min": -2,
       "step": 0.2,
       "style": "IPY_MODEL_e8e264d70aae434996d8c41d67d88b47"
      }
     },
     "6dd828e9584b431a80733cbc3783a195": {
      "model_module": "@jupyter-widgets/base",
      "model_module_version": "1.2.0",
      "model_name": "LayoutModel",
      "state": {
       "border": "solid 1px black",
       "margin": "0px 10px 10px 0px",
       "padding": "5px 5px 5px 5px"
      }
     },
     "6e435bd07c214e8799f93af57950801a": {
      "model_module": "@jupyter-widgets/controls",
      "model_module_version": "1.5.0",
      "model_name": "HBoxModel",
      "state": {
       "children": [
        "IPY_MODEL_ac05c4a23d954f2dac23bcb41a60bade",
        "IPY_MODEL_1f9a2178164b49deb69f439e30b0a61c"
       ],
       "layout": "IPY_MODEL_91d36bc9347143f59b638ef1d6e5eb5c"
      }
     },
     "6fc114a954f2463b8e9f1c90cf3c3be0": {
      "model_module": "@jupyter-widgets/controls",
      "model_module_version": "1.5.0",
      "model_name": "DropdownModel",
      "state": {
       "_options_labels": [
        "spectrum",
        "spectrogram"
       ],
       "description": "Display",
       "index": 0,
       "layout": "IPY_MODEL_d6c1d76eeac04fb5875664e65bf9f259",
       "style": "IPY_MODEL_eb0f090c20664043863e50ae8daba4d3"
      }
     },
     "714488d3261a44fa960ce15391e6ebfb": {
      "model_module": "@jupyter-widgets/controls",
      "model_module_version": "1.5.0",
      "model_name": "VBoxModel",
      "state": {
       "children": [
        "IPY_MODEL_42682f99b2b344249a5b91006c280fdc",
        "IPY_MODEL_0b9f34af1d664794b37bae1ea3c0a337",
        "IPY_MODEL_6d983b56582843ed96f3482371d059b0",
        "IPY_MODEL_63e8404307814acea426af5a46f8dd57",
        "IPY_MODEL_233245e9489d4fa1959aeba747a603e3"
       ],
       "layout": "IPY_MODEL_ef1e909a7aa34f4faf0b1775d79f5186"
      }
     },
     "75915c54f75e47bcbcff011d037afdd6": {
      "model_module": "@jupyter-widgets/base",
      "model_module_version": "1.2.0",
      "model_name": "LayoutModel",
      "state": {}
     },
     "76c0f1f4fd584e7cb12000c09ad89c8c": {
      "model_module": "@jupyter-widgets/controls",
      "model_module_version": "1.5.0",
      "model_name": "DescriptionStyleModel",
      "state": {
       "description_width": ""
      }
     },
     "774b1a2dab824c8daaac53ce71bac5f7": {
      "model_module": "@jupyter-widgets/base",
      "model_module_version": "1.2.0",
      "model_name": "LayoutModel",
      "state": {
       "border": "solid 1px black",
       "margin": "0px 10px 10px 0px",
       "padding": "5px 5px 5px 5px"
      }
     },
     "783ccbf6f46a4b379c1be2fe8721cd26": {
      "model_module": "@jupyter-widgets/base",
      "model_module_version": "1.2.0",
      "model_name": "LayoutModel",
      "state": {
       "border": "solid 1px black",
       "margin": "0px 10px 10px 0px",
       "padding": "5px 5px 5px 5px"
      }
     },
     "7959286bfa8948cab8c5b15175833d1e": {
      "model_module": "@jupyter-widgets/controls",
      "model_module_version": "1.5.0",
      "model_name": "VBoxModel",
      "state": {
       "children": [
        "IPY_MODEL_4abe9c36127e4204b28826d9a25e91b2",
        "IPY_MODEL_8af8226dbc7e41bba202a3a83f0c5122",
        "IPY_MODEL_23a143913187461fb31a0237571df792",
        "IPY_MODEL_1e635a9c375c4411a7e884bc6abdd7f8",
        "IPY_MODEL_d381526aaf9b4b89b349fa131561ef52"
       ],
       "layout": "IPY_MODEL_3870eb9fa3b94aadbf5f8bfe8b9456ee"
      }
     },
     "79bacc37f3cb49e48e708f0639e3697b": {
      "model_module": "@jupyter-widgets/controls",
      "model_module_version": "1.5.0",
      "model_name": "SliderStyleModel",
      "state": {
       "description_width": ""
      }
     },
     "7b78301fbbc44f4193634cffa37d5652": {
      "model_module": "@jupyter-widgets/controls",
      "model_module_version": "1.5.0",
      "model_name": "DropdownModel",
      "state": {
       "_options_labels": [
        "sin",
        "square",
        "sawtooth"
       ],
       "description": "Signal",
       "index": 0,
       "layout": "IPY_MODEL_dd365a8e3caa41829011f7346e7f78b3",
       "style": "IPY_MODEL_e18cd431a32049319d4bf7a2b4a5965c"
      }
     },
     "7cef5de98e36496ead281eb50a776b1b": {
      "model_module": "@jupyter-widgets/output",
      "model_module_version": "1.0.0",
      "model_name": "OutputModel",
      "state": {
       "layout": "IPY_MODEL_a9b91b070f9b41ffb2286de4a5836bbf"
      }
     },
     "7d0db969008946a68d4406292fcc0edd": {
      "model_module": "@jupyter-widgets/base",
      "model_module_version": "1.2.0",
      "model_name": "LayoutModel",
      "state": {}
     },
     "7d7fe06d6f9b47e082d240032a753d18": {
      "model_module": "@jupyter-widgets/output",
      "model_module_version": "1.0.0",
      "model_name": "OutputModel",
      "state": {
       "layout": "IPY_MODEL_e6d10da883f44535af423014a8574cf3"
      }
     },
     "7ff3e86bc07344788b20af744cf0650a": {
      "model_module": "@jupyter-widgets/controls",
      "model_module_version": "1.5.0",
      "model_name": "FloatSliderModel",
      "state": {
       "description": "Frequency",
       "layout": "IPY_MODEL_6c9b065d928d4d5ea906eca029f4c5cf",
       "max": 1000,
       "min": 50,
       "step": 10,
       "style": "IPY_MODEL_19de85d9b3fd47c29968295adbb5c9e6",
       "value": 440
      }
     },
     "8056bb3321964bceb445ce684f965484": {
      "model_module": "@jupyter-widgets/base",
      "model_module_version": "1.2.0",
      "model_name": "LayoutModel",
      "state": {
       "border": "solid 1px black",
       "margin": "0px 10px 10px 0px",
       "padding": "5px 5px 5px 5px"
      }
     },
     "807922c745d74019ab524cee81bd6db3": {
      "model_module": "@jupyter-widgets/controls",
      "model_module_version": "1.5.0",
      "model_name": "DropdownModel",
      "state": {
       "_options_labels": [
        "sin",
        "square",
        "sawtooth"
       ],
       "description": "Signal",
       "index": 0,
       "layout": "IPY_MODEL_88c3335d99ef48bdb97e4bc315a32751",
       "style": "IPY_MODEL_b971b199d34748aaaebd8bbadcc5602f"
      }
     },
     "8392586b63c647a4a8fc8c6cd6108873": {
      "model_module": "@jupyter-widgets/base",
      "model_module_version": "1.2.0",
      "model_name": "LayoutModel",
      "state": {}
     },
     "885d248042f74215882cbb788295a0ab": {
      "model_module": "@jupyter-widgets/base",
      "model_module_version": "1.2.0",
      "model_name": "LayoutModel",
      "state": {}
     },
     "88c3335d99ef48bdb97e4bc315a32751": {
      "model_module": "@jupyter-widgets/base",
      "model_module_version": "1.2.0",
      "model_name": "LayoutModel",
      "state": {}
     },
     "89dbe3f6f83a4ec0bcefdcc82b82cee3": {
      "model_module": "@jupyter-widgets/base",
      "model_module_version": "1.2.0",
      "model_name": "LayoutModel",
      "state": {}
     },
     "89ef4132023d47cdaa3fa03851c7ca43": {
      "model_module": "@jupyter-widgets/base",
      "model_module_version": "1.2.0",
      "model_name": "LayoutModel",
      "state": {}
     },
     "8af8226dbc7e41bba202a3a83f0c5122": {
      "model_module": "@jupyter-widgets/controls",
      "model_module_version": "1.5.0",
      "model_name": "DropdownModel",
      "state": {
       "_options_labels": [
        "sin",
        "square",
        "sawtooth"
       ],
       "description": "Signal",
       "index": 0,
       "layout": "IPY_MODEL_61f97ff566ea49c1a2e421812b0098ae",
       "style": "IPY_MODEL_9c37e74bc5ed461ab8fc92e76624a6f0"
      }
     },
     "8b1f942a7968467babfe94150ff6e805": {
      "model_module": "@jupyter-widgets/controls",
      "model_module_version": "1.5.0",
      "model_name": "VBoxModel",
      "state": {
       "children": [
        "IPY_MODEL_6fc114a954f2463b8e9f1c90cf3c3be0",
        "IPY_MODEL_fa37b0b66d1748448c2f482d29a3b504",
        "IPY_MODEL_b019d72033214efea55f637a78719e0a",
        "IPY_MODEL_1dfd07a54ecc4ac4968605b905dad433",
        "IPY_MODEL_d0b39d1c93bd4dee8c025ef20711961f"
       ],
       "layout": "IPY_MODEL_8056bb3321964bceb445ce684f965484"
      }
     },
     "8c074475856f4c018165672fba297343": {
      "model_module": "@jupyter-widgets/controls",
      "model_module_version": "1.5.0",
      "model_name": "SliderStyleModel",
      "state": {
       "description_width": ""
      }
     },
     "8c1f13baa0a44070aeb880d302087600": {
      "model_module": "@jupyter-widgets/controls",
      "model_module_version": "1.5.0",
      "model_name": "SliderStyleModel",
      "state": {
       "description_width": ""
      }
     },
     "8e64ee2ac5d24adb85535539ef08f8fe": {
      "model_module": "@jupyter-widgets/controls",
      "model_module_version": "1.5.0",
      "model_name": "CheckboxModel",
      "state": {
       "description": "Autoplay Audio",
       "disabled": false,
       "indent": false,
       "layout": "IPY_MODEL_376d636a04594c9492cc9b1ebaa36e73",
       "style": "IPY_MODEL_3d6c64883b6048a19324446005e969c5",
       "value": false
      }
     },
     "90051e87d10c4efaa737b402756dd8d0": {
      "model_module": "@jupyter-widgets/base",
      "model_module_version": "1.2.0",
      "model_name": "LayoutModel",
      "state": {}
     },
     "90ef0cbe30cf44e0b5fe483a156ada7e": {
      "model_module": "@jupyter-widgets/controls",
      "model_module_version": "1.5.0",
      "model_name": "DescriptionStyleModel",
      "state": {
       "description_width": ""
      }
     },
     "913d3b4cfcd84e058ec04dcdfe1bc6fc": {
      "model_module": "@jupyter-widgets/output",
      "model_module_version": "1.0.0",
      "model_name": "OutputModel",
      "state": {
       "layout": "IPY_MODEL_94fafef57e864460abd7c9ef38b31f90",
       "outputs": [
        {
         "data": {
          "image/png": "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\n",
          "text/plain": "<Figure size 648x288 with 2 Axes>"
         },
         "metadata": {},
         "output_type": "display_data"
        }
       ]
      }
     },
     "91d36bc9347143f59b638ef1d6e5eb5c": {
      "model_module": "@jupyter-widgets/base",
      "model_module_version": "1.2.0",
      "model_name": "LayoutModel",
      "state": {}
     },
     "94fafef57e864460abd7c9ef38b31f90": {
      "model_module": "@jupyter-widgets/base",
      "model_module_version": "1.2.0",
      "model_name": "LayoutModel",
      "state": {
       "border": "solid 1px black",
       "margin": "0px 10px 10px 0px",
       "padding": "5px 5px 5px 5px"
      }
     },
     "95e21f511e704f20acc424697720087d": {
      "model_module": "@jupyter-widgets/base",
      "model_module_version": "1.2.0",
      "model_name": "LayoutModel",
      "state": {
       "border": "solid 1px black",
       "margin": "0px 10px 10px 0px",
       "padding": "5px 5px 5px 5px"
      }
     },
     "991e9050bcb2492bbc7907d86325a0f6": {
      "model_module": "@jupyter-widgets/output",
      "model_module_version": "1.0.0",
      "model_name": "OutputModel",
      "state": {
       "layout": "IPY_MODEL_0b8966938add46e8a8cacd2dddaa67fb",
       "outputs": [
        {
         "data": {
          "text/html": "\n                <audio  controls=\"controls\" >\n                    <source src=\"data:audio/wav;base64,UklGRmQfAABXQVZFZm10IBAAAAABAAEAgD4AAAB9AAACABAAZGF0YUAfAAAAAD0I7Q+OFqwb8R4lIDMfLBxDF8wQNgkCAb749fAt6tvkWeHj35LgW+MO6Fru1PX8/UUGJQ4SFZcaVR4NIKAfFx2cGHwSIAsGA7n6xfK06/7lBOIM4DXgf+LB5rPs7/P5+0cETQyBE2cZmx3UH+0f5B3cGRoUAA0HBbr8o/RP7TvnzuJU4PjfwOGO5R/rFvL6+UUCagrcER0Ywhx7Hxogkx4CG6MV0g4DB73+jPb97pHoteO94NzfIeF15KHpS/AC+EAAewglELsWzRsCHyYgJB8NHBYXlRD4CMEAf/i88P7pueRG4eDfoOB44znokO4R9jz+hQZeDkMVuxpqHhIglB/7HHIYRxLkCsYCefqL8oLr2OXt4QXgP+CZ4unm5uwr9Dn8hwSJDLQTjhm0Hd0f5R/MHbUZ5xPEDMcEefxn9BvtEuez4kng/t/X4bPlUOtQ8jr6hQKnChISSBjfHIgfFiB/Ht8acxWYDsQGff5P9sbuZeiW467g3t8z4Zfkz+mD8ED4gQC6CF0Q6RbtGxMfJiATH+0b6RZdELoIgQBA+IPwz+mX5DPh3t+u4JbjZejG7k/2ff7EBpgOcxXfGn8eFiCIH98cSBgSEqcKhQI6+lDyUOuz5dfh/t9J4LPiEucb7Wf0efzHBMQM5xO1Gcwd5R/dH7Qdjhm0E4kMhwQ5/Cv05uzp5pniP+AF4O3h2OWC64vyefrGAuQKRxJyGPsclB8SIGoeuxpDFV4OhQY8/hH2kO456HjjoODg30bhueT+6bzwf/jBAPgIlRAWFw0cJB8mIAIfzRu7FiUQewhAAAL4S/Ch6XXkIeHc373gteOR6P3ujPa9/gMH0g6jFQIbkx4aIHsfwhwdGNwRagpFAvr5FvIf647lwOH431TgzuI750/to/S6/AcFAA0aFNwZ5B3tH9Qfmx1nGYETTQxHBPn77/Oz7MHmf+I14AzgBOL+5bTrxfK5+gYDIAt8EpwYFx2gHw0gVR6XGhIVJQ5FBvz91PVa7g7oW+OS4OPfWeHb5C3q9fC++AIBNgnMEEMXLBwzHyUg8R6sG44W7Q89CAAAw/cT8HLpVOQP4dvfzeDU473oNO/K9v7+QgcLD9MVJRunHh0gbh+lHPIXphEsCgQCu/nb8e7qaeWr4fPfYODp4mTnhO3g9Pr8RwU7DUwUAhr8HfQfyx+BHT8ZTRMRDAcEufuz83/smeZl4izgE+Ac4iTm5usA8/n6RgNdC7ESxRgyHawfCCBAHnIa4RTqDQYGu/2W9STu4+c+44Xg5t9t4f7kXeou8f34QwF0CQMRbxdLHEMfJCDfHosbXxa1D/4HwP+F99vvRekz5P7g2t/c4PPj6uhr7wj3P/+BB0QPAhZHG7oeICBgH4gcxxdwEe8JxAF7+aLxvepF5Zbh7t9s4AXjjue57Rz1Ov2HBXUNfhQoGhMe+x/BH2cdFxkaE9ULxwN5+3fzTOxy5kziI+Ab4DTiS+YZ7DzzOfuHA5kL5RLuGE0dtx8CICkeTRqwFLANxgV7/Vn17u245yHjeODq34HhIeWN6mjxPPmDAbEJOhGbF2ocUh8iIM0eaRsxFn0PwAd//0b3o+8X6RPk7eDa3+3gE+QX6aPvRvd//8AHfQ8xFmkbzR4iIFIfahybFzoRsQmDATz5aPGN6iHlgeHq33jgIeO45+7tWfV7/cYFsA2wFE0aKR4CILcfTR3uGOUSmQuHAzn7PPMZ7EvmNOIb4CPgTOJy5kzsd/N5+8cD1QsaExcZZx3BH/sfEx4oGn4UdQ2HBTr9HPW57Y7nBeNs4O7fluFF5b3qovF7+cQB7wlwEccXiBxgHyAguh5HGwIWRA+BBz//CPdr7+ro8+Pc4Nrf/uAz5EXp2++F98D//ge1D18WixvfHiQgQx9LHG8XAxF0CUMB/fgu8V3q/uRt4ebfheA+4+PnJO6W9bv9BgbqDeEUchpAHgggrB8yHcUYsRJdC0YD+foA8+brJOYc4hPgLOBl4pnmf+yz87n7BwQRDE0TPxmBHcsf9B/8HQIaTBQ7DUcF+vzg9ITtZOfp4mDg89+r4Wnl7urb8bv5BAIsCqYR8helHG4fHSCnHiUb0xULD0IH/v7K9jTvvejU483g298P4VTkcukT8MP3AAA9CO0PjhasG/EeJSAzHywcQxfMEDYJAgG++PXwLerb5Fnh49+S4FvjDuha7tT1/P1FBiUOEhWXGlUeDSCgHxcdnBh8EiALBgO5+sXytOv+5QTiDOA14H/iweaz7O/z+ftHBE0MgRNnGZsd1B/tH+Qd3BkaFAANBwW6/KP0T+07587iVOD438DhjuUf6xby+vlFAmoK3BEdGMIcex8aIJMeAhujFdIOAwe9/oz2/e6R6LXjveDc3yHhdeSh6UvwAvhAAHsIJRC7Fs0bAh8mICQfDRwWF5UQ+AjBAH/4vPD+6bnkRuHg36DgeOM56JDuEfY8/oUGXg5DFbsaah4SIJQf+xxyGEcS5ArGAnn6i/KC69jl7eEF4D/gmeLp5ubsK/Q5/IcEiQy0E44ZtB3dH+UfzB21GecTxAzHBHn8Z/Qb7RLns+JJ4P7f1+Gz5VDrUPI6+oUCpwoSEkgY3xyIHxYgfx7fGnMVmA7EBn3+T/bG7mXoluOu4N7fM+GX5M/pg/BA+IEAughdEOkW7RsTHyYgEx/tG+kWXRC6CIEAQPiD8M/pl+Qz4d7fruCW42Xoxu5P9n3+xAaYDnMV3xp/HhYgiB/fHEgYEhKnCoUCOvpQ8lDrs+XX4f7fSeCz4hLnG+1n9Hn8xwTEDOcTtRnMHeUf3R+0HY4ZtBOJDIcEOfwr9Obs6eaZ4j/gBeDt4djlguuL8nn6xgLkCkcSchj7HJQfEiBqHrsaQxVeDoUGPP4R9pDuOeh446Dg4N9G4bnk/um88H/4wQD4CJUQFhcNHCQfJiACH80buxYlEHsIQAAC+Evwoel15CHh3N+94LXjkej97oz2vf4DB9IOoxUCG5MeGiB7H8IcHRjcEWoKRQL6+RbyH+uO5cDh+N9U4M7iO+dP7aP0uvwHBQANGhTcGeQd7R/UH5sdZxmBE00MRwT5++/zs+zB5n/iNeAM4ATi/uW068XyufoGAyALfBKcGBcdoB8NIFUelxoSFSUORQb8/dT1Wu4O6FvjkuDj31nh2+Qt6vXwvvgCATYJzBBDFywcMx8lIPEerBuOFu0PPQgAAMP3E/By6VTkD+Hb383g1OO96DTvyvb+/kIHCw/TFSUbpx4dIG4fpRzyF6YRLAoEArv52/Hu6mnlq+Hz32Dg6eJk54Tt4PT6/EcFOw1MFAIa/B30H8sfgR0/GU0TEQwHBLn7s/N/7JnmZeIs4BPgHOIk5ubrAPP5+kYDXQuxEsUYMh2sHwggQB5yGuEU6g0GBrv9lvUk7uPnPuOF4ObfbeH+5F3qLvH9+EMBdAkDEW8XSxxDHyQg3x6LG18WtQ/+B8D/hffb70XpM+T+4Nrf3ODz4+roa+8I9z//gQdEDwIWRxu6HiAgYB+IHMcXcBHvCcQBe/mi8b3qReWW4e7fbOAF447nue0c9Tr9hwV1DX4UKBoTHvsfwR9nHRcZGhPVC8cDeft380zscuZM4iPgG+A04kvmGew88zn7hwOZC+US7hhNHbcfAiApHk0asBSwDcYFe/1Z9e7tuOch43jg6t+B4SHljepo8Tz5gwGxCToRmxdqHFIfIiDNHmkbMRZ9D8AHf/9G96PvF+kT5O3g2t/t4BPkF+mj70b3f//AB30PMRZpG80eIiBSH2ocmxc6EbEJgwE8+Wjxjeoh5YHh6t944CHjuOfu7Vn1e/3GBbANsBRNGikeAiC3H00d7hjlEpkLhwM5+zzzGexL5jTiG+Aj4EzicuZM7HfzefvHA9ULGhMXGWcdwR/7HxMeKBp+FHUNhwU6/Rz1ue2O5wXjbODu35bhReW96qLxe/nEAe8JcBHHF4gcYB8gILoeRxsCFkQPgQc//wj3a+/q6PPj3ODa3/7gM+RF6dvvhffA//4HtQ9fFosb3x4kIEMfSxxvFwMRdAlDAf34LvFd6v7kbeHm34XgPuPj5yTulvW7/QYG6g3hFHIaQB4IIKwfMh3FGLESXQtGA/n6APPm6yTmHOIT4CzgZeKZ5n/ss/O5+wcEEQxNEz8ZgR3LH/Qf/B0CGkwUOw1HBfr84PSE7WTn6eJg4PPfq+Fp5e7q2/G7+QQCLAqmEfIXpRxuHx0gpx4lG9MVCw9CB/7+yvY0773o1OPN4NvfD+FU5HLpE/DD9wAAPQjtD44WrBvxHiUgMx8sHEMXzBA2CQIBvvj18C3q2+RZ4ePfkuBb4w7oWu7U9fz9RQYlDhIVlxpVHg0goB8XHZwYfBIgCwYDufrF8rTr/uUE4gzgNeB/4sHms+zv8/n7RwRNDIETZxmbHdQf7R/kHdwZGhQADQcFuvyj9E/tO+fO4lTg+N/A4Y7lH+sW8vr5RQJqCtwRHRjCHHsfGiCTHgIboxXSDgMHvf6M9v3ukei1473g3N8h4XXkoelL8AL4QAB7CCUQuxbNGwIfJiAkHw0cFheVEPgIwQB/+Lzw/um55Ebh4N+g4HjjOeiQ7hH2PP6FBl4OQxW7GmoeEiCUH/scchhHEuQKxgJ5+ovyguvY5e3hBeA/4Jni6ebm7Cv0OfyHBIkMtBOOGbQd3R/lH8wdtRnnE8QMxwR5/Gf0G+0S57PiSeD+39fhs+VQ61DyOvqFAqcKEhJIGN8ciB8WIH8e3xpzFZgOxAZ9/k/2xu5l6JbjruDe3zPhl+TP6YPwQPiBALoIXRDpFu0bEx8mIBMf7RvpFl0QugiBAED4g/DP6ZfkM+He367gluNl6MbuT/Z9/sQGmA5zFd8afx4WIIgf3xxIGBISpwqFAjr6UPJQ67Pl1+H+30ngs+IS5xvtZ/R5/McExAznE7UZzB3lH90ftB2OGbQTiQyHBDn8K/Tm7OnmmeI/4AXg7eHY5YLri/J5+sYC5ApHEnIY+xyUHxIgah67GkMVXg6FBjz+EfaQ7jnoeOOg4ODfRuG55P7pvPB/+MEA+AiVEBYXDRwkHyYgAh/NG7sWJRB7CEAAAvhL8KHpdeQh4dzfveC145Ho/e6M9r3+AwfSDqMVAhuTHhogex/CHB0Y3BFqCkUC+vkW8h/rjuXA4fjfVODO4jvnT+2j9Lr8BwUADRoU3BnkHe0f1B+bHWcZgRNNDEcE+fvv87PsweZ/4jXgDOAE4v7ltOvF8rn6BgMgC3wSnBgXHaAfDSBVHpcaEhUlDkUG/P3U9VruDuhb45Lg499Z4dvkLer18L74AgE2CcwQQxcsHDMfJSDxHqwbjhbtDz0IAADD9xPwculU5A/h29/N4NTjveg078r2/v5CBwsP0xUlG6ceHSBuH6Uc8hemESwKBAK7+dvx7upp5avh899g4OniZOeE7eD0+vxHBTsNTBQCGvwd9B/LH4EdPxlNExEMBwS5+7Pzf+yZ5mXiLOAT4BziJObm6wDz+fpGA10LsRLFGDIdrB8IIEAechrhFOoNBga7/Zb1JO7j5z7jheDm323h/uRd6i7x/fhDAXQJAxFvF0scQx8kIN8eixtfFrUP/gfA/4X32+9F6TPk/uDa39zg8+Pq6GvvCPc//4EHRA8CFkcbuh4gIGAfiBzHF3AR7wnEAXv5ovG96kXlluHu32zgBeOO57ntHPU6/YcFdQ1+FCgaEx77H8EfZx0XGRoT1QvHA3n7d/NM7HLmTOIj4BvgNOJL5hnsPPM5+4cDmQvlEu4YTR23HwIgKR5NGrAUsA3GBXv9WfXu7bjnIeN44OrfgeEh5Y3qaPE8+YMBsQk6EZsXahxSHyIgzR5pGzEWfQ/AB3//Rvej7xfpE+Tt4Nrf7eAT5Bfpo+9G93//wAd9DzEWaRvNHiIgUh9qHJsXOhGxCYMBPPlo8Y3qIeWB4erfeOAh47jn7u1Z9Xv9xgWwDbAUTRopHgIgtx9NHe4Y5RKZC4cDOfs88xnsS+Y04hvgI+BM4nLmTOx383n7xwPVCxoTFxlnHcEf+x8THigafhR1DYcFOv0c9bntjucF42zg7t+W4UXlveqi8Xv5xAHvCXARxxeIHGAfICC6HkcbAhZED4EHP/8I92vv6ujz49zg2t/+4DPkRenb74X3wP/+B7UPXxaLG98eJCBDH0scbxcDEXQJQwH9+C7xXer+5G3h5t+F4D7j4+ck7pb1u/0GBuoN4RRyGkAeCCCsHzIdxRixEl0LRgP5+gDz5usk5hziE+As4GXimeZ/7LPzufsHBBEMTRM/GYEdyx/0H/wdAhpMFDsNRwX6/OD0hO1k5+niYODz36vhaeXu6tvxu/kEAiwKphHyF6Ucbh8dIKceJRvTFQsPQgf+/sr2NO+96NTjzeDb3w/hVORy6RPww/cAAD0I7Q+OFqwb8R4lIDMfLBxDF8wQNgkCAb749fAt6tvkWeHj35LgW+MO6Fru1PX8/UUGJQ4SFZcaVR4NIKAfFx2cGHwSIAsGA7n6xfK06/7lBOIM4DXgf+LB5rPs7/P5+0cETQyBE2cZmx3UH+0f5B3cGRoUAA0HBbr8o/RP7TvnzuJU4PjfwOGO5R/rFvL6+UUCagrcER0Ywhx7Hxogkx4CG6MV0g4DB73+jPb97pHoteO94NzfIeF15KHpS/AC+EAAewglELsWzRsCHyYgJB8NHBYXlRD4CMEAf/i88P7pueRG4eDfoOB44znokO4R9jz+hQZeDkMVuxpqHhIglB/7HHIYRxLkCsYCefqL8oLr2OXt4QXgP+CZ4unm5uwr9Dn8hwSJDLQTjhm0Hd0f5R/MHbUZ5xPEDMcEefxn9BvtEuez4kng/t/X4bPlUOtQ8jr6hQKnChISSBjfHIgfFiB/Ht8acxWYDsQGff5P9sbuZeiW467g3t8z4Zfkz+mD8ED4gQC6CF0Q6RbtGxMfJiATH+0b6RZdELoIgQBA+IPwz+mX5DPh3t+u4JbjZejG7k/2ff7EBpgOcxXfGn8eFiCIH98cSBgSEqcKhQI6+lDyUOuz5dfh/t9J4LPiEucb7Wf0efzHBMQM5xO1Gcwd5R/dH7Qdjhm0E4kMhwQ5/Cv05uzp5pniP+AF4O3h2OWC64vyefrGAuQKRxJyGPsclB8SIGoeuxpDFV4OhQY8/hH2kO456HjjoODg30bhueT+6bzwf/jBAPgIlRAWFw0cJB8mIAIfzRu7FiUQewhAAAL4S/Ch6XXkIeHc373gteOR6P3ujPa9/gMH0g6jFQIbkx4aIHsfwhwdGNwRagpFAvr5FvIf647lwOH431TgzuI750/to/S6/AcFAA0aFNwZ5B3tH9Qfmx1nGYETTQxHBPn77/Oz7MHmf+I14AzgBOL+5bTrxfK5+gYDIAt8EpwYFx2gHw0gVR6XGhIVJQ5FBvz91PVa7g7oW+OS4OPfWeHb5C3q9fC++AIBNgnMEEMXLBwzHyUg8R6sG44W7Q89CAAAw/cT8HLpVOQP4dvfzeDU473oNO/K9v7+QgcLD9MVJRunHh0gbh+lHPIXphEsCgQCu/nb8e7qaeWr4fPfYODp4mTnhO3g9Pr8RwU7DUwUAhr8HfQfyx+BHT8ZTRMRDAcEufuz83/smeZl4izgE+Ac4iTm5usA8/n6RgNdC7ESxRgyHawfCCBAHnIa4RTqDQYGu/2W9STu4+c+44Xg5t9t4f7kXeou8f34QwF0CQMRbxdLHEMfJCDfHosbXxa1D/4HwP+F99vvRekz5P7g2t/c4PPj6uhr7wj3P/+BB0QPAhZHG7oeICBgH4gcxxdwEe8JxAF7+aLxvepF5Zbh7t9s4AXjjue57Rz1Ov2HBXUNfhQoGhMe+x/BH2cdFxkaE9ULxwN5+3fzTOxy5kziI+Ab4DTiS+YZ7DzzOfuHA5kL5RLuGE0dtx8CICkeTRqwFLANxgV7/Vn17u245yHjeODq34HhIeWN6mjxPPmDAbEJOhGbF2ocUh8iIM0eaRsxFn0PwAd//0b3o+8X6RPk7eDa3+3gE+QX6aPvRvd//8AHfQ8xFmkbzR4iIFIfahybFzoRsQmDATz5aPGN6iHlgeHq33jgIeO45+7tWfV7/cYFsA2wFE0aKR4CILcfTR3uGOUSmQuHAzn7PPMZ7EvmNOIb4CPgTOJy5kzsd/N5+8cD1QsaExcZZx3BH/sfEx4oGn4UdQ2HBTr9HPW57Y7nBeNs4O7fluFF5b3qovF7+cQB7wlwEccXiBxgHyAguh5HGwIWRA+BBz//CPdr7+ro8+Pc4Nrf/uAz5EXp2++F98D//ge1D18WixvfHiQgQx9LHG8XAxF0CUMB/fgu8V3q/uRt4ebfheA+4+PnJO6W9bv9BgbqDeEUchpAHgggrB8yHcUYsRJdC0YD+foA8+brJOYc4hPgLOBl4pnmf+yz87n7BwQRDE0TPxmBHcsf9B/8HQIaTBQ7DUcF+vzg9ITtZOfp4mDg89+r4Wnl7urb8bv5BAIsCqYR8helHG4fHSCnHiUb0xULD0IH/v7K9jTvvejU483g298P4VTkcukT8MP3AAA9CO0PjhasG/EeJSAzHywcQxfMEDYJAgG++PXwLerb5Fnh49+S4FvjDuha7tT1/P1FBiUOEhWXGlUeDSCgHxcdnBh8EiALBgO5+sXytOv+5QTiDOA14H/iweaz7O/z+ftHBE0MgRNnGZsd1B/tH+Qd3BkaFAANBwW6/KP0T+07587iVOD438DhjuUf6xby+vlFAmoK3BEdGMIcex8aIJMeAhujFdIOAwe9/oz2/e6R6LXjveDc3yHhdeSh6UvwAvhAAHsIJRC7Fs0bAh8mICQfDRwWF5UQ+AjBAH/4vPD+6bnkRuHg36DgeOM56JDuEfY8/oUGXg5DFbsaah4SIJQf+xxyGEcS5ArGAnn6i/KC69jl7eEF4D/gmeLp5ubsK/Q5/IcEiQy0E44ZtB3dH+UfzB21GecTxAzHBHn8Z/Qb7RLns+JJ4P7f1+Gz5VDrUPI6+oUCpwoSEkgY3xyIHxYgfx7fGnMVmA7EBn3+T/bG7mXoluOu4N7fM+GX5M/pg/BA+IEAughdEOkW7RsTHyYgEx/tG+kWXRC6CIEAQPiD8M/pl+Qz4d7fruCW42Xoxu5P9n3+xAaYDnMV3xp/HhYgiB/fHEgYEhKnCoUCOvpQ8lDrs+XX4f7fSeCz4hLnG+1n9Hn8xwTEDOcTtRnMHeUf3R+0HY4ZtBOJDIcEOfwr9Obs6eaZ4j/gBeDt4djlguuL8nn6xgLkCkcSchj7HJQfEiBqHrsaQxVeDoUGPP4R9pDuOeh446Dg4N9G4bnk/um88H/4wQD4CJUQFhcNHCQfJiACH80buxYlEHsIQAAC+Evwoel15CHh3N+94LXjkej97oz2vf4DB9IOoxUCG5MeGiB7H8IcHRjcEWoKRQL6+RbyH+uO5cDh+N9U4M7iO+dP7aP0uvwHBQANGhTcGeQd7R/UH5sdZxmBE00MRwT5++/zs+zB5n/iNeAM4ATi/uW068XyufoGAyALfBKcGBcdoB8NIFUelxoSFSUORQb8/dT1Wu4O6FvjkuDj31nh2+Qt6vXwvvgCATYJzBBDFywcMx8lIPEerBuOFu0PPQgAAMP3E/By6VTkD+Hb383g1OO96DTvyvb+/kIHCw/TFSUbpx4dIG4fpRzyF6YRLAoEArv52/Hu6mnlq+Hz32Dg6eJk54Tt4PT6/EcFOw1MFAIa/B30H8sfgR0/GU0TEQwHBLn7s/N/7JnmZeIs4BPgHOIk5ubrAPP5+kYDXQuxEsUYMh2sHwggQB5yGuEU6g0GBrv9lvUk7uPnPuOF4ObfbeH+5F3qLvH9+EMBdAkDEW8XSxxDHyQg3x6LG18WtQ/+B8D/hffb70XpM+T+4Nrf3ODz4+roa+8I9z//gQdEDwIWRxu6HiAgYB+IHMcXcBHvCcQBe/mi8b3qReWW4e7fbOAF447nue0c9Tr9hwV1DX4UKBoTHvsfwR9nHRcZGhPVC8cDeft380zscuZM4iPgG+A04kvmGew88zn7hwOZC+US7hhNHbcfAiApHk0asBSwDcYFe/1Z9e7tuOch43jg6t+B4SHljepo8Tz5gwGxCToRmxdqHFIfIiDNHmkbMRZ9D8AHf/9G96PvF+kT5O3g2t/t4BPkF+mj70b3f//AB30PMRZpG80eIiBSH2ocmxc6EbEJgwE8+Wjxjeoh5YHh6t944CHjuOfu7Vn1e/3GBbANsBRNGikeAiC3H00d7hjlEpkLhwM5+zzzGexL5jTiG+Aj4EzicuZM7HfzefvHA9ULGhMXGWcdwR/7HxMeKBp+FHUNhwU6/Rz1ue2O5wXjbODu35bhReW96qLxe/nEAe8JcBHHF4gcYB8gILoeRxsCFkQPgQc//wj3a+/q6PPj3ODa3/7gM+RF6dvvhffA//4HtQ9fFosb3x4kIEMfSxxvFwMRdAlDAf34LvFd6v7kbeHm34XgPuPj5yTulvW7/QYG6g3hFHIaQB4IIKwfMh3FGLESXQtGA/n6APPm6yTmHOIT4CzgZeKZ5n/ss/O5+wcEEQxNEz8ZgR3LH/Qf/B0CGkwUOw1HBfr84PSE7WTn6eJg4PPfq+Fp5e7q2/G7+QQCLAqmEfIXpRxuHx0gpx4lG9MVCw9CB/7+yvY0773o1OPN4NvfD+FU5HLpE/DD9w==\" type=\"audio/wav\" />\n                    Your browser does not support the audio element.\n                </audio>\n              ",
          "text/plain": "<IPython.lib.display.Audio object>"
         },
         "metadata": {},
         "output_type": "display_data"
        }
       ]
      }
     },
     "996593e49e3a484f8e51809d54359c2f": {
      "model_module": "@jupyter-widgets/output",
      "model_module_version": "1.0.0",
      "model_name": "OutputModel",
      "state": {
       "layout": "IPY_MODEL_ccb032b24d39495dae7f39541657d537"
      }
     },
     "9c37e74bc5ed461ab8fc92e76624a6f0": {
      "model_module": "@jupyter-widgets/controls",
      "model_module_version": "1.5.0",
      "model_name": "DescriptionStyleModel",
      "state": {
       "description_width": ""
      }
     },
     "9e237bb9c49b44b780a2c143ef2cc51e": {
      "model_module": "@jupyter-widgets/output",
      "model_module_version": "1.0.0",
      "model_name": "OutputModel",
      "state": {
       "layout": "IPY_MODEL_5ea2930109cc4be0abbdf619d408f7b8",
       "outputs": [
        {
         "data": {
          "text/html": "\n                <audio  controls=\"controls\" autoplay=\"autoplay\">\n                    <source src=\"data:audio/wav;base64,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\" type=\"audio/wav\" />\n                    Your browser does not support the audio element.\n                </audio>\n              ",
          "text/plain": "<IPython.lib.display.Audio object>"
         },
         "metadata": {},
         "output_type": "display_data"
        }
       ]
      }
     },
     "a0c1be8bc6ce453ca0399ab640d64f8a": {
      "model_module": "@jupyter-widgets/controls",
      "model_module_version": "1.5.0",
      "model_name": "DescriptionStyleModel",
      "state": {
       "description_width": ""
      }
     },
     "a18acdd23c4840baa92a25956d932c8e": {
      "model_module": "@jupyter-widgets/base",
      "model_module_version": "1.2.0",
      "model_name": "LayoutModel",
      "state": {}
     },
     "a2b3e8579fef4d45bb4ce04e455b8752": {
      "model_module": "@jupyter-widgets/controls",
      "model_module_version": "1.5.0",
      "model_name": "VBoxModel",
      "state": {
       "children": [
        "IPY_MODEL_f8d7421eb3e94449aa1cd4cb1969028f",
        "IPY_MODEL_399837b3a71e424bb4989341a9cac8b3",
        "IPY_MODEL_fd1d4c9f9eb54c4c86fe6ece34a08ede",
        "IPY_MODEL_7ff3e86bc07344788b20af744cf0650a",
        "IPY_MODEL_6e435bd07c214e8799f93af57950801a"
       ],
       "layout": "IPY_MODEL_f9447b18e73b4696a5e967ebd339c394"
      }
     },
     "a3761a153e21404a84a7053435333ce6": {
      "model_module": "@jupyter-widgets/base",
      "model_module_version": "1.2.0",
      "model_name": "LayoutModel",
      "state": {}
     },
     "a500e91b024d466f85a94f29fed4651a": {
      "model_module": "@jupyter-widgets/controls",
      "model_module_version": "1.5.0",
      "model_name": "DescriptionStyleModel",
      "state": {
       "description_width": ""
      }
     },
     "a61d5f757eee40698ae47a24bd68f788": {
      "model_module": "@jupyter-widgets/controls",
      "model_module_version": "1.5.0",
      "model_name": "HBoxModel",
      "state": {
       "children": [
        "IPY_MODEL_1f85104ee96c4716b3287f8bc8fb2d05",
        "IPY_MODEL_add5c6f24cb94c9eb1712bed3cbc33e3"
       ],
       "layout": "IPY_MODEL_b6c41ca7dd624ca39f52f91aae4e3c18"
      }
     },
     "a8892a7641e24ac2848fa511b960621d": {
      "model_module": "@jupyter-widgets/controls",
      "model_module_version": "1.5.0",
      "model_name": "SliderStyleModel",
      "state": {
       "description_width": ""
      }
     },
     "a9b91b070f9b41ffb2286de4a5836bbf": {
      "model_module": "@jupyter-widgets/base",
      "model_module_version": "1.2.0",
      "model_name": "LayoutModel",
      "state": {}
     },
     "aa94d91271b24dbb9e4cb1efffceaa05": {
      "model_module": "@jupyter-widgets/base",
      "model_module_version": "1.2.0",
      "model_name": "LayoutModel",
      "state": {}
     },
     "ab7d223003e14f949b73c40226c5654d": {
      "model_module": "@jupyter-widgets/base",
      "model_module_version": "1.2.0",
      "model_name": "LayoutModel",
      "state": {
       "width": "45%"
      }
     },
     "abaaf34e58fa47bc9a40237029472d39": {
      "model_module": "@jupyter-widgets/controls",
      "model_module_version": "1.5.0",
      "model_name": "DropdownModel",
      "state": {
       "_options_labels": [
        "spectrum",
        "spectrogram"
       ],
       "description": "Display",
       "index": 1,
       "layout": "IPY_MODEL_3731407e2644412ab2344924492ad966",
       "style": "IPY_MODEL_1659f06bd4af455490522b0646b8d63e"
      }
     },
     "abe35c6a18db4dbca5c8f5153f4207bb": {
      "model_module": "@jupyter-widgets/base",
      "model_module_version": "1.2.0",
      "model_name": "LayoutModel",
      "state": {}
     },
     "ac05c4a23d954f2dac23bcb41a60bade": {
      "model_module": "@jupyter-widgets/controls",
      "model_module_version": "1.5.0",
      "model_name": "CheckboxModel",
      "state": {
       "description": "Autoplay Audio",
       "disabled": false,
       "indent": false,
       "layout": "IPY_MODEL_e95ab12aa9c24e21aa5fe947bc42b570",
       "style": "IPY_MODEL_0540e51d59f84c08b1aafbb03cb33a0f",
       "value": false
      }
     },
     "ac48f2bf89354e5f8d671a995bff191a": {
      "model_module": "@jupyter-widgets/base",
      "model_module_version": "1.2.0",
      "model_name": "LayoutModel",
      "state": {
       "width": "45%"
      }
     },
     "add5c6f24cb94c9eb1712bed3cbc33e3": {
      "model_module": "@jupyter-widgets/controls",
      "model_module_version": "1.5.0",
      "model_name": "VBoxModel",
      "state": {
       "children": [
        "IPY_MODEL_8b1f942a7968467babfe94150ff6e805",
        "IPY_MODEL_9e237bb9c49b44b780a2c143ef2cc51e",
        "IPY_MODEL_445dd5dcd7d349cc851e1d272eb591fe"
       ],
       "layout": "IPY_MODEL_b643e644bac34bedbe6debd61c63b0b5"
      }
     },
     "b019d72033214efea55f637a78719e0a": {
      "model_module": "@jupyter-widgets/controls",
      "model_module_version": "1.5.0",
      "model_name": "FloatLogSliderModel",
      "state": {
       "description": "Amplitude",
       "layout": "IPY_MODEL_a18acdd23c4840baa92a25956d932c8e",
       "max": 0,
       "min": -2,
       "step": 0.2,
       "style": "IPY_MODEL_8c074475856f4c018165672fba297343",
       "value": 0.025118864315095794
      }
     },
     "b1da2b884b37413bb85d8b4501c5837c": {
      "model_module": "@jupyter-widgets/controls",
      "model_module_version": "1.5.0",
      "model_name": "HBoxModel",
      "state": {
       "children": [
        "IPY_MODEL_4d99d483c42e4313a89c476f7ea0f57d",
        "IPY_MODEL_bfaea389ff6c4701aea1e16f9f008a95"
       ],
       "layout": "IPY_MODEL_fc0a84857fc542e7a913687691e9e922"
      }
     },
     "b58e9388edb843dc96d31686fa10675e": {
      "model_module": "@jupyter-widgets/output",
      "model_module_version": "1.0.0",
      "model_name": "OutputModel",
      "state": {
       "layout": "IPY_MODEL_1cab76b44ff64ef8a9048da3b9ba2692",
       "outputs": [
        {
         "data": {
          "text/html": "\n                <audio  controls=\"controls\" >\n                    <source src=\"data:audio/wav;base64,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\" type=\"audio/wav\" />\n                    Your browser does not support the audio element.\n                </audio>\n              ",
          "text/plain": "<IPython.lib.display.Audio object>"
         },
         "metadata": {},
         "output_type": "display_data"
        }
       ]
      }
     },
     "b5bc628ada134c85b009c237ae3b2848": {
      "model_module": "@jupyter-widgets/controls",
      "model_module_version": "1.5.0",
      "model_name": "DescriptionStyleModel",
      "state": {
       "description_width": ""
      }
     },
     "b643e644bac34bedbe6debd61c63b0b5": {
      "model_module": "@jupyter-widgets/base",
      "model_module_version": "1.2.0",
      "model_name": "LayoutModel",
      "state": {
       "border": "solid 1px black",
       "margin": "0px 10px 10px 0px",
       "padding": "5px 5px 5px 5px"
      }
     },
     "b6c41ca7dd624ca39f52f91aae4e3c18": {
      "model_module": "@jupyter-widgets/base",
      "model_module_version": "1.2.0",
      "model_name": "LayoutModel",
      "state": {}
     },
     "b6f1e90bcd384092915562e2f0989eb9": {
      "model_module": "@jupyter-widgets/controls",
      "model_module_version": "1.5.0",
      "model_name": "VBoxModel",
      "state": {
       "children": [
        "IPY_MODEL_abaaf34e58fa47bc9a40237029472d39",
        "IPY_MODEL_807922c745d74019ab524cee81bd6db3",
        "IPY_MODEL_2226f55240cd4bd9bd6ec9bbab3ea75c",
        "IPY_MODEL_6219308a767642fa857e3b3e3cbe654d",
        "IPY_MODEL_28de98985bb346d78f7dc406e5e7246d"
       ],
       "layout": "IPY_MODEL_1ef87f8cbfee4234a8303c48850265be"
      }
     },
     "b79ef2d75b1f42e9a785de466e4b1571": {
      "model_module": "@jupyter-widgets/base",
      "model_module_version": "1.2.0",
      "model_name": "LayoutModel",
      "state": {
       "width": "45%"
      }
     },
     "b971b199d34748aaaebd8bbadcc5602f": {
      "model_module": "@jupyter-widgets/controls",
      "model_module_version": "1.5.0",
      "model_name": "DescriptionStyleModel",
      "state": {
       "description_width": ""
      }
     },
     "bf8e5fe4702743ef839fb2d1070e2de3": {
      "model_module": "@jupyter-widgets/output",
      "model_module_version": "1.0.0",
      "model_name": "OutputModel",
      "state": {
       "layout": "IPY_MODEL_abe35c6a18db4dbca5c8f5153f4207bb",
       "outputs": [
        {
         "data": {
          "text/html": "\n                <audio  controls=\"controls\" >\n                    <source src=\"data:audio/wav;base64,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\" type=\"audio/wav\" />\n                    Your browser does not support the audio element.\n                </audio>\n              ",
          "text/plain": "<IPython.lib.display.Audio object>"
         },
         "metadata": {},
         "output_type": "display_data"
        }
       ]
      }
     },
     "bfaea389ff6c4701aea1e16f9f008a95": {
      "model_module": "@jupyter-widgets/controls",
      "model_module_version": "1.5.0",
      "model_name": "VBoxModel",
      "state": {
       "children": [
        "IPY_MODEL_b6f1e90bcd384092915562e2f0989eb9",
        "IPY_MODEL_991e9050bcb2492bbc7907d86325a0f6",
        "IPY_MODEL_996593e49e3a484f8e51809d54359c2f"
       ],
       "layout": "IPY_MODEL_6dd828e9584b431a80733cbc3783a195"
      }
     },
     "c2859b2c8601414c810171e8fa4c09de": {
      "model_module": "@jupyter-widgets/base",
      "model_module_version": "1.2.0",
      "model_name": "LayoutModel",
      "state": {}
     },
     "c80dfbf2692747ab88926643cc7bcf4f": {
      "model_module": "@jupyter-widgets/base",
      "model_module_version": "1.2.0",
      "model_name": "LayoutModel",
      "state": {
       "width": "45%"
      }
     },
     "ca83b85c1c3a4773836455dd07b2006b": {
      "model_module": "@jupyter-widgets/base",
      "model_module_version": "1.2.0",
      "model_name": "LayoutModel",
      "state": {
       "border": "solid 1px black",
       "margin": "0px 10px 10px 0px",
       "padding": "5px 5px 5px 5px"
      }
     },
     "cac18578abd9443db72357f6cd7e258b": {
      "model_module": "@jupyter-widgets/base",
      "model_module_version": "1.2.0",
      "model_name": "LayoutModel",
      "state": {}
     },
     "cb7c50c86afa482783505ec0d973208c": {
      "model_module": "@jupyter-widgets/controls",
      "model_module_version": "1.5.0",
      "model_name": "ButtonStyleModel",
      "state": {}
     },
     "ccb032b24d39495dae7f39541657d537": {
      "model_module": "@jupyter-widgets/base",
      "model_module_version": "1.2.0",
      "model_name": "LayoutModel",
      "state": {}
     },
     "cee732d3654a4e6f81767617f9f90afe": {
      "model_module": "@jupyter-widgets/controls",
      "model_module_version": "1.5.0",
      "model_name": "SliderStyleModel",
      "state": {
       "description_width": ""
      }
     },
     "cfbb3dbdc15b437fbaa3dbd03c7f929a": {
      "model_module": "@jupyter-widgets/base",
      "model_module_version": "1.2.0",
      "model_name": "LayoutModel",
      "state": {
       "border": "solid 1px black",
       "margin": "0px 10px 10px 0px",
       "padding": "5px 5px 5px 5px"
      }
     },
     "d07bfc4ec30a445fb18bb72fb98d221c": {
      "model_module": "@jupyter-widgets/base",
      "model_module_version": "1.2.0",
      "model_name": "LayoutModel",
      "state": {}
     },
     "d0b39d1c93bd4dee8c025ef20711961f": {
      "model_module": "@jupyter-widgets/controls",
      "model_module_version": "1.5.0",
      "model_name": "HBoxModel",
      "state": {
       "children": [
        "IPY_MODEL_8e64ee2ac5d24adb85535539ef08f8fe",
        "IPY_MODEL_eb4c2ef6cdfe4e51aa9fc4a197820cae"
       ],
       "layout": "IPY_MODEL_088174943293463fbcae83e115b2aeb9"
      }
     },
     "d1aa9ba6751741d6bc72d640e0c17d8d": {
      "model_module": "@jupyter-widgets/base",
      "model_module_version": "1.2.0",
      "model_name": "LayoutModel",
      "state": {}
     },
     "d1e5c6ebd81440329a21d87131b4af18": {
      "model_module": "@jupyter-widgets/controls",
      "model_module_version": "1.5.0",
      "model_name": "CheckboxModel",
      "state": {
       "description": "Autoplay Audio",
       "disabled": false,
       "indent": false,
       "layout": "IPY_MODEL_5af2cd698fd04735b341de6f84276420",
       "style": "IPY_MODEL_90ef0cbe30cf44e0b5fe483a156ada7e",
       "value": true
      }
     },
     "d2ff530bc12f4ae5b0acbfcde5f8664a": {
      "model_module": "@jupyter-widgets/controls",
      "model_module_version": "1.5.0",
      "model_name": "DescriptionStyleModel",
      "state": {
       "description_width": ""
      }
     },
     "d347243443aa4a4aba9c3aa0a10e90cc": {
      "model_module": "@jupyter-widgets/base",
      "model_module_version": "1.2.0",
      "model_name": "LayoutModel",
      "state": {}
     },
     "d381526aaf9b4b89b349fa131561ef52": {
      "model_module": "@jupyter-widgets/controls",
      "model_module_version": "1.5.0",
      "model_name": "HBoxModel",
      "state": {
       "children": [
        "IPY_MODEL_2d7d91921fab4f1ab3cfa5a75addd98f",
        "IPY_MODEL_d49404c892aa4821aa4b6b4f3697cce2"
       ],
       "layout": "IPY_MODEL_e5397a69bf414762bfd07a4e471409e9"
      }
     },
     "d49404c892aa4821aa4b6b4f3697cce2": {
      "model_module": "@jupyter-widgets/controls",
      "model_module_version": "1.5.0",
      "model_name": "ButtonModel",
      "state": {
       "description": "Clear the log",
       "layout": "IPY_MODEL_b79ef2d75b1f42e9a785de466e4b1571",
       "style": "IPY_MODEL_e2d0727d51fc4843baa27be7dda80d63"
      }
     },
     "d6c1d76eeac04fb5875664e65bf9f259": {
      "model_module": "@jupyter-widgets/base",
      "model_module_version": "1.2.0",
      "model_name": "LayoutModel",
      "state": {}
     },
     "dadb92b370184f068e5f9df96ad8e9e2": {
      "model_module": "@jupyter-widgets/base",
      "model_module_version": "1.2.0",
      "model_name": "LayoutModel",
      "state": {
       "width": "45%"
      }
     },
     "db4fa064251a44e590bf0e11d33b5c7b": {
      "model_module": "@jupyter-widgets/base",
      "model_module_version": "1.2.0",
      "model_name": "LayoutModel",
      "state": {}
     },
     "dc238d1392dd44dd81fa47e06ad23a4c": {
      "model_module": "@jupyter-widgets/output",
      "model_module_version": "1.0.0",
      "model_name": "OutputModel",
      "state": {
       "layout": "IPY_MODEL_598f982686f44efa9775d6b2b2de43ac",
       "outputs": [
        {
         "data": {
          "text/html": "\n                <audio  controls=\"controls\" autoplay=\"autoplay\">\n                    <source src=\"data:audio/wav;base64,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\" type=\"audio/wav\" />\n                    Your browser does not support the audio element.\n                </audio>\n              ",
          "text/plain": "<IPython.lib.display.Audio object>"
         },
         "metadata": {},
         "output_type": "display_data"
        }
       ]
      }
     },
     "dd365a8e3caa41829011f7346e7f78b3": {
      "model_module": "@jupyter-widgets/base",
      "model_module_version": "1.2.0",
      "model_name": "LayoutModel",
      "state": {}
     },
     "dda8c172bc77484e90ddf8c3efea2b92": {
      "model_module": "@jupyter-widgets/controls",
      "model_module_version": "1.5.0",
      "model_name": "SliderStyleModel",
      "state": {
       "description_width": ""
      }
     },
     "e0197a97ce1f427d836b828d2c0d3f1e": {
      "model_module": "@jupyter-widgets/base",
      "model_module_version": "1.2.0",
      "model_name": "LayoutModel",
      "state": {}
     },
     "e18cd431a32049319d4bf7a2b4a5965c": {
      "model_module": "@jupyter-widgets/controls",
      "model_module_version": "1.5.0",
      "model_name": "DescriptionStyleModel",
      "state": {
       "description_width": ""
      }
     },
     "e2d0727d51fc4843baa27be7dda80d63": {
      "model_module": "@jupyter-widgets/controls",
      "model_module_version": "1.5.0",
      "model_name": "ButtonStyleModel",
      "state": {}
     },
     "e4efd8d542ec4dd48b7f61f08b07468a": {
      "model_module": "@jupyter-widgets/base",
      "model_module_version": "1.2.0",
      "model_name": "LayoutModel",
      "state": {}
     },
     "e5397a69bf414762bfd07a4e471409e9": {
      "model_module": "@jupyter-widgets/base",
      "model_module_version": "1.2.0",
      "model_name": "LayoutModel",
      "state": {}
     },
     "e6d10da883f44535af423014a8574cf3": {
      "model_module": "@jupyter-widgets/base",
      "model_module_version": "1.2.0",
      "model_name": "LayoutModel",
      "state": {}
     },
     "e7a229135caf4988b51815f32c690f07": {
      "model_module": "@jupyter-widgets/base",
      "model_module_version": "1.2.0",
      "model_name": "LayoutModel",
      "state": {
       "width": "45%"
      }
     },
     "e7d57ebf682f46f7b65a3502e63aac95": {
      "model_module": "@jupyter-widgets/controls",
      "model_module_version": "1.5.0",
      "model_name": "SliderStyleModel",
      "state": {
       "description_width": ""
      }
     },
     "e8a7ad2772634fbbace042e75a9e17c8": {
      "model_module": "@jupyter-widgets/base",
      "model_module_version": "1.2.0",
      "model_name": "LayoutModel",
      "state": {
       "border": "solid 1px black",
       "margin": "0px 10px 10px 0px",
       "padding": "5px 5px 5px 5px"
      }
     },
     "e8e264d70aae434996d8c41d67d88b47": {
      "model_module": "@jupyter-widgets/controls",
      "model_module_version": "1.5.0",
      "model_name": "SliderStyleModel",
      "state": {
       "description_width": ""
      }
     },
     "e91c2dc1963a4f74a47904bcf9a60972": {
      "model_module": "@jupyter-widgets/controls",
      "model_module_version": "1.5.0",
      "model_name": "DescriptionStyleModel",
      "state": {
       "description_width": ""
      }
     },
     "e95ab12aa9c24e21aa5fe947bc42b570": {
      "model_module": "@jupyter-widgets/base",
      "model_module_version": "1.2.0",
      "model_name": "LayoutModel",
      "state": {
       "width": "45%"
      }
     },
     "e9ce8afcfd274f479f445f81d9a8ca82": {
      "model_module": "@jupyter-widgets/controls",
      "model_module_version": "1.5.0",
      "model_name": "FloatSliderModel",
      "state": {
       "description": "Frequency",
       "layout": "IPY_MODEL_67fc276cbc834c219798ff126376269b",
       "max": 1000,
       "min": 50,
       "step": 10,
       "style": "IPY_MODEL_cee732d3654a4e6f81767617f9f90afe",
       "value": 760
      }
     },
     "eb0f090c20664043863e50ae8daba4d3": {
      "model_module": "@jupyter-widgets/controls",
      "model_module_version": "1.5.0",
      "model_name": "DescriptionStyleModel",
      "state": {
       "description_width": ""
      }
     },
     "eb4c2ef6cdfe4e51aa9fc4a197820cae": {
      "model_module": "@jupyter-widgets/controls",
      "model_module_version": "1.5.0",
      "model_name": "ButtonModel",
      "state": {
       "description": "Clear the log",
       "layout": "IPY_MODEL_dadb92b370184f068e5f9df96ad8e9e2",
       "style": "IPY_MODEL_67fce63199fb43ecbb0146830c187ce6"
      }
     },
     "ec53f90b134e427c80c10d886f53c68e": {
      "model_module": "@jupyter-widgets/controls",
      "model_module_version": "1.5.0",
      "model_name": "SliderStyleModel",
      "state": {
       "description_width": ""
      }
     },
     "ef1e909a7aa34f4faf0b1775d79f5186": {
      "model_module": "@jupyter-widgets/base",
      "model_module_version": "1.2.0",
      "model_name": "LayoutModel",
      "state": {
       "border": "solid 1px black",
       "margin": "0px 10px 10px 0px",
       "padding": "5px 5px 5px 5px"
      }
     },
     "efcafc201e1349c89a936f1c04599323": {
      "model_module": "@jupyter-widgets/controls",
      "model_module_version": "1.5.0",
      "model_name": "DescriptionStyleModel",
      "state": {
       "description_width": ""
      }
     },
     "f513a6754fe24f579129544044037eed": {
      "model_module": "@jupyter-widgets/base",
      "model_module_version": "1.2.0",
      "model_name": "LayoutModel",
      "state": {
       "border": "solid 1px black",
       "margin": "0px 10px 10px 0px",
       "padding": "5px 5px 5px 5px"
      }
     },
     "f5d3c3bd63ed4c8e8cea9bd051f174eb": {
      "model_module": "@jupyter-widgets/controls",
      "model_module_version": "1.5.0",
      "model_name": "HBoxModel",
      "state": {
       "children": [
        "IPY_MODEL_5cebbbaaf04940f4a8ed1dc3c6753137",
        "IPY_MODEL_6a0cdfaf4e7547c2ab3c9bacff7bdd1d"
       ],
       "layout": "IPY_MODEL_7d0db969008946a68d4406292fcc0edd"
      }
     },
     "f5fab0c9b5b04c4cbee716e2551a8c57": {
      "model_module": "@jupyter-widgets/controls",
      "model_module_version": "1.5.0",
      "model_name": "ButtonModel",
      "state": {
       "description": "Clear the log",
       "layout": "IPY_MODEL_ab7d223003e14f949b73c40226c5654d",
       "style": "IPY_MODEL_3dcef3bcf0374d3e9f1047a121f1c60a"
      }
     },
     "f8d7421eb3e94449aa1cd4cb1969028f": {
      "model_module": "@jupyter-widgets/controls",
      "model_module_version": "1.5.0",
      "model_name": "DropdownModel",
      "state": {
       "_options_labels": [
        "spectrum",
        "spectrogram"
       ],
       "description": "Display",
       "index": 0,
       "layout": "IPY_MODEL_1f14d6d032824d02b84f0a27fd121487",
       "style": "IPY_MODEL_b5bc628ada134c85b009c237ae3b2848"
      }
     },
     "f9447b18e73b4696a5e967ebd339c394": {
      "model_module": "@jupyter-widgets/base",
      "model_module_version": "1.2.0",
      "model_name": "LayoutModel",
      "state": {
       "border": "solid 1px black",
       "margin": "0px 10px 10px 0px",
       "padding": "5px 5px 5px 5px"
      }
     },
     "f9e7658948fc445f87f33cc71f8a3952": {
      "model_module": "@jupyter-widgets/output",
      "model_module_version": "1.0.0",
      "model_name": "OutputModel",
      "state": {
       "layout": "IPY_MODEL_ca83b85c1c3a4773836455dd07b2006b",
       "outputs": [
        {
         "data": {
          "image/png": "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\n",
          "text/plain": "<Figure size 648x288 with 2 Axes>"
         },
         "metadata": {},
         "output_type": "display_data"
        }
       ]
      }
     },
     "fa37b0b66d1748448c2f482d29a3b504": {
      "model_module": "@jupyter-widgets/controls",
      "model_module_version": "1.5.0",
      "model_name": "DropdownModel",
      "state": {
       "_options_labels": [
        "sin",
        "square",
        "sawtooth"
       ],
       "description": "Signal",
       "index": 0,
       "layout": "IPY_MODEL_12c3dc53761a4faf927d2fd77d055416",
       "style": "IPY_MODEL_e91c2dc1963a4f74a47904bcf9a60972"
      }
     },
     "fa97efaf7512414bbc6e2d0e15b44571": {
      "model_module": "@jupyter-widgets/base",
      "model_module_version": "1.2.0",
      "model_name": "LayoutModel",
      "state": {}
     },
     "fb84e189f5844a8594b0a83bd0f686e3": {
      "model_module": "@jupyter-widgets/controls",
      "model_module_version": "1.5.0",
      "model_name": "CheckboxModel",
      "state": {
       "description": "Autoplay Audio",
       "disabled": false,
       "indent": false,
       "layout": "IPY_MODEL_e7a229135caf4988b51815f32c690f07",
       "style": "IPY_MODEL_a500e91b024d466f85a94f29fed4651a",
       "value": false
      }
     },
     "fc0a84857fc542e7a913687691e9e922": {
      "model_module": "@jupyter-widgets/base",
      "model_module_version": "1.2.0",
      "model_name": "LayoutModel",
      "state": {}
     },
     "fc9b5e8e11564cdaa5771fe54d606b25": {
      "model_module": "@jupyter-widgets/base",
      "model_module_version": "1.2.0",
      "model_name": "LayoutModel",
      "state": {
       "width": "45%"
      }
     },
     "fd1d4c9f9eb54c4c86fe6ece34a08ede": {
      "model_module": "@jupyter-widgets/controls",
      "model_module_version": "1.5.0",
      "model_name": "FloatLogSliderModel",
      "state": {
       "description": "Amplitude",
       "layout": "IPY_MODEL_14624e1a300c4583bdb2bf4aa7dd11a5",
       "max": 0,
       "min": -2,
       "step": 0.2,
       "style": "IPY_MODEL_ec53f90b134e427c80c10d886f53c68e"
      }
     }
    },
    "version_major": 2,
    "version_minor": 0
   }
  }
 },
 "nbformat": 4,
 "nbformat_minor": 4
}
