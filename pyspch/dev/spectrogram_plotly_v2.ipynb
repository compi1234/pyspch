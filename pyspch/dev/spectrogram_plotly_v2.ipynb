{
 "cells": [
  {
   "cell_type": "markdown",
   "metadata": {},
   "source": [
    "<a href=\"https://colab.research.google.com/github/compi1234/pyspch/blob/master/test/spectrogram_test_ly.ipynb\" target=\"_parent\"><img src=\"https://colab.research.google.com/assets/colab-badge.svg\" alt=\"Open In Colab\"/></a>"
   ]
  },
  {
   "cell_type": "markdown",
   "metadata": {},
   "source": [
    "# Spectrogram Plotting with plotly\n",
    "\n",
    "Using plotly as plotting backend has the advantage of creating an object in the browser that can be \n",
    "further manipulated by plotly-js, especially useful for zooming and scrolling.  The plots can be \n",
    "renedered inside a notebook or in a separate browser window.\n",
    "\n",
    "Requirements:   \n",
    "- plotly >= 4.12   \n",
    "- pyspch\n",
    "\n",
    "You may need to install following packages\n",
    "> !pip install plotly=4.12   \n",
    "> !pip install git+https://github.com/compi1234/pyspch.git     \n",
    "> jupyter labextension install jupyterlab-plotly@4.14.3      (needed in Jupyter Lab, use appropriate version)\n",
    "\n",
    "If in doubt on you local plotly setup, check:  https://plotly.com/python/getting-started/"
   ]
  },
  {
   "cell_type": "code",
   "execution_count": 1,
   "metadata": {},
   "outputs": [
    {
     "name": "stdout",
     "output_type": "stream",
     "text": [
      "plotly:  4.12.0  with renderer:  browser\n",
      "pyspch(display): using PLOTLY backend !\n"
     ]
    }
   ],
   "source": [
    "# setting up for plotly plotting - you need to do this before importing pyspch.display\n",
    "# use 'browser' as renderer to render in a separate browser window, otherwise the default is most likely OK\n",
    "import os, sys\n",
    "import numpy as np\n",
    "import plotly\n",
    "import plotly.io as pio\n",
    "import plotly.graph_objects as go\n",
    "os.environ['PYSPCH_BACKEND'] = 'plotly'\n",
    "pio.renderers.default = \"browser\"\n",
    "print(\"plotly: \",plotly.__version__,\" with renderer: \",pio.renderers.default)\n",
    "####\n",
    "from IPython.display import display, Audio, HTML, clear_output\n",
    "import pyspch.spectrogram as specg\n",
    "import pyspch.audio as audio\n",
    "import pyspch.utils as spch\n",
    "import pyspch.display as spch_disp\n",
    "import pyspch.timit_file_tools as tio"
   ]
  },
  {
   "cell_type": "code",
   "execution_count": 3,
   "metadata": {},
   "outputs": [],
   "source": [
    "# 1. set basename and directories\n",
    "dir='https://homes.esat.kuleuven.be/~spchlab/data/'\n",
    "file = \"timit/si1027\" #@param {type:\"string\"}\n",
    "basename = dir+file\n",
    "wavfname = basename + \".wav\"\n",
    "wrdfname = basename + \".wrd\"\n",
    "phnfname = basename + \".phn\"\n",
    "# 2. read the waveform data and compute a spectrogram\n",
    "wavdata, sr = audio.load(wavfname)\n",
    "f_shift = 0.01\n",
    "spgdata = specg.spectrogram(wavdata,sample_rate=sr,f_shift=f_shift,n_mels=None)\n",
    "(nparam,nfr) = spgdata.shape\n",
    "# 3. get segmentations\n",
    "segwrd = tio.read_seg_file(wrdfname,dt=1/sr,fmt='float32')\n",
    "segphn = tio.read_seg_file(phnfname,dt=1/sr,fmt='float32',xlat='map61_cmu')"
   ]
  },
  {
   "cell_type": "markdown",
   "metadata": {},
   "source": [
    "### 1. Elementary Waveform and Heatmap plotting using plotly"
   ]
  },
  {
   "cell_type": "code",
   "execution_count": 4,
   "metadata": {},
   "outputs": [],
   "source": [
    "wave_go = go.Scatter(y=wavdata[0:16000], dx=1./sr,\n",
    "                  showlegend=False,\n",
    "                  hoverinfo=\"x+y\",\n",
    "                 )\n",
    "fig_wav = go.Figure(wave_go)\n",
    "fig_wav.show()"
   ]
  },
  {
   "cell_type": "code",
   "execution_count": 5,
   "metadata": {},
   "outputs": [],
   "source": [
    "spg_go = go.Heatmap(z=spgdata,dx=f_shift,x0=f_shift/2.,dy=sr/(2*(nparam-1)),\n",
    "                 colorscale='Jet',\n",
    "                 showscale=False,\n",
    "                 showlegend=False,\n",
    "                 hoverinfo=\"x+y+z\",\n",
    "                 name='Spectrogram',\n",
    "                 text=spgdata)\n",
    "go.Figure(spg_go).show()"
   ]
  },
  {
   "cell_type": "markdown",
   "metadata": {},
   "source": [
    "## 2. Plotting using the pyspch.display API's\n",
    "In the example below we illustrate a multi-tier plot of speech sample, showing time aligned versions of sample waveform, spectrogram and varies (linguistic) segmentations\n",
    "\n",
    "Everything is displayed using the plotly backend and making use of the RangeSlider for scrolling and zooming.\n",
    "The RangeSlider copies one of the axis in which a selection is highlighted. The rest of the picture zooms in on the highlighted selection. \n",
    "However, be aware that the RangeSlider is displayed immediately below the axis that it is linked to, so the convenience solution is to organize the picture in such a way that the axis to be associated with the RangeSlider is at the bottom of the multi-axis plot."
   ]
  },
  {
   "cell_type": "code",
   "execution_count": 6,
   "metadata": {},
   "outputs": [],
   "source": [
    "# Multi-Segmentation Plot with RangeSlider\n",
    "# with Rangeslider on Time Window\n",
    "Rangeslider=True\n",
    "Range_is_Time = True\n",
    "if Range_is_Time: iwav = 3; ispg = 0; row_heights=[4,1,1,2];\n",
    "else: iwav = 0; ispg = 3; row_heights=[2,1,1,4];\n",
    " \n",
    "fig = spch_disp.make_rows(row_heights=row_heights,figsize=(20,12))\n",
    "spch_disp.add_line_plot(fig,iwav,wavdata,dx=1./sr)\n",
    "spch_disp.add_seg_plot(fig,1,segwrd,ypos=0.5)\n",
    "spch_disp.add_seg_plot(fig,2,segphn,ypos=0.5,size=10,color=\"#000000\")\n",
    "spch_disp.add_img_plot(fig,ispg,spgdata,x0=f_shift/2.,dx=f_shift)\n",
    "if(Rangeslider):\n",
    "    fig['layout']['xaxis4'].update(title='Time(sec)',\n",
    "                               type='linear',\n",
    "                               rangeslider=dict(visible=True,borderwidth=2,bgcolor=\"#bbb\"), \n",
    "                               showgrid=False)\n",
    "fig.show()\n",
    "#Audio(data=wavdata,rate=sr)"
   ]
  },
  {
   "cell_type": "code",
   "execution_count": null,
   "metadata": {},
   "outputs": [],
   "source": [
    "# You can write out the plotly output to an HTML file, useful for interactive displays\n",
    "fig.write_html(\"fig_plotly_1.html\")"
   ]
  },
  {
   "cell_type": "code",
   "execution_count": null,
   "metadata": {},
   "outputs": [],
   "source": []
  }
 ],
 "metadata": {
  "kernelspec": {
   "display_name": "Python 3",
   "language": "python",
   "name": "python3"
  },
  "language_info": {
   "codemirror_mode": {
    "name": "ipython",
    "version": 3
   },
   "file_extension": ".py",
   "mimetype": "text/x-python",
   "name": "python",
   "nbconvert_exporter": "python",
   "pygments_lexer": "ipython3",
   "version": "3.7.10"
  },
  "widgets": {
   "application/vnd.jupyter.widget-state+json": {
    "state": {},
    "version_major": 2,
    "version_minor": 0
   }
  }
 },
 "nbformat": 4,
 "nbformat_minor": 4
}
