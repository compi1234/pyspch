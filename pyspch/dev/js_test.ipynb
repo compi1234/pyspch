{
 "cells": [
  {
   "cell_type": "markdown",
   "id": "growing-hindu",
   "metadata": {},
   "source": [
    "<a href=\"https://colab.research.google.com/github/compi1234/pyspch/blob/master/test/audio_test.ipynb\" target=\"_parent\"><img src=\"https://colab.research.google.com/assets/colab-badge.svg\" alt=\"Open In Colab\"/></a>"
   ]
  },
  {
   "cell_type": "markdown",
   "id": "relative-bikini",
   "metadata": {},
   "source": [
    "## Audio Test Notebook \n",
    "\n",
    "especially the JAVASCRIPT pieces in audio\n",
    "\n",
    "Date: 17/05/2021"
   ]
  },
  {
   "cell_type": "code",
   "execution_count": 6,
   "id": "honest-cosmetic",
   "metadata": {},
   "outputs": [],
   "source": [
    "%matplotlib inline\n",
    "#from IPython import notebook\n",
    "from IPython.display import display, clear_output, Audio, HTML, Javascript\n",
    "import ipywidgets as widgets\n",
    "import numpy as np\n",
    "import matplotlib.pyplot as plt\n",
    "\n",
    "import librosa\n",
    "try:\n",
    "  import google.colab\n",
    "  IN_COLAB = True \n",
    "  ! pip install git+https://github.com/compi1234/pyspch.git\n",
    "except:\n",
    "  IN_COLAB = False\n",
    "\n",
    "# verify the IPython version\n",
    "import IPython\n",
    "if IPython.version_info[0] >= 6:\n",
    "    Audio_args = {'normalize':False}\n",
    "else:\n",
    "    print(\"Warning: you are using IPython<6 \\n IPython.display.Audio() will automatically normalize audio output\")\n",
    "    Audio_args = {}\n",
    "import pyspch.audio as audio\n",
    "import pyspch.spectrogram as specg\n",
    "import pyspch.utils as spch_utils\n",
    "import pyspch.display as spch_disp\n",
    "#import pyspch.display_ly as spch_disp\n",
    "import pyspch\n",
    "\n",
    "SAMPLE_WAV_URL = 'https://homes.esat.kuleuven.be/~spchlab/data/misc/train.wav'\n",
    "SAMPLE_WAV_13dB_SNGER = 'https://homes.esat.kuleuven.be/~spchlab/data/13dB/Psnger22.wav'"
   ]
  },
  {
   "cell_type": "markdown",
   "id": "consolidated-perspective",
   "metadata": {},
   "source": [
    "## 1. Read from file"
   ]
  },
  {
   "cell_type": "code",
   "execution_count": null,
   "id": "standing-detection",
   "metadata": {},
   "outputs": [],
   "source": [
    "wavname = SAMPLE_WAV_URL\n",
    "wavdata,sample_rate= audio.load(wavname)\n",
    "# \n",
    "print(wavdata.shape, sample_rate)\n",
    "fig = plt.figure(figsize=(6,2))\n",
    "plt.plot(wavdata)\n",
    "# if you want the plot above the audio widget, add line below\n",
    "# plt.show()\n",
    "display(Audio(data=wavdata,rate=sample_rate,autoplay=False,**Audio_args))"
   ]
  },
  {
   "cell_type": "code",
   "execution_count": null,
   "id": "chicken-worker",
   "metadata": {},
   "outputs": [],
   "source": [
    "audio.play(wavdata,sample_rate=sample_rate,wait=True,io_device='js')"
   ]
  },
  {
   "cell_type": "code",
   "execution_count": null,
   "id": "anticipated-kernel",
   "metadata": {},
   "outputs": [],
   "source": []
  },
  {
   "cell_type": "code",
   "execution_count": null,
   "id": "opponent-possible",
   "metadata": {},
   "outputs": [],
   "source": [
    "# Getting values out of GUI via globals"
   ]
  },
  {
   "cell_type": "code",
   "execution_count": null,
   "id": "detailed-sigma",
   "metadata": {},
   "outputs": [],
   "source": [
    "global global_value\n",
    "def box_layout():\n",
    "     return widgets.Layout(\n",
    "        border='solid 1px black',\n",
    "        margin='0px 10px 10px 0px',\n",
    "        padding='5px 5px 5px 5px'\n",
    "     )\n",
    "class demo(widgets.VBox):\n",
    "    def __init__(self,value=10):\n",
    "        self.value = value\n",
    "        super().__init__()\n",
    "        self.wg_button = widgets.Button(description='Click',layout=box_layout())\n",
    "        self.wg_button.on_click(self.click_button)\n",
    "        self.out = widgets.Output(layout=box_layout())\n",
    "        self.children = [self.wg_button, self.out]\n",
    "\n",
    "        \n",
    "    def click_button(self,b): \n",
    "        global global_value\n",
    "        self.value = 2. * self.value\n",
    "        global_value = self.value\n",
    "        with self.out:\n",
    "            print(\"New value: \",self.value)\n",
    "            \n",
    "demo(value=3)"
   ]
  },
  {
   "cell_type": "code",
   "execution_count": null,
   "id": "introductory-settlement",
   "metadata": {},
   "outputs": [],
   "source": [
    "global_value"
   ]
  },
  {
   "cell_type": "markdown",
   "id": "accomplished-september",
   "metadata": {},
   "source": [
    "## Interfacing HTML and JS \n",
    "- get the HTML (GUI) in place\n",
    "- define the javascript code after finishing all HTML, \n",
    "    + do it all in the same cell !"
   ]
  },
  {
   "cell_type": "code",
   "execution_count": 20,
   "id": "cutting-lobby",
   "metadata": {},
   "outputs": [
    {
     "data": {
      "text/html": [
       "<input id='x' type='number' value=2>\n",
       "x\n",
       "<input id='y' type='number' value=-1> \n",
       "<input type=\"button\" value=\"=\" onclick=\"DoIt('x','y','z')\">\n",
       "<b id='z'></b>\n",
       "<script>\n",
       "var z\n",
       "function Multi(x,y) {\n",
       "    console.log(\"Multi - original\")\n",
       "    return Number(x) * Number(y)\n",
       "    }\n",
       "function DoIt(xid,yid,zid) {\n",
       "    x = document.getElementById(xid).value\n",
       "    y = document.getElementById(yid).value\n",
       "    z = Multi(x,y)\n",
       "    document.getElementById(zid).innerHTML = z\n",
       "    console.log(\"z= \",x,y,z)\n",
       "}\n",
       "</script>\n"
      ],
      "text/plain": [
       "<IPython.core.display.HTML object>"
      ]
     },
     "metadata": {},
     "output_type": "display_data"
    }
   ],
   "source": [
    "%%html\n",
    "<input id='x' type='number' value=2>\n",
    "x\n",
    "<input id='y' type='number' value=-1> \n",
    "<input type=\"button\" value=\"=\" onclick=\"DoIt('x','y','z')\">\n",
    "<b id='z'></b>\n",
    "<script>\n",
    "var z\n",
    "function Multi(x,y) {\n",
    "    console.log(\"Multi - original\")\n",
    "    return Number(x) * Number(y)\n",
    "    }\n",
    "function DoIt(xid,yid,zid) {\n",
    "    x = document.getElementById(xid).value\n",
    "    y = document.getElementById(yid).value\n",
    "    z = Multi(x,y)\n",
    "    document.getElementById(zid).innerHTML = z\n",
    "    console.log(\"z= \",x,y,z)\n",
    "}\n",
    "</script>"
   ]
  },
  {
   "cell_type": "markdown",
   "id": "dirty-madonna",
   "metadata": {},
   "source": [
    "You can split definition of HTML, Javascript and execution\n",
    "Just be careful not to run any Javascript code before the HTML elements it requires are defined"
   ]
  },
  {
   "cell_type": "code",
   "execution_count": 9,
   "id": "spatial-nurse",
   "metadata": {},
   "outputs": [
    {
     "data": {
      "text/html": [
       "\n",
       "<input id='x1' type='number' value=2>\n",
       "x\n",
       "<input id='y1' type='number' value=-1> \n",
       "<input type='button' value='=' onclick='DoIt1(\"x1\",\"y1\",\"z1\")'>\n",
       "<b id='z1'></b>\n",
       "<script>\n",
       "function Multi1(x,y) {\n",
       "    console.log('Multi1')\n",
       "    return Number(x) * Number(y)\n",
       "    }\n",
       "function DoIt1(xid,yid,zid) {\n",
       "    console.log('DoIt1')    \n",
       "    x = document.getElementById(xid).value\n",
       "    y = document.getElementById(yid).value\n",
       "    var z = Multi1(x,y)\n",
       "    document.getElementById(zid).innerHTML = z\n",
       "    console.log('z= ',x,y,z)\n",
       "}\n",
       "</script>"
      ],
      "text/plain": [
       "<IPython.core.display.HTML object>"
      ]
     },
     "metadata": {},
     "output_type": "display_data"
    }
   ],
   "source": [
    "_HTML1_ = \"\"\"\n",
    "<input id='x1' type='number' value=2>\n",
    "x\n",
    "<input id='y1' type='number' value=-1> \n",
    "<input type='button' value='=' onclick='DoIt1(\"x1\",\"y1\",\"z1\")'>\n",
    "<b id='z1'></b>\n",
    "\"\"\"\n",
    "\n",
    "_JS1_ = \"\"\"\n",
    "function Multi1(x,y) {\n",
    "    console.log('Multi1')\n",
    "    return Number(x) * Number(y)\n",
    "    }\n",
    "function DoIt1(xid,yid,zid) {\n",
    "    console.log('DoIt1')    \n",
    "    x = document.getElementById(xid).value\n",
    "    y = document.getElementById(yid).value\n",
    "    var z = Multi1(x,y)\n",
    "    document.getElementById(zid).innerHTML = z\n",
    "    console.log('z= ',x,y,z)\n",
    "}\n",
    "\"\"\"\n",
    "\n",
    "display(HTML(_HTML1_ + \"<script>\" + _JS1_  + \"</script>\"))\n"
   ]
  },
  {
   "cell_type": "code",
   "execution_count": 11,
   "id": "sized-lincoln",
   "metadata": {},
   "outputs": [
    {
     "data": {
      "application/javascript": [
       "var old=3.500000\n",
       " \n",
       "console.log(\"Executing JS2\")\n",
       "console.log(\"old= \",old)\n",
       "var my_js_variable = 2 * old\n",
       "console.log(\"new= \",my_js_variable)\n"
      ],
      "text/plain": [
       "<IPython.core.display.Javascript object>"
      ]
     },
     "execution_count": 11,
     "metadata": {},
     "output_type": "execute_result"
    }
   ],
   "source": [
    "python_variable = 3.5\n",
    "_JS2_ = \"\"\"\n",
    "console.log(\"Executing JS2\")\n",
    "console.log(\"old= \",old)\n",
    "var my_js_variable = 2 * old\n",
    "console.log(\"new= \",my_js_variable)\n",
    "\"\"\"\n",
    "txt2 = \"var old=%f\\n \" % python_variable\n",
    "Javascript(txt2+_JS2_)"
   ]
  },
  {
   "cell_type": "code",
   "execution_count": 26,
   "id": "fluid-conclusion",
   "metadata": {},
   "outputs": [
    {
     "data": {
      "text/html": [
       "<b id='x3'>3</b> x \n",
       "<b id='y3'>7</b> = \n",
       "<b id='z3'>0</b>\n"
      ],
      "text/plain": [
       "<IPython.core.display.HTML object>"
      ]
     },
     "metadata": {},
     "output_type": "display_data"
    }
   ],
   "source": [
    "%%html\n",
    "<b id='x3'>3</b> x \n",
    "<b id='y3'>7</b> = \n",
    "<b id='z3'>0</b>"
   ]
  },
  {
   "cell_type": "code",
   "execution_count": 28,
   "id": "elegant-location",
   "metadata": {},
   "outputs": [],
   "source": [
    "# passing arguments to javascript functions\n",
    "# definition + stacking several functions"
   ]
  },
  {
   "cell_type": "code",
   "execution_count": 29,
   "id": "common-visiting",
   "metadata": {},
   "outputs": [
    {
     "data": {
      "application/javascript": [
       "\n",
       "//var x = document.getElementById('x3').innerHTML;\n",
       "//var y = document.getElementById('y3').innerHTML;\n",
       "document.getElementById('z3').innerHTML = Number(x) *Number(y)\n",
       "console.log(\"Executing _JS3_\")\n",
       "function Multi3() {\n",
       "    console.log(\"Multi3\")\n",
       "    var x = document.getElementById('x3').innerHTML;\n",
       "    var y = document.getElementById('y3').innerHTML;\n",
       "    document.getElementById('z3').innerHTML = Number(x) *Number(y)\n",
       "    console.log(\"new= \")\n",
       "    }\n",
       "function Update3(x,y) {\n",
       "    document.getElementById('x3').innerHTML=x\n",
       "    document.getElementById('y3').innerHTML=y\n",
       "    }\n",
       "Multi3()\n",
       "//console.log(\"new= \",my_js_variable)\n",
       "Update3(225,3.2) + Multi3() "
      ],
      "text/plain": [
       "<IPython.core.display.Javascript object>"
      ]
     },
     "execution_count": 29,
     "metadata": {},
     "output_type": "execute_result"
    }
   ],
   "source": [
    "_JS3_ = \"\"\"\n",
    "//var x = document.getElementById('x3').innerHTML;\n",
    "//var y = document.getElementById('y3').innerHTML;\n",
    "document.getElementById('z3').innerHTML = Number(x) *Number(y)\n",
    "console.log(\"Executing _JS3_\")\n",
    "function Multi3() {\n",
    "    console.log(\"Multi3\")\n",
    "    var x = document.getElementById('x3').innerHTML;\n",
    "    var y = document.getElementById('y3').innerHTML;\n",
    "    document.getElementById('z3').innerHTML = Number(x) *Number(y)\n",
    "    console.log(\"new= \")\n",
    "    }\n",
    "function Update3(x,y) {\n",
    "    document.getElementById('x3').innerHTML=x\n",
    "    document.getElementById('y3').innerHTML=y\n",
    "    }\n",
    "Multi3()\n",
    "//console.log(\"new= \",my_js_variable)\n",
    "\"\"\"\n",
    "\n",
    "#Javascript(_JS3_)\n",
    "Javascript(_JS3_ + \"Update3(225,3.2) + Multi3() \")"
   ]
  },
  {
   "cell_type": "markdown",
   "id": "underlying-relay",
   "metadata": {},
   "source": [
    "## Javascript Audio"
   ]
  },
  {
   "cell_type": "code",
   "execution_count": null,
   "id": "external-malpractice",
   "metadata": {},
   "outputs": [],
   "source": [
    "# Ipython.notebook.kernel is a mechanism to get things back from javascript to python\n",
    "# but .....   works in standard notebook, not in lab"
   ]
  },
  {
   "cell_type": "code",
   "execution_count": null,
   "id": "requested-transaction",
   "metadata": {},
   "outputs": [],
   "source": [
    "from IPython.display import HTML\n",
    "\n",
    "input_form = \"\"\"\n",
    "<div style=\"background-color:gainsboro; border:solid black; width:300px; padding:20px;\">\n",
    "Variable Name: <input type=\"text\" id=\"var_name\" value=\"foo\"><br>\n",
    "Variable Value: <input type=\"text\" id=\"var_value\" value=\"bar\"><br>\n",
    "<button onclick=\"set_value()\">Set Value</button>\n",
    "</div>\n",
    "\"\"\"\n",
    "\n",
    "javascript = \"\"\"\n",
    "<script type=\"text/Javascript\">\n",
    "    function set_value(){\n",
    "        var var_name = document.getElementById('var_name').value;\n",
    "        var var_value = document.getElementById('var_value').value;\n",
    "        var command = var_name + \" = '\" + var_value + \"'\";\n",
    "        console.log(\"Executing Command: \" + command);\n",
    "        \n",
    "        var kernel = IPython.notebook.kernel;\n",
    "        kernel.execute(command);\n",
    "    }\n",
    "</script>\n",
    "\"\"\"\n",
    "\n",
    "HTML(input_form + javascript)"
   ]
  },
  {
   "cell_type": "code",
   "execution_count": null,
   "id": "pediatric-story",
   "metadata": {},
   "outputs": [],
   "source": [
    "print(foo)"
   ]
  },
  {
   "cell_type": "code",
   "execution_count": null,
   "id": "retained-laser",
   "metadata": {},
   "outputs": [],
   "source": [
    "%%html\n",
    "<h2>Play Audio File: from file or url</h2>\n",
    "<p>\n",
    "<label for=\"file\">Select a File : </label>\n",
    "<input id=\"audio_file\" type=\"file\" accept=\"audio/*\" />\n",
    "</p>\n",
    "<p>\n",
    "<label for=\"url\">Complete the URL : </label>\n",
    "<input id=\"audio_url\" type=\"url\" name=\"url\" \n",
    "       value=\"https://homes.esat.kuleuven.be/~spchlab/data/misc/\"\n",
    "       pattern=\"https://.*\" size=\"60\"\n",
    "       required>\n",
    "</p>\n",
    "<p>\n",
    "<audio controls id=\"audio_player\"></audio>\n",
    "</p>\n",
    "\n",
    "<script>\n",
    "\n",
    "audio_file.onchange = function(){\n",
    "    var files = this.files;\n",
    "    var file = URL.createObjectURL(files[0]); \n",
    "    audio_player.src = file; \n",
    "};\n",
    "\n",
    "audio_url.onchange = function(){\n",
    "    var url = this.value; \n",
    "    audio_player.src = url; \n",
    "};\n",
    "\n",
    "</script>"
   ]
  },
  {
   "cell_type": "code",
   "execution_count": null,
   "id": "macro-inclusion",
   "metadata": {},
   "outputs": [],
   "source": [
    "display.JavaScript(\"\"\"\n",
    "const time = 2000\n",
    "const sleep  = time => new Promise(resolve => setTimeout(resolve, time))\n",
    "const b2text = blob => new Promise(resolve => {\n",
    "  const reader = new FileReader()\n",
    "  reader.onloadend = e => resolve(e.srcElement.result)\n",
    "  reader.readAsDataURL(blob)\n",
    "})\n",
    "\n",
    "var record = time => new Promise(async resolve => {\n",
    "  stream = await navigator.mediaDevices.getUserMedia({ audio: {channelCount: 2} })\n",
    "  recorder = new MediaRecorder(stream)\n",
    "  chunks = []\n",
    "  recorder.ondataavailable = e => chunks.push(e.data)\n",
    "  recorder.start()\n",
    "  await sleep(time)\n",
    "  recorder.onstop = async ()=>{\n",
    "    blob = new Blob(chunks)\n",
    "    text = await b2text(blob)\n",
    "    resolve(text)\n",
    "  }\n",
    "  recorder.stop()\n",
    "})\n",
    "\"\"\")\n"
   ]
  },
  {
   "cell_type": "code",
   "execution_count": null,
   "id": "indonesian-support",
   "metadata": {},
   "outputs": [],
   "source": [
    "%%javascript\n",
    "var variable2 = \"this_could_be_any_javascript_string\";\n",
    "// command is a string containing Python code\n",
    "var command = \"fromJavaScript='\" + variable2 + \"'\";\n",
    "IPython.notebook.kernel.execute(command);"
   ]
  },
  {
   "cell_type": "code",
   "execution_count": null,
   "id": "balanced-mystery",
   "metadata": {},
   "outputs": [],
   "source": [
    "print(fromJavaScript)"
   ]
  },
  {
   "cell_type": "code",
   "execution_count": null,
   "id": "brown-testament",
   "metadata": {},
   "outputs": [],
   "source": [
    "%%html\n",
    "<button id=\"recordButton\">Record</button>\n",
    "<button id=\"stopButton\">Stop</button>\n"
   ]
  },
  {
   "cell_type": "code",
   "execution_count": 7,
   "id": "parental-sender",
   "metadata": {},
   "outputs": [
    {
     "data": {
      "text/html": [
       "<button id=\"recordButton\">Record</button>\n",
       "<button id=\"stopButton\" disabled>Stop</button>\n",
       "<button id=\"pauseButton\" disabled>Pause</button>\n",
       "<script>\n",
       "//webkitURL is deprecated but nevertheless\n",
       "URL = window.URL || window.webkitURL;\n",
       "\n",
       "var gumStream; \t\t\t\t\t\t//stream from getUserMedia()\n",
       "var recorder; \t\t\t\t\t\t//MediaRecorder object\n",
       "var chunks = [];\t\t\t\t\t//Array of chunks of audio data from the browser\n",
       "var extension;\n",
       "\n",
       "var recordButton = document.getElementById(\"recordButton\");\n",
       "var stopButton = document.getElementById(\"stopButton\");\n",
       "var pauseButton = document.getElementById(\"pauseButton\");\n",
       "\n",
       "//add events to those 2 buttons\n",
       "recordButton.addEventListener(\"click\", startRecording);\n",
       "stopButton.addEventListener(\"click\", stopRecording);\n",
       "pauseButton.addEventListener(\"click\", pauseRecording);\n",
       "\n",
       "// true on chrome, false on firefox\n",
       "console.log(\"audio/webm:\"+MediaRecorder.isTypeSupported('audio/webm;codecs=opus'));\n",
       "// false on chrome, true on firefox\n",
       "console.log(\"audio/ogg:\"+MediaRecorder.isTypeSupported('audio/ogg;codecs=opus'));\n",
       "\n",
       "if (MediaRecorder.isTypeSupported('audio/webm;codecs=opus')){\n",
       "\textension=\"webm\";\n",
       "}else{\n",
       "\textension=\"ogg\"\n",
       "}\n",
       "\n",
       "\n",
       "function startRecording() {\n",
       "\tconsole.log(\"recordButton clicked\");\n",
       "\n",
       "\t/*\n",
       "\t\tSimple constraints object, for more advanced audio features see\n",
       "\t\thttps://addpipe.com/blog/audio-constraints-getusermedia/\n",
       "\t*/\n",
       "    \n",
       "    var constraints = {audio: true}\n",
       "\n",
       " \t/*\n",
       "    \tDisable the record button until we get a success or fail from getUserMedia() \n",
       "\t*/\n",
       "\n",
       "\trecordButton.disabled = true;\n",
       "\tstopButton.disabled = false;\n",
       "\tpauseButton.disabled = false\n",
       "\n",
       "\t/*\n",
       "    \tWe're using the standard promise based getUserMedia() \n",
       "    \thttps://developer.mozilla.org/en-US/docs/Web/API/MediaDevices/getUserMedia\n",
       "\t*/\n",
       "\n",
       "\tnavigator.mediaDevices.getUserMedia(constraints).then(function(stream) {\n",
       "\t\tconsole.log(\"getUserMedia() success, stream created, initializing MediaRecorder\");\n",
       "\n",
       "\t\t/*  assign to gumStream for later use  */\n",
       "\t\tgumStream = stream;\n",
       "\n",
       "\t\tvar options = {\n",
       "\t      audioBitsPerSecond :  256000,\n",
       "\t      videoBitsPerSecond : 2500000,\n",
       "\t      bitsPerSecond:       2628000,\n",
       "\t      mimeType : 'audio/'+extension+';codecs=opus'\n",
       "\t    }\n",
       "\n",
       "\t    //update the format \n",
       "\t\tdocument.getElementById(\"formats\").innerHTML='Sample rate: 48kHz, MIME: audio/'+extension+';codecs=opus';\n",
       "\n",
       "\t\t/* \n",
       "\t\t\tCreate the MediaRecorder object\n",
       "\t\t*/\n",
       "\t\trecorder = new MediaRecorder(stream, options);\n",
       "\n",
       "\t\t//when data becomes available add it to our attay of audio data\n",
       "\t    recorder.ondataavailable = function(e){\n",
       "\t    \tconsole.log(\"recorder.ondataavailable:\" + e.data);\n",
       "\t    \t\n",
       "\t    \tconsole.log (\"recorder.audioBitsPerSecond:\"+recorder.audioBitsPerSecond)\n",
       "\t    \tconsole.log (\"recorder.videoBitsPerSecond:\"+recorder.videoBitsPerSecond)\n",
       "\t    \tconsole.log (\"recorder.bitsPerSecond:\"+recorder.bitsPerSecond)\n",
       "\t      \t// add stream data to chunks\n",
       "\t      \tchunks.push(e.data);\n",
       "\t      \t// if recorder is 'inactive' then recording has finished\n",
       "\t      \tif (recorder.state == 'inactive') {\n",
       "\t          // convert stream data chunks to a 'webm' audio format as a blob\n",
       "\t          const blob = new Blob(chunks, { type: 'audio/'+extension, bitsPerSecond:128000});\n",
       "\t          createDownloadLink(blob)\n",
       "\t      \t}\n",
       "\t    };\n",
       "\n",
       "\t    recorder.onerror = function(e){\n",
       "\t    \tconsole.log(e.error);\n",
       "\t    }\n",
       "\n",
       "\t    //start recording using 1 second chunks\n",
       "\t    //Chrome and Firefox will record one long chunk if you do not specify the chunck length\n",
       "\t    recorder.start(1000);\n",
       "\n",
       "    \t//recorder.start();\n",
       "    }).catch(function(err) {\n",
       "\t  \t//enable the record button if getUserMedia() fails\n",
       "    \trecordButton.disabled = false;\n",
       "    \tstopButton.disabled = true;\n",
       "    \tpauseButton.disabled = true\n",
       "\t});\n",
       "}\n",
       "\n",
       "function pauseRecording(){\n",
       "\tconsole.log(\"pauseButton clicked recorder.state=\",recorder.state );\n",
       "\tif (recorder.state==\"recording\"){\n",
       "\t\t//pause\n",
       "\t\trecorder.pause();\n",
       "\t\tpauseButton.innerHTML=\"Resume\";\n",
       "\t}else if (recorder.state==\"paused\"){\n",
       "\t\t//resume\n",
       "\t\trecorder.resume();\n",
       "\t\tpauseButton.innerHTML=\"Pause\";\n",
       "\n",
       "\t}\n",
       "}\n",
       "\n",
       "function stopRecording() {\n",
       "\tconsole.log(\"stopButton clicked\");\n",
       "\n",
       "\t//disable the stop button, enable the record too allow for new recordings\n",
       "\tstopButton.disabled = true;\n",
       "\trecordButton.disabled = false;\n",
       "\tpauseButton.disabled = true;\n",
       "\n",
       "\t//reset button just in case the recording is stopped while paused\n",
       "\tpauseButton.innerHTML=\"Pause\";\n",
       "\t\n",
       "\t//tell the recorder to stop the recording\n",
       "\trecorder.stop();\n",
       "\n",
       "\t//stop microphone access\n",
       "\tgumStream.getAudioTracks()[0].stop();\n",
       "}\n",
       "\n",
       "function createDownloadLink(blob) {\n",
       "\t\n",
       "\tvar url = URL.createObjectURL(blob);\n",
       "\tvar au = document.createElement('audio');\n",
       "\tvar li = document.createElement('li');\n",
       "\tvar link = document.createElement('a');\n",
       "\n",
       "\t//add controls to the <audio> element\n",
       "\tau.controls = true;\n",
       "\tau.src = url;\n",
       "\n",
       "\t//link the a element to the blob\n",
       "\tlink.href = url;\n",
       "\tlink.download = new Date().toISOString() + '.'+extension;\n",
       "\tlink.innerHTML = link.download;\n",
       "\n",
       "\t//add the new audio and a elements to the li element\n",
       "\tli.appendChild(au);\n",
       "\tli.appendChild(link);\n",
       "\n",
       "\t//add the li element to the ordered list\n",
       "\trecordingsList.appendChild(li);\n",
       "}\n",
       "</script>\n"
      ],
      "text/plain": [
       "<IPython.core.display.HTML object>"
      ]
     },
     "metadata": {},
     "output_type": "display_data"
    }
   ],
   "source": [
    "%%html\n",
    "<button id=\"recordButton\">Record</button>\n",
    "<button id=\"stopButton\" disabled>Stop</button>\n",
    "<button id=\"pauseButton\" disabled>Pause</button>\n",
    "<script>\n",
    "//webkitURL is deprecated but nevertheless\n",
    "URL = window.URL || window.webkitURL;\n",
    "\n",
    "var gumStream; \t\t\t\t\t\t//stream from getUserMedia()\n",
    "var recorder; \t\t\t\t\t\t//MediaRecorder object\n",
    "var chunks = [];\t\t\t\t\t//Array of chunks of audio data from the browser\n",
    "var extension;\n",
    "\n",
    "var recordButton = document.getElementById(\"recordButton\");\n",
    "var stopButton = document.getElementById(\"stopButton\");\n",
    "var pauseButton = document.getElementById(\"pauseButton\");\n",
    "\n",
    "//add events to those 2 buttons\n",
    "recordButton.addEventListener(\"click\", startRecording);\n",
    "stopButton.addEventListener(\"click\", stopRecording);\n",
    "pauseButton.addEventListener(\"click\", pauseRecording);\n",
    "\n",
    "// true on chrome, false on firefox\n",
    "console.log(\"audio/webm:\"+MediaRecorder.isTypeSupported('audio/webm;codecs=opus'));\n",
    "// false on chrome, true on firefox\n",
    "console.log(\"audio/ogg:\"+MediaRecorder.isTypeSupported('audio/ogg;codecs=opus'));\n",
    "\n",
    "if (MediaRecorder.isTypeSupported('audio/webm;codecs=opus')){\n",
    "\textension=\"webm\";\n",
    "}else{\n",
    "\textension=\"ogg\"\n",
    "}\n",
    "\n",
    "\n",
    "function startRecording() {\n",
    "\tconsole.log(\"recordButton clicked\");\n",
    "\n",
    "\t/*\n",
    "\t\tSimple constraints object, for more advanced audio features see\n",
    "\t\thttps://addpipe.com/blog/audio-constraints-getusermedia/\n",
    "\t*/\n",
    "    \n",
    "    var constraints = {audio: true}\n",
    "\n",
    " \t/*\n",
    "    \tDisable the record button until we get a success or fail from getUserMedia() \n",
    "\t*/\n",
    "\n",
    "\trecordButton.disabled = true;\n",
    "\tstopButton.disabled = false;\n",
    "\tpauseButton.disabled = false\n",
    "\n",
    "\t/*\n",
    "    \tWe're using the standard promise based getUserMedia() \n",
    "    \thttps://developer.mozilla.org/en-US/docs/Web/API/MediaDevices/getUserMedia\n",
    "\t*/\n",
    "\n",
    "\tnavigator.mediaDevices.getUserMedia(constraints).then(function(stream) {\n",
    "\t\tconsole.log(\"getUserMedia() success, stream created, initializing MediaRecorder\");\n",
    "\n",
    "\t\t/*  assign to gumStream for later use  */\n",
    "\t\tgumStream = stream;\n",
    "\n",
    "\t\tvar options = {\n",
    "\t      audioBitsPerSecond :  256000,\n",
    "\t      videoBitsPerSecond : 2500000,\n",
    "\t      bitsPerSecond:       2628000,\n",
    "\t      mimeType : 'audio/'+extension+';codecs=opus'\n",
    "\t    }\n",
    "\n",
    "\t    //update the format \n",
    "\t\tdocument.getElementById(\"formats\").innerHTML='Sample rate: 48kHz, MIME: audio/'+extension+';codecs=opus';\n",
    "\n",
    "\t\t/* \n",
    "\t\t\tCreate the MediaRecorder object\n",
    "\t\t*/\n",
    "\t\trecorder = new MediaRecorder(stream, options);\n",
    "\n",
    "\t\t//when data becomes available add it to our attay of audio data\n",
    "\t    recorder.ondataavailable = function(e){\n",
    "\t    \tconsole.log(\"recorder.ondataavailable:\" + e.data);\n",
    "\t    \t\n",
    "\t    \tconsole.log (\"recorder.audioBitsPerSecond:\"+recorder.audioBitsPerSecond)\n",
    "\t    \tconsole.log (\"recorder.videoBitsPerSecond:\"+recorder.videoBitsPerSecond)\n",
    "\t    \tconsole.log (\"recorder.bitsPerSecond:\"+recorder.bitsPerSecond)\n",
    "\t      \t// add stream data to chunks\n",
    "\t      \tchunks.push(e.data);\n",
    "\t      \t// if recorder is 'inactive' then recording has finished\n",
    "\t      \tif (recorder.state == 'inactive') {\n",
    "\t          // convert stream data chunks to a 'webm' audio format as a blob\n",
    "\t          const blob = new Blob(chunks, { type: 'audio/'+extension, bitsPerSecond:128000});\n",
    "\t          createDownloadLink(blob)\n",
    "\t      \t}\n",
    "\t    };\n",
    "\n",
    "\t    recorder.onerror = function(e){\n",
    "\t    \tconsole.log(e.error);\n",
    "\t    }\n",
    "\n",
    "\t    //start recording using 1 second chunks\n",
    "\t    //Chrome and Firefox will record one long chunk if you do not specify the chunck length\n",
    "\t    recorder.start(1000);\n",
    "\n",
    "    \t//recorder.start();\n",
    "    }).catch(function(err) {\n",
    "\t  \t//enable the record button if getUserMedia() fails\n",
    "    \trecordButton.disabled = false;\n",
    "    \tstopButton.disabled = true;\n",
    "    \tpauseButton.disabled = true\n",
    "\t});\n",
    "}\n",
    "\n",
    "function pauseRecording(){\n",
    "\tconsole.log(\"pauseButton clicked recorder.state=\",recorder.state );\n",
    "\tif (recorder.state==\"recording\"){\n",
    "\t\t//pause\n",
    "\t\trecorder.pause();\n",
    "\t\tpauseButton.innerHTML=\"Resume\";\n",
    "\t}else if (recorder.state==\"paused\"){\n",
    "\t\t//resume\n",
    "\t\trecorder.resume();\n",
    "\t\tpauseButton.innerHTML=\"Pause\";\n",
    "\n",
    "\t}\n",
    "}\n",
    "\n",
    "function stopRecording() {\n",
    "\tconsole.log(\"stopButton clicked\");\n",
    "\n",
    "\t//disable the stop button, enable the record too allow for new recordings\n",
    "\tstopButton.disabled = true;\n",
    "\trecordButton.disabled = false;\n",
    "\tpauseButton.disabled = true;\n",
    "\n",
    "\t//reset button just in case the recording is stopped while paused\n",
    "\tpauseButton.innerHTML=\"Pause\";\n",
    "\t\n",
    "\t//tell the recorder to stop the recording\n",
    "\trecorder.stop();\n",
    "\n",
    "\t//stop microphone access\n",
    "\tgumStream.getAudioTracks()[0].stop();\n",
    "}\n",
    "\n",
    "function createDownloadLink(blob) {\n",
    "\t\n",
    "\tvar url = URL.createObjectURL(blob);\n",
    "\tvar au = document.createElement('audio');\n",
    "\tvar li = document.createElement('li');\n",
    "\tvar link = document.createElement('a');\n",
    "\n",
    "\t//add controls to the <audio> element\n",
    "\tau.controls = true;\n",
    "\tau.src = url;\n",
    "\n",
    "\t//link the a element to the blob\n",
    "\tlink.href = url;\n",
    "\tlink.download = new Date().toISOString() + '.'+extension;\n",
    "\tlink.innerHTML = link.download;\n",
    "\n",
    "\t//add the new audio and a elements to the li element\n",
    "\tli.appendChild(au);\n",
    "\tli.appendChild(link);\n",
    "\n",
    "\t//add the li element to the ordered list\n",
    "\trecordingsList.appendChild(li);\n",
    "}\n",
    "</script>"
   ]
  },
  {
   "cell_type": "code",
   "execution_count": null,
   "id": "thorough-patrol",
   "metadata": {},
   "outputs": [],
   "source": [
    "from ipywebrtc import AudioStream, AudioRecorder\n",
    "import ipywidgets as widgets"
   ]
  },
  {
   "cell_type": "code",
   "execution_count": null,
   "id": "specified-advantage",
   "metadata": {},
   "outputs": [],
   "source": [
    "audio_stream = AudioStream.from_url(SAMPLE_WAV_URL)"
   ]
  },
  {
   "cell_type": "code",
   "execution_count": null,
   "id": "sudden-canal",
   "metadata": {},
   "outputs": [],
   "source": [
    "display(audio_stream)"
   ]
  },
  {
   "cell_type": "code",
   "execution_count": null,
   "id": "boxed-surfing",
   "metadata": {},
   "outputs": [],
   "source": [
    "audio_stream.playing=False"
   ]
  },
  {
   "cell_type": "code",
   "execution_count": null,
   "id": "weird-receiver",
   "metadata": {},
   "outputs": [],
   "source": [
    "play_button = widgets.ToggleButton(description=\"Play\")\n",
    "widgets.jslink((play_button, 'value'), (audio_stream, 'playing'))\n",
    "widgets.VBox(children=[audio_stream, play_button])"
   ]
  },
  {
   "cell_type": "code",
   "execution_count": null,
   "id": "moderate-labor",
   "metadata": {},
   "outputs": [],
   "source": [
    "audio_stream"
   ]
  },
  {
   "cell_type": "code",
   "execution_count": null,
   "id": "homeless-banks",
   "metadata": {},
   "outputs": [],
   "source": []
  },
  {
   "cell_type": "code",
   "execution_count": null,
   "id": "behavioral-magazine",
   "metadata": {},
   "outputs": [],
   "source": [
    "from unittest import TestCase\n",
    "\n",
    "from aiortc.codecs import get_decoder, get_encoder\n",
    "from aiortc.rtcrtpparameters import RTCRtpCodecParameters\n",
    "\n",
    "BOGUS_CODEC = RTCRtpCodecParameters(\n",
    "    mimeType=\"audio/bogus\", clockRate=8000, channels=1, payloadType=0\n",
    ")\n",
    "\n",
    "\n",
    "class CodecsTest(TestCase):\n",
    "    def test_get_decoder(self):\n",
    "        with self.assertRaises(ValueError):\n",
    "            get_decoder(BOGUS_CODEC)\n",
    "\n",
    "    def test_get_encoder(self):\n",
    "        with self.assertRaises(ValueError):\n",
    "            get_encoder(BOGUS_CODEC)"
   ]
  },
  {
   "cell_type": "code",
   "execution_count": null,
   "id": "vital-magic",
   "metadata": {},
   "outputs": [],
   "source": [
    "from aiortc.contrib.media import MediaPlayer\n",
    "player=MediaPlayer(SAMPLE_WAV_URL)"
   ]
  },
  {
   "cell_type": "code",
   "execution_count": null,
   "id": "constant-astrology",
   "metadata": {},
   "outputs": [],
   "source": [
    "display(player)"
   ]
  },
  {
   "cell_type": "code",
   "execution_count": null,
   "id": "controlled-touch",
   "metadata": {},
   "outputs": [],
   "source": [
    "help(player.audio)"
   ]
  },
  {
   "cell_type": "code",
   "execution_count": null,
   "id": "mature-uncle",
   "metadata": {},
   "outputs": [],
   "source": [
    "player.audio.recv()"
   ]
  },
  {
   "cell_type": "code",
   "execution_count": null,
   "id": "industrial-glory",
   "metadata": {},
   "outputs": [],
   "source": [
    "import asyncio\n",
    "loop = asyncio.get_event_loop()\n",
    "\n",
    "loop.run_until_complete(\n",
    "    run(pc=pc, player=player)\n",
    ")"
   ]
  },
  {
   "cell_type": "code",
   "execution_count": null,
   "id": "accepting-principle",
   "metadata": {},
   "outputs": [],
   "source": []
  },
  {
   "cell_type": "code",
   "execution_count": 8,
   "id": "alone-manual",
   "metadata": {},
   "outputs": [
    {
     "data": {
      "text/html": [
       "<input type=\"file\" accept=\"audio/*\" capture id=\"recorder\">\n",
       "<audio id=\"player\" controls></audio>\n",
       "<script>\n",
       "  const recorder = document.getElementById('recorder');\n",
       "  const player = document.getElementById('player');\n",
       "\n",
       "  recorder.addEventListener('change', function(e) {\n",
       "    const file = e.target.files[0];\n",
       "    const url = URL.createObjectURL(file);\n",
       "    // Do something with the audio file.\n",
       "    player.src = url;\n",
       "  });\n",
       "</script>\n"
      ],
      "text/plain": [
       "<IPython.core.display.HTML object>"
      ]
     },
     "metadata": {},
     "output_type": "display_data"
    }
   ],
   "source": [
    "%%html\n",
    "<input type=\"file\" accept=\"audio/*\" capture id=\"recorder\">\n",
    "<audio id=\"player\" controls></audio>\n",
    "<script>\n",
    "  const recorder = document.getElementById('recorder');\n",
    "  const player = document.getElementById('player');\n",
    "\n",
    "  recorder.addEventListener('change', function(e) {\n",
    "    const file = e.target.files[0];\n",
    "    const url = URL.createObjectURL(file);\n",
    "    // Do something with the audio file.\n",
    "    player.src = url;\n",
    "  });\n",
    "</script>"
   ]
  },
  {
   "cell_type": "code",
   "execution_count": null,
   "id": "prostate-dress",
   "metadata": {},
   "outputs": [],
   "source": [
    "%%html\n",
    "<audio id=\"player\" controls></audio>\n",
    "<script>\n",
    "  const player = document.getElementById('player');\n",
    "\n",
    "  const handleSuccess = function(stream) {\n",
    "    const context = new AudioContext();\n",
    "    const source = context.createMediaStreamSource(stream);\n",
    "    const processor = context.createScriptProcessor(1024, 1, 1);\n",
    "\n",
    "    source.connect(processor);\n",
    "    processor.connect(context.destination);\n",
    "\n",
    "    processor.onaudioprocess = function(e) {\n",
    "      // Do something with the data, e.g. convert it to WAV\n",
    "      console.log(e.inputBuffer);\n",
    "    };\n",
    "  };\n",
    "\n",
    "  navigator.mediaDevices.getUserMedia({ audio: true, video: false })\n",
    "      .then(handleSuccess);\n",
    "</script>"
   ]
  },
  {
   "cell_type": "code",
   "execution_count": null,
   "id": "common-enemy",
   "metadata": {},
   "outputs": [],
   "source": [
    "%%html\n",
    "<audio id=\"player\" controls></audio>\n",
    "<script>\n",
    "  const player = document.getElementById('player');\n",
    "\n",
    "  const handleSuccess = function(stream) {\n",
    "    if (window.URL) {\n",
    "      player.srcObject = stream;\n",
    "    } else {\n",
    "      player.src = stream;\n",
    "    }\n",
    "  };\n",
    "\n",
    "  navigator.mediaDevices.getUserMedia({ audio: true, video: false })\n",
    "      .then(handleSuccess);\n",
    "</script>"
   ]
  },
  {
   "cell_type": "code",
   "execution_count": null,
   "id": "geographic-nowhere",
   "metadata": {},
   "outputs": [],
   "source": [
    "%%html\n",
    "<a id=\"download\">Download</a>\n",
    "<button id=\"stop\">Stop</button>\n",
    "<script>\n",
    "  let shouldStop = false;\n",
    "  let stopped = false;\n",
    "  const downloadLink = document.getElementById('download');\n",
    "  const stopButton = document.getElementById('stop');\n",
    "\n",
    "  stopButton.addEventListener('click', function() {\n",
    "    shouldStop = true;\n",
    "  });\n",
    "\n",
    "  const handleSuccess = function(stream) {\n",
    "    const options = {mimeType: 'audio/webm'};\n",
    "    const recordedChunks = [];\n",
    "    const mediaRecorder = new MediaRecorder(stream, options);\n",
    "\n",
    "    mediaRecorder.addEventListener('dataavailable', function(e) {\n",
    "      if (e.data.size > 0) {\n",
    "        recordedChunks.push(e.data);\n",
    "      }\n",
    "\n",
    "      if(shouldStop === true && stopped === false) {\n",
    "        mediaRecorder.stop();\n",
    "        stopped = true;\n",
    "      }\n",
    "    });\n",
    "\n",
    "    mediaRecorder.addEventListener('stop', function() {\n",
    "      downloadLink.href = URL.createObjectURL(new Blob(recordedChunks));\n",
    "      downloadLink.download = 'acetest.wav';\n",
    "    });\n",
    "\n",
    "    mediaRecorder.start();\n",
    "  };"
   ]
  },
  {
   "cell_type": "code",
   "execution_count": null,
   "id": "varying-tractor",
   "metadata": {},
   "outputs": [],
   "source": []
  }
 ],
 "metadata": {
  "kernelspec": {
   "display_name": "Python 3",
   "language": "python",
   "name": "python3"
  },
  "language_info": {
   "codemirror_mode": {
    "name": "ipython",
    "version": 3
   },
   "file_extension": ".py",
   "mimetype": "text/x-python",
   "name": "python",
   "nbconvert_exporter": "python",
   "pygments_lexer": "ipython3",
   "version": "3.8.3"
  },
  "widgets": {
   "application/vnd.jupyter.widget-state+json": {
    "state": {},
    "version_major": 2,
    "version_minor": 0
   }
  }
 },
 "nbformat": 4,
 "nbformat_minor": 5
}
