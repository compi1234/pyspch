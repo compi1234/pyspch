{
 "cells": [
  {
   "cell_type": "code",
   "execution_count": 1,
   "metadata": {},
   "outputs": [],
   "source": [
    "import os\n",
    "import pandas as pd\n",
    "from nn import corpus\n",
    "from nn import utils"
   ]
  },
  {
   "cell_type": "code",
   "execution_count": 2,
   "metadata": {},
   "outputs": [],
   "source": [
    "# paths\n",
    "timit_path = 'W:/timit/CDdata/timit/' # to extract corpus, features, labels\n",
    "root_path = 'D:/gitlab/psi/compi1234/nn/' # to read/write corpus, features, labels\n",
    "os.chdir(root_path)"
   ]
  },
  {
   "cell_type": "markdown",
   "metadata": {},
   "source": [
    "## Make TIMIT corpus"
   ]
  },
  {
   "cell_type": "code",
   "execution_count": 7,
   "metadata": {},
   "outputs": [],
   "source": [
    "# TIMIT - corpus filenames     \n",
    "timit_fnames = corpus.get_corpus_timit(timit_path) \n",
    "\n",
    "# TIMIT - corpus subsets\n",
    "timit_train = corpus.filter_list_timit(timit_fnames, split='train')\n",
    "timit_test = corpus.filter_list_timit(timit_fnames, split='test')\n",
    "timit_dummy = corpus.filter_list_timit(timit_fnames, split='train', region='dr1', speaker='(mcpm0|mdac0|mdpk0)', sentence='si')\n",
    "\n",
    "# TIMIT - write corpus to disk (no meta data)\n",
    "utils.write_txt(timit_train, 'data/timit_train.corpus')\n",
    "utils.write_txt(timit_test, 'data/timit_test.corpus')\n",
    "utils.write_txt(timit_dummy, 'data/dummy.corpus')"
   ]
  },
  {
   "cell_type": "code",
   "execution_count": 4,
   "metadata": {},
   "outputs": [
    {
     "ename": "NameError",
     "evalue": "name 'timit_fnames' is not defined",
     "output_type": "error",
     "traceback": [
      "\u001b[1;31m---------------------------------------------------------------------------\u001b[0m",
      "\u001b[1;31mNameError\u001b[0m                                 Traceback (most recent call last)",
      "\u001b[1;32m~\\AppData\\Local\\Temp\\ipykernel_17300\\4230005776.py\u001b[0m in \u001b[0;36m<module>\u001b[1;34m\u001b[0m\n\u001b[0;32m      1\u001b[0m \u001b[1;31m# TIMIT - meta data\u001b[0m\u001b[1;33m\u001b[0m\u001b[1;33m\u001b[0m\u001b[1;33m\u001b[0m\u001b[0m\n\u001b[1;32m----> 2\u001b[1;33m \u001b[0mtimit_meta\u001b[0m \u001b[1;33m=\u001b[0m \u001b[0mcorpus\u001b[0m\u001b[1;33m.\u001b[0m\u001b[0mget_timit_metadata\u001b[0m\u001b[1;33m(\u001b[0m\u001b[0mtimit_fnames\u001b[0m\u001b[1;33m)\u001b[0m\u001b[1;33m\u001b[0m\u001b[1;33m\u001b[0m\u001b[0m\n\u001b[0m\u001b[0;32m      3\u001b[0m \u001b[1;33m\u001b[0m\u001b[0m\n\u001b[0;32m      4\u001b[0m \u001b[1;31m# TIMIT - write meta data to disk\u001b[0m\u001b[1;33m\u001b[0m\u001b[1;33m\u001b[0m\u001b[1;33m\u001b[0m\u001b[0m\n\u001b[0;32m      5\u001b[0m \u001b[1;31m#   as CSV without index or header\u001b[0m\u001b[1;33m\u001b[0m\u001b[1;33m\u001b[0m\u001b[1;33m\u001b[0m\u001b[0m\n",
      "\u001b[1;31mNameError\u001b[0m: name 'timit_fnames' is not defined"
     ]
    }
   ],
   "source": [
    "# TIMIT - meta data\n",
    "timit_meta = corpus.get_timit_metadata(timit_fnames)\n",
    "\n",
    "# TIMIT - write meta data to disk\n",
    "#   as CSV without index or header\n",
    "meta_file = \"data/timit.meta\"\n",
    "timit_meta.to_csv(meta_file, sep='\\t', index=False, header=False)"
   ]
  },
  {
   "cell_type": "markdown",
   "metadata": {},
   "source": [
    "## Read TIMIT corpus"
   ]
  },
  {
   "cell_type": "code",
   "execution_count": 3,
   "metadata": {},
   "outputs": [],
   "source": [
    "# TIMIT - read corpus from disk\n",
    "timit_train = utils.read_txt('data/timit_train.corpus')\n",
    "timit_test = utils.read_txt('data/timit_test.corpus')\n",
    "timit_dummy = utils.read_txt('data/timit_dummy.corpus')\n",
    "\n",
    "# TIMIT - read meta from disk\n",
    "timit_meta = pd.read_csv('data/timit.meta', sep='\\t', header=None)"
   ]
  },
  {
   "cell_type": "markdown",
   "metadata": {},
   "source": [
    "## Extract TIMIT data (features and labels) into SpchData"
   ]
  },
  {
   "cell_type": "code",
   "execution_count": 4,
   "metadata": {},
   "outputs": [],
   "source": [
    "# SpchData (object containing features and labels)\n",
    "spchdata = corpus.SpchData(timit_dummy)\n",
    "\n",
    "# Reader and Writer (for formatting)\n",
    "mode = 'numpy'\n",
    "extension = '.npy'\n",
    "writer = corpus.ArrayWriter(mode, extension)\n",
    "reader = corpus.ArrayReader(mode, extension)"
   ]
  },
  {
   "cell_type": "code",
   "execution_count": 5,
   "metadata": {},
   "outputs": [
    {
     "name": "stdout",
     "output_type": "stream",
     "text": [
      "(78, 279)\n",
      "(78, 279)\n"
     ]
    }
   ],
   "source": [
    "# Feature extraction \n",
    "feature_path = 'W:/timit/CDdata/timit/'\n",
    "feature_extension = \".wav\"\n",
    "write_feature_path = 'data/dummy/mfcc39'\n",
    "\n",
    "# arguments\n",
    "feature_args = {\n",
    "    'spg': None, 'Deltas': \"delta\", 'Norm': 'mean',\n",
    "    'sample_rate': 16000, 'f_shift': 0.01, 'f_length': 0.03,\n",
    "    'preemp': 0.97, 'window': 'hamm',\n",
    "    'n_mels': 39, 'mode': 'dB'\n",
    "    }\n",
    "\n",
    "doExtractAndWrite = True\n",
    "if doExtractAndWrite:\n",
    "    \n",
    "    # SpchData - extract features\n",
    "    spchdata.extract_features(feature_path, feature_args, feature_extension)\n",
    "\n",
    "    # SpchData - write features\n",
    "    spchdata.write_features(write_feature_path, writer)\n",
    "    print(spchdata.features[0].shape) \n",
    "    \n",
    "    # write feature_args to json\n",
    "    feature_args_fname = os.path.join(write_feature_path, 'feature_args.json')\n",
    "    utils.write_json(feature_args, feature_args_fname)\n",
    "    \n",
    "# SpchData - read features\n",
    "spchdata.read_features(write_feature_path, reader) \n",
    "print(spchdata.features[0].shape)"
   ]
  },
  {
   "cell_type": "code",
   "execution_count": 7,
   "metadata": {},
   "outputs": [
    {
     "name": "stdout",
     "output_type": "stream",
     "text": [
      "(279,)\n",
      "(279,)\n"
     ]
    }
   ],
   "source": [
    "# Phone segmentation -> labels \n",
    "seg_path = 'W:/timit/CDdata/timit/'\n",
    "seg_extension = \".phn\"\n",
    "write_seg_path = 'data/dummy/phn'\n",
    "\n",
    "# arguments = feature arguments\n",
    "\n",
    "doExtractAndWrite = True\n",
    "if doExtractAndWrite:\n",
    "\n",
    "    # SpchData - extract labels\n",
    "    spchdata.extract_labels(seg_path, feature_args, seg_extension)\n",
    "\n",
    "    # SpchData - write labels\n",
    "    spchdata.write_labels(write_seg_path, writer) \n",
    "    print(spchdata.labels[0].shape)\n",
    "    \n",
    "# SpchData - read labels\n",
    "spchdata.read_labels(write_seg_path, reader) \n",
    "print(spchdata.labels[0].shape)\n"
   ]
  },
  {
   "cell_type": "code",
   "execution_count": 8,
   "metadata": {},
   "outputs": [
    {
     "name": "stdout",
     "output_type": "stream",
     "text": [
      "(242,)\n",
      "(242,)\n"
     ]
    }
   ],
   "source": [
    "# Word segmentation -> labels  \n",
    "seg_path = 'W:/timit/CDdata/timit/'\n",
    "seg_extension = \".wrd\"\n",
    "write_seg_path = 'data/dummy/wrd'\n",
    "\n",
    "# arguments = feature arguments\n",
    "\n",
    "doExtractAndWrite = True\n",
    "if doExtractAndWrite:\n",
    "    \n",
    "    # SpchData - extract labels\n",
    "    spchdata.extract_labels(seg_path, feature_args, seg_extension)\n",
    "\n",
    "    # SpchData - write labels\n",
    "    spchdata.write_labels(write_seg_path, writer) \n",
    "    print(spchdata.labels[0].shape) \n",
    "    \n",
    "# SpchData - read labels\n",
    "spchdata.read_labels(write_seg_path, reader) \n",
    "print(spchdata.labels[0].shape)\n"
   ]
  },
  {
   "cell_type": "code",
   "execution_count": 9,
   "metadata": {},
   "outputs": [
    {
     "name": "stdout",
     "output_type": "stream",
     "text": [
      "(242,)\n",
      "(279,)\n",
      "(279,)\n"
     ]
    }
   ],
   "source": [
    "# Word segmentation -> labels with padding\n",
    "\n",
    "# Since the 'end' time in TIMIT segmentations doesn't always match the length of the audio,\n",
    "# the number of labels can differ from the number of (feature) frames.\n",
    "# We solve this by padding the labels.\n",
    "\n",
    "doExtractAndWrite = True\n",
    "if doExtractAndWrite:\n",
    "    \n",
    "    # SpchData - extract labels\n",
    "    spchdata.extract_labels(seg_path, feature_args, seg_extension)\n",
    "    print(spchdata.labels[0].shape)\n",
    "    \n",
    "    # Add padding\n",
    "    lengths = spchdata.get_length_features()\n",
    "    spchdata.pad_labels(lengths)\n",
    "\n",
    "    # SpchData - write labels\n",
    "    spchdata.write_labels(write_seg_path, writer)\n",
    "    print(spchdata.labels[0].shape) \n",
    "    \n",
    "# SpchData - read labels\n",
    "spchdata.read_labels(write_seg_path, reader) \n",
    "print(spchdata.labels[0].shape)"
   ]
  },
  {
   "cell_type": "code",
   "execution_count": 12,
   "metadata": {},
   "outputs": [
    {
     "name": "stdout",
     "output_type": "stream",
     "text": [
      "(242,)\n",
      "(279,)\n",
      "['sil' 'sil' 'sil' 'sil' 'sil']\n"
     ]
    }
   ],
   "source": [
    "# Padding can also be done with a custom token.\n",
    "\n",
    "spchdata.extract_features(feature_path, feature_args, feature_extension)\n",
    "spchdata.extract_labels(seg_path, feature_args, '.wrd')\n",
    "print(spchdata.labels[0].shape)\n",
    "\n",
    "lengths = spchdata.get_length_features()\n",
    "spchdata.pad_labels_with_token(lengths, 'sil')\n",
    "print(spchdata.labels[0].shape)\n",
    "print(spchdata.labels[0][-5:])\n"
   ]
  },
  {
   "cell_type": "code",
   "execution_count": null,
   "metadata": {},
   "outputs": [
    {
     "name": "stdout",
     "output_type": "stream",
     "text": [
      "(78, 279)\n",
      "(78, 242)\n"
     ]
    }
   ],
   "source": [
    "# Alternatively, one could pad the features.\n",
    "\n",
    "spchdata.extract_features(feature_path, feature_args, feature_extension)\n",
    "spchdata.extract_labels(seg_path, feature_args, seg_extension)\n",
    "print(spchdata.features[0].shape)\n",
    "\n",
    "lengths = spchdata.get_length_labels()\n",
    "spchdata.pad_features(lengths)\n",
    "print(spchdata.features[0].shape)"
   ]
  },
  {
   "cell_type": "markdown",
   "metadata": {},
   "source": [
    "## Use TIMIT meta data "
   ]
  },
  {
   "cell_type": "code",
   "execution_count": null,
   "metadata": {},
   "outputs": [
    {
     "name": "stdout",
     "output_type": "stream",
     "text": [
      "(279,)\n"
     ]
    }
   ],
   "source": [
    "# Meta data -> labels \n",
    "meta_file = 'data/timit.meta'\n",
    "timit_meta = pd.read_csv(meta_file, sep='\\t', header=None)\n",
    "timit_meta.columns = ['fname', 'split', 'region', 'gender', 'speaker', 'sentence']\n",
    "\n",
    "# Lengths (number of frames -> depends on feature extraction)\n",
    "spchdata.extract_features(feature_path, feature_args, feature_extension)\n",
    "lengths = spchdata.get_length_features()\n",
    "\n",
    "# SpchData - extract labels\n",
    "spchdata.extract_labels_from_meta(timit_meta, lengths, 'fname', 'region')\n",
    "print(spchdata.labels[0].shape)"
   ]
  },
  {
   "cell_type": "code",
   "execution_count": 18,
   "metadata": {},
   "outputs": [
    {
     "name": "stdout",
     "output_type": "stream",
     "text": [
      "[279, 419, 383, 273, 222, 513, 361, 193, 165]\n",
      "[279, 419, 383, 273, 222, 513, 361, 193, 165]\n"
     ]
    }
   ],
   "source": [
    "# check seg2labels\n",
    "print(spchdata.get_length_features())\n",
    "print(spchdata.get_length_labels())"
   ]
  },
  {
   "cell_type": "markdown",
   "metadata": {},
   "source": [
    "## Make subsets of SpchData "
   ]
  },
  {
   "cell_type": "code",
   "execution_count": 10,
   "metadata": {},
   "outputs": [
    {
     "name": "stdout",
     "output_type": "stream",
     "text": [
      "9\n",
      "9\n",
      "3\n",
      "3\n"
     ]
    }
   ],
   "source": [
    "# Subset with regex\n",
    "rgx = \".*/dr1/mcpm0/.*\"\n",
    "spchdata_subset = spchdata.subset_with_regex(rgx)\n",
    "print(len(spchdata.corpus))\n",
    "print(len(spchdata.features))\n",
    "print(len(spchdata_subset.corpus))\n",
    "print(len(spchdata_subset.features))"
   ]
  }
 ],
 "metadata": {
  "interpreter": {
   "hash": "07bbb230afa188f6fcf784790a512a027d4aaebd8b449a47936f42b92e92fbab"
  },
  "kernelspec": {
   "display_name": "Python 3.7.12 ('pyspch')",
   "language": "python",
   "name": "python3"
  },
  "language_info": {
   "codemirror_mode": {
    "name": "ipython",
    "version": 3
   },
   "file_extension": ".py",
   "mimetype": "text/x-python",
   "name": "python",
   "nbconvert_exporter": "python",
   "pygments_lexer": "ipython3",
   "version": "3.7.12"
  },
  "orig_nbformat": 4
 },
 "nbformat": 4,
 "nbformat_minor": 2
}
