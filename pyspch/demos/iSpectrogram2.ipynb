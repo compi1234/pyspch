{
 "cells": [
  {
   "cell_type": "markdown",
   "metadata": {},
   "source": [
    "<a href=\"https://colab.research.google.com/github/compi1234/pyspch/blob/master/test/spectrogram_test_ly.ipynb\" target=\"_parent\"><img src=\"https://colab.research.google.com/assets/colab-badge.svg\" alt=\"Open In Colab\"/></a>"
   ]
  },
  {
   "cell_type": "markdown",
   "metadata": {},
   "source": [
    "# Interactive Spectrogram \n",
    "\n",
    "### Purpose and Background\n",
    "The interactive spectrogram visualizes speech in the time-frequency domain.\n",
    "Some form of time-frequency analysis is the first processing step in the human auditory system in equally so\n",
    "in speech recognition systems.\n",
    "\n",
    "\n",
    "\n",
    "Possible spectral representations are:   \n",
    "**1. Fourier spectrogram**  \n",
    "  A Fourier Spectrogram is obtained by letting a sliding window make short time spectra and by viewing this in a 2D heatmap\n",
    "we may see which frequencies are present at which moment in time.  \n",
    "**2. mel spectrogram**  \n",
    "  The mel spectrogram applies warping on the frequency axis in line with the human auditory system.\n",
    "Roughly speaking the frequency axis is linear below 1kHz and logarithmically compressed above it.\n",
    "Today this is the most popular feature representation for speech recognition.  \n",
    "**3. MFCCs (mel frequency cepstral coefficients)**. \n",
    "  Mel frequency cepstral coefficients are obtained by applying a DFT to the mel spectrum, optionally followed by truncation\n",
    "to a handful of coefficients. \n",
    "MFCCs are popular because almost all information is concentrated in a a handful of low order coefficients, making them the most\n",
    "compact possible speech representation.  Moreover MFCCs are highly uncorrelated, making them well suited for mathematical modeling.\n",
    "While MFCCs have little to offer when abundant data / compute power is available (as is common these days),\n",
    "they are still interesting in compact systems. \n",
    "\n",
    "This version (iSpectrogram2) gives a view with waveforms and heatmaps in the left hand pane and with spectral slices in the right hand pane.\n",
    "\n",
    "\n",
    "### Instructions\n",
    "- In default mode, you start the interactive spectrogram, by calling it without any parameters\n",
    "> iSpectrogram2()\n",
    "\n",
    "may need to call the iSpectrogram routines with different parameters, that better suit your computer terminal\n",
    "- size is a percentage of the max display size that is possible with your current notebook setup\n",
    "- the dpi parameter controls the granularity of the plot and to some extent the size of the plot vs. the controls as well\n",
    "\n",
    "\n",
    "#### File Input\n",
    "Suggested Files to choose from (within the default root directory 'https://homes.esat.kuleuven.be/~spchlab/data/'):\n",
    "- misc/friendly.wav  ... a 1 second speech fragment\n",
    "- misc/train.wav     ... a train whistle\n",
    "- timit/si1027.wav   ... an example sentence from the TIMIT corpus\n",
    "\n",
    "#### Visualization details\n",
    "Normally you shouldn't have to worry about these settings.  On most displays visualization will be fine for screen/window sizes on the order of 10-24 inch.  If on your display you observe a bad mismatch between character sizes in the UI and\n",
    "in the figures, then you can try to modify the default settings.  You can pass either figwidth(default=12) or dpi(default=100), e.g.\n",
    "> iSpectrogram2(figwidth=14, dpi=120)\n",
    "\n"
   ]
  },
  {
   "cell_type": "code",
   "execution_count": 1,
   "metadata": {},
   "outputs": [
    {
     "data": {
      "text/html": [
       "\n",
       "<style>\n",
       "    div#notebook-container    { width: 95%; }\n",
       "    div#menubar-container     { width: 65%; }\n",
       "    div#maintoolbar-container { width: 99%; }\n",
       "</style>\n"
      ],
      "text/plain": [
       "<IPython.core.display.HTML object>"
      ]
     },
     "metadata": {},
     "output_type": "display_data"
    }
   ],
   "source": [
    "# Do the imports #\n",
    "##################\n",
    "#\n",
    "%matplotlib inline\n",
    "import os,sys \n",
    "import numpy as np\n",
    "import pandas as pd\n",
    "from IPython.display import display, Audio, HTML, clear_output\n",
    "import ipywidgets as widgets\n",
    "from ipywidgets import Box, HBox, VBox, Layout\n",
    "#\n",
    "try:\n",
    "  import google.colab\n",
    "  IN_COLAB = True\n",
    "except:\n",
    "  IN_COLAB = False\n",
    "\n",
    "import librosa\n",
    "try:\n",
    "  import pyspch\n",
    "except:\n",
    "  ! pip install git+https://github.com/compi1234/pyspch.git\n",
    "import pyspch.spg as specg\n",
    "import pyspch.audio as audio\n",
    "import pyspch.utils as spchu\n",
    "import pyspch.io.timit as tio\n",
    "import matplotlib.pyplot as plt\n",
    "import pyspch.display as spchd\n",
    "\n",
    "# make notebook cells stretch over the full screen\n",
    "display(HTML(data=\"\"\"\n",
    "<style>\n",
    "    div#notebook-container    { width: 95%; }\n",
    "    div#menubar-container     { width: 65%; }\n",
    "    div#maintoolbar-container { width: 99%; }\n",
    "</style>\n",
    "\"\"\"))"
   ]
  },
  {
   "cell_type": "code",
   "execution_count": 4,
   "metadata": {},
   "outputs": [],
   "source": [
    "        \n",
    "def box_layout(width='',padding='1px',margin='1px',border='solid 1px black'):\n",
    "     return Layout(\n",
    "        border= border,\n",
    "        padding = padding,\n",
    "        margin=   margin,\n",
    "        width = width\n",
    "        # margin = '1px 1px 1px 1px', white space around the outside\n",
    "        # padding='2px 2px 2px 2px',   # padding = white space inside; top, right, bottom, left\n",
    "     )\n",
    "def pad_box_layout():\n",
    "     return Layout(\n",
    "        # margin='1px 1px 1px 1px', \n",
    "        padding='2px 2px 2px 2px'   # top, right, bottom, left\n",
    "     )\n",
    "\n",
    "dw_5 = {'description_width': '50%'}\n",
    "dw_4 = {'description_width': '40%'}\n",
    "dw_3 = {'description_width': '30%'}\n",
    "dw_2 = {'description_width': '20%'}\n",
    "dw_0 = {'description_width': '0%'}\n",
    "\n",
    "class iSpectrogram2(VBox):\n",
    "    def __init__(self,dpi=100,figwidth=12.,size='100%',\n",
    "                root='https://homes.esat.kuleuven.be/~spchlab/data/',\n",
    "                fname='misc/friendly.wav'):\n",
    "        super().__init__()\n",
    "        self.sample_rate = 1\n",
    "        self.shift = 0.01\n",
    "        self.length = 0.03\n",
    "        self.preemp = 0.97\n",
    "        self.nmels = 40\n",
    "        self.melfb = False\n",
    "        self.nmfcc = 12\n",
    "        self.mfcc = False\n",
    "        self.wavdata = None\n",
    "        self.root = root\n",
    "        self.fname = fname\n",
    "        self.segfname = None\n",
    "        self.wavtimes = [0., 1.]\n",
    "        self.seltimes = self.wavtimes \n",
    "        self.frames = [0, 1]\n",
    "        self.frame = 0\n",
    "        self.spg = None\n",
    "        self.spgmel = None\n",
    "        self.nparam = 0\n",
    "        self.nfr = 0\n",
    "        self.autoplay = False\n",
    "        self.dpi = dpi\n",
    "        self.figwidth = figwidth\n",
    "        #self.layout.width = size\n",
    "        self.fig_ratio = .66\n",
    "        self.fig_range = None\n",
    "        self.fig_main = None\n",
    "        self.fig_rhs = None\n",
    "\n",
    "        # spectrogram controls\n",
    "        self.wg_fshift = widgets.FloatSlider(value=self.shift,min=0.005,max=0.050,step=0.005,description=\"Shift(msec)\",readout_format='.3f',style=dw_3)\n",
    "        self.wg_flength = widgets.FloatSlider(value=self.length,min=0.005,max=0.200,step=0.005,description=\"Length(msec)\",readout_format='.3f',style=dw_3)\n",
    "        self.wg_preemp = widgets.FloatSlider(value=self.preemp,min=0.0,max=1.0,step=0.01,description=\"Preemphasis\",style=dw_3)\n",
    "        self.wg_melfb = widgets.Checkbox(value=self.melfb,description='Mel Filterbank',indent=True,style=dw_0)\n",
    "        self.wg_nmels = widgets.IntSlider(value=self.nmels,min=10,max=200,step=1,description=\"#b\",style=dw_3)\n",
    "        self.wg_mfcc = widgets.Checkbox(value=self.mfcc,description='MFFCs',indent=True,style=dw_0)\n",
    "        self.wg_nmfcc = widgets.IntSlider(value=self.nmfcc,min=5,max=200,step=1,description=\"#c\",style=dw_3)\n",
    "        self.wg_melfb.layout.width='30%'\n",
    "        self.wg_nmels.layout.width='70%'\n",
    "        self.wg_mfcc.layout.width='30%'\n",
    "        self.wg_nmfcc.layout.width='70%'\n",
    "        self.wg_fshift.observe(self.fshift_observe,'value')\n",
    "        self.wg_flength.observe(self.flength_observe,'value')\n",
    "        self.wg_preemp.observe(self.preemp_observe,'value')        \n",
    "        self.wg_nmels.observe(self.nmels_observe,'value')\n",
    "        self.wg_melfb.observe(self.melfb_observe, 'value') \n",
    "        self.wg_nmfcc.observe(self.nmfcc_observe,'value')\n",
    "        self.wg_mfcc.observe(self.mfcc_observe, 'value') \n",
    "        self.controls = VBox([ self.wg_fshift,self.wg_flength,self.wg_preemp, \n",
    "                               HBox([self.wg_melfb, self.wg_nmels]), \n",
    "                               HBox([self.wg_mfcc, self.wg_nmfcc]) ] ,\n",
    "                               layout=box_layout(width='50%') ) \n",
    "        #self.controls.width = '50%'\n",
    "        \n",
    "        # file controls\n",
    "        self.audio_controls = widgets.Output()\n",
    "        self.wg_root = widgets.Text(value=self.root,description=\"Root Dir: \",style=dw_2,continuous_update=False,layout=Layout(width='98%'))\n",
    "        self.wg_root.observe(self.root_observe,'value') \n",
    "        self.wg_fname = widgets.Text(value=self.fname,description=\"Wav File: \",style=dw_2,continuous_update=False,layout=Layout(width='98%'))\n",
    "        self.wg_fname.observe(self.fname_observe,'value') \n",
    "        self.wg_segfname = widgets.Text(value=self.segfname,description=\"Seg File: \",style=dw_2,continuous_update=False,layout=Layout(width='98%'))\n",
    "        self.wg_segfname.observe(self.segfname_observe,'value')         \n",
    "        self.file_controls = VBox( [  self.wg_root, self.wg_fname, self.wg_segfname, self.audio_controls] ,\n",
    "                                  layout=box_layout(width='50%'))\n",
    "        #self.file_controls.width = '30%'\n",
    "        \n",
    "        # slider and audio controls \n",
    "        self.wg_range = widgets.FloatSlider(value=self.frame,step=self.shift,\n",
    "                            min=self.wavtimes[0],max=self.wavtimes[1],\n",
    "                            description='',continuous_update=True,readout=False,\n",
    "                            layout = box_layout(width=str(100.*self.fig_ratio)+\"%\" ,padding='0px 2px 0px 4%') )\n",
    "\n",
    "        self.wg_range.observe(self.range_observe,'value')\n",
    "        self.slider_controls = self.wg_range\n",
    "        #VBox([self.wg_range],  layout = Layout(width=str(100.*self.fig_ratio)+\"%\" ,padding='0px 0% 0px 8%',margin='3px 3px 3px 3px')) )\n",
    "\n",
    "                \n",
    "        # Main and log Outputs: \n",
    "        self.out = widgets.Output( layout=Layout(width=str(100.*self.fig_ratio)+\"%\") )\n",
    "        #            display( Box( self.fig_main  , layout=Layout(width='100%',padding='0px 0% 0px 0%',margin='0px 0px 0px 0px',border='solid 1px black')) )\n",
    "        self.out2 = widgets.Output( layout=Layout(width=str(100.-100.*self.fig_ratio)+\"%\") )\n",
    "        self.logscr = widgets.Output()\n",
    "\n",
    "        # putting it all together\n",
    "        self.children =  [ VBox([ HBox([  self.out, self.out2 ] ), self.slider_controls ], layout=box_layout()),\n",
    "                          HBox([   self.controls,  self.file_controls ]  ), \n",
    "                           self.logscr ]\n",
    "        \n",
    "        self.wav_update()\n",
    "        self.update()\n",
    "  \n",
    "    def wav_update(self):\n",
    "        self.wavdata, self.sample_rate = audio.load(self.root+self.fname)  \n",
    "        self.wavtimes = [0., len(self.wavdata)*(1./self.sample_rate)]\n",
    "        self.frames = [0, int(self.wavtimes[1]/self.shift)]\n",
    "        self.wg_range.min = self.wavtimes[0]\n",
    "        self.wg_range.max = self.wavtimes[1]\n",
    "        \n",
    "        self.wg_range.value = (self.wavtimes[1]+self.wavtimes[0])/2\n",
    "        self.frame = int(self.wg_range.value/self.shift)\n",
    "        self.seltimes = self.wavtimes\n",
    "\n",
    "        self.fig_range = spchd.PlotWaveform(self.wavdata,sample_rate=self.sample_rate,ylabel=None,xlabel=None,xticks=False,\n",
    "                        figsize=(self.figwidth,0.1*self.figwidth),dpi=self.dpi)       \n",
    "        \n",
    "    def update(self):     \n",
    "        if self.length < 0.002: self.length=0.002\n",
    "        if self.shift > self.length: self.shift = self.length\n",
    "        self.nshift = int(self.shift*self.sample_rate)\n",
    "        \n",
    "        self.frame = int(self.seltime/self.shift)\n",
    "        nextend = int((self.length-self.shift)*self.sample_rate/2)\n",
    "\n",
    "        self.seltimes = [self.frame*self.shift, (self.frame+1)*self.shift]\n",
    "        self.selsamples = [self.frame*self.nshift, (self.frame+1)*self.nshift]\n",
    "        self.winsamples = [self.selsamples[0]-nextend, self.selsamples[1]+nextend]\n",
    "        self.wintimes = [self.winsamples[0]/self.sample_rate, self.winsamples[1]/self.sample_rate]\n",
    "        \n",
    "        self.spg = specg.spectrogram(self.wavdata,sample_rate=self.sample_rate,f_shift=self.shift,f_length=self.length,preemp=self.preemp,n_mels=None)\n",
    "        self.spgmel = specg.spg2mel(self.spg,sample_rate=self.sample_rate,n_mels=self.nmels)\n",
    "        (self.nparam,self.nfr) = self.spg.shape\n",
    "        img_ftrs = []\n",
    "        img_labels = []\n",
    "        segs = []\n",
    "        # add melfilterbank view\n",
    "        if self.melfb:\n",
    "            img_ftrs += [self.spgmel]\n",
    "            img_labels += ['mel '+str(self.nmels)]\n",
    "        # add mel cepstral view\n",
    "        if self.mfcc:\n",
    "            mfccs = librosa.feature.mfcc(S=self.spgmel,sr=self.sample_rate,n_mfcc=self.nmfcc,dct_type=3) \n",
    "            img_ftrs += [ mfccs ]\n",
    "            img_labels += ['mfcc '+str(mfccs.shape[0])]\n",
    "        # add segmentation\n",
    "        try:\n",
    "            seg1= tio.read_seg_file(self.root+self.segfname)\n",
    "            segs = [seg1] if seg1 is not None else []\n",
    "        except:\n",
    "            segs = []\n",
    "   \n",
    "        self.fig_main = spchd.PlotSpgFtrs(spgdata=self.spg,wavdata=self.wavdata,sample_rate=self.sample_rate,shift=self.shift,\n",
    "                    dy=self.sample_rate/(2*(self.nparam-1)),img_ftrs=img_ftrs,img_labels=img_labels,\n",
    "                    figsize=(self.figwidth,0.5*self.figwidth),dpi=self.dpi)\n",
    "        for seg in segs:\n",
    "            self.fig_main.add_seg_plot(seg,iax=0,ypos=0.85,color=\"#444\",size=12)\n",
    "            self.fig_main.add_seg_plot(seg,iax=1,ypos=None,color=\"#222\")\n",
    "        \n",
    "        self.fig_main.add_vrect(self.seltimes[0],self.seltimes[1],iax=0,color='#F22')\n",
    "        self.fig_main.add_vrect(self.wintimes[0],self.wintimes[1],iax=0,color='#2F2')\n",
    "        self.fig_main.add_vrect(self.seltimes[0],self.seltimes[1],iax=1,color='#222')\n",
    "        for i in range(len(img_ftrs)):\n",
    "            self.fig_main.add_vrect(self.seltimes[0],self.seltimes[1],iax=i+2,color='#222')\n",
    "            \n",
    "        self.plot_rhs(img_ftrs,img_labels)\n",
    "            \n",
    "        with self.out:\n",
    "            clear_output(wait=True)\n",
    "\n",
    "            display(self.fig_main)\n",
    "            \n",
    "        with self.out2:\n",
    "            clear_output(wait=True)\n",
    "            display(self.fig_rhs)\n",
    "            \n",
    "        with self.audio_controls:\n",
    "            clear_output(wait=True)\n",
    "            #sample_range = [int(self.seltimes[0]*self.sample_rate),int(self.seltimes[1]*self.sample_rate)]\n",
    "            display(Audio(data=self.wavdata,rate=self.sample_rate,autoplay=self.autoplay))\n",
    "\n",
    "    def plot_rhs(self,ftrs,labels):\n",
    "        nftrs=0 if ftrs is None else len(ftrs)\n",
    "        self.fig_rhs = spchd.SpchFig(row_heights=[1.,3.]+nftrs*[3.],figsize=((1.-self.fig_ratio)*self.figwidth,0.5*self.figwidth),dpi=self.dpi)\n",
    "        sample_range = np.arange(self.winsamples[0],self.winsamples[1])\n",
    "        self.fig_rhs.add_line_plot(self.wavdata[sample_range],iax=0,x=sample_range/self.sample_rate,color='#3F3',yrange=self.fig_main.axes[0].get_ylim())\n",
    "        sample_range = np.arange(self.selsamples[0],self.selsamples[1])\n",
    "        self.fig_rhs.axes[0].plot(sample_range/self.sample_rate,self.wavdata[self.selsamples[0]:self.selsamples[1]],color='#F00')\n",
    "        self.fig_rhs.add_line_plot(self.spg[:,self.frame],iax=1,xlabel='Freq (Hz) ',dx=self.sample_rate/(2.*(self.nparam-1)))\n",
    "        for i in range(nftrs):\n",
    "            self.fig_rhs.add_line_plot(ftrs[i][:,self.frame],iax=i+2,xlabel=labels[i])\n",
    "        plt.close(self.fig_rhs)\n",
    "        return()\n",
    "\n",
    "    def root_observe(self,change):\n",
    "        self.root=change.new\n",
    "        \n",
    "    def fname_observe(self,change):\n",
    "        self.fname=change.new\n",
    "        self.wav_update()\n",
    "        self.update()\n",
    "        \n",
    "    def segfname_observe(self,change):\n",
    "        self.segfname=change.new\n",
    "        self.update()\n",
    "        \n",
    "    def autoplay_observe(self,change):\n",
    "        self.autoplay = change.new\n",
    "        \n",
    "    def fshift_observe(self,change):\n",
    "        self.shift = change.new\n",
    "        self.wg_range.step = change.new\n",
    "        self.update()\n",
    "        \n",
    "    def flength_observe(self,change):\n",
    "        self.length = change.new\n",
    "        self.update()\n",
    "        \n",
    "    def preemp_observe(self,change):\n",
    "        self.preemp = change.new\n",
    "        self.update()\n",
    "\n",
    "    def nmels_observe(self,change):\n",
    "        self.nmels = change.new\n",
    "        self.update()\n",
    "    \n",
    "    def melfb_observe(self,obj):\n",
    "        self.melfb = obj.new\n",
    "        self.update()\n",
    "        \n",
    "    def nmfcc_observe(self,change):\n",
    "        self.nmfcc = change.new\n",
    "        self.update()\n",
    "    \n",
    "    def mfcc_observe(self,obj):\n",
    "        self.mfcc = obj.new\n",
    "        self.update()\n",
    "       \n",
    "    def range_observe(self,change):\n",
    "        #self.seltimes = change.new\n",
    "        self.seltime = self.wg_range.value\n",
    "        self.update()"
   ]
  },
  {
   "cell_type": "code",
   "execution_count": 5,
   "metadata": {},
   "outputs": [
    {
     "data": {
      "application/vnd.jupyter.widget-view+json": {
       "model_id": "41005dea719849aaba1a32346f520633",
       "version_major": 2,
       "version_minor": 0
      },
      "text/plain": [
       "iSpectrogram2(children=(VBox(children=(HBox(children=(Output(layout=Layout(width='66.0%')), Output(layout=Layo…"
      ]
     },
     "metadata": {},
     "output_type": "display_data"
    }
   ],
   "source": [
    "iSpectrogram2(dpi=80,figwidth=12)                 "
   ]
  },
  {
   "cell_type": "code",
   "execution_count": null,
   "metadata": {},
   "outputs": [],
   "source": []
  }
 ],
 "metadata": {
  "kernelspec": {
   "display_name": "Python 3",
   "language": "python",
   "name": "python3"
  },
  "language_info": {
   "codemirror_mode": {
    "name": "ipython",
    "version": 3
   },
   "file_extension": ".py",
   "mimetype": "text/x-python",
   "name": "python",
   "nbconvert_exporter": "python",
   "pygments_lexer": "ipython3",
   "version": "3.7.8"
  },
  "widgets": {
   "application/vnd.jupyter.widget-state+json": {
    "state": {
     "00f10eb0c20545cc9d9b840f56f581ac": {
      "model_module": "@jupyter-widgets/controls",
      "model_module_version": "1.5.0",
      "model_name": "VBoxModel",
      "state": {
       "children": [
        "IPY_MODEL_b9d1ff32117e457a88cf2b734eb76477",
        "IPY_MODEL_1d3c646fc8ca45089fb6c31ff4a7ea54",
        "IPY_MODEL_d9b0d50ab3a4431d9f8a2a349cafea00",
        "IPY_MODEL_6fffa21530124918b28e8581d72bebf4",
        "IPY_MODEL_d2173356d33d4b1a9c94cfa5447cb550"
       ],
       "layout": "IPY_MODEL_04edd9a0e4be4fdbae902be9761b2edc"
      }
     },
     "0319e42ee00f4656ad92b7cc3a2c9be8": {
      "model_module": "@jupyter-widgets/base",
      "model_module_version": "1.2.0",
      "model_name": "LayoutModel",
      "state": {
       "width": "98%"
      }
     },
     "04edd9a0e4be4fdbae902be9761b2edc": {
      "model_module": "@jupyter-widgets/base",
      "model_module_version": "1.2.0",
      "model_name": "LayoutModel",
      "state": {
       "border": "solid 1px black",
       "margin": "1px",
       "padding": "1px",
       "width": "50%"
      }
     },
     "0dd87adf0ece4131a6e849718dae4838": {
      "model_module": "@jupyter-widgets/base",
      "model_module_version": "1.2.0",
      "model_name": "LayoutModel",
      "state": {
       "width": "98%"
      }
     },
     "116318895c31422db4d9a85491de599d": {
      "model_module": "@jupyter-widgets/base",
      "model_module_version": "1.2.0",
      "model_name": "LayoutModel",
      "state": {
       "width": "30%"
      }
     },
     "140fbc7b48c9409bad6aa9f55166eef5": {
      "model_module": "@jupyter-widgets/base",
      "model_module_version": "1.2.0",
      "model_name": "LayoutModel",
      "state": {
       "width": "70%"
      }
     },
     "1b6a1d8ceb164705a5f33ef03dc78b44": {
      "model_module": "@jupyter-widgets/base",
      "model_module_version": "1.2.0",
      "model_name": "LayoutModel",
      "state": {
       "width": "34.0%"
      }
     },
     "1d3c646fc8ca45089fb6c31ff4a7ea54": {
      "model_module": "@jupyter-widgets/controls",
      "model_module_version": "1.5.0",
      "model_name": "FloatSliderModel",
      "state": {
       "description": "Length(msec)",
       "layout": "IPY_MODEL_fac997b2ddb9402fa3a8b319c00f0c9c",
       "max": 0.2,
       "min": 0.005,
       "readout_format": ".3f",
       "step": 0.005,
       "style": "IPY_MODEL_e2080a10131e445c8a44d27cb53af402",
       "value": 0.185
      }
     },
     "20c5bb1d75a6473eb82e038cbf22b161": {
      "model_module": "@jupyter-widgets/controls",
      "model_module_version": "1.5.0",
      "model_name": "CheckboxModel",
      "state": {
       "description": "Mel Filterbank",
       "disabled": false,
       "layout": "IPY_MODEL_2429b870659548668f0b1f6b4a40d12e",
       "style": "IPY_MODEL_5fdd037a58a04ecda67d218c3b0ab48e",
       "value": false
      }
     },
     "2429b870659548668f0b1f6b4a40d12e": {
      "model_module": "@jupyter-widgets/base",
      "model_module_version": "1.2.0",
      "model_name": "LayoutModel",
      "state": {
       "width": "30%"
      }
     },
     "25c970de1fd445419caa9a6198902f2a": {
      "model_module": "@jupyter-widgets/base",
      "model_module_version": "1.2.0",
      "model_name": "LayoutModel",
      "state": {
       "width": "70%"
      }
     },
     "2d164f6a901c4f5bb43deaf0390f6dd3": {
      "model_module": "@jupyter-widgets/controls",
      "model_module_version": "1.5.0",
      "model_name": "VBoxModel",
      "state": {
       "children": [
        "IPY_MODEL_fda3e089d04d4b2eae795d27b34bd0cd",
        "IPY_MODEL_a6f6cdb2865f4628aa0599ca2db779ee",
        "IPY_MODEL_efcea8ddbf3948b4921662fcb23bbfed",
        "IPY_MODEL_cbbf307841324059a07127c06bcb0310"
       ],
       "layout": "IPY_MODEL_e42eebdb64574a618b58880503fa9b2c"
      }
     },
     "2e5170a480f74a23b1dc8caa64164201": {
      "model_module": "@jupyter-widgets/base",
      "model_module_version": "1.2.0",
      "model_name": "LayoutModel",
      "state": {
       "width": "98%"
      }
     },
     "2ff48594a3e0431ba63a0cd42b01ef57": {
      "model_module": "@jupyter-widgets/controls",
      "model_module_version": "1.5.0",
      "model_name": "IntSliderModel",
      "state": {
       "description": "#b",
       "layout": "IPY_MODEL_25c970de1fd445419caa9a6198902f2a",
       "max": 200,
       "min": 10,
       "style": "IPY_MODEL_7ea4d24698e2487eb73ae19ced1f05ee",
       "value": 40
      }
     },
     "2ff5b2b10e114083b2f4375b42d828f1": {
      "model_module": "@jupyter-widgets/controls",
      "model_module_version": "1.5.0",
      "model_name": "DescriptionStyleModel",
      "state": {
       "description_width": "20%"
      }
     },
     "388c5fbe89c04481be03602ac128f3bd": {
      "model_module": "@jupyter-widgets/output",
      "model_module_version": "1.0.0",
      "model_name": "OutputModel",
      "state": {
       "layout": "IPY_MODEL_7b29a1b1eabd42b2a2de39cff54f39cf"
      }
     },
     "3c22bf28ea514c45a19e152b741ab3d8": {
      "model_module": "@jupyter-widgets/base",
      "model_module_version": "1.2.0",
      "model_name": "LayoutModel",
      "state": {}
     },
     "3d9d93ab829c419a881a9e7f6ebb8c13": {
      "model_module": "@jupyter-widgets/controls",
      "model_module_version": "1.5.0",
      "model_name": "FloatSliderModel",
      "state": {
       "description": "Length(msec)",
       "layout": "IPY_MODEL_9ac230e11a8141ff828dfbccec5f3b75",
       "max": 0.2,
       "min": 0.005,
       "readout_format": ".3f",
       "step": 0.005,
       "style": "IPY_MODEL_da5d411ae17b4413aa43931331099537",
       "value": 0.03
      }
     },
     "3ef3c07b0bc34dc39da22663588dd4b6": {
      "model_module": "@jupyter-widgets/controls",
      "model_module_version": "1.5.0",
      "model_name": "FloatSliderModel",
      "state": {
       "description": "Shift(msec)",
       "layout": "IPY_MODEL_456cbf65640247e591afbbba26166dd6",
       "max": 0.05,
       "min": 0.005,
       "readout_format": ".3f",
       "step": 0.005,
       "style": "IPY_MODEL_46ef881514fb4e71b3efef9c29d1662a",
       "value": 0.01
      }
     },
     "40ae62a273d64defbb37b022eb6c43d4": {
      "model_module": "@jupyter-widgets/base",
      "model_module_version": "1.2.0",
      "model_name": "LayoutModel",
      "state": {
       "width": "30%"
      }
     },
     "40b7ec30d22b45bd96490e2ba138883e": {
      "model_module": "@jupyter-widgets/base",
      "model_module_version": "1.2.0",
      "model_name": "LayoutModel",
      "state": {
       "border": "solid 1px black",
       "margin": "1px",
       "padding": "0px 2px 0px 4%",
       "width": "66.0%"
      }
     },
     "41005dea719849aaba1a32346f520633": {
      "model_module": "@jupyter-widgets/controls",
      "model_module_version": "1.5.0",
      "model_name": "VBoxModel",
      "state": {
       "children": [
        "IPY_MODEL_8fba825de1674cff870fd8e8fee712b7",
        "IPY_MODEL_e7fe1fd2dc304681bd5b11c96e861202",
        "IPY_MODEL_d7bacd3163c449b8ae264b862cc6777d"
       ],
       "layout": "IPY_MODEL_f88d2550cd384457806892cba022f732"
      }
     },
     "456cbf65640247e591afbbba26166dd6": {
      "model_module": "@jupyter-widgets/base",
      "model_module_version": "1.2.0",
      "model_name": "LayoutModel",
      "state": {}
     },
     "46ef881514fb4e71b3efef9c29d1662a": {
      "model_module": "@jupyter-widgets/controls",
      "model_module_version": "1.5.0",
      "model_name": "SliderStyleModel",
      "state": {
       "description_width": "30%"
      }
     },
     "521ad47582cf4959855be2b14e5cfa3d": {
      "model_module": "@jupyter-widgets/controls",
      "model_module_version": "1.5.0",
      "model_name": "DescriptionStyleModel",
      "state": {
       "description_width": "20%"
      }
     },
     "5255a47248c34665a251f5834b53c9a6": {
      "model_module": "@jupyter-widgets/controls",
      "model_module_version": "1.5.0",
      "model_name": "VBoxModel",
      "state": {
       "children": [
        "IPY_MODEL_a03f825672824a71830b569d37b0eb67",
        "IPY_MODEL_87fbb5e71bc1470ca24154107655174a",
        "IPY_MODEL_562ef1ca728a4eec9bfa6674006e152a"
       ],
       "layout": "IPY_MODEL_c6c6e7a1503d4241b7c21b54c9f481dd"
      }
     },
     "535667e681de47b8acd254b258434e80": {
      "model_module": "@jupyter-widgets/controls",
      "model_module_version": "1.5.0",
      "model_name": "DescriptionStyleModel",
      "state": {
       "description_width": "20%"
      }
     },
     "54553dc8063d443bbf31fa2ea51b0406": {
      "model_module": "@jupyter-widgets/base",
      "model_module_version": "1.2.0",
      "model_name": "LayoutModel",
      "state": {}
     },
     "562ef1ca728a4eec9bfa6674006e152a": {
      "model_module": "@jupyter-widgets/output",
      "model_module_version": "1.0.0",
      "model_name": "OutputModel",
      "state": {
       "layout": "IPY_MODEL_d1073458215f4614a2fb1dd5eecb7037"
      }
     },
     "57e68c9e95364a6d9f07b42637407a29": {
      "model_module": "@jupyter-widgets/controls",
      "model_module_version": "1.5.0",
      "model_name": "SliderStyleModel",
      "state": {
       "description_width": "30%"
      }
     },
     "59ad035389c240a1a0a0c58f5c694310": {
      "model_module": "@jupyter-widgets/base",
      "model_module_version": "1.2.0",
      "model_name": "LayoutModel",
      "state": {}
     },
     "5fdd037a58a04ecda67d218c3b0ab48e": {
      "model_module": "@jupyter-widgets/controls",
      "model_module_version": "1.5.0",
      "model_name": "DescriptionStyleModel",
      "state": {
       "description_width": "0%"
      }
     },
     "6356a92eaa8b4b2a82f0c39df8a6d67f": {
      "model_module": "@jupyter-widgets/controls",
      "model_module_version": "1.5.0",
      "model_name": "HBoxModel",
      "state": {
       "children": [
        "IPY_MODEL_20c5bb1d75a6473eb82e038cbf22b161",
        "IPY_MODEL_2ff48594a3e0431ba63a0cd42b01ef57"
       ],
       "layout": "IPY_MODEL_b3124a90b13d42bc9f77237c44de9c2d"
      }
     },
     "63e4f5819393422e8a466276e94d5c94": {
      "model_module": "@jupyter-widgets/base",
      "model_module_version": "1.2.0",
      "model_name": "LayoutModel",
      "state": {}
     },
     "67a41f0ddb5e440ca9b2e48654f9eb63": {
      "model_module": "@jupyter-widgets/controls",
      "model_module_version": "1.5.0",
      "model_name": "HBoxModel",
      "state": {
       "children": [
        "IPY_MODEL_95a6d68bd5a1444c8881537b140abe6b",
        "IPY_MODEL_9722bd0a8acf49479ad8d7b23f10d990"
       ],
       "layout": "IPY_MODEL_3c22bf28ea514c45a19e152b741ab3d8"
      }
     },
     "6fffa21530124918b28e8581d72bebf4": {
      "model_module": "@jupyter-widgets/controls",
      "model_module_version": "1.5.0",
      "model_name": "HBoxModel",
      "state": {
       "children": [
        "IPY_MODEL_f136b0f527604380a2d25ece89a54dda",
        "IPY_MODEL_7c88302cc7444cab9dcf6ea8ad1483ca"
       ],
       "layout": "IPY_MODEL_f688e4c28afd474bad2402e5467d52d7"
      }
     },
     "7535e485249749faa616f429b3f0d1a3": {
      "model_module": "@jupyter-widgets/controls",
      "model_module_version": "1.5.0",
      "model_name": "SliderStyleModel",
      "state": {
       "description_width": ""
      }
     },
     "774504c302f14e54987494b122681ce3": {
      "model_module": "@jupyter-widgets/controls",
      "model_module_version": "1.5.0",
      "model_name": "DescriptionStyleModel",
      "state": {
       "description_width": "20%"
      }
     },
     "77729cb4d70547da8c958d3b6b83a67c": {
      "model_module": "@jupyter-widgets/base",
      "model_module_version": "1.2.0",
      "model_name": "LayoutModel",
      "state": {}
     },
     "7a63ee5b6e6d435aa06d68edfba62270": {
      "model_module": "@jupyter-widgets/controls",
      "model_module_version": "1.5.0",
      "model_name": "TextModel",
      "state": {
       "continuous_update": false,
       "description": "Seg File: ",
       "layout": "IPY_MODEL_b1d0b1e5cde740d1aaeca3ec662dd764",
       "style": "IPY_MODEL_acdec70d5d534bc08097582cad7c0cce"
      }
     },
     "7b29a1b1eabd42b2a2de39cff54f39cf": {
      "model_module": "@jupyter-widgets/base",
      "model_module_version": "1.2.0",
      "model_name": "LayoutModel",
      "state": {
       "width": "66.0%"
      }
     },
     "7c88302cc7444cab9dcf6ea8ad1483ca": {
      "model_module": "@jupyter-widgets/controls",
      "model_module_version": "1.5.0",
      "model_name": "IntSliderModel",
      "state": {
       "description": "#b",
       "layout": "IPY_MODEL_dd51efd2646a47d2bd62dfae49c79645",
       "max": 200,
       "min": 10,
       "style": "IPY_MODEL_57e68c9e95364a6d9f07b42637407a29",
       "value": 145
      }
     },
     "7ea4d24698e2487eb73ae19ced1f05ee": {
      "model_module": "@jupyter-widgets/controls",
      "model_module_version": "1.5.0",
      "model_name": "SliderStyleModel",
      "state": {
       "description_width": "30%"
      }
     },
     "84c9d79a7a0342e0917c7011c4d2ce33": {
      "model_module": "@jupyter-widgets/controls",
      "model_module_version": "1.5.0",
      "model_name": "SliderStyleModel",
      "state": {
       "description_width": "30%"
      }
     },
     "85b00f7f5c664256abc57343fe070755": {
      "model_module": "@jupyter-widgets/base",
      "model_module_version": "1.2.0",
      "model_name": "LayoutModel",
      "state": {
       "width": "70%"
      }
     },
     "87fbb5e71bc1470ca24154107655174a": {
      "model_module": "@jupyter-widgets/controls",
      "model_module_version": "1.5.0",
      "model_name": "HBoxModel",
      "state": {
       "children": [
        "IPY_MODEL_c07996bdaf3b4422b81cfa60c0eee681",
        "IPY_MODEL_2d164f6a901c4f5bb43deaf0390f6dd3"
       ],
       "layout": "IPY_MODEL_63e4f5819393422e8a466276e94d5c94"
      }
     },
     "8b2b5915750f4971aca420eeff551492": {
      "model_module": "@jupyter-widgets/base",
      "model_module_version": "1.2.0",
      "model_name": "LayoutModel",
      "state": {
       "border": "solid 1px black",
       "margin": "1px",
       "padding": "1px",
       "width": ""
      }
     },
     "8ba29a3ce58c4c75aa4fdb33e7844922": {
      "model_module": "@jupyter-widgets/controls",
      "model_module_version": "1.5.0",
      "model_name": "CheckboxModel",
      "state": {
       "description": "MFFCs",
       "disabled": false,
       "layout": "IPY_MODEL_40ae62a273d64defbb37b022eb6c43d4",
       "style": "IPY_MODEL_ee3d8ac30c104fecb00358900d06c34d",
       "value": false
      }
     },
     "8d01e51470df4d8ca6d7a34c1c7cd29d": {
      "model_module": "@jupyter-widgets/base",
      "model_module_version": "1.2.0",
      "model_name": "LayoutModel",
      "state": {
       "border": "solid 1px black",
       "margin": "1px",
       "padding": "1px",
       "width": ""
      }
     },
     "8d463a9023b14765a53578c4f63c44ff": {
      "model_module": "@jupyter-widgets/controls",
      "model_module_version": "1.5.0",
      "model_name": "SliderStyleModel",
      "state": {
       "description_width": "30%"
      }
     },
     "8fba825de1674cff870fd8e8fee712b7": {
      "model_module": "@jupyter-widgets/controls",
      "model_module_version": "1.5.0",
      "model_name": "VBoxModel",
      "state": {
       "children": [
        "IPY_MODEL_67a41f0ddb5e440ca9b2e48654f9eb63",
        "IPY_MODEL_a78fc3ff3ed64be2ae8510b92d964c9f"
       ],
       "layout": "IPY_MODEL_8b2b5915750f4971aca420eeff551492"
      }
     },
     "95a6d68bd5a1444c8881537b140abe6b": {
      "model_module": "@jupyter-widgets/output",
      "model_module_version": "1.0.0",
      "model_name": "OutputModel",
      "state": {
       "layout": "IPY_MODEL_da3083122df241dcaf01d23d2a394541",
       "outputs": [
        {
         "data": {
          "image/png": "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\n",
          "text/plain": "<SpchFig size 960x480 with 2 Axes>"
         },
         "metadata": {},
         "output_type": "display_data"
        }
       ]
      }
     },
     "9722bd0a8acf49479ad8d7b23f10d990": {
      "model_module": "@jupyter-widgets/output",
      "model_module_version": "1.0.0",
      "model_name": "OutputModel",
      "state": {
       "layout": "IPY_MODEL_1b6a1d8ceb164705a5f33ef03dc78b44",
       "outputs": [
        {
         "data": {
          "image/png": "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\n",
          "text/plain": "<SpchFig size 326.4x480 with 2 Axes>"
         },
         "metadata": {},
         "output_type": "display_data"
        }
       ]
      }
     },
     "99eca1f49a97403db904b1b021fbbf51": {
      "model_module": "@jupyter-widgets/base",
      "model_module_version": "1.2.0",
      "model_name": "LayoutModel",
      "state": {}
     },
     "9ac230e11a8141ff828dfbccec5f3b75": {
      "model_module": "@jupyter-widgets/base",
      "model_module_version": "1.2.0",
      "model_name": "LayoutModel",
      "state": {}
     },
     "9e08137a4fd4421ebc01425f4fef88c5": {
      "model_module": "@jupyter-widgets/controls",
      "model_module_version": "1.5.0",
      "model_name": "DescriptionStyleModel",
      "state": {
       "description_width": "0%"
      }
     },
     "9ea52481f8ce4501bbd84b1f208aa214": {
      "model_module": "@jupyter-widgets/controls",
      "model_module_version": "1.5.0",
      "model_name": "FloatSliderModel",
      "state": {
       "description": "Preemphasis",
       "layout": "IPY_MODEL_99eca1f49a97403db904b1b021fbbf51",
       "max": 1,
       "step": 0.01,
       "style": "IPY_MODEL_b5875d8ea8fa4deb93406f7f02ac1e7f",
       "value": 0.97
      }
     },
     "a03f825672824a71830b569d37b0eb67": {
      "model_module": "@jupyter-widgets/controls",
      "model_module_version": "1.5.0",
      "model_name": "VBoxModel",
      "state": {
       "children": [
        "IPY_MODEL_fc2c6af5237a40b0b3e928c93b56cb61",
        "IPY_MODEL_ef3f23165de5499fbe916d8149170d42"
       ],
       "layout": "IPY_MODEL_8d01e51470df4d8ca6d7a34c1c7cd29d"
      }
     },
     "a1ebc00058284d1bb760a0a355a097f7": {
      "model_module": "@jupyter-widgets/base",
      "model_module_version": "1.2.0",
      "model_name": "LayoutModel",
      "state": {}
     },
     "a2d0d2adf9614bca94729009a5db6f84": {
      "model_module": "@jupyter-widgets/controls",
      "model_module_version": "1.5.0",
      "model_name": "HBoxModel",
      "state": {
       "children": [
        "IPY_MODEL_8ba29a3ce58c4c75aa4fdb33e7844922",
        "IPY_MODEL_b9fab924e6f64497842abe0b3e72edba"
       ],
       "layout": "IPY_MODEL_d769040aa43c478bb6526a20fe06a79b"
      }
     },
     "a36ca6f67d5a4ad5bbb30ea312784617": {
      "model_module": "@jupyter-widgets/controls",
      "model_module_version": "1.5.0",
      "model_name": "SliderStyleModel",
      "state": {
       "description_width": ""
      }
     },
     "a6f6cdb2865f4628aa0599ca2db779ee": {
      "model_module": "@jupyter-widgets/controls",
      "model_module_version": "1.5.0",
      "model_name": "TextModel",
      "state": {
       "continuous_update": false,
       "description": "Wav File: ",
       "layout": "IPY_MODEL_0dd87adf0ece4131a6e849718dae4838",
       "style": "IPY_MODEL_774504c302f14e54987494b122681ce3",
       "value": "misc/friendly.wav"
      }
     },
     "a78fc3ff3ed64be2ae8510b92d964c9f": {
      "model_module": "@jupyter-widgets/controls",
      "model_module_version": "1.5.0",
      "model_name": "FloatSliderModel",
      "state": {
       "layout": "IPY_MODEL_e9069493a9a04e3f944222e46233159d",
       "max": 1.044375,
       "readout": false,
       "step": 0.025,
       "style": "IPY_MODEL_a36ca6f67d5a4ad5bbb30ea312784617",
       "value": 0.85
      }
     },
     "a86f51a4e03942cfa186977991f1e1d6": {
      "model_module": "@jupyter-widgets/base",
      "model_module_version": "1.2.0",
      "model_name": "LayoutModel",
      "state": {}
     },
     "a8f1dda871124a0cafb449635d996163": {
      "model_module": "@jupyter-widgets/base",
      "model_module_version": "1.2.0",
      "model_name": "LayoutModel",
      "state": {}
     },
     "acdec70d5d534bc08097582cad7c0cce": {
      "model_module": "@jupyter-widgets/controls",
      "model_module_version": "1.5.0",
      "model_name": "DescriptionStyleModel",
      "state": {
       "description_width": "20%"
      }
     },
     "af1df73a969c48158883ddacb3fd11f9": {
      "model_module": "@jupyter-widgets/base",
      "model_module_version": "1.2.0",
      "model_name": "LayoutModel",
      "state": {}
     },
     "b1052bc33f274a6baac35160ef4f4bca": {
      "model_module": "@jupyter-widgets/controls",
      "model_module_version": "1.5.0",
      "model_name": "CheckboxModel",
      "state": {
       "description": "MFFCs",
       "disabled": false,
       "layout": "IPY_MODEL_116318895c31422db4d9a85491de599d",
       "style": "IPY_MODEL_9e08137a4fd4421ebc01425f4fef88c5",
       "value": false
      }
     },
     "b1d0b1e5cde740d1aaeca3ec662dd764": {
      "model_module": "@jupyter-widgets/base",
      "model_module_version": "1.2.0",
      "model_name": "LayoutModel",
      "state": {
       "width": "98%"
      }
     },
     "b3124a90b13d42bc9f77237c44de9c2d": {
      "model_module": "@jupyter-widgets/base",
      "model_module_version": "1.2.0",
      "model_name": "LayoutModel",
      "state": {}
     },
     "b44e888123d74cc8842ee75f5c2329fc": {
      "model_module": "@jupyter-widgets/base",
      "model_module_version": "1.2.0",
      "model_name": "LayoutModel",
      "state": {
       "width": "98%"
      }
     },
     "b5875d8ea8fa4deb93406f7f02ac1e7f": {
      "model_module": "@jupyter-widgets/controls",
      "model_module_version": "1.5.0",
      "model_name": "SliderStyleModel",
      "state": {
       "description_width": "30%"
      }
     },
     "b7a3084af01d4a7185af900faae2ccdd": {
      "model_module": "@jupyter-widgets/controls",
      "model_module_version": "1.5.0",
      "model_name": "VBoxModel",
      "state": {
       "children": [
        "IPY_MODEL_ba5edfe012d149cf9a2ad88073970ef7",
        "IPY_MODEL_b839e94754be41f990539b74bc74a50b",
        "IPY_MODEL_7a63ee5b6e6d435aa06d68edfba62270",
        "IPY_MODEL_be488d68656a4c58b21f00a2e4cafe46"
       ],
       "layout": "IPY_MODEL_c40484b0e2c349c09fd94867b683c35e"
      }
     },
     "b839e94754be41f990539b74bc74a50b": {
      "model_module": "@jupyter-widgets/controls",
      "model_module_version": "1.5.0",
      "model_name": "TextModel",
      "state": {
       "continuous_update": false,
       "description": "Wav File: ",
       "layout": "IPY_MODEL_0319e42ee00f4656ad92b7cc3a2c9be8",
       "style": "IPY_MODEL_f0f4c71e23fc474c918c478e09478f4b",
       "value": "misc/friendly.wav"
      }
     },
     "b9d1ff32117e457a88cf2b734eb76477": {
      "model_module": "@jupyter-widgets/controls",
      "model_module_version": "1.5.0",
      "model_name": "FloatSliderModel",
      "state": {
       "description": "Shift(msec)",
       "layout": "IPY_MODEL_54553dc8063d443bbf31fa2ea51b0406",
       "max": 0.05,
       "min": 0.005,
       "readout_format": ".3f",
       "step": 0.005,
       "style": "IPY_MODEL_f4daa1046ec9483a8ad811b433dd37f1",
       "value": 0.025
      }
     },
     "b9fab924e6f64497842abe0b3e72edba": {
      "model_module": "@jupyter-widgets/controls",
      "model_module_version": "1.5.0",
      "model_name": "IntSliderModel",
      "state": {
       "description": "#c",
       "layout": "IPY_MODEL_85b00f7f5c664256abc57343fe070755",
       "max": 200,
       "min": 5,
       "style": "IPY_MODEL_dc440b2f042a497fabfb1998a405e9b0",
       "value": 12
      }
     },
     "ba5edfe012d149cf9a2ad88073970ef7": {
      "model_module": "@jupyter-widgets/controls",
      "model_module_version": "1.5.0",
      "model_name": "TextModel",
      "state": {
       "continuous_update": false,
       "description": "Root Dir: ",
       "layout": "IPY_MODEL_e6b9a69e80564359966cd0da6d6157e6",
       "style": "IPY_MODEL_2ff5b2b10e114083b2f4375b42d828f1",
       "value": "https://homes.esat.kuleuven.be/~spchlab/data/"
      }
     },
     "be065a3cdb4749149a0307719dcbbdce": {
      "model_module": "@jupyter-widgets/output",
      "model_module_version": "1.0.0",
      "model_name": "OutputModel",
      "state": {
       "layout": "IPY_MODEL_f014ee7b53ba4eab826b276f357d8412"
      }
     },
     "be488d68656a4c58b21f00a2e4cafe46": {
      "model_module": "@jupyter-widgets/output",
      "model_module_version": "1.0.0",
      "model_name": "OutputModel",
      "state": {
       "layout": "IPY_MODEL_af1df73a969c48158883ddacb3fd11f9",
       "outputs": [
        {
         "data": {
          "text/html": "\n                <audio  controls=\"controls\" >\n                    <source src=\"data:audio/wav;base64,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\" type=\"audio/wav\" />\n                    Your browser does not support the audio element.\n                </audio>\n              ",
          "text/plain": "<IPython.lib.display.Audio object>"
         },
         "metadata": {},
         "output_type": "display_data"
        }
       ]
      }
     },
     "c07996bdaf3b4422b81cfa60c0eee681": {
      "model_module": "@jupyter-widgets/controls",
      "model_module_version": "1.5.0",
      "model_name": "VBoxModel",
      "state": {
       "children": [
        "IPY_MODEL_3ef3c07b0bc34dc39da22663588dd4b6",
        "IPY_MODEL_3d9d93ab829c419a881a9e7f6ebb8c13",
        "IPY_MODEL_9ea52481f8ce4501bbd84b1f208aa214",
        "IPY_MODEL_6356a92eaa8b4b2a82f0c39df8a6d67f",
        "IPY_MODEL_a2d0d2adf9614bca94729009a5db6f84"
       ],
       "layout": "IPY_MODEL_c595aaee16ce428bb47a6b747e562262"
      }
     },
     "c40484b0e2c349c09fd94867b683c35e": {
      "model_module": "@jupyter-widgets/base",
      "model_module_version": "1.2.0",
      "model_name": "LayoutModel",
      "state": {
       "border": "solid 1px black",
       "margin": "1px",
       "padding": "1px",
       "width": "50%"
      }
     },
     "c595aaee16ce428bb47a6b747e562262": {
      "model_module": "@jupyter-widgets/base",
      "model_module_version": "1.2.0",
      "model_name": "LayoutModel",
      "state": {
       "border": "solid 1px black",
       "margin": "1px",
       "padding": "1px",
       "width": "50%"
      }
     },
     "c6c6e7a1503d4241b7c21b54c9f481dd": {
      "model_module": "@jupyter-widgets/base",
      "model_module_version": "1.2.0",
      "model_name": "LayoutModel",
      "state": {}
     },
     "cbbf307841324059a07127c06bcb0310": {
      "model_module": "@jupyter-widgets/output",
      "model_module_version": "1.0.0",
      "model_name": "OutputModel",
      "state": {
       "layout": "IPY_MODEL_a86f51a4e03942cfa186977991f1e1d6"
      }
     },
     "cfd9c6e8c68a4f48a19e42531e1540a7": {
      "model_module": "@jupyter-widgets/controls",
      "model_module_version": "1.5.0",
      "model_name": "IntSliderModel",
      "state": {
       "description": "#c",
       "layout": "IPY_MODEL_140fbc7b48c9409bad6aa9f55166eef5",
       "max": 200,
       "min": 5,
       "style": "IPY_MODEL_8d463a9023b14765a53578c4f63c44ff",
       "value": 181
      }
     },
     "d1073458215f4614a2fb1dd5eecb7037": {
      "model_module": "@jupyter-widgets/base",
      "model_module_version": "1.2.0",
      "model_name": "LayoutModel",
      "state": {}
     },
     "d2173356d33d4b1a9c94cfa5447cb550": {
      "model_module": "@jupyter-widgets/controls",
      "model_module_version": "1.5.0",
      "model_name": "HBoxModel",
      "state": {
       "children": [
        "IPY_MODEL_b1052bc33f274a6baac35160ef4f4bca",
        "IPY_MODEL_cfd9c6e8c68a4f48a19e42531e1540a7"
       ],
       "layout": "IPY_MODEL_a8f1dda871124a0cafb449635d996163"
      }
     },
     "d769040aa43c478bb6526a20fe06a79b": {
      "model_module": "@jupyter-widgets/base",
      "model_module_version": "1.2.0",
      "model_name": "LayoutModel",
      "state": {}
     },
     "d7bacd3163c449b8ae264b862cc6777d": {
      "model_module": "@jupyter-widgets/output",
      "model_module_version": "1.0.0",
      "model_name": "OutputModel",
      "state": {
       "layout": "IPY_MODEL_a1ebc00058284d1bb760a0a355a097f7"
      }
     },
     "d9b0d50ab3a4431d9f8a2a349cafea00": {
      "model_module": "@jupyter-widgets/controls",
      "model_module_version": "1.5.0",
      "model_name": "FloatSliderModel",
      "state": {
       "description": "Preemphasis",
       "layout": "IPY_MODEL_77729cb4d70547da8c958d3b6b83a67c",
       "max": 1,
       "step": 0.01,
       "style": "IPY_MODEL_84c9d79a7a0342e0917c7011c4d2ce33",
       "value": 0.97
      }
     },
     "da3083122df241dcaf01d23d2a394541": {
      "model_module": "@jupyter-widgets/base",
      "model_module_version": "1.2.0",
      "model_name": "LayoutModel",
      "state": {
       "width": "66.0%"
      }
     },
     "da5d411ae17b4413aa43931331099537": {
      "model_module": "@jupyter-widgets/controls",
      "model_module_version": "1.5.0",
      "model_name": "SliderStyleModel",
      "state": {
       "description_width": "30%"
      }
     },
     "dad91573b72643848c4571f623b317cf": {
      "model_module": "@jupyter-widgets/controls",
      "model_module_version": "1.5.0",
      "model_name": "DescriptionStyleModel",
      "state": {
       "description_width": "0%"
      }
     },
     "dc440b2f042a497fabfb1998a405e9b0": {
      "model_module": "@jupyter-widgets/controls",
      "model_module_version": "1.5.0",
      "model_name": "SliderStyleModel",
      "state": {
       "description_width": "30%"
      }
     },
     "dd51efd2646a47d2bd62dfae49c79645": {
      "model_module": "@jupyter-widgets/base",
      "model_module_version": "1.2.0",
      "model_name": "LayoutModel",
      "state": {
       "width": "70%"
      }
     },
     "de9eb9c0212b40179589085d1e63ab41": {
      "model_module": "@jupyter-widgets/base",
      "model_module_version": "1.2.0",
      "model_name": "LayoutModel",
      "state": {
       "width": "30%"
      }
     },
     "e2080a10131e445c8a44d27cb53af402": {
      "model_module": "@jupyter-widgets/controls",
      "model_module_version": "1.5.0",
      "model_name": "SliderStyleModel",
      "state": {
       "description_width": "30%"
      }
     },
     "e42eebdb64574a618b58880503fa9b2c": {
      "model_module": "@jupyter-widgets/base",
      "model_module_version": "1.2.0",
      "model_name": "LayoutModel",
      "state": {
       "border": "solid 1px black",
       "margin": "1px",
       "padding": "1px",
       "width": "50%"
      }
     },
     "e6b9a69e80564359966cd0da6d6157e6": {
      "model_module": "@jupyter-widgets/base",
      "model_module_version": "1.2.0",
      "model_name": "LayoutModel",
      "state": {
       "width": "98%"
      }
     },
     "e7fe1fd2dc304681bd5b11c96e861202": {
      "model_module": "@jupyter-widgets/controls",
      "model_module_version": "1.5.0",
      "model_name": "HBoxModel",
      "state": {
       "children": [
        "IPY_MODEL_00f10eb0c20545cc9d9b840f56f581ac",
        "IPY_MODEL_b7a3084af01d4a7185af900faae2ccdd"
       ],
       "layout": "IPY_MODEL_59ad035389c240a1a0a0c58f5c694310"
      }
     },
     "e9069493a9a04e3f944222e46233159d": {
      "model_module": "@jupyter-widgets/base",
      "model_module_version": "1.2.0",
      "model_name": "LayoutModel",
      "state": {
       "border": "solid 1px black",
       "margin": "1px",
       "padding": "0px 2px 0px 4%",
       "width": "66.0%"
      }
     },
     "ee3d8ac30c104fecb00358900d06c34d": {
      "model_module": "@jupyter-widgets/controls",
      "model_module_version": "1.5.0",
      "model_name": "DescriptionStyleModel",
      "state": {
       "description_width": "0%"
      }
     },
     "ef3f23165de5499fbe916d8149170d42": {
      "model_module": "@jupyter-widgets/controls",
      "model_module_version": "1.5.0",
      "model_name": "FloatSliderModel",
      "state": {
       "layout": "IPY_MODEL_40b7ec30d22b45bd96490e2ba138883e",
       "max": 1.044375,
       "readout": false,
       "step": 0.01,
       "style": "IPY_MODEL_7535e485249749faa616f429b3f0d1a3",
       "value": 0.5221875
      }
     },
     "efcea8ddbf3948b4921662fcb23bbfed": {
      "model_module": "@jupyter-widgets/controls",
      "model_module_version": "1.5.0",
      "model_name": "TextModel",
      "state": {
       "continuous_update": false,
       "description": "Seg File: ",
       "layout": "IPY_MODEL_b44e888123d74cc8842ee75f5c2329fc",
       "style": "IPY_MODEL_521ad47582cf4959855be2b14e5cfa3d"
      }
     },
     "f014ee7b53ba4eab826b276f357d8412": {
      "model_module": "@jupyter-widgets/base",
      "model_module_version": "1.2.0",
      "model_name": "LayoutModel",
      "state": {
       "width": "34.0%"
      }
     },
     "f0f4c71e23fc474c918c478e09478f4b": {
      "model_module": "@jupyter-widgets/controls",
      "model_module_version": "1.5.0",
      "model_name": "DescriptionStyleModel",
      "state": {
       "description_width": "20%"
      }
     },
     "f136b0f527604380a2d25ece89a54dda": {
      "model_module": "@jupyter-widgets/controls",
      "model_module_version": "1.5.0",
      "model_name": "CheckboxModel",
      "state": {
       "description": "Mel Filterbank",
       "disabled": false,
       "layout": "IPY_MODEL_de9eb9c0212b40179589085d1e63ab41",
       "style": "IPY_MODEL_dad91573b72643848c4571f623b317cf",
       "value": false
      }
     },
     "f4daa1046ec9483a8ad811b433dd37f1": {
      "model_module": "@jupyter-widgets/controls",
      "model_module_version": "1.5.0",
      "model_name": "SliderStyleModel",
      "state": {
       "description_width": "30%"
      }
     },
     "f688e4c28afd474bad2402e5467d52d7": {
      "model_module": "@jupyter-widgets/base",
      "model_module_version": "1.2.0",
      "model_name": "LayoutModel",
      "state": {}
     },
     "f75373c4b3cd4e03b2a28ad930fc8400": {
      "model_module": "@jupyter-widgets/base",
      "model_module_version": "1.2.0",
      "model_name": "LayoutModel",
      "state": {}
     },
     "f88d2550cd384457806892cba022f732": {
      "model_module": "@jupyter-widgets/base",
      "model_module_version": "1.2.0",
      "model_name": "LayoutModel",
      "state": {}
     },
     "fac997b2ddb9402fa3a8b319c00f0c9c": {
      "model_module": "@jupyter-widgets/base",
      "model_module_version": "1.2.0",
      "model_name": "LayoutModel",
      "state": {}
     },
     "fc2c6af5237a40b0b3e928c93b56cb61": {
      "model_module": "@jupyter-widgets/controls",
      "model_module_version": "1.5.0",
      "model_name": "HBoxModel",
      "state": {
       "children": [
        "IPY_MODEL_388c5fbe89c04481be03602ac128f3bd",
        "IPY_MODEL_be065a3cdb4749149a0307719dcbbdce"
       ],
       "layout": "IPY_MODEL_f75373c4b3cd4e03b2a28ad930fc8400"
      }
     },
     "fda3e089d04d4b2eae795d27b34bd0cd": {
      "model_module": "@jupyter-widgets/controls",
      "model_module_version": "1.5.0",
      "model_name": "TextModel",
      "state": {
       "continuous_update": false,
       "description": "Root Dir: ",
       "layout": "IPY_MODEL_2e5170a480f74a23b1dc8caa64164201",
       "style": "IPY_MODEL_535667e681de47b8acd254b258434e80",
       "value": "https://homes.esat.kuleuven.be/~spchlab/data/"
      }
     }
    },
    "version_major": 2,
    "version_minor": 0
   }
  }
 },
 "nbformat": 4,
 "nbformat_minor": 4
}
