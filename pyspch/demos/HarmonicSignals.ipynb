{
 "cells": [
  {
   "cell_type": "markdown",
   "metadata": {},
   "source": [
    "# Harmonic Signals\n",
    "### Pitch and Timbre of Periodic Signals (sine, square, sawtooth, ...)\n",
    "\n",
    "Author: Dirk Van Compernolle   \n",
    "Created: 29/03/2021"
   ]
  },
  {
   "cell_type": "code",
   "execution_count": 1,
   "metadata": {},
   "outputs": [
    {
     "data": {
      "text/html": [
       "\n",
       "<style>\n",
       "    div#notebook-container    { width: 99%; }\n",
       "    div#menubar-container     { width: 65%; }\n",
       "    div#maintoolbar-container { width: 99%; }\n",
       "</style>\n"
      ],
      "text/plain": [
       "<IPython.core.display.HTML object>"
      ]
     },
     "metadata": {},
     "output_type": "display_data"
    }
   ],
   "source": [
    "%matplotlib inline\n",
    "import ipywidgets as widgets\n",
    "from ipywidgets import interact, interact_manual, interactive, interactive_output\n",
    "import numpy as np\n",
    "import matplotlib.pyplot as plt\n",
    "import matplotlib\n",
    "from scipy import signal\n",
    "from IPython.display import display, clear_output, Audio, HTML\n",
    "import time\n",
    "import librosa\n",
    "import pyspch.spectrogram as specg\n",
    "import pyspch.display as spch_disp\n",
    "\n",
    "def my_sine(x, w, amp, phi):\n",
    "    return amp*np.sin(w * (x-phi))\n",
    "#\n",
    "def synth(sigtype='sin', freq=200.0, amp=1.0, phi=0.0, sample_rate=8000, Tmax=0.25):\n",
    "    t = np.linspace(0.0, Tmax, int(Tmax*sample_rate), endpoint=False)\n",
    "    tt = 2.*np.pi*(freq*t) + phi\n",
    "    if sigtype == 'sin':\n",
    "        y = np.sin(tt)\n",
    "    elif sigtype == 'square':\n",
    "        y = signal.square(tt)\n",
    "    elif sigtype == 'sawtooth':\n",
    "        y = signal.sawtooth(tt)\n",
    "    elif sigtype == 'chirp 1:20':\n",
    "        y = signal.chirp(t,freq,Tmax,20.*freq,method='linear')\n",
    "    elif sigtype == 'chirp 20:1':\n",
    "        y = signal.chirp(t,20*freq,Tmax,freq,method='linear')\n",
    "    elif sigtype == 'gausspulse':\n",
    "        y = signal.gausspulse(t-Tmax/2.,fc=freq,bw=.4)\n",
    "    elif sigtype == 'modulated white noise':\n",
    "        y = np.random.randn(len(t))*np.sin(tt)\n",
    "    else:\n",
    "        print( 'signal: Unrecognized signal type')\n",
    "    return amp*y, t\n",
    "\n",
    "\n",
    "# a default boxed layout\n",
    "def box_layout():\n",
    "     return widgets.Layout(\n",
    "        border='solid 1px black',\n",
    "        margin='0px 10px 10px 0px',\n",
    "        padding='5px 5px 5px 5px'\n",
    "     )\n",
    "\n",
    "# The following code will increase the default width of your Jupyter notebook cells\n",
    "# Supposed to work well \n",
    "display(HTML(data=\"\"\"\n",
    "<style>\n",
    "    div#notebook-container    { width: 99%; }\n",
    "    div#menubar-container     { width: 65%; }\n",
    "    div#maintoolbar-container { width: 99%; }\n",
    "</style>\n",
    "\"\"\"))"
   ]
  },
  {
   "cell_type": "code",
   "execution_count": 2,
   "metadata": {},
   "outputs": [],
   "source": [
    "class Harmonic_Signals(widgets.HBox):\n",
    "\n",
    "    def __init__(self,Tmax=.3,sample_rate=16000,freq_range=[100.,500.]):\n",
    "        super().__init__()\n",
    "        \n",
    "        if sample_rate < 4000.:\n",
    "            print(\"WARNING: sampling rate should not be lower than 4000.0 Hz and has been reset.\")\n",
    "            sample_rate = 4000.0\n",
    "        self.sample_rate = sample_rate\n",
    "        self.nfft = 512\n",
    "        self.Tmax = Tmax        \n",
    "        display_types = ['spectrum','spectrogram']\n",
    "        signal_types = [ 'sin', 'square', 'sawtooth', 'chirp 1:20','chirp 20:1', 'gausspulse','modulated white noise']\n",
    "        \n",
    "        self.disptype = 'spectrum'\n",
    "        self.sigtype = 'sin'\n",
    "        self.freq = 110.\n",
    "        self.amp = 1.\n",
    "        self.phi = 0.\n",
    "        self.autoplay = False\n",
    "\n",
    "        # create the widgets\n",
    "        self.wg_disptype = widgets.Dropdown(options=display_types,value=self.disptype,description=\"Display\")\n",
    "        self.wg_sigtype = widgets.Dropdown(options=signal_types,value=self.sigtype,description=\"Signal\")\n",
    "        self.wg_amp = widgets.FloatLogSlider(value=self.amp,step=0.2,min=-2.,max=0.0,description='Amplitude',continous_update=False)\n",
    "        freq_step = 10. if (freq_range[1]-freq_range[0]) > 50 else 1.  \n",
    "        self.wg_freq = widgets.FloatSlider(value=self.freq,step=freq_step,min=freq_range[0],max=freq_range[1],description='Frequency',continous_update=False)\n",
    "        self.wg_phi = widgets.FloatSlider(value=self.phi,step=0.1,min=0.0,max=2.*np.pi,description='Phase',continous_update=False)\n",
    "        self.wg_autoplay = widgets.Checkbox(value=self.autoplay,description='Autoplay Audio',indent=False,button_style='warning')\n",
    "        self.wg_autoplay.layout.width='50%'\n",
    "        self.wg_clear_log = widgets.Button(description='Clear the log')\n",
    "        self.wg_clear_log.layout.width='50%'\n",
    "        \n",
    "        # link to the widget observers\n",
    "        self.wg_disptype.observe(self.disptype_observe,'value')\n",
    "        self.wg_sigtype.observe(self.sigtype_observe,'value')\n",
    "        self.wg_amp.observe(self.amp_observe,'value')    \n",
    "        self.wg_freq.observe(self.freq_observe,'value')\n",
    "        self.wg_phi.observe(self.phi_observe,'value')\n",
    "        self.wg_autoplay.observe(self.autoplay_clicked, 'value')\n",
    "        self.wg_clear_log.on_click(self.clear_log_clicked)\n",
    "\n",
    "        # setup the outputs \n",
    "        self.audio = widgets.Output()\n",
    "        self.logscr = widgets.Output()\n",
    "        self.out = widgets.Output(layout=box_layout())\n",
    "        self.UI = widgets.VBox( [self.wg_disptype,self.wg_sigtype, self.wg_amp, self.wg_freq, self.wg_phi,self.wg_autoplay],\n",
    "                                 layout=box_layout())\n",
    "        self.right_screen = widgets.VBox([self.UI, self.audio, self.wg_clear_log,  self.logscr],layout=box_layout())\n",
    "                                          \n",
    "        # initialize the plots\n",
    "        #self.fig,self.ax = plt.subplots(2,1,constrained_layout=True, figsize=(9, 4))\n",
    "        self.fig = spch_disp.make_subplots(row_heights=[1.,1.], figsize=(6, 4),dpi=100)        \n",
    "        self.update()\n",
    "        plt.close()          # avoids output of dummy figure on startup\n",
    "        # initialize the displayed function\n",
    "\n",
    "        # attach children to the VBox class\n",
    "        self.children = [ self.out, self.right_screen ] \n",
    "\n",
    "    def update(self):\n",
    "        y,x = synth(sigtype=self.sigtype,freq=self.freq,phi=self.phi,amp=self.amp,sample_rate=self.sample_rate,Tmax=self.Tmax)\n",
    "\n",
    "        ax = self.fig.axes\n",
    "       \n",
    "        if self.disptype == 'spectrum':\n",
    "            ax[0].cla()\n",
    "            ax[1].cla()\n",
    "            spch_disp.add_line_plot(self.fig,y,row=1,x=x,yrange=[-1.,1.],xlabel='Time(sec)',title='Waveform')\n",
    "            freq_ax,spec = signal.periodogram(y,fs=self.sample_rate,scaling='spectrum')\n",
    "            ax[1].plot(freq_ax,np.sqrt(2*spec))\n",
    "            ax[1].set_title('Spectrum')\n",
    "            ax[1].set_xlabel('Frequency (Hz)')\n",
    "            ax[1].set_ylim([0, 1])\n",
    "            ax[1].grid(True)\n",
    "            ax[1].set_xlim([0,self.sample_rate/2.])\n",
    "        elif self.disptype == 'spectrogram':\n",
    "            spg = specg.spectrogram(y,sample_rate=self.sample_rate,preemp=0.)\n",
    "            yax = np.arange(self.nfft/2 + 1)*(self.sample_rate/self.nfft) \n",
    "            spch_disp.plot_spg(spg,fig=self.fig,wav=y,sample_rate=self.sample_rate,yax=yax)\n",
    "            ax[0].set_title('Waveform')\n",
    "            ax[0].set_xlabel('')\n",
    "            ax[1].set_title('Spectrogram')\n",
    "            ax[1].set_xlabel('Time(sec)')\n",
    "            #ax[1].set_ylabel('Hz')\n",
    "\n",
    "            \n",
    "        # here come the things that go to dedicated output widgets\n",
    "        with self.out:\n",
    "            clear_output(wait=True)\n",
    "            display(self.fig)\n",
    "        with self.audio:\n",
    "            clear_output(wait=True)\n",
    "            try:\n",
    "                display(Audio(data=y,rate=self.sample_rate,normalize=False, autoplay=self.autoplay))\n",
    "            except: \n",
    "                try:\n",
    "                    with self.logscr:\n",
    "                        #clear_output(wait=True)\n",
    "                        print(\"Warning: playing normalized sound\")\n",
    "                    display(Audio(data=y,rate=self.sample_rate, autoplay=self.autoplay))\n",
    "                except: pass\n",
    "     \n",
    "    def disptype_observe(self,change):\n",
    "        self.disptype = change.new\n",
    "        self.update()\n",
    "    \n",
    "    def sigtype_observe(self,change):\n",
    "        self.sigtype = change.new\n",
    "        self.update()\n",
    "    \n",
    "    def amp_observe(self,change):\n",
    "        self.amp = change.new\n",
    "        self.update()\n",
    "        \n",
    "    def freq_observe(self,change):\n",
    "        self.freq = change.new\n",
    "        self.update()\n",
    "        \n",
    "    def phi_observe(self,change):\n",
    "        self.phi = change.new\n",
    "        self.update()\n",
    "        \n",
    "    def autoplay_clicked(self,obj):\n",
    "        self.autoplay = not self.autoplay\n",
    "        with self.logscr: print('Toggling autoplay',self.autoplay) \n",
    "\n",
    "    def clear_log_clicked(self,b):\n",
    "        with self.logscr: clear_output()                   \n",
    "\n"
   ]
  },
  {
   "cell_type": "markdown",
   "metadata": {},
   "source": [
    "## Waveform and Spectrum of Harmonic Signals\n",
    "\n",
    "\n",
    "In this demo periodic signals are generated that can be characterized as a harmonic complex of sine waves.\n",
    "\n",
    "$y= A \\sum_k \\alpha_k  sin(2  \\pi k f_0 t+\\Phi)$\n",
    "\n",
    "In addition signals can be generated with either time-varying amplitude (e.g. Gaussian pulse) or time-varying frequency (e.g. chirps). \n",
    "\n",
    "You can control:\n",
    "- The fundamental frequency $f_0$  (named \"frequency\" in the control panel)  \n",
    "- The overall amplitude $A$\n",
    "- The relative amplitude of the harmonics $\\alpha_k$ by choosing from a set of predefined harmonic functions\n",
    "- The global phase $\\Phi$  (you cannot control relative phase differences per harmonic component in this demo)\n",
    "\n",
    "Signal Types to choose from:\n",
    "- stationary and periodic\n",
    "    + sine wave\n",
    "    + square \n",
    "    + sawtooth\n",
    "- non stationary signals:\n",
    "    + chirp 1:10 : ramping up the frequency by a factor of 20\n",
    "    + chirp 20:1 : ramping down the frequency by a factor of 20\n",
    "    + gausspulse\n",
    "\n",
    "    \n",
    "Displays to choose from:\n",
    "- spectrum: most appropiate for stationary signals\n",
    "- spectrogram: essential for non-stationary signals\n",
    "    \n",
    "CAVEAT:   \n",
    "+ The Autoplay function does not always work properly on Ipython < 6.0 [Google Colab] which has autonormalization by default in the display.Audio() function"
   ]
  },
  {
   "cell_type": "code",
   "execution_count": 3,
   "metadata": {},
   "outputs": [
    {
     "data": {
      "application/vnd.jupyter.widget-view+json": {
       "model_id": "c3d59db7fde14cdeaf043fcbb8572f27",
       "version_major": 2,
       "version_minor": 0
      },
      "text/plain": [
       "Harmonic_Signals(children=(Output(layout=Layout(border='solid 1px black', margin='0px 10px 10px 0px', padding=…"
      ]
     },
     "metadata": {},
     "output_type": "display_data"
    }
   ],
   "source": [
    "Harmonic_Signals(Tmax=.3,sample_rate=8000,freq_range=[2.,500.]) "
   ]
  },
  {
   "cell_type": "code",
   "execution_count": null,
   "metadata": {},
   "outputs": [],
   "source": []
  }
 ],
 "metadata": {
  "kernelspec": {
   "display_name": "Python 3",
   "language": "python",
   "name": "python3"
  },
  "language_info": {
   "codemirror_mode": {
    "name": "ipython",
    "version": 3
   },
   "file_extension": ".py",
   "mimetype": "text/x-python",
   "name": "python",
   "nbconvert_exporter": "python",
   "pygments_lexer": "ipython3",
   "version": "3.8.3"
  },
  "widgets": {
   "application/vnd.jupyter.widget-state+json": {
    "state": {
     "02c183312ad04d38b935a2283a897a6d": {
      "model_module": "@jupyter-widgets/controls",
      "model_module_version": "1.5.0",
      "model_name": "DescriptionStyleModel",
      "state": {
       "description_width": ""
      }
     },
     "0a5b3206522f4c6db7a549ddd6c0b8e7": {
      "model_module": "@jupyter-widgets/controls",
      "model_module_version": "1.5.0",
      "model_name": "DescriptionStyleModel",
      "state": {
       "description_width": ""
      }
     },
     "1a8bc30a27ef41cc890d185bd11789e9": {
      "model_module": "@jupyter-widgets/controls",
      "model_module_version": "1.5.0",
      "model_name": "DropdownModel",
      "state": {
       "_options_labels": [
        "sin",
        "square",
        "sawtooth",
        "chirp 1:20",
        "chirp 20:1",
        "gausspulse",
        "modulated white noise"
       ],
       "description": "Signal",
       "index": 0,
       "layout": "IPY_MODEL_407016c811534ae5b5307fa4914d8700",
       "style": "IPY_MODEL_02c183312ad04d38b935a2283a897a6d"
      }
     },
     "1c6861465f054629be68d1e5f28953d0": {
      "model_module": "@jupyter-widgets/base",
      "model_module_version": "1.2.0",
      "model_name": "LayoutModel",
      "state": {}
     },
     "259e4498112444bdbdd48fcee5365232": {
      "model_module": "@jupyter-widgets/controls",
      "model_module_version": "1.5.0",
      "model_name": "DropdownModel",
      "state": {
       "_options_labels": [
        "spectrum",
        "spectrogram"
       ],
       "description": "Display",
       "index": 0,
       "layout": "IPY_MODEL_d44aab3701b84d19ae46401a86a3dd4a",
       "style": "IPY_MODEL_acb2d40a165b45458a06da0a66ae7ef4"
      }
     },
     "2666c9ab97584b8a92cce60242babf38": {
      "model_module": "@jupyter-widgets/base",
      "model_module_version": "1.2.0",
      "model_name": "LayoutModel",
      "state": {}
     },
     "27b371126bbe41d4a12dc14cd68b328f": {
      "model_module": "@jupyter-widgets/base",
      "model_module_version": "1.2.0",
      "model_name": "LayoutModel",
      "state": {
       "width": "50%"
      }
     },
     "282ec063210f4f95956223ccb322e5b0": {
      "model_module": "@jupyter-widgets/controls",
      "model_module_version": "1.5.0",
      "model_name": "FloatLogSliderModel",
      "state": {
       "description": "Amplitude",
       "layout": "IPY_MODEL_93493e0d328b4619bd42fd1b8304d332",
       "max": 0,
       "min": -2,
       "step": 0.2,
       "style": "IPY_MODEL_32d6263b312a49ee8086467e7d1b5dca"
      }
     },
     "2c0dcd1cd121493b8225fba417647d5d": {
      "model_module": "@jupyter-widgets/controls",
      "model_module_version": "1.5.0",
      "model_name": "VBoxModel",
      "state": {
       "children": [
        "IPY_MODEL_4491177923d0479db4476339b5c580b4",
        "IPY_MODEL_3aec7dd195af4a3ea9c39aec41802aac",
        "IPY_MODEL_99d4aca615b84614914e118cb11c1df5",
        "IPY_MODEL_8681deee22f14d32a03d3cdbcaf5e6a5"
       ],
       "layout": "IPY_MODEL_f33cf6dd90534858abd99dcb6d43ba5b"
      }
     },
     "2d46573255014bd38df57e8fb3f81f38": {
      "model_module": "@jupyter-widgets/output",
      "model_module_version": "1.0.0",
      "model_name": "OutputModel",
      "state": {
       "layout": "IPY_MODEL_da521e4f43cb472ba8b2451d99c9ad44",
       "outputs": [
        {
         "data": {
          "image/png": "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\n",
          "text/plain": "<Figure size 600x400 with 2 Axes>"
         },
         "metadata": {},
         "output_type": "display_data"
        }
       ]
      }
     },
     "3272d27f11fb4664a74e36ff01cc5edc": {
      "model_module": "@jupyter-widgets/base",
      "model_module_version": "1.2.0",
      "model_name": "LayoutModel",
      "state": {
       "border": "solid 1px black",
       "margin": "0px 10px 10px 0px",
       "padding": "5px 5px 5px 5px"
      }
     },
     "32d6263b312a49ee8086467e7d1b5dca": {
      "model_module": "@jupyter-widgets/controls",
      "model_module_version": "1.5.0",
      "model_name": "SliderStyleModel",
      "state": {
       "description_width": ""
      }
     },
     "342e23d7699643389047132bad79a589": {
      "model_module": "@jupyter-widgets/base",
      "model_module_version": "1.2.0",
      "model_name": "LayoutModel",
      "state": {
       "width": "50%"
      }
     },
     "3aec7dd195af4a3ea9c39aec41802aac": {
      "model_module": "@jupyter-widgets/output",
      "model_module_version": "1.0.0",
      "model_name": "OutputModel",
      "state": {
       "layout": "IPY_MODEL_2666c9ab97584b8a92cce60242babf38",
       "outputs": [
        {
         "data": {
          "text/html": "\n                <audio  controls=\"controls\" >\n                    <source src=\"data:audio/wav;base64,UklGRuQSAABXQVZFZm10IBAAAAABAAEAQB8AAIA+AAACABAAZGF0YcASAADRWxps03d9ftJ/wXt4cltkAVIyPNgj+wm07xvWR745qdSX1YrHggKAo4KOim+XuKixvXXVBu9MCS8jlzt6Ue1jKXKUe8h/mH4QeHdsS1w6SBwx7Be7/aHjusoStJ6gMZFxhtGAkICvhfeP+Z4UsnjINOE9+3gVzC4nRoxaH2stdzN+5380fEVzeGVjU8k9lCXJC3/x0tfWv5Cq5JiSiyqDBoBJgtmJZpZopya8wtM77X4HcSH7ORNQyWJVcRh7qn/Zfq14am2KXbZJxzKzGYr/ZuVhzIm11qEckgWHCIFogCmFGo/Onaaw2MZz3275rxMcLaJEQlkfaoF24331f6F8C3SPZsBUXT9OJ5YNTPOL2WnB66v5mVWMk4MRgPWBKoljlRymn7oQ0nHrrwWxH104p06gYXtwlnqGfxN/RXlYbsNeL0tvNHgbWQEs5wrOBLcSowyTn4dGgUaAqoRCjqecPa87xbTdoPflEWkrGUP0Vxlpz3WMff1/B33LdKJnGVbuQAUpYg8Z9UXb/sJKrRObH40DhCOAqIGBiGaU1KQcuWHQqenhA/AduzY4TXJgm28Oelt/SH/WeUBv+F+kTBQ2PB0oA/Potc+CuFOkApQ/iIuBLIAyhHGNhZvXraHD99vR9RkQtCmNQaFWDmgXdS59/n9nfYZ1r2htV3tCuyotEef2At2XxK6uM5zujXmEO4Bhgd6HbZORo5y3tM7h5xECLBwXNcRLP1+1bn95KX91f2F6InAoYRVOtjf+HvcEu+pk0QS6mKX9lOaI1YEXgL+DpYxpmnasCsI72gT0TQ79J/0/SlX+Zlh0y3z5f8F9Ona3ab1YBURvLPgStfjB3jPGFbBXncOO9oRagCCBQYd7klOiILYKzRvmQgBoGnAzTUoHXspt63jxfpx/5Xr/cFNigk9WOb8gxQaE7BTTirvjpv6Vk4knggqAU4Pfi1KZGqt2wIHYN/KBDEQmaz7uU+hllHNhfO1/FH7pdrlqCVqMRSAuwhSE+oHg0seBsYGeno95hX+A5oCrho6RGqGntGLLVuR0/qIYxzHSSMtc2WxQeLJ+vX9je9VxeWPrUPM6fiKUCE7ux9QTvTGoBJdFin6CA4DugiCLQJjBqea+ytZr8LMKiSTVPI9SzWTKcvB7239hfpF3tmtQWw9Hzy+KFlP8QuJzyfGysJ9+kAKGq4CzgBuGp5DmnzOzvcmS4qX82xYbMFNHiVvia653bX7Xf9t7pnKaZFBSjDw7JGIKGvB81p++hakQmP6K3IICgI6CZoozl22oWb0U1aDu5gjMIjs7K1GtY/txeXvCf6d+M3iubJJcj0h7MVIYIv4G5BjLZbTjoGWRkYbdgIaAkIXFj7aewrEbyNDg1voSFWwu0UVDWuZqB3cifup/TXxxc7ZlsVMjPvYlLwzm8TTYL8DcqiGZvYtBgwiANoKyiSyWHafPu2HT1ewXBw4hnznCT4hiJXH8eqN/5n7QeKBt0F0KSiUzGBrx/8rlv8zdtRyiUZImhxaBYIAMhemOjJ1WsHzGEN8H+UkTvCxLRPhY5WladtB993+4fDZ0zWYNVbY/sCf8DbLz7dnCwTisN5qCjKyDFYDjgQSJKpXSpUm6sNEM60kFTR8AOFZOXmFKcHl6fX8gf2V5jG4IX4JLzTTdG78Bkedpzli3WaNCk8KHVYFAgI+EE45mnO2u4MRR3Tn3fxEIK8FCqVfeaKZ1eH3+fx199XTeZ2VWRkFnKcgPgPWo21nDma1Tm0yNHYQogJeBXIgulIykxrgB0EPpegOLHV425kwuYGhv73lQf1J/9Xlzbzxg9kxxNqAdjwNY6RXQ17ibpDmUZIibgSeAGIRDjUabia1Gw5Tba/WzD1MpNEFVVtJn7XQZff5/fH2vdepouFfTQhwrkxFO92Xd8sT9rnOcHY6UhEGAUoG7hzeTSqNHt1XOfOeqAcgbuTRxS/pegW5feR1/fn9/elRwa2FnThM4Yh9eBSDrxNFauuGlNpUMieeBFICng3mMK5oprLDB2dme8+cNnCekP/1UwGYtdLR893/UfWJ28WkIWV1EzyxeExz5JN+PxmawmZ3zjhKFYYATgR+HRpINosy1rMy25dz/AxoSM/lJwV2Vbcl45H6kfwJ7L3GVYtNPsjkiISwH6ux10+G7Lac4lrqJOYIIgDyDtIsVmc2qHcAg2NHxGgziJRE+oVOpZWhzSHzqfyZ+D3fyalJa4kWALicV6/rk4C7I07HEns+PloWIgNqAioZakdWgVLQFy/HjDf49GGgxfUiEXKNsLHikfsN/f3sEcrpjO1FOO+Ei+wi07ijVa718qD+XboqTggKA2IL2igSYdamNvmjWBfBNCickejxAUo1knXLWe9Z/cX62d+5rmFtlRy4w7xa6/Kfi0MlEs/SfsZAhhrWAqID7hXSQop/gsmDJLuI+/HUWuy/+RkFbq2uKd11+3H/1e9Ry2mSfUuc8nSTICoDw3tb4vtGpTJgoi/KCA4B6gj2K+JYiqAG9s9Q67n8IaSLgOttQbGPMcV57vH+1fld45GzZXONI2jG3GIn+auR1y7i0KKGZkbKG6YB9gHOFlI9znnGxv8ds4G/6rRQMLnpF+lmuauF2EH7uf2Z8nXP1Zf5TfT5YJpYMTPKV2InAKatemeiLWIMKgCOCi4nyldSmeLsB02/ssAaqIEM5ck9GYvVw33qbf/R+8XjVbRZeXkqEM3waVwAv5h3NMbZiooaSSIcjgViA8IS5jkqdBbAgxqzeoPjjElss9EOuWKtpMna9ffl/z3xhdApnWlUQQBEoYg4Z9E/aHMKGrHaarozEgxiA0oHeiPKUiqXyuVDRpuriBOoepDcEThthGHBaenN/K3+GecBuTV/VSyo1QRwmAvbnyM6tt6CjeZPmh2SBOoB0hOSNJpydroTE7tzS9hkRpyppQl5Xo2h+dWN9/n8zfR91GmixVp9ByCkuEOb1C9y0w+itkpt6jTeELYCHgTiI95NEpHG4os/e6BMDJx0BNpNM6l81b895RX9dfxR6pW+AYElNzjYEHvYDvel00C2546RxlImIq4EigP6DFo0Gmzqt7MIx2wT1TQ/yKNxACVaWZ8N0A339f5B913UlaQNYK0N9K/kRtPfI3U7FTa+0nEyOsIRIgEOBmIcBkwOj8rb2zRfnRAFkG1w0Hku1Xk1uPnkRf4d/nHqFcK5huE5wOMYfxAWG6yTSsborpm+VMon5gRGAjoNMjOyZ26tWwXfZN/OBDTonSz+wVINmAnScfPV/532JdipqUVm0RDAtxBOD+Yff68a3sNudJI8vhWmABoH+hhGSx6F4tU3MUeV1/54ZtDKlSXtdYG2meNZ+rH8ee19x12IjUA46hSGTB1Dt1dM4vHencpbhiU2CBoAlg4mL2JiAqsS/vtdr8bQLgCW2PVNTa2U7cy985n83fjR3KmubWjlG4C6NFVL7SOGLyCSyB58BkLWFkYDPgGqGJpGQoAG0p8qN46b92BcJMShIPFxsbAl4lX7Jf5p7M3L7Y4pRqTtEI2EJGu+J1cO9yKh7l5eKp4ICgMKCzIrIlympNb4H1p/v5gnEIx888VFOZG9yvHvRf4F+2nclbOBbukeOMFUXIf0L4y7KlrM4oOSQQYbAgJ6A3IVCkF6fjrIDycrh1/sQFlwvqEb5WnNrZXdNfuB/D3wBcxll7VJBPQAlLwvm8D/XUb8dqomYUosIgwSAZoIVir6W16epvFPU1O0YCAYihTqLUCtjnHFCe7V/xH56eBptIF04STkyHBnw/s/k08sMtW2hzZHThvWAdIBVhWOPMZ4gsWLHCeAI+kcUrC0kRbFZdWq7dv598X9+fMlzM2ZMVNc+uyb8DLLy99jiwHarnJkUjG+DDYAQgmSJuZWKpiG7oNIK7EoGRyDnOCFPBGLEcMJ6kn8BfxN5CW5bXrJK4jPhGr4AlOZ8zYW2qKK7kmuHMYFRgNSEiY4JnbWvxMVJ3jr4fRL6K5xDZFhxaQt2qn37f+Z8jHRHZ6ZVaUBzKMkOf/Sy2nfC1Ky1mtuM3YMcgMGBuYi5lEGlnLnw0EHqewSGHkc3s03XYOZvPHpqfzd/pnnzbpJfKEyINaUcjQJb6CfPArjno6+TCYhzgTSAWYS2jeWbTq4pxIvca/azEEYqEUITV2hoVXVOff5/SH1IdVZo/Fb3QSkqlBBN9m7cDsQ3rtKbqI1RhDKAeIEUiMCT/KMbuEPPeeisAsMcpDVBTKZfAm+weTp/Z38zetdvxGCbTSs3aB5cBCPq1NCDuSulqZSuiLyBHYDlg+iMx5rsrJHCz9qe9OcOkCiDQL1VWWeZdO18+3+kff91YGlOWIJD3itfEhv4K96pxZ2v9Zx7jsyET4A1gXWHy5K9op62mM2y5t0A/xr+M8tKcF4Zbh15BH+Qf7p6tnDwYQlPzDgpICsG7OuE0ge7dKaolViJC4IOgHaDIYyumY2r/cAU2dHyGg3YJvE+Y1RFZtZzhXzyf/l9r3ZkaptZCkWQLSkU6vnr30fHCLEdnlSPTIVygPmA3IbckYKhJLXvy+3kDv85GVUyUUk1XSpthHjIfrN/OnuOcRhjc1BqOukh+ge27TbUj7zBp6yWCYpgggSAD4Nfi5uYM6prv1zXBPFNCx0lXD0EUyxlDnMWfOJ/SH5ad2Nr41qPRkAv8hW5+6zh6Mh2skqfM5DThZuAw4BKhvOQTKCus0nKKeM//XMXqjDTR/VbNWzld4V+z3+0e2FyO2TZUQQ8pyPICYDv6tUbvhOptpfAiryCAoCtgqOKjJfeqN29ptU574AJYSPEO6JRDmRBcqF7y3+Qfv53XGwnXA9I7TC6F4j9b+OLyumzfKAXkWCGy4CUgL6FEJAbnz2ypshm4XD7qxX8LlJGsFo7a0B3PH7lfyh8LnNYZTxTnD1jJZULTPGh16q/aarFmH2LH4MFgFKC7YmDlo2nUrzy027tsQejISk6O1DqYm1xJnuuf9J+nHhQbWZdjEmYMoAZV/8z5THMX7WzoQGS9IYCgWyAOIUyj++dz7AGx6XfofniE0wtzURnWTtqlHbsffR/lXz1c3FmmVQwPx0nYw0Z81nZPMHEq9qZP4yHgxCA/oE9iYCVQKbKukDSpOvjBeMfizjQTsJhk3Cleop/DX80eT5uoV4FS0A0RhslAfnm2s3Ztu+i8ZKOhz+BSoC4hFqOx5xlr2nF5t3T9xcSmitFQxlYNmnjdZZ9/H/8fLZ0hGfzVcFA1SgvD+b0FNvRwiOt9JoIjfaDIYCwgZSIgZT4pEe5kdDb6RQEIh7qNmFNlGC0bx16YH9Cf8Z5Jm/WX3tM5TUKHfQCwOiGz1e4L6Tmky2Ig4EugD+EiI2lm/+tzsMo3AX2TBDlKblBx1YsaCt1OX3+f119cnWRaEhXT0KLKvoQtPbR3GnEhq4TnNeNbIQ4gGiB8IeJk7WjxrfkzhToRQJfHEY17ktiX89uj3kvf3B/UXoJcAdh7E2IN8wewwSI6jTR2bl0peGU04jNgRmAzIO7jIianaw3wmzaN/SBDi4oKkBwVRxnbnTWfPp/t30ndpppmFjaQz4sxRKC+I/eBcbtrzedq47ohFaAJ4FTh5aSdqJKtjnNTeZ2AJoanzN3Sipe5G37ePh+mH/XeuZwMmJaTyg5jSCSBlHs5NJeu76m4ZV/iR2CC4Bfg/WLcZlAq6PAsthq8rQMdSaXPhVUB2arc218738LftZ2nWrkWWFF8C2PFFH6T+Cjx1mxYJ6Fj2qFeoDtgLuGqJE9odG0kcuI5Kf+1Bj2MfxI7lz0bGF4un66f1Z7vnFZY8NQxTpMImAIG+6X1Oe8DKjnljGKdIIDgPmCNYtemOepEr/71p7w5wq7JAI9tlLtZOFy/Xvdf1h+f3eaayxb5EafL1cWH/wQ4kXJyLKOn2WQ8oWlgLiAKobAkAigXLPsycTi2PwNF0swfketW/5rwXd1ftR/znuPcntkKVJfPAkkLwrn70zWc75fqfKX6YrSggKAmYJ6ilGXk6iFvUXV0+4ZCf4iaTtSUc1jEnKHe8V/n34ieJNsb1xkSEwxHxjv/dTj6co8tMGgS5GBhteAi4Cfhd6P2J7rsUrIAuEJ+0UVnC78RWhaA2sadyt+6X9BfFtzl2WKU/Y9xSX8C7PxA9gDwLaqApmoizWDB4A/gsaJSZZDp/u7kdMI7UsHPyHNOetPqWI9cQp7pn/gfr94hW2tXeBJ9jLlGb7/mOWQzLO1+aE2khWHD4FkgBuFAY+tnX6wqsZB3zv5fBPsLHZEHVkCam122X32f618IXSuZuZUij9/J8kNf/O82ZXBEqwYmmyMn4MTgOyBF4lHlfeldLrg0T7rfAV/Hy44f05/YWJwh3qBfxp/VXlybuZeWUueNKobjAFe5znOLrc1oyeTsIc=\" type=\"audio/wav\" />\n                    Your browser does not support the audio element.\n                </audio>\n              ",
          "text/plain": "<IPython.lib.display.Audio object>"
         },
         "metadata": {},
         "output_type": "display_data"
        }
       ]
      }
     },
     "407016c811534ae5b5307fa4914d8700": {
      "model_module": "@jupyter-widgets/base",
      "model_module_version": "1.2.0",
      "model_name": "LayoutModel",
      "state": {}
     },
     "4491177923d0479db4476339b5c580b4": {
      "model_module": "@jupyter-widgets/controls",
      "model_module_version": "1.5.0",
      "model_name": "VBoxModel",
      "state": {
       "children": [
        "IPY_MODEL_259e4498112444bdbdd48fcee5365232",
        "IPY_MODEL_1a8bc30a27ef41cc890d185bd11789e9",
        "IPY_MODEL_282ec063210f4f95956223ccb322e5b0",
        "IPY_MODEL_856d1d8de9334474a598f8e7ab12f1e8",
        "IPY_MODEL_b25552311b6448d2b02951b5a734f112",
        "IPY_MODEL_92ab8d691d2e4b1e943163676e105b38"
       ],
       "layout": "IPY_MODEL_3272d27f11fb4664a74e36ff01cc5edc"
      }
     },
     "5a499cfef5ab4f96a9e46c91448dc02a": {
      "model_module": "@jupyter-widgets/controls",
      "model_module_version": "1.5.0",
      "model_name": "SliderStyleModel",
      "state": {
       "description_width": ""
      }
     },
     "6a4b777c424c4b9ca7702995cabb965e": {
      "model_module": "@jupyter-widgets/controls",
      "model_module_version": "1.5.0",
      "model_name": "ButtonStyleModel",
      "state": {}
     },
     "6c80b58bc1d64d4f95ec37f1d1f907af": {
      "model_module": "@jupyter-widgets/base",
      "model_module_version": "1.2.0",
      "model_name": "LayoutModel",
      "state": {}
     },
     "6f3767b26e624a23a1b402e0c8f8d1a2": {
      "model_module": "@jupyter-widgets/controls",
      "model_module_version": "1.5.0",
      "model_name": "SliderStyleModel",
      "state": {
       "description_width": ""
      }
     },
     "856d1d8de9334474a598f8e7ab12f1e8": {
      "model_module": "@jupyter-widgets/controls",
      "model_module_version": "1.5.0",
      "model_name": "FloatSliderModel",
      "state": {
       "description": "Frequency",
       "layout": "IPY_MODEL_6c80b58bc1d64d4f95ec37f1d1f907af",
       "max": 500,
       "min": 2,
       "step": 10,
       "style": "IPY_MODEL_5a499cfef5ab4f96a9e46c91448dc02a",
       "value": 262
      }
     },
     "8681deee22f14d32a03d3cdbcaf5e6a5": {
      "model_module": "@jupyter-widgets/output",
      "model_module_version": "1.0.0",
      "model_name": "OutputModel",
      "state": {
       "layout": "IPY_MODEL_e82828f4433d4e6c9bacdeae1e73522a"
      }
     },
     "92ab8d691d2e4b1e943163676e105b38": {
      "model_module": "@jupyter-widgets/controls",
      "model_module_version": "1.5.0",
      "model_name": "CheckboxModel",
      "state": {
       "description": "Autoplay Audio",
       "disabled": false,
       "indent": false,
       "layout": "IPY_MODEL_27b371126bbe41d4a12dc14cd68b328f",
       "style": "IPY_MODEL_0a5b3206522f4c6db7a549ddd6c0b8e7",
       "value": false
      }
     },
     "93493e0d328b4619bd42fd1b8304d332": {
      "model_module": "@jupyter-widgets/base",
      "model_module_version": "1.2.0",
      "model_name": "LayoutModel",
      "state": {}
     },
     "99d4aca615b84614914e118cb11c1df5": {
      "model_module": "@jupyter-widgets/controls",
      "model_module_version": "1.5.0",
      "model_name": "ButtonModel",
      "state": {
       "description": "Clear the log",
       "layout": "IPY_MODEL_342e23d7699643389047132bad79a589",
       "style": "IPY_MODEL_6a4b777c424c4b9ca7702995cabb965e"
      }
     },
     "acb2d40a165b45458a06da0a66ae7ef4": {
      "model_module": "@jupyter-widgets/controls",
      "model_module_version": "1.5.0",
      "model_name": "DescriptionStyleModel",
      "state": {
       "description_width": ""
      }
     },
     "b25552311b6448d2b02951b5a734f112": {
      "model_module": "@jupyter-widgets/controls",
      "model_module_version": "1.5.0",
      "model_name": "FloatSliderModel",
      "state": {
       "description": "Phase",
       "layout": "IPY_MODEL_1c6861465f054629be68d1e5f28953d0",
       "max": 6.283185307179586,
       "step": 0.1,
       "style": "IPY_MODEL_6f3767b26e624a23a1b402e0c8f8d1a2",
       "value": 0.8
      }
     },
     "c3d59db7fde14cdeaf043fcbb8572f27": {
      "model_module": "@jupyter-widgets/controls",
      "model_module_version": "1.5.0",
      "model_name": "HBoxModel",
      "state": {
       "children": [
        "IPY_MODEL_2d46573255014bd38df57e8fb3f81f38",
        "IPY_MODEL_2c0dcd1cd121493b8225fba417647d5d"
       ],
       "layout": "IPY_MODEL_d7077a7c113c402d99ca09285ed99226"
      }
     },
     "d44aab3701b84d19ae46401a86a3dd4a": {
      "model_module": "@jupyter-widgets/base",
      "model_module_version": "1.2.0",
      "model_name": "LayoutModel",
      "state": {}
     },
     "d7077a7c113c402d99ca09285ed99226": {
      "model_module": "@jupyter-widgets/base",
      "model_module_version": "1.2.0",
      "model_name": "LayoutModel",
      "state": {}
     },
     "da521e4f43cb472ba8b2451d99c9ad44": {
      "model_module": "@jupyter-widgets/base",
      "model_module_version": "1.2.0",
      "model_name": "LayoutModel",
      "state": {
       "border": "solid 1px black",
       "margin": "0px 10px 10px 0px",
       "padding": "5px 5px 5px 5px"
      }
     },
     "e82828f4433d4e6c9bacdeae1e73522a": {
      "model_module": "@jupyter-widgets/base",
      "model_module_version": "1.2.0",
      "model_name": "LayoutModel",
      "state": {}
     },
     "f33cf6dd90534858abd99dcb6d43ba5b": {
      "model_module": "@jupyter-widgets/base",
      "model_module_version": "1.2.0",
      "model_name": "LayoutModel",
      "state": {
       "border": "solid 1px black",
       "margin": "0px 10px 10px 0px",
       "padding": "5px 5px 5px 5px"
      }
     }
    },
    "version_major": 2,
    "version_minor": 0
   }
  }
 },
 "nbformat": 4,
 "nbformat_minor": 4
}
