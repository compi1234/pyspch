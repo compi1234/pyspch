{
 "cells": [
  {
   "cell_type": "markdown",
   "metadata": {},
   "source": [
    "# Harmonic Signals\n",
    "### Pitch and Timbre of Periodic Signals (sine, square, sawtooth, ...)\n",
    "\n",
    "Author: Dirk Van Compernolle   \n",
    "Created: 29/03/2021"
   ]
  },
  {
   "cell_type": "code",
   "execution_count": 3,
   "metadata": {},
   "outputs": [
    {
     "data": {
      "text/html": [
       "\n",
       "<style>\n",
       "    div#notebook-container    { width: 99%; }\n",
       "    div#menubar-container     { width: 65%; }\n",
       "    div#maintoolbar-container { width: 99%; }\n",
       "</style>\n"
      ],
      "text/plain": [
       "<IPython.core.display.HTML object>"
      ]
     },
     "metadata": {},
     "output_type": "display_data"
    }
   ],
   "source": [
    "%matplotlib inline\n",
    "import ipywidgets as widgets\n",
    "from ipywidgets import interact, interact_manual, interactive, interactive_output\n",
    "import numpy as np\n",
    "import matplotlib.pyplot as plt\n",
    "import matplotlib\n",
    "from scipy import signal\n",
    "from IPython.display import display, clear_output, Audio, HTML\n",
    "import time\n",
    "import librosa\n",
    "import pyspch.spectrogram as specg\n",
    "import pyspch.display as spch_disp\n",
    "\n",
    "def my_sine(x, w, amp, phi):\n",
    "    return amp*np.sin(w * (x-phi))\n",
    "#\n",
    "def synth(sigtype='sin', freq=200.0, amp=1.0, phi=0.0, sample_rate=8000, Tmax=0.25):\n",
    "    t = np.linspace(0.0, Tmax, int(Tmax*sample_rate), endpoint=False)\n",
    "    tt = 2.*np.pi*(freq*t) + phi\n",
    "    if sigtype == 'sin':\n",
    "        y = np.sin(tt)\n",
    "    elif sigtype == 'square':\n",
    "        y = signal.square(tt)\n",
    "    elif sigtype == 'sawtooth':\n",
    "        y = signal.sawtooth(tt)\n",
    "    elif sigtype == 'chirp 1:20':\n",
    "        y = signal.chirp(t,freq,Tmax,20.*freq,method='linear')\n",
    "    elif sigtype == 'chirp 20:1':\n",
    "        y = signal.chirp(t,20*freq,Tmax,freq,method='linear')\n",
    "    elif sigtype == 'gausspulse':\n",
    "        y = signal.gausspulse(t-Tmax/2.,fc=freq,bw=.4)\n",
    "    elif sigtype == 'modulated white noise':\n",
    "        y = np.random.randn(len(t))*np.sin(tt)\n",
    "    else:\n",
    "        print( 'signal: Unrecognized signal type')\n",
    "    return amp*y, t\n",
    "\n",
    "\n",
    "# a default boxed layout\n",
    "def box_layout():\n",
    "     return widgets.Layout(\n",
    "        border='solid 1px black',\n",
    "        margin='0px 10px 10px 0px',\n",
    "        padding='5px 5px 5px 5px'\n",
    "     )\n",
    "\n",
    "# The following code will increase the default width of your Jupyter notebook cells\n",
    "# Supposed to work well \n",
    "display(HTML(data=\"\"\"\n",
    "<style>\n",
    "    div#notebook-container    { width: 99%; }\n",
    "    div#menubar-container     { width: 65%; }\n",
    "    div#maintoolbar-container { width: 99%; }\n",
    "</style>\n",
    "\"\"\"))"
   ]
  },
  {
   "cell_type": "code",
   "execution_count": 4,
   "metadata": {},
   "outputs": [],
   "source": [
    "class Harmonic_Signals(widgets.HBox):\n",
    "\n",
    "    def __init__(self,Tmax=.3,sample_rate=16000,freq_range=[100.,500.]):\n",
    "        super().__init__()\n",
    "        \n",
    "        if sample_rate < 4000.:\n",
    "            print(\"WARNING: sampling rate should not be lower than 4000.0 Hz and has been reset.\")\n",
    "            sample_rate = 4000.0\n",
    "        self.sample_rate = sample_rate\n",
    "        self.nfft = 512\n",
    "        self.Tmax = Tmax        \n",
    "        display_types = ['spectrum','spectrogram']\n",
    "        signal_types = [ 'sin', 'square', 'sawtooth', 'chirp 1:20','chirp 20:1', 'gausspulse','modulated white noise']\n",
    "        \n",
    "        self.disptype = 'spectrum'\n",
    "        self.sigtype = 'sin'\n",
    "        self.freq = 110.\n",
    "        self.amp = 1.\n",
    "        self.phi = 0.\n",
    "        self.autoplay = False\n",
    "\n",
    "        # create the widgets\n",
    "        self.wg_disptype = widgets.Dropdown(options=display_types,value=self.disptype,description=\"Display\")\n",
    "        self.wg_sigtype = widgets.Dropdown(options=signal_types,value=self.sigtype,description=\"Signal\")\n",
    "        self.wg_amp = widgets.FloatLogSlider(value=self.amp,step=0.2,min=-2.,max=0.0,description='Amplitude',continous_update=False)\n",
    "        freq_step = 10. if (freq_range[1]-freq_range[0]) > 50 else 1.  \n",
    "        self.wg_freq = widgets.FloatSlider(value=self.freq,step=freq_step,min=freq_range[0],max=freq_range[1],description='Frequency',continous_update=False)\n",
    "        self.wg_phi = widgets.FloatSlider(value=self.phi,step=0.1,min=0.0,max=2.*np.pi,description='Phase',continous_update=False)\n",
    "        self.wg_autoplay = widgets.Checkbox(value=self.autoplay,description='Autoplay Audio',indent=False,button_style='warning')\n",
    "        self.wg_autoplay.layout.width='50%'\n",
    "        self.wg_clear_log = widgets.Button(description='Clear the log')\n",
    "        self.wg_clear_log.layout.width='50%'\n",
    "        \n",
    "        # link to the widget observers\n",
    "        self.wg_disptype.observe(self.disptype_observe,'value')\n",
    "        self.wg_sigtype.observe(self.sigtype_observe,'value')\n",
    "        self.wg_amp.observe(self.amp_observe,'value')    \n",
    "        self.wg_freq.observe(self.freq_observe,'value')\n",
    "        self.wg_phi.observe(self.phi_observe,'value')\n",
    "        self.wg_autoplay.observe(self.autoplay_clicked, 'value')\n",
    "        self.wg_clear_log.on_click(self.clear_log_clicked)\n",
    "\n",
    "        # setup the outputs \n",
    "        self.audio = widgets.Output()\n",
    "        self.logscr = widgets.Output()\n",
    "        self.out = widgets.Output(layout=box_layout())\n",
    "        self.UI = widgets.VBox( [self.wg_disptype,self.wg_sigtype, self.wg_amp, self.wg_freq, self.wg_phi,self.wg_autoplay],\n",
    "                                 layout=box_layout())\n",
    "        self.right_screen = widgets.VBox([self.UI, self.audio, self.wg_clear_log,  self.logscr],layout=box_layout())\n",
    "                                          \n",
    "        # initialize the plots\n",
    "        #self.fig,self.ax = plt.subplots(2,1,constrained_layout=True, figsize=(9, 4))\n",
    "        self.fig = spch_disp.make_subplots(row_heights=[1.,1.], figsize=(6, 4),dpi=100)        \n",
    "        self.update()\n",
    "        plt.close()          # avoids output of dummy figure on startup\n",
    "        # initialize the displayed function\n",
    "\n",
    "        # attach children to the VBox class\n",
    "        self.children = [ self.out, self.right_screen ] \n",
    "\n",
    "    def update(self):\n",
    "        y,x = synth(sigtype=self.sigtype,freq=self.freq,phi=self.phi,amp=self.amp,sample_rate=self.sample_rate,Tmax=self.Tmax)\n",
    "\n",
    "        ax = self.fig.axes\n",
    "       \n",
    "        if self.disptype == 'spectrum':\n",
    "            ax[0].cla()\n",
    "            ax[1].cla()\n",
    "            spch_disp.add_line_plot(ax[0],y,x,yrange=[-1.,1.],xlabel='Time(sec)',title='Waveform')\n",
    "            freq_ax,spec = signal.periodogram(y,fs=self.sample_rate,scaling='spectrum')\n",
    "            ax[1].plot(freq_ax,np.sqrt(2*spec))\n",
    "            ax[1].set_title('Spectrum')\n",
    "            ax[1].set_xlabel('Frequency (Hz)')\n",
    "            ax[1].set_ylim([0, 1])\n",
    "            ax[1].grid(True)\n",
    "            ax[1].set_xlim([0,self.sample_rate/2.])\n",
    "        elif self.disptype == 'spectrogram':\n",
    "            spg = specg.spectrogram(y,sample_rate=self.sample_rate,preemp=0.)\n",
    "            yax = np.arange(self.nfft/2 + 1)*(self.sample_rate/self.nfft) \n",
    "            spch_disp.plot_spg(spg,fig=self.fig,wav=y,sample_rate=self.sample_rate,yax=yax)\n",
    "            ax[0].set_title('Waveform')\n",
    "            ax[0].set_xlabel('')\n",
    "            ax[1].set_title('Spectrogram')\n",
    "            ax[1].set_xlabel('Time(sec)')\n",
    "            #ax[1].set_ylabel('Hz')\n",
    "\n",
    "            \n",
    "        # here come the things that go to dedicated output widgets\n",
    "        with self.out:\n",
    "            clear_output(wait=True)\n",
    "            display(self.fig)\n",
    "        with self.audio:\n",
    "            clear_output(wait=True)\n",
    "            try:\n",
    "                display(Audio(data=y,rate=self.sample_rate,normalize=False, autoplay=self.autoplay))\n",
    "            except: \n",
    "                try:\n",
    "                    with self.logscr:\n",
    "                        #clear_output(wait=True)\n",
    "                        print(\"Warning: playing normalized sound\")\n",
    "                    display(Audio(data=y,rate=self.sample_rate, autoplay=self.autoplay))\n",
    "                except: pass\n",
    "     \n",
    "    def disptype_observe(self,change):\n",
    "        self.disptype = change.new\n",
    "        self.update()\n",
    "    \n",
    "    def sigtype_observe(self,change):\n",
    "        self.sigtype = change.new\n",
    "        self.update()\n",
    "    \n",
    "    def amp_observe(self,change):\n",
    "        self.amp = change.new\n",
    "        self.update()\n",
    "        \n",
    "    def freq_observe(self,change):\n",
    "        self.freq = change.new\n",
    "        self.update()\n",
    "        \n",
    "    def phi_observe(self,change):\n",
    "        self.phi = change.new\n",
    "        self.update()\n",
    "        \n",
    "    def autoplay_clicked(self,obj):\n",
    "        self.autoplay = not self.autoplay\n",
    "        with self.logscr: print('Toggling autoplay',self.autoplay) \n",
    "\n",
    "    def clear_log_clicked(self,b):\n",
    "        with self.logscr: clear_output()                   \n",
    "\n"
   ]
  },
  {
   "cell_type": "markdown",
   "metadata": {},
   "source": [
    "## Waveform and Spectrum of Harmonic Signals\n",
    "\n",
    "\n",
    "In this demo periodic signals are generated that can be characterized as a harmonic complex of sine waves.\n",
    "\n",
    "$y= A \\sum_k \\alpha_k  sin(2  \\pi k f_0 t+\\Phi)$\n",
    "\n",
    "In addition signals can be generated with either time-varying amplitude (e.g. Gaussian pulse) or time-varying frequency (e.g. chirps). \n",
    "\n",
    "You can control:\n",
    "- The fundamental frequency $f_0$  (named \"frequency\" in the control panel)  \n",
    "- The overall amplitude $A$\n",
    "- The relative amplitude of the harmonics $\\alpha_k$ by choosing from a set of predefined harmonic functions\n",
    "- The global phase $\\Phi$  (you cannot control relative phase differences per harmonic component in this demo)\n",
    "\n",
    "Signal Types to choose from:\n",
    "- stationary and periodic\n",
    "    + sine wave\n",
    "    + square \n",
    "    + sawtooth\n",
    "- non stationary signals:\n",
    "    + chirp 1:10 : ramping up the frequency by a factor of 20\n",
    "    + chirp 20:1 : ramping down the frequency by a factor of 20\n",
    "    + gausspulse\n",
    "\n",
    "    \n",
    "Displays to choose from:\n",
    "- spectrum: most appropiate for stationary signals\n",
    "- spectrogram: essential for non-stationary signals\n",
    "    \n",
    "CAVEAT:   \n",
    "+ The Autoplay function does not always work properly on Ipython < 6.0 [Google Colab] which has autonormalization by default in the display.Audio() function"
   ]
  },
  {
   "cell_type": "code",
   "execution_count": 5,
   "metadata": {},
   "outputs": [
    {
     "data": {
      "application/vnd.jupyter.widget-view+json": {
       "model_id": "c7a447de3fa64dacb975a90822e27f1c",
       "version_major": 2,
       "version_minor": 0
      },
      "text/plain": [
       "Harmonic_Signals(children=(Output(layout=Layout(border='solid 1px black', margin='0px 10px 10px 0px', padding=…"
      ]
     },
     "metadata": {},
     "output_type": "display_data"
    }
   ],
   "source": [
    "Harmonic_Signals(Tmax=.3,sample_rate=8000,freq_range=[2.,500.]) "
   ]
  },
  {
   "cell_type": "code",
   "execution_count": null,
   "metadata": {},
   "outputs": [],
   "source": []
  }
 ],
 "metadata": {
  "kernelspec": {
   "display_name": "Python 3",
   "language": "python",
   "name": "python3"
  },
  "language_info": {
   "codemirror_mode": {
    "name": "ipython",
    "version": 3
   },
   "file_extension": ".py",
   "mimetype": "text/x-python",
   "name": "python",
   "nbconvert_exporter": "python",
   "pygments_lexer": "ipython3",
   "version": "3.8.3"
  },
  "widgets": {
   "application/vnd.jupyter.widget-state+json": {
    "state": {
     "057eade23fdf4199b8f7a5f08bb2eee4": {
      "model_module": "@jupyter-widgets/controls",
      "model_module_version": "1.5.0",
      "model_name": "FloatSliderModel",
      "state": {
       "description": "Frequency",
       "layout": "IPY_MODEL_10f165213adc428ca671f27e55d6d533",
       "max": 500,
       "min": 2,
       "step": 10,
       "style": "IPY_MODEL_be725dfe0bb54e328db15b04010b3334",
       "value": 110
      }
     },
     "062cd256ffe34d59b9cd3737b91503a0": {
      "model_module": "@jupyter-widgets/controls",
      "model_module_version": "1.5.0",
      "model_name": "DropdownModel",
      "state": {
       "_options_labels": [
        "sin",
        "square",
        "sawtooth",
        "chirp 1:20",
        "chirp 20:1",
        "gausspulse",
        "modulated white noise"
       ],
       "description": "Signal",
       "index": 0,
       "layout": "IPY_MODEL_b8d6431a03fc4ddc97cc9fc3a967cc4a",
       "style": "IPY_MODEL_dd548f21399f4b3293e624c1bc0a0ada"
      }
     },
     "070a99bea02d4423917160610f41064c": {
      "model_module": "@jupyter-widgets/controls",
      "model_module_version": "1.5.0",
      "model_name": "ButtonStyleModel",
      "state": {}
     },
     "0c2b34e4a9da496faa48fa9e1a9e888e": {
      "model_module": "@jupyter-widgets/output",
      "model_module_version": "1.0.0",
      "model_name": "OutputModel",
      "state": {
       "layout": "IPY_MODEL_e7ff96e09eaa4467a2cbf8aef4b5ea98",
       "outputs": [
        {
         "data": {
          "text/html": "\n                <audio  controls=\"controls\" >\n                    <source src=\"data:audio/wav;base64,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\" type=\"audio/wav\" />\n                    Your browser does not support the audio element.\n                </audio>\n              ",
          "text/plain": "<IPython.lib.display.Audio object>"
         },
         "metadata": {},
         "output_type": "display_data"
        }
       ]
      }
     },
     "10f165213adc428ca671f27e55d6d533": {
      "model_module": "@jupyter-widgets/base",
      "model_module_version": "1.2.0",
      "model_name": "LayoutModel",
      "state": {}
     },
     "26431b02472246e48504333f27a7a85f": {
      "model_module": "@jupyter-widgets/controls",
      "model_module_version": "1.5.0",
      "model_name": "ButtonModel",
      "state": {
       "description": "Clear the log",
       "layout": "IPY_MODEL_6cdb43d6e18a4820b70948da01c0f42c",
       "style": "IPY_MODEL_070a99bea02d4423917160610f41064c"
      }
     },
     "2d1e9ed3e9674c11a9eba6ae48a86baf": {
      "model_module": "@jupyter-widgets/base",
      "model_module_version": "1.2.0",
      "model_name": "LayoutModel",
      "state": {}
     },
     "2e562abffc7c4b7c8423bb0d8f84803f": {
      "model_module": "@jupyter-widgets/base",
      "model_module_version": "1.2.0",
      "model_name": "LayoutModel",
      "state": {
       "border": "solid 1px black",
       "margin": "0px 10px 10px 0px",
       "padding": "5px 5px 5px 5px"
      }
     },
     "35da4cb6967d48529363909051a34f79": {
      "model_module": "@jupyter-widgets/base",
      "model_module_version": "1.2.0",
      "model_name": "LayoutModel",
      "state": {}
     },
     "620c56676f8d40398b66a32bcee9bc09": {
      "model_module": "@jupyter-widgets/controls",
      "model_module_version": "1.5.0",
      "model_name": "VBoxModel",
      "state": {
       "children": [
        "IPY_MODEL_eb90cc17e45842c3834902dcd4207413",
        "IPY_MODEL_062cd256ffe34d59b9cd3737b91503a0",
        "IPY_MODEL_a904b5cbc9d3445aa48398ead9167320",
        "IPY_MODEL_057eade23fdf4199b8f7a5f08bb2eee4",
        "IPY_MODEL_6c96736df7934c08832e240138fab4f8",
        "IPY_MODEL_f430c395b7684c76909584f340582243"
       ],
       "layout": "IPY_MODEL_beba5405cb0e4fc4b80dbaffd4cae3bc"
      }
     },
     "62f4e66a9dce4c888c8ed43e1c871f1c": {
      "model_module": "@jupyter-widgets/controls",
      "model_module_version": "1.5.0",
      "model_name": "SliderStyleModel",
      "state": {
       "description_width": ""
      }
     },
     "6c96736df7934c08832e240138fab4f8": {
      "model_module": "@jupyter-widgets/controls",
      "model_module_version": "1.5.0",
      "model_name": "FloatSliderModel",
      "state": {
       "description": "Phase",
       "layout": "IPY_MODEL_7c2312715d3749f1a62f260d17206299",
       "max": 6.283185307179586,
       "step": 0.1,
       "style": "IPY_MODEL_cc115938483f4d5faddea474f147fff8"
      }
     },
     "6cdb43d6e18a4820b70948da01c0f42c": {
      "model_module": "@jupyter-widgets/base",
      "model_module_version": "1.2.0",
      "model_name": "LayoutModel",
      "state": {
       "width": "50%"
      }
     },
     "7c2312715d3749f1a62f260d17206299": {
      "model_module": "@jupyter-widgets/base",
      "model_module_version": "1.2.0",
      "model_name": "LayoutModel",
      "state": {}
     },
     "898fda55743340c68eb1ed53958a7a44": {
      "model_module": "@jupyter-widgets/output",
      "model_module_version": "1.0.0",
      "model_name": "OutputModel",
      "state": {
       "layout": "IPY_MODEL_f496a7907c7f45c7a41b397327e9867b"
      }
     },
     "8f42e114ceb8416590462a573056d504": {
      "model_module": "@jupyter-widgets/controls",
      "model_module_version": "1.5.0",
      "model_name": "DescriptionStyleModel",
      "state": {
       "description_width": ""
      }
     },
     "939b9d3f350c4d39a25d976fe3d0b7a9": {
      "model_module": "@jupyter-widgets/base",
      "model_module_version": "1.2.0",
      "model_name": "LayoutModel",
      "state": {
       "border": "solid 1px black",
       "margin": "0px 10px 10px 0px",
       "padding": "5px 5px 5px 5px"
      }
     },
     "953b03ff82ed4f2eb5189e40c635413f": {
      "model_module": "@jupyter-widgets/base",
      "model_module_version": "1.2.0",
      "model_name": "LayoutModel",
      "state": {
       "width": "50%"
      }
     },
     "a904b5cbc9d3445aa48398ead9167320": {
      "model_module": "@jupyter-widgets/controls",
      "model_module_version": "1.5.0",
      "model_name": "FloatLogSliderModel",
      "state": {
       "description": "Amplitude",
       "layout": "IPY_MODEL_fd1397ee092749c8842f8c7f618d471b",
       "max": 0,
       "min": -2,
       "step": 0.2,
       "style": "IPY_MODEL_62f4e66a9dce4c888c8ed43e1c871f1c"
      }
     },
     "b8d6431a03fc4ddc97cc9fc3a967cc4a": {
      "model_module": "@jupyter-widgets/base",
      "model_module_version": "1.2.0",
      "model_name": "LayoutModel",
      "state": {}
     },
     "be725dfe0bb54e328db15b04010b3334": {
      "model_module": "@jupyter-widgets/controls",
      "model_module_version": "1.5.0",
      "model_name": "SliderStyleModel",
      "state": {
       "description_width": ""
      }
     },
     "beba5405cb0e4fc4b80dbaffd4cae3bc": {
      "model_module": "@jupyter-widgets/base",
      "model_module_version": "1.2.0",
      "model_name": "LayoutModel",
      "state": {
       "border": "solid 1px black",
       "margin": "0px 10px 10px 0px",
       "padding": "5px 5px 5px 5px"
      }
     },
     "c7a447de3fa64dacb975a90822e27f1c": {
      "model_module": "@jupyter-widgets/controls",
      "model_module_version": "1.5.0",
      "model_name": "HBoxModel",
      "state": {
       "children": [
        "IPY_MODEL_f9665b7cc5014972a046ffc1fd50bbdf",
        "IPY_MODEL_f8c4567cfd3a4e24a45222907b8a24a9"
       ],
       "layout": "IPY_MODEL_35da4cb6967d48529363909051a34f79"
      }
     },
     "cc115938483f4d5faddea474f147fff8": {
      "model_module": "@jupyter-widgets/controls",
      "model_module_version": "1.5.0",
      "model_name": "SliderStyleModel",
      "state": {
       "description_width": ""
      }
     },
     "d9a2c09949e245f7bb02b8e618b80093": {
      "model_module": "@jupyter-widgets/controls",
      "model_module_version": "1.5.0",
      "model_name": "DescriptionStyleModel",
      "state": {
       "description_width": ""
      }
     },
     "dd548f21399f4b3293e624c1bc0a0ada": {
      "model_module": "@jupyter-widgets/controls",
      "model_module_version": "1.5.0",
      "model_name": "DescriptionStyleModel",
      "state": {
       "description_width": ""
      }
     },
     "e7ff96e09eaa4467a2cbf8aef4b5ea98": {
      "model_module": "@jupyter-widgets/base",
      "model_module_version": "1.2.0",
      "model_name": "LayoutModel",
      "state": {}
     },
     "eb90cc17e45842c3834902dcd4207413": {
      "model_module": "@jupyter-widgets/controls",
      "model_module_version": "1.5.0",
      "model_name": "DropdownModel",
      "state": {
       "_options_labels": [
        "spectrum",
        "spectrogram"
       ],
       "description": "Display",
       "index": 0,
       "layout": "IPY_MODEL_2d1e9ed3e9674c11a9eba6ae48a86baf",
       "style": "IPY_MODEL_8f42e114ceb8416590462a573056d504"
      }
     },
     "f430c395b7684c76909584f340582243": {
      "model_module": "@jupyter-widgets/controls",
      "model_module_version": "1.5.0",
      "model_name": "CheckboxModel",
      "state": {
       "description": "Autoplay Audio",
       "disabled": false,
       "indent": false,
       "layout": "IPY_MODEL_953b03ff82ed4f2eb5189e40c635413f",
       "style": "IPY_MODEL_d9a2c09949e245f7bb02b8e618b80093",
       "value": false
      }
     },
     "f496a7907c7f45c7a41b397327e9867b": {
      "model_module": "@jupyter-widgets/base",
      "model_module_version": "1.2.0",
      "model_name": "LayoutModel",
      "state": {}
     },
     "f8c4567cfd3a4e24a45222907b8a24a9": {
      "model_module": "@jupyter-widgets/controls",
      "model_module_version": "1.5.0",
      "model_name": "VBoxModel",
      "state": {
       "children": [
        "IPY_MODEL_620c56676f8d40398b66a32bcee9bc09",
        "IPY_MODEL_0c2b34e4a9da496faa48fa9e1a9e888e",
        "IPY_MODEL_26431b02472246e48504333f27a7a85f",
        "IPY_MODEL_898fda55743340c68eb1ed53958a7a44"
       ],
       "layout": "IPY_MODEL_939b9d3f350c4d39a25d976fe3d0b7a9"
      }
     },
     "f9665b7cc5014972a046ffc1fd50bbdf": {
      "model_module": "@jupyter-widgets/output",
      "model_module_version": "1.0.0",
      "model_name": "OutputModel",
      "state": {
       "layout": "IPY_MODEL_2e562abffc7c4b7c8423bb0d8f84803f",
       "outputs": [
        {
         "data": {
          "image/png": "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\n",
          "text/plain": "<Figure size 600x400 with 2 Axes>"
         },
         "metadata": {},
         "output_type": "display_data"
        }
       ]
      }
     },
     "fd1397ee092749c8842f8c7f618d471b": {
      "model_module": "@jupyter-widgets/base",
      "model_module_version": "1.2.0",
      "model_name": "LayoutModel",
      "state": {}
     }
    },
    "version_major": 2,
    "version_minor": 0
   }
  }
 },
 "nbformat": 4,
 "nbformat_minor": 4
}
