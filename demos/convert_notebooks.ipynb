{
 "cells": [
  {
   "cell_type": "code",
   "execution_count": 1,
   "id": "improving-coalition",
   "metadata": {},
   "outputs": [
    {
     "name": "stderr",
     "output_type": "stream",
     "text": [
      "[NbConvertApp] Converting notebook keyboard.ipynb to html\n",
      "[NbConvertApp] Writing 589523 bytes to keyboard.html\n"
     ]
    }
   ],
   "source": [
    "! jupyter nbconvert keyboard.ipynb --to html"
   ]
  },
  {
   "cell_type": "code",
   "execution_count": 2,
   "id": "satisfied-programmer",
   "metadata": {},
   "outputs": [
    {
     "name": "stderr",
     "output_type": "stream",
     "text": [
      "[NbConvertApp] Converting notebook HarmonicSignals.ipynb to html\n",
      "[NbConvertApp] Writing 1504990 bytes to HarmonicSignals.html\n"
     ]
    }
   ],
   "source": [
    "! jupyter nbconvert HarmonicSignals.ipynb --to html"
   ]
  },
  {
   "cell_type": "code",
   "execution_count": null,
   "id": "ethical-lambda",
   "metadata": {},
   "outputs": [],
   "source": []
  }
 ],
 "metadata": {
  "kernelspec": {
   "display_name": "Python 3 (ipykernel)",
   "language": "python",
   "name": "python3"
  },
  "language_info": {
   "codemirror_mode": {
    "name": "ipython",
    "version": 3
   },
   "file_extension": ".py",
   "mimetype": "text/x-python",
   "name": "python",
   "nbconvert_exporter": "python",
   "pygments_lexer": "ipython3",
   "version": "3.7.12"
  },
  "widgets": {
   "application/vnd.jupyter.widget-state+json": {
    "state": {},
    "version_major": 2,
    "version_minor": 0
   }
  }
 },
 "nbformat": 4,
 "nbformat_minor": 5
}
