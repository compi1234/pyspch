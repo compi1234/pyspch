{
 "cells": [
  {
   "cell_type": "code",
   "execution_count": 3,
   "metadata": {},
   "outputs": [
    {
     "name": "stderr",
     "output_type": "stream",
     "text": [
      "D:\\ProgramFiles\\miniconda3\\envs\\pyspch_edit\\lib\\site-packages\\pydub\\utils.py:170: RuntimeWarning: Couldn't find ffmpeg or avconv - defaulting to ffmpeg, but may not work\n",
      "  warn(\"Couldn't find ffmpeg or avconv - defaulting to ffmpeg, but may not work\", RuntimeWarning)\n"
     ]
    }
   ],
   "source": [
    "import os\n",
    "import torch\n",
    "import pyspch.sp as Sps\n",
    "import pyspch.display as Spd\n",
    "import pyspch.core as Spch\n",
    "import pyspch.nn as Spnn"
   ]
  },
  {
   "cell_type": "code",
   "execution_count": 4,
   "metadata": {},
   "outputs": [],
   "source": [
    "## Paths\n",
    "timit_path = 'W:/timit/CDdata/timit/' # to extract corpus, features, labels\n",
    "remote_path = 'https://homes.esat.kuleuven.be/~spchlab/pyspch/' # to read corpus, features, labels\n",
    "local_path = 'D:/gitlab/psi/compi1234/nn/' # to write corpus, features, labels\n",
    "os.chdir(local_path)"
   ]
  },
  {
   "cell_type": "code",
   "execution_count": 5,
   "metadata": {},
   "outputs": [],
   "source": [
    "## Setup\n",
    "train_corpus_file = remote_path + 'timit/timit_train.corpus'\n",
    "val_corpus_file =  None\n",
    "test_corpus_file =  remote_path + 'timit/timit_test.corpus'\n",
    "meta_file =  remote_path + 'timit/timit.meta'\n",
    "feature_path =  remote_path + 'timit/mfcc13/'\n",
    "feature_args =  {\n",
    "    'spg': None,\n",
    "    'Deltas': 'delta_delta2',\n",
    "    'Norm': 'mean',\n",
    "    'sample_rate': 16000,\n",
    "    'f_shift': 0.01,\n",
    "    'f_length': 0.03,\n",
    "    'preemp': 0.97,\n",
    "    'window': 'hamm',\n",
    "    'mode': 'dB',\n",
    "    'n_mels': 24,\n",
    "    'n_cep': 13\n",
    "    }\n",
    "label_path =  remote_path + 'timit/segmentation/'\n",
    "label_args = {\n",
    "    'extension': '.phn', \n",
    "    'pad': 'h#',\n",
    "    }\n",
    "sampler_args = {\n",
    "    'N': 5,\n",
    "    'stride': 2,\n",
    "    'mode': 'flatten1d',\n",
    "    }\n",
    "lab2lab = Spch.get_timit_mapping(set1=\"timit61\", set2=\"timit41\")\n",
    "lab2idx = {k: i for i, k in enumerate(Spch.TIMIT41)}\n",
    "model_args = {\n",
    "    'type': 'ffdnn',\n",
    "    'in_dim': 13 * 3 * 11,\n",
    "    'out_dim': 41,\n",
    "    'hidden_layer_dims': [1024, 768, 512] \n",
    "    }\n",
    "training_args = {\n",
    "    'n_epoch': 50,\n",
    "    'patience': 15,\n",
    "    'lrn_rate': 0.01,\n",
    "    'weight_decay': 0,\n",
    "    'batch_size': 128,\n",
    "    'shuffle': True,\n",
    "    'num_workers': 0,\n",
    "    'val_frac': 0.1,\n",
    "    'val_seed': 1234,\n",
    "}"
   ]
  },
  {
   "cell_type": "markdown",
   "metadata": {},
   "source": [
    "## TIMIT corpus"
   ]
  },
  {
   "cell_type": "code",
   "execution_count": 6,
   "metadata": {},
   "outputs": [],
   "source": [
    "## Read corpus and meta data (from url)\n",
    "train_corpus = Spch.read_data_file(train_corpus_file)\n",
    "test_corpus = Spch.read_data_file(test_corpus_file)\n",
    "meta = Spch.read_dataframe(meta_file)"
   ]
  },
  {
   "cell_type": "code",
   "execution_count": 5,
   "metadata": {},
   "outputs": [],
   "source": [
    "## SpchData\n",
    "train_data = Spnn.SpchData(train_corpus)\n",
    "test_data = Spnn.SpchData(test_corpus)\n",
    "\n",
    "## Read features from disk (from url) ~ 25 min\n",
    "data_path = remote_path + 'timit/mfcc13/'\n",
    "train_data.read_features(data_path)\n",
    "test_data.read_features(data_path)\n",
    "\n",
    "## Feature extraction arguments for read features\n",
    "feature_args_file = data_path + 'feature_args.json'\n",
    "read_feature_args = Spch.read_json_file(feature_args_file)"
   ]
  },
  {
   "cell_type": "code",
   "execution_count": null,
   "metadata": {},
   "outputs": [],
   "source": [
    "## SpchData alternative #1\n",
    "if False:\n",
    "    train_data_alt = Spnn.SpchData(train_corpus)\n",
    "    test_data_alt = Spnn.SpchData(test_corpus)\n",
    "\n",
    "    ## Read wav's from disk (from remote disk) and process on the fly ~ 10 min\n",
    "    data_path = 'W:/timit/CDdata/timit/'\n",
    "    train_data_alt.extract_features(data_path, feature_args, extension='.wav')\n",
    "    test_data_alt.extract_features(data_path, feature_args, extension='.wav')\n",
    "\n",
    "    ## Feature extraction arguments for read features\n",
    "    feature_args_file = data_path + 'feature_args.json'\n",
    "    read_feature_args = Spch.read_json_file(feature_args_file)"
   ]
  },
  {
   "cell_type": "code",
   "execution_count": 7,
   "metadata": {},
   "outputs": [],
   "source": [
    "## Additional feature extraction arguments (for further processing ~ modification)\n",
    "modify_feature_args = Spch.dct_diff(read_feature_args, feature_args)\n",
    "\n",
    "## Modify features\n",
    "train_data.features = [Sps.feature_extraction(spg=feature, **modify_feature_args) for feature in train_data.features]\n",
    "test_data.features = [Sps.feature_extraction(spg=feature, **modify_feature_args) for feature in test_data.features]"
   ]
  },
  {
   "cell_type": "code",
   "execution_count": 9,
   "metadata": {},
   "outputs": [],
   "source": [
    "## Labels ~ 25 min\n",
    "shift = feature_args['f_shift'] * feature_args['sample_rate']\n",
    "train_data.extract_alligned_labels(label_path, shift, label_args['pad'], label_args['extension'])\n",
    "test_data.extract_alligned_labels(label_path, shift, label_args['pad'], label_args['extension'])"
   ]
  },
  {
   "cell_type": "code",
   "execution_count": null,
   "metadata": {},
   "outputs": [],
   "source": [
    "## SpchData alternative #2\n",
    "if False:\n",
    "    import pandas as pd\n",
    "    train_df = pf.read_pickle('D:/gitlab/psi/compi1234/nn/data/train.pkl')\n",
    "    test_df = pf.read_pickle('D:/gitlab/psi/compi1234/nn/data/train.pkl')\n",
    "    \n",
    "    train_data = Spnn.SpchData(train_corpus)\n",
    "    test_data = Spnn.SpchData(test_corpus)\n",
    "    train_data.corpus = train_df['corpus'].to_list()\n",
    "    test_data.corpus = test_df['corpus'].to_list()\n",
    "    train_data.features = train_df['features'].to_list()\n",
    "    test_data.features = test_df['features'].to_list()\n",
    "    train_data.features = train_df['features'].to_list()\n",
    "    test_data.features = test_df['features'].to_list()\n",
    "    \n",
    "    "
   ]
  },
  {
   "cell_type": "code",
   "execution_count": 24,
   "metadata": {},
   "outputs": [],
   "source": [
    "## SpchDataset \n",
    "train_ds = Spnn.SpchDataset(train_data.corpus, train_data.features, train_data.labels)\n",
    "test_ds = Spnn.SpchDataset(test_data.corpus, test_data.features, test_data.labels)\n",
    "\n",
    "## Target \n",
    "train_ds.map_target(lab2lab)\n",
    "train_ds.encode_target(lab2idx)\n",
    "train_ds.to_tensor()\n",
    "test_ds.map_target(lab2lab)\n",
    "test_ds.encode_target(lab2idx)\n",
    "test_ds.to_tensor()\n",
    "\n",
    "## Sampler with splicing\n",
    "train_ds.set_sampler(train_data.get_length('features'), sampler_args)\n",
    "test_ds.set_sampler(test_data.get_length('features'), sampler_args)"
   ]
  },
  {
   "cell_type": "code",
   "execution_count": 25,
   "metadata": {},
   "outputs": [],
   "source": [
    "## FFDNN model \n",
    "model = Spnn.FFDNN(model_args['in_dim'], model_args['out_dim'], model_args['hidden_layer_dims'])\n",
    "\n",
    "## Device\n",
    "device = torch.device(\"cuda:0\" if torch.cuda.is_available() else \"cpu\") \n",
    "model.to(device)\n",
    "train_ds.to_device(device)\n",
    "test_ds.to_device(device)\n",
    "\n",
    "## Criterion + Optimizer + learning rate-scheduler\n",
    "criterion = torch.nn.CrossEntropyLoss() \n",
    "optimizer = torch.optim.Adam(model.parameters(), \n",
    "                             lr=training_args['lrn_rate'], \n",
    "                             weight_decay=training_args['weight_decay'])\n",
    "scheduler = torch.optim.lr_scheduler.ReduceLROnPlateau(optimizer, \n",
    "    mode='min', factor=0.1, patience=10, threshold=0.0001, \n",
    "    threshold_mode='rel', cooldown=0, min_lr=0, eps=1e-08, verbose=False)"
   ]
  },
  {
   "cell_type": "code",
   "execution_count": 26,
   "metadata": {},
   "outputs": [],
   "source": [
    "## Validation set (split fraction from train set)\n",
    "valid_ds, train_ds = train_ds.split(training_args['val_frac'], training_args['val_seed'])\n",
    "\n",
    "## Dataloader (validation set)\n",
    "if valid_ds is not None:\n",
    "    valid_dl = torch.utils.data.DataLoader(valid_ds, \n",
    "        batch_size=training_args['batch_size'],\n",
    "        shuffle=training_args['shuffle'], \n",
    "        num_workers=training_args['num_workers'])\n",
    "else:\n",
    "    valid_dl = None\n",
    "    \n",
    "## Dataloader (train set)\n",
    "train_dl = torch.utils.data.DataLoader(train_ds, \n",
    "    batch_size=training_args['batch_size'],\n",
    "    shuffle=training_args['shuffle'], \n",
    "    num_workers=training_args['num_workers'])"
   ]
  },
  {
   "cell_type": "code",
   "execution_count": 27,
   "metadata": {},
   "outputs": [
    {
     "name": "stdout",
     "output_type": "stream",
     "text": [
      "Epoch 0 -- av. train loss per mini-batch 1.87\n"
     ]
    },
    {
     "ename": "AttributeError",
     "evalue": "'FFDNN' object has no attribute 'evaluate'",
     "output_type": "error",
     "traceback": [
      "\u001b[1;31m---------------------------------------------------------------------------\u001b[0m",
      "\u001b[1;31mAttributeError\u001b[0m                            Traceback (most recent call last)",
      "\u001b[1;32m~\\AppData\\Local\\Temp\\ipykernel_7068\\829983790.py\u001b[0m in \u001b[0;36m<module>\u001b[1;34m\u001b[0m\n\u001b[0;32m      6\u001b[0m     \u001b[0mcurrent_epoch\u001b[0m\u001b[1;33m=\u001b[0m\u001b[0mcurrent_epoch\u001b[0m\u001b[1;33m,\u001b[0m \u001b[0mn_epochs\u001b[0m\u001b[1;33m=\u001b[0m\u001b[0mtraining_args\u001b[0m\u001b[1;33m[\u001b[0m\u001b[1;34m'n_epoch'\u001b[0m\u001b[1;33m]\u001b[0m\u001b[1;33m,\u001b[0m\u001b[1;33m\u001b[0m\u001b[1;33m\u001b[0m\u001b[0m\n\u001b[0;32m      7\u001b[0m     \u001b[0mvalid_dl\u001b[0m\u001b[1;33m=\u001b[0m\u001b[0mvalid_dl\u001b[0m\u001b[1;33m,\u001b[0m \u001b[0mpatience\u001b[0m\u001b[1;33m=\u001b[0m\u001b[0mtraining_args\u001b[0m\u001b[1;33m[\u001b[0m\u001b[1;34m'patience'\u001b[0m\u001b[1;33m]\u001b[0m\u001b[1;33m,\u001b[0m\u001b[1;33m\u001b[0m\u001b[1;33m\u001b[0m\u001b[0m\n\u001b[1;32m----> 8\u001b[1;33m     every=every)\n\u001b[0m",
      "\u001b[1;32md:\\gitlab\\psi\\compi1234\\pyspch_test\\pyspch\\nn\\models.py\u001b[0m in \u001b[0;36mtrain\u001b[1;34m(model, train_dl, criterion, optimizer, clip, scheduler, current_epoch, n_epochs, valid_dl, patience, every)\u001b[0m\n\u001b[0;32m    224\u001b[0m         \u001b[1;31m# early stoppping\u001b[0m\u001b[1;33m\u001b[0m\u001b[1;33m\u001b[0m\u001b[1;33m\u001b[0m\u001b[0m\n\u001b[0;32m    225\u001b[0m         \u001b[1;32mif\u001b[0m \u001b[0mvalid_dl\u001b[0m \u001b[1;32mis\u001b[0m \u001b[1;32mnot\u001b[0m \u001b[1;32mNone\u001b[0m\u001b[1;33m:\u001b[0m\u001b[1;33m\u001b[0m\u001b[1;33m\u001b[0m\u001b[0m\n\u001b[1;32m--> 226\u001b[1;33m             \u001b[0mvalid_loss\u001b[0m \u001b[1;33m=\u001b[0m \u001b[0mmodel\u001b[0m\u001b[1;33m.\u001b[0m\u001b[0mevaluate\u001b[0m\u001b[1;33m(\u001b[0m\u001b[0mvalid_dl\u001b[0m\u001b[1;33m,\u001b[0m \u001b[0mcriterion\u001b[0m\u001b[1;33m)\u001b[0m\u001b[1;33m\u001b[0m\u001b[1;33m\u001b[0m\u001b[0m\n\u001b[0m\u001b[0;32m    227\u001b[0m             \u001b[0mvalid_losses\u001b[0m\u001b[1;33m.\u001b[0m\u001b[0mappend\u001b[0m\u001b[1;33m(\u001b[0m\u001b[0mvalid_loss\u001b[0m\u001b[1;33m)\u001b[0m\u001b[1;33m\u001b[0m\u001b[1;33m\u001b[0m\u001b[0m\n\u001b[0;32m    228\u001b[0m             \u001b[1;32mif\u001b[0m \u001b[0mepoch\u001b[0m \u001b[1;33m%\u001b[0m \u001b[0mevery\u001b[0m \u001b[1;33m==\u001b[0m \u001b[1;36m0\u001b[0m\u001b[1;33m:\u001b[0m\u001b[1;33m\u001b[0m\u001b[1;33m\u001b[0m\u001b[0m\n",
      "\u001b[1;32mD:\\ProgramFiles\\miniconda3\\envs\\pyspch_edit\\lib\\site-packages\\torch\\nn\\modules\\module.py\u001b[0m in \u001b[0;36m__getattr__\u001b[1;34m(self, name)\u001b[0m\n\u001b[0;32m   1184\u001b[0m                 \u001b[1;32mreturn\u001b[0m \u001b[0mmodules\u001b[0m\u001b[1;33m[\u001b[0m\u001b[0mname\u001b[0m\u001b[1;33m]\u001b[0m\u001b[1;33m\u001b[0m\u001b[1;33m\u001b[0m\u001b[0m\n\u001b[0;32m   1185\u001b[0m         raise AttributeError(\"'{}' object has no attribute '{}'\".format(\n\u001b[1;32m-> 1186\u001b[1;33m             type(self).__name__, name))\n\u001b[0m\u001b[0;32m   1187\u001b[0m \u001b[1;33m\u001b[0m\u001b[0m\n\u001b[0;32m   1188\u001b[0m     \u001b[1;32mdef\u001b[0m \u001b[0m__setattr__\u001b[0m\u001b[1;33m(\u001b[0m\u001b[0mself\u001b[0m\u001b[1;33m,\u001b[0m \u001b[0mname\u001b[0m\u001b[1;33m:\u001b[0m \u001b[0mstr\u001b[0m\u001b[1;33m,\u001b[0m \u001b[0mvalue\u001b[0m\u001b[1;33m:\u001b[0m \u001b[0mUnion\u001b[0m\u001b[1;33m[\u001b[0m\u001b[0mTensor\u001b[0m\u001b[1;33m,\u001b[0m \u001b[1;34m'Module'\u001b[0m\u001b[1;33m]\u001b[0m\u001b[1;33m)\u001b[0m \u001b[1;33m->\u001b[0m \u001b[1;32mNone\u001b[0m\u001b[1;33m:\u001b[0m\u001b[1;33m\u001b[0m\u001b[1;33m\u001b[0m\u001b[0m\n",
      "\u001b[1;31mAttributeError\u001b[0m: 'FFDNN' object has no attribute 'evaluate'"
     ]
    }
   ],
   "source": [
    "## Train model ~ 5min per epoch\n",
    "every = 1\n",
    "current_epoch = 0\n",
    "tr_loss, val_loss, epoch = Spnn.train(model, train_dl, criterion, optimizer, \n",
    "    clip=None, scheduler=scheduler,\n",
    "    current_epoch=current_epoch, n_epochs=training_args['n_epoch'],\n",
    "    valid_dl=valid_dl, patience=training_args['patience'], \n",
    "    every=every)"
   ]
  },
  {
   "cell_type": "code",
   "execution_count": 10,
   "metadata": {},
   "outputs": [
    {
     "data": {
      "image/png": "[encoded data removed]",
      "text/plain": [
       "<Figure size 432x432 with 1 Axes>"
      ]
     },
     "metadata": {
      "needs_background": "light"
     },
     "output_type": "display_data"
    },
    {
     "name": "stdout",
     "output_type": "stream",
     "text": [
      "PER: 0.0\n"
     ]
    }
   ],
   "source": [
    "## Evaluate loss and confusion matrix \n",
    "test_dl = torch.utils.data.DataLoader(test_ds, batch_size=64, shuffle=False, num_workers=0)\n",
    "loss = Spnn.evaluate(model, test_dl, criterion)\n",
    "cm = Spnn.evaluate_cm(model, test_dl)\n",
    "\n",
    "# plot confusion matrix\n",
    "labels = list(lab2idx.keys())\n",
    "(f, ax) = Spch.plot_confusion_matrix(cm, labels, title='Confusion Matrix\\n', figsize=(6,6), annot=False)\n",
    "\n",
    "# Phone error rate\n",
    "per = Spnn.cm2per(cm)\n",
    "print(f'PER: {per[0]}')"
   ]
  },
  {
   "cell_type": "code",
   "execution_count": 12,
   "metadata": {},
   "outputs": [],
   "source": [
    "## Write model checkpoint\n",
    "model_file = local_path + \"models/ffdnn_small_dummy.pt\"\n",
    "torch.save({\n",
    "    'train_corpus_file': train_corpus_file,\n",
    "    'val_corpus_file': val_corpus_file,\n",
    "    'test_corpus_file': test_corpus_file,\n",
    "    'meta_file': meta_file,\n",
    "    'feature_path': feature_path,\n",
    "    'feature_args': feature_args,\n",
    "    'modify_feature_args': modify_feature_args,\n",
    "    'label_path': label_path,\n",
    "    'label_args': label_args, \n",
    "    'sampler_args': sampler_args,\n",
    "    'model_args': model_args,\n",
    "    'training_args': training_args,\n",
    "    'criterion': criterion,\n",
    "    'optimizer': optimizer,\n",
    "    'clip': None,\n",
    "    'scheduler': scheduler,\n",
    "    'epoch': epoch,\n",
    "    'model_state_dict': model.state_dict(),\n",
    "    'optimizer_state_dict': optimizer.state_dict(),\n",
    "    'lab2lab': lab2lab,\n",
    "    'lab2idx': lab2idx,   \n",
    "}, model_file)"
   ]
  },
  {
   "cell_type": "code",
   "execution_count": 13,
   "metadata": {},
   "outputs": [],
   "source": [
    "## Read model checkpoint\n",
    "model_file = local_path + \"models/ffdnn_small_dummy.pt\"\n",
    "device = torch.device(\"cuda:0\" if torch.cuda.is_available() else \"cpu\") \n",
    "chpt = torch.load(model_file, map_location=device)"
   ]
  },
  {
   "cell_type": "code",
   "execution_count": 14,
   "metadata": {},
   "outputs": [],
   "source": [
    "## Read corpus and meta data (from checkpoint)\n",
    "meta = Spch.read_dataframe(chpt['meta'])\n",
    "\n",
    "## SpchData\n",
    "train = Spch.read_data_file(chpt['train_corpus'])\n",
    "train_data = Spnn.SpchData(train)\n",
    "train_data.read_features(chpt['feature_path'])\n",
    "feature_args = chpt['feature_args']\n",
    "modify_feature_args = chpt['modify_feature_args']\n",
    "train_data.features = [Sps.feature_extraction(spg=feature, **modify_feature_args) for feature in train_data.features]\n",
    "feature_args.update(modify_feature_args)\n",
    "shift = feature_args['f_shift'] * feature_args['sample_rate']\n",
    "train_data.extract_alligned_labels(chpt['label_path'], shift, chpt['label_pad'], chpt['label_extension'])\n",
    "\n",
    "## SpchDataset\n",
    "train_ds = Spnn.SpchDataset(train_data.corpus, train_data.features, train_data.labels)\n",
    "train_ds.map_target(chpt['lab2lab'])\n",
    "train_ds.encode_target(chpt['lab2idx'])\n",
    "train_ds.to_tensor()\n",
    "lengths = train_data.get_length('features')\n",
    "train_ds.set_sampler(lengths, chpt['sampler_args'])\n",
    "train_ds.to_device(device)\n",
    "\n",
    "## Model\n",
    "model_args = chpt['model_args']\n",
    "model = Spnn.FFDNN(model_args['in_dim'], model_args['out_dim'], model_args['hidden_layer_dims'])\n",
    "model.to(device)\n",
    "\n",
    "## Training\n",
    "current_epoch = chpt['epoch']\n",
    "training_args = chpt['training_args']\n",
    "criterion = chpt['criterion']\n",
    "optimizer = chpt['optimizer']\n",
    "clip = chpt['clip']\n",
    "scheduler = chpt['scheduler']\n",
    "\n",
    "## Loading model parameters\n",
    "model.load_state_dict(chpt[\"model_state_dict\"])\n",
    "optimizer.load_state_dict(chpt[\"optimizer_state_dict\"])\n",
    "\n",
    "## Validation set\n",
    "if training_args['val_frac'] is not None:\n",
    "    n_ex = len(data_ds)\n",
    "    n_valid = int(n_ex * training_args['val_frac'])\n",
    "    n_train = n_ex - n_valid\n",
    "    if training_args['val_seed'] is not None: torch.manual_seed(training_args['val_seed'])\n",
    "    valid_ds, train_ds = torch.utils.data.random_split(data_ds, [n_valid, n_train])\n",
    "else:\n",
    "    train_ds = data_ds\n",
    "    \n",
    "## Dataloader \n",
    "train_dl = torch.utils.data.DataLoader(train_ds, \n",
    "    batch_size=training_args['batch_size'],\n",
    "    shuffle=training_args['shuffle'], \n",
    "    num_workers=training_args['num_workers'])\n",
    "\n",
    "if training_args['val_frac'] is not None:\n",
    "    valid_dl = torch.utils.data.DataLoader(valid_ds, \n",
    "        batch_size=training_args['batch_size'],\n",
    "        shuffle=training_args['shuffle'], \n",
    "        num_workers=training_args['num_workers'])\n",
    "else:\n",
    "    valid_dl = None"
   ]
  },
  {
   "cell_type": "code",
   "execution_count": 15,
   "metadata": {},
   "outputs": [
    {
     "data": {
      "image/png": "[encoded data removed]",
      "text/plain": [
       "<Figure size 432x432 with 1 Axes>"
      ]
     },
     "metadata": {
      "needs_background": "light"
     },
     "output_type": "display_data"
    },
    {
     "name": "stdout",
     "output_type": "stream",
     "text": [
      "PER: 0.0\n"
     ]
    }
   ],
   "source": [
    "## Evaluate loss and confusion matrix (on train set)\n",
    "test_dl = torch.utils.data.DataLoader(train_ds, batch_size=64, shuffle=False, num_workers=0)\n",
    "loss = Spnn.evaluate(model, test_dl, criterion)\n",
    "cm = Spnn.evaluate_cm(model, test_dl)\n",
    "\n",
    "# plot confusion matrix\n",
    "labels = list(lab2idx.keys())\n",
    "(f, ax) = Spch.plot_confusion_matrix(cm, labels, title='Confusion Matrix\\n', figsize=(6,6), annot=False)\n",
    "\n",
    "# Phone error rate\n",
    "per = Spnn.cm2per(cm)\n",
    "print(f'PER: {per[0]}')"
   ]
  },
  {
   "cell_type": "code",
   "execution_count": 16,
   "metadata": {},
   "outputs": [
    {
     "name": "stdout",
     "output_type": "stream",
     "text": [
      "Current epoch is 49\n",
      "Epoch 50 -- av. train loss per mini-batch 0.03\n",
      "Epoch 55 -- av. train loss per mini-batch 0.03\n",
      "Epoch 60 -- av. train loss per mini-batch 0.03\n",
      "Epoch 65 -- av. train loss per mini-batch 0.03\n",
      "Epoch 70 -- av. train loss per mini-batch 0.03\n",
      "Epoch 75 -- av. train loss per mini-batch 0.03\n",
      "Epoch 80 -- av. train loss per mini-batch 0.03\n",
      "Epoch 85 -- av. train loss per mini-batch 0.03\n",
      "Epoch 90 -- av. train loss per mini-batch 0.03\n",
      "Epoch 95 -- av. train loss per mini-batch 0.03\n"
     ]
    }
   ],
   "source": [
    "## Train model (continued)\n",
    "print(f'Current epoch is {current_epoch}')\n",
    "tr_loss, val_loss, epoch = Spnn.train(model, train_dl, criterion, optimizer, \n",
    "    clip=clip, scheduler=scheduler,\n",
    "    current_epoch=current_epoch, n_epochs=training_args['n_epoch'],\n",
    "    valid_dl=valid_dl, patience=training_args['patience'], \n",
    "    every=every)"
   ]
  }
 ],
 "metadata": {
  "interpreter": {
   "hash": "07bbb230afa188f6fcf784790a512a027d4aaebd8b449a47936f42b92e92fbab"
  },
  "kernelspec": {
   "display_name": "Python 3.7.12 ('pyspch')",
   "language": "python",
   "name": "python3"
  },
  "language_info": {
   "codemirror_mode": {
    "name": "ipython",
    "version": 3
   },
   "file_extension": ".py",
   "mimetype": "text/x-python",
   "name": "python",
   "nbconvert_exporter": "python",
   "pygments_lexer": "ipython3",
   "version": "3.7.12"
  },
  "orig_nbformat": 4
 },
 "nbformat": 4,
 "nbformat_minor": 2
}
