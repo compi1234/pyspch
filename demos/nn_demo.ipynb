{
 "cells": [
  {
   "cell_type": "code",
   "execution_count": 2,
   "metadata": {},
   "outputs": [
    {
     "name": "stderr",
     "output_type": "stream",
     "text": [
      "D:\\ProgramFiles\\miniconda3\\envs\\pyspch_edit\\lib\\site-packages\\pydub\\utils.py:170: RuntimeWarning: Couldn't find ffmpeg or avconv - defaulting to ffmpeg, but may not work\n",
      "  warn(\"Couldn't find ffmpeg or avconv - defaulting to ffmpeg, but may not work\", RuntimeWarning)\n"
     ]
    }
   ],
   "source": [
    "import pyspch.sp as Sps\n",
    "import pyspch.display as Spd\n",
    "import pyspch.core as Spch\n",
    "import pyspch.nn as Spnn"
   ]
  },
  {
   "cell_type": "markdown",
   "metadata": {},
   "source": [
    "## Dummy setup"
   ]
  },
  {
   "cell_type": "code",
   "execution_count": 1,
   "metadata": {},
   "outputs": [],
   "source": [
    "import random\n",
    "import torch\n",
    "import numpy as np"
   ]
  },
  {
   "cell_type": "code",
   "execution_count": 33,
   "metadata": {},
   "outputs": [],
   "source": [
    "## Dataset\n",
    "\n",
    "# params\n",
    "n = 10\n",
    "label_set = ['a', 'b', 'c']\n",
    "indim, timedim = 50, 1000\n",
    "outdim = len(label_set)\n",
    "\n",
    "# inputs & labels\n",
    "corpus_list = [str(i) for i in range(n)]\n",
    "input_list = [np.random.randn(indim, timedim) for _ in range(n)]\n",
    "label_list = [[random.choice(label_set) for _ in range(timedim)] for _ in range(n)]\n",
    "\n",
    "# # create relation input/label (mean shift)\n",
    "# lab2mean = {'a': 20, 'b': -20, 'c': 0} \n",
    "# input_list_update = []\n",
    "# for ins_, labs_ in zip(input_list, label_list):\n",
    "#     input_list_update.append(np.array([input + lab2mean[lab] for input, lab in zip(ins_, labs_)]))\n",
    "# input_list = input_list_update\n",
    "\n",
    "# dataset\n",
    "spchds = Spnn.SpchDataset(corpus_list, input_list, label_list)\n",
    "\n",
    "# sampler\n",
    "lengths = [item.shape[-1] for item in input_list]\n",
    "spchds.set_sampler(lengths, {'N': 5, 'stride': 1})\n",
    "\n",
    "# target encoding \n",
    "lab2idx = {k: i for i, k in enumerate(label_set)}\n",
    "spchds.encode_target(lab2idx)\n",
    "\n",
    "# format\n",
    "spchds.to_tensor()\n",
    "\n",
    "# to device\n",
    "device = torch.device(\"cuda:0\" if torch.cuda.is_available() else \"cpu\") \n",
    "spchds.to_device(device)"
   ]
  },
  {
   "cell_type": "code",
   "execution_count": 34,
   "metadata": {},
   "outputs": [
    {
     "name": "stdout",
     "output_type": "stream",
     "text": [
      "torch.Size([450])\n",
      "torch.Size([])\n",
      "torch.float32\n",
      "torch.int64\n"
     ]
    }
   ],
   "source": [
    "# example\n",
    "x, y = spchds.__getitem__(5)\n",
    "print(x.shape)\n",
    "print(y.shape)\n",
    "print(x.dtype)\n",
    "print(y.dtype)"
   ]
  },
  {
   "cell_type": "code",
   "execution_count": 35,
   "metadata": {},
   "outputs": [],
   "source": [
    "## Model + training setup\n",
    "\n",
    "# model\n",
    "in_dim = x.shape[0]\n",
    "out_dim = outdim\n",
    "hidden_dims = [10, 10]\n",
    "model = Spnn.FFDNN(in_dim, out_dim, hidden_dims)\n",
    "model.to(device)\n",
    "\n",
    "# criterion & optimizer\n",
    "lr = 0.0001\n",
    "weight_decay = 0\n",
    "criterion = torch.nn.CrossEntropyLoss() # applies softmax()\n",
    "optimizer = torch.optim.Adam(model.parameters(), lr=lr, weight_decay=weight_decay)\n",
    "\n",
    "# dataloader\n",
    "batch_size = 64\n",
    "shuffle = True\n",
    "train_dl = torch.utils.data.DataLoader(spchds, batch_size=batch_size, shuffle=shuffle)"
   ]
  },
  {
   "cell_type": "code",
   "execution_count": 36,
   "metadata": {},
   "outputs": [
    {
     "name": "stdout",
     "output_type": "stream",
     "text": [
      "Epoch 0 -- av. train loss per mini-batch 1.11\n",
      "Epoch 5 -- av. train loss per mini-batch 1.10\n",
      "Epoch 10 -- av. train loss per mini-batch 1.10\n",
      "Epoch 15 -- av. train loss per mini-batch 1.10\n",
      "Epoch 20 -- av. train loss per mini-batch 1.10\n",
      "Epoch 25 -- av. train loss per mini-batch 1.10\n",
      "Epoch 30 -- av. train loss per mini-batch 1.10\n",
      "Epoch 35 -- av. train loss per mini-batch 1.10\n",
      "Epoch 40 -- av. train loss per mini-batch 1.10\n",
      "Epoch 45 -- av. train loss per mini-batch 1.10\n"
     ]
    }
   ],
   "source": [
    "## Training\n",
    "\n",
    "# train model\n",
    "n_epochs = 50\n",
    "valid_dl = None\n",
    "patience = 5\n",
    "every = 5 \n",
    "current_epoch = 0\n",
    "tr_loss, val_loss, epoch = Spnn.train(model, train_dl, criterion, optimizer, clip=None, \n",
    "    current_epoch=current_epoch, n_epochs=n_epochs,\n",
    "    valid_dl=valid_dl, patience=patience, every=every)"
   ]
  }
 ],
 "metadata": {
  "interpreter": {
   "hash": "b489421a811f1a4b6a0e5b207439d4f3161b795084ca1121df5f0f12d80926d7"
  },
  "kernelspec": {
   "display_name": "Python 3.7.12 ('pyspch_edit')",
   "language": "python",
   "name": "python3"
  },
  "language_info": {
   "codemirror_mode": {
    "name": "ipython",
    "version": 3
   },
   "file_extension": ".py",
   "mimetype": "text/x-python",
   "name": "python",
   "nbconvert_exporter": "python",
   "pygments_lexer": "ipython3",
   "version": "3.7.12"
  },
  "orig_nbformat": 4
 },
 "nbformat": 4,
 "nbformat_minor": 2
}
