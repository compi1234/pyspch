{
 "cells": [
  {
   "cell_type": "code",
   "execution_count": 1,
   "metadata": {},
   "outputs": [],
   "source": [
    "import os\n",
    "import pyspch.sp as Sps\n",
    "import pyspch.display as Spd\n",
    "import pyspch.core as Spch\n",
    "import pyspch.nn as Spnn"
   ]
  },
  {
   "cell_type": "code",
   "execution_count": 2,
   "metadata": {},
   "outputs": [],
   "source": [
    "## Paths\n",
    "timit_path = 'W:/timit/CDdata/timit/' # to extract corpus, features, labels\n",
    "remote_path = 'https://homes.esat.kuleuven.be/~spchlab/pyspch/' # to read corpus, features, labels\n",
    "local_path = 'D:/gitlab/psi/compi1234/nn/' # to write corpus, features, labels\n",
    "os.chdir(local_path)"
   ]
  },
  {
   "cell_type": "markdown",
   "metadata": {},
   "source": [
    "## Prepare TIMIT data "
   ]
  },
  {
   "cell_type": "code",
   "execution_count": 3,
   "metadata": {},
   "outputs": [],
   "source": [
    "# get corpus      \n",
    "timit_fnames = corpus.get_corpus_timit(timit_path) \n",
    "\n",
    "# corpus subsets \n",
    "timit_train = corpus.filter_list_timit(timit_fnames, split='train')\n",
    "timit_test = corpus.filter_list_timit(timit_fnames, split='test')\n",
    "timit_train_dr1 = corpus.filter_list_timit(timit_fnames, split='train', region='dr1')\n",
    "timit_test_dr1 = corpus.filter_list_timit(timit_fnames, split='test', region='dr1')\n",
    "\n",
    "# write to disk (no meta data)\n",
    "os.makedirs('data/', exist_ok=True)\n",
    "utils.write_txt(timit_train, 'data/timit_train.corpus')\n",
    "utils.write_txt(timit_test, 'data/timit_test.corpus')\n",
    "utils.write_txt(timit_train_dr1, 'data/timit_train_dr1.corpus')\n",
    "utils.write_txt(timit_test_dr1, 'data/timit_test_dr1.corpus')\n",
    "\n",
    "# meta data + write to disk\n",
    "timit_meta = corpus.get_timit_metadata(timit_fnames)\n",
    "timit_meta.to_csv(\"data/timit.meta\", sep='\\t', index=False, header=False)"
   ]
  },
  {
   "cell_type": "markdown",
   "metadata": {},
   "source": [
    "## Extract TIMIT features (for exercise sessions)"
   ]
  },
  {
   "cell_type": "code",
   "execution_count": 5,
   "metadata": {},
   "outputs": [
    {
     "name": "stdout",
     "output_type": "stream",
     "text": [
      "Corpus contains 6300 files\n"
     ]
    }
   ],
   "source": [
    "# SpchData with full corpus (timit_fnames)\n",
    "spchdata = corpus.SpchData(timit_fnames)\n",
    "print(f'Corpus contains {len(timit_fnames)} files')\n",
    "\n",
    "# Reader and Writer (for formatting)\n",
    "mode = 'numpy'\n",
    "extension = '.npy'\n",
    "writer = corpus.ArrayWriter(mode, extension)\n",
    "reader = corpus.ArrayReader(mode, extension)\n",
    "\n",
    "# paths\n",
    "feature_path = 'W:/timit/CDdata/timit/'\n",
    "feature_extension = \".wav\""
   ]
  },
  {
   "cell_type": "markdown",
   "metadata": {},
   "source": [
    "### Mel filterbanks (mel80)"
   ]
  },
  {
   "cell_type": "code",
   "execution_count": null,
   "metadata": {},
   "outputs": [],
   "source": [
    "# A. Mel filterbanks (mel80)\n",
    "\n",
    "# arguments\n",
    "write_feature_path = 'data/mel80'\n",
    "feature_args = {\n",
    "    'spg': None, 'Deltas': None, 'Norm': None,\n",
    "    'sample_rate': 16000, 'f_shift': 0.01, 'f_length': 0.03,\n",
    "    'preemp': 0.97, 'window': 'hamm', 'mode': 'dB',\n",
    "    'n_mels': 80, 'n_cep': None\n",
    "    }\n",
    "\n",
    "# extract and write features\n",
    "spchdata.extract_features(feature_path, feature_args, feature_extension)\n",
    "spchdata.write_features(write_feature_path, writer)\n",
    "\n",
    "# write feature_args \n",
    "feature_args_fname = os.path.join(write_feature_path, 'feature_args.json')\n",
    "utils.write_json(feature_args, feature_args_fname)"
   ]
  },
  {
   "cell_type": "markdown",
   "metadata": {},
   "source": [
    "### Mel filterbanks cepstral coeffients (mfcc13)"
   ]
  },
  {
   "cell_type": "code",
   "execution_count": 6,
   "metadata": {},
   "outputs": [],
   "source": [
    "# B. Mel Frequency Cepstral Coeffients (mfcc13)\n",
    "\n",
    "# arguments\n",
    "write_feature_path = 'data/mfcc13'\n",
    "feature_args = {\n",
    "    'spg': None, 'Deltas': None, 'Norm': None,\n",
    "    'sample_rate': 16000, 'f_shift': 0.01, 'f_length': 0.03,\n",
    "    'preemp': 0.97, 'window': 'hamm', 'mode': 'dB',  \n",
    "    'n_mels': 24, 'n_cep': 13 \n",
    "    }\n",
    "\n",
    "# extract and write features\n",
    "spchdata.extract_features(feature_path, feature_args, feature_extension)\n",
    "spchdata.write_features(write_feature_path, writer)\n",
    "\n",
    "# write feature_args \n",
    "feature_args_fname = os.path.join(write_feature_path, 'feature_args.json')\n",
    "utils.write_json(feature_args, feature_args_fname)"
   ]
  }
 ],
 "metadata": {
  "interpreter": {
   "hash": "07bbb230afa188f6fcf784790a512a027d4aaebd8b449a47936f42b92e92fbab"
  },
  "kernelspec": {
   "display_name": "Python 3.7.12 ('pyspch')",
   "language": "python",
   "name": "python3"
  },
  "language_info": {
   "codemirror_mode": {
    "name": "ipython",
    "version": 3
   },
   "file_extension": ".py",
   "mimetype": "text/x-python",
   "name": "python",
   "nbconvert_exporter": "python",
   "pygments_lexer": "ipython3",
   "version": "3.7.12"
  },
  "orig_nbformat": 4
 },
 "nbformat": 4,
 "nbformat_minor": 2
}
