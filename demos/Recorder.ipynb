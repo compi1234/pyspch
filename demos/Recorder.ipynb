{
 "cells": [
  {
   "cell_type": "markdown",
   "id": "inappropriate-allen",
   "metadata": {},
   "source": [
    "<a href=\"https://colab.research.google.com/github/compi1234/pyspch/blob/master/test/audio_test.ipynb\" target=\"_parent\"><img src=\"https://colab.research.google.com/assets/colab-badge.svg\" alt=\"Open In Colab\"/></a>"
   ]
  },
  {
   "cell_type": "markdown",
   "id": "tribal-nightlife",
   "metadata": {},
   "source": [
    "## Recorder\n",
    "\n",
    "Date: 17/05/2021, 20/09/2021"
   ]
  },
  {
   "cell_type": "code",
   "execution_count": 1,
   "id": "paperback-percentage",
   "metadata": {},
   "outputs": [],
   "source": [
    "%matplotlib inline\n",
    "import matplotlib.pyplot as plt\n",
    "\n",
    "from IPython.display import display, clear_output, Audio, HTML\n",
    "import ipywidgets as widgets\n",
    "import numpy as np\n",
    "\n",
    "\n",
    "import librosa\n",
    "try:\n",
    "  import google.colab\n",
    "  IN_COLAB = True \n",
    "  ! pip install git+https://github.com/compi1234/pyspch.git\n",
    "except:\n",
    "  IN_COLAB = False\n",
    "\n",
    "# verify the IPython version\n",
    "import IPython\n",
    "if IPython.version_info[0] >= 6:\n",
    "    Audio_args = {'normalize':False}\n",
    "else:\n",
    "    print(\"Warning: you are using IPython<6 \\n IPython.display.Audio() will automatically normalize audio output\")\n",
    "    Audio_args = {}\n",
    "import pyspch.audio as Spa\n",
    "import pyspch.spg as Sps\n",
    "import pyspch.display as Spd"
   ]
  },
  {
   "cell_type": "code",
   "execution_count": 3,
   "id": "raising-bacteria",
   "metadata": {},
   "outputs": [
    {
     "data": {
      "application/vnd.jupyter.widget-view+json": {
       "model_id": "cd3641f54bc8447d896aaac79e3acbe5",
       "version_major": 2,
       "version_minor": 0
      },
      "text/plain": [
       "recorder(children=(Output(layout=Layout(border='solid 1px black', margin='0px 10px 10px 0px', padding='5px 5px…"
      ]
     },
     "metadata": {},
     "output_type": "display_data"
    }
   ],
   "source": [
    "Symbols = { 'play':'\\u25b6','reverse':'\\u25C0' , 'pause':'\\u23F8', 'stop': '\\u23F9', 'record':'\\u2b55'}\n",
    "def box_layout():\n",
    "     return widgets.Layout(\n",
    "        border='solid 1px black',\n",
    "        margin='0px 10px 10px 0px',\n",
    "        padding='5px 5px 5px 5px'\n",
    "     )\n",
    "def button_layout():\n",
    "    return widgets.Layout(\n",
    "        border='solid 1px black',\n",
    "        margin='0px 10px 10px 0px',\n",
    "        padding='5px 5px 5px 5px',\n",
    "        width = '40px',\n",
    "        height = '40px',\n",
    "        flex_shrink =2\n",
    "     )\n",
    "\n",
    "class recorder(widgets.VBox):\n",
    "    \n",
    "    def __init__(self,data=np.zeros((1000,)),sample_rate=16000,figsize=(12,6),dpi=72):\n",
    "        super().__init__()\n",
    "        \n",
    "        sample_rates = [8000,11025,16000,22050,44100,48000]\n",
    "        self.data = data\n",
    "        \n",
    "        self.sample_rate = sample_rate\n",
    "        self.rec_time = 2.0         \n",
    "        self.line_color = '#0000ff'\n",
    "        self.figsize = figsize\n",
    "        self.dpi = dpi\n",
    "                     \n",
    "        self.wg_play_button = widgets.Button(description=Symbols['play'],layout=button_layout())\n",
    "        self.wg_record_button = widgets.Button(description=Symbols['record'],layout=button_layout())\n",
    "        self.wg_pause_button = widgets.Button(description=Symbols['pause'],layout=button_layout())\n",
    "        self.wg_clear_log_button = widgets.Button(description='Clear log')\n",
    "\n",
    "        self.wg_rectime = widgets.BoundedFloatText(   value=2.0, min=0.5, max= 10., step=0.5,\n",
    "            description='Rec Time:',style={'description_width': '40%'}, disabled=False)\n",
    "        self.wg_samplerate = widgets.Dropdown(options=sample_rates,value=self.sample_rate,\n",
    "                                              description=\"Sampling Rate\",style={'description_width': '40%'})\n",
    "        \n",
    "        self.out = widgets.Output(layout=box_layout())\n",
    "        self.out.layout.width = '100%'\n",
    "        self.logscr = widgets.Output()        \n",
    "        self.UI = widgets.VBox([\n",
    "            widgets.HBox([self.wg_play_button,self.wg_record_button,self.wg_pause_button,self.wg_rectime,self.wg_samplerate]),\n",
    "            self.wg_clear_log_button,\n",
    "            self.logscr], \n",
    "            layout=box_layout())\n",
    "        self.UI.layout.width = '100%'\n",
    "        # add as children\n",
    "        self.children = [self.out, self.UI] \n",
    "        \n",
    "        self.wg_play_button.on_click(self.play_sound)       \n",
    "        self.wg_record_button.on_click(self.record_sound)\n",
    "        self.wg_pause_button.on_click(self.pause_sound)\n",
    "        self.wg_clear_log_button.on_click(self.clear_log)\n",
    "        self.wg_rectime.observe(self.rectime_observe,'value')\n",
    "        self.wg_samplerate.observe(self.samplerate_observe,'value')\n",
    "        \n",
    "        self.plot_data()\n",
    "        plt.close()\n",
    "\n",
    "\n",
    "    def plot_data(self):\n",
    "        with self.out:\n",
    "            clear_output(wait=True)\n",
    "            spg = Sps.spectrogram(self.data,sample_rate=self.sample_rate)\n",
    "            self.fig = Spd.PlotSpg(spgdata=spg,wavdata=self.data,sample_rate=self.sample_rate,figsize=self.figsize,dpi=self.dpi)\n",
    "            #self.fig = spchd.PlotWaveform(self.data,sample_rate=self.sample_rate)\n",
    "            display(self.fig)\n",
    "        \n",
    "    def rectime_observe(self,change):\n",
    "        self.rec_time = change.new\n",
    "    \n",
    "    def samplerate_observe(self,change):\n",
    "        self.sample_rate = change.new\n",
    "        \n",
    "    def pause_sound(self,b):\n",
    "        with self.logscr:\n",
    "            #print(\"You didn't expect everything to work ?!! did you ... \")\n",
    "            Spa.stop()\n",
    "            \n",
    "    def play_sound(self,b):\n",
    "        with self.logscr:\n",
    "            clear_output()\n",
    "            if(IN_COLAB):\n",
    "              print(\"IN_COLAB: Use the HTML button to play sound\")\n",
    "            Spa.play(self.data,sample_rate=self.sample_rate,wait=False)\n",
    "\n",
    "    def record_sound(self,b):      \n",
    "        with self.logscr:\n",
    "            self.data = Spa.record(self.rec_time,self.sample_rate,n_channels=1)\n",
    "        self.plot_data()\n",
    "        self.play_sound(b)\n",
    "     \n",
    "    def clear_log(self,b):\n",
    "        with self.logscr: clear_output()\n",
    "            \n",
    "recorder()"
   ]
  },
  {
   "cell_type": "code",
   "execution_count": null,
   "id": "reverse-restaurant",
   "metadata": {},
   "outputs": [],
   "source": []
  }
 ],
 "metadata": {
  "kernelspec": {
   "display_name": "Python 3",
   "language": "python",
   "name": "python3"
  },
  "language_info": {
   "codemirror_mode": {
    "name": "ipython",
    "version": 3
   },
   "file_extension": ".py",
   "mimetype": "text/x-python",
   "name": "python",
   "nbconvert_exporter": "python",
   "pygments_lexer": "ipython3",
   "version": "3.7.8"
  },
  "widgets": {
   "application/vnd.jupyter.widget-state+json": {
    "state": {
     "0a7e5303eb0749bf83789af01488b01b": {
      "model_module": "@jupyter-widgets/base",
      "model_module_version": "1.2.0",
      "model_name": "LayoutModel",
      "state": {}
     },
     "0dd144922d664b59a2265d33deacf907": {
      "model_module": "@jupyter-widgets/controls",
      "model_module_version": "1.5.0",
      "model_name": "DropdownModel",
      "state": {
       "_options_labels": [
        "8000",
        "11025",
        "16000",
        "22050",
        "44100",
        "48000"
       ],
       "description": "Sampling Rate",
       "index": 2,
       "layout": "IPY_MODEL_ad2b575683054098b4ae6dd1fda2da66",
       "style": "IPY_MODEL_f52ff2fd8dc2445b82a2060c542cda9e"
      }
     },
     "1281a2a0de7649c6bd24245c3c5b651e": {
      "model_module": "@jupyter-widgets/controls",
      "model_module_version": "1.5.0",
      "model_name": "ButtonStyleModel",
      "state": {}
     },
     "184b96140fae4a8e9ac3a0f02282a1a4": {
      "model_module": "@jupyter-widgets/base",
      "model_module_version": "1.2.0",
      "model_name": "LayoutModel",
      "state": {}
     },
     "1e6113f0f1354e13a497eb2df3d39a69": {
      "model_module": "@jupyter-widgets/controls",
      "model_module_version": "1.5.0",
      "model_name": "ButtonModel",
      "state": {
       "description": "⏸",
       "layout": "IPY_MODEL_3053d855cc604186a3f8da55b2eb0f57",
       "style": "IPY_MODEL_1281a2a0de7649c6bd24245c3c5b651e"
      }
     },
     "3053d855cc604186a3f8da55b2eb0f57": {
      "model_module": "@jupyter-widgets/base",
      "model_module_version": "1.2.0",
      "model_name": "LayoutModel",
      "state": {
       "border": "solid 1px black",
       "height": "40px",
       "margin": "0px 10px 10px 0px",
       "padding": "5px 5px 5px 5px",
       "width": "40px"
      }
     },
     "30e45f4da0834cae8ed056182c4fe2b6": {
      "model_module": "@jupyter-widgets/controls",
      "model_module_version": "1.5.0",
      "model_name": "BoundedFloatTextModel",
      "state": {
       "description": "Rec Time:",
       "layout": "IPY_MODEL_abf260990cc34c17b4b1351a6aad0f59",
       "max": 10,
       "min": 0.5,
       "step": 0.5,
       "style": "IPY_MODEL_cf75765431a84eae8cc649923aab982b",
       "value": 2
      }
     },
     "31da56399fc14824a9472b286a351b98": {
      "model_module": "@jupyter-widgets/base",
      "model_module_version": "1.2.0",
      "model_name": "LayoutModel",
      "state": {
       "border": "solid 1px black",
       "height": "40px",
       "margin": "0px 10px 10px 0px",
       "padding": "5px 5px 5px 5px",
       "width": "40px"
      }
     },
     "3742304cc1ec41dcb2aed53a091276d7": {
      "model_module": "@jupyter-widgets/base",
      "model_module_version": "1.2.0",
      "model_name": "LayoutModel",
      "state": {}
     },
     "3c25c41228f649e28bfb8d394a3b1db7": {
      "model_module": "@jupyter-widgets/controls",
      "model_module_version": "1.5.0",
      "model_name": "ButtonStyleModel",
      "state": {}
     },
     "3d99890d66de4cf28094cf741ea5091f": {
      "model_module": "@jupyter-widgets/output",
      "model_module_version": "1.0.0",
      "model_name": "OutputModel",
      "state": {
       "layout": "IPY_MODEL_ad36ca4942f34ec1bfa10e49bcf0cdbf",
       "outputs": [
        {
         "data": {
          "image/png": "iVBORw0KGgoAAAANSUhEUgAAA2gAAAGsCAYAAACo8IS2AAAAOXRFWHRTb2Z0d2FyZQBNYXRwbG90bGliIHZlcnNpb24zLjMuNCwgaHR0cHM6Ly9tYXRwbG90bGliLm9yZy8QVMy6AAAACXBIWXMAAAsTAAALEwEAmpwYAAAlcElEQVR4nO3df7BmdX0n+Pcn3aKIsuCIDHYzI9n0MkG3RKQYXKpSxDjamlTazKw7bVUC67jVauGszqYqC9maCqnZrXKnMpnEKcVh1NhUNBSjoewy+IMlYVJTRdTGoAjI2qNGeiB0rKwKksUBP/vHc9g8ae6F5j73x/fe+3pVnXrO+Z7v9zzfh/rUvf3mnOd7q7sDAADAxvuxjZ4AAAAAMwIaAADAIAQ0AACAQQhoAAAAgxDQAAAABiGgAQAADGLnalykqvYm+e0kO5J8sLvfc9z5ms6/IckjSf7H7v7SdO5bSR5K8niSx7r7wqd7v9NOO61/4id+YjWmzhbzgx/8IKeccspGT4MBqQ2WozZYjtpgOWqDpdx+++3f6e4zFr3OwgGtqnYkeV+Sf5DkaJIvVtWh7r57rtvrk+yZtr+f5Jrp9Qk/3d3fOdH3PPPMM3P48OFFp84WdOutt+bSSy/d6GkwILXBctQGy1EbLEdtsJSq+rPVuM5qPOJ4UZIj3f2N7v5hkuuT7Duuz74k1/XMnyQ5rarOWoX3BgAA2DJWI6DtSnLf3PHRqe1E+3SSz1XV7VV1YBXmAwAAsCmtxnfQaom2fgZ9Lunu+6vqRUlurqqvdfcfP+lNZuHtQJKcccYZufXWWxeYMlvVww8/rDZYktpgOWqD5agNlqM2WEurEdCOJjl77nh3kvtPtE93P/F6rKpuzOyRyScFtO6+Nsm1SXLuuee2535ZimfCWY7aYDlqg+WoDZajNlhLq/GI4xeT7Kmqc6rqpCT7kxw6rs+hJJfVzMVJvtfdD1TVKVX1/CSpqlOSvDbJV1dhTgAAAJvOwnfQuvuxqnpnks9mtsz+h7v7rqp6+3T+A0luymyJ/SOZLbP/lmn4mUlunK3Cn51JPtbdn1l0TgAAAJvRqvwdtO6+KbMQNt/2gbn9TnLFEuO+keTlqzEHAACAzW41HnEEAABgFQhoAAAAgxDQAAAABiGgAQAADEJAAwAAGISABgAAMAgBDQAAYBACGgAAwCAENAAAgEEIaAAAAIMQ0AAAAAYhoAEAAAxCQAMAABiEgAYAADAIAQ0AAGAQAhoAAMAgBDQAAIBBCGgAAACDENAAAAAGIaABAAAMQkADAAAYhIAGAAAwCAENAABgEAIaAADAIAQ0AACAQQhoAAAAgxDQAAAABiGgAQAADEJAAwAAGISABgAAMAgBDQAAYBACGgAAwCBWJaBV1d6qureqjlTVlUucr6p673T+K1V1wYmOBQAA2C4WDmhVtSPJ+5K8Psl5Sd5cVecd1+31SfZM24Ek1zyDsQAAANvCzlW4xkVJjnT3N5Kkqq5Psi/J3XN99iW5rrs7yZ9U1WlVdVaSl5zA2Cf58x/8KP/43962ClNnq/nud/8q19yrNngytcFy1AbLURssR22wllYjoO1Kct/c8dEkf/8E+uw6wbFJkqo6kNndtzz3zJfku9/97kKTZmt6/PHH1QZLUhssR22wHLXBctQGa2k1Alot0dYn2OdExs4au69Ncm2SnHvuuf3Z//X1z2SObBO33nprLr300o2eBgNSGyxHbbActcFy1AZLWa3VNFYjoB1Ncvbc8e4k959gn5NOYCwAAMC2sBqrOH4xyZ6qOqeqTkqyP8mh4/ocSnLZtJrjxUm+190PnOBYAACAbWHhO2jd/VhVvTPJZ5PsSPLh7r6rqt4+nf9AkpuSvCHJkSSPJHnLU41ddE4AAACb0Wo84pjuvimzEDbf9oG5/U5yxYmOBQAA2I5W5Q9VAwAAsDgBDQAAYBACGgAAwCAENAAAgEEIaAAAAIMQ0AAAAAYhoAEAAAxCQAMAABiEgAYAADAIAQ0AAGAQAhoAAMAgBDQAAIBBCGgAAACDENAAAAAGIaABAAAMQkADAAAYhIAGAAAwCAENAABgEAIaAADAIAQ0AACAQQhoAAAAgxDQAAAABiGgAQAADEJAAwAAGISABgAAMAgBDQAAYBACGgAAwCAENAAAgEEIaAAAAIMQ0AAAAAYhoAEAAAxioYBWVS+oqpur6uvT6+nL9NtbVfdW1ZGqunKu/eqq+s9Vdce0vWGR+QAAAGxmi95BuzLJLd29J8kt0/HfUFU7krwvyeuTnJfkzVV13lyXf93d50/bTQvOBwAAYNNaNKDtS3Jw2j+Y5I1L9LkoyZHu/kZ3/zDJ9dM4AAAA5iwa0M7s7geSZHp90RJ9diW5b+746NT2hHdW1Veq6sPLPSIJAACwHex8ug5V9X8l+dtLnPrfTvA9aom2nl6vSfIvpuN/keRfJfkny8zjQJIDSXLGGWfk1ltvPcG3Zzt5+OGH1QZLUhssR22wHLXBctQGa+lpA1p3v2a5c1X1YFWd1d0PVNVZSY4t0e1okrPnjncnuX+69oNz1/p3ST71FPO4Nsm1SXLuuef2pZde+nRTZxu69dZbozZYitpgOWqD5agNlqM2WEuLPuJ4KMnl0/7lST65RJ8vJtlTVedU1UlJ9k/jMoW6J/xCkq8uOB8AAIBN62nvoD2N9yS5oaremuTbSd6UJFX14iQf7O43dPdjVfXOJJ9NsiPJh7v7rmn8v6yq8zN7xPFbSd624HwAAAA2rerup+81mKp6KMm9Gz0PhvTCJN/Z6EkwJLXBctQGy1EbLEdtsJS/291nLHqRRe+gbZR7u/vCjZ4E46mqw2qDpagNlqM2WI7aYDlqg7W06HfQAAAAWCUCGgAAwCA2a0C7dqMnwLDUBstRGyxHbbActcFy1AZrZlMuEgIAALAVbdY7aAAAAFvOUAGtqvZW1b1VdaSqrlzifFXVe6fzX6mqC050LJvbgrXx4ao6VlX+EPoWtNLaqKqzq+qPquqeqrqrqt61/rNnLS1QG8+pqi9U1Zen2vj19Z89a2mR3ynT+R1V9adV9an1mzXrYcF/b3yrqu6sqjuq6vD6zpytZJiAVlU7krwvyeuTnJfkzVV13nHdXp9kz7QdSHLNMxjLJrVIbUw+kmTv2s+U9bZgbTyW5Je7+yeTXJzkCj83to4Fa+PRJK/u7pcnOT/J3qq6eD3mzdpbhd8pSfKuJPes8VRZZ6tUGz/d3edbgp9FDBPQklyU5Eh3f6O7f5jk+iT7juuzL8l1PfMnSU6rqrNOcCyb1yK1ke7+4yR/ua4zZr2suDa6+4Hu/lKSdPdDmf1ja9d6Tp41tUhtdHc/PPV51rT5wvbWsdDvlKraneRnk3xwPSfNulioNmC1jBTQdiW5b+74aJ78j6Xl+pzIWDavRWqDrW1VaqOqXpLkFUk+v/pTZIMsVBvTI2x3JDmW5ObuVhtbx6I/N34rya8k+dEazY+Ns2htdJLPVdXtVXVgzWbJljdSQKsl2o7/P5bL9TmRsWxei9QGW9vCtVFVz0vyiSTv7u7vr+Lc2FgL1UZ3P97d5yfZneSiqnrZ6k6PDbTi2qiqn0tyrLtvX/1pMYBFf6dc0t0XZPYY5BVV9VOrOTm2j5EC2tEkZ88d705y/wn2OZGxbF6L1AZb20K1UVXPyiycfbS7f38N58n6W5WfG9393SS3xvdYt5JFauOSJD9fVd/K7PG3V1fV767dVFlnC/3c6O4nXo8luTGzRybhGRspoH0xyZ6qOqeqTkqyP8mh4/ocSnLZtILOxUm+190PnOBYNq9FaoOtbcW1UVWV5ENJ7unu31zfabMOFqmNM6rqtCSpqpOTvCbJ19Zx7qytFddGd1/V3bu7+yXTuD/s7l9c19mzlhb5uXFKVT0/SarqlCSvTWL1aFZk50ZP4And/VhVvTPJZ5PsSPLh7r6rqt4+nf9AkpuSvCHJkSSPJHnLU43dgI/BGlikNpKkqn4vyaVJXlhVR5P8Wnd/aH0/BWthwdq4JMkvJblz+q5Rkvxqd9+0jh+BNbJgbZyV5OC0otuPJbmhuy2nvkUs+juFrWvB2jgzyY2z//eXnUk+1t2fWeePwBZR3b6mAwAAMIKRHnEEAADY1gQ0AACAQQhoAAAAgxDQAAAABiGgAQAADEJAAwAAGISABgAAMAgBDQAAYBACGgAAwCAENAAAgEEIaAAAAIPYudETWImq53Zy2kZPAwAAYPLAd7r7jEWvsikD2iycvW2jJwEAADC5+s9W4yoecQQAABiEgAYAADAIAQ0AAGAQAhoAAMAgBDQAAIBBCGgAAACDENAAAAAGIaABAAAMQkADAAAYhIAGAAAwCAENAABgEAIaAADAIAQ0AACAQQhoAAAAgxDQAAAABiGgAQAADEJAAwAAGISABgAAMAgBDQAAYBACGgAAwCAENAAAgEEIaAAAAIMQ0AAAAAYhoAEAAAxCQAMAABiEgAYAADAIAQ0AAGAQKwpoVXVuVd0xt32/qt5dVS+oqpur6uvT6+lzY66qqiNVdW9VvW6u/ZVVded07r1VVavxwQAAADabFQW07r63u8/v7vOTvDLJI0luTHJlklu6e0+SW6bjVNV5SfYneWmSvUneX1U7pstdk+RAkj3TtnfFnwYAAGATW41HHH8myX/q7j9Lsi/Jwan9YJI3Tvv7klzf3Y929zeTHElyUVWdleTU7r6tuzvJdXNjAAAAtpXVCGj7k/zetH9mdz+QJNPri6b2XUnumxtzdGrbNe0f3/4kVXWgqg5X1eHZDTsAAICtZaGAVlUnJfn5JP/+6bou0dZP0f7kxu5ru/vC7r4wee4zmygAAMAmsOgdtNcn+VJ3PzgdPzg9tpjp9djUfjTJ2XPjdie5f2rfvUQ7AADAtrNoQHtz/vrxxiQ5lOTyaf/yJJ+ca99fVc+uqnMyWwzkC9NjkA9V1cXT6o2XzY0BAADYVnaudGBVPTfJP0jytrnm9yS5oaremuTbSd6UJN19V1XdkOTuJI8luaK7H5/GvCPJR5KcnOTT0wYAALDt1GzxxM2l6sX9N3MhAADARrr69tl6GYtZjVUcAQAAWAUCGgAAwCAENAAAgEEIaAAAAIMQ0AAAAAYhoAEAAAxCQAMAABiEgAYAADAIAQ0AAGAQAhoAAMAgBDQAAIBBCGgAAACDENAAAAAGIaABAAAMQkADAAAYhIAGAAAwCAENAABgEAIaAADAIAQ0AACAQQhoAAAAgxDQAAAABiGgAQAADEJAAwAAGISABgAAMIgVB7SqOq2qPl5VX6uqe6rqVVX1gqq6uaq+Pr2ePtf/qqo6UlX3VtXr5tpfWVV3TufeW1W16IcCAADYjBa5g/bbST7T3X8vycuT3JPkyiS3dPeeJLdMx6mq85LsT/LSJHuTvL+qdkzXuSbJgSR7pm3vAnMCAADYtFYU0Krq1CQ/leRDSdLdP+zu7ybZl+Tg1O1gkjdO+/uSXN/dj3b3N5McSXJRVZ2V5NTuvq27O8l1c2MAAAC2lZXeQfvxJH+R5Heq6k+r6oNVdUqSM7v7gSSZXl809d+V5L658Uentl3T/vHtAAAA285KA9rOJBckuaa7X5HkB5keZ1zGUt8r66dof/IFqg5U1eGqOpw88kznCwAAMLyVBrSjSY529+en449nFtgenB5bzPR6bK7/2XPjdye5f2rfvUT7k3T3td19YXdfmDx3hdMGAAAY14oCWnf/eZL7qurcqelnktyd5FCSy6e2y5N8cto/lGR/VT27qs7JbDGQL0yPQT5UVRdPqzdeNjcGAABgW9m5wNh/muSjVXVSkm8keUtmge+Gqnprkm8neVOSdPddVXVDZiHusSRXdPfj03XekeQjSU5O8ulpAwAA2HZqtnji5lL14k7ettHTAAAAmFx9++zrWItZ5O+gAQAAsIoENAAAgEEIaAAAAIMQ0AAAAAYhoAEAAAxCQAMAABiEgAYAADAIAQ0AAGAQAhoAAMAgBDQAAIBBCGgAAACDENAAAAAGIaABAAAMQkADAAAYhIAGAAAwCAENAABgEAIaAADAIAQ0AACAQQhoAAAAgxDQAAAABiGgAQAADEJAAwAAGISABgAAMAgBDQAAYBACGgAAwCBWHNCq6ltVdWdV3VFVh6e2F1TVzVX19en19Ln+V1XVkaq6t6peN9f+yuk6R6rqvVVVi30kAACAzWnRO2g/3d3nd/eF0/GVSW7p7j1JbpmOU1XnJdmf5KVJ9iZ5f1XtmMZck+RAkj3TtnfBOQEAAGxKq/2I474kB6f9g0neONd+fXc/2t3fTHIkyUVVdVaSU7v7tu7uJNfNjQEAANhWFgloneRzVXV7VR2Y2s7s7geSZHp90dS+K8l9c2OPTm27pv3j25+kqg5U1eHZ45SPLDBtAACAMe1cYOwl3X1/Vb0oyc1V9bWn6LvU98r6Kdqf3Nh9bZJrk6TqxUv2AQAA2MxWfAetu++fXo8luTHJRUkenB5bzPR6bOp+NMnZc8N3J7l/at+9RDsAAMC2s6KAVlWnVNXzn9hP8tokX01yKMnlU7fLk3xy2j+UZH9VPbuqzslsMZAvTI9BPlRVF0+rN142NwYAAGBbWekjjmcmuXFaEX9nko9192eq6otJbqiqtyb5dpI3JUl331VVNyS5O8ljSa7o7sena70jyUeSnJzk09MGAACw7dRs8cTNZfYdtLdt9DQAAAAmV98+9+fHVmy1l9kHAABghQQ0AACAQQhoAAAAgxDQAAAABiGgAQAADEJAAwAAGISABgAAMAgBDQAAYBACGgAAwCAENAAAgEEIaAAAAIMQ0AAAAAYhoAEAAAxCQAMAABiEgAYAADAIAQ0AAGAQAhoAAMAgBDQAAIBBCGgAAACDENAAAAAGIaABAAAMQkADAAAYhIAGAAAwCAENAABgEAsFtKraUVV/WlWfmo5fUFU3V9XXp9fT5/peVVVHqureqnrdXPsrq+rO6dx7q6oWmRMAAMBmtegdtHcluWfu+Mokt3T3niS3TMepqvOS7E/y0iR7k7y/qnZMY65JciDJnmnbu+CcAAAANqUVB7Sq2p3kZ5N8cK55X5KD0/7BJG+ca7++ux/t7m8mOZLkoqo6K8mp3X1bd3eS6+bGAAAAbCuL3EH7rSS/kuRHc21ndvcDSTK9vmhq35Xkvrl+R6e2XdP+8e0AAADbzooCWlX9XJJj3X37iQ5Zoq2fon2p9zxQVYer6nDyyAm+LQAAwOaxc4XjLkny81X1hiTPSXJqVf1ukger6qzufmB6fPHY1P9okrPnxu9Ocv/UvnuJ9ifp7muTXJskVS9eMsQBAABsZiu6g9bdV3X37u5+SWaLf/xhd/9ikkNJLp+6XZ7kk9P+oST7q+rZVXVOZouBfGF6DPKhqrp4Wr3xsrkxAAAA28pK76At5z1Jbqiqtyb5dpI3JUl331VVNyS5O8ljSa7o7senMe9I8pEkJyf59LQBAABsOzVbPHFzmT3i+LaNngYAAMDk6tu7+8JFr7Lo30EDAABglQhoAAAAgxDQAAAABiGgAQAADEJAAwAAGISABgAAMAgBDQAAYBACGgAAwCAENAAAgEEIaAAAAIMQ0AAAAAYhoAEAAAxCQAMAABiEgAYAADAIAQ0AAGAQAhoAAMAgBDQAAIBBCGgAAACDENAAAAAGIaABAAAMQkADAAAYhIAGAAAwCAENAABgEAIaAADAIAQ0AACAQawooFXVc6rqC1X15aq6q6p+fWp/QVXdXFVfn15PnxtzVVUdqap7q+p1c+2vrKo7p3Pvrapa/GMBAABsPiu9g/Zokld398uTnJ9kb1VdnOTKJLd0954kt0zHqarzkuxP8tIke5O8v6p2TNe6JsmBJHumbe8K5wQAALCprSig9czD0+Gzpq2T7EtycGo/mOSN0/6+JNd396Pd/c0kR5JcVFVnJTm1u2/r7k5y3dwYAACAbWXF30Grqh1VdUeSY0lu7u7PJzmzux9Ikun1RVP3XUnumxt+dGrbNe0f377U+x2oqsNVdTh5ZKXTBgAAGNaKA1p3P97d5yfZndndsJc9RfelvlfWT9G+1Ptd290XdveFyXOf8XwBAABGt/Aqjt393SS3ZvbdsQenxxYzvR6buh1NcvbcsN1J7p/ady/RDgAAsO2sdBXHM6rqtGn/5CSvSfK1JIeSXD51uzzJJ6f9Q0n2V9Wzq+qczBYD+cL0GORDVXXxtHrjZXNjAAAAtpWdKxx3VpKD00qMP5bkhu7+VFXdluSGqnprkm8neVOSdPddVXVDkruTPJbkiu5+fLrWO5J8JMnJST49bQAAANtOzRZP3FyqXtzJ2zZ6GgAAAJOrb5+tl7GYhb+DBgAAwOoQ0AAAAAYhoAEAAAxCQAMAABiEgAYAADAIAQ0AAGAQAhoAAMAgBDQAAIBBCGgAAACDENAAAAAGIaABAAAMQkADAAAYhIAGAAAwCAENAABgEAIaAADAIAQ0AACAQQhoAAAAgxDQAAAABiGgAQAADEJAAwAAGISABgAAMAgBDQAAYBACGgAAwCAENAAAgEGsKKBV1dlV9UdVdU9V3VVV75raX1BVN1fV16fX0+fGXFVVR6rq3qp63Vz7K6vqzunce6uqFv9YAAAAm89K76A9luSXu/snk1yc5IqqOi/JlUlu6e49SW6ZjjOd25/kpUn2Jnl/Ve2YrnVNkgNJ9kzb3hXOCQAAYFNbUUDr7ge6+0vT/kNJ7kmyK8m+JAenbgeTvHHa35fk+u5+tLu/meRIkouq6qwkp3b3bd3dSa6bGwMAALCtLPwdtKp6SZJXJPl8kjO7+4FkFuKSvGjqtivJfXPDjk5tu6b949sBAAC2nYUCWlU9L8knkry7u7//VF2XaOunaF/qvQ5U1eGqOpw88swnCwAAMLgVB7SqelZm4eyj3f37U/OD02OLmV6PTe1Hk5w9N3x3kvun9t1LtD9Jd1/b3Rd294XJc1c6bQAAgGGtdBXHSvKhJPd092/OnTqU5PJp//Ikn5xr319Vz66qczJbDOQL02OQD1XVxdM1L5sbAwAAsK3sXOG4S5L8UpI7q+qOqe1Xk7wnyQ1V9dYk307ypiTp7ruq6oYkd2e2AuQV3f34NO4dST6S5OQkn542AACAbadmiyduLlUv7uRtGz0NAACAydW3z76OtZiFV3EEAABgdQhoAAAAgxDQAAAABiGgAQAADEJAAwAAGISABgAAMAgBDQAAYBACGgAAwCAENAAAgEEIaAAAAIMQ0AAAAAYhoAEAAAxCQAMAABiEgAYAADAIAQ0AAGAQAhoAAMAgBDQAAIBBCGgAAACDENAAAAAGIaABAAAMQkADAAAYhIAGAAAwCAENAABgEAIaAADAIAQ0AACAQaw4oFXVh6vqWFV9da7tBVV1c1V9fXo9fe7cVVV1pKrurarXzbW/sqrunM69t6pq5R8HAABg81rkDtpHkuw9ru3KJLd0954kt0zHqarzkuxP8tJpzPurasc05pokB5LsmbbjrwkAALAtrDigdfcfJ/nL45r3JTk47R9M8sa59uu7+9Hu/maSI0kuqqqzkpza3bd1dye5bm4MAADAtrLa30E7s7sfSJLp9UVT+64k9831Ozq17Zr2j29/kqo6UFWHq+pw8sgqTxsAAGDjrdciIUt9r6yfov3Jjd3XdveF3X1h8txVnRwAAMAIVjugPTg9tpjp9djUfjTJ2XP9die5f2rfvUQ7AADAtrPaAe1Qksun/cuTfHKufX9VPbuqzslsMZAvTI9BPlRVF0+rN142NwYAAGBb2bnSgVX1e0kuTfLCqjqa5NeSvCfJDVX11iTfTvKmJOnuu6rqhiR3J3ksyRXd/fh0qXdktiLkyUk+PW0AAADbTs0WT9xcql7cyds2ehoAAACTq2+frZexmPVaJAQAAICnIaABAAAMQkADAAAYhIAGAAAwCAENAABgEAIaAADAIAQ0AACAQQhoAAAAgxDQAAAABiGgAQAADEJAAwAAGISABgAAMAgBDQAAYBACGgAAwCAENAAAgEEIaAAAAIMQ0AAAAAYhoAEAAAxCQAMAABiEgAYAADAIAQ0AAGAQAhoAAMAgBDQAAIBBCGgAAACDGCKgVdXeqrq3qo5U1ZUbPR8AAICNsOEBrap2JHlfktcnOS/Jm6vqvI2dFQAAwPrb8ICW5KIkR7r7G939wyTXJ9m3wXMCAABYdyMEtF1J7ps7Pjq1AQAAbCs7N3oCSWqJtn5Sp6oDSQ5Mh48mV391TWfFZvXCJN/Z6EkwJLXBUtQFy1EbLEdtsJxzV+MiIwS0o0nOnjveneT+4zt197VJrk2Sqjrc3Reuz/TYTNQGy1EbLEVdsBy1wXLUBsupqsOrcZ0RHnH8YpI9VXVOVZ2UZH+SQxs8JwAAgHW34XfQuvuxqnpnks8m2ZHkw9191wZPCwAAYN1teEBLku6+KclNz2DItWs1FzY9tcFy1AZLURcsR22wHLXBclalNqr7SetxAAAAsAFG+A4aAAAAGSygVdXeqrq3qo5U1ZVLnK+qeu90/itVdcGJjmVzW7A2PlxVx6rKn2bYglZaG1V1dlX9UVXdU1V3VdW71n/2rKUFauM5VfWFqvryVBu/vv6zZy0t8jtlOr+jqv60qj61frNmPSz4741vVdWdVXXHaq3mxxgWrIvTqurjVfW16d8cr3raN+zuIbbMFgj5T0l+PMlJSb6c5Lzj+rwhyacz+9tpFyf5/ImOtW3ebZHamM79VJILknx1oz+LbZzaSHJWkgum/ecn+b/93Ng624K1UUmeN+0/K8nnk1y80Z/JtvG1MXf+f0nysSSf2ujPYxunNpJ8K8kLN/pz2Iari4NJ/qdp/6Qkpz3de450B+2iJEe6+xvd/cMk1yfZd1yffUmu65k/SXJaVZ11gmPZvBapjXT3Hyf5y3WdMetlxbXR3Q9095eSpLsfSnJPkl3rOXnW1CK10d398NTnWdPmC9tbx0K/U6pqd5KfTfLB9Zw062Kh2mDLWnFdVNWpmd0o+FCSdPcPu/u7T/eGIwW0XUnumzs+mif/Y2m5Picyls1rkdpga1uV2qiqlyR5RWZ3StgaFqqN6RG2O5IcS3Jzd6uNrWPRnxu/leRXkvxojebHxlm0NjrJ56rq9qo6sGazZL0tUhc/nuQvkvzO9Fj0B6vqlKd7w5ECWi3Rdvz/sVyuz4mMZfNapDbY2haujap6XpJPJHl3d39/FefGxlqoNrr78e4+P8nuJBdV1ctWd3psoBXXRlX9XJJj3X376k+LASz6O+WS7r4gyeuTXFFVP7Wak2PDLFIXOzP7ms013f2KJD9I8rRrZYwU0I4mOXvueHeS+0+wz4mMZfNapDbY2haqjap6Vmbh7KPd/ftrOE/W36r83JgeRbk1yd5VnyEbZZHauCTJz1fVtzJ7zOnVVfW7azdV1tlCPze6+4nXY0luzOzRODa/RTPK0bmnMD6eWWB7SiMFtC8m2VNV51TVSUn2Jzl0XJ9DSS6bVkq5OMn3uvuBExzL5rVIbbC1rbg2qqoyeyb8nu7+zfWdNutgkdo4o6pOS5KqOjnJa5J8bR3nztpacW1091Xdvbu7XzKN+8Pu/sV1nT1raZGfG6dU1fOTZHqE7bVJrB69NSzyM+PPk9xXVedO/X4myd1P94Y7V3HyC+nux6rqnUk+m9lqKR/u7ruq6u3T+Q8kuSmzVVKOJHkkyVueauwGfAzWwCK1kSRV9XtJLk3ywqo6muTXuvtD6/spWAsL1sYlSX4pyZ3Td42S5Fe7+6Z1/AiskQVr46wkB6tqR2b/I/OG7rac+hax6O8Utq4Fa+PMJDfO/t9fdib5WHd/Zp0/AmtgFX5m/NMkH53C3TdyAj9PalryEQAAgA020iOOAAAA25qABgAAMAgBDQAAYBACGgAAwCAENAAAgEEIaAAAAIMQ0AAYSlX9raq6Y9r+vKr+87T/cFW9fxXf57eq6qdW63rLvMdvVNWr1/I9ANha/B00AIZVVVcnebi7f2OVr/uCJDd198Wred0l3ufvJvl33f3atXwfALYOd9AA2BSq6tKq+tS0f3VVHayqz1XVt6rqH1bVv6yqO6vqM1X1rKnfK6vqP1TV7VX12ao6a7rcf5/kM3PXfk9V3V1VX6mq35jazqiqT1TVF6ftkqn9eVX1O9N7faWq/lFV7aiqj1TVV6f2f5Yk3f1nSf5WVf3tdfxPBcAmtnOjJwAAK/RfJ/npJOcluS3JP+ruX6mqG5P8bFX9QZJ/k2Rfd/9FVf3jJP9Hkn+S5JIkH0/+/7tpv5Dk73V3V9Vp0/V/O8m/7u7/WFV/J8lnk/xkkn+e5Hvd/d9O409Pcn6SXd39sqntiWskyZem9/vEmvxXAGBLEdAA2Kw+3d3/paruTLIjf31H7M4kL0lybpKXJbm5qjL1eWDqc1aSv5j2v5/k/03ywSnUfWpqf02S86axSXJqVT1/at//RGN3/z9V9Y0kP15V/ybJHyT53Nw8jyV58Wp8YAC2PgENgM3q0STp7h9V1X/pv/5S9Y8y+/1WSe7q7lctMfavkjxnGv9YVV2U5GcyC17vTPLqzL4G8Kru/qv5gTVLbH/jC9xTSHt5ktcluSLJ/5DZnbpM7/M3rgEAy/EdNAC2qnuTnFFVr0qSqnpWVb10OndPkp+Y2p+X5L/q7puSvDuzxxWT2V2wdz5xsaparv30qnphkh/r7k9k9gjkBXPz+G+SfHU1PxgAW5eABsCW1N0/zGwxkP+zqr6c5I4k/910+g+SXDrtPz/Jp6rqK0n+Q5J/NrX/z0kunBYCuTvJ26f2/z3J6dOCIF/O7Htwu5LcWlV3JPlIkquSWSjMLAgeXptPCcBWY5l9ALalqvqPSX6uu7+7hu/xC0ku6O5/vlbvAcDW4g4aANvVLyf5O2v8HjuT/Ks1fg8AthB30AAAAAbhDhoAAMAgBDQAAIBBCGgAAACDENAAAAAGIaABAAAM4v8DxzHm53ucgxUAAAAASUVORK5CYII=\n",
          "text/plain": "<SpchFig size 864x432 with 2 Axes>"
         },
         "metadata": {},
         "output_type": "display_data"
        }
       ]
      }
     },
     "3f48241aff9748d38bf47ede7b3dc5db": {
      "model_module": "@jupyter-widgets/controls",
      "model_module_version": "1.5.0",
      "model_name": "DescriptionStyleModel",
      "state": {
       "description_width": "40%"
      }
     },
     "44f287488d40481bb56a9f62cf042300": {
      "model_module": "@jupyter-widgets/controls",
      "model_module_version": "1.5.0",
      "model_name": "DropdownModel",
      "state": {
       "_options_labels": [
        "8000",
        "11025",
        "16000",
        "22050",
        "44100",
        "48000"
       ],
       "description": "Sampling Rate",
       "index": 2,
       "layout": "IPY_MODEL_184b96140fae4a8e9ac3a0f02282a1a4",
       "style": "IPY_MODEL_3f48241aff9748d38bf47ede7b3dc5db"
      }
     },
     "476d6a8b2a554a6c9f1f0802ef2f9bb1": {
      "model_module": "@jupyter-widgets/controls",
      "model_module_version": "1.5.0",
      "model_name": "ButtonModel",
      "state": {
       "description": "⭕",
       "layout": "IPY_MODEL_e162695a499c4de291ea2f9ba05671c6",
       "style": "IPY_MODEL_a07d90a1c292441fb6e8e8e3c1adde70"
      }
     },
     "480267db22834fc09126476da244d5cf": {
      "model_module": "@jupyter-widgets/base",
      "model_module_version": "1.2.0",
      "model_name": "LayoutModel",
      "state": {}
     },
     "508761b863da4389907782503276a174": {
      "model_module": "@jupyter-widgets/base",
      "model_module_version": "1.2.0",
      "model_name": "LayoutModel",
      "state": {
       "border": "solid 1px black",
       "height": "40px",
       "margin": "0px 10px 10px 0px",
       "padding": "5px 5px 5px 5px",
       "width": "40px"
      }
     },
     "6a694acfb42741e387ac8b44d7baa6a2": {
      "model_module": "@jupyter-widgets/controls",
      "model_module_version": "1.5.0",
      "model_name": "ButtonStyleModel",
      "state": {}
     },
     "6f603f19bb2d4e8ab9b44d51bbce0765": {
      "model_module": "@jupyter-widgets/controls",
      "model_module_version": "1.5.0",
      "model_name": "ButtonStyleModel",
      "state": {}
     },
     "712bbf845a86455fb0093e91963a8691": {
      "model_module": "@jupyter-widgets/base",
      "model_module_version": "1.2.0",
      "model_name": "LayoutModel",
      "state": {
       "border": "solid 1px black",
       "margin": "0px 10px 10px 0px",
       "padding": "5px 5px 5px 5px",
       "width": "100%"
      }
     },
     "74b9dd656c1843cc8addbd016ba8eaf5": {
      "model_module": "@jupyter-widgets/controls",
      "model_module_version": "1.5.0",
      "model_name": "VBoxModel",
      "state": {
       "children": [
        "IPY_MODEL_e19f7b4a541a4638a13dec9a5c71d380",
        "IPY_MODEL_e22c257ddb48473aa655c82e1e350ba2",
        "IPY_MODEL_ce6521cd02444d92a8a89ef4c1f0b7cb"
       ],
       "layout": "IPY_MODEL_712bbf845a86455fb0093e91963a8691"
      }
     },
     "785cb745449147f0b65dbec4edfee64c": {
      "model_module": "@jupyter-widgets/controls",
      "model_module_version": "1.5.0",
      "model_name": "VBoxModel",
      "state": {
       "children": [
        "IPY_MODEL_989a2ea3c45b49da9f8c4752a82fe526",
        "IPY_MODEL_e4f32f18f5a54038bb70ab36db9a6226"
       ],
       "layout": "IPY_MODEL_96bc817f639345c0bfa8691dd337f85e"
      }
     },
     "8611bb01ae2f41db970d88e2cffb1029": {
      "model_module": "@jupyter-widgets/output",
      "model_module_version": "1.0.0",
      "model_name": "OutputModel",
      "state": {
       "layout": "IPY_MODEL_9228bdbbe5d9433b9a7435b94c6d1119"
      }
     },
     "8dd85bda26694650a40cd0c5adc743ff": {
      "model_module": "@jupyter-widgets/controls",
      "model_module_version": "1.5.0",
      "model_name": "ButtonModel",
      "state": {
       "description": "▶",
       "layout": "IPY_MODEL_e9c121c40519492ca504c1d5554dbf09",
       "style": "IPY_MODEL_3c25c41228f649e28bfb8d394a3b1db7"
      }
     },
     "9228bdbbe5d9433b9a7435b94c6d1119": {
      "model_module": "@jupyter-widgets/base",
      "model_module_version": "1.2.0",
      "model_name": "LayoutModel",
      "state": {}
     },
     "958ef556b63740ada238029168184f47": {
      "model_module": "@jupyter-widgets/controls",
      "model_module_version": "1.5.0",
      "model_name": "ButtonModel",
      "state": {
       "description": "▶",
       "layout": "IPY_MODEL_cad4eaf5742b42d48f854f8d35d663e3",
       "style": "IPY_MODEL_6f603f19bb2d4e8ab9b44d51bbce0765"
      }
     },
     "96bc817f639345c0bfa8691dd337f85e": {
      "model_module": "@jupyter-widgets/base",
      "model_module_version": "1.2.0",
      "model_name": "LayoutModel",
      "state": {}
     },
     "989a2ea3c45b49da9f8c4752a82fe526": {
      "model_module": "@jupyter-widgets/output",
      "model_module_version": "1.0.0",
      "model_name": "OutputModel",
      "state": {
       "layout": "IPY_MODEL_e559b9a07a2546059c80e2a17bf63e62",
       "outputs": [
        {
         "data": {
          "image/png": "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\n",
          "text/plain": "<SpchFig size 720x432 with 2 Axes>"
         },
         "metadata": {},
         "output_type": "display_data"
        }
       ]
      }
     },
     "9b72937e2f1b4f5e8635f27d25313665": {
      "model_module": "@jupyter-widgets/base",
      "model_module_version": "1.2.0",
      "model_name": "LayoutModel",
      "state": {}
     },
     "a07d90a1c292441fb6e8e8e3c1adde70": {
      "model_module": "@jupyter-widgets/controls",
      "model_module_version": "1.5.0",
      "model_name": "ButtonStyleModel",
      "state": {}
     },
     "a0c32dee3d9b451a97780edd28fcc8da": {
      "model_module": "@jupyter-widgets/controls",
      "model_module_version": "1.5.0",
      "model_name": "ButtonStyleModel",
      "state": {}
     },
     "a288bda780824b3ebae7fcff6250ace7": {
      "model_module": "@jupyter-widgets/base",
      "model_module_version": "1.2.0",
      "model_name": "LayoutModel",
      "state": {}
     },
     "a4ca43e8eb1a411eb064229a4f52734b": {
      "model_module": "@jupyter-widgets/controls",
      "model_module_version": "1.5.0",
      "model_name": "ButtonModel",
      "state": {
       "description": "Clear log",
       "layout": "IPY_MODEL_9b72937e2f1b4f5e8635f27d25313665",
       "style": "IPY_MODEL_e961b7eaaa8f4c1e9fe85f402c6a9ee1"
      }
     },
     "abf260990cc34c17b4b1351a6aad0f59": {
      "model_module": "@jupyter-widgets/base",
      "model_module_version": "1.2.0",
      "model_name": "LayoutModel",
      "state": {}
     },
     "ad2b575683054098b4ae6dd1fda2da66": {
      "model_module": "@jupyter-widgets/base",
      "model_module_version": "1.2.0",
      "model_name": "LayoutModel",
      "state": {}
     },
     "ad36ca4942f34ec1bfa10e49bcf0cdbf": {
      "model_module": "@jupyter-widgets/base",
      "model_module_version": "1.2.0",
      "model_name": "LayoutModel",
      "state": {
       "border": "solid 1px black",
       "margin": "0px 10px 10px 0px",
       "padding": "5px 5px 5px 5px",
       "width": "100%"
      }
     },
     "b2dc6607e91846909f7605a1b8a086f6": {
      "model_module": "@jupyter-widgets/controls",
      "model_module_version": "1.5.0",
      "model_name": "ButtonStyleModel",
      "state": {}
     },
     "b5132784e27a48158f191a7d55d37f3a": {
      "model_module": "@jupyter-widgets/base",
      "model_module_version": "1.2.0",
      "model_name": "LayoutModel",
      "state": {}
     },
     "c339fd98537c4b5e8de797cc608640be": {
      "model_module": "@jupyter-widgets/controls",
      "model_module_version": "1.5.0",
      "model_name": "DescriptionStyleModel",
      "state": {
       "description_width": "40%"
      }
     },
     "c4a7155a5eb2403ba5f3cd48c5d244b2": {
      "model_module": "@jupyter-widgets/base",
      "model_module_version": "1.2.0",
      "model_name": "LayoutModel",
      "state": {}
     },
     "c6eee60b40b946d8acd9729118d5b7bd": {
      "model_module": "@jupyter-widgets/controls",
      "model_module_version": "1.5.0",
      "model_name": "HBoxModel",
      "state": {
       "children": [
        "IPY_MODEL_958ef556b63740ada238029168184f47",
        "IPY_MODEL_d2d3bc1041794ca988d27e73730c42dd",
        "IPY_MODEL_f95bc545736f4d21bec56425edecb388",
        "IPY_MODEL_30e45f4da0834cae8ed056182c4fe2b6",
        "IPY_MODEL_44f287488d40481bb56a9f62cf042300"
       ],
       "layout": "IPY_MODEL_3742304cc1ec41dcb2aed53a091276d7"
      }
     },
     "cad4eaf5742b42d48f854f8d35d663e3": {
      "model_module": "@jupyter-widgets/base",
      "model_module_version": "1.2.0",
      "model_name": "LayoutModel",
      "state": {
       "border": "solid 1px black",
       "height": "40px",
       "margin": "0px 10px 10px 0px",
       "padding": "5px 5px 5px 5px",
       "width": "40px"
      }
     },
     "cd3641f54bc8447d896aaac79e3acbe5": {
      "model_module": "@jupyter-widgets/controls",
      "model_module_version": "1.5.0",
      "model_name": "VBoxModel",
      "state": {
       "children": [
        "IPY_MODEL_3d99890d66de4cf28094cf741ea5091f",
        "IPY_MODEL_74b9dd656c1843cc8addbd016ba8eaf5"
       ],
       "layout": "IPY_MODEL_b5132784e27a48158f191a7d55d37f3a"
      }
     },
     "ce4bc234ff9a4fab83b5be922ded4e4f": {
      "model_module": "@jupyter-widgets/base",
      "model_module_version": "1.2.0",
      "model_name": "LayoutModel",
      "state": {
       "border": "solid 1px black",
       "margin": "0px 10px 10px 0px",
       "padding": "5px 5px 5px 5px",
       "width": "100%"
      }
     },
     "ce6521cd02444d92a8a89ef4c1f0b7cb": {
      "model_module": "@jupyter-widgets/output",
      "model_module_version": "1.0.0",
      "model_name": "OutputModel",
      "state": {
       "layout": "IPY_MODEL_0a7e5303eb0749bf83789af01488b01b"
      }
     },
     "cf75765431a84eae8cc649923aab982b": {
      "model_module": "@jupyter-widgets/controls",
      "model_module_version": "1.5.0",
      "model_name": "DescriptionStyleModel",
      "state": {
       "description_width": "40%"
      }
     },
     "d2d3bc1041794ca988d27e73730c42dd": {
      "model_module": "@jupyter-widgets/controls",
      "model_module_version": "1.5.0",
      "model_name": "ButtonModel",
      "state": {
       "description": "⭕",
       "layout": "IPY_MODEL_508761b863da4389907782503276a174",
       "style": "IPY_MODEL_a0c32dee3d9b451a97780edd28fcc8da"
      }
     },
     "e162695a499c4de291ea2f9ba05671c6": {
      "model_module": "@jupyter-widgets/base",
      "model_module_version": "1.2.0",
      "model_name": "LayoutModel",
      "state": {
       "border": "solid 1px black",
       "height": "40px",
       "margin": "0px 10px 10px 0px",
       "padding": "5px 5px 5px 5px",
       "width": "40px"
      }
     },
     "e19f7b4a541a4638a13dec9a5c71d380": {
      "model_module": "@jupyter-widgets/controls",
      "model_module_version": "1.5.0",
      "model_name": "HBoxModel",
      "state": {
       "children": [
        "IPY_MODEL_8dd85bda26694650a40cd0c5adc743ff",
        "IPY_MODEL_476d6a8b2a554a6c9f1f0802ef2f9bb1",
        "IPY_MODEL_1e6113f0f1354e13a497eb2df3d39a69",
        "IPY_MODEL_f91b781bdc724fcba317671259e1f448",
        "IPY_MODEL_0dd144922d664b59a2265d33deacf907"
       ],
       "layout": "IPY_MODEL_480267db22834fc09126476da244d5cf"
      }
     },
     "e22c257ddb48473aa655c82e1e350ba2": {
      "model_module": "@jupyter-widgets/controls",
      "model_module_version": "1.5.0",
      "model_name": "ButtonModel",
      "state": {
       "description": "Clear log",
       "layout": "IPY_MODEL_a288bda780824b3ebae7fcff6250ace7",
       "style": "IPY_MODEL_6a694acfb42741e387ac8b44d7baa6a2"
      }
     },
     "e4f32f18f5a54038bb70ab36db9a6226": {
      "model_module": "@jupyter-widgets/controls",
      "model_module_version": "1.5.0",
      "model_name": "VBoxModel",
      "state": {
       "children": [
        "IPY_MODEL_c6eee60b40b946d8acd9729118d5b7bd",
        "IPY_MODEL_a4ca43e8eb1a411eb064229a4f52734b",
        "IPY_MODEL_8611bb01ae2f41db970d88e2cffb1029"
       ],
       "layout": "IPY_MODEL_ce4bc234ff9a4fab83b5be922ded4e4f"
      }
     },
     "e559b9a07a2546059c80e2a17bf63e62": {
      "model_module": "@jupyter-widgets/base",
      "model_module_version": "1.2.0",
      "model_name": "LayoutModel",
      "state": {
       "border": "solid 1px black",
       "margin": "0px 10px 10px 0px",
       "padding": "5px 5px 5px 5px",
       "width": "100%"
      }
     },
     "e961b7eaaa8f4c1e9fe85f402c6a9ee1": {
      "model_module": "@jupyter-widgets/controls",
      "model_module_version": "1.5.0",
      "model_name": "ButtonStyleModel",
      "state": {}
     },
     "e9c121c40519492ca504c1d5554dbf09": {
      "model_module": "@jupyter-widgets/base",
      "model_module_version": "1.2.0",
      "model_name": "LayoutModel",
      "state": {
       "border": "solid 1px black",
       "height": "40px",
       "margin": "0px 10px 10px 0px",
       "padding": "5px 5px 5px 5px",
       "width": "40px"
      }
     },
     "f52ff2fd8dc2445b82a2060c542cda9e": {
      "model_module": "@jupyter-widgets/controls",
      "model_module_version": "1.5.0",
      "model_name": "DescriptionStyleModel",
      "state": {
       "description_width": "40%"
      }
     },
     "f91b781bdc724fcba317671259e1f448": {
      "model_module": "@jupyter-widgets/controls",
      "model_module_version": "1.5.0",
      "model_name": "BoundedFloatTextModel",
      "state": {
       "description": "Rec Time:",
       "layout": "IPY_MODEL_c4a7155a5eb2403ba5f3cd48c5d244b2",
       "max": 10,
       "min": 0.5,
       "step": 0.5,
       "style": "IPY_MODEL_c339fd98537c4b5e8de797cc608640be",
       "value": 2
      }
     },
     "f95bc545736f4d21bec56425edecb388": {
      "model_module": "@jupyter-widgets/controls",
      "model_module_version": "1.5.0",
      "model_name": "ButtonModel",
      "state": {
       "description": "⏸",
       "layout": "IPY_MODEL_31da56399fc14824a9472b286a351b98",
       "style": "IPY_MODEL_b2dc6607e91846909f7605a1b8a086f6"
      }
     }
    },
    "version_major": 2,
    "version_minor": 0
   }
  }
 },
 "nbformat": 4,
 "nbformat_minor": 5
}
