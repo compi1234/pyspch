{
 "cells": [
  {
   "cell_type": "markdown",
   "metadata": {},
   "source": [
    "# Harmonic Signals\n",
    "### Observe waveform and spectrum or spectrogram \n",
    "### Control frequency and amplitude of a sine - square - sawtooth signal\n",
    "\n",
    "Author: Dirk Van Compernolle   \n",
    "Created: 29/03/2021\n",
    "\n",
    "---------------------------------------------------------\n",
    "Dependencies: \n",
    "- IPython > 6.0       (works with lower version, but not fully)\n",
    "- ipywidget\n",
    "- matplotlib\n",
    "- numpy \n",
    "- scipy \n",
    "- librosa"
   ]
  },
  {
   "cell_type": "code",
   "execution_count": 1,
   "metadata": {},
   "outputs": [
    {
     "data": {
      "text/html": [
       "\n",
       "<style>\n",
       "    div#notebook-container    { width: 99%; }\n",
       "    div#menubar-container     { width: 65%; }\n",
       "    div#maintoolbar-container { width: 99%; }\n",
       "</style>\n"
      ],
      "text/plain": [
       "<IPython.core.display.HTML object>"
      ]
     },
     "metadata": {},
     "output_type": "display_data"
    }
   ],
   "source": [
    "%matplotlib inline\n",
    "import ipywidgets as widgets\n",
    "from ipywidgets import interact, interact_manual, interactive, interactive_output\n",
    "import numpy as np\n",
    "import matplotlib.pyplot as plt\n",
    "import matplotlib\n",
    "from scipy import signal\n",
    "from IPython.display import display, clear_output, Audio, HTML\n",
    "import time\n",
    "import librosa\n",
    "import spchutils.spectrogram as specg\n",
    "import spchutils.utils as spch\n",
    "\n",
    "def my_sine(x, w, amp, phi):\n",
    "    return amp*np.sin(w * (x-phi))\n",
    "#\n",
    "def synth(sigtype='sin', freq=200.0, amp=1.0, phi=0.0, sample_rate=8000, Tmax=0.25):\n",
    "    t = np.linspace(0.0, Tmax, int(Tmax*sample_rate), endpoint=False)\n",
    "    tt = 2.*np.pi*(freq*t) + phi\n",
    "    if sigtype == 'sin':\n",
    "        y = np.sin(tt)\n",
    "    elif sigtype == 'square':\n",
    "        y = signal.square(tt)\n",
    "    elif sigtype == 'sawtooth':\n",
    "        y = signal.sawtooth(tt)\n",
    "    elif sigtype == 'chirp 1:20':\n",
    "        y = signal.chirp(t,freq,Tmax,20.*freq,method='linear')\n",
    "    elif sigtype == 'chirp 20:1':\n",
    "        y = signal.chirp(t,20*freq,Tmax,freq,method='linear')\n",
    "    elif sigtype == 'gausspulse':\n",
    "        y = signal.gausspulse(t-Tmax/2.,fc=freq,bw=.4)\n",
    "    elif sigtype == 'modulated white noise':\n",
    "        y = np.random.randn(len(t))*np.sin(tt)\n",
    "    else:\n",
    "        print( 'signal: Unrecognized signal type')\n",
    "    return amp*y, t\n",
    "\n",
    "\n",
    "# a default boxed layout\n",
    "def box_layout():\n",
    "     return widgets.Layout(\n",
    "        border='solid 1px black',\n",
    "        margin='0px 10px 10px 0px',\n",
    "        padding='5px 5px 5px 5px'\n",
    "     )\n",
    "\n",
    "# The following code will increase the default width of your Jupyter notebook cells\n",
    "# Supposed to work well \n",
    "display(HTML(data=\"\"\"\n",
    "<style>\n",
    "    div#notebook-container    { width: 99%; }\n",
    "    div#menubar-container     { width: 65%; }\n",
    "    div#maintoolbar-container { width: 99%; }\n",
    "</style>\n",
    "\"\"\"))"
   ]
  },
  {
   "cell_type": "code",
   "execution_count": 6,
   "metadata": {},
   "outputs": [],
   "source": [
    "class Harmonic_Signals(widgets.HBox):\n",
    "\n",
    "    def __init__(self,Tmax=.3,sample_rate=16000,freq_range=[100.,500.]):\n",
    "        super().__init__()\n",
    "        \n",
    "        if sample_rate < 4000.:\n",
    "            print(\"WARNING: sampling rate should not be lower than 4000.0 Hz and has been reset.\")\n",
    "            sample_rate = 4000.0\n",
    "        self.sample_rate = sample_rate\n",
    "        self.nfft = 512\n",
    "        self.Tmax = Tmax        \n",
    "        display_types = ['spectrum','spectrogram']\n",
    "        signal_types = [ 'sin', 'square', 'sawtooth', 'chirp 1:20','chirp 20:1', 'gausspulse','modulated white noise']\n",
    "        \n",
    "        self.disptype = 'spectrum'\n",
    "        self.sigtype = 'sin'\n",
    "        self.freq = 110.\n",
    "        self.amp = 1.\n",
    "        self.phi = 0.\n",
    "        self.autoplay = False\n",
    "\n",
    "        # create the widgets\n",
    "        self.wg_disptype = widgets.Dropdown(options=display_types,value=self.disptype,description=\"Display\")\n",
    "        self.wg_sigtype = widgets.Dropdown(options=signal_types,value=self.sigtype,description=\"Signal\")\n",
    "        self.wg_amp = widgets.FloatLogSlider(value=self.amp,step=0.2,min=-2.,max=0.0,description='Amplitude',continous_update=False)\n",
    "        freq_step = 10. if (freq_range[1]-freq_range[0]) > 50 else 1.  \n",
    "        self.wg_freq = widgets.FloatSlider(value=self.freq,step=freq_step,min=freq_range[0],max=freq_range[1],description='Frequency',continous_update=False)\n",
    "        self.wg_phi = widgets.FloatSlider(value=self.phi,step=0.1,min=0.0,max=2.*np.pi,description='Phase',continous_update=False)\n",
    "        self.wg_autoplay = widgets.Checkbox(value=self.autoplay,description='Autoplay Audio',indent=False,button_style='warning')\n",
    "        self.wg_autoplay.layout.width='50%'\n",
    "        self.wg_clear_log = widgets.Button(description='Clear the log')\n",
    "        self.wg_clear_log.layout.width='50%'\n",
    "        \n",
    "        # link to the widget observers\n",
    "        self.wg_disptype.observe(self.disptype_observe,'value')\n",
    "        self.wg_sigtype.observe(self.sigtype_observe,'value')\n",
    "        self.wg_amp.observe(self.amp_observe,'value')    \n",
    "        self.wg_freq.observe(self.freq_observe,'value')\n",
    "        self.wg_phi.observe(self.phi_observe,'value')\n",
    "        self.wg_autoplay.observe(self.autoplay_clicked, 'value')\n",
    "        self.wg_clear_log.on_click(self.clear_log_clicked)\n",
    "\n",
    "        # setup the outputs \n",
    "        self.audio = widgets.Output()\n",
    "        self.logscr = widgets.Output()\n",
    "        self.out = widgets.Output(layout=box_layout())\n",
    "        self.UI = widgets.VBox( [self.wg_disptype,self.wg_sigtype, self.wg_amp, self.wg_freq, self.wg_phi,self.wg_autoplay],\n",
    "                                 layout=box_layout())\n",
    "        self.right_screen = widgets.VBox([self.UI, self.audio, self.wg_clear_log,  self.logscr],layout=box_layout())\n",
    "                                          \n",
    "        # initialize the plots\n",
    "        #self.fig,self.ax = plt.subplots(2,1,constrained_layout=True, figsize=(9, 4))\n",
    "        self.fig,self.ax = spch.make_row_grid(height_ratios=[1.,1.], figsize=(6, 4),dpi=100)        \n",
    "        self.update()\n",
    "        plt.close()          # avoids output of dummy figure on startup\n",
    "        # initialize the displayed function\n",
    "\n",
    "        # attach children to the VBox class\n",
    "        self.children = [ self.out, self.right_screen ] \n",
    "\n",
    "    def update(self):\n",
    "        y,x = synth(sigtype=self.sigtype,freq=self.freq,phi=self.phi,amp=self.amp,sample_rate=self.sample_rate,Tmax=self.Tmax)\n",
    "\n",
    "        ax = self.ax\n",
    "       \n",
    "        if self.disptype == 'spectrum':\n",
    "            ax[0].cla()\n",
    "            ax[1].cla()\n",
    "            spch.add_line_plot(ax[0],y,x,ylim=[-1.,1.],xlabel='Time(sec)',title='Waveform')\n",
    "            freq_ax,spec = signal.periodogram(y,fs=self.sample_rate,scaling='spectrum')\n",
    "            ax[1].plot(freq_ax,np.sqrt(2*spec))\n",
    "            ax[1].set_title('Spectrum')\n",
    "            ax[1].set_xlabel('Frequency (Hz)')\n",
    "            ax[1].set_ylim([0, 1])\n",
    "            ax[1].grid(True)\n",
    "            ax[1].set_xlim([0,self.sample_rate/2.])\n",
    "        elif self.disptype == 'spectrogram':\n",
    "            spg = specg.spectrogram(y,sample_rate=self.sample_rate,preemp=0.)\n",
    "            yax = np.arange(self.nfft/2 + 1)*(self.sample_rate/self.nfft) \n",
    "            spch.plot_spg(spg,ax=ax,wav=y,sample_rate=self.sample_rate,y=yax)\n",
    "            ax[0].set_title('Waveform')\n",
    "            ax[0].set_xlabel('')\n",
    "            ax[1].set_title('Spectrogram')\n",
    "            ax[1].set_xlabel('Time(sec)')\n",
    "            #ax[1].set_ylabel('Hz')\n",
    "\n",
    "            \n",
    "        # here come the things that go to dedicated output widgets\n",
    "        with self.out:\n",
    "            clear_output(wait=True)\n",
    "            display(self.fig)\n",
    "        with self.audio:\n",
    "            clear_output(wait=True)\n",
    "            try:\n",
    "                display(Audio(data=y,rate=self.sample_rate,normalize=False, autoplay=self.autoplay))\n",
    "            except: \n",
    "                try:\n",
    "                    with self.logscr:\n",
    "                        #clear_output(wait=True)\n",
    "                        print(\"Warning: playing normalized sound\")\n",
    "                    display(Audio(data=y,rate=self.sample_rate, autoplay=self.autoplay))\n",
    "                except: pass\n",
    "     \n",
    "    def disptype_observe(self,change):\n",
    "        self.disptype = change.new\n",
    "        self.update()\n",
    "    \n",
    "    def sigtype_observe(self,change):\n",
    "        self.sigtype = change.new\n",
    "        self.update()\n",
    "    \n",
    "    def amp_observe(self,change):\n",
    "        self.amp = change.new\n",
    "        self.update()\n",
    "        \n",
    "    def freq_observe(self,change):\n",
    "        self.freq = change.new\n",
    "        self.update()\n",
    "        \n",
    "    def phi_observe(self,change):\n",
    "        self.phi = change.new\n",
    "        self.update()\n",
    "        \n",
    "    def autoplay_clicked(self,obj):\n",
    "        self.autoplay = not self.autoplay\n",
    "        with self.logscr: print('Toggling autoplay',self.autoplay) \n",
    "\n",
    "    def clear_log_clicked(self,b):\n",
    "        with self.logscr: clear_output()                   \n",
    "\n"
   ]
  },
  {
   "cell_type": "markdown",
   "metadata": {},
   "source": [
    "## DEMO 1: Waveform and Spectrum of Harmonic Signals\n",
    "\n",
    "\n",
    "In this demo periodic signals are generated that can be characterized as a harmonic complex of sine waves.\n",
    "\n",
    "$y= A \\sum_k \\alpha_k  sin(2  \\pi k f_0 t+\\Phi)$\n",
    "\n",
    "In addition signals can be generated with either time-varying amplitude (e.g. Gaussian pulse) or time-varying frequency (e.g. chirps). \n",
    "\n",
    "You can control:\n",
    "- The fundamental frequency $f_0$  (named \"frequency\" in the control panel)  \n",
    "- The overall amplitude $A$\n",
    "- The relative amplitude of the harmonics $\\alpha_k$ by choosing from a set of predefined harmonic functions\n",
    "- The global phase $\\Phi$  (you cannot control relative phase differences per harmonic component)\n",
    "\n",
    "Signal Types to choose from:\n",
    "- stationary and periodic\n",
    "    + sine wave\n",
    "    + square \n",
    "    + sawtooth\n",
    "- non stationary signals:\n",
    "    + chirp 1:10 : ramping up the frequency by a factor of 20\n",
    "    + chirp 20:1 : ramping down the frequency by a factor of 20\n",
    "    + gausspulse\n",
    "\n",
    "    \n",
    "Displays to choose from:\n",
    "- spectrum: most appropiate for stationary signals\n",
    "- spectrogram: essential for non-stationary signals\n",
    "    \n",
    "CAVEAT:   \n",
    "+ The Autoplay function does not always work properly on Ipython < 6.0 [Google Colab] which has autonormalization by default in the display.Audio() function"
   ]
  },
  {
   "cell_type": "code",
   "execution_count": 7,
   "metadata": {},
   "outputs": [
    {
     "data": {
      "application/vnd.jupyter.widget-view+json": {
       "model_id": "cae741ecb7d54c6eb1cda3f40188aab2",
       "version_major": 2,
       "version_minor": 0
      },
      "text/plain": [
       "Harmonic_Signals(children=(Output(layout=Layout(border='solid 1px black', margin='0px 10px 10px 0px', padding=…"
      ]
     },
     "metadata": {},
     "output_type": "display_data"
    }
   ],
   "source": [
    "Harmonic_Signals(Tmax=.3,sample_rate=8000,freq_range=[2.,50.]) "
   ]
  },
  {
   "cell_type": "code",
   "execution_count": null,
   "metadata": {},
   "outputs": [],
   "source": []
  }
 ],
 "metadata": {
  "kernelspec": {
   "display_name": "Python 3",
   "language": "python",
   "name": "python3"
  },
  "language_info": {
   "codemirror_mode": {
    "name": "ipython",
    "version": 3
   },
   "file_extension": ".py",
   "mimetype": "text/x-python",
   "name": "python",
   "nbconvert_exporter": "python",
   "pygments_lexer": "ipython3",
   "version": "3.7.8"
  },
  "widgets": {
   "application/vnd.jupyter.widget-state+json": {
    "state": {
     "02b7682871a542dc82e4545231a2d9d2": {
      "model_module": "@jupyter-widgets/base",
      "model_module_version": "1.2.0",
      "model_name": "LayoutModel",
      "state": {
       "width": "50%"
      }
     },
     "0598ead6cc8743c5ad207674f0d06030": {
      "model_module": "@jupyter-widgets/base",
      "model_module_version": "1.2.0",
      "model_name": "LayoutModel",
      "state": {
       "width": "50%"
      }
     },
     "07980b862bdd4ffdb639514966ce94c1": {
      "model_module": "@jupyter-widgets/base",
      "model_module_version": "1.2.0",
      "model_name": "LayoutModel",
      "state": {}
     },
     "08721fa2976646a2a06972905f1dc67d": {
      "model_module": "@jupyter-widgets/controls",
      "model_module_version": "1.5.0",
      "model_name": "ButtonModel",
      "state": {
       "description": "Clear the log",
       "layout": "IPY_MODEL_326e8766982c407aa2196185acf5fe68",
       "style": "IPY_MODEL_a4c15949b486448189df9a1c56200cbf"
      }
     },
     "11bac54b510945af8ae1419b585ec1f1": {
      "model_module": "@jupyter-widgets/base",
      "model_module_version": "1.2.0",
      "model_name": "LayoutModel",
      "state": {}
     },
     "158953544e5c4a4bb42f2468c16b60c9": {
      "model_module": "@jupyter-widgets/base",
      "model_module_version": "1.2.0",
      "model_name": "LayoutModel",
      "state": {
       "border": "solid 1px black",
       "margin": "0px 10px 10px 0px",
       "padding": "5px 5px 5px 5px"
      }
     },
     "17bc904137a143bdbd44356cadc9fe7a": {
      "model_module": "@jupyter-widgets/controls",
      "model_module_version": "1.5.0",
      "model_name": "ButtonStyleModel",
      "state": {}
     },
     "23d8d2600cea465fbe700cd21b494ac1": {
      "model_module": "@jupyter-widgets/base",
      "model_module_version": "1.2.0",
      "model_name": "LayoutModel",
      "state": {}
     },
     "24173def967b4b37bcf4807a5cffb608": {
      "model_module": "@jupyter-widgets/controls",
      "model_module_version": "1.5.0",
      "model_name": "DescriptionStyleModel",
      "state": {
       "description_width": ""
      }
     },
     "277b23d1c29446c0a45e88c5cc16132b": {
      "model_module": "@jupyter-widgets/base",
      "model_module_version": "1.2.0",
      "model_name": "LayoutModel",
      "state": {}
     },
     "27b90d648423487baba637e6b12ec087": {
      "model_module": "@jupyter-widgets/output",
      "model_module_version": "1.0.0",
      "model_name": "OutputModel",
      "state": {
       "layout": "IPY_MODEL_7287e2ecf86040cba3250c5ad847969e",
       "outputs": [
        {
         "name": "stdout",
         "output_type": "stream",
         "text": "Toggling autoplay True\nWarning: playing normalized sound\nWarning: playing normalized sound\nWarning: playing normalized sound\nWarning: playing normalized sound\nWarning: playing normalized sound\nWarning: playing normalized sound\nWarning: playing normalized sound\nWarning: playing normalized sound\n"
        }
       ]
      }
     },
     "284a9d2d9cc6435d8a43ef2a3414ea6d": {
      "model_module": "@jupyter-widgets/controls",
      "model_module_version": "1.5.0",
      "model_name": "ButtonStyleModel",
      "state": {}
     },
     "290b7682091147de8a95be846187f51d": {
      "model_module": "@jupyter-widgets/base",
      "model_module_version": "1.2.0",
      "model_name": "LayoutModel",
      "state": {}
     },
     "2aacb5e7324c45c18c8e44d8f0f6c36e": {
      "model_module": "@jupyter-widgets/controls",
      "model_module_version": "1.5.0",
      "model_name": "SliderStyleModel",
      "state": {
       "description_width": ""
      }
     },
     "2d00bfa4adba466eb2971e90d90adf8f": {
      "model_module": "@jupyter-widgets/base",
      "model_module_version": "1.2.0",
      "model_name": "LayoutModel",
      "state": {}
     },
     "326e8766982c407aa2196185acf5fe68": {
      "model_module": "@jupyter-widgets/base",
      "model_module_version": "1.2.0",
      "model_name": "LayoutModel",
      "state": {
       "width": "50%"
      }
     },
     "329cc6ade02143a3b5dd14de5068f970": {
      "model_module": "@jupyter-widgets/base",
      "model_module_version": "1.2.0",
      "model_name": "LayoutModel",
      "state": {
       "width": "50%"
      }
     },
     "3347e00b006f42088f05ea804d4c4e6c": {
      "model_module": "@jupyter-widgets/controls",
      "model_module_version": "1.5.0",
      "model_name": "DescriptionStyleModel",
      "state": {
       "description_width": ""
      }
     },
     "34da9a14203d4a83beaefcc35ab2ea1e": {
      "model_module": "@jupyter-widgets/controls",
      "model_module_version": "1.5.0",
      "model_name": "DescriptionStyleModel",
      "state": {
       "description_width": ""
      }
     },
     "38e82ba41d5d475094382e0066dfddde": {
      "model_module": "@jupyter-widgets/controls",
      "model_module_version": "1.5.0",
      "model_name": "VBoxModel",
      "state": {
       "children": [
        "IPY_MODEL_efb0afd1cf12443c8fff7e344578580e",
        "IPY_MODEL_495524e4f4d940b8bfc6ad45f00e1822",
        "IPY_MODEL_431ce0a27faf4040981e21e8ababfe0f",
        "IPY_MODEL_9487ce24e8eb46469e331d944f994122",
        "IPY_MODEL_daa9071bf5e24c278711f812ed30d637",
        "IPY_MODEL_9400814bd342466e9287401fe0934e97"
       ],
       "layout": "IPY_MODEL_96fc4f45583e44768c41a17b7070b083"
      }
     },
     "3d615c16f3ee4b4383f42c0cc922d87e": {
      "model_module": "@jupyter-widgets/controls",
      "model_module_version": "1.5.0",
      "model_name": "DropdownModel",
      "state": {
       "_options_labels": [
        "spectrum",
        "spectrogram"
       ],
       "description": "Display",
       "index": 1,
       "layout": "IPY_MODEL_b8f9dd8711ea4b44884ed1d3f2209715",
       "style": "IPY_MODEL_e4d916279a5c4c9bbbb9d3f636e5e433"
      }
     },
     "3e82ac19e3a74ec2aa18bead3583b664": {
      "model_module": "@jupyter-widgets/controls",
      "model_module_version": "1.5.0",
      "model_name": "SliderStyleModel",
      "state": {
       "description_width": ""
      }
     },
     "431ce0a27faf4040981e21e8ababfe0f": {
      "model_module": "@jupyter-widgets/controls",
      "model_module_version": "1.5.0",
      "model_name": "FloatLogSliderModel",
      "state": {
       "description": "Amplitude",
       "layout": "IPY_MODEL_a78bdfbf3257440ab16ee99d0659b3f9",
       "max": 0,
       "min": -2,
       "step": 0.2,
       "style": "IPY_MODEL_3e82ac19e3a74ec2aa18bead3583b664",
       "value": 0.015848931924611134
      }
     },
     "44851647e36447ba897e9a4e7261c1ed": {
      "model_module": "@jupyter-widgets/base",
      "model_module_version": "1.2.0",
      "model_name": "LayoutModel",
      "state": {
       "width": "50%"
      }
     },
     "495524e4f4d940b8bfc6ad45f00e1822": {
      "model_module": "@jupyter-widgets/controls",
      "model_module_version": "1.5.0",
      "model_name": "DropdownModel",
      "state": {
       "_options_labels": [
        "sin",
        "square",
        "sawtooth",
        "chirp 1:20",
        "chirp 20:1",
        "gausspulse",
        "modulated white noise"
       ],
       "description": "Signal",
       "index": 3,
       "layout": "IPY_MODEL_ad90b72674ee4db9af45cabac8169fe1",
       "style": "IPY_MODEL_7a57ce8f6dc5463581acb501d4c75ead"
      }
     },
     "4a31bf7a16da42b5b833e09b2b1de24e": {
      "model_module": "@jupyter-widgets/controls",
      "model_module_version": "1.5.0",
      "model_name": "VBoxModel",
      "state": {
       "children": [
        "IPY_MODEL_38e82ba41d5d475094382e0066dfddde",
        "IPY_MODEL_5b16df57cae44f508a7c354d2da335c2",
        "IPY_MODEL_08721fa2976646a2a06972905f1dc67d",
        "IPY_MODEL_55a822e3bd644158bc1c0749c1d411aa"
       ],
       "layout": "IPY_MODEL_5855de66c1cc42a69d6e050b929ab9b2"
      }
     },
     "4b689017e3b64261a5481fe613f19286": {
      "model_module": "@jupyter-widgets/base",
      "model_module_version": "1.2.0",
      "model_name": "LayoutModel",
      "state": {}
     },
     "4b6f7dc42009471fb5708f6a5b535b0f": {
      "model_module": "@jupyter-widgets/output",
      "model_module_version": "1.0.0",
      "model_name": "OutputModel",
      "state": {
       "layout": "IPY_MODEL_920606b1855c4761b886e29567b1c796",
       "outputs": [
        {
         "data": {
          "text/html": "\n                <audio  controls=\"controls\" autoplay=\"autoplay\">\n                    <source src=\"data:audio/wav;base64,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\" type=\"audio/wav\" />\n                    Your browser does not support the audio element.\n                </audio>\n              ",
          "text/plain": "<IPython.lib.display.Audio object>"
         },
         "metadata": {},
         "output_type": "display_data"
        }
       ]
      }
     },
     "4e26740974664bd4b00fbc811324b8f0": {
      "model_module": "@jupyter-widgets/controls",
      "model_module_version": "1.5.0",
      "model_name": "ButtonModel",
      "state": {
       "description": "Clear the log",
       "layout": "IPY_MODEL_329cc6ade02143a3b5dd14de5068f970",
       "style": "IPY_MODEL_17bc904137a143bdbd44356cadc9fe7a"
      }
     },
     "4e4ad76d640e4dff9f9156f9c536fbe6": {
      "model_module": "@jupyter-widgets/base",
      "model_module_version": "1.2.0",
      "model_name": "LayoutModel",
      "state": {}
     },
     "55a822e3bd644158bc1c0749c1d411aa": {
      "model_module": "@jupyter-widgets/output",
      "model_module_version": "1.0.0",
      "model_name": "OutputModel",
      "state": {
       "layout": "IPY_MODEL_729b3ce6559345319e44149b940f7b18",
       "outputs": [
        {
         "name": "stdout",
         "output_type": "stream",
         "text": "Toggling autoplay True\n"
        }
       ]
      }
     },
     "5855de66c1cc42a69d6e050b929ab9b2": {
      "model_module": "@jupyter-widgets/base",
      "model_module_version": "1.2.0",
      "model_name": "LayoutModel",
      "state": {
       "border": "solid 1px black",
       "margin": "0px 10px 10px 0px",
       "padding": "5px 5px 5px 5px"
      }
     },
     "5a8267922fe54c0db8b4255f64f5908e": {
      "model_module": "@jupyter-widgets/controls",
      "model_module_version": "1.5.0",
      "model_name": "DescriptionStyleModel",
      "state": {
       "description_width": ""
      }
     },
     "5b16df57cae44f508a7c354d2da335c2": {
      "model_module": "@jupyter-widgets/output",
      "model_module_version": "1.0.0",
      "model_name": "OutputModel",
      "state": {
       "layout": "IPY_MODEL_290b7682091147de8a95be846187f51d",
       "outputs": [
        {
         "data": {
          "text/html": "\n                <audio  controls=\"controls\" autoplay=\"autoplay\">\n                    <source src=\"data:audio/wav;base64,UklGRuQSAABXQVZFZm10IBAAAAABAAEAQB8AAIA+AAACABAAZGF0YcASAAAHAgYCBAIBAv0B9wHwAegB3wHUAcgBugGrAZsBigF3AWQBTwE5ASEBCQHwANYAuwCfAIIAZQBHACkACwDt/87/sP+R/3L/VP82/xn//f7h/sf+rf6V/n7+aP5U/kL+Mv4j/hf+DP4E/v79+v35/fr9/v0E/g3+GP4l/jX+SP5d/nT+jf6o/sb+5f4G/yj/TP9x/5f/vv/l/wwANABcAIMAqgDQAPUAGAE6AVoBeAGTAa0BwwHWAecB9AH+AQQCBwIGAgEC+QHtAd0BygGzAZkBewFbATgBEgHqAMAAlABmADgACQDb/6z/ff9Q/yP/+f7Q/qr+h/5n/kv+Mv4e/g7+Av77/fn9/P0E/hH+Iv45/lP+c/6W/r3+6P4V/0X/eP+s/+H/FQBLAH8AswDlABUBQQFqAZABsQHNAeQB9QEBAgYCBgL/AfIB4AHHAagBhQFcAS8B/gDJAJIAWQAeAOT/qf9v/zf/Af/O/qD+dv5R/jL+Gf4I/v39+f39/Qj+G/40/lX+e/6o/tr+EP9L/4j/x/8GAEYAhgDDAP4ANQFnAZMBuQHZAfAB/wEGAgUC+wHoAc0BqgGAAU8BGAHcAJwAWQAUAND/jP9J/wn/zv6Y/mn+Qf4h/gv+/f35/f/9D/4p/kv+dv6p/uP+I/9n/6//+P9AAIkAzwARAU0BgwGxAdUB8AEBAgcCAQLxAdYBsQGCAUoBCwHGAHwAMADj/5b/Sv8D/8L+h/5V/i3+EP7//fn9AP4T/jL+XP6R/s7+E/9e/67///9QAKAA7AAyAXEBpgHRAfABAgIHAv4B6AHEAZUBWwEXAcwAewAnANL/ff8s/+H+nf5j/jT+Ev7//fn9A/4b/kH+dP6z/vv+TP+i//r/UwCqAPwARgGHAbwB5AH9AQcCAALqAcQBkAFQAQQBsABXAPv/n/9F//L+pv5m/jT+EP79/fr9Cf4p/ln+l/7h/jX/kf/w/08ArQAFAVMBlwHMAfEBBAIFAvQB0AGcAVkBCgGwAFAA7v+L/yz/1f6J/kv+Hf4C/vn9Bf4j/lT+lv7l/kD/o/8IAG4A0AAqAXgBuAHmAQACBgL3AdQBngFWAQEBoAA5AND/aP8H/6/+Zv4t/gn++v0A/h3+T/6T/uj+SP+x/x0AiADuAEkBlgHRAfcBBgL/AeABqwFjAQoBpQA4AMr/Xf/3/p3+VP4f/gD++v0M/jb+dv7J/iz/mP8JAHsA5wBHAZgB1QH6AQcC+gHTAZUBQgHfAHEA/f+J/xr/t/5l/ij+BP75/Qr+Nf55/tH+Of+s/yMAmQAHAWcBtAHpAQQCAwLlAa0BXQH6AIkAEACX/yP/uv5k/iX+Af76/RD+Q/6P/vH+Yv/d/1kA0QA9AZYB2AH+AQYC7wG7AWwBBwGSABQAlv8d/7L+W/4d/v39/f0d/lr+sv4f/5r/GgCbABEBdwHEAfYBBwL3AccBeQETAZsAGACV/xj/qv5S/hb++/0C/iv+c/7W/k3/0P9WANcASgGmAeYBBAIAAtcBjwEqAbEAKwCj/yD/rf5S/hT++v0E/jP+g/7u/mz/9v+AAAEBcAHFAfgBBwLvAbMBVgHhAFoAzf9D/8f+Y/4d/vz9Af4u/n7+7P5v//3/iwAPAX8B0QH+AQQC4gGaATEBsAAhAJH/CP+S/jr+Bv76/Rn+Xv7G/kf/2P9rAPYAbgHHAfsBBQLlAZwBMAGrABcAg//3/oL+Lf4A/v79KP56/u7+ev8QAKcALgGcAeYBBgL4Ab4BXQHdAEkAr/8c/5z+Pf4F/vv9IP5v/uT+cv8MAKYAMgGhAeoBBwLzAbEBRwG/ACQAh//0/nr+Jf78/QT+PP6f/iT/vv9eAPYAdgHSAQIC/wHLAWoB5gBLAKr/D/+N/i/+/v0B/jf+mv4h/7//YgD9AH4B2QEEAvsBvgFTAcYAJAB//+f+a/4Z/vn9EP5a/tD+Z/8MALIARQG1AfgBBQLbAX4B+QBYAK//Dv+G/if++/0I/kv+vv5V//7/pwA+AbMB+AEFAtgBdwHsAEYAmf/3/nL+Gv75/RP+Zf7l/ob/NQDeAG4B1AEEAvgBsgE6AZ0A7v9A/6n+Ov4A/gL+Qf61/lD/AACwAEwBwAH+AQACwwFQAbQAAgBR/7T+P/4B/gL+Qf64/lf/CgC9AFkBygECAvoBsgE0AY8A2f8m/4/+J/76/RD+Zf7u/pv/VAADAZIB7AEGAt4BdwHfACoAcP/I/kn+A/4B/kL+vv5l/yAA2ABzAd0BBgLrAY0B+QBEAIb/1/5R/gb+//0//rz+Zv8lAN8AewHiAQcC4wF8AeAAJQBk/7n+PP7+/Qn+W/7p/p7/YQAYAaYB+AECAsIBQQGRAM3/EP91/hT++v0s/qP+TP8QANIAdQHiAQcC3wFwAcoABQBB/5j+Jf75/Rz+h/4s//H/uABjAdkBBwLlAXkB0gAMAET/mP4k/vn9H/6Q/jr/AwDMAHUB5AEHAtcBXgGtAOH/Gf92/hH+/P05/r/+ef9IAAwBpQH7Af4BrgEYAVQAhP/G/jz+/P0R/nf+H//s/7sAbQHiAQcC1QFUAZsAyP/+/l/+Bv4D/lb+8f67/5AATQHSAQYC4gFrAbYA4v8R/2v+Cv4A/lD+6/62/44ATgHTAQcC3wFiAacAz//+/lz+BP4G/mP+Cv/e/7YAbwHmAQUCxwE2AW0AkP/H/jf++v0c/pf+VP8xAAUBqQH/AfYBkAHfAAUAKv93/g3+AP5U/vj+z/+tAG0B5wEFAsABJwFUAHP/q/4l/vn9Mv7E/pP/dgBEAdIBBwLWAUoBfQCY/8f+M/75/Sb+sf59/2MANwHMAQcC2gFOAX8AmP/E/jD++f0r/rv+jf92AEgB1wEHAswBNAFcAHL/pf4e/vv9Qv7m/sT/rgB1Ae4BAQKoAfcAEgAq/27+Bv4I/nb+Nv8hAAUBswEEAucBYgGRAKP/x/4u/vn9NP7T/rP/ogBwAe4BAAKjAesA//8T/1v+//0U/pX+Zv9ZADkB1AEHAsYBIQE6AEj/fv4K/gb+df48/y8AGQHCAQYC1QE5AVUAX/+M/g/+A/5s/jL/JgATAcEBBgLUATYBTwBW/4T+C/4G/nj+Rv8/ACoBzwEHAsQBFwEnAC//Z/4B/hT+nf56/3cAWQHoAQECnwHZAN//7P48/vn9NP7g/tH/zQCZAQAC6gFbAXcAd/+X/hD+BP52/kn/SQA5AdoBBQKvAe0A8P/3/kD++f02/ub+3v/dAKYBBALeAT8BTgBK/3T+Av4U/qT+jv+UAHUB9gH1AXIBjwCH/57+Ef4F/n3+W/9kAFMB6QH/AY4BswCr/7f+G/4A/mz+Rf9OAEQB4wEBApUBvQCy/7v+HP4A/m7+Sf9VAEsB5wH/AYsBqwCe/6r+FP4F/oH+Z/93AGcB8wH2AW0BfwBu/4X+Bf4T/qv+o/+0AJMBAQLfATYBNQAl/1P++v00/vH+/P8GAccBBgKxAd8Azv/K/iD+//1z/lr/bwBmAfUB8gFfAWUATv9q/v39J/7c/ub/+ADBAQcCswHeAMj/wv4a/gP+g/51/48AgAH+AeMBNwEtABf/Rf75/Ur+H/84AEEB6AH7AXQBewBd/3D+/v0p/uX++P8NAdABBAKZAa8Aj/+S/gb+F/7B/s7/6gC+AQcCrAHMAKz/pf4M/hD+sv69/9wAtwEHArEB0gCw/6f+DP4R/rX+w//kAL0BBwKpAcIAnf+X/gb+Gf7K/uD/AAHNAQQCkgGcAHT/eP7+/Sz+9f4VAC8B5QH6AWcBXQA1/0/++f1R/jj/YgBsAfwB4QElAQUA5f4j/gL+jv6X/8MArgEHAq8BxACX/43+Af4l/uz+EQAxAegB9wFYAUMAF/86/vv9cP5v/6EAmwEGArwB1gCn/5X+A/4k/uz+FQA4AewB8gFIASoA/f4r/gD+jP6c/9AAugEGApkBmABi/2T++v1L/jr/cAB+AQICzAHuALv/n/4F/iP+8P4fAEQB8wHqAS0BAQDV/hf+Df68/uP/FAHgAfkBVwE1AAD/Kf4C/pv+uf/xANABAAJwAVUAGv81/v79if6j/98AxwEDAnoBYQAj/zn+/f2G/qD/3wDIAQICdgFaABv/NP7//ZH+sf/wANIB/wFkAT8AAf8n/gX+qv7W/xEB4gH1AUMBEADY/hT+E/7V/g0AQQH1AeIBDgHP/6P+Av4u/hX/WQB7AQQCvQHDAHr/Z/75/V7+bP+2ALcBBQKBAV8AGP8u/gP+qf7c/x0B6gHtASUB5f+v/gX+LP4V/18AgwEFArEBpwBZ/0/++/1+/qT/8ADXAfkBRgEKAMn+DP4h/gL/TQB5AQUCtQGrAFn/Tf77/Yb+s/8AAeAB8wEuAen/rP4C/jT+Lf+AAJ0BBwKPAWoAF/8p/gj+w/4IAEoB/AHPAdcAgf9i/vn9df6f//MA3QHzAS0B4f+i/v/9QP5J/6IAtAEEAmwBMQDh/hH+H/4F/1wAigEHApkBcgAY/yb+DP7U/iQAZQEDArYBoQBD/zv+Av6z/v3/SAH9AcgBwQBh/0r+/f2f/uT/NgH4AdEB0QBw/1L+/P2X/tz/MAH3AdIB0gBw/1H+/P2b/uP/OAH6Ac0BxQBh/0f+//2r/vr/SwH/Ab8BqABC/zb+Bv7I/iAAagEFAqYBfAAW/yH+E/71/lcAkAEHAoEBPwDf/gv+LP4y/5wAuwEAAkkB8v+g/vz9V/6D/+0A4gHpAf0AlP9g/vv9l/7n/0MB/wG7AZoALP8n/hD+8v5bAJcBBgJwASAAwP4B/kX+av/aANwB7AECAZX/Xv78/aL++/9WAQMCqAFzAAP/Ff4j/ij/mwC/AfwBMgHK/33++f2D/tL/OQH+AbkBjQAY/xz+Hf4b/5EAuwH9ATIBx/95/vn9i/7j/0kBAgKqAXAA+/4Q/i3+Q/+9ANMB8AEDAYz/U/7//b/+KwCAAQcCdgEbALL+/f1f/qP/GQH3AcUBnAAe/xv+IP4r/6oAzAHzAQgBjf9Q/gH+y/4+AJABBgJdAfX/kv75/YH+3f9MAQQCnAFPANf+A/5L/oj/BwH0AcgBnQAa/xf+KP5C/8cA3QHlAdsAVv8w/hH+C/+QAMMB9gELAYj/Sf4F/uL+YgCrAf8BLgGw/1/+/v3F/kEAmAEDAkUBy/9v/vv9tP4sAIwBBQJRAdr/eP76/az+IwCHAQYCVAHc/3j++/2u/igAiwEFAk4B0v9w/vz9uf44AJYBAwI9Abv/Yf7//c/+VQCpAf4BIQGY/0z+Bv7x/n4AwAH0AfoAaf8z/hT+H/+yANoB4gHEADD/Gv4s/lz/7wDyAcMBgADv/gX+Uv6n/zMBAgKVAS0Aqv76/Yr+AQB4AQYCUwHN/2f+//3X/mcAuAH2AfoAYv8s/hz+O//VAOsBywGKAPP+BP5W/rX/QwEFAoABBwCK/vr9s/4/AKQB/QERAXj/NP4X/jP/0QDrAckBggDo/gH+ZP7Q/1sBBwJjAdv/af4A/uL+fgDIAeoBzQAr/xP+Pf6N/ygBAgKMARIAjP76/bz+UgCzAfUB7QBJ/x3+MP52/xcBAAKVAR0Ak/76/br+UgC1AfQB5QA+/xj+OP6K/ysBBAKCAf7/ev79/dv+fgDMAeQBtAAL/wf+Wf7L/2ABBwJNAbH/Sv4O/ib/0gDvAboBVgC4/vn9n/43AKkB9wHqAD3/Ff5A/qH/QwEGAmMByv9W/gr+G//LAO4BuQFQALD++f2t/k4AuAHvAcoAGP8I/lv+1v9uAQUCLwGE/zD+I/5p/xkBAgJ/Ae3/Z/4E/gv/wADsAboBTACo/vn9vv5pAMkB4QGgAOz+/v2C/hkAngH5AecAL/8N/lX+0v9xAQQCIQFs/yL+NP6V/0QBBwJPAaP/Ov4e/mP/GwEEAnIB0f9S/g/+O//3AP4BjAH2/2f+B/4d/9sA+AGeARAAd/4C/gn/xwDyAakBIgCC/v/9/f68AO8BrgEqAIb+/v36/roA7wGuASgAhP7//f/+wQDxAagBHAB8/gH+DP/QAPYBnQEHAG3+Bv4j/+gA/QGKAer/Wv4P/kP/CAEDAnABwv9D/h3+bf8uAQYCTAGQ/yv+Mv6h/1oBBQIdAVf/FP5S/uH/hwH8AeIAF/8C/n7+KQC0AegBmgDU/vn9uf57ANwBxAFFAJD+/v0F/9IA+QGOAeb/Uv4W/mH/KwEHAkMBff8f/kT+zf9/Af0B4gAQ/wD+jP5EAMYB2AFsAKn++/3x/sIA9gGSAej/UP4Z/m//OwEHAisBW/8S/l3+AACjAe4BowDT/vn9y/6bAOwBpwEFAF/+Ef5d/y8BBwIwAV3/Ef5h/gkAqwHpAY8Av/76/eb+vQD3AYsB1f9C/iX+mP9hAQIC8gAX///9mP5hANgBwAEtAHT+Cv5K/yQBBwI=\" type=\"audio/wav\" />\n                    Your browser does not support the audio element.\n                </audio>\n              ",
          "text/plain": "<IPython.lib.display.Audio object>"
         },
         "metadata": {},
         "output_type": "display_data"
        }
       ]
      }
     },
     "5e18b824195449cebeecff30c5b4e1f9": {
      "model_module": "@jupyter-widgets/controls",
      "model_module_version": "1.5.0",
      "model_name": "SliderStyleModel",
      "state": {
       "description_width": ""
      }
     },
     "62b6647ddaa144eb96d712e5af44dfc3": {
      "model_module": "@jupyter-widgets/controls",
      "model_module_version": "1.5.0",
      "model_name": "FloatSliderModel",
      "state": {
       "description": "Phase",
       "layout": "IPY_MODEL_23d8d2600cea465fbe700cd21b494ac1",
       "max": 6.283185307179586,
       "step": 0.1,
       "style": "IPY_MODEL_8bfe569c86b440d9a496071c3eb2739d"
      }
     },
     "62ba0575c4ec4ee0bceafd4303ea2e67": {
      "model_module": "@jupyter-widgets/controls",
      "model_module_version": "1.5.0",
      "model_name": "CheckboxModel",
      "state": {
       "description": "Autoplay Audio",
       "disabled": false,
       "indent": false,
       "layout": "IPY_MODEL_44851647e36447ba897e9a4e7261c1ed",
       "style": "IPY_MODEL_34da9a14203d4a83beaefcc35ab2ea1e",
       "value": true
      }
     },
     "64cf0dee4eca4226bd33cbc47f5acb9f": {
      "model_module": "@jupyter-widgets/controls",
      "model_module_version": "1.5.0",
      "model_name": "FloatSliderModel",
      "state": {
       "description": "Phase",
       "layout": "IPY_MODEL_aea998a4b17843c2a9031fdc5435849c",
       "max": 6.283185307179586,
       "step": 0.1,
       "style": "IPY_MODEL_dbd2e626f4db439796abbbfc50f47273"
      }
     },
     "6531c9a8c4be41178ef35d9010a5621d": {
      "model_module": "@jupyter-widgets/controls",
      "model_module_version": "1.5.0",
      "model_name": "FloatLogSliderModel",
      "state": {
       "description": "Amplitude",
       "layout": "IPY_MODEL_07980b862bdd4ffdb639514966ce94c1",
       "max": 0,
       "min": -2,
       "step": 0.2,
       "style": "IPY_MODEL_5e18b824195449cebeecff30c5b4e1f9",
       "value": 0.06309573444801933
      }
     },
     "669344aa68104fcbbe883ae907941414": {
      "model_module": "@jupyter-widgets/base",
      "model_module_version": "1.2.0",
      "model_name": "LayoutModel",
      "state": {
       "width": "50%"
      }
     },
     "6f10012354eb4a9bb11c06cb566b052f": {
      "model_module": "@jupyter-widgets/base",
      "model_module_version": "1.2.0",
      "model_name": "LayoutModel",
      "state": {}
     },
     "7287e2ecf86040cba3250c5ad847969e": {
      "model_module": "@jupyter-widgets/base",
      "model_module_version": "1.2.0",
      "model_name": "LayoutModel",
      "state": {}
     },
     "729b3ce6559345319e44149b940f7b18": {
      "model_module": "@jupyter-widgets/base",
      "model_module_version": "1.2.0",
      "model_name": "LayoutModel",
      "state": {}
     },
     "72adf379979a49fb8a98caf1ee9f8dc7": {
      "model_module": "@jupyter-widgets/base",
      "model_module_version": "1.2.0",
      "model_name": "LayoutModel",
      "state": {}
     },
     "774a34b461cd47cf81e74b14ab69b746": {
      "model_module": "@jupyter-widgets/base",
      "model_module_version": "1.2.0",
      "model_name": "LayoutModel",
      "state": {}
     },
     "77522c68f579468d87374e338faf7640": {
      "model_module": "@jupyter-widgets/output",
      "model_module_version": "1.0.0",
      "model_name": "OutputModel",
      "state": {
       "layout": "IPY_MODEL_d672b21922da4494aaa49242807026ab",
       "outputs": [
        {
         "data": {
          "image/png": "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\n",
          "text/plain": "<Figure size 600x400 with 2 Axes>"
         },
         "metadata": {},
         "output_type": "display_data"
        }
       ]
      }
     },
     "77a8e61e4c6b4122b851744e93244d5b": {
      "model_module": "@jupyter-widgets/controls",
      "model_module_version": "1.5.0",
      "model_name": "CheckboxModel",
      "state": {
       "description": "Autoplay Audio",
       "disabled": false,
       "indent": false,
       "layout": "IPY_MODEL_669344aa68104fcbbe883ae907941414",
       "style": "IPY_MODEL_78ec37b8004e4897a80d66277811fd5f",
       "value": true
      }
     },
     "785262600b9843299be445d0ad66725f": {
      "model_module": "@jupyter-widgets/base",
      "model_module_version": "1.2.0",
      "model_name": "LayoutModel",
      "state": {}
     },
     "78ec37b8004e4897a80d66277811fd5f": {
      "model_module": "@jupyter-widgets/controls",
      "model_module_version": "1.5.0",
      "model_name": "DescriptionStyleModel",
      "state": {
       "description_width": ""
      }
     },
     "79e05864a091450683aa11038629a2a8": {
      "model_module": "@jupyter-widgets/controls",
      "model_module_version": "1.5.0",
      "model_name": "SliderStyleModel",
      "state": {
       "description_width": ""
      }
     },
     "7a57ce8f6dc5463581acb501d4c75ead": {
      "model_module": "@jupyter-widgets/controls",
      "model_module_version": "1.5.0",
      "model_name": "DescriptionStyleModel",
      "state": {
       "description_width": ""
      }
     },
     "80df49ab8a94471bbe616ef6ea93d01f": {
      "model_module": "@jupyter-widgets/controls",
      "model_module_version": "1.5.0",
      "model_name": "HBoxModel",
      "state": {
       "children": [
        "IPY_MODEL_77522c68f579468d87374e338faf7640",
        "IPY_MODEL_af4944b77071456995138291345169fe"
       ],
       "layout": "IPY_MODEL_f19191b8f1db4271bf271fdec1434100"
      }
     },
     "82674f319af648aab2a947791be6dd48": {
      "model_module": "@jupyter-widgets/base",
      "model_module_version": "1.2.0",
      "model_name": "LayoutModel",
      "state": {
       "border": "solid 1px black",
       "margin": "0px 10px 10px 0px",
       "padding": "5px 5px 5px 5px"
      }
     },
     "8651c2ac80ca4e42b82acee0509e17c2": {
      "model_module": "@jupyter-widgets/output",
      "model_module_version": "1.0.0",
      "model_name": "OutputModel",
      "state": {
       "layout": "IPY_MODEL_4e4ad76d640e4dff9f9156f9c536fbe6"
      }
     },
     "8bfe569c86b440d9a496071c3eb2739d": {
      "model_module": "@jupyter-widgets/controls",
      "model_module_version": "1.5.0",
      "model_name": "SliderStyleModel",
      "state": {
       "description_width": ""
      }
     },
     "920606b1855c4761b886e29567b1c796": {
      "model_module": "@jupyter-widgets/base",
      "model_module_version": "1.2.0",
      "model_name": "LayoutModel",
      "state": {}
     },
     "9400814bd342466e9287401fe0934e97": {
      "model_module": "@jupyter-widgets/controls",
      "model_module_version": "1.5.0",
      "model_name": "CheckboxModel",
      "state": {
       "description": "Autoplay Audio",
       "disabled": false,
       "indent": false,
       "layout": "IPY_MODEL_0598ead6cc8743c5ad207674f0d06030",
       "style": "IPY_MODEL_3347e00b006f42088f05ea804d4c4e6c",
       "value": true
      }
     },
     "9487ce24e8eb46469e331d944f994122": {
      "model_module": "@jupyter-widgets/controls",
      "model_module_version": "1.5.0",
      "model_name": "FloatSliderModel",
      "state": {
       "description": "Frequency",
       "layout": "IPY_MODEL_2d00bfa4adba466eb2971e90d90adf8f",
       "max": 500,
       "min": 1,
       "step": 10,
       "style": "IPY_MODEL_79e05864a091450683aa11038629a2a8",
       "value": 61
      }
     },
     "96fc4f45583e44768c41a17b7070b083": {
      "model_module": "@jupyter-widgets/base",
      "model_module_version": "1.2.0",
      "model_name": "LayoutModel",
      "state": {
       "border": "solid 1px black",
       "margin": "0px 10px 10px 0px",
       "padding": "5px 5px 5px 5px"
      }
     },
     "97ab4f5a738944559b1bf9af8845ece4": {
      "model_module": "@jupyter-widgets/base",
      "model_module_version": "1.2.0",
      "model_name": "LayoutModel",
      "state": {}
     },
     "98502cb0a9bd4c27be4a0b62c5d1c3ea": {
      "model_module": "@jupyter-widgets/controls",
      "model_module_version": "1.5.0",
      "model_name": "FloatLogSliderModel",
      "state": {
       "description": "Amplitude",
       "layout": "IPY_MODEL_97ab4f5a738944559b1bf9af8845ece4",
       "max": 0,
       "min": -2,
       "step": 0.2,
       "style": "IPY_MODEL_d91b7a7a3e2c4b3380e9602481a4351e"
      }
     },
     "a493f5c825534cfc90945c4023c4f076": {
      "model_module": "@jupyter-widgets/output",
      "model_module_version": "1.0.0",
      "model_name": "OutputModel",
      "state": {
       "layout": "IPY_MODEL_11bac54b510945af8ae1419b585ec1f1",
       "outputs": [
        {
         "data": {
          "text/html": "\n                <audio  controls=\"controls\" autoplay=\"autoplay\">\n                    <source src=\"data:audio/wav;base64,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\" type=\"audio/wav\" />\n                    Your browser does not support the audio element.\n                </audio>\n              ",
          "text/plain": "<IPython.lib.display.Audio object>"
         },
         "metadata": {},
         "output_type": "display_data"
        }
       ]
      }
     },
     "a4c15949b486448189df9a1c56200cbf": {
      "model_module": "@jupyter-widgets/controls",
      "model_module_version": "1.5.0",
      "model_name": "ButtonStyleModel",
      "state": {}
     },
     "a78bdfbf3257440ab16ee99d0659b3f9": {
      "model_module": "@jupyter-widgets/base",
      "model_module_version": "1.2.0",
      "model_name": "LayoutModel",
      "state": {}
     },
     "a830008623f14a8fbf55be713281a5d0": {
      "model_module": "@jupyter-widgets/base",
      "model_module_version": "1.2.0",
      "model_name": "LayoutModel",
      "state": {}
     },
     "a878c3ece3a34fdbac7f1ba7421dd09a": {
      "model_module": "@jupyter-widgets/controls",
      "model_module_version": "1.5.0",
      "model_name": "DescriptionStyleModel",
      "state": {
       "description_width": ""
      }
     },
     "acba4482de4d4fb691c2c2789365fe2c": {
      "model_module": "@jupyter-widgets/output",
      "model_module_version": "1.0.0",
      "model_name": "OutputModel",
      "state": {
       "layout": "IPY_MODEL_158953544e5c4a4bb42f2468c16b60c9",
       "outputs": [
        {
         "data": {
          "image/png": "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\n",
          "text/plain": "<Figure size 600x400 with 2 Axes>"
         },
         "metadata": {},
         "output_type": "display_data"
        }
       ]
      }
     },
     "ad90b72674ee4db9af45cabac8169fe1": {
      "model_module": "@jupyter-widgets/base",
      "model_module_version": "1.2.0",
      "model_name": "LayoutModel",
      "state": {}
     },
     "aea998a4b17843c2a9031fdc5435849c": {
      "model_module": "@jupyter-widgets/base",
      "model_module_version": "1.2.0",
      "model_name": "LayoutModel",
      "state": {}
     },
     "af19d44ee4d54bf9b166b27ecb85e8fd": {
      "model_module": "@jupyter-widgets/controls",
      "model_module_version": "1.5.0",
      "model_name": "SliderStyleModel",
      "state": {
       "description_width": ""
      }
     },
     "af4944b77071456995138291345169fe": {
      "model_module": "@jupyter-widgets/controls",
      "model_module_version": "1.5.0",
      "model_name": "VBoxModel",
      "state": {
       "children": [
        "IPY_MODEL_ead55e08cf3445409e0e49927d18f68b",
        "IPY_MODEL_4b6f7dc42009471fb5708f6a5b535b0f",
        "IPY_MODEL_c9de0a2454e44eedb9f08e4a2f17e2fb",
        "IPY_MODEL_27b90d648423487baba637e6b12ec087"
       ],
       "layout": "IPY_MODEL_c332ab00a511475b8f8d10f33064b093"
      }
     },
     "b8f9dd8711ea4b44884ed1d3f2209715": {
      "model_module": "@jupyter-widgets/base",
      "model_module_version": "1.2.0",
      "model_name": "LayoutModel",
      "state": {}
     },
     "b92bbc1642f14ff8ba590391a5c6a544": {
      "model_module": "@jupyter-widgets/controls",
      "model_module_version": "1.5.0",
      "model_name": "VBoxModel",
      "state": {
       "children": [
        "IPY_MODEL_ec82dee3c4c24f6f95703d7ff64edaa1",
        "IPY_MODEL_a493f5c825534cfc90945c4023c4f076",
        "IPY_MODEL_4e26740974664bd4b00fbc811324b8f0",
        "IPY_MODEL_8651c2ac80ca4e42b82acee0509e17c2"
       ],
       "layout": "IPY_MODEL_e4d7a7132ac747ba838e81946b852158"
      }
     },
     "bb79a4f0d2684c04aaf5c11b4295fe45": {
      "model_module": "@jupyter-widgets/controls",
      "model_module_version": "1.5.0",
      "model_name": "DropdownModel",
      "state": {
       "_options_labels": [
        "sin",
        "square",
        "sawtooth",
        "chirp 1:20",
        "chirp 20:1",
        "gausspulse",
        "modulated white noise"
       ],
       "description": "Signal",
       "index": 6,
       "layout": "IPY_MODEL_6f10012354eb4a9bb11c06cb566b052f",
       "style": "IPY_MODEL_24173def967b4b37bcf4807a5cffb608"
      }
     },
     "bcfdd46eb1754f9692d0a16de3de06f9": {
      "model_module": "@jupyter-widgets/base",
      "model_module_version": "1.2.0",
      "model_name": "LayoutModel",
      "state": {}
     },
     "bf20cc4c3acd4627bea6ece25a8a7a68": {
      "model_module": "@jupyter-widgets/base",
      "model_module_version": "1.2.0",
      "model_name": "LayoutModel",
      "state": {
       "border": "solid 1px black",
       "margin": "0px 10px 10px 0px",
       "padding": "5px 5px 5px 5px"
      }
     },
     "bfc8b6341d3b4b36a7108d533bb1f2be": {
      "model_module": "@jupyter-widgets/controls",
      "model_module_version": "1.5.0",
      "model_name": "FloatSliderModel",
      "state": {
       "description": "Frequency",
       "layout": "IPY_MODEL_4b689017e3b64261a5481fe613f19286",
       "max": 50,
       "min": 2,
       "step": 10,
       "style": "IPY_MODEL_af19d44ee4d54bf9b166b27ecb85e8fd",
       "value": 22
      }
     },
     "c17cb40bda4246cfa9e9b4530fb6e9a8": {
      "model_module": "@jupyter-widgets/controls",
      "model_module_version": "1.5.0",
      "model_name": "DropdownModel",
      "state": {
       "_options_labels": [
        "spectrum",
        "spectrogram"
       ],
       "description": "Display",
       "index": 0,
       "layout": "IPY_MODEL_277b23d1c29446c0a45e88c5cc16132b",
       "style": "IPY_MODEL_daf2cec1bea944529b4048eac8e0953d"
      }
     },
     "c332ab00a511475b8f8d10f33064b093": {
      "model_module": "@jupyter-widgets/base",
      "model_module_version": "1.2.0",
      "model_name": "LayoutModel",
      "state": {
       "border": "solid 1px black",
       "margin": "0px 10px 10px 0px",
       "padding": "5px 5px 5px 5px"
      }
     },
     "c3583313e2d4475a8d1bf88625c0aee4": {
      "model_module": "@jupyter-widgets/controls",
      "model_module_version": "1.5.0",
      "model_name": "SliderStyleModel",
      "state": {
       "description_width": ""
      }
     },
     "c772883eb1cd48ec836742a7eb69e018": {
      "model_module": "@jupyter-widgets/output",
      "model_module_version": "1.0.0",
      "model_name": "OutputModel",
      "state": {
       "layout": "IPY_MODEL_82674f319af648aab2a947791be6dd48",
       "outputs": [
        {
         "data": {
          "image/png": "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\n",
          "text/plain": "<Figure size 600x400 with 2 Axes>"
         },
         "metadata": {},
         "output_type": "display_data"
        }
       ]
      }
     },
     "c9de0a2454e44eedb9f08e4a2f17e2fb": {
      "model_module": "@jupyter-widgets/controls",
      "model_module_version": "1.5.0",
      "model_name": "ButtonModel",
      "state": {
       "description": "Clear the log",
       "layout": "IPY_MODEL_02b7682871a542dc82e4545231a2d9d2",
       "style": "IPY_MODEL_284a9d2d9cc6435d8a43ef2a3414ea6d"
      }
     },
     "cae741ecb7d54c6eb1cda3f40188aab2": {
      "model_module": "@jupyter-widgets/controls",
      "model_module_version": "1.5.0",
      "model_name": "HBoxModel",
      "state": {
       "children": [
        "IPY_MODEL_acba4482de4d4fb691c2c2789365fe2c",
        "IPY_MODEL_b92bbc1642f14ff8ba590391a5c6a544"
       ],
       "layout": "IPY_MODEL_72adf379979a49fb8a98caf1ee9f8dc7"
      }
     },
     "cb920b93f64948edab3c343aae16744a": {
      "model_module": "@jupyter-widgets/controls",
      "model_module_version": "1.5.0",
      "model_name": "FloatSliderModel",
      "state": {
       "description": "Frequency",
       "layout": "IPY_MODEL_785262600b9843299be445d0ad66725f",
       "max": 50,
       "min": 2,
       "style": "IPY_MODEL_c3583313e2d4475a8d1bf88625c0aee4",
       "value": 4
      }
     },
     "ccfb3541ec3f41a0a065498394630f65": {
      "model_module": "@jupyter-widgets/base",
      "model_module_version": "1.2.0",
      "model_name": "LayoutModel",
      "state": {}
     },
     "d672b21922da4494aaa49242807026ab": {
      "model_module": "@jupyter-widgets/base",
      "model_module_version": "1.2.0",
      "model_name": "LayoutModel",
      "state": {
       "border": "solid 1px black",
       "margin": "0px 10px 10px 0px",
       "padding": "5px 5px 5px 5px"
      }
     },
     "d91b7a7a3e2c4b3380e9602481a4351e": {
      "model_module": "@jupyter-widgets/controls",
      "model_module_version": "1.5.0",
      "model_name": "SliderStyleModel",
      "state": {
       "description_width": ""
      }
     },
     "daa9071bf5e24c278711f812ed30d637": {
      "model_module": "@jupyter-widgets/controls",
      "model_module_version": "1.5.0",
      "model_name": "FloatSliderModel",
      "state": {
       "description": "Phase",
       "layout": "IPY_MODEL_ccfb3541ec3f41a0a065498394630f65",
       "max": 6.283185307179586,
       "step": 0.1,
       "style": "IPY_MODEL_2aacb5e7324c45c18c8e44d8f0f6c36e",
       "value": 4.1
      }
     },
     "daf2cec1bea944529b4048eac8e0953d": {
      "model_module": "@jupyter-widgets/controls",
      "model_module_version": "1.5.0",
      "model_name": "DescriptionStyleModel",
      "state": {
       "description_width": ""
      }
     },
     "dbd2e626f4db439796abbbfc50f47273": {
      "model_module": "@jupyter-widgets/controls",
      "model_module_version": "1.5.0",
      "model_name": "SliderStyleModel",
      "state": {
       "description_width": ""
      }
     },
     "e33bbc6250e741b6836ebaf8aa89512a": {
      "model_module": "@jupyter-widgets/base",
      "model_module_version": "1.2.0",
      "model_name": "LayoutModel",
      "state": {
       "border": "solid 1px black",
       "margin": "0px 10px 10px 0px",
       "padding": "5px 5px 5px 5px"
      }
     },
     "e4d7a7132ac747ba838e81946b852158": {
      "model_module": "@jupyter-widgets/base",
      "model_module_version": "1.2.0",
      "model_name": "LayoutModel",
      "state": {
       "border": "solid 1px black",
       "margin": "0px 10px 10px 0px",
       "padding": "5px 5px 5px 5px"
      }
     },
     "e4d916279a5c4c9bbbb9d3f636e5e433": {
      "model_module": "@jupyter-widgets/controls",
      "model_module_version": "1.5.0",
      "model_name": "DescriptionStyleModel",
      "state": {
       "description_width": ""
      }
     },
     "e526166c0d9041499aca49998cab116a": {
      "model_module": "@jupyter-widgets/controls",
      "model_module_version": "1.5.0",
      "model_name": "DropdownModel",
      "state": {
       "_options_labels": [
        "sin",
        "square",
        "sawtooth",
        "chirp 1:20",
        "chirp 20:1",
        "gausspulse",
        "modulated white noise"
       ],
       "description": "Signal",
       "index": 6,
       "layout": "IPY_MODEL_774a34b461cd47cf81e74b14ab69b746",
       "style": "IPY_MODEL_a878c3ece3a34fdbac7f1ba7421dd09a"
      }
     },
     "e58d6b49b9854b3ea82041377169e209": {
      "model_module": "@jupyter-widgets/controls",
      "model_module_version": "1.5.0",
      "model_name": "HBoxModel",
      "state": {
       "children": [
        "IPY_MODEL_c772883eb1cd48ec836742a7eb69e018",
        "IPY_MODEL_4a31bf7a16da42b5b833e09b2b1de24e"
       ],
       "layout": "IPY_MODEL_bcfdd46eb1754f9692d0a16de3de06f9"
      }
     },
     "ead55e08cf3445409e0e49927d18f68b": {
      "model_module": "@jupyter-widgets/controls",
      "model_module_version": "1.5.0",
      "model_name": "VBoxModel",
      "state": {
       "children": [
        "IPY_MODEL_c17cb40bda4246cfa9e9b4530fb6e9a8",
        "IPY_MODEL_e526166c0d9041499aca49998cab116a",
        "IPY_MODEL_98502cb0a9bd4c27be4a0b62c5d1c3ea",
        "IPY_MODEL_bfc8b6341d3b4b36a7108d533bb1f2be",
        "IPY_MODEL_64cf0dee4eca4226bd33cbc47f5acb9f",
        "IPY_MODEL_62ba0575c4ec4ee0bceafd4303ea2e67"
       ],
       "layout": "IPY_MODEL_e33bbc6250e741b6836ebaf8aa89512a"
      }
     },
     "ec82dee3c4c24f6f95703d7ff64edaa1": {
      "model_module": "@jupyter-widgets/controls",
      "model_module_version": "1.5.0",
      "model_name": "VBoxModel",
      "state": {
       "children": [
        "IPY_MODEL_3d615c16f3ee4b4383f42c0cc922d87e",
        "IPY_MODEL_bb79a4f0d2684c04aaf5c11b4295fe45",
        "IPY_MODEL_6531c9a8c4be41178ef35d9010a5621d",
        "IPY_MODEL_cb920b93f64948edab3c343aae16744a",
        "IPY_MODEL_62b6647ddaa144eb96d712e5af44dfc3",
        "IPY_MODEL_77a8e61e4c6b4122b851744e93244d5b"
       ],
       "layout": "IPY_MODEL_bf20cc4c3acd4627bea6ece25a8a7a68"
      }
     },
     "efb0afd1cf12443c8fff7e344578580e": {
      "model_module": "@jupyter-widgets/controls",
      "model_module_version": "1.5.0",
      "model_name": "DropdownModel",
      "state": {
       "_options_labels": [
        "spectrum",
        "spectrogram"
       ],
       "description": "Display",
       "index": 0,
       "layout": "IPY_MODEL_a830008623f14a8fbf55be713281a5d0",
       "style": "IPY_MODEL_5a8267922fe54c0db8b4255f64f5908e"
      }
     },
     "f19191b8f1db4271bf271fdec1434100": {
      "model_module": "@jupyter-widgets/base",
      "model_module_version": "1.2.0",
      "model_name": "LayoutModel",
      "state": {}
     }
    },
    "version_major": 2,
    "version_minor": 0
   }
  }
 },
 "nbformat": 4,
 "nbformat_minor": 4
}
