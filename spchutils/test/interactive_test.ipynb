{
 "cells": [
  {
   "cell_type": "markdown",
   "metadata": {},
   "source": [
    "# Harmonic Signals\n",
    "### Observe waveform and spectrum or spectrogram \n",
    "### Control frequency and amplitude of a sine - square - sawtooth signal\n",
    "\n",
    "Author: Dirk Van Compernolle   \n",
    "Created: 29/03/2021\n",
    "\n",
    "---------------------------------------------------------\n",
    "Dependencies: \n",
    "- IPython > 6.0       (works with lower version, but not fully)\n",
    "- ipywidget\n",
    "- matplotlib\n",
    "- numpy \n",
    "- scipy \n",
    "- librosa"
   ]
  },
  {
   "cell_type": "code",
   "execution_count": 1,
   "metadata": {},
   "outputs": [
    {
     "data": {
      "text/html": [
       "\n",
       "<style>\n",
       "    div#notebook-container    { width: 99%; }\n",
       "    div#menubar-container     { width: 65%; }\n",
       "    div#maintoolbar-container { width: 99%; }\n",
       "</style>\n"
      ],
      "text/plain": [
       "<IPython.core.display.HTML object>"
      ]
     },
     "metadata": {},
     "output_type": "display_data"
    }
   ],
   "source": [
    "%matplotlib inline\n",
    "import ipywidgets as widgets\n",
    "from ipywidgets import interact, interact_manual, interactive, interactive_output\n",
    "import numpy as np\n",
    "import matplotlib.pyplot as plt\n",
    "import matplotlib\n",
    "from scipy import signal\n",
    "from IPython.display import display, clear_output, Audio, HTML\n",
    "import time\n",
    "import librosa\n",
    "import spchutils.spectrogram as specg\n",
    "import spchutils.utils as spch\n",
    "\n",
    "def my_sine(x, w, amp, phi):\n",
    "    return amp*np.sin(w * (x-phi))\n",
    "#\n",
    "def synth(sigtype='sin', freq=200.0, amp=1.0, phi=0.0, sample_rate=8000, Tmax=0.25):\n",
    "    t = np.linspace(0.0, Tmax, int(Tmax*sample_rate), endpoint=False)\n",
    "    tt = 2.*np.pi*(freq*t) + phi\n",
    "    if sigtype == 'sin':\n",
    "        y = np.sin(tt)\n",
    "    elif sigtype == 'square':\n",
    "        y = signal.square(tt)\n",
    "    elif sigtype == 'sawtooth':\n",
    "        y = signal.sawtooth(tt)\n",
    "    elif sigtype == 'chirp 1:20':\n",
    "        y = signal.chirp(t,freq,Tmax,20.*freq,method='linear')\n",
    "    elif sigtype == 'chirp 20:1':\n",
    "        y = signal.chirp(t,20*freq,Tmax,freq,method='linear')\n",
    "    elif sigtype == 'gausspulse':\n",
    "        y = signal.gausspulse(t-Tmax/2.,fc=freq,bw=.4)\n",
    "    elif sigtype == 'modulated white noise':\n",
    "        y = np.random.randn(len(t))*np.sin(tt)\n",
    "    else:\n",
    "        print( 'signal: Unrecognized signal type')\n",
    "    return amp*y, t\n",
    "\n",
    "\n",
    "# a default boxed layout\n",
    "def box_layout():\n",
    "     return widgets.Layout(\n",
    "        border='solid 1px black',\n",
    "        margin='0px 10px 10px 0px',\n",
    "        padding='5px 5px 5px 5px'\n",
    "     )\n",
    "\n",
    "# The following code will increase the default width of your Jupyter notebook cells\n",
    "# Supposed to work well \n",
    "display(HTML(data=\"\"\"\n",
    "<style>\n",
    "    div#notebook-container    { width: 99%; }\n",
    "    div#menubar-container     { width: 65%; }\n",
    "    div#maintoolbar-container { width: 99%; }\n",
    "</style>\n",
    "\"\"\"))"
   ]
  },
  {
   "cell_type": "code",
   "execution_count": 2,
   "metadata": {},
   "outputs": [],
   "source": [
    "class Harmonic_Signals(widgets.HBox):\n",
    "\n",
    "    def __init__(self,Tmax=.3,sample_rate=16000,freq_range=[100.,500.]):\n",
    "        super().__init__()\n",
    "        \n",
    "        if sample_rate < 4000.:\n",
    "            print(\"WARNING: sampling rate should not be lower than 4000.0 Hz and has been reset.\")\n",
    "            sample_rate = 4000.0\n",
    "        self.sample_rate = sample_rate\n",
    "        self.nfft = 512\n",
    "        self.Tmax = Tmax        \n",
    "        display_types = ['spectrum','spectrogram']\n",
    "        signal_types = [ 'sin', 'square', 'sawtooth', 'chirp 1:20','chirp 20:1', 'gausspulse','modulated white noise']\n",
    "        \n",
    "        self.disptype = 'spectrum'\n",
    "        self.sigtype = 'sin'\n",
    "        self.freq = 110.\n",
    "        self.amp = 1.\n",
    "        self.phi = 0.\n",
    "        self.autoplay = False\n",
    "\n",
    "        # create the widgets\n",
    "        self.wg_disptype = widgets.Dropdown(options=display_types,value=self.disptype,description=\"Display\")\n",
    "        self.wg_sigtype = widgets.Dropdown(options=signal_types,value=self.sigtype,description=\"Signal\")\n",
    "        self.wg_amp = widgets.FloatLogSlider(value=self.amp,step=0.2,min=-2.,max=0.0,description='Amplitude',continous_update=False)\n",
    "        self.wg_freq = widgets.FloatSlider(value=self.freq,step=10.,min=freq_range[0],max=freq_range[1],description='Frequency',continous_update=False)\n",
    "        self.wg_phi = widgets.FloatSlider(value=self.phi,step=0.1,min=0.0,max=2.*np.pi,description='Phase',continous_update=False)\n",
    "        self.wg_autoplay = widgets.Checkbox(value=self.autoplay,description='Autoplay Audio',indent=False,button_style='warning')\n",
    "        self.wg_autoplay.layout.width='50%'\n",
    "        self.wg_clear_log = widgets.Button(description='Clear the log')\n",
    "        self.wg_clear_log.layout.width='50%'\n",
    "        \n",
    "        # link to the widget observers\n",
    "        self.wg_disptype.observe(self.disptype_observe,'value')\n",
    "        self.wg_sigtype.observe(self.sigtype_observe,'value')\n",
    "        self.wg_amp.observe(self.amp_observe,'value')    \n",
    "        self.wg_freq.observe(self.freq_observe,'value')\n",
    "        self.wg_phi.observe(self.phi_observe,'value')\n",
    "        self.wg_autoplay.observe(self.autoplay_clicked, 'value')\n",
    "        self.wg_clear_log.on_click(self.clear_log_clicked)\n",
    "\n",
    "        # setup the outputs \n",
    "        self.audio = widgets.Output()\n",
    "        self.logscr = widgets.Output()\n",
    "        self.out = widgets.Output(layout=box_layout())\n",
    "        self.UI = widgets.VBox( [self.wg_disptype,self.wg_sigtype, self.wg_amp, self.wg_freq, self.wg_phi,self.wg_autoplay],\n",
    "                                 layout=box_layout())\n",
    "        self.right_screen = widgets.VBox([self.UI, self.audio, self.wg_clear_log,  self.logscr],layout=box_layout())\n",
    "                                          \n",
    "        # initialize the plots\n",
    "        #self.fig,self.ax = plt.subplots(2,1,constrained_layout=True, figsize=(9, 4))\n",
    "        self.fig,self.ax = spch.make_row_grid(height_ratios=[1.,1.], figsize=(6, 4),dpi=100)        \n",
    "        self.update()\n",
    "        plt.close()          # avoids output of dummy figure on startup\n",
    "        # initialize the displayed function\n",
    "\n",
    "        # attach children to the VBox class\n",
    "        self.children = [ self.out, self.right_screen ] \n",
    "\n",
    "    def update(self):\n",
    "        y,x = synth(sigtype=self.sigtype,freq=self.freq,phi=self.phi,amp=self.amp,sample_rate=self.sample_rate,Tmax=self.Tmax)\n",
    "\n",
    "        ax = self.ax\n",
    "       \n",
    "        if self.disptype == 'spectrum':\n",
    "            ax[0].cla()\n",
    "            ax[1].cla()\n",
    "            spch.add_line_plot(ax[0],y,x,ylim=[-1.,1.],xlabel='Time(sec)',title='Waveform')\n",
    "            freq_ax,spec = signal.periodogram(y,fs=self.sample_rate,scaling='spectrum')\n",
    "            ax[1].plot(freq_ax,np.sqrt(2*spec))\n",
    "            ax[1].set_title('Spectrum')\n",
    "            ax[1].set_xlabel('Frequency (Hz)')\n",
    "            ax[1].set_ylim([0, 1])\n",
    "            ax[1].grid(True)\n",
    "            ax[1].set_xlim([0,self.sample_rate/2.])\n",
    "        elif self.disptype == 'spectrogram':\n",
    "            spg = specg.spectrogram(y,sample_rate=self.sample_rate,preemp=0.)\n",
    "            yax = np.arange(self.nfft/2 + 1)*(self.sample_rate/self.nfft) \n",
    "            spch.plot_spg(spg,ax=ax,wav=y,sample_rate=self.sample_rate,y=yax)\n",
    "            ax[0].set_title('Waveform')\n",
    "            ax[0].set_xlabel('')\n",
    "            ax[1].set_title('Spectrogram')\n",
    "            ax[1].set_xlabel('Time(sec)')\n",
    "            #ax[1].set_ylabel('Hz')\n",
    "\n",
    "            \n",
    "        # here come the things that go to dedicated output widgets\n",
    "        with self.out:\n",
    "            clear_output(wait=True)\n",
    "            display(self.fig)\n",
    "        with self.audio:\n",
    "            clear_output(wait=True)\n",
    "            try:\n",
    "                display(Audio(data=y,rate=self.sample_rate,normalize=False, autoplay=self.autoplay))\n",
    "            except: \n",
    "                try:\n",
    "                    with self.logscr:\n",
    "                        #clear_output(wait=True)\n",
    "                        print(\"Warning: playing normalized sound\")\n",
    "                    display(Audio(data=y,rate=self.sample_rate, autoplay=self.autoplay))\n",
    "                except: pass\n",
    "     \n",
    "    def disptype_observe(self,change):\n",
    "        self.disptype = change.new\n",
    "        self.update()\n",
    "    \n",
    "    def sigtype_observe(self,change):\n",
    "        self.sigtype = change.new\n",
    "        self.update()\n",
    "    \n",
    "    def amp_observe(self,change):\n",
    "        self.amp = change.new\n",
    "        self.update()\n",
    "        \n",
    "    def freq_observe(self,change):\n",
    "        self.freq = change.new\n",
    "        self.update()\n",
    "        \n",
    "    def phi_observe(self,change):\n",
    "        self.phi = change.new\n",
    "        self.update()\n",
    "        \n",
    "    def autoplay_clicked(self,obj):\n",
    "        self.autoplay = not self.autoplay\n",
    "        with self.logscr: print('Toggling autoplay',self.autoplay) \n",
    "\n",
    "    def clear_log_clicked(self,b):\n",
    "        with self.logscr: clear_output()                   \n",
    "\n"
   ]
  },
  {
   "cell_type": "markdown",
   "metadata": {},
   "source": [
    "## DEMO 1: Waveform and Spectrum of Harmonic Signals\n",
    "\n",
    "\n",
    "In this demo periodic signals are generated that can be characterized as a harmonic complex of sine waves.\n",
    "\n",
    "$y= A \\sum_k \\alpha_k  sin(2  \\pi k f_0 t+\\Phi)$\n",
    "\n",
    "In addition signals can be generated with either time-varying amplitude (e.g. Gaussian pulse) or time-varying frequency (e.g. chirps). \n",
    "\n",
    "You can control:\n",
    "- The fundamental frequency $f_0$  (named \"frequency\" in the control panel)  \n",
    "- The overall amplitude $A$\n",
    "- The relative amplitude of the harmonics $\\alpha_k$ by choosing from a set of predefined harmonic functions\n",
    "- The global phase $\\Phi$  (you cannot control relative phase differences per harmonic component)\n",
    "\n",
    "Signal Types to choose from:\n",
    "- stationary and periodic\n",
    "    + sine wave\n",
    "    + square \n",
    "    + sawtooth\n",
    "- non stationary signals:\n",
    "    + chirp 1:10 : ramping up the frequency by a factor of 20\n",
    "    + chirp 20:1 : ramping down the frequency by a factor of 20\n",
    "    + gausspulse\n",
    "\n",
    "    \n",
    "Displays to choose from:\n",
    "- spectrum: most appropiate for stationary signals\n",
    "- spectrogram: essential for non-stationary signals\n",
    "    \n",
    "CAVEAT:   \n",
    "+ The Autoplay function does not always work properly on Ipython < 6.0 [Google Colab] which has autonormalization by default in the display.Audio() function"
   ]
  },
  {
   "cell_type": "code",
   "execution_count": 3,
   "metadata": {},
   "outputs": [
    {
     "data": {
      "application/vnd.jupyter.widget-view+json": {
       "model_id": "e58d6b49b9854b3ea82041377169e209",
       "version_major": 2,
       "version_minor": 0
      },
      "text/plain": [
       "Harmonic_Signals(children=(Output(layout=Layout(border='solid 1px black', margin='0px 10px 10px 0px', padding=…"
      ]
     },
     "metadata": {},
     "output_type": "display_data"
    }
   ],
   "source": [
    "Harmonic_Signals(Tmax=.3,sample_rate=8000,freq_range=[1.,500.]) "
   ]
  },
  {
   "cell_type": "code",
   "execution_count": null,
   "metadata": {},
   "outputs": [],
   "source": []
  }
 ],
 "metadata": {
  "kernelspec": {
   "display_name": "Python 3",
   "language": "python",
   "name": "python3"
  },
  "language_info": {
   "codemirror_mode": {
    "name": "ipython",
    "version": 3
   },
   "file_extension": ".py",
   "mimetype": "text/x-python",
   "name": "python",
   "nbconvert_exporter": "python",
   "pygments_lexer": "ipython3",
   "version": "3.7.8"
  },
  "widgets": {
   "application/vnd.jupyter.widget-state+json": {
    "state": {
     "0598ead6cc8743c5ad207674f0d06030": {
      "model_module": "@jupyter-widgets/base",
      "model_module_version": "1.2.0",
      "model_name": "LayoutModel",
      "state": {
       "width": "50%"
      }
     },
     "08721fa2976646a2a06972905f1dc67d": {
      "model_module": "@jupyter-widgets/controls",
      "model_module_version": "1.5.0",
      "model_name": "ButtonModel",
      "state": {
       "description": "Clear the log",
       "layout": "IPY_MODEL_326e8766982c407aa2196185acf5fe68",
       "style": "IPY_MODEL_a4c15949b486448189df9a1c56200cbf"
      }
     },
     "290b7682091147de8a95be846187f51d": {
      "model_module": "@jupyter-widgets/base",
      "model_module_version": "1.2.0",
      "model_name": "LayoutModel",
      "state": {}
     },
     "2aacb5e7324c45c18c8e44d8f0f6c36e": {
      "model_module": "@jupyter-widgets/controls",
      "model_module_version": "1.5.0",
      "model_name": "SliderStyleModel",
      "state": {
       "description_width": ""
      }
     },
     "2d00bfa4adba466eb2971e90d90adf8f": {
      "model_module": "@jupyter-widgets/base",
      "model_module_version": "1.2.0",
      "model_name": "LayoutModel",
      "state": {}
     },
     "326e8766982c407aa2196185acf5fe68": {
      "model_module": "@jupyter-widgets/base",
      "model_module_version": "1.2.0",
      "model_name": "LayoutModel",
      "state": {
       "width": "50%"
      }
     },
     "3347e00b006f42088f05ea804d4c4e6c": {
      "model_module": "@jupyter-widgets/controls",
      "model_module_version": "1.5.0",
      "model_name": "DescriptionStyleModel",
      "state": {
       "description_width": ""
      }
     },
     "38e82ba41d5d475094382e0066dfddde": {
      "model_module": "@jupyter-widgets/controls",
      "model_module_version": "1.5.0",
      "model_name": "VBoxModel",
      "state": {
       "children": [
        "IPY_MODEL_efb0afd1cf12443c8fff7e344578580e",
        "IPY_MODEL_495524e4f4d940b8bfc6ad45f00e1822",
        "IPY_MODEL_431ce0a27faf4040981e21e8ababfe0f",
        "IPY_MODEL_9487ce24e8eb46469e331d944f994122",
        "IPY_MODEL_daa9071bf5e24c278711f812ed30d637",
        "IPY_MODEL_9400814bd342466e9287401fe0934e97"
       ],
       "layout": "IPY_MODEL_96fc4f45583e44768c41a17b7070b083"
      }
     },
     "3e82ac19e3a74ec2aa18bead3583b664": {
      "model_module": "@jupyter-widgets/controls",
      "model_module_version": "1.5.0",
      "model_name": "SliderStyleModel",
      "state": {
       "description_width": ""
      }
     },
     "431ce0a27faf4040981e21e8ababfe0f": {
      "model_module": "@jupyter-widgets/controls",
      "model_module_version": "1.5.0",
      "model_name": "FloatLogSliderModel",
      "state": {
       "description": "Amplitude",
       "layout": "IPY_MODEL_a78bdfbf3257440ab16ee99d0659b3f9",
       "max": 0,
       "min": -2,
       "step": 0.2,
       "style": "IPY_MODEL_3e82ac19e3a74ec2aa18bead3583b664",
       "value": 0.015848931924611134
      }
     },
     "495524e4f4d940b8bfc6ad45f00e1822": {
      "model_module": "@jupyter-widgets/controls",
      "model_module_version": "1.5.0",
      "model_name": "DropdownModel",
      "state": {
       "_options_labels": [
        "sin",
        "square",
        "sawtooth",
        "chirp 1:20",
        "chirp 20:1",
        "gausspulse",
        "modulated white noise"
       ],
       "description": "Signal",
       "index": 3,
       "layout": "IPY_MODEL_ad90b72674ee4db9af45cabac8169fe1",
       "style": "IPY_MODEL_7a57ce8f6dc5463581acb501d4c75ead"
      }
     },
     "4a31bf7a16da42b5b833e09b2b1de24e": {
      "model_module": "@jupyter-widgets/controls",
      "model_module_version": "1.5.0",
      "model_name": "VBoxModel",
      "state": {
       "children": [
        "IPY_MODEL_38e82ba41d5d475094382e0066dfddde",
        "IPY_MODEL_5b16df57cae44f508a7c354d2da335c2",
        "IPY_MODEL_08721fa2976646a2a06972905f1dc67d",
        "IPY_MODEL_55a822e3bd644158bc1c0749c1d411aa"
       ],
       "layout": "IPY_MODEL_5855de66c1cc42a69d6e050b929ab9b2"
      }
     },
     "55a822e3bd644158bc1c0749c1d411aa": {
      "model_module": "@jupyter-widgets/output",
      "model_module_version": "1.0.0",
      "model_name": "OutputModel",
      "state": {
       "layout": "IPY_MODEL_729b3ce6559345319e44149b940f7b18",
       "outputs": [
        {
         "name": "stdout",
         "output_type": "stream",
         "text": "Toggling autoplay True\n"
        }
       ]
      }
     },
     "5855de66c1cc42a69d6e050b929ab9b2": {
      "model_module": "@jupyter-widgets/base",
      "model_module_version": "1.2.0",
      "model_name": "LayoutModel",
      "state": {
       "border": "solid 1px black",
       "margin": "0px 10px 10px 0px",
       "padding": "5px 5px 5px 5px"
      }
     },
     "5a8267922fe54c0db8b4255f64f5908e": {
      "model_module": "@jupyter-widgets/controls",
      "model_module_version": "1.5.0",
      "model_name": "DescriptionStyleModel",
      "state": {
       "description_width": ""
      }
     },
     "5b16df57cae44f508a7c354d2da335c2": {
      "model_module": "@jupyter-widgets/output",
      "model_module_version": "1.0.0",
      "model_name": "OutputModel",
      "state": {
       "layout": "IPY_MODEL_290b7682091147de8a95be846187f51d",
       "outputs": [
        {
         "data": {
          "text/html": "\n                <audio  controls=\"controls\" autoplay=\"autoplay\">\n                    <source src=\"data:audio/wav;base64,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\" type=\"audio/wav\" />\n                    Your browser does not support the audio element.\n                </audio>\n              ",
          "text/plain": "<IPython.lib.display.Audio object>"
         },
         "metadata": {},
         "output_type": "display_data"
        }
       ]
      }
     },
     "729b3ce6559345319e44149b940f7b18": {
      "model_module": "@jupyter-widgets/base",
      "model_module_version": "1.2.0",
      "model_name": "LayoutModel",
      "state": {}
     },
     "79e05864a091450683aa11038629a2a8": {
      "model_module": "@jupyter-widgets/controls",
      "model_module_version": "1.5.0",
      "model_name": "SliderStyleModel",
      "state": {
       "description_width": ""
      }
     },
     "7a57ce8f6dc5463581acb501d4c75ead": {
      "model_module": "@jupyter-widgets/controls",
      "model_module_version": "1.5.0",
      "model_name": "DescriptionStyleModel",
      "state": {
       "description_width": ""
      }
     },
     "82674f319af648aab2a947791be6dd48": {
      "model_module": "@jupyter-widgets/base",
      "model_module_version": "1.2.0",
      "model_name": "LayoutModel",
      "state": {
       "border": "solid 1px black",
       "margin": "0px 10px 10px 0px",
       "padding": "5px 5px 5px 5px"
      }
     },
     "9400814bd342466e9287401fe0934e97": {
      "model_module": "@jupyter-widgets/controls",
      "model_module_version": "1.5.0",
      "model_name": "CheckboxModel",
      "state": {
       "description": "Autoplay Audio",
       "disabled": false,
       "indent": false,
       "layout": "IPY_MODEL_0598ead6cc8743c5ad207674f0d06030",
       "style": "IPY_MODEL_3347e00b006f42088f05ea804d4c4e6c",
       "value": true
      }
     },
     "9487ce24e8eb46469e331d944f994122": {
      "model_module": "@jupyter-widgets/controls",
      "model_module_version": "1.5.0",
      "model_name": "FloatSliderModel",
      "state": {
       "description": "Frequency",
       "layout": "IPY_MODEL_2d00bfa4adba466eb2971e90d90adf8f",
       "max": 500,
       "min": 1,
       "step": 10,
       "style": "IPY_MODEL_79e05864a091450683aa11038629a2a8",
       "value": 61
      }
     },
     "96fc4f45583e44768c41a17b7070b083": {
      "model_module": "@jupyter-widgets/base",
      "model_module_version": "1.2.0",
      "model_name": "LayoutModel",
      "state": {
       "border": "solid 1px black",
       "margin": "0px 10px 10px 0px",
       "padding": "5px 5px 5px 5px"
      }
     },
     "a4c15949b486448189df9a1c56200cbf": {
      "model_module": "@jupyter-widgets/controls",
      "model_module_version": "1.5.0",
      "model_name": "ButtonStyleModel",
      "state": {}
     },
     "a78bdfbf3257440ab16ee99d0659b3f9": {
      "model_module": "@jupyter-widgets/base",
      "model_module_version": "1.2.0",
      "model_name": "LayoutModel",
      "state": {}
     },
     "a830008623f14a8fbf55be713281a5d0": {
      "model_module": "@jupyter-widgets/base",
      "model_module_version": "1.2.0",
      "model_name": "LayoutModel",
      "state": {}
     },
     "ad90b72674ee4db9af45cabac8169fe1": {
      "model_module": "@jupyter-widgets/base",
      "model_module_version": "1.2.0",
      "model_name": "LayoutModel",
      "state": {}
     },
     "bcfdd46eb1754f9692d0a16de3de06f9": {
      "model_module": "@jupyter-widgets/base",
      "model_module_version": "1.2.0",
      "model_name": "LayoutModel",
      "state": {}
     },
     "c772883eb1cd48ec836742a7eb69e018": {
      "model_module": "@jupyter-widgets/output",
      "model_module_version": "1.0.0",
      "model_name": "OutputModel",
      "state": {
       "layout": "IPY_MODEL_82674f319af648aab2a947791be6dd48",
       "outputs": [
        {
         "data": {
          "image/png": "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\n",
          "text/plain": "<Figure size 600x400 with 2 Axes>"
         },
         "metadata": {},
         "output_type": "display_data"
        }
       ]
      }
     },
     "ccfb3541ec3f41a0a065498394630f65": {
      "model_module": "@jupyter-widgets/base",
      "model_module_version": "1.2.0",
      "model_name": "LayoutModel",
      "state": {}
     },
     "daa9071bf5e24c278711f812ed30d637": {
      "model_module": "@jupyter-widgets/controls",
      "model_module_version": "1.5.0",
      "model_name": "FloatSliderModel",
      "state": {
       "description": "Phase",
       "layout": "IPY_MODEL_ccfb3541ec3f41a0a065498394630f65",
       "max": 6.283185307179586,
       "step": 0.1,
       "style": "IPY_MODEL_2aacb5e7324c45c18c8e44d8f0f6c36e",
       "value": 4.1
      }
     },
     "e58d6b49b9854b3ea82041377169e209": {
      "model_module": "@jupyter-widgets/controls",
      "model_module_version": "1.5.0",
      "model_name": "HBoxModel",
      "state": {
       "children": [
        "IPY_MODEL_c772883eb1cd48ec836742a7eb69e018",
        "IPY_MODEL_4a31bf7a16da42b5b833e09b2b1de24e"
       ],
       "layout": "IPY_MODEL_bcfdd46eb1754f9692d0a16de3de06f9"
      }
     },
     "efb0afd1cf12443c8fff7e344578580e": {
      "model_module": "@jupyter-widgets/controls",
      "model_module_version": "1.5.0",
      "model_name": "DropdownModel",
      "state": {
       "_options_labels": [
        "spectrum",
        "spectrogram"
       ],
       "description": "Display",
       "index": 0,
       "layout": "IPY_MODEL_a830008623f14a8fbf55be713281a5d0",
       "style": "IPY_MODEL_5a8267922fe54c0db8b4255f64f5908e"
      }
     }
    },
    "version_major": 2,
    "version_minor": 0
   }
  }
 },
 "nbformat": 4,
 "nbformat_minor": 4
}
