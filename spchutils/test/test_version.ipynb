{
 "cells": [
  {
   "cell_type": "markdown",
   "metadata": {},
   "source": [
    "<a href=\"https://colab.research.google.com/github/compi1234/spchutils/blob/master/test/test_version.ipynb\" target=\"_parent\"><img src=\"https://colab.research.google.com/assets/colab-badge.svg\" alt=\"Open In Colab\"/></a>"
   ]
  },
  {
   "cell_type": "code",
   "execution_count": null,
   "metadata": {},
   "outputs": [],
   "source": [
    "try:\n",
    "  import google.colab\n",
    "  IN_COLAB = True\n",
    "  ! pip install git+https://github.com/compi1234/spchutils.git\n",
    "except:\n",
    "  IN_COLAB = False"
   ]
  },
  {
   "cell_type": "code",
   "execution_count": 1,
   "metadata": {},
   "outputs": [
    {
     "name": "stdout",
     "output_type": "stream",
     "text": [
      "Help on package spchutils:\n",
      "\n",
      "NAME\n",
      "    spchutils\n",
      "\n",
      "PACKAGE CONTENTS\n",
      "    audio\n",
      "    constants\n",
      "    spectrogram\n",
      "    uplotly\n",
      "    utils\n",
      "\n",
      "DATA\n",
      "    __all__ = ['audio', 'spectrogram', 'utils']\n",
      "    __magic__ = 'a magic number'\n",
      "\n",
      "VERSION\n",
      "    0.1.dev1\n",
      "\n",
      "FILE\n",
      "    c:\\users\\compi\\nextcloud\\github\\spchutils\\spchutils\\__init__.py\n",
      "\n",
      "\n",
      "0.1.dev1\n"
     ]
    }
   ],
   "source": [
    "import spchutils\n",
    "help (spchutils)\n",
    "print(spchutils.__version__)"
   ]
  },
  {
   "cell_type": "code",
   "execution_count": 5,
   "metadata": {},
   "outputs": [
    {
     "name": "stdout",
     "output_type": "stream",
     "text": [
      "0.1.dev1\n"
     ]
    }
   ],
   "source": [
    "print(spchutils.__version__)"
   ]
  },
  {
   "cell_type": "code",
   "execution_count": 3,
   "metadata": {},
   "outputs": [
    {
     "name": "stdout",
     "output_type": "stream",
     "text": [
      "Help on module spchutils.audio in spchutils:\n",
      "\n",
      "NAME\n",
      "    spchutils.audio\n",
      "\n",
      "DESCRIPTION\n",
      "    # A set of utilities for audio IO and essential handling\n",
      "    #\n",
      "    # Data Formats: \n",
      "    # audio data is passed as (float32) numpy arrays using the 'implicit mono' convention ( librosa) \n",
      "    #    + (n_samples,_) for mono \n",
      "    #    + (n_channels,n_samples) for multichannel data \n",
      "    #\n",
      "    # Alternatives:\n",
      "    # (i) PyTorchAudio uses Explicit mono with channel first: i.e.\n",
      "    #    all data is stored in 2D arrays (n_channels,n_samples) \n",
      "    # \n",
      "    # (ii) Audio Streaming Formats \n",
      "    #     always organize data as  n_samples * ( n_channels (* sample_width) )\n",
      "    #     This is more convenient for I/O, but less convenient for speech processing\n",
      "    #\n",
      "    # Dependencies: \n",
      "    #   - soundfile >= 0.9 \n",
      "    #   - pydub\n",
      "    #   - librosa = 0.8.0\n",
      "    #   - numba>= 0.43.0,<= 0.48.0\n",
      "    #   - (Google Colab): soundfile and pydub may need to be installed before you can use this\n",
      "    #\n",
      "\n",
      "FUNCTIONS\n",
      "    get_fobj(resource)\n",
      "        returns a file like object for reading from either a filename (local) or a URL resource\n",
      "        \n",
      "        A URL resource is read into a BytesIO object, while filenames are left unchanged\n",
      "    \n",
      "    load(resource, sample_rate=None, **kwargs)\n",
      "        This is a tiny wrapper around librosa.load() to accomodate for specifying a resource\n",
      "        both by url or filename\n",
      "        \n",
      "        Parameters:\n",
      "        -----------\n",
      "            resource : string          \n",
      "                url or file name\n",
      "            sample_rate : int (optional)\n",
      "                if given, resample to the target sampling rate\n",
      "            **kwargs \n",
      "                extra parameters to be passed to librosa\n",
      "                e.g. mono(boolean)\n",
      "                \n",
      "        Returns:\n",
      "        --------\n",
      "            wavdata : float-32 array, shape (n_samples, ) for mono or (n_channels, n_samples)\n",
      "                the waveform data are scaled to [-1., 1.]\n",
      "            sample_rate : int\n",
      "                sampling rate of returned signal\n",
      "    \n",
      "    play(wavdata, sample_rate=16000, channels=None, io_device='sd', wait=False)\n",
      "        Play an audio waveform either via the local sounddevice or display a HTML/js object\n",
      "        \n",
      "        \n",
      "        Parameters\n",
      "        ----------\n",
      "            wavdata : array of (n_channels,n_samples) or (n_samples,)\n",
      "                waveform data\n",
      "            sample_rate : int\n",
      "                sampling rate (default=16000)\n",
      "            channels : array of int's (default = None)\n",
      "                channels to be played, if None all channels are played \n",
      "            io_device : string\n",
      "                device from which to record (default='sd')\n",
      "                currently supporting 'sd' or 'js' (or 'IPython')\n",
      "            wait : boolean (default=False)\n",
      "                wait to return till play is finished (only applicable to sounddevice)\n",
      "    \n",
      "    record(seconds=2.0, sample_rate=16000, n_channels=1, io_device='sd')\n",
      "        Parameters\n",
      "        ----------\n",
      "            seconds : float\n",
      "                number of seconds to record (default=2.0)\n",
      "            sample_rate : int\n",
      "                sampling rate (default=16000)\n",
      "            n_channels : int\n",
      "                number of channels to record (default=1)\n",
      "            io_device : string\n",
      "                device from which to record (default='sd')\n",
      "                currently supporting 'sd' or 'js'\n",
      "                \n",
      "        Returns\n",
      "        -------\n",
      "            wavdata : float-32 array, shape (n_sample,_) or (n_channels, n_samples)\n",
      "                the waveform data scaled to [-1., 1.]\n",
      "    \n",
      "    save(filename, wavdata, sample_rate, **kwargs)\n",
      "        Save a one or multi-d waveform data using soundfile\n",
      "\n",
      "DATA\n",
      "    IN_COLAB = False\n",
      "    IO_DEVICE = 'sd'\n",
      "\n",
      "FILE\n",
      "    c:\\users\\compi\\nextcloud\\github\\spchutils\\spchutils\\audio.py\n",
      "\n",
      "\n"
     ]
    }
   ],
   "source": [
    "from  spchutils import audio\n",
    "help(audio)"
   ]
  },
  {
   "cell_type": "code",
   "execution_count": null,
   "metadata": {},
   "outputs": [],
   "source": []
  }
 ],
 "metadata": {
  "kernelspec": {
   "display_name": "Python 3",
   "language": "python",
   "name": "python3"
  },
  "language_info": {
   "codemirror_mode": {
    "name": "ipython",
    "version": 3
   },
   "file_extension": ".py",
   "mimetype": "text/x-python",
   "name": "python",
   "nbconvert_exporter": "python",
   "pygments_lexer": "ipython3",
   "version": "3.7.8"
  },
  "widgets": {
   "application/vnd.jupyter.widget-state+json": {
    "state": {},
    "version_major": 2,
    "version_minor": 0
   }
  }
 },
 "nbformat": 4,
 "nbformat_minor": 4
}
